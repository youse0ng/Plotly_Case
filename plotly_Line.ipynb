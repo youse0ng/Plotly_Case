{
 "cells": [
  {
   "cell_type": "code",
   "execution_count": 1,
   "metadata": {},
   "outputs": [],
   "source": [
    "import numpy as np\n",
    "import pandas as pd\n",
    "import json\n",
    "from urllib.request import urlopen\n",
    "import plotly.io as pio\n",
    "import plotly.express as px # 빠르게 시각화 차트 그리기\n",
    "import plotly.graph_objects as go # 자세하게 설정을 해서 차트그릴때\n",
    "import plotly.figure_factory as ff\n",
    "from plotly.subplots import make_subplots # 서브플롯 그릴때\n",
    "from plotly.validators.scatter.marker import SymbolValidator # 마커 그릴 때 "
   ]
  },
  {
   "cell_type": "code",
   "execution_count": 3,
   "metadata": {},
   "outputs": [],
   "source": [
    "gapminder = px.data.gapminder()\n",
    "tips = px.data.tips()\n",
    "iris = px.data.iris()"
   ]
  },
  {
   "cell_type": "code",
   "execution_count": 4,
   "metadata": {},
   "outputs": [
    {
     "data": {
      "application/vnd.plotly.v1+json": {
       "config": {
        "plotlyServerURL": "https://plot.ly"
       },
       "data": [
        {
         "hovertemplate": "time=%{x}<br>cos(t)=%{y}<extra></extra>",
         "legendgroup": "",
         "line": {
          "color": "#636efa",
          "dash": "solid"
         },
         "marker": {
          "symbol": "circle"
         },
         "mode": "lines",
         "name": "",
         "orientation": "v",
         "showlegend": false,
         "type": "scatter",
         "x": [
          0,
          0.09969297374837735,
          0.1993859474967547,
          0.299078921245132,
          0.3987718949935094,
          0.4984648687418868,
          0.598157842490264,
          0.6978508162386414,
          0.7975437899870188,
          0.8972367637353962,
          0.9969297374837736,
          1.096622711232151,
          1.196315684980528,
          1.2960086587289055,
          1.3957016324772828,
          1.4953946062256602,
          1.5950875799740376,
          1.694780553722415,
          1.7944735274707924,
          1.8941665012191697,
          1.9938594749675471,
          2.0935524487159243,
          2.193245422464302,
          2.292938396212679,
          2.392631369961056,
          2.492324343709434,
          2.592017317457811,
          2.6917102912061885,
          2.7914032649545657,
          2.8910962387029433,
          2.9907892124513205,
          3.090482186199698,
          3.190175159948075,
          3.2898681336964524,
          3.38956110744483,
          3.489254081193207,
          3.5889470549415847,
          3.688640028689962,
          3.7883330024383395,
          3.8880259761867166,
          3.9877189499350942,
          4.087411923683471,
          4.1871048974318485,
          4.286797871180226,
          4.386490844928604,
          4.486183818676981,
          4.585876792425358,
          4.685569766173735,
          4.785262739922112,
          4.88495571367049,
          4.984648687418868,
          5.084341661167245,
          5.184034634915622,
          5.283727608664,
          5.383420582412377,
          5.483113556160754,
          5.582806529909131,
          5.6824995036575086,
          5.782192477405887,
          5.881885451154264,
          5.981578424902641,
          6.081271398651018,
          6.180964372399396,
          6.280657346147773,
          6.38035031989615,
          6.480043293644528,
          6.579736267392905,
          6.679429241141283,
          6.77912221488966,
          6.878815188638037,
          6.978508162386414,
          7.078201136134792,
          7.1778941098831694,
          7.277587083631547,
          7.377280057379924,
          7.476973031128301,
          7.576666004876679,
          7.676358978625056,
          7.776051952373433,
          7.87574492612181,
          7.9754378998701885,
          8.075130873618566,
          8.174823847366943,
          8.27451682111532,
          8.374209794863697,
          8.473902768612074,
          8.573595742360451,
          8.67328871610883,
          8.772981689857207,
          8.872674663605585,
          8.972367637353962,
          9.072060611102339,
          9.171753584850716,
          9.271446558599093,
          9.37113953234747,
          9.470832506095848,
          9.570525479844225,
          9.670218453592604,
          9.76991142734098,
          9.869604401089358
         ],
         "xaxis": "x",
         "y": [
          1,
          0.9950347698601513,
          0.9801883864612881,
          0.9556082812240505,
          0.9215385459071673,
          0.8783175086639428,
          0.826374374287968,
          0.7662249620119667,
          0.6984665831853926,
          0.6237721096978,
          0.5428832920512702,
          0.4566033934365138,
          0.3657892129596612,
          0.27134257723277067,
          0.17420138482047934,
          0.0753302924755599,
          -0.024288864346646073,
          -0.12366682156621872,
          -0.2218167103263116,
          -0.3177638570551358,
          -0.41055546242315055,
          -0.4992700630789591,
          -0.5830266822045204,
          -0.6609935780204453,
          -0.7323965033647032,
          -0.7965263943233089,
          -0.8527464115613558,
          -0.9004982644307383,
          -0.9393077550532546,
          -0.9687894873238028,
          -0.9886506940710932,
          -0.9986941443704154,
          -0.9988201021375005,
          -0.9890273165537457,
          -0.969413034487418,
          -0.9401720347874921,
          -0.9015946940400263,
          -0.8540641029950102,
          -0.7980522622988864,
          -0.734115395310881,
          -0.6628884245490261,
          -0.585078666617316,
          -0.5014588082262644,
          -0.41285923305821737,
          -0.3201597756751785,
          -0.22428098435664118,
          -0.1261749796314588,
          -0.02681599928275455,
          0.07280927628168748,
          0.17171152222002156,
          0.26890859370738246,
          0.3634352790860628,
          0.4543528848615383,
          0.540758557360931,
          0.6217942484855437,
          0.6966552365234262,
          0.7645981174063697,
          0.8249481870544776,
          0.8771061414982331,
          0.920554028242761,
          0.9548603897745087,
          0.979684548132944,
          0.994779987999512,
          0.9999968047082125,
          0.9952831928679337,
          0.9806859608138293,
          0.9563500657790062,
          0.9225171744024783,
          0.8795232628682079,
          0.8277952805069548,
          0.7678469099929065,
          0.7002734662382843,
          0.6257459846422575,
          0.5450045574005604,
          0.45885098404934294,
          0.3681408092267233,
          0.2737748267207412,
          0.17669013417242851,
          0.07785082726490208,
          -0.021761574190520046,
          -0.12115787319782041,
          -0.21935101875775628,
          -0.3153659077386071,
          -0.4082490680990889,
          -0.49707812730458917,
          -0.5809709719109848,
          -0.6590945073571611,
          -0.7306729309774616,
          -0.7949954360792388,
          -0.8514232705804903,
          -0.8993960801120322,
          -0.9384374725943058,
          -0.9681597490300019,
          -0.9882677535335537,
          -0.9985618043649346,
          -0.9989396768612464,
          -0.9893976185746738,
          -0.9700303865360176,
          -0.941030306273766,
          -0.9026853619330714
         ],
         "yaxis": "y"
        }
       ],
       "layout": {
        "legend": {
         "tracegroupgap": 0
        },
        "margin": {
         "t": 60
        },
        "template": {
         "data": {
          "bar": [
           {
            "error_x": {
             "color": "#2a3f5f"
            },
            "error_y": {
             "color": "#2a3f5f"
            },
            "marker": {
             "line": {
              "color": "#E5ECF6",
              "width": 0.5
             },
             "pattern": {
              "fillmode": "overlay",
              "size": 10,
              "solidity": 0.2
             }
            },
            "type": "bar"
           }
          ],
          "barpolar": [
           {
            "marker": {
             "line": {
              "color": "#E5ECF6",
              "width": 0.5
             },
             "pattern": {
              "fillmode": "overlay",
              "size": 10,
              "solidity": 0.2
             }
            },
            "type": "barpolar"
           }
          ],
          "carpet": [
           {
            "aaxis": {
             "endlinecolor": "#2a3f5f",
             "gridcolor": "white",
             "linecolor": "white",
             "minorgridcolor": "white",
             "startlinecolor": "#2a3f5f"
            },
            "baxis": {
             "endlinecolor": "#2a3f5f",
             "gridcolor": "white",
             "linecolor": "white",
             "minorgridcolor": "white",
             "startlinecolor": "#2a3f5f"
            },
            "type": "carpet"
           }
          ],
          "choropleth": [
           {
            "colorbar": {
             "outlinewidth": 0,
             "ticks": ""
            },
            "type": "choropleth"
           }
          ],
          "contour": [
           {
            "colorbar": {
             "outlinewidth": 0,
             "ticks": ""
            },
            "colorscale": [
             [
              0,
              "#0d0887"
             ],
             [
              0.1111111111111111,
              "#46039f"
             ],
             [
              0.2222222222222222,
              "#7201a8"
             ],
             [
              0.3333333333333333,
              "#9c179e"
             ],
             [
              0.4444444444444444,
              "#bd3786"
             ],
             [
              0.5555555555555556,
              "#d8576b"
             ],
             [
              0.6666666666666666,
              "#ed7953"
             ],
             [
              0.7777777777777778,
              "#fb9f3a"
             ],
             [
              0.8888888888888888,
              "#fdca26"
             ],
             [
              1,
              "#f0f921"
             ]
            ],
            "type": "contour"
           }
          ],
          "contourcarpet": [
           {
            "colorbar": {
             "outlinewidth": 0,
             "ticks": ""
            },
            "type": "contourcarpet"
           }
          ],
          "heatmap": [
           {
            "colorbar": {
             "outlinewidth": 0,
             "ticks": ""
            },
            "colorscale": [
             [
              0,
              "#0d0887"
             ],
             [
              0.1111111111111111,
              "#46039f"
             ],
             [
              0.2222222222222222,
              "#7201a8"
             ],
             [
              0.3333333333333333,
              "#9c179e"
             ],
             [
              0.4444444444444444,
              "#bd3786"
             ],
             [
              0.5555555555555556,
              "#d8576b"
             ],
             [
              0.6666666666666666,
              "#ed7953"
             ],
             [
              0.7777777777777778,
              "#fb9f3a"
             ],
             [
              0.8888888888888888,
              "#fdca26"
             ],
             [
              1,
              "#f0f921"
             ]
            ],
            "type": "heatmap"
           }
          ],
          "heatmapgl": [
           {
            "colorbar": {
             "outlinewidth": 0,
             "ticks": ""
            },
            "colorscale": [
             [
              0,
              "#0d0887"
             ],
             [
              0.1111111111111111,
              "#46039f"
             ],
             [
              0.2222222222222222,
              "#7201a8"
             ],
             [
              0.3333333333333333,
              "#9c179e"
             ],
             [
              0.4444444444444444,
              "#bd3786"
             ],
             [
              0.5555555555555556,
              "#d8576b"
             ],
             [
              0.6666666666666666,
              "#ed7953"
             ],
             [
              0.7777777777777778,
              "#fb9f3a"
             ],
             [
              0.8888888888888888,
              "#fdca26"
             ],
             [
              1,
              "#f0f921"
             ]
            ],
            "type": "heatmapgl"
           }
          ],
          "histogram": [
           {
            "marker": {
             "pattern": {
              "fillmode": "overlay",
              "size": 10,
              "solidity": 0.2
             }
            },
            "type": "histogram"
           }
          ],
          "histogram2d": [
           {
            "colorbar": {
             "outlinewidth": 0,
             "ticks": ""
            },
            "colorscale": [
             [
              0,
              "#0d0887"
             ],
             [
              0.1111111111111111,
              "#46039f"
             ],
             [
              0.2222222222222222,
              "#7201a8"
             ],
             [
              0.3333333333333333,
              "#9c179e"
             ],
             [
              0.4444444444444444,
              "#bd3786"
             ],
             [
              0.5555555555555556,
              "#d8576b"
             ],
             [
              0.6666666666666666,
              "#ed7953"
             ],
             [
              0.7777777777777778,
              "#fb9f3a"
             ],
             [
              0.8888888888888888,
              "#fdca26"
             ],
             [
              1,
              "#f0f921"
             ]
            ],
            "type": "histogram2d"
           }
          ],
          "histogram2dcontour": [
           {
            "colorbar": {
             "outlinewidth": 0,
             "ticks": ""
            },
            "colorscale": [
             [
              0,
              "#0d0887"
             ],
             [
              0.1111111111111111,
              "#46039f"
             ],
             [
              0.2222222222222222,
              "#7201a8"
             ],
             [
              0.3333333333333333,
              "#9c179e"
             ],
             [
              0.4444444444444444,
              "#bd3786"
             ],
             [
              0.5555555555555556,
              "#d8576b"
             ],
             [
              0.6666666666666666,
              "#ed7953"
             ],
             [
              0.7777777777777778,
              "#fb9f3a"
             ],
             [
              0.8888888888888888,
              "#fdca26"
             ],
             [
              1,
              "#f0f921"
             ]
            ],
            "type": "histogram2dcontour"
           }
          ],
          "mesh3d": [
           {
            "colorbar": {
             "outlinewidth": 0,
             "ticks": ""
            },
            "type": "mesh3d"
           }
          ],
          "parcoords": [
           {
            "line": {
             "colorbar": {
              "outlinewidth": 0,
              "ticks": ""
             }
            },
            "type": "parcoords"
           }
          ],
          "pie": [
           {
            "automargin": true,
            "type": "pie"
           }
          ],
          "scatter": [
           {
            "fillpattern": {
             "fillmode": "overlay",
             "size": 10,
             "solidity": 0.2
            },
            "type": "scatter"
           }
          ],
          "scatter3d": [
           {
            "line": {
             "colorbar": {
              "outlinewidth": 0,
              "ticks": ""
             }
            },
            "marker": {
             "colorbar": {
              "outlinewidth": 0,
              "ticks": ""
             }
            },
            "type": "scatter3d"
           }
          ],
          "scattercarpet": [
           {
            "marker": {
             "colorbar": {
              "outlinewidth": 0,
              "ticks": ""
             }
            },
            "type": "scattercarpet"
           }
          ],
          "scattergeo": [
           {
            "marker": {
             "colorbar": {
              "outlinewidth": 0,
              "ticks": ""
             }
            },
            "type": "scattergeo"
           }
          ],
          "scattergl": [
           {
            "marker": {
             "colorbar": {
              "outlinewidth": 0,
              "ticks": ""
             }
            },
            "type": "scattergl"
           }
          ],
          "scattermapbox": [
           {
            "marker": {
             "colorbar": {
              "outlinewidth": 0,
              "ticks": ""
             }
            },
            "type": "scattermapbox"
           }
          ],
          "scatterpolar": [
           {
            "marker": {
             "colorbar": {
              "outlinewidth": 0,
              "ticks": ""
             }
            },
            "type": "scatterpolar"
           }
          ],
          "scatterpolargl": [
           {
            "marker": {
             "colorbar": {
              "outlinewidth": 0,
              "ticks": ""
             }
            },
            "type": "scatterpolargl"
           }
          ],
          "scatterternary": [
           {
            "marker": {
             "colorbar": {
              "outlinewidth": 0,
              "ticks": ""
             }
            },
            "type": "scatterternary"
           }
          ],
          "surface": [
           {
            "colorbar": {
             "outlinewidth": 0,
             "ticks": ""
            },
            "colorscale": [
             [
              0,
              "#0d0887"
             ],
             [
              0.1111111111111111,
              "#46039f"
             ],
             [
              0.2222222222222222,
              "#7201a8"
             ],
             [
              0.3333333333333333,
              "#9c179e"
             ],
             [
              0.4444444444444444,
              "#bd3786"
             ],
             [
              0.5555555555555556,
              "#d8576b"
             ],
             [
              0.6666666666666666,
              "#ed7953"
             ],
             [
              0.7777777777777778,
              "#fb9f3a"
             ],
             [
              0.8888888888888888,
              "#fdca26"
             ],
             [
              1,
              "#f0f921"
             ]
            ],
            "type": "surface"
           }
          ],
          "table": [
           {
            "cells": {
             "fill": {
              "color": "#EBF0F8"
             },
             "line": {
              "color": "white"
             }
            },
            "header": {
             "fill": {
              "color": "#C8D4E3"
             },
             "line": {
              "color": "white"
             }
            },
            "type": "table"
           }
          ]
         },
         "layout": {
          "annotationdefaults": {
           "arrowcolor": "#2a3f5f",
           "arrowhead": 0,
           "arrowwidth": 1
          },
          "autotypenumbers": "strict",
          "coloraxis": {
           "colorbar": {
            "outlinewidth": 0,
            "ticks": ""
           }
          },
          "colorscale": {
           "diverging": [
            [
             0,
             "#8e0152"
            ],
            [
             0.1,
             "#c51b7d"
            ],
            [
             0.2,
             "#de77ae"
            ],
            [
             0.3,
             "#f1b6da"
            ],
            [
             0.4,
             "#fde0ef"
            ],
            [
             0.5,
             "#f7f7f7"
            ],
            [
             0.6,
             "#e6f5d0"
            ],
            [
             0.7,
             "#b8e186"
            ],
            [
             0.8,
             "#7fbc41"
            ],
            [
             0.9,
             "#4d9221"
            ],
            [
             1,
             "#276419"
            ]
           ],
           "sequential": [
            [
             0,
             "#0d0887"
            ],
            [
             0.1111111111111111,
             "#46039f"
            ],
            [
             0.2222222222222222,
             "#7201a8"
            ],
            [
             0.3333333333333333,
             "#9c179e"
            ],
            [
             0.4444444444444444,
             "#bd3786"
            ],
            [
             0.5555555555555556,
             "#d8576b"
            ],
            [
             0.6666666666666666,
             "#ed7953"
            ],
            [
             0.7777777777777778,
             "#fb9f3a"
            ],
            [
             0.8888888888888888,
             "#fdca26"
            ],
            [
             1,
             "#f0f921"
            ]
           ],
           "sequentialminus": [
            [
             0,
             "#0d0887"
            ],
            [
             0.1111111111111111,
             "#46039f"
            ],
            [
             0.2222222222222222,
             "#7201a8"
            ],
            [
             0.3333333333333333,
             "#9c179e"
            ],
            [
             0.4444444444444444,
             "#bd3786"
            ],
            [
             0.5555555555555556,
             "#d8576b"
            ],
            [
             0.6666666666666666,
             "#ed7953"
            ],
            [
             0.7777777777777778,
             "#fb9f3a"
            ],
            [
             0.8888888888888888,
             "#fdca26"
            ],
            [
             1,
             "#f0f921"
            ]
           ]
          },
          "colorway": [
           "#636efa",
           "#EF553B",
           "#00cc96",
           "#ab63fa",
           "#FFA15A",
           "#19d3f3",
           "#FF6692",
           "#B6E880",
           "#FF97FF",
           "#FECB52"
          ],
          "font": {
           "color": "#2a3f5f"
          },
          "geo": {
           "bgcolor": "white",
           "lakecolor": "white",
           "landcolor": "#E5ECF6",
           "showlakes": true,
           "showland": true,
           "subunitcolor": "white"
          },
          "hoverlabel": {
           "align": "left"
          },
          "hovermode": "closest",
          "mapbox": {
           "style": "light"
          },
          "paper_bgcolor": "white",
          "plot_bgcolor": "#E5ECF6",
          "polar": {
           "angularaxis": {
            "gridcolor": "white",
            "linecolor": "white",
            "ticks": ""
           },
           "bgcolor": "#E5ECF6",
           "radialaxis": {
            "gridcolor": "white",
            "linecolor": "white",
            "ticks": ""
           }
          },
          "scene": {
           "xaxis": {
            "backgroundcolor": "#E5ECF6",
            "gridcolor": "white",
            "gridwidth": 2,
            "linecolor": "white",
            "showbackground": true,
            "ticks": "",
            "zerolinecolor": "white"
           },
           "yaxis": {
            "backgroundcolor": "#E5ECF6",
            "gridcolor": "white",
            "gridwidth": 2,
            "linecolor": "white",
            "showbackground": true,
            "ticks": "",
            "zerolinecolor": "white"
           },
           "zaxis": {
            "backgroundcolor": "#E5ECF6",
            "gridcolor": "white",
            "gridwidth": 2,
            "linecolor": "white",
            "showbackground": true,
            "ticks": "",
            "zerolinecolor": "white"
           }
          },
          "shapedefaults": {
           "line": {
            "color": "#2a3f5f"
           }
          },
          "ternary": {
           "aaxis": {
            "gridcolor": "white",
            "linecolor": "white",
            "ticks": ""
           },
           "baxis": {
            "gridcolor": "white",
            "linecolor": "white",
            "ticks": ""
           },
           "bgcolor": "#E5ECF6",
           "caxis": {
            "gridcolor": "white",
            "linecolor": "white",
            "ticks": ""
           }
          },
          "title": {
           "x": 0.05
          },
          "xaxis": {
           "automargin": true,
           "gridcolor": "white",
           "linecolor": "white",
           "ticks": "",
           "title": {
            "standoff": 15
           },
           "zerolinecolor": "white",
           "zerolinewidth": 2
          },
          "yaxis": {
           "automargin": true,
           "gridcolor": "white",
           "linecolor": "white",
           "ticks": "",
           "title": {
            "standoff": 15
           },
           "zerolinecolor": "white",
           "zerolinewidth": 2
          }
         }
        },
        "xaxis": {
         "anchor": "y",
         "domain": [
          0,
          1
         ],
         "title": {
          "text": "time"
         }
        },
        "yaxis": {
         "anchor": "x",
         "domain": [
          0,
          1
         ],
         "title": {
          "text": "cos(t)"
         }
        }
       }
      }
     },
     "metadata": {},
     "output_type": "display_data"
    }
   ],
   "source": [
    "t = np.linspace(0,np.pi**2,100)\n",
    "fig = px.line(x=t,\n",
    "              y=np.cos(t),\n",
    "              labels={'x':'time','y':'cos(t)'})\n",
    "fig.show()"
   ]
  },
  {
   "cell_type": "code",
   "execution_count": null,
   "metadata": {},
   "outputs": [],
   "source": [
    "gapminder_asia = gapminder.query('continent==\"Asia\"')\n",
    "gapminder_asia"
   ]
  },
  {
   "cell_type": "code",
   "execution_count": null,
   "metadata": {},
   "outputs": [],
   "source": [
    "fig = px.line(gapminder_asia,x='year',y='lifeExp',\n",
    "              color='country')\n",
    "fig.show()"
   ]
  },
  {
   "cell_type": "markdown",
   "metadata": {},
   "source": [
    "# 옵션 지정해서 라인 플롯 그리기"
   ]
  },
  {
   "cell_type": "markdown",
   "metadata": {},
   "source": [
    "## Interpolate 보간법에 관한 라인플롯"
   ]
  },
  {
   "cell_type": "markdown",
   "metadata": {},
   "source": [
    "hoverinfo는 Plotly에서 그래프에 마우스를 올렸을 때 표시되는 정보의 종류를 제어하는 속성입니다. \n",
    "\n",
    "이 속성을 사용하면 사용자에게 어떤 정보를 보여줄지 선택할 수 있습니다.\n",
    "\n",
    "사용 가능한 옵션\n",
    "- 'all': 모든 정보 표시 (x, y 값 및 추가 정보).\n",
    "- 'none': 아무 정보도 표시하지 않음.\n",
    "- 'x': x 값만 표시.\n",
    "- 'y': y 값만 표시.\n",
    "- 'text': 사용자 정의 텍스트만 표시.\n",
    "- 'x+y': x와 y 값만 표시.\n",
    "- 'nama' : 사용자 정의 이름만 표시"
   ]
  },
  {
   "cell_type": "code",
   "execution_count": null,
   "metadata": {},
   "outputs": [],
   "source": [
    "x = np.array([1,2,3,4,5])\n",
    "y= np.array([1,3,2,3,1])\n",
    "\n",
    "fig = go.Figure()\n",
    "fig.add_trace(go.Scatter(x=x,y=y,\n",
    "                         name='Linear', # 선형 보간\n",
    "                         line_shape='linear')) \n",
    "\n",
    "fig.add_trace(go.Scatter(x=x,y=y+10,\n",
    "                         name='spline', # 유선형 보간\n",
    "                         hoverinfo='text+name',\n",
    "                         line_shape='spline'))\n",
    "\n",
    "fig.add_trace(go.Scatter(x=x,y=y+20,\n",
    "                         name='vhv', # 중간값 vertical line 보간\n",
    "                         hoverinfo='text+name',\n",
    "                         line_shape='vhv'))\n",
    "\n",
    "fig.add_trace(go.Scatter(x=x,y=y+30,\n",
    "                         name='hvh', # horizontal 중간 보간\n",
    "                         hoverinfo='text+name',\n",
    "                         line_shape='hvh'))\n",
    "\n",
    "fig.add_trace(go.Scatter(x=x,y=y+40,\n",
    "                         name='vh',  # 이후 포인트 값 보간\n",
    "                         hoverinfo='text+name',\n",
    "                         line_shape='vh'))\n",
    "\n",
    "fig.add_trace(go.Scatter(x=x,y=y+50,\n",
    "                         name='hv', # 이전 포인트 값 보간\n",
    "                         hoverinfo='text+name',\n",
    "                         line_shape='hv'))\n",
    "\n",
    "fig.update_traces(hoverinfo='name',mode='lines+markers+text')\n",
    "\n",
    "fig.update_layout(legend={'y':0.5, # 범례 위치\n",
    "                          'traceorder':'reversed', # 범례 순서\n",
    "                          'font_size':16})\n",
    "fig.show()"
   ]
  },
  {
   "cell_type": "code",
   "execution_count": null,
   "metadata": {},
   "outputs": [],
   "source": [
    "N = 100\n",
    "x = np.linspace(0,1,N)\n",
    "y0 = np.random.randn(N) + 5\n",
    "y1 = np.random.randn(N)\n",
    "y2 = np.random.randn(N) - 5\n",
    "\n",
    "fig = go.Figure()\n",
    "fig.add_trace(go.Scatter(x=x,\n",
    "                         y=y0,\n",
    "                         mode='markers',\n",
    "                         name='markers'))\n",
    "fig.add_trace(go.Scatter(x=x,\n",
    "                         y=y1,\n",
    "                         mode='lines+markers',\n",
    "                         name='lines+markers'))\n",
    "fig.add_trace(go.Scatter(x=x,\n",
    "                         y=y2,\n",
    "                         mode='lines',\n",
    "                         name='lines'))\n",
    "fig.update_traces(marker=dict(size=5))\n",
    "fig.show()"
   ]
  },
  {
   "cell_type": "markdown",
   "metadata": {},
   "source": [
    "# 시계열"
   ]
  },
  {
   "cell_type": "markdown",
   "metadata": {},
   "source": [
    "## LinePlot & Candlestick"
   ]
  },
  {
   "cell_type": "code",
   "execution_count": null,
   "metadata": {},
   "outputs": [],
   "source": [
    "aapl = pd.read_csv('https://raw.githubusercontent.com/plotly/datasets/master/finance-charts-apple.csv')\n",
    "aapl.head()"
   ]
  },
  {
   "cell_type": "code",
   "execution_count": null,
   "metadata": {},
   "outputs": [],
   "source": [
    "fig = px.line(aapl,x='Date',y='AAPL.Close',title='Apple_lose_Price')\n",
    "fig.update_layout(title_x = 0.5)\n",
    "fig.show()"
   ]
  },
  {
   "cell_type": "code",
   "execution_count": null,
   "metadata": {},
   "outputs": [],
   "source": [
    "fig = px.line(aapl,x='Date',y='AAPL.Close',title='Apple_lose_Price',\n",
    "              range_x = ['2016-02-01','2017-02-01']) # x 범위 지정 [처음 구간, 끝구간]\n",
    "fig.update_layout(title_x = 0.5)\n",
    "fig.show()"
   ]
  },
  {
   "cell_type": "code",
   "execution_count": null,
   "metadata": {},
   "outputs": [],
   "source": [
    "fig = px.line(aapl,x='Date',y='AAPL.Close',title='Apple_lose_Price')\n",
    "fig.update_layout(title_x = 0.5)\n",
    "fig.update_xaxes(rangeslider_visible=True) # x축에 대해서 조절할 수 있는 파라미터\n",
    "fig.show()"
   ]
  },
  {
   "cell_type": "code",
   "execution_count": null,
   "metadata": {},
   "outputs": [],
   "source": [
    "fig = go.Figure(data=[go.Candlestick(x=aapl['Date'],\n",
    "                                     open=aapl['AAPL.Open'], # 시가 \n",
    "                                     high=aapl['AAPL.High'], # 고가\n",
    "                                     low=aapl['AAPL.Low'], # 저가\n",
    "                                     close=aapl['AAPL.Close'],# 종가\n",
    "                                     increasing_line_color = 'red', # 증가할 때 색깔\n",
    "                                     decreasing_line_color = 'blue')]) # 하락할 때 색깔 지정\n",
    "fig.show()"
   ]
  }
 ],
 "metadata": {
  "kernelspec": {
   "display_name": "pytorch_cuda_11_8",
   "language": "python",
   "name": "python3"
  },
  "language_info": {
   "codemirror_mode": {
    "name": "ipython",
    "version": 3
   },
   "file_extension": ".py",
   "mimetype": "text/x-python",
   "name": "python",
   "nbconvert_exporter": "python",
   "pygments_lexer": "ipython3",
   "version": "3.9.18"
  }
 },
 "nbformat": 4,
 "nbformat_minor": 2
}
