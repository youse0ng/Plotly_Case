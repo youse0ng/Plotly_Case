{
 "cells": [
  {
   "cell_type": "markdown",
   "metadata": {},
   "source": [
    "# 히스토그램"
   ]
  },
  {
   "cell_type": "code",
   "execution_count": 2,
   "metadata": {},
   "outputs": [],
   "source": [
    "import numpy as np\n",
    "import pandas as pd\n",
    "import json\n",
    "from urllib.request import urlopen\n",
    "import plotly.io as pio\n",
    "import plotly.express as px # 빠르게 시각화 차트 그리기\n",
    "import plotly.graph_objects as go # 자세하게 설정을 해서 차트그릴때\n",
    "import plotly.figure_factory as ff\n",
    "from plotly.subplots import make_subplots # 서브플롯 그릴때\n",
    "from plotly.validators.scatter.marker import SymbolValidator # 마커 그릴 때"
   ]
  },
  {
   "cell_type": "code",
   "execution_count": 3,
   "metadata": {},
   "outputs": [],
   "source": [
    "gapminder = px.data.gapminder()\n",
    "tips = px.data.tips()\n",
    "iris = px.data.iris()"
   ]
  },
  {
   "cell_type": "markdown",
   "metadata": {},
   "source": [
    "# 단순한 히스토그램"
   ]
  },
  {
   "cell_type": "code",
   "execution_count": 4,
   "metadata": {},
   "outputs": [
    {
     "data": {
      "application/vnd.plotly.v1+json": {
       "config": {
        "plotlyServerURL": "https://plot.ly"
       },
       "data": [
        {
         "alignmentgroup": "True",
         "bingroup": "x",
         "hovertemplate": "total_bill=%{x}<br>count=%{y}<extra></extra>",
         "legendgroup": "",
         "marker": {
          "color": "#636efa",
          "pattern": {
           "shape": ""
          }
         },
         "name": "",
         "offsetgroup": "",
         "orientation": "v",
         "showlegend": false,
         "type": "histogram",
         "x": [
          16.99,
          10.34,
          21.01,
          23.68,
          24.59,
          25.29,
          8.77,
          26.88,
          15.04,
          14.78,
          10.27,
          35.26,
          15.42,
          18.43,
          14.83,
          21.58,
          10.33,
          16.29,
          16.97,
          20.65,
          17.92,
          20.29,
          15.77,
          39.42,
          19.82,
          17.81,
          13.37,
          12.69,
          21.7,
          19.65,
          9.55,
          18.35,
          15.06,
          20.69,
          17.78,
          24.06,
          16.31,
          16.93,
          18.69,
          31.27,
          16.04,
          17.46,
          13.94,
          9.68,
          30.4,
          18.29,
          22.23,
          32.4,
          28.55,
          18.04,
          12.54,
          10.29,
          34.81,
          9.94,
          25.56,
          19.49,
          38.01,
          26.41,
          11.24,
          48.27,
          20.29,
          13.81,
          11.02,
          18.29,
          17.59,
          20.08,
          16.45,
          3.07,
          20.23,
          15.01,
          12.02,
          17.07,
          26.86,
          25.28,
          14.73,
          10.51,
          17.92,
          27.2,
          22.76,
          17.29,
          19.44,
          16.66,
          10.07,
          32.68,
          15.98,
          34.83,
          13.03,
          18.28,
          24.71,
          21.16,
          28.97,
          22.49,
          5.75,
          16.32,
          22.75,
          40.17,
          27.28,
          12.03,
          21.01,
          12.46,
          11.35,
          15.38,
          44.3,
          22.42,
          20.92,
          15.36,
          20.49,
          25.21,
          18.24,
          14.31,
          14,
          7.25,
          38.07,
          23.95,
          25.71,
          17.31,
          29.93,
          10.65,
          12.43,
          24.08,
          11.69,
          13.42,
          14.26,
          15.95,
          12.48,
          29.8,
          8.52,
          14.52,
          11.38,
          22.82,
          19.08,
          20.27,
          11.17,
          12.26,
          18.26,
          8.51,
          10.33,
          14.15,
          16,
          13.16,
          17.47,
          34.3,
          41.19,
          27.05,
          16.43,
          8.35,
          18.64,
          11.87,
          9.78,
          7.51,
          14.07,
          13.13,
          17.26,
          24.55,
          19.77,
          29.85,
          48.17,
          25,
          13.39,
          16.49,
          21.5,
          12.66,
          16.21,
          13.81,
          17.51,
          24.52,
          20.76,
          31.71,
          10.59,
          10.63,
          50.81,
          15.81,
          7.25,
          31.85,
          16.82,
          32.9,
          17.89,
          14.48,
          9.6,
          34.63,
          34.65,
          23.33,
          45.35,
          23.17,
          40.55,
          20.69,
          20.9,
          30.46,
          18.15,
          23.1,
          15.69,
          19.81,
          28.44,
          15.48,
          16.58,
          7.56,
          10.34,
          43.11,
          13,
          13.51,
          18.71,
          12.74,
          13,
          16.4,
          20.53,
          16.47,
          26.59,
          38.73,
          24.27,
          12.76,
          30.06,
          25.89,
          48.33,
          13.27,
          28.17,
          12.9,
          28.15,
          11.59,
          7.74,
          30.14,
          12.16,
          13.42,
          8.58,
          15.98,
          13.42,
          16.27,
          10.09,
          20.45,
          13.28,
          22.12,
          24.01,
          15.69,
          11.61,
          10.77,
          15.53,
          10.07,
          12.6,
          32.83,
          35.83,
          29.03,
          27.18,
          22.67,
          17.82,
          18.78
         ],
         "xaxis": "x",
         "yaxis": "y"
        }
       ],
       "layout": {
        "barmode": "relative",
        "legend": {
         "tracegroupgap": 0
        },
        "margin": {
         "t": 60
        },
        "template": {
         "data": {
          "bar": [
           {
            "error_x": {
             "color": "#2a3f5f"
            },
            "error_y": {
             "color": "#2a3f5f"
            },
            "marker": {
             "line": {
              "color": "#E5ECF6",
              "width": 0.5
             },
             "pattern": {
              "fillmode": "overlay",
              "size": 10,
              "solidity": 0.2
             }
            },
            "type": "bar"
           }
          ],
          "barpolar": [
           {
            "marker": {
             "line": {
              "color": "#E5ECF6",
              "width": 0.5
             },
             "pattern": {
              "fillmode": "overlay",
              "size": 10,
              "solidity": 0.2
             }
            },
            "type": "barpolar"
           }
          ],
          "carpet": [
           {
            "aaxis": {
             "endlinecolor": "#2a3f5f",
             "gridcolor": "white",
             "linecolor": "white",
             "minorgridcolor": "white",
             "startlinecolor": "#2a3f5f"
            },
            "baxis": {
             "endlinecolor": "#2a3f5f",
             "gridcolor": "white",
             "linecolor": "white",
             "minorgridcolor": "white",
             "startlinecolor": "#2a3f5f"
            },
            "type": "carpet"
           }
          ],
          "choropleth": [
           {
            "colorbar": {
             "outlinewidth": 0,
             "ticks": ""
            },
            "type": "choropleth"
           }
          ],
          "contour": [
           {
            "colorbar": {
             "outlinewidth": 0,
             "ticks": ""
            },
            "colorscale": [
             [
              0,
              "#0d0887"
             ],
             [
              0.1111111111111111,
              "#46039f"
             ],
             [
              0.2222222222222222,
              "#7201a8"
             ],
             [
              0.3333333333333333,
              "#9c179e"
             ],
             [
              0.4444444444444444,
              "#bd3786"
             ],
             [
              0.5555555555555556,
              "#d8576b"
             ],
             [
              0.6666666666666666,
              "#ed7953"
             ],
             [
              0.7777777777777778,
              "#fb9f3a"
             ],
             [
              0.8888888888888888,
              "#fdca26"
             ],
             [
              1,
              "#f0f921"
             ]
            ],
            "type": "contour"
           }
          ],
          "contourcarpet": [
           {
            "colorbar": {
             "outlinewidth": 0,
             "ticks": ""
            },
            "type": "contourcarpet"
           }
          ],
          "heatmap": [
           {
            "colorbar": {
             "outlinewidth": 0,
             "ticks": ""
            },
            "colorscale": [
             [
              0,
              "#0d0887"
             ],
             [
              0.1111111111111111,
              "#46039f"
             ],
             [
              0.2222222222222222,
              "#7201a8"
             ],
             [
              0.3333333333333333,
              "#9c179e"
             ],
             [
              0.4444444444444444,
              "#bd3786"
             ],
             [
              0.5555555555555556,
              "#d8576b"
             ],
             [
              0.6666666666666666,
              "#ed7953"
             ],
             [
              0.7777777777777778,
              "#fb9f3a"
             ],
             [
              0.8888888888888888,
              "#fdca26"
             ],
             [
              1,
              "#f0f921"
             ]
            ],
            "type": "heatmap"
           }
          ],
          "heatmapgl": [
           {
            "colorbar": {
             "outlinewidth": 0,
             "ticks": ""
            },
            "colorscale": [
             [
              0,
              "#0d0887"
             ],
             [
              0.1111111111111111,
              "#46039f"
             ],
             [
              0.2222222222222222,
              "#7201a8"
             ],
             [
              0.3333333333333333,
              "#9c179e"
             ],
             [
              0.4444444444444444,
              "#bd3786"
             ],
             [
              0.5555555555555556,
              "#d8576b"
             ],
             [
              0.6666666666666666,
              "#ed7953"
             ],
             [
              0.7777777777777778,
              "#fb9f3a"
             ],
             [
              0.8888888888888888,
              "#fdca26"
             ],
             [
              1,
              "#f0f921"
             ]
            ],
            "type": "heatmapgl"
           }
          ],
          "histogram": [
           {
            "marker": {
             "pattern": {
              "fillmode": "overlay",
              "size": 10,
              "solidity": 0.2
             }
            },
            "type": "histogram"
           }
          ],
          "histogram2d": [
           {
            "colorbar": {
             "outlinewidth": 0,
             "ticks": ""
            },
            "colorscale": [
             [
              0,
              "#0d0887"
             ],
             [
              0.1111111111111111,
              "#46039f"
             ],
             [
              0.2222222222222222,
              "#7201a8"
             ],
             [
              0.3333333333333333,
              "#9c179e"
             ],
             [
              0.4444444444444444,
              "#bd3786"
             ],
             [
              0.5555555555555556,
              "#d8576b"
             ],
             [
              0.6666666666666666,
              "#ed7953"
             ],
             [
              0.7777777777777778,
              "#fb9f3a"
             ],
             [
              0.8888888888888888,
              "#fdca26"
             ],
             [
              1,
              "#f0f921"
             ]
            ],
            "type": "histogram2d"
           }
          ],
          "histogram2dcontour": [
           {
            "colorbar": {
             "outlinewidth": 0,
             "ticks": ""
            },
            "colorscale": [
             [
              0,
              "#0d0887"
             ],
             [
              0.1111111111111111,
              "#46039f"
             ],
             [
              0.2222222222222222,
              "#7201a8"
             ],
             [
              0.3333333333333333,
              "#9c179e"
             ],
             [
              0.4444444444444444,
              "#bd3786"
             ],
             [
              0.5555555555555556,
              "#d8576b"
             ],
             [
              0.6666666666666666,
              "#ed7953"
             ],
             [
              0.7777777777777778,
              "#fb9f3a"
             ],
             [
              0.8888888888888888,
              "#fdca26"
             ],
             [
              1,
              "#f0f921"
             ]
            ],
            "type": "histogram2dcontour"
           }
          ],
          "mesh3d": [
           {
            "colorbar": {
             "outlinewidth": 0,
             "ticks": ""
            },
            "type": "mesh3d"
           }
          ],
          "parcoords": [
           {
            "line": {
             "colorbar": {
              "outlinewidth": 0,
              "ticks": ""
             }
            },
            "type": "parcoords"
           }
          ],
          "pie": [
           {
            "automargin": true,
            "type": "pie"
           }
          ],
          "scatter": [
           {
            "fillpattern": {
             "fillmode": "overlay",
             "size": 10,
             "solidity": 0.2
            },
            "type": "scatter"
           }
          ],
          "scatter3d": [
           {
            "line": {
             "colorbar": {
              "outlinewidth": 0,
              "ticks": ""
             }
            },
            "marker": {
             "colorbar": {
              "outlinewidth": 0,
              "ticks": ""
             }
            },
            "type": "scatter3d"
           }
          ],
          "scattercarpet": [
           {
            "marker": {
             "colorbar": {
              "outlinewidth": 0,
              "ticks": ""
             }
            },
            "type": "scattercarpet"
           }
          ],
          "scattergeo": [
           {
            "marker": {
             "colorbar": {
              "outlinewidth": 0,
              "ticks": ""
             }
            },
            "type": "scattergeo"
           }
          ],
          "scattergl": [
           {
            "marker": {
             "colorbar": {
              "outlinewidth": 0,
              "ticks": ""
             }
            },
            "type": "scattergl"
           }
          ],
          "scattermapbox": [
           {
            "marker": {
             "colorbar": {
              "outlinewidth": 0,
              "ticks": ""
             }
            },
            "type": "scattermapbox"
           }
          ],
          "scatterpolar": [
           {
            "marker": {
             "colorbar": {
              "outlinewidth": 0,
              "ticks": ""
             }
            },
            "type": "scatterpolar"
           }
          ],
          "scatterpolargl": [
           {
            "marker": {
             "colorbar": {
              "outlinewidth": 0,
              "ticks": ""
             }
            },
            "type": "scatterpolargl"
           }
          ],
          "scatterternary": [
           {
            "marker": {
             "colorbar": {
              "outlinewidth": 0,
              "ticks": ""
             }
            },
            "type": "scatterternary"
           }
          ],
          "surface": [
           {
            "colorbar": {
             "outlinewidth": 0,
             "ticks": ""
            },
            "colorscale": [
             [
              0,
              "#0d0887"
             ],
             [
              0.1111111111111111,
              "#46039f"
             ],
             [
              0.2222222222222222,
              "#7201a8"
             ],
             [
              0.3333333333333333,
              "#9c179e"
             ],
             [
              0.4444444444444444,
              "#bd3786"
             ],
             [
              0.5555555555555556,
              "#d8576b"
             ],
             [
              0.6666666666666666,
              "#ed7953"
             ],
             [
              0.7777777777777778,
              "#fb9f3a"
             ],
             [
              0.8888888888888888,
              "#fdca26"
             ],
             [
              1,
              "#f0f921"
             ]
            ],
            "type": "surface"
           }
          ],
          "table": [
           {
            "cells": {
             "fill": {
              "color": "#EBF0F8"
             },
             "line": {
              "color": "white"
             }
            },
            "header": {
             "fill": {
              "color": "#C8D4E3"
             },
             "line": {
              "color": "white"
             }
            },
            "type": "table"
           }
          ]
         },
         "layout": {
          "annotationdefaults": {
           "arrowcolor": "#2a3f5f",
           "arrowhead": 0,
           "arrowwidth": 1
          },
          "autotypenumbers": "strict",
          "coloraxis": {
           "colorbar": {
            "outlinewidth": 0,
            "ticks": ""
           }
          },
          "colorscale": {
           "diverging": [
            [
             0,
             "#8e0152"
            ],
            [
             0.1,
             "#c51b7d"
            ],
            [
             0.2,
             "#de77ae"
            ],
            [
             0.3,
             "#f1b6da"
            ],
            [
             0.4,
             "#fde0ef"
            ],
            [
             0.5,
             "#f7f7f7"
            ],
            [
             0.6,
             "#e6f5d0"
            ],
            [
             0.7,
             "#b8e186"
            ],
            [
             0.8,
             "#7fbc41"
            ],
            [
             0.9,
             "#4d9221"
            ],
            [
             1,
             "#276419"
            ]
           ],
           "sequential": [
            [
             0,
             "#0d0887"
            ],
            [
             0.1111111111111111,
             "#46039f"
            ],
            [
             0.2222222222222222,
             "#7201a8"
            ],
            [
             0.3333333333333333,
             "#9c179e"
            ],
            [
             0.4444444444444444,
             "#bd3786"
            ],
            [
             0.5555555555555556,
             "#d8576b"
            ],
            [
             0.6666666666666666,
             "#ed7953"
            ],
            [
             0.7777777777777778,
             "#fb9f3a"
            ],
            [
             0.8888888888888888,
             "#fdca26"
            ],
            [
             1,
             "#f0f921"
            ]
           ],
           "sequentialminus": [
            [
             0,
             "#0d0887"
            ],
            [
             0.1111111111111111,
             "#46039f"
            ],
            [
             0.2222222222222222,
             "#7201a8"
            ],
            [
             0.3333333333333333,
             "#9c179e"
            ],
            [
             0.4444444444444444,
             "#bd3786"
            ],
            [
             0.5555555555555556,
             "#d8576b"
            ],
            [
             0.6666666666666666,
             "#ed7953"
            ],
            [
             0.7777777777777778,
             "#fb9f3a"
            ],
            [
             0.8888888888888888,
             "#fdca26"
            ],
            [
             1,
             "#f0f921"
            ]
           ]
          },
          "colorway": [
           "#636efa",
           "#EF553B",
           "#00cc96",
           "#ab63fa",
           "#FFA15A",
           "#19d3f3",
           "#FF6692",
           "#B6E880",
           "#FF97FF",
           "#FECB52"
          ],
          "font": {
           "color": "#2a3f5f"
          },
          "geo": {
           "bgcolor": "white",
           "lakecolor": "white",
           "landcolor": "#E5ECF6",
           "showlakes": true,
           "showland": true,
           "subunitcolor": "white"
          },
          "hoverlabel": {
           "align": "left"
          },
          "hovermode": "closest",
          "mapbox": {
           "style": "light"
          },
          "paper_bgcolor": "white",
          "plot_bgcolor": "#E5ECF6",
          "polar": {
           "angularaxis": {
            "gridcolor": "white",
            "linecolor": "white",
            "ticks": ""
           },
           "bgcolor": "#E5ECF6",
           "radialaxis": {
            "gridcolor": "white",
            "linecolor": "white",
            "ticks": ""
           }
          },
          "scene": {
           "xaxis": {
            "backgroundcolor": "#E5ECF6",
            "gridcolor": "white",
            "gridwidth": 2,
            "linecolor": "white",
            "showbackground": true,
            "ticks": "",
            "zerolinecolor": "white"
           },
           "yaxis": {
            "backgroundcolor": "#E5ECF6",
            "gridcolor": "white",
            "gridwidth": 2,
            "linecolor": "white",
            "showbackground": true,
            "ticks": "",
            "zerolinecolor": "white"
           },
           "zaxis": {
            "backgroundcolor": "#E5ECF6",
            "gridcolor": "white",
            "gridwidth": 2,
            "linecolor": "white",
            "showbackground": true,
            "ticks": "",
            "zerolinecolor": "white"
           }
          },
          "shapedefaults": {
           "line": {
            "color": "#2a3f5f"
           }
          },
          "ternary": {
           "aaxis": {
            "gridcolor": "white",
            "linecolor": "white",
            "ticks": ""
           },
           "baxis": {
            "gridcolor": "white",
            "linecolor": "white",
            "ticks": ""
           },
           "bgcolor": "#E5ECF6",
           "caxis": {
            "gridcolor": "white",
            "linecolor": "white",
            "ticks": ""
           }
          },
          "title": {
           "x": 0.05
          },
          "xaxis": {
           "automargin": true,
           "gridcolor": "white",
           "linecolor": "white",
           "ticks": "",
           "title": {
            "standoff": 15
           },
           "zerolinecolor": "white",
           "zerolinewidth": 2
          },
          "yaxis": {
           "automargin": true,
           "gridcolor": "white",
           "linecolor": "white",
           "ticks": "",
           "title": {
            "standoff": 15
           },
           "zerolinecolor": "white",
           "zerolinewidth": 2
          }
         }
        },
        "xaxis": {
         "anchor": "y",
         "domain": [
          0,
          1
         ],
         "title": {
          "text": "total_bill"
         }
        },
        "yaxis": {
         "anchor": "x",
         "domain": [
          0,
          1
         ],
         "title": {
          "text": "count"
         }
        }
       }
      }
     },
     "metadata": {},
     "output_type": "display_data"
    }
   ],
   "source": [
    "fig = px.histogram(tips,x='total_bill')\n",
    "fig.show()"
   ]
  },
  {
   "cell_type": "code",
   "execution_count": 8,
   "metadata": {},
   "outputs": [
    {
     "data": {
      "application/vnd.plotly.v1+json": {
       "config": {
        "plotlyServerURL": "https://plot.ly"
       },
       "data": [
        {
         "alignmentgroup": "True",
         "bingroup": "x",
         "hovertemplate": "total_bill=%{x}<br>count=%{y}<extra></extra>",
         "legendgroup": "",
         "marker": {
          "color": "#636efa",
          "pattern": {
           "shape": ""
          }
         },
         "name": "",
         "nbinsx": 20,
         "offsetgroup": "",
         "orientation": "v",
         "showlegend": false,
         "type": "histogram",
         "x": [
          16.99,
          10.34,
          21.01,
          23.68,
          24.59,
          25.29,
          8.77,
          26.88,
          15.04,
          14.78,
          10.27,
          35.26,
          15.42,
          18.43,
          14.83,
          21.58,
          10.33,
          16.29,
          16.97,
          20.65,
          17.92,
          20.29,
          15.77,
          39.42,
          19.82,
          17.81,
          13.37,
          12.69,
          21.7,
          19.65,
          9.55,
          18.35,
          15.06,
          20.69,
          17.78,
          24.06,
          16.31,
          16.93,
          18.69,
          31.27,
          16.04,
          17.46,
          13.94,
          9.68,
          30.4,
          18.29,
          22.23,
          32.4,
          28.55,
          18.04,
          12.54,
          10.29,
          34.81,
          9.94,
          25.56,
          19.49,
          38.01,
          26.41,
          11.24,
          48.27,
          20.29,
          13.81,
          11.02,
          18.29,
          17.59,
          20.08,
          16.45,
          3.07,
          20.23,
          15.01,
          12.02,
          17.07,
          26.86,
          25.28,
          14.73,
          10.51,
          17.92,
          27.2,
          22.76,
          17.29,
          19.44,
          16.66,
          10.07,
          32.68,
          15.98,
          34.83,
          13.03,
          18.28,
          24.71,
          21.16,
          28.97,
          22.49,
          5.75,
          16.32,
          22.75,
          40.17,
          27.28,
          12.03,
          21.01,
          12.46,
          11.35,
          15.38,
          44.3,
          22.42,
          20.92,
          15.36,
          20.49,
          25.21,
          18.24,
          14.31,
          14,
          7.25,
          38.07,
          23.95,
          25.71,
          17.31,
          29.93,
          10.65,
          12.43,
          24.08,
          11.69,
          13.42,
          14.26,
          15.95,
          12.48,
          29.8,
          8.52,
          14.52,
          11.38,
          22.82,
          19.08,
          20.27,
          11.17,
          12.26,
          18.26,
          8.51,
          10.33,
          14.15,
          16,
          13.16,
          17.47,
          34.3,
          41.19,
          27.05,
          16.43,
          8.35,
          18.64,
          11.87,
          9.78,
          7.51,
          14.07,
          13.13,
          17.26,
          24.55,
          19.77,
          29.85,
          48.17,
          25,
          13.39,
          16.49,
          21.5,
          12.66,
          16.21,
          13.81,
          17.51,
          24.52,
          20.76,
          31.71,
          10.59,
          10.63,
          50.81,
          15.81,
          7.25,
          31.85,
          16.82,
          32.9,
          17.89,
          14.48,
          9.6,
          34.63,
          34.65,
          23.33,
          45.35,
          23.17,
          40.55,
          20.69,
          20.9,
          30.46,
          18.15,
          23.1,
          15.69,
          19.81,
          28.44,
          15.48,
          16.58,
          7.56,
          10.34,
          43.11,
          13,
          13.51,
          18.71,
          12.74,
          13,
          16.4,
          20.53,
          16.47,
          26.59,
          38.73,
          24.27,
          12.76,
          30.06,
          25.89,
          48.33,
          13.27,
          28.17,
          12.9,
          28.15,
          11.59,
          7.74,
          30.14,
          12.16,
          13.42,
          8.58,
          15.98,
          13.42,
          16.27,
          10.09,
          20.45,
          13.28,
          22.12,
          24.01,
          15.69,
          11.61,
          10.77,
          15.53,
          10.07,
          12.6,
          32.83,
          35.83,
          29.03,
          27.18,
          22.67,
          17.82,
          18.78
         ],
         "xaxis": "x",
         "yaxis": "y"
        }
       ],
       "layout": {
        "barmode": "relative",
        "legend": {
         "tracegroupgap": 0
        },
        "margin": {
         "t": 60
        },
        "template": {
         "data": {
          "bar": [
           {
            "error_x": {
             "color": "#2a3f5f"
            },
            "error_y": {
             "color": "#2a3f5f"
            },
            "marker": {
             "line": {
              "color": "#E5ECF6",
              "width": 0.5
             },
             "pattern": {
              "fillmode": "overlay",
              "size": 10,
              "solidity": 0.2
             }
            },
            "type": "bar"
           }
          ],
          "barpolar": [
           {
            "marker": {
             "line": {
              "color": "#E5ECF6",
              "width": 0.5
             },
             "pattern": {
              "fillmode": "overlay",
              "size": 10,
              "solidity": 0.2
             }
            },
            "type": "barpolar"
           }
          ],
          "carpet": [
           {
            "aaxis": {
             "endlinecolor": "#2a3f5f",
             "gridcolor": "white",
             "linecolor": "white",
             "minorgridcolor": "white",
             "startlinecolor": "#2a3f5f"
            },
            "baxis": {
             "endlinecolor": "#2a3f5f",
             "gridcolor": "white",
             "linecolor": "white",
             "minorgridcolor": "white",
             "startlinecolor": "#2a3f5f"
            },
            "type": "carpet"
           }
          ],
          "choropleth": [
           {
            "colorbar": {
             "outlinewidth": 0,
             "ticks": ""
            },
            "type": "choropleth"
           }
          ],
          "contour": [
           {
            "colorbar": {
             "outlinewidth": 0,
             "ticks": ""
            },
            "colorscale": [
             [
              0,
              "#0d0887"
             ],
             [
              0.1111111111111111,
              "#46039f"
             ],
             [
              0.2222222222222222,
              "#7201a8"
             ],
             [
              0.3333333333333333,
              "#9c179e"
             ],
             [
              0.4444444444444444,
              "#bd3786"
             ],
             [
              0.5555555555555556,
              "#d8576b"
             ],
             [
              0.6666666666666666,
              "#ed7953"
             ],
             [
              0.7777777777777778,
              "#fb9f3a"
             ],
             [
              0.8888888888888888,
              "#fdca26"
             ],
             [
              1,
              "#f0f921"
             ]
            ],
            "type": "contour"
           }
          ],
          "contourcarpet": [
           {
            "colorbar": {
             "outlinewidth": 0,
             "ticks": ""
            },
            "type": "contourcarpet"
           }
          ],
          "heatmap": [
           {
            "colorbar": {
             "outlinewidth": 0,
             "ticks": ""
            },
            "colorscale": [
             [
              0,
              "#0d0887"
             ],
             [
              0.1111111111111111,
              "#46039f"
             ],
             [
              0.2222222222222222,
              "#7201a8"
             ],
             [
              0.3333333333333333,
              "#9c179e"
             ],
             [
              0.4444444444444444,
              "#bd3786"
             ],
             [
              0.5555555555555556,
              "#d8576b"
             ],
             [
              0.6666666666666666,
              "#ed7953"
             ],
             [
              0.7777777777777778,
              "#fb9f3a"
             ],
             [
              0.8888888888888888,
              "#fdca26"
             ],
             [
              1,
              "#f0f921"
             ]
            ],
            "type": "heatmap"
           }
          ],
          "heatmapgl": [
           {
            "colorbar": {
             "outlinewidth": 0,
             "ticks": ""
            },
            "colorscale": [
             [
              0,
              "#0d0887"
             ],
             [
              0.1111111111111111,
              "#46039f"
             ],
             [
              0.2222222222222222,
              "#7201a8"
             ],
             [
              0.3333333333333333,
              "#9c179e"
             ],
             [
              0.4444444444444444,
              "#bd3786"
             ],
             [
              0.5555555555555556,
              "#d8576b"
             ],
             [
              0.6666666666666666,
              "#ed7953"
             ],
             [
              0.7777777777777778,
              "#fb9f3a"
             ],
             [
              0.8888888888888888,
              "#fdca26"
             ],
             [
              1,
              "#f0f921"
             ]
            ],
            "type": "heatmapgl"
           }
          ],
          "histogram": [
           {
            "marker": {
             "pattern": {
              "fillmode": "overlay",
              "size": 10,
              "solidity": 0.2
             }
            },
            "type": "histogram"
           }
          ],
          "histogram2d": [
           {
            "colorbar": {
             "outlinewidth": 0,
             "ticks": ""
            },
            "colorscale": [
             [
              0,
              "#0d0887"
             ],
             [
              0.1111111111111111,
              "#46039f"
             ],
             [
              0.2222222222222222,
              "#7201a8"
             ],
             [
              0.3333333333333333,
              "#9c179e"
             ],
             [
              0.4444444444444444,
              "#bd3786"
             ],
             [
              0.5555555555555556,
              "#d8576b"
             ],
             [
              0.6666666666666666,
              "#ed7953"
             ],
             [
              0.7777777777777778,
              "#fb9f3a"
             ],
             [
              0.8888888888888888,
              "#fdca26"
             ],
             [
              1,
              "#f0f921"
             ]
            ],
            "type": "histogram2d"
           }
          ],
          "histogram2dcontour": [
           {
            "colorbar": {
             "outlinewidth": 0,
             "ticks": ""
            },
            "colorscale": [
             [
              0,
              "#0d0887"
             ],
             [
              0.1111111111111111,
              "#46039f"
             ],
             [
              0.2222222222222222,
              "#7201a8"
             ],
             [
              0.3333333333333333,
              "#9c179e"
             ],
             [
              0.4444444444444444,
              "#bd3786"
             ],
             [
              0.5555555555555556,
              "#d8576b"
             ],
             [
              0.6666666666666666,
              "#ed7953"
             ],
             [
              0.7777777777777778,
              "#fb9f3a"
             ],
             [
              0.8888888888888888,
              "#fdca26"
             ],
             [
              1,
              "#f0f921"
             ]
            ],
            "type": "histogram2dcontour"
           }
          ],
          "mesh3d": [
           {
            "colorbar": {
             "outlinewidth": 0,
             "ticks": ""
            },
            "type": "mesh3d"
           }
          ],
          "parcoords": [
           {
            "line": {
             "colorbar": {
              "outlinewidth": 0,
              "ticks": ""
             }
            },
            "type": "parcoords"
           }
          ],
          "pie": [
           {
            "automargin": true,
            "type": "pie"
           }
          ],
          "scatter": [
           {
            "fillpattern": {
             "fillmode": "overlay",
             "size": 10,
             "solidity": 0.2
            },
            "type": "scatter"
           }
          ],
          "scatter3d": [
           {
            "line": {
             "colorbar": {
              "outlinewidth": 0,
              "ticks": ""
             }
            },
            "marker": {
             "colorbar": {
              "outlinewidth": 0,
              "ticks": ""
             }
            },
            "type": "scatter3d"
           }
          ],
          "scattercarpet": [
           {
            "marker": {
             "colorbar": {
              "outlinewidth": 0,
              "ticks": ""
             }
            },
            "type": "scattercarpet"
           }
          ],
          "scattergeo": [
           {
            "marker": {
             "colorbar": {
              "outlinewidth": 0,
              "ticks": ""
             }
            },
            "type": "scattergeo"
           }
          ],
          "scattergl": [
           {
            "marker": {
             "colorbar": {
              "outlinewidth": 0,
              "ticks": ""
             }
            },
            "type": "scattergl"
           }
          ],
          "scattermapbox": [
           {
            "marker": {
             "colorbar": {
              "outlinewidth": 0,
              "ticks": ""
             }
            },
            "type": "scattermapbox"
           }
          ],
          "scatterpolar": [
           {
            "marker": {
             "colorbar": {
              "outlinewidth": 0,
              "ticks": ""
             }
            },
            "type": "scatterpolar"
           }
          ],
          "scatterpolargl": [
           {
            "marker": {
             "colorbar": {
              "outlinewidth": 0,
              "ticks": ""
             }
            },
            "type": "scatterpolargl"
           }
          ],
          "scatterternary": [
           {
            "marker": {
             "colorbar": {
              "outlinewidth": 0,
              "ticks": ""
             }
            },
            "type": "scatterternary"
           }
          ],
          "surface": [
           {
            "colorbar": {
             "outlinewidth": 0,
             "ticks": ""
            },
            "colorscale": [
             [
              0,
              "#0d0887"
             ],
             [
              0.1111111111111111,
              "#46039f"
             ],
             [
              0.2222222222222222,
              "#7201a8"
             ],
             [
              0.3333333333333333,
              "#9c179e"
             ],
             [
              0.4444444444444444,
              "#bd3786"
             ],
             [
              0.5555555555555556,
              "#d8576b"
             ],
             [
              0.6666666666666666,
              "#ed7953"
             ],
             [
              0.7777777777777778,
              "#fb9f3a"
             ],
             [
              0.8888888888888888,
              "#fdca26"
             ],
             [
              1,
              "#f0f921"
             ]
            ],
            "type": "surface"
           }
          ],
          "table": [
           {
            "cells": {
             "fill": {
              "color": "#EBF0F8"
             },
             "line": {
              "color": "white"
             }
            },
            "header": {
             "fill": {
              "color": "#C8D4E3"
             },
             "line": {
              "color": "white"
             }
            },
            "type": "table"
           }
          ]
         },
         "layout": {
          "annotationdefaults": {
           "arrowcolor": "#2a3f5f",
           "arrowhead": 0,
           "arrowwidth": 1
          },
          "autotypenumbers": "strict",
          "coloraxis": {
           "colorbar": {
            "outlinewidth": 0,
            "ticks": ""
           }
          },
          "colorscale": {
           "diverging": [
            [
             0,
             "#8e0152"
            ],
            [
             0.1,
             "#c51b7d"
            ],
            [
             0.2,
             "#de77ae"
            ],
            [
             0.3,
             "#f1b6da"
            ],
            [
             0.4,
             "#fde0ef"
            ],
            [
             0.5,
             "#f7f7f7"
            ],
            [
             0.6,
             "#e6f5d0"
            ],
            [
             0.7,
             "#b8e186"
            ],
            [
             0.8,
             "#7fbc41"
            ],
            [
             0.9,
             "#4d9221"
            ],
            [
             1,
             "#276419"
            ]
           ],
           "sequential": [
            [
             0,
             "#0d0887"
            ],
            [
             0.1111111111111111,
             "#46039f"
            ],
            [
             0.2222222222222222,
             "#7201a8"
            ],
            [
             0.3333333333333333,
             "#9c179e"
            ],
            [
             0.4444444444444444,
             "#bd3786"
            ],
            [
             0.5555555555555556,
             "#d8576b"
            ],
            [
             0.6666666666666666,
             "#ed7953"
            ],
            [
             0.7777777777777778,
             "#fb9f3a"
            ],
            [
             0.8888888888888888,
             "#fdca26"
            ],
            [
             1,
             "#f0f921"
            ]
           ],
           "sequentialminus": [
            [
             0,
             "#0d0887"
            ],
            [
             0.1111111111111111,
             "#46039f"
            ],
            [
             0.2222222222222222,
             "#7201a8"
            ],
            [
             0.3333333333333333,
             "#9c179e"
            ],
            [
             0.4444444444444444,
             "#bd3786"
            ],
            [
             0.5555555555555556,
             "#d8576b"
            ],
            [
             0.6666666666666666,
             "#ed7953"
            ],
            [
             0.7777777777777778,
             "#fb9f3a"
            ],
            [
             0.8888888888888888,
             "#fdca26"
            ],
            [
             1,
             "#f0f921"
            ]
           ]
          },
          "colorway": [
           "#636efa",
           "#EF553B",
           "#00cc96",
           "#ab63fa",
           "#FFA15A",
           "#19d3f3",
           "#FF6692",
           "#B6E880",
           "#FF97FF",
           "#FECB52"
          ],
          "font": {
           "color": "#2a3f5f"
          },
          "geo": {
           "bgcolor": "white",
           "lakecolor": "white",
           "landcolor": "#E5ECF6",
           "showlakes": true,
           "showland": true,
           "subunitcolor": "white"
          },
          "hoverlabel": {
           "align": "left"
          },
          "hovermode": "closest",
          "mapbox": {
           "style": "light"
          },
          "paper_bgcolor": "white",
          "plot_bgcolor": "#E5ECF6",
          "polar": {
           "angularaxis": {
            "gridcolor": "white",
            "linecolor": "white",
            "ticks": ""
           },
           "bgcolor": "#E5ECF6",
           "radialaxis": {
            "gridcolor": "white",
            "linecolor": "white",
            "ticks": ""
           }
          },
          "scene": {
           "xaxis": {
            "backgroundcolor": "#E5ECF6",
            "gridcolor": "white",
            "gridwidth": 2,
            "linecolor": "white",
            "showbackground": true,
            "ticks": "",
            "zerolinecolor": "white"
           },
           "yaxis": {
            "backgroundcolor": "#E5ECF6",
            "gridcolor": "white",
            "gridwidth": 2,
            "linecolor": "white",
            "showbackground": true,
            "ticks": "",
            "zerolinecolor": "white"
           },
           "zaxis": {
            "backgroundcolor": "#E5ECF6",
            "gridcolor": "white",
            "gridwidth": 2,
            "linecolor": "white",
            "showbackground": true,
            "ticks": "",
            "zerolinecolor": "white"
           }
          },
          "shapedefaults": {
           "line": {
            "color": "#2a3f5f"
           }
          },
          "ternary": {
           "aaxis": {
            "gridcolor": "white",
            "linecolor": "white",
            "ticks": ""
           },
           "baxis": {
            "gridcolor": "white",
            "linecolor": "white",
            "ticks": ""
           },
           "bgcolor": "#E5ECF6",
           "caxis": {
            "gridcolor": "white",
            "linecolor": "white",
            "ticks": ""
           }
          },
          "title": {
           "x": 0.05
          },
          "xaxis": {
           "automargin": true,
           "gridcolor": "white",
           "linecolor": "white",
           "ticks": "",
           "title": {
            "standoff": 15
           },
           "zerolinecolor": "white",
           "zerolinewidth": 2
          },
          "yaxis": {
           "automargin": true,
           "gridcolor": "white",
           "linecolor": "white",
           "ticks": "",
           "title": {
            "standoff": 15
           },
           "zerolinecolor": "white",
           "zerolinewidth": 2
          }
         }
        },
        "xaxis": {
         "anchor": "y",
         "domain": [
          0,
          1
         ],
         "title": {
          "text": "total_bill"
         }
        },
        "yaxis": {
         "anchor": "x",
         "domain": [
          0,
          1
         ],
         "title": {
          "text": "count"
         }
        }
       }
      }
     },
     "metadata": {},
     "output_type": "display_data"
    }
   ],
   "source": [
    "fig = px.histogram(tips,x='total_bill',nbins=20)\n",
    "fig.show()"
   ]
  },
  {
   "cell_type": "code",
   "execution_count": 13,
   "metadata": {},
   "outputs": [
    {
     "data": {
      "application/vnd.plotly.v1+json": {
       "config": {
        "plotlyServerURL": "https://plot.ly"
       },
       "data": [
        {
         "alignmentgroup": "True",
         "bingroup": "x",
         "histnorm": "probability density",
         "hovertemplate": "total_bill=%{x}<br>probability density=%{y}<extra></extra>",
         "legendgroup": "",
         "marker": {
          "color": "#636efa",
          "pattern": {
           "shape": ""
          }
         },
         "name": "",
         "offsetgroup": "",
         "orientation": "v",
         "showlegend": false,
         "type": "histogram",
         "x": [
          16.99,
          10.34,
          21.01,
          23.68,
          24.59,
          25.29,
          8.77,
          26.88,
          15.04,
          14.78,
          10.27,
          35.26,
          15.42,
          18.43,
          14.83,
          21.58,
          10.33,
          16.29,
          16.97,
          20.65,
          17.92,
          20.29,
          15.77,
          39.42,
          19.82,
          17.81,
          13.37,
          12.69,
          21.7,
          19.65,
          9.55,
          18.35,
          15.06,
          20.69,
          17.78,
          24.06,
          16.31,
          16.93,
          18.69,
          31.27,
          16.04,
          17.46,
          13.94,
          9.68,
          30.4,
          18.29,
          22.23,
          32.4,
          28.55,
          18.04,
          12.54,
          10.29,
          34.81,
          9.94,
          25.56,
          19.49,
          38.01,
          26.41,
          11.24,
          48.27,
          20.29,
          13.81,
          11.02,
          18.29,
          17.59,
          20.08,
          16.45,
          3.07,
          20.23,
          15.01,
          12.02,
          17.07,
          26.86,
          25.28,
          14.73,
          10.51,
          17.92,
          27.2,
          22.76,
          17.29,
          19.44,
          16.66,
          10.07,
          32.68,
          15.98,
          34.83,
          13.03,
          18.28,
          24.71,
          21.16,
          28.97,
          22.49,
          5.75,
          16.32,
          22.75,
          40.17,
          27.28,
          12.03,
          21.01,
          12.46,
          11.35,
          15.38,
          44.3,
          22.42,
          20.92,
          15.36,
          20.49,
          25.21,
          18.24,
          14.31,
          14,
          7.25,
          38.07,
          23.95,
          25.71,
          17.31,
          29.93,
          10.65,
          12.43,
          24.08,
          11.69,
          13.42,
          14.26,
          15.95,
          12.48,
          29.8,
          8.52,
          14.52,
          11.38,
          22.82,
          19.08,
          20.27,
          11.17,
          12.26,
          18.26,
          8.51,
          10.33,
          14.15,
          16,
          13.16,
          17.47,
          34.3,
          41.19,
          27.05,
          16.43,
          8.35,
          18.64,
          11.87,
          9.78,
          7.51,
          14.07,
          13.13,
          17.26,
          24.55,
          19.77,
          29.85,
          48.17,
          25,
          13.39,
          16.49,
          21.5,
          12.66,
          16.21,
          13.81,
          17.51,
          24.52,
          20.76,
          31.71,
          10.59,
          10.63,
          50.81,
          15.81,
          7.25,
          31.85,
          16.82,
          32.9,
          17.89,
          14.48,
          9.6,
          34.63,
          34.65,
          23.33,
          45.35,
          23.17,
          40.55,
          20.69,
          20.9,
          30.46,
          18.15,
          23.1,
          15.69,
          19.81,
          28.44,
          15.48,
          16.58,
          7.56,
          10.34,
          43.11,
          13,
          13.51,
          18.71,
          12.74,
          13,
          16.4,
          20.53,
          16.47,
          26.59,
          38.73,
          24.27,
          12.76,
          30.06,
          25.89,
          48.33,
          13.27,
          28.17,
          12.9,
          28.15,
          11.59,
          7.74,
          30.14,
          12.16,
          13.42,
          8.58,
          15.98,
          13.42,
          16.27,
          10.09,
          20.45,
          13.28,
          22.12,
          24.01,
          15.69,
          11.61,
          10.77,
          15.53,
          10.07,
          12.6,
          32.83,
          35.83,
          29.03,
          27.18,
          22.67,
          17.82,
          18.78
         ],
         "xaxis": "x",
         "yaxis": "y"
        }
       ],
       "layout": {
        "barmode": "relative",
        "legend": {
         "tracegroupgap": 0
        },
        "margin": {
         "t": 60
        },
        "template": {
         "data": {
          "bar": [
           {
            "error_x": {
             "color": "#2a3f5f"
            },
            "error_y": {
             "color": "#2a3f5f"
            },
            "marker": {
             "line": {
              "color": "#E5ECF6",
              "width": 0.5
             },
             "pattern": {
              "fillmode": "overlay",
              "size": 10,
              "solidity": 0.2
             }
            },
            "type": "bar"
           }
          ],
          "barpolar": [
           {
            "marker": {
             "line": {
              "color": "#E5ECF6",
              "width": 0.5
             },
             "pattern": {
              "fillmode": "overlay",
              "size": 10,
              "solidity": 0.2
             }
            },
            "type": "barpolar"
           }
          ],
          "carpet": [
           {
            "aaxis": {
             "endlinecolor": "#2a3f5f",
             "gridcolor": "white",
             "linecolor": "white",
             "minorgridcolor": "white",
             "startlinecolor": "#2a3f5f"
            },
            "baxis": {
             "endlinecolor": "#2a3f5f",
             "gridcolor": "white",
             "linecolor": "white",
             "minorgridcolor": "white",
             "startlinecolor": "#2a3f5f"
            },
            "type": "carpet"
           }
          ],
          "choropleth": [
           {
            "colorbar": {
             "outlinewidth": 0,
             "ticks": ""
            },
            "type": "choropleth"
           }
          ],
          "contour": [
           {
            "colorbar": {
             "outlinewidth": 0,
             "ticks": ""
            },
            "colorscale": [
             [
              0,
              "#0d0887"
             ],
             [
              0.1111111111111111,
              "#46039f"
             ],
             [
              0.2222222222222222,
              "#7201a8"
             ],
             [
              0.3333333333333333,
              "#9c179e"
             ],
             [
              0.4444444444444444,
              "#bd3786"
             ],
             [
              0.5555555555555556,
              "#d8576b"
             ],
             [
              0.6666666666666666,
              "#ed7953"
             ],
             [
              0.7777777777777778,
              "#fb9f3a"
             ],
             [
              0.8888888888888888,
              "#fdca26"
             ],
             [
              1,
              "#f0f921"
             ]
            ],
            "type": "contour"
           }
          ],
          "contourcarpet": [
           {
            "colorbar": {
             "outlinewidth": 0,
             "ticks": ""
            },
            "type": "contourcarpet"
           }
          ],
          "heatmap": [
           {
            "colorbar": {
             "outlinewidth": 0,
             "ticks": ""
            },
            "colorscale": [
             [
              0,
              "#0d0887"
             ],
             [
              0.1111111111111111,
              "#46039f"
             ],
             [
              0.2222222222222222,
              "#7201a8"
             ],
             [
              0.3333333333333333,
              "#9c179e"
             ],
             [
              0.4444444444444444,
              "#bd3786"
             ],
             [
              0.5555555555555556,
              "#d8576b"
             ],
             [
              0.6666666666666666,
              "#ed7953"
             ],
             [
              0.7777777777777778,
              "#fb9f3a"
             ],
             [
              0.8888888888888888,
              "#fdca26"
             ],
             [
              1,
              "#f0f921"
             ]
            ],
            "type": "heatmap"
           }
          ],
          "heatmapgl": [
           {
            "colorbar": {
             "outlinewidth": 0,
             "ticks": ""
            },
            "colorscale": [
             [
              0,
              "#0d0887"
             ],
             [
              0.1111111111111111,
              "#46039f"
             ],
             [
              0.2222222222222222,
              "#7201a8"
             ],
             [
              0.3333333333333333,
              "#9c179e"
             ],
             [
              0.4444444444444444,
              "#bd3786"
             ],
             [
              0.5555555555555556,
              "#d8576b"
             ],
             [
              0.6666666666666666,
              "#ed7953"
             ],
             [
              0.7777777777777778,
              "#fb9f3a"
             ],
             [
              0.8888888888888888,
              "#fdca26"
             ],
             [
              1,
              "#f0f921"
             ]
            ],
            "type": "heatmapgl"
           }
          ],
          "histogram": [
           {
            "marker": {
             "pattern": {
              "fillmode": "overlay",
              "size": 10,
              "solidity": 0.2
             }
            },
            "type": "histogram"
           }
          ],
          "histogram2d": [
           {
            "colorbar": {
             "outlinewidth": 0,
             "ticks": ""
            },
            "colorscale": [
             [
              0,
              "#0d0887"
             ],
             [
              0.1111111111111111,
              "#46039f"
             ],
             [
              0.2222222222222222,
              "#7201a8"
             ],
             [
              0.3333333333333333,
              "#9c179e"
             ],
             [
              0.4444444444444444,
              "#bd3786"
             ],
             [
              0.5555555555555556,
              "#d8576b"
             ],
             [
              0.6666666666666666,
              "#ed7953"
             ],
             [
              0.7777777777777778,
              "#fb9f3a"
             ],
             [
              0.8888888888888888,
              "#fdca26"
             ],
             [
              1,
              "#f0f921"
             ]
            ],
            "type": "histogram2d"
           }
          ],
          "histogram2dcontour": [
           {
            "colorbar": {
             "outlinewidth": 0,
             "ticks": ""
            },
            "colorscale": [
             [
              0,
              "#0d0887"
             ],
             [
              0.1111111111111111,
              "#46039f"
             ],
             [
              0.2222222222222222,
              "#7201a8"
             ],
             [
              0.3333333333333333,
              "#9c179e"
             ],
             [
              0.4444444444444444,
              "#bd3786"
             ],
             [
              0.5555555555555556,
              "#d8576b"
             ],
             [
              0.6666666666666666,
              "#ed7953"
             ],
             [
              0.7777777777777778,
              "#fb9f3a"
             ],
             [
              0.8888888888888888,
              "#fdca26"
             ],
             [
              1,
              "#f0f921"
             ]
            ],
            "type": "histogram2dcontour"
           }
          ],
          "mesh3d": [
           {
            "colorbar": {
             "outlinewidth": 0,
             "ticks": ""
            },
            "type": "mesh3d"
           }
          ],
          "parcoords": [
           {
            "line": {
             "colorbar": {
              "outlinewidth": 0,
              "ticks": ""
             }
            },
            "type": "parcoords"
           }
          ],
          "pie": [
           {
            "automargin": true,
            "type": "pie"
           }
          ],
          "scatter": [
           {
            "fillpattern": {
             "fillmode": "overlay",
             "size": 10,
             "solidity": 0.2
            },
            "type": "scatter"
           }
          ],
          "scatter3d": [
           {
            "line": {
             "colorbar": {
              "outlinewidth": 0,
              "ticks": ""
             }
            },
            "marker": {
             "colorbar": {
              "outlinewidth": 0,
              "ticks": ""
             }
            },
            "type": "scatter3d"
           }
          ],
          "scattercarpet": [
           {
            "marker": {
             "colorbar": {
              "outlinewidth": 0,
              "ticks": ""
             }
            },
            "type": "scattercarpet"
           }
          ],
          "scattergeo": [
           {
            "marker": {
             "colorbar": {
              "outlinewidth": 0,
              "ticks": ""
             }
            },
            "type": "scattergeo"
           }
          ],
          "scattergl": [
           {
            "marker": {
             "colorbar": {
              "outlinewidth": 0,
              "ticks": ""
             }
            },
            "type": "scattergl"
           }
          ],
          "scattermapbox": [
           {
            "marker": {
             "colorbar": {
              "outlinewidth": 0,
              "ticks": ""
             }
            },
            "type": "scattermapbox"
           }
          ],
          "scatterpolar": [
           {
            "marker": {
             "colorbar": {
              "outlinewidth": 0,
              "ticks": ""
             }
            },
            "type": "scatterpolar"
           }
          ],
          "scatterpolargl": [
           {
            "marker": {
             "colorbar": {
              "outlinewidth": 0,
              "ticks": ""
             }
            },
            "type": "scatterpolargl"
           }
          ],
          "scatterternary": [
           {
            "marker": {
             "colorbar": {
              "outlinewidth": 0,
              "ticks": ""
             }
            },
            "type": "scatterternary"
           }
          ],
          "surface": [
           {
            "colorbar": {
             "outlinewidth": 0,
             "ticks": ""
            },
            "colorscale": [
             [
              0,
              "#0d0887"
             ],
             [
              0.1111111111111111,
              "#46039f"
             ],
             [
              0.2222222222222222,
              "#7201a8"
             ],
             [
              0.3333333333333333,
              "#9c179e"
             ],
             [
              0.4444444444444444,
              "#bd3786"
             ],
             [
              0.5555555555555556,
              "#d8576b"
             ],
             [
              0.6666666666666666,
              "#ed7953"
             ],
             [
              0.7777777777777778,
              "#fb9f3a"
             ],
             [
              0.8888888888888888,
              "#fdca26"
             ],
             [
              1,
              "#f0f921"
             ]
            ],
            "type": "surface"
           }
          ],
          "table": [
           {
            "cells": {
             "fill": {
              "color": "#EBF0F8"
             },
             "line": {
              "color": "white"
             }
            },
            "header": {
             "fill": {
              "color": "#C8D4E3"
             },
             "line": {
              "color": "white"
             }
            },
            "type": "table"
           }
          ]
         },
         "layout": {
          "annotationdefaults": {
           "arrowcolor": "#2a3f5f",
           "arrowhead": 0,
           "arrowwidth": 1
          },
          "autotypenumbers": "strict",
          "coloraxis": {
           "colorbar": {
            "outlinewidth": 0,
            "ticks": ""
           }
          },
          "colorscale": {
           "diverging": [
            [
             0,
             "#8e0152"
            ],
            [
             0.1,
             "#c51b7d"
            ],
            [
             0.2,
             "#de77ae"
            ],
            [
             0.3,
             "#f1b6da"
            ],
            [
             0.4,
             "#fde0ef"
            ],
            [
             0.5,
             "#f7f7f7"
            ],
            [
             0.6,
             "#e6f5d0"
            ],
            [
             0.7,
             "#b8e186"
            ],
            [
             0.8,
             "#7fbc41"
            ],
            [
             0.9,
             "#4d9221"
            ],
            [
             1,
             "#276419"
            ]
           ],
           "sequential": [
            [
             0,
             "#0d0887"
            ],
            [
             0.1111111111111111,
             "#46039f"
            ],
            [
             0.2222222222222222,
             "#7201a8"
            ],
            [
             0.3333333333333333,
             "#9c179e"
            ],
            [
             0.4444444444444444,
             "#bd3786"
            ],
            [
             0.5555555555555556,
             "#d8576b"
            ],
            [
             0.6666666666666666,
             "#ed7953"
            ],
            [
             0.7777777777777778,
             "#fb9f3a"
            ],
            [
             0.8888888888888888,
             "#fdca26"
            ],
            [
             1,
             "#f0f921"
            ]
           ],
           "sequentialminus": [
            [
             0,
             "#0d0887"
            ],
            [
             0.1111111111111111,
             "#46039f"
            ],
            [
             0.2222222222222222,
             "#7201a8"
            ],
            [
             0.3333333333333333,
             "#9c179e"
            ],
            [
             0.4444444444444444,
             "#bd3786"
            ],
            [
             0.5555555555555556,
             "#d8576b"
            ],
            [
             0.6666666666666666,
             "#ed7953"
            ],
            [
             0.7777777777777778,
             "#fb9f3a"
            ],
            [
             0.8888888888888888,
             "#fdca26"
            ],
            [
             1,
             "#f0f921"
            ]
           ]
          },
          "colorway": [
           "#636efa",
           "#EF553B",
           "#00cc96",
           "#ab63fa",
           "#FFA15A",
           "#19d3f3",
           "#FF6692",
           "#B6E880",
           "#FF97FF",
           "#FECB52"
          ],
          "font": {
           "color": "#2a3f5f"
          },
          "geo": {
           "bgcolor": "white",
           "lakecolor": "white",
           "landcolor": "#E5ECF6",
           "showlakes": true,
           "showland": true,
           "subunitcolor": "white"
          },
          "hoverlabel": {
           "align": "left"
          },
          "hovermode": "closest",
          "mapbox": {
           "style": "light"
          },
          "paper_bgcolor": "white",
          "plot_bgcolor": "#E5ECF6",
          "polar": {
           "angularaxis": {
            "gridcolor": "white",
            "linecolor": "white",
            "ticks": ""
           },
           "bgcolor": "#E5ECF6",
           "radialaxis": {
            "gridcolor": "white",
            "linecolor": "white",
            "ticks": ""
           }
          },
          "scene": {
           "xaxis": {
            "backgroundcolor": "#E5ECF6",
            "gridcolor": "white",
            "gridwidth": 2,
            "linecolor": "white",
            "showbackground": true,
            "ticks": "",
            "zerolinecolor": "white"
           },
           "yaxis": {
            "backgroundcolor": "#E5ECF6",
            "gridcolor": "white",
            "gridwidth": 2,
            "linecolor": "white",
            "showbackground": true,
            "ticks": "",
            "zerolinecolor": "white"
           },
           "zaxis": {
            "backgroundcolor": "#E5ECF6",
            "gridcolor": "white",
            "gridwidth": 2,
            "linecolor": "white",
            "showbackground": true,
            "ticks": "",
            "zerolinecolor": "white"
           }
          },
          "shapedefaults": {
           "line": {
            "color": "#2a3f5f"
           }
          },
          "ternary": {
           "aaxis": {
            "gridcolor": "white",
            "linecolor": "white",
            "ticks": ""
           },
           "baxis": {
            "gridcolor": "white",
            "linecolor": "white",
            "ticks": ""
           },
           "bgcolor": "#E5ECF6",
           "caxis": {
            "gridcolor": "white",
            "linecolor": "white",
            "ticks": ""
           }
          },
          "title": {
           "x": 0.05
          },
          "xaxis": {
           "automargin": true,
           "gridcolor": "white",
           "linecolor": "white",
           "ticks": "",
           "title": {
            "standoff": 15
           },
           "zerolinecolor": "white",
           "zerolinewidth": 2
          },
          "yaxis": {
           "automargin": true,
           "gridcolor": "white",
           "linecolor": "white",
           "ticks": "",
           "title": {
            "standoff": 15
           },
           "zerolinecolor": "white",
           "zerolinewidth": 2
          }
         }
        },
        "xaxis": {
         "anchor": "y",
         "domain": [
          0,
          1
         ],
         "title": {
          "text": "total_bill"
         }
        },
        "yaxis": {
         "anchor": "x",
         "domain": [
          0,
          1
         ],
         "title": {
          "text": "probability density"
         }
        }
       }
      }
     },
     "metadata": {},
     "output_type": "display_data"
    }
   ],
   "source": [
    "fig = px.histogram(tips,x='total_bill',histnorm='probability density') # 확률적으로 그려줌\n",
    "fig.show()"
   ]
  },
  {
   "cell_type": "code",
   "execution_count": 23,
   "metadata": {},
   "outputs": [
    {
     "data": {
      "application/vnd.plotly.v1+json": {
       "config": {
        "plotlyServerURL": "https://plot.ly"
       },
       "data": [
        {
         "alignmentgroup": "True",
         "bingroup": "x",
         "hovertemplate": "Total Bill($)=%{x}<br>count=%{y}<extra></extra>",
         "legendgroup": "",
         "marker": {
          "color": "deepskyblue",
          "opacity": 0.7,
          "pattern": {
           "shape": ""
          }
         },
         "name": "",
         "nbinsx": 20,
         "offsetgroup": "",
         "orientation": "v",
         "showlegend": false,
         "type": "histogram",
         "x": [
          16.99,
          10.34,
          21.01,
          23.68,
          24.59,
          25.29,
          8.77,
          26.88,
          15.04,
          14.78,
          10.27,
          35.26,
          15.42,
          18.43,
          14.83,
          21.58,
          10.33,
          16.29,
          16.97,
          20.65,
          17.92,
          20.29,
          15.77,
          39.42,
          19.82,
          17.81,
          13.37,
          12.69,
          21.7,
          19.65,
          9.55,
          18.35,
          15.06,
          20.69,
          17.78,
          24.06,
          16.31,
          16.93,
          18.69,
          31.27,
          16.04,
          17.46,
          13.94,
          9.68,
          30.4,
          18.29,
          22.23,
          32.4,
          28.55,
          18.04,
          12.54,
          10.29,
          34.81,
          9.94,
          25.56,
          19.49,
          38.01,
          26.41,
          11.24,
          48.27,
          20.29,
          13.81,
          11.02,
          18.29,
          17.59,
          20.08,
          16.45,
          3.07,
          20.23,
          15.01,
          12.02,
          17.07,
          26.86,
          25.28,
          14.73,
          10.51,
          17.92,
          27.2,
          22.76,
          17.29,
          19.44,
          16.66,
          10.07,
          32.68,
          15.98,
          34.83,
          13.03,
          18.28,
          24.71,
          21.16,
          28.97,
          22.49,
          5.75,
          16.32,
          22.75,
          40.17,
          27.28,
          12.03,
          21.01,
          12.46,
          11.35,
          15.38,
          44.3,
          22.42,
          20.92,
          15.36,
          20.49,
          25.21,
          18.24,
          14.31,
          14,
          7.25,
          38.07,
          23.95,
          25.71,
          17.31,
          29.93,
          10.65,
          12.43,
          24.08,
          11.69,
          13.42,
          14.26,
          15.95,
          12.48,
          29.8,
          8.52,
          14.52,
          11.38,
          22.82,
          19.08,
          20.27,
          11.17,
          12.26,
          18.26,
          8.51,
          10.33,
          14.15,
          16,
          13.16,
          17.47,
          34.3,
          41.19,
          27.05,
          16.43,
          8.35,
          18.64,
          11.87,
          9.78,
          7.51,
          14.07,
          13.13,
          17.26,
          24.55,
          19.77,
          29.85,
          48.17,
          25,
          13.39,
          16.49,
          21.5,
          12.66,
          16.21,
          13.81,
          17.51,
          24.52,
          20.76,
          31.71,
          10.59,
          10.63,
          50.81,
          15.81,
          7.25,
          31.85,
          16.82,
          32.9,
          17.89,
          14.48,
          9.6,
          34.63,
          34.65,
          23.33,
          45.35,
          23.17,
          40.55,
          20.69,
          20.9,
          30.46,
          18.15,
          23.1,
          15.69,
          19.81,
          28.44,
          15.48,
          16.58,
          7.56,
          10.34,
          43.11,
          13,
          13.51,
          18.71,
          12.74,
          13,
          16.4,
          20.53,
          16.47,
          26.59,
          38.73,
          24.27,
          12.76,
          30.06,
          25.89,
          48.33,
          13.27,
          28.17,
          12.9,
          28.15,
          11.59,
          7.74,
          30.14,
          12.16,
          13.42,
          8.58,
          15.98,
          13.42,
          16.27,
          10.09,
          20.45,
          13.28,
          22.12,
          24.01,
          15.69,
          11.61,
          10.77,
          15.53,
          10.07,
          12.6,
          32.83,
          35.83,
          29.03,
          27.18,
          22.67,
          17.82,
          18.78
         ],
         "xaxis": "x",
         "yaxis": "y"
        }
       ],
       "layout": {
        "barmode": "relative",
        "legend": {
         "tracegroupgap": 0
        },
        "margin": {
         "t": 60
        },
        "template": {
         "data": {
          "bar": [
           {
            "error_x": {
             "color": "#2a3f5f"
            },
            "error_y": {
             "color": "#2a3f5f"
            },
            "marker": {
             "line": {
              "color": "#E5ECF6",
              "width": 0.5
             },
             "pattern": {
              "fillmode": "overlay",
              "size": 10,
              "solidity": 0.2
             }
            },
            "type": "bar"
           }
          ],
          "barpolar": [
           {
            "marker": {
             "line": {
              "color": "#E5ECF6",
              "width": 0.5
             },
             "pattern": {
              "fillmode": "overlay",
              "size": 10,
              "solidity": 0.2
             }
            },
            "type": "barpolar"
           }
          ],
          "carpet": [
           {
            "aaxis": {
             "endlinecolor": "#2a3f5f",
             "gridcolor": "white",
             "linecolor": "white",
             "minorgridcolor": "white",
             "startlinecolor": "#2a3f5f"
            },
            "baxis": {
             "endlinecolor": "#2a3f5f",
             "gridcolor": "white",
             "linecolor": "white",
             "minorgridcolor": "white",
             "startlinecolor": "#2a3f5f"
            },
            "type": "carpet"
           }
          ],
          "choropleth": [
           {
            "colorbar": {
             "outlinewidth": 0,
             "ticks": ""
            },
            "type": "choropleth"
           }
          ],
          "contour": [
           {
            "colorbar": {
             "outlinewidth": 0,
             "ticks": ""
            },
            "colorscale": [
             [
              0,
              "#0d0887"
             ],
             [
              0.1111111111111111,
              "#46039f"
             ],
             [
              0.2222222222222222,
              "#7201a8"
             ],
             [
              0.3333333333333333,
              "#9c179e"
             ],
             [
              0.4444444444444444,
              "#bd3786"
             ],
             [
              0.5555555555555556,
              "#d8576b"
             ],
             [
              0.6666666666666666,
              "#ed7953"
             ],
             [
              0.7777777777777778,
              "#fb9f3a"
             ],
             [
              0.8888888888888888,
              "#fdca26"
             ],
             [
              1,
              "#f0f921"
             ]
            ],
            "type": "contour"
           }
          ],
          "contourcarpet": [
           {
            "colorbar": {
             "outlinewidth": 0,
             "ticks": ""
            },
            "type": "contourcarpet"
           }
          ],
          "heatmap": [
           {
            "colorbar": {
             "outlinewidth": 0,
             "ticks": ""
            },
            "colorscale": [
             [
              0,
              "#0d0887"
             ],
             [
              0.1111111111111111,
              "#46039f"
             ],
             [
              0.2222222222222222,
              "#7201a8"
             ],
             [
              0.3333333333333333,
              "#9c179e"
             ],
             [
              0.4444444444444444,
              "#bd3786"
             ],
             [
              0.5555555555555556,
              "#d8576b"
             ],
             [
              0.6666666666666666,
              "#ed7953"
             ],
             [
              0.7777777777777778,
              "#fb9f3a"
             ],
             [
              0.8888888888888888,
              "#fdca26"
             ],
             [
              1,
              "#f0f921"
             ]
            ],
            "type": "heatmap"
           }
          ],
          "heatmapgl": [
           {
            "colorbar": {
             "outlinewidth": 0,
             "ticks": ""
            },
            "colorscale": [
             [
              0,
              "#0d0887"
             ],
             [
              0.1111111111111111,
              "#46039f"
             ],
             [
              0.2222222222222222,
              "#7201a8"
             ],
             [
              0.3333333333333333,
              "#9c179e"
             ],
             [
              0.4444444444444444,
              "#bd3786"
             ],
             [
              0.5555555555555556,
              "#d8576b"
             ],
             [
              0.6666666666666666,
              "#ed7953"
             ],
             [
              0.7777777777777778,
              "#fb9f3a"
             ],
             [
              0.8888888888888888,
              "#fdca26"
             ],
             [
              1,
              "#f0f921"
             ]
            ],
            "type": "heatmapgl"
           }
          ],
          "histogram": [
           {
            "marker": {
             "pattern": {
              "fillmode": "overlay",
              "size": 10,
              "solidity": 0.2
             }
            },
            "type": "histogram"
           }
          ],
          "histogram2d": [
           {
            "colorbar": {
             "outlinewidth": 0,
             "ticks": ""
            },
            "colorscale": [
             [
              0,
              "#0d0887"
             ],
             [
              0.1111111111111111,
              "#46039f"
             ],
             [
              0.2222222222222222,
              "#7201a8"
             ],
             [
              0.3333333333333333,
              "#9c179e"
             ],
             [
              0.4444444444444444,
              "#bd3786"
             ],
             [
              0.5555555555555556,
              "#d8576b"
             ],
             [
              0.6666666666666666,
              "#ed7953"
             ],
             [
              0.7777777777777778,
              "#fb9f3a"
             ],
             [
              0.8888888888888888,
              "#fdca26"
             ],
             [
              1,
              "#f0f921"
             ]
            ],
            "type": "histogram2d"
           }
          ],
          "histogram2dcontour": [
           {
            "colorbar": {
             "outlinewidth": 0,
             "ticks": ""
            },
            "colorscale": [
             [
              0,
              "#0d0887"
             ],
             [
              0.1111111111111111,
              "#46039f"
             ],
             [
              0.2222222222222222,
              "#7201a8"
             ],
             [
              0.3333333333333333,
              "#9c179e"
             ],
             [
              0.4444444444444444,
              "#bd3786"
             ],
             [
              0.5555555555555556,
              "#d8576b"
             ],
             [
              0.6666666666666666,
              "#ed7953"
             ],
             [
              0.7777777777777778,
              "#fb9f3a"
             ],
             [
              0.8888888888888888,
              "#fdca26"
             ],
             [
              1,
              "#f0f921"
             ]
            ],
            "type": "histogram2dcontour"
           }
          ],
          "mesh3d": [
           {
            "colorbar": {
             "outlinewidth": 0,
             "ticks": ""
            },
            "type": "mesh3d"
           }
          ],
          "parcoords": [
           {
            "line": {
             "colorbar": {
              "outlinewidth": 0,
              "ticks": ""
             }
            },
            "type": "parcoords"
           }
          ],
          "pie": [
           {
            "automargin": true,
            "type": "pie"
           }
          ],
          "scatter": [
           {
            "fillpattern": {
             "fillmode": "overlay",
             "size": 10,
             "solidity": 0.2
            },
            "type": "scatter"
           }
          ],
          "scatter3d": [
           {
            "line": {
             "colorbar": {
              "outlinewidth": 0,
              "ticks": ""
             }
            },
            "marker": {
             "colorbar": {
              "outlinewidth": 0,
              "ticks": ""
             }
            },
            "type": "scatter3d"
           }
          ],
          "scattercarpet": [
           {
            "marker": {
             "colorbar": {
              "outlinewidth": 0,
              "ticks": ""
             }
            },
            "type": "scattercarpet"
           }
          ],
          "scattergeo": [
           {
            "marker": {
             "colorbar": {
              "outlinewidth": 0,
              "ticks": ""
             }
            },
            "type": "scattergeo"
           }
          ],
          "scattergl": [
           {
            "marker": {
             "colorbar": {
              "outlinewidth": 0,
              "ticks": ""
             }
            },
            "type": "scattergl"
           }
          ],
          "scattermapbox": [
           {
            "marker": {
             "colorbar": {
              "outlinewidth": 0,
              "ticks": ""
             }
            },
            "type": "scattermapbox"
           }
          ],
          "scatterpolar": [
           {
            "marker": {
             "colorbar": {
              "outlinewidth": 0,
              "ticks": ""
             }
            },
            "type": "scatterpolar"
           }
          ],
          "scatterpolargl": [
           {
            "marker": {
             "colorbar": {
              "outlinewidth": 0,
              "ticks": ""
             }
            },
            "type": "scatterpolargl"
           }
          ],
          "scatterternary": [
           {
            "marker": {
             "colorbar": {
              "outlinewidth": 0,
              "ticks": ""
             }
            },
            "type": "scatterternary"
           }
          ],
          "surface": [
           {
            "colorbar": {
             "outlinewidth": 0,
             "ticks": ""
            },
            "colorscale": [
             [
              0,
              "#0d0887"
             ],
             [
              0.1111111111111111,
              "#46039f"
             ],
             [
              0.2222222222222222,
              "#7201a8"
             ],
             [
              0.3333333333333333,
              "#9c179e"
             ],
             [
              0.4444444444444444,
              "#bd3786"
             ],
             [
              0.5555555555555556,
              "#d8576b"
             ],
             [
              0.6666666666666666,
              "#ed7953"
             ],
             [
              0.7777777777777778,
              "#fb9f3a"
             ],
             [
              0.8888888888888888,
              "#fdca26"
             ],
             [
              1,
              "#f0f921"
             ]
            ],
            "type": "surface"
           }
          ],
          "table": [
           {
            "cells": {
             "fill": {
              "color": "#EBF0F8"
             },
             "line": {
              "color": "white"
             }
            },
            "header": {
             "fill": {
              "color": "#C8D4E3"
             },
             "line": {
              "color": "white"
             }
            },
            "type": "table"
           }
          ]
         },
         "layout": {
          "annotationdefaults": {
           "arrowcolor": "#2a3f5f",
           "arrowhead": 0,
           "arrowwidth": 1
          },
          "autotypenumbers": "strict",
          "coloraxis": {
           "colorbar": {
            "outlinewidth": 0,
            "ticks": ""
           }
          },
          "colorscale": {
           "diverging": [
            [
             0,
             "#8e0152"
            ],
            [
             0.1,
             "#c51b7d"
            ],
            [
             0.2,
             "#de77ae"
            ],
            [
             0.3,
             "#f1b6da"
            ],
            [
             0.4,
             "#fde0ef"
            ],
            [
             0.5,
             "#f7f7f7"
            ],
            [
             0.6,
             "#e6f5d0"
            ],
            [
             0.7,
             "#b8e186"
            ],
            [
             0.8,
             "#7fbc41"
            ],
            [
             0.9,
             "#4d9221"
            ],
            [
             1,
             "#276419"
            ]
           ],
           "sequential": [
            [
             0,
             "#0d0887"
            ],
            [
             0.1111111111111111,
             "#46039f"
            ],
            [
             0.2222222222222222,
             "#7201a8"
            ],
            [
             0.3333333333333333,
             "#9c179e"
            ],
            [
             0.4444444444444444,
             "#bd3786"
            ],
            [
             0.5555555555555556,
             "#d8576b"
            ],
            [
             0.6666666666666666,
             "#ed7953"
            ],
            [
             0.7777777777777778,
             "#fb9f3a"
            ],
            [
             0.8888888888888888,
             "#fdca26"
            ],
            [
             1,
             "#f0f921"
            ]
           ],
           "sequentialminus": [
            [
             0,
             "#0d0887"
            ],
            [
             0.1111111111111111,
             "#46039f"
            ],
            [
             0.2222222222222222,
             "#7201a8"
            ],
            [
             0.3333333333333333,
             "#9c179e"
            ],
            [
             0.4444444444444444,
             "#bd3786"
            ],
            [
             0.5555555555555556,
             "#d8576b"
            ],
            [
             0.6666666666666666,
             "#ed7953"
            ],
            [
             0.7777777777777778,
             "#fb9f3a"
            ],
            [
             0.8888888888888888,
             "#fdca26"
            ],
            [
             1,
             "#f0f921"
            ]
           ]
          },
          "colorway": [
           "#636efa",
           "#EF553B",
           "#00cc96",
           "#ab63fa",
           "#FFA15A",
           "#19d3f3",
           "#FF6692",
           "#B6E880",
           "#FF97FF",
           "#FECB52"
          ],
          "font": {
           "color": "#2a3f5f"
          },
          "geo": {
           "bgcolor": "white",
           "lakecolor": "white",
           "landcolor": "#E5ECF6",
           "showlakes": true,
           "showland": true,
           "subunitcolor": "white"
          },
          "hoverlabel": {
           "align": "left"
          },
          "hovermode": "closest",
          "mapbox": {
           "style": "light"
          },
          "paper_bgcolor": "white",
          "plot_bgcolor": "#E5ECF6",
          "polar": {
           "angularaxis": {
            "gridcolor": "white",
            "linecolor": "white",
            "ticks": ""
           },
           "bgcolor": "#E5ECF6",
           "radialaxis": {
            "gridcolor": "white",
            "linecolor": "white",
            "ticks": ""
           }
          },
          "scene": {
           "xaxis": {
            "backgroundcolor": "#E5ECF6",
            "gridcolor": "white",
            "gridwidth": 2,
            "linecolor": "white",
            "showbackground": true,
            "ticks": "",
            "zerolinecolor": "white"
           },
           "yaxis": {
            "backgroundcolor": "#E5ECF6",
            "gridcolor": "white",
            "gridwidth": 2,
            "linecolor": "white",
            "showbackground": true,
            "ticks": "",
            "zerolinecolor": "white"
           },
           "zaxis": {
            "backgroundcolor": "#E5ECF6",
            "gridcolor": "white",
            "gridwidth": 2,
            "linecolor": "white",
            "showbackground": true,
            "ticks": "",
            "zerolinecolor": "white"
           }
          },
          "shapedefaults": {
           "line": {
            "color": "#2a3f5f"
           }
          },
          "ternary": {
           "aaxis": {
            "gridcolor": "white",
            "linecolor": "white",
            "ticks": ""
           },
           "baxis": {
            "gridcolor": "white",
            "linecolor": "white",
            "ticks": ""
           },
           "bgcolor": "#E5ECF6",
           "caxis": {
            "gridcolor": "white",
            "linecolor": "white",
            "ticks": ""
           }
          },
          "title": {
           "x": 0.05
          },
          "xaxis": {
           "automargin": true,
           "gridcolor": "white",
           "linecolor": "white",
           "ticks": "",
           "title": {
            "standoff": 15
           },
           "zerolinecolor": "white",
           "zerolinewidth": 2
          },
          "yaxis": {
           "automargin": true,
           "gridcolor": "white",
           "linecolor": "white",
           "ticks": "",
           "title": {
            "standoff": 15
           },
           "zerolinecolor": "white",
           "zerolinewidth": 2
          }
         }
        },
        "xaxis": {
         "anchor": "y",
         "domain": [
          0,
          1
         ],
         "title": {
          "text": "Total Bill($)"
         }
        },
        "yaxis": {
         "anchor": "x",
         "domain": [
          0,
          1
         ],
         "title": {
          "text": "count"
         },
         "type": "log"
        }
       }
      }
     },
     "metadata": {},
     "output_type": "display_data"
    }
   ],
   "source": [
    "fig = px.histogram(tips,x='total_bill',nbins=20,\n",
    "                   labels={'total_bill':'Total Bill($)'},\n",
    "                   opacity=0.7,log_y=True, # opacity 투명도,y축 log스케일로\n",
    "                   color_discrete_sequence=['deepskyblue'])\n",
    "fig.show()"
   ]
  },
  {
   "cell_type": "code",
   "execution_count": 24,
   "metadata": {},
   "outputs": [
    {
     "data": {
      "application/vnd.plotly.v1+json": {
       "config": {
        "plotlyServerURL": "https://plot.ly"
       },
       "data": [
        {
         "alignmentgroup": "True",
         "bingroup": "x",
         "hovertemplate": "sex=Female<br>total_bill=%{x}<br>count=%{y}<extra></extra>",
         "legendgroup": "Female",
         "marker": {
          "color": "deepskyblue",
          "pattern": {
           "shape": ""
          }
         },
         "name": "Female",
         "offsetgroup": "Female",
         "orientation": "v",
         "showlegend": true,
         "type": "histogram",
         "x": [
          16.99,
          24.59,
          35.26,
          14.83,
          10.33,
          16.97,
          20.29,
          15.77,
          19.65,
          15.06,
          20.69,
          16.93,
          10.29,
          34.81,
          26.41,
          16.45,
          3.07,
          17.07,
          26.86,
          25.28,
          14.73,
          10.07,
          34.83,
          5.75,
          16.32,
          22.75,
          11.35,
          15.38,
          44.3,
          22.42,
          20.92,
          14.31,
          7.25,
          25.71,
          17.31,
          10.65,
          12.43,
          24.08,
          13.42,
          12.48,
          29.8,
          14.52,
          11.38,
          20.27,
          11.17,
          12.26,
          18.26,
          8.51,
          10.33,
          14.15,
          13.16,
          17.47,
          27.05,
          16.43,
          8.35,
          18.64,
          11.87,
          29.85,
          25,
          13.39,
          16.21,
          17.51,
          10.59,
          10.63,
          9.6,
          20.9,
          18.15,
          19.81,
          43.11,
          13,
          12.74,
          13,
          16.4,
          16.47,
          12.76,
          13.27,
          28.17,
          12.9,
          30.14,
          13.42,
          15.98,
          16.27,
          10.09,
          22.12,
          35.83,
          27.18,
          18.78
         ],
         "xaxis": "x",
         "yaxis": "y"
        },
        {
         "alignmentgroup": "True",
         "bingroup": "x",
         "hovertemplate": "sex=Male<br>total_bill=%{x}<br>count=%{y}<extra></extra>",
         "legendgroup": "Male",
         "marker": {
          "color": "crimson",
          "pattern": {
           "shape": ""
          }
         },
         "name": "Male",
         "offsetgroup": "Male",
         "orientation": "v",
         "showlegend": true,
         "type": "histogram",
         "x": [
          10.34,
          21.01,
          23.68,
          25.29,
          8.77,
          26.88,
          15.04,
          14.78,
          10.27,
          15.42,
          18.43,
          21.58,
          16.29,
          20.65,
          17.92,
          39.42,
          19.82,
          17.81,
          13.37,
          12.69,
          21.7,
          9.55,
          18.35,
          17.78,
          24.06,
          16.31,
          18.69,
          31.27,
          16.04,
          17.46,
          13.94,
          9.68,
          30.4,
          18.29,
          22.23,
          32.4,
          28.55,
          18.04,
          12.54,
          9.94,
          25.56,
          19.49,
          38.01,
          11.24,
          48.27,
          20.29,
          13.81,
          11.02,
          18.29,
          17.59,
          20.08,
          20.23,
          15.01,
          12.02,
          10.51,
          17.92,
          27.2,
          22.76,
          17.29,
          19.44,
          16.66,
          32.68,
          15.98,
          13.03,
          18.28,
          24.71,
          21.16,
          28.97,
          22.49,
          40.17,
          27.28,
          12.03,
          21.01,
          12.46,
          15.36,
          20.49,
          25.21,
          18.24,
          14,
          38.07,
          23.95,
          29.93,
          11.69,
          14.26,
          15.95,
          8.52,
          22.82,
          19.08,
          16,
          34.3,
          41.19,
          9.78,
          7.51,
          14.07,
          13.13,
          17.26,
          24.55,
          19.77,
          48.17,
          16.49,
          21.5,
          12.66,
          13.81,
          24.52,
          20.76,
          31.71,
          50.81,
          15.81,
          7.25,
          31.85,
          16.82,
          32.9,
          17.89,
          14.48,
          34.63,
          34.65,
          23.33,
          45.35,
          23.17,
          40.55,
          20.69,
          30.46,
          23.1,
          15.69,
          28.44,
          15.48,
          16.58,
          7.56,
          10.34,
          13.51,
          18.71,
          20.53,
          26.59,
          38.73,
          24.27,
          30.06,
          25.89,
          48.33,
          28.15,
          11.59,
          7.74,
          12.16,
          8.58,
          13.42,
          20.45,
          13.28,
          24.01,
          15.69,
          11.61,
          10.77,
          15.53,
          10.07,
          12.6,
          32.83,
          29.03,
          22.67,
          17.82
         ],
         "xaxis": "x",
         "yaxis": "y"
        }
       ],
       "layout": {
        "barmode": "relative",
        "legend": {
         "title": {
          "text": "sex"
         },
         "tracegroupgap": 0
        },
        "margin": {
         "t": 60
        },
        "template": {
         "data": {
          "bar": [
           {
            "error_x": {
             "color": "#2a3f5f"
            },
            "error_y": {
             "color": "#2a3f5f"
            },
            "marker": {
             "line": {
              "color": "#E5ECF6",
              "width": 0.5
             },
             "pattern": {
              "fillmode": "overlay",
              "size": 10,
              "solidity": 0.2
             }
            },
            "type": "bar"
           }
          ],
          "barpolar": [
           {
            "marker": {
             "line": {
              "color": "#E5ECF6",
              "width": 0.5
             },
             "pattern": {
              "fillmode": "overlay",
              "size": 10,
              "solidity": 0.2
             }
            },
            "type": "barpolar"
           }
          ],
          "carpet": [
           {
            "aaxis": {
             "endlinecolor": "#2a3f5f",
             "gridcolor": "white",
             "linecolor": "white",
             "minorgridcolor": "white",
             "startlinecolor": "#2a3f5f"
            },
            "baxis": {
             "endlinecolor": "#2a3f5f",
             "gridcolor": "white",
             "linecolor": "white",
             "minorgridcolor": "white",
             "startlinecolor": "#2a3f5f"
            },
            "type": "carpet"
           }
          ],
          "choropleth": [
           {
            "colorbar": {
             "outlinewidth": 0,
             "ticks": ""
            },
            "type": "choropleth"
           }
          ],
          "contour": [
           {
            "colorbar": {
             "outlinewidth": 0,
             "ticks": ""
            },
            "colorscale": [
             [
              0,
              "#0d0887"
             ],
             [
              0.1111111111111111,
              "#46039f"
             ],
             [
              0.2222222222222222,
              "#7201a8"
             ],
             [
              0.3333333333333333,
              "#9c179e"
             ],
             [
              0.4444444444444444,
              "#bd3786"
             ],
             [
              0.5555555555555556,
              "#d8576b"
             ],
             [
              0.6666666666666666,
              "#ed7953"
             ],
             [
              0.7777777777777778,
              "#fb9f3a"
             ],
             [
              0.8888888888888888,
              "#fdca26"
             ],
             [
              1,
              "#f0f921"
             ]
            ],
            "type": "contour"
           }
          ],
          "contourcarpet": [
           {
            "colorbar": {
             "outlinewidth": 0,
             "ticks": ""
            },
            "type": "contourcarpet"
           }
          ],
          "heatmap": [
           {
            "colorbar": {
             "outlinewidth": 0,
             "ticks": ""
            },
            "colorscale": [
             [
              0,
              "#0d0887"
             ],
             [
              0.1111111111111111,
              "#46039f"
             ],
             [
              0.2222222222222222,
              "#7201a8"
             ],
             [
              0.3333333333333333,
              "#9c179e"
             ],
             [
              0.4444444444444444,
              "#bd3786"
             ],
             [
              0.5555555555555556,
              "#d8576b"
             ],
             [
              0.6666666666666666,
              "#ed7953"
             ],
             [
              0.7777777777777778,
              "#fb9f3a"
             ],
             [
              0.8888888888888888,
              "#fdca26"
             ],
             [
              1,
              "#f0f921"
             ]
            ],
            "type": "heatmap"
           }
          ],
          "heatmapgl": [
           {
            "colorbar": {
             "outlinewidth": 0,
             "ticks": ""
            },
            "colorscale": [
             [
              0,
              "#0d0887"
             ],
             [
              0.1111111111111111,
              "#46039f"
             ],
             [
              0.2222222222222222,
              "#7201a8"
             ],
             [
              0.3333333333333333,
              "#9c179e"
             ],
             [
              0.4444444444444444,
              "#bd3786"
             ],
             [
              0.5555555555555556,
              "#d8576b"
             ],
             [
              0.6666666666666666,
              "#ed7953"
             ],
             [
              0.7777777777777778,
              "#fb9f3a"
             ],
             [
              0.8888888888888888,
              "#fdca26"
             ],
             [
              1,
              "#f0f921"
             ]
            ],
            "type": "heatmapgl"
           }
          ],
          "histogram": [
           {
            "marker": {
             "pattern": {
              "fillmode": "overlay",
              "size": 10,
              "solidity": 0.2
             }
            },
            "type": "histogram"
           }
          ],
          "histogram2d": [
           {
            "colorbar": {
             "outlinewidth": 0,
             "ticks": ""
            },
            "colorscale": [
             [
              0,
              "#0d0887"
             ],
             [
              0.1111111111111111,
              "#46039f"
             ],
             [
              0.2222222222222222,
              "#7201a8"
             ],
             [
              0.3333333333333333,
              "#9c179e"
             ],
             [
              0.4444444444444444,
              "#bd3786"
             ],
             [
              0.5555555555555556,
              "#d8576b"
             ],
             [
              0.6666666666666666,
              "#ed7953"
             ],
             [
              0.7777777777777778,
              "#fb9f3a"
             ],
             [
              0.8888888888888888,
              "#fdca26"
             ],
             [
              1,
              "#f0f921"
             ]
            ],
            "type": "histogram2d"
           }
          ],
          "histogram2dcontour": [
           {
            "colorbar": {
             "outlinewidth": 0,
             "ticks": ""
            },
            "colorscale": [
             [
              0,
              "#0d0887"
             ],
             [
              0.1111111111111111,
              "#46039f"
             ],
             [
              0.2222222222222222,
              "#7201a8"
             ],
             [
              0.3333333333333333,
              "#9c179e"
             ],
             [
              0.4444444444444444,
              "#bd3786"
             ],
             [
              0.5555555555555556,
              "#d8576b"
             ],
             [
              0.6666666666666666,
              "#ed7953"
             ],
             [
              0.7777777777777778,
              "#fb9f3a"
             ],
             [
              0.8888888888888888,
              "#fdca26"
             ],
             [
              1,
              "#f0f921"
             ]
            ],
            "type": "histogram2dcontour"
           }
          ],
          "mesh3d": [
           {
            "colorbar": {
             "outlinewidth": 0,
             "ticks": ""
            },
            "type": "mesh3d"
           }
          ],
          "parcoords": [
           {
            "line": {
             "colorbar": {
              "outlinewidth": 0,
              "ticks": ""
             }
            },
            "type": "parcoords"
           }
          ],
          "pie": [
           {
            "automargin": true,
            "type": "pie"
           }
          ],
          "scatter": [
           {
            "fillpattern": {
             "fillmode": "overlay",
             "size": 10,
             "solidity": 0.2
            },
            "type": "scatter"
           }
          ],
          "scatter3d": [
           {
            "line": {
             "colorbar": {
              "outlinewidth": 0,
              "ticks": ""
             }
            },
            "marker": {
             "colorbar": {
              "outlinewidth": 0,
              "ticks": ""
             }
            },
            "type": "scatter3d"
           }
          ],
          "scattercarpet": [
           {
            "marker": {
             "colorbar": {
              "outlinewidth": 0,
              "ticks": ""
             }
            },
            "type": "scattercarpet"
           }
          ],
          "scattergeo": [
           {
            "marker": {
             "colorbar": {
              "outlinewidth": 0,
              "ticks": ""
             }
            },
            "type": "scattergeo"
           }
          ],
          "scattergl": [
           {
            "marker": {
             "colorbar": {
              "outlinewidth": 0,
              "ticks": ""
             }
            },
            "type": "scattergl"
           }
          ],
          "scattermapbox": [
           {
            "marker": {
             "colorbar": {
              "outlinewidth": 0,
              "ticks": ""
             }
            },
            "type": "scattermapbox"
           }
          ],
          "scatterpolar": [
           {
            "marker": {
             "colorbar": {
              "outlinewidth": 0,
              "ticks": ""
             }
            },
            "type": "scatterpolar"
           }
          ],
          "scatterpolargl": [
           {
            "marker": {
             "colorbar": {
              "outlinewidth": 0,
              "ticks": ""
             }
            },
            "type": "scatterpolargl"
           }
          ],
          "scatterternary": [
           {
            "marker": {
             "colorbar": {
              "outlinewidth": 0,
              "ticks": ""
             }
            },
            "type": "scatterternary"
           }
          ],
          "surface": [
           {
            "colorbar": {
             "outlinewidth": 0,
             "ticks": ""
            },
            "colorscale": [
             [
              0,
              "#0d0887"
             ],
             [
              0.1111111111111111,
              "#46039f"
             ],
             [
              0.2222222222222222,
              "#7201a8"
             ],
             [
              0.3333333333333333,
              "#9c179e"
             ],
             [
              0.4444444444444444,
              "#bd3786"
             ],
             [
              0.5555555555555556,
              "#d8576b"
             ],
             [
              0.6666666666666666,
              "#ed7953"
             ],
             [
              0.7777777777777778,
              "#fb9f3a"
             ],
             [
              0.8888888888888888,
              "#fdca26"
             ],
             [
              1,
              "#f0f921"
             ]
            ],
            "type": "surface"
           }
          ],
          "table": [
           {
            "cells": {
             "fill": {
              "color": "#EBF0F8"
             },
             "line": {
              "color": "white"
             }
            },
            "header": {
             "fill": {
              "color": "#C8D4E3"
             },
             "line": {
              "color": "white"
             }
            },
            "type": "table"
           }
          ]
         },
         "layout": {
          "annotationdefaults": {
           "arrowcolor": "#2a3f5f",
           "arrowhead": 0,
           "arrowwidth": 1
          },
          "autotypenumbers": "strict",
          "coloraxis": {
           "colorbar": {
            "outlinewidth": 0,
            "ticks": ""
           }
          },
          "colorscale": {
           "diverging": [
            [
             0,
             "#8e0152"
            ],
            [
             0.1,
             "#c51b7d"
            ],
            [
             0.2,
             "#de77ae"
            ],
            [
             0.3,
             "#f1b6da"
            ],
            [
             0.4,
             "#fde0ef"
            ],
            [
             0.5,
             "#f7f7f7"
            ],
            [
             0.6,
             "#e6f5d0"
            ],
            [
             0.7,
             "#b8e186"
            ],
            [
             0.8,
             "#7fbc41"
            ],
            [
             0.9,
             "#4d9221"
            ],
            [
             1,
             "#276419"
            ]
           ],
           "sequential": [
            [
             0,
             "#0d0887"
            ],
            [
             0.1111111111111111,
             "#46039f"
            ],
            [
             0.2222222222222222,
             "#7201a8"
            ],
            [
             0.3333333333333333,
             "#9c179e"
            ],
            [
             0.4444444444444444,
             "#bd3786"
            ],
            [
             0.5555555555555556,
             "#d8576b"
            ],
            [
             0.6666666666666666,
             "#ed7953"
            ],
            [
             0.7777777777777778,
             "#fb9f3a"
            ],
            [
             0.8888888888888888,
             "#fdca26"
            ],
            [
             1,
             "#f0f921"
            ]
           ],
           "sequentialminus": [
            [
             0,
             "#0d0887"
            ],
            [
             0.1111111111111111,
             "#46039f"
            ],
            [
             0.2222222222222222,
             "#7201a8"
            ],
            [
             0.3333333333333333,
             "#9c179e"
            ],
            [
             0.4444444444444444,
             "#bd3786"
            ],
            [
             0.5555555555555556,
             "#d8576b"
            ],
            [
             0.6666666666666666,
             "#ed7953"
            ],
            [
             0.7777777777777778,
             "#fb9f3a"
            ],
            [
             0.8888888888888888,
             "#fdca26"
            ],
            [
             1,
             "#f0f921"
            ]
           ]
          },
          "colorway": [
           "#636efa",
           "#EF553B",
           "#00cc96",
           "#ab63fa",
           "#FFA15A",
           "#19d3f3",
           "#FF6692",
           "#B6E880",
           "#FF97FF",
           "#FECB52"
          ],
          "font": {
           "color": "#2a3f5f"
          },
          "geo": {
           "bgcolor": "white",
           "lakecolor": "white",
           "landcolor": "#E5ECF6",
           "showlakes": true,
           "showland": true,
           "subunitcolor": "white"
          },
          "hoverlabel": {
           "align": "left"
          },
          "hovermode": "closest",
          "mapbox": {
           "style": "light"
          },
          "paper_bgcolor": "white",
          "plot_bgcolor": "#E5ECF6",
          "polar": {
           "angularaxis": {
            "gridcolor": "white",
            "linecolor": "white",
            "ticks": ""
           },
           "bgcolor": "#E5ECF6",
           "radialaxis": {
            "gridcolor": "white",
            "linecolor": "white",
            "ticks": ""
           }
          },
          "scene": {
           "xaxis": {
            "backgroundcolor": "#E5ECF6",
            "gridcolor": "white",
            "gridwidth": 2,
            "linecolor": "white",
            "showbackground": true,
            "ticks": "",
            "zerolinecolor": "white"
           },
           "yaxis": {
            "backgroundcolor": "#E5ECF6",
            "gridcolor": "white",
            "gridwidth": 2,
            "linecolor": "white",
            "showbackground": true,
            "ticks": "",
            "zerolinecolor": "white"
           },
           "zaxis": {
            "backgroundcolor": "#E5ECF6",
            "gridcolor": "white",
            "gridwidth": 2,
            "linecolor": "white",
            "showbackground": true,
            "ticks": "",
            "zerolinecolor": "white"
           }
          },
          "shapedefaults": {
           "line": {
            "color": "#2a3f5f"
           }
          },
          "ternary": {
           "aaxis": {
            "gridcolor": "white",
            "linecolor": "white",
            "ticks": ""
           },
           "baxis": {
            "gridcolor": "white",
            "linecolor": "white",
            "ticks": ""
           },
           "bgcolor": "#E5ECF6",
           "caxis": {
            "gridcolor": "white",
            "linecolor": "white",
            "ticks": ""
           }
          },
          "title": {
           "x": 0.05
          },
          "xaxis": {
           "automargin": true,
           "gridcolor": "white",
           "linecolor": "white",
           "ticks": "",
           "title": {
            "standoff": 15
           },
           "zerolinecolor": "white",
           "zerolinewidth": 2
          },
          "yaxis": {
           "automargin": true,
           "gridcolor": "white",
           "linecolor": "white",
           "ticks": "",
           "title": {
            "standoff": 15
           },
           "zerolinecolor": "white",
           "zerolinewidth": 2
          }
         }
        },
        "xaxis": {
         "anchor": "y",
         "domain": [
          0,
          1
         ],
         "title": {
          "text": "total_bill"
         }
        },
        "yaxis": {
         "anchor": "x",
         "domain": [
          0,
          1
         ],
         "title": {
          "text": "count"
         }
        }
       }
      }
     },
     "metadata": {},
     "output_type": "display_data"
    }
   ],
   "source": [
    "fig = px.histogram(tips,x='total_bill',\n",
    "                   color='sex',\n",
    "                   color_discrete_sequence=['deepskyblue','crimson'])\n",
    "fig.show()"
   ]
  },
  {
   "cell_type": "code",
   "execution_count": 25,
   "metadata": {},
   "outputs": [
    {
     "data": {
      "application/vnd.plotly.v1+json": {
       "config": {
        "plotlyServerURL": "https://plot.ly"
       },
       "data": [
        {
         "alignmentgroup": "True",
         "bingroup": "x",
         "histfunc": "avg",
         "hovertemplate": "total_bill=%{x}<br>avg of tip=%{y}<extra></extra>",
         "legendgroup": "",
         "marker": {
          "color": "#636efa",
          "pattern": {
           "shape": ""
          }
         },
         "name": "",
         "offsetgroup": "",
         "orientation": "v",
         "showlegend": false,
         "type": "histogram",
         "x": [
          16.99,
          10.34,
          21.01,
          23.68,
          24.59,
          25.29,
          8.77,
          26.88,
          15.04,
          14.78,
          10.27,
          35.26,
          15.42,
          18.43,
          14.83,
          21.58,
          10.33,
          16.29,
          16.97,
          20.65,
          17.92,
          20.29,
          15.77,
          39.42,
          19.82,
          17.81,
          13.37,
          12.69,
          21.7,
          19.65,
          9.55,
          18.35,
          15.06,
          20.69,
          17.78,
          24.06,
          16.31,
          16.93,
          18.69,
          31.27,
          16.04,
          17.46,
          13.94,
          9.68,
          30.4,
          18.29,
          22.23,
          32.4,
          28.55,
          18.04,
          12.54,
          10.29,
          34.81,
          9.94,
          25.56,
          19.49,
          38.01,
          26.41,
          11.24,
          48.27,
          20.29,
          13.81,
          11.02,
          18.29,
          17.59,
          20.08,
          16.45,
          3.07,
          20.23,
          15.01,
          12.02,
          17.07,
          26.86,
          25.28,
          14.73,
          10.51,
          17.92,
          27.2,
          22.76,
          17.29,
          19.44,
          16.66,
          10.07,
          32.68,
          15.98,
          34.83,
          13.03,
          18.28,
          24.71,
          21.16,
          28.97,
          22.49,
          5.75,
          16.32,
          22.75,
          40.17,
          27.28,
          12.03,
          21.01,
          12.46,
          11.35,
          15.38,
          44.3,
          22.42,
          20.92,
          15.36,
          20.49,
          25.21,
          18.24,
          14.31,
          14,
          7.25,
          38.07,
          23.95,
          25.71,
          17.31,
          29.93,
          10.65,
          12.43,
          24.08,
          11.69,
          13.42,
          14.26,
          15.95,
          12.48,
          29.8,
          8.52,
          14.52,
          11.38,
          22.82,
          19.08,
          20.27,
          11.17,
          12.26,
          18.26,
          8.51,
          10.33,
          14.15,
          16,
          13.16,
          17.47,
          34.3,
          41.19,
          27.05,
          16.43,
          8.35,
          18.64,
          11.87,
          9.78,
          7.51,
          14.07,
          13.13,
          17.26,
          24.55,
          19.77,
          29.85,
          48.17,
          25,
          13.39,
          16.49,
          21.5,
          12.66,
          16.21,
          13.81,
          17.51,
          24.52,
          20.76,
          31.71,
          10.59,
          10.63,
          50.81,
          15.81,
          7.25,
          31.85,
          16.82,
          32.9,
          17.89,
          14.48,
          9.6,
          34.63,
          34.65,
          23.33,
          45.35,
          23.17,
          40.55,
          20.69,
          20.9,
          30.46,
          18.15,
          23.1,
          15.69,
          19.81,
          28.44,
          15.48,
          16.58,
          7.56,
          10.34,
          43.11,
          13,
          13.51,
          18.71,
          12.74,
          13,
          16.4,
          20.53,
          16.47,
          26.59,
          38.73,
          24.27,
          12.76,
          30.06,
          25.89,
          48.33,
          13.27,
          28.17,
          12.9,
          28.15,
          11.59,
          7.74,
          30.14,
          12.16,
          13.42,
          8.58,
          15.98,
          13.42,
          16.27,
          10.09,
          20.45,
          13.28,
          22.12,
          24.01,
          15.69,
          11.61,
          10.77,
          15.53,
          10.07,
          12.6,
          32.83,
          35.83,
          29.03,
          27.18,
          22.67,
          17.82,
          18.78
         ],
         "xaxis": "x",
         "y": [
          1.01,
          1.66,
          3.5,
          3.31,
          3.61,
          4.71,
          2,
          3.12,
          1.96,
          3.23,
          1.71,
          5,
          1.57,
          3,
          3.02,
          3.92,
          1.67,
          3.71,
          3.5,
          3.35,
          4.08,
          2.75,
          2.23,
          7.58,
          3.18,
          2.34,
          2,
          2,
          4.3,
          3,
          1.45,
          2.5,
          3,
          2.45,
          3.27,
          3.6,
          2,
          3.07,
          2.31,
          5,
          2.24,
          2.54,
          3.06,
          1.32,
          5.6,
          3,
          5,
          6,
          2.05,
          3,
          2.5,
          2.6,
          5.2,
          1.56,
          4.34,
          3.51,
          3,
          1.5,
          1.76,
          6.73,
          3.21,
          2,
          1.98,
          3.76,
          2.64,
          3.15,
          2.47,
          1,
          2.01,
          2.09,
          1.97,
          3,
          3.14,
          5,
          2.2,
          1.25,
          3.08,
          4,
          3,
          2.71,
          3,
          3.4,
          1.83,
          5,
          2.03,
          5.17,
          2,
          4,
          5.85,
          3,
          3,
          3.5,
          1,
          4.3,
          3.25,
          4.73,
          4,
          1.5,
          3,
          1.5,
          2.5,
          3,
          2.5,
          3.48,
          4.08,
          1.64,
          4.06,
          4.29,
          3.76,
          4,
          3,
          1,
          4,
          2.55,
          4,
          3.5,
          5.07,
          1.5,
          1.8,
          2.92,
          2.31,
          1.68,
          2.5,
          2,
          2.52,
          4.2,
          1.48,
          2,
          2,
          2.18,
          1.5,
          2.83,
          1.5,
          2,
          3.25,
          1.25,
          2,
          2,
          2,
          2.75,
          3.5,
          6.7,
          5,
          5,
          2.3,
          1.5,
          1.36,
          1.63,
          1.73,
          2,
          2.5,
          2,
          2.74,
          2,
          2,
          5.14,
          5,
          3.75,
          2.61,
          2,
          3.5,
          2.5,
          2,
          2,
          3,
          3.48,
          2.24,
          4.5,
          1.61,
          2,
          10,
          3.16,
          5.15,
          3.18,
          4,
          3.11,
          2,
          2,
          4,
          3.55,
          3.68,
          5.65,
          3.5,
          6.5,
          3,
          5,
          3.5,
          2,
          3.5,
          4,
          1.5,
          4.19,
          2.56,
          2.02,
          4,
          1.44,
          2,
          5,
          2,
          2,
          4,
          2.01,
          2,
          2.5,
          4,
          3.23,
          3.41,
          3,
          2.03,
          2.23,
          2,
          5.16,
          9,
          2.5,
          6.5,
          1.1,
          3,
          1.5,
          1.44,
          3.09,
          2.2,
          3.48,
          1.92,
          3,
          1.58,
          2.5,
          2,
          3,
          2.72,
          2.88,
          2,
          3,
          3.39,
          1.47,
          3,
          1.25,
          1,
          1.17,
          4.67,
          5.92,
          2,
          2,
          1.75,
          3
         ],
         "yaxis": "y"
        }
       ],
       "layout": {
        "barmode": "relative",
        "legend": {
         "tracegroupgap": 0
        },
        "margin": {
         "t": 60
        },
        "template": {
         "data": {
          "bar": [
           {
            "error_x": {
             "color": "#2a3f5f"
            },
            "error_y": {
             "color": "#2a3f5f"
            },
            "marker": {
             "line": {
              "color": "#E5ECF6",
              "width": 0.5
             },
             "pattern": {
              "fillmode": "overlay",
              "size": 10,
              "solidity": 0.2
             }
            },
            "type": "bar"
           }
          ],
          "barpolar": [
           {
            "marker": {
             "line": {
              "color": "#E5ECF6",
              "width": 0.5
             },
             "pattern": {
              "fillmode": "overlay",
              "size": 10,
              "solidity": 0.2
             }
            },
            "type": "barpolar"
           }
          ],
          "carpet": [
           {
            "aaxis": {
             "endlinecolor": "#2a3f5f",
             "gridcolor": "white",
             "linecolor": "white",
             "minorgridcolor": "white",
             "startlinecolor": "#2a3f5f"
            },
            "baxis": {
             "endlinecolor": "#2a3f5f",
             "gridcolor": "white",
             "linecolor": "white",
             "minorgridcolor": "white",
             "startlinecolor": "#2a3f5f"
            },
            "type": "carpet"
           }
          ],
          "choropleth": [
           {
            "colorbar": {
             "outlinewidth": 0,
             "ticks": ""
            },
            "type": "choropleth"
           }
          ],
          "contour": [
           {
            "colorbar": {
             "outlinewidth": 0,
             "ticks": ""
            },
            "colorscale": [
             [
              0,
              "#0d0887"
             ],
             [
              0.1111111111111111,
              "#46039f"
             ],
             [
              0.2222222222222222,
              "#7201a8"
             ],
             [
              0.3333333333333333,
              "#9c179e"
             ],
             [
              0.4444444444444444,
              "#bd3786"
             ],
             [
              0.5555555555555556,
              "#d8576b"
             ],
             [
              0.6666666666666666,
              "#ed7953"
             ],
             [
              0.7777777777777778,
              "#fb9f3a"
             ],
             [
              0.8888888888888888,
              "#fdca26"
             ],
             [
              1,
              "#f0f921"
             ]
            ],
            "type": "contour"
           }
          ],
          "contourcarpet": [
           {
            "colorbar": {
             "outlinewidth": 0,
             "ticks": ""
            },
            "type": "contourcarpet"
           }
          ],
          "heatmap": [
           {
            "colorbar": {
             "outlinewidth": 0,
             "ticks": ""
            },
            "colorscale": [
             [
              0,
              "#0d0887"
             ],
             [
              0.1111111111111111,
              "#46039f"
             ],
             [
              0.2222222222222222,
              "#7201a8"
             ],
             [
              0.3333333333333333,
              "#9c179e"
             ],
             [
              0.4444444444444444,
              "#bd3786"
             ],
             [
              0.5555555555555556,
              "#d8576b"
             ],
             [
              0.6666666666666666,
              "#ed7953"
             ],
             [
              0.7777777777777778,
              "#fb9f3a"
             ],
             [
              0.8888888888888888,
              "#fdca26"
             ],
             [
              1,
              "#f0f921"
             ]
            ],
            "type": "heatmap"
           }
          ],
          "heatmapgl": [
           {
            "colorbar": {
             "outlinewidth": 0,
             "ticks": ""
            },
            "colorscale": [
             [
              0,
              "#0d0887"
             ],
             [
              0.1111111111111111,
              "#46039f"
             ],
             [
              0.2222222222222222,
              "#7201a8"
             ],
             [
              0.3333333333333333,
              "#9c179e"
             ],
             [
              0.4444444444444444,
              "#bd3786"
             ],
             [
              0.5555555555555556,
              "#d8576b"
             ],
             [
              0.6666666666666666,
              "#ed7953"
             ],
             [
              0.7777777777777778,
              "#fb9f3a"
             ],
             [
              0.8888888888888888,
              "#fdca26"
             ],
             [
              1,
              "#f0f921"
             ]
            ],
            "type": "heatmapgl"
           }
          ],
          "histogram": [
           {
            "marker": {
             "pattern": {
              "fillmode": "overlay",
              "size": 10,
              "solidity": 0.2
             }
            },
            "type": "histogram"
           }
          ],
          "histogram2d": [
           {
            "colorbar": {
             "outlinewidth": 0,
             "ticks": ""
            },
            "colorscale": [
             [
              0,
              "#0d0887"
             ],
             [
              0.1111111111111111,
              "#46039f"
             ],
             [
              0.2222222222222222,
              "#7201a8"
             ],
             [
              0.3333333333333333,
              "#9c179e"
             ],
             [
              0.4444444444444444,
              "#bd3786"
             ],
             [
              0.5555555555555556,
              "#d8576b"
             ],
             [
              0.6666666666666666,
              "#ed7953"
             ],
             [
              0.7777777777777778,
              "#fb9f3a"
             ],
             [
              0.8888888888888888,
              "#fdca26"
             ],
             [
              1,
              "#f0f921"
             ]
            ],
            "type": "histogram2d"
           }
          ],
          "histogram2dcontour": [
           {
            "colorbar": {
             "outlinewidth": 0,
             "ticks": ""
            },
            "colorscale": [
             [
              0,
              "#0d0887"
             ],
             [
              0.1111111111111111,
              "#46039f"
             ],
             [
              0.2222222222222222,
              "#7201a8"
             ],
             [
              0.3333333333333333,
              "#9c179e"
             ],
             [
              0.4444444444444444,
              "#bd3786"
             ],
             [
              0.5555555555555556,
              "#d8576b"
             ],
             [
              0.6666666666666666,
              "#ed7953"
             ],
             [
              0.7777777777777778,
              "#fb9f3a"
             ],
             [
              0.8888888888888888,
              "#fdca26"
             ],
             [
              1,
              "#f0f921"
             ]
            ],
            "type": "histogram2dcontour"
           }
          ],
          "mesh3d": [
           {
            "colorbar": {
             "outlinewidth": 0,
             "ticks": ""
            },
            "type": "mesh3d"
           }
          ],
          "parcoords": [
           {
            "line": {
             "colorbar": {
              "outlinewidth": 0,
              "ticks": ""
             }
            },
            "type": "parcoords"
           }
          ],
          "pie": [
           {
            "automargin": true,
            "type": "pie"
           }
          ],
          "scatter": [
           {
            "fillpattern": {
             "fillmode": "overlay",
             "size": 10,
             "solidity": 0.2
            },
            "type": "scatter"
           }
          ],
          "scatter3d": [
           {
            "line": {
             "colorbar": {
              "outlinewidth": 0,
              "ticks": ""
             }
            },
            "marker": {
             "colorbar": {
              "outlinewidth": 0,
              "ticks": ""
             }
            },
            "type": "scatter3d"
           }
          ],
          "scattercarpet": [
           {
            "marker": {
             "colorbar": {
              "outlinewidth": 0,
              "ticks": ""
             }
            },
            "type": "scattercarpet"
           }
          ],
          "scattergeo": [
           {
            "marker": {
             "colorbar": {
              "outlinewidth": 0,
              "ticks": ""
             }
            },
            "type": "scattergeo"
           }
          ],
          "scattergl": [
           {
            "marker": {
             "colorbar": {
              "outlinewidth": 0,
              "ticks": ""
             }
            },
            "type": "scattergl"
           }
          ],
          "scattermapbox": [
           {
            "marker": {
             "colorbar": {
              "outlinewidth": 0,
              "ticks": ""
             }
            },
            "type": "scattermapbox"
           }
          ],
          "scatterpolar": [
           {
            "marker": {
             "colorbar": {
              "outlinewidth": 0,
              "ticks": ""
             }
            },
            "type": "scatterpolar"
           }
          ],
          "scatterpolargl": [
           {
            "marker": {
             "colorbar": {
              "outlinewidth": 0,
              "ticks": ""
             }
            },
            "type": "scatterpolargl"
           }
          ],
          "scatterternary": [
           {
            "marker": {
             "colorbar": {
              "outlinewidth": 0,
              "ticks": ""
             }
            },
            "type": "scatterternary"
           }
          ],
          "surface": [
           {
            "colorbar": {
             "outlinewidth": 0,
             "ticks": ""
            },
            "colorscale": [
             [
              0,
              "#0d0887"
             ],
             [
              0.1111111111111111,
              "#46039f"
             ],
             [
              0.2222222222222222,
              "#7201a8"
             ],
             [
              0.3333333333333333,
              "#9c179e"
             ],
             [
              0.4444444444444444,
              "#bd3786"
             ],
             [
              0.5555555555555556,
              "#d8576b"
             ],
             [
              0.6666666666666666,
              "#ed7953"
             ],
             [
              0.7777777777777778,
              "#fb9f3a"
             ],
             [
              0.8888888888888888,
              "#fdca26"
             ],
             [
              1,
              "#f0f921"
             ]
            ],
            "type": "surface"
           }
          ],
          "table": [
           {
            "cells": {
             "fill": {
              "color": "#EBF0F8"
             },
             "line": {
              "color": "white"
             }
            },
            "header": {
             "fill": {
              "color": "#C8D4E3"
             },
             "line": {
              "color": "white"
             }
            },
            "type": "table"
           }
          ]
         },
         "layout": {
          "annotationdefaults": {
           "arrowcolor": "#2a3f5f",
           "arrowhead": 0,
           "arrowwidth": 1
          },
          "autotypenumbers": "strict",
          "coloraxis": {
           "colorbar": {
            "outlinewidth": 0,
            "ticks": ""
           }
          },
          "colorscale": {
           "diverging": [
            [
             0,
             "#8e0152"
            ],
            [
             0.1,
             "#c51b7d"
            ],
            [
             0.2,
             "#de77ae"
            ],
            [
             0.3,
             "#f1b6da"
            ],
            [
             0.4,
             "#fde0ef"
            ],
            [
             0.5,
             "#f7f7f7"
            ],
            [
             0.6,
             "#e6f5d0"
            ],
            [
             0.7,
             "#b8e186"
            ],
            [
             0.8,
             "#7fbc41"
            ],
            [
             0.9,
             "#4d9221"
            ],
            [
             1,
             "#276419"
            ]
           ],
           "sequential": [
            [
             0,
             "#0d0887"
            ],
            [
             0.1111111111111111,
             "#46039f"
            ],
            [
             0.2222222222222222,
             "#7201a8"
            ],
            [
             0.3333333333333333,
             "#9c179e"
            ],
            [
             0.4444444444444444,
             "#bd3786"
            ],
            [
             0.5555555555555556,
             "#d8576b"
            ],
            [
             0.6666666666666666,
             "#ed7953"
            ],
            [
             0.7777777777777778,
             "#fb9f3a"
            ],
            [
             0.8888888888888888,
             "#fdca26"
            ],
            [
             1,
             "#f0f921"
            ]
           ],
           "sequentialminus": [
            [
             0,
             "#0d0887"
            ],
            [
             0.1111111111111111,
             "#46039f"
            ],
            [
             0.2222222222222222,
             "#7201a8"
            ],
            [
             0.3333333333333333,
             "#9c179e"
            ],
            [
             0.4444444444444444,
             "#bd3786"
            ],
            [
             0.5555555555555556,
             "#d8576b"
            ],
            [
             0.6666666666666666,
             "#ed7953"
            ],
            [
             0.7777777777777778,
             "#fb9f3a"
            ],
            [
             0.8888888888888888,
             "#fdca26"
            ],
            [
             1,
             "#f0f921"
            ]
           ]
          },
          "colorway": [
           "#636efa",
           "#EF553B",
           "#00cc96",
           "#ab63fa",
           "#FFA15A",
           "#19d3f3",
           "#FF6692",
           "#B6E880",
           "#FF97FF",
           "#FECB52"
          ],
          "font": {
           "color": "#2a3f5f"
          },
          "geo": {
           "bgcolor": "white",
           "lakecolor": "white",
           "landcolor": "#E5ECF6",
           "showlakes": true,
           "showland": true,
           "subunitcolor": "white"
          },
          "hoverlabel": {
           "align": "left"
          },
          "hovermode": "closest",
          "mapbox": {
           "style": "light"
          },
          "paper_bgcolor": "white",
          "plot_bgcolor": "#E5ECF6",
          "polar": {
           "angularaxis": {
            "gridcolor": "white",
            "linecolor": "white",
            "ticks": ""
           },
           "bgcolor": "#E5ECF6",
           "radialaxis": {
            "gridcolor": "white",
            "linecolor": "white",
            "ticks": ""
           }
          },
          "scene": {
           "xaxis": {
            "backgroundcolor": "#E5ECF6",
            "gridcolor": "white",
            "gridwidth": 2,
            "linecolor": "white",
            "showbackground": true,
            "ticks": "",
            "zerolinecolor": "white"
           },
           "yaxis": {
            "backgroundcolor": "#E5ECF6",
            "gridcolor": "white",
            "gridwidth": 2,
            "linecolor": "white",
            "showbackground": true,
            "ticks": "",
            "zerolinecolor": "white"
           },
           "zaxis": {
            "backgroundcolor": "#E5ECF6",
            "gridcolor": "white",
            "gridwidth": 2,
            "linecolor": "white",
            "showbackground": true,
            "ticks": "",
            "zerolinecolor": "white"
           }
          },
          "shapedefaults": {
           "line": {
            "color": "#2a3f5f"
           }
          },
          "ternary": {
           "aaxis": {
            "gridcolor": "white",
            "linecolor": "white",
            "ticks": ""
           },
           "baxis": {
            "gridcolor": "white",
            "linecolor": "white",
            "ticks": ""
           },
           "bgcolor": "#E5ECF6",
           "caxis": {
            "gridcolor": "white",
            "linecolor": "white",
            "ticks": ""
           }
          },
          "title": {
           "x": 0.05
          },
          "xaxis": {
           "automargin": true,
           "gridcolor": "white",
           "linecolor": "white",
           "ticks": "",
           "title": {
            "standoff": 15
           },
           "zerolinecolor": "white",
           "zerolinewidth": 2
          },
          "yaxis": {
           "automargin": true,
           "gridcolor": "white",
           "linecolor": "white",
           "ticks": "",
           "title": {
            "standoff": 15
           },
           "zerolinecolor": "white",
           "zerolinewidth": 2
          }
         }
        },
        "xaxis": {
         "anchor": "y",
         "domain": [
          0,
          1
         ],
         "title": {
          "text": "total_bill"
         }
        },
        "yaxis": {
         "anchor": "x",
         "domain": [
          0,
          1
         ],
         "title": {
          "text": "avg of tip"
         }
        }
       }
      }
     },
     "metadata": {},
     "output_type": "display_data"
    }
   ],
   "source": [
    "fig = px.histogram(tips,x='total_bill',y='tip',histfunc='avg') # 집계 방식을 avg\n",
    "fig.show()"
   ]
  },
  {
   "cell_type": "code",
   "execution_count": 26,
   "metadata": {},
   "outputs": [
    {
     "data": {
      "application/vnd.plotly.v1+json": {
       "config": {
        "plotlyServerURL": "https://plot.ly"
       },
       "data": [
        {
         "alignmentgroup": "True",
         "bingroup": "x",
         "hovertemplate": "sex=Female<br>total_bill=%{x}<br>count=%{y}<extra></extra>",
         "legendgroup": "Female",
         "marker": {
          "color": "#636efa",
          "pattern": {
           "shape": ""
          }
         },
         "name": "Female",
         "offsetgroup": "Female",
         "orientation": "v",
         "showlegend": true,
         "type": "histogram",
         "x": [
          16.99,
          24.59,
          35.26,
          14.83,
          10.33,
          16.97,
          20.29,
          15.77,
          19.65,
          15.06,
          20.69,
          16.93,
          10.29,
          34.81,
          26.41,
          16.45,
          3.07,
          17.07,
          26.86,
          25.28,
          14.73,
          10.07,
          34.83,
          5.75,
          16.32,
          22.75,
          11.35,
          15.38,
          44.3,
          22.42,
          20.92,
          14.31,
          7.25,
          25.71,
          17.31,
          10.65,
          12.43,
          24.08,
          13.42,
          12.48,
          29.8,
          14.52,
          11.38,
          20.27,
          11.17,
          12.26,
          18.26,
          8.51,
          10.33,
          14.15,
          13.16,
          17.47,
          27.05,
          16.43,
          8.35,
          18.64,
          11.87,
          29.85,
          25,
          13.39,
          16.21,
          17.51,
          10.59,
          10.63,
          9.6,
          20.9,
          18.15,
          19.81,
          43.11,
          13,
          12.74,
          13,
          16.4,
          16.47,
          12.76,
          13.27,
          28.17,
          12.9,
          30.14,
          13.42,
          15.98,
          16.27,
          10.09,
          22.12,
          35.83,
          27.18,
          18.78
         ],
         "xaxis": "x",
         "yaxis": "y"
        },
        {
         "alignmentgroup": "True",
         "boxpoints": "all",
         "customdata": [
          [
           1.01,
           "Female",
           "No",
           "Sun",
           "Dinner",
           2
          ],
          [
           3.61,
           "Female",
           "No",
           "Sun",
           "Dinner",
           4
          ],
          [
           5,
           "Female",
           "No",
           "Sun",
           "Dinner",
           4
          ],
          [
           3.02,
           "Female",
           "No",
           "Sun",
           "Dinner",
           2
          ],
          [
           1.67,
           "Female",
           "No",
           "Sun",
           "Dinner",
           3
          ],
          [
           3.5,
           "Female",
           "No",
           "Sun",
           "Dinner",
           3
          ],
          [
           2.75,
           "Female",
           "No",
           "Sat",
           "Dinner",
           2
          ],
          [
           2.23,
           "Female",
           "No",
           "Sat",
           "Dinner",
           2
          ],
          [
           3,
           "Female",
           "No",
           "Sat",
           "Dinner",
           2
          ],
          [
           3,
           "Female",
           "No",
           "Sat",
           "Dinner",
           2
          ],
          [
           2.45,
           "Female",
           "No",
           "Sat",
           "Dinner",
           4
          ],
          [
           3.07,
           "Female",
           "No",
           "Sat",
           "Dinner",
           3
          ],
          [
           2.6,
           "Female",
           "No",
           "Sun",
           "Dinner",
           2
          ],
          [
           5.2,
           "Female",
           "No",
           "Sun",
           "Dinner",
           4
          ],
          [
           1.5,
           "Female",
           "No",
           "Sat",
           "Dinner",
           2
          ],
          [
           2.47,
           "Female",
           "No",
           "Sat",
           "Dinner",
           2
          ],
          [
           1,
           "Female",
           "Yes",
           "Sat",
           "Dinner",
           1
          ],
          [
           3,
           "Female",
           "No",
           "Sat",
           "Dinner",
           3
          ],
          [
           3.14,
           "Female",
           "Yes",
           "Sat",
           "Dinner",
           2
          ],
          [
           5,
           "Female",
           "Yes",
           "Sat",
           "Dinner",
           2
          ],
          [
           2.2,
           "Female",
           "No",
           "Sat",
           "Dinner",
           2
          ],
          [
           1.83,
           "Female",
           "No",
           "Thur",
           "Lunch",
           1
          ],
          [
           5.17,
           "Female",
           "No",
           "Thur",
           "Lunch",
           4
          ],
          [
           1,
           "Female",
           "Yes",
           "Fri",
           "Dinner",
           2
          ],
          [
           4.3,
           "Female",
           "Yes",
           "Fri",
           "Dinner",
           2
          ],
          [
           3.25,
           "Female",
           "No",
           "Fri",
           "Dinner",
           2
          ],
          [
           2.5,
           "Female",
           "Yes",
           "Fri",
           "Dinner",
           2
          ],
          [
           3,
           "Female",
           "Yes",
           "Fri",
           "Dinner",
           2
          ],
          [
           2.5,
           "Female",
           "Yes",
           "Sat",
           "Dinner",
           3
          ],
          [
           3.48,
           "Female",
           "Yes",
           "Sat",
           "Dinner",
           2
          ],
          [
           4.08,
           "Female",
           "No",
           "Sat",
           "Dinner",
           2
          ],
          [
           4,
           "Female",
           "Yes",
           "Sat",
           "Dinner",
           2
          ],
          [
           1,
           "Female",
           "No",
           "Sat",
           "Dinner",
           1
          ],
          [
           4,
           "Female",
           "No",
           "Sun",
           "Dinner",
           3
          ],
          [
           3.5,
           "Female",
           "No",
           "Sun",
           "Dinner",
           2
          ],
          [
           1.5,
           "Female",
           "No",
           "Thur",
           "Lunch",
           2
          ],
          [
           1.8,
           "Female",
           "No",
           "Thur",
           "Lunch",
           2
          ],
          [
           2.92,
           "Female",
           "No",
           "Thur",
           "Lunch",
           4
          ],
          [
           1.68,
           "Female",
           "No",
           "Thur",
           "Lunch",
           2
          ],
          [
           2.52,
           "Female",
           "No",
           "Thur",
           "Lunch",
           2
          ],
          [
           4.2,
           "Female",
           "No",
           "Thur",
           "Lunch",
           6
          ],
          [
           2,
           "Female",
           "No",
           "Thur",
           "Lunch",
           2
          ],
          [
           2,
           "Female",
           "No",
           "Thur",
           "Lunch",
           2
          ],
          [
           2.83,
           "Female",
           "No",
           "Thur",
           "Lunch",
           2
          ],
          [
           1.5,
           "Female",
           "No",
           "Thur",
           "Lunch",
           2
          ],
          [
           2,
           "Female",
           "No",
           "Thur",
           "Lunch",
           2
          ],
          [
           3.25,
           "Female",
           "No",
           "Thur",
           "Lunch",
           2
          ],
          [
           1.25,
           "Female",
           "No",
           "Thur",
           "Lunch",
           2
          ],
          [
           2,
           "Female",
           "No",
           "Thur",
           "Lunch",
           2
          ],
          [
           2,
           "Female",
           "No",
           "Thur",
           "Lunch",
           2
          ],
          [
           2.75,
           "Female",
           "No",
           "Thur",
           "Lunch",
           2
          ],
          [
           3.5,
           "Female",
           "No",
           "Thur",
           "Lunch",
           2
          ],
          [
           5,
           "Female",
           "No",
           "Thur",
           "Lunch",
           6
          ],
          [
           2.3,
           "Female",
           "No",
           "Thur",
           "Lunch",
           2
          ],
          [
           1.5,
           "Female",
           "No",
           "Thur",
           "Lunch",
           2
          ],
          [
           1.36,
           "Female",
           "No",
           "Thur",
           "Lunch",
           3
          ],
          [
           1.63,
           "Female",
           "No",
           "Thur",
           "Lunch",
           2
          ],
          [
           5.14,
           "Female",
           "No",
           "Sun",
           "Dinner",
           5
          ],
          [
           3.75,
           "Female",
           "No",
           "Sun",
           "Dinner",
           4
          ],
          [
           2.61,
           "Female",
           "No",
           "Sun",
           "Dinner",
           2
          ],
          [
           2,
           "Female",
           "No",
           "Sun",
           "Dinner",
           3
          ],
          [
           3,
           "Female",
           "Yes",
           "Sun",
           "Dinner",
           2
          ],
          [
           1.61,
           "Female",
           "Yes",
           "Sat",
           "Dinner",
           2
          ],
          [
           2,
           "Female",
           "Yes",
           "Sat",
           "Dinner",
           2
          ],
          [
           4,
           "Female",
           "Yes",
           "Sun",
           "Dinner",
           2
          ],
          [
           3.5,
           "Female",
           "Yes",
           "Sun",
           "Dinner",
           3
          ],
          [
           3.5,
           "Female",
           "Yes",
           "Sun",
           "Dinner",
           3
          ],
          [
           4.19,
           "Female",
           "Yes",
           "Thur",
           "Lunch",
           2
          ],
          [
           5,
           "Female",
           "Yes",
           "Thur",
           "Lunch",
           4
          ],
          [
           2,
           "Female",
           "Yes",
           "Thur",
           "Lunch",
           2
          ],
          [
           2.01,
           "Female",
           "Yes",
           "Thur",
           "Lunch",
           2
          ],
          [
           2,
           "Female",
           "Yes",
           "Thur",
           "Lunch",
           2
          ],
          [
           2.5,
           "Female",
           "Yes",
           "Thur",
           "Lunch",
           2
          ],
          [
           3.23,
           "Female",
           "Yes",
           "Thur",
           "Lunch",
           3
          ],
          [
           2.23,
           "Female",
           "Yes",
           "Sat",
           "Dinner",
           2
          ],
          [
           2.5,
           "Female",
           "Yes",
           "Sat",
           "Dinner",
           2
          ],
          [
           6.5,
           "Female",
           "Yes",
           "Sat",
           "Dinner",
           3
          ],
          [
           1.1,
           "Female",
           "Yes",
           "Sat",
           "Dinner",
           2
          ],
          [
           3.09,
           "Female",
           "Yes",
           "Sat",
           "Dinner",
           4
          ],
          [
           3.48,
           "Female",
           "Yes",
           "Fri",
           "Lunch",
           2
          ],
          [
           3,
           "Female",
           "No",
           "Fri",
           "Lunch",
           3
          ],
          [
           2.5,
           "Female",
           "Yes",
           "Fri",
           "Lunch",
           2
          ],
          [
           2,
           "Female",
           "Yes",
           "Fri",
           "Lunch",
           2
          ],
          [
           2.88,
           "Female",
           "Yes",
           "Sat",
           "Dinner",
           2
          ],
          [
           4.67,
           "Female",
           "No",
           "Sat",
           "Dinner",
           3
          ],
          [
           2,
           "Female",
           "Yes",
           "Sat",
           "Dinner",
           2
          ],
          [
           3,
           "Female",
           "No",
           "Thur",
           "Dinner",
           2
          ]
         ],
         "fillcolor": "rgba(255,255,255,0)",
         "hoveron": "points",
         "hovertemplate": "sex=%{customdata[1]}<br>total_bill=%{x}<br>tip=%{customdata[0]}<br>smoker=%{customdata[2]}<br>day=%{customdata[3]}<br>time=%{customdata[4]}<br>size=%{customdata[5]}<extra></extra>",
         "jitter": 0,
         "legendgroup": "Female",
         "line": {
          "color": "rgba(255,255,255,0)"
         },
         "marker": {
          "color": "#636efa",
          "symbol": "line-ns-open"
         },
         "name": "Female",
         "offsetgroup": "Female",
         "showlegend": false,
         "type": "box",
         "x": [
          16.99,
          24.59,
          35.26,
          14.83,
          10.33,
          16.97,
          20.29,
          15.77,
          19.65,
          15.06,
          20.69,
          16.93,
          10.29,
          34.81,
          26.41,
          16.45,
          3.07,
          17.07,
          26.86,
          25.28,
          14.73,
          10.07,
          34.83,
          5.75,
          16.32,
          22.75,
          11.35,
          15.38,
          44.3,
          22.42,
          20.92,
          14.31,
          7.25,
          25.71,
          17.31,
          10.65,
          12.43,
          24.08,
          13.42,
          12.48,
          29.8,
          14.52,
          11.38,
          20.27,
          11.17,
          12.26,
          18.26,
          8.51,
          10.33,
          14.15,
          13.16,
          17.47,
          27.05,
          16.43,
          8.35,
          18.64,
          11.87,
          29.85,
          25,
          13.39,
          16.21,
          17.51,
          10.59,
          10.63,
          9.6,
          20.9,
          18.15,
          19.81,
          43.11,
          13,
          12.74,
          13,
          16.4,
          16.47,
          12.76,
          13.27,
          28.17,
          12.9,
          30.14,
          13.42,
          15.98,
          16.27,
          10.09,
          22.12,
          35.83,
          27.18,
          18.78
         ],
         "xaxis": "x2",
         "yaxis": "y2"
        },
        {
         "alignmentgroup": "True",
         "bingroup": "x",
         "hovertemplate": "sex=Male<br>total_bill=%{x}<br>count=%{y}<extra></extra>",
         "legendgroup": "Male",
         "marker": {
          "color": "#EF553B",
          "pattern": {
           "shape": ""
          }
         },
         "name": "Male",
         "offsetgroup": "Male",
         "orientation": "v",
         "showlegend": true,
         "type": "histogram",
         "x": [
          10.34,
          21.01,
          23.68,
          25.29,
          8.77,
          26.88,
          15.04,
          14.78,
          10.27,
          15.42,
          18.43,
          21.58,
          16.29,
          20.65,
          17.92,
          39.42,
          19.82,
          17.81,
          13.37,
          12.69,
          21.7,
          9.55,
          18.35,
          17.78,
          24.06,
          16.31,
          18.69,
          31.27,
          16.04,
          17.46,
          13.94,
          9.68,
          30.4,
          18.29,
          22.23,
          32.4,
          28.55,
          18.04,
          12.54,
          9.94,
          25.56,
          19.49,
          38.01,
          11.24,
          48.27,
          20.29,
          13.81,
          11.02,
          18.29,
          17.59,
          20.08,
          20.23,
          15.01,
          12.02,
          10.51,
          17.92,
          27.2,
          22.76,
          17.29,
          19.44,
          16.66,
          32.68,
          15.98,
          13.03,
          18.28,
          24.71,
          21.16,
          28.97,
          22.49,
          40.17,
          27.28,
          12.03,
          21.01,
          12.46,
          15.36,
          20.49,
          25.21,
          18.24,
          14,
          38.07,
          23.95,
          29.93,
          11.69,
          14.26,
          15.95,
          8.52,
          22.82,
          19.08,
          16,
          34.3,
          41.19,
          9.78,
          7.51,
          14.07,
          13.13,
          17.26,
          24.55,
          19.77,
          48.17,
          16.49,
          21.5,
          12.66,
          13.81,
          24.52,
          20.76,
          31.71,
          50.81,
          15.81,
          7.25,
          31.85,
          16.82,
          32.9,
          17.89,
          14.48,
          34.63,
          34.65,
          23.33,
          45.35,
          23.17,
          40.55,
          20.69,
          30.46,
          23.1,
          15.69,
          28.44,
          15.48,
          16.58,
          7.56,
          10.34,
          13.51,
          18.71,
          20.53,
          26.59,
          38.73,
          24.27,
          30.06,
          25.89,
          48.33,
          28.15,
          11.59,
          7.74,
          12.16,
          8.58,
          13.42,
          20.45,
          13.28,
          24.01,
          15.69,
          11.61,
          10.77,
          15.53,
          10.07,
          12.6,
          32.83,
          29.03,
          22.67,
          17.82
         ],
         "xaxis": "x",
         "yaxis": "y"
        },
        {
         "alignmentgroup": "True",
         "boxpoints": "all",
         "customdata": [
          [
           1.66,
           "Male",
           "No",
           "Sun",
           "Dinner",
           3
          ],
          [
           3.5,
           "Male",
           "No",
           "Sun",
           "Dinner",
           3
          ],
          [
           3.31,
           "Male",
           "No",
           "Sun",
           "Dinner",
           2
          ],
          [
           4.71,
           "Male",
           "No",
           "Sun",
           "Dinner",
           4
          ],
          [
           2,
           "Male",
           "No",
           "Sun",
           "Dinner",
           2
          ],
          [
           3.12,
           "Male",
           "No",
           "Sun",
           "Dinner",
           4
          ],
          [
           1.96,
           "Male",
           "No",
           "Sun",
           "Dinner",
           2
          ],
          [
           3.23,
           "Male",
           "No",
           "Sun",
           "Dinner",
           2
          ],
          [
           1.71,
           "Male",
           "No",
           "Sun",
           "Dinner",
           2
          ],
          [
           1.57,
           "Male",
           "No",
           "Sun",
           "Dinner",
           2
          ],
          [
           3,
           "Male",
           "No",
           "Sun",
           "Dinner",
           4
          ],
          [
           3.92,
           "Male",
           "No",
           "Sun",
           "Dinner",
           2
          ],
          [
           3.71,
           "Male",
           "No",
           "Sun",
           "Dinner",
           3
          ],
          [
           3.35,
           "Male",
           "No",
           "Sat",
           "Dinner",
           3
          ],
          [
           4.08,
           "Male",
           "No",
           "Sat",
           "Dinner",
           2
          ],
          [
           7.58,
           "Male",
           "No",
           "Sat",
           "Dinner",
           4
          ],
          [
           3.18,
           "Male",
           "No",
           "Sat",
           "Dinner",
           2
          ],
          [
           2.34,
           "Male",
           "No",
           "Sat",
           "Dinner",
           4
          ],
          [
           2,
           "Male",
           "No",
           "Sat",
           "Dinner",
           2
          ],
          [
           2,
           "Male",
           "No",
           "Sat",
           "Dinner",
           2
          ],
          [
           4.3,
           "Male",
           "No",
           "Sat",
           "Dinner",
           2
          ],
          [
           1.45,
           "Male",
           "No",
           "Sat",
           "Dinner",
           2
          ],
          [
           2.5,
           "Male",
           "No",
           "Sat",
           "Dinner",
           4
          ],
          [
           3.27,
           "Male",
           "No",
           "Sat",
           "Dinner",
           2
          ],
          [
           3.6,
           "Male",
           "No",
           "Sat",
           "Dinner",
           3
          ],
          [
           2,
           "Male",
           "No",
           "Sat",
           "Dinner",
           3
          ],
          [
           2.31,
           "Male",
           "No",
           "Sat",
           "Dinner",
           3
          ],
          [
           5,
           "Male",
           "No",
           "Sat",
           "Dinner",
           3
          ],
          [
           2.24,
           "Male",
           "No",
           "Sat",
           "Dinner",
           3
          ],
          [
           2.54,
           "Male",
           "No",
           "Sun",
           "Dinner",
           2
          ],
          [
           3.06,
           "Male",
           "No",
           "Sun",
           "Dinner",
           2
          ],
          [
           1.32,
           "Male",
           "No",
           "Sun",
           "Dinner",
           2
          ],
          [
           5.6,
           "Male",
           "No",
           "Sun",
           "Dinner",
           4
          ],
          [
           3,
           "Male",
           "No",
           "Sun",
           "Dinner",
           2
          ],
          [
           5,
           "Male",
           "No",
           "Sun",
           "Dinner",
           2
          ],
          [
           6,
           "Male",
           "No",
           "Sun",
           "Dinner",
           4
          ],
          [
           2.05,
           "Male",
           "No",
           "Sun",
           "Dinner",
           3
          ],
          [
           3,
           "Male",
           "No",
           "Sun",
           "Dinner",
           2
          ],
          [
           2.5,
           "Male",
           "No",
           "Sun",
           "Dinner",
           2
          ],
          [
           1.56,
           "Male",
           "No",
           "Sun",
           "Dinner",
           2
          ],
          [
           4.34,
           "Male",
           "No",
           "Sun",
           "Dinner",
           4
          ],
          [
           3.51,
           "Male",
           "No",
           "Sun",
           "Dinner",
           2
          ],
          [
           3,
           "Male",
           "Yes",
           "Sat",
           "Dinner",
           4
          ],
          [
           1.76,
           "Male",
           "Yes",
           "Sat",
           "Dinner",
           2
          ],
          [
           6.73,
           "Male",
           "No",
           "Sat",
           "Dinner",
           4
          ],
          [
           3.21,
           "Male",
           "Yes",
           "Sat",
           "Dinner",
           2
          ],
          [
           2,
           "Male",
           "Yes",
           "Sat",
           "Dinner",
           2
          ],
          [
           1.98,
           "Male",
           "Yes",
           "Sat",
           "Dinner",
           2
          ],
          [
           3.76,
           "Male",
           "Yes",
           "Sat",
           "Dinner",
           4
          ],
          [
           2.64,
           "Male",
           "No",
           "Sat",
           "Dinner",
           3
          ],
          [
           3.15,
           "Male",
           "No",
           "Sat",
           "Dinner",
           3
          ],
          [
           2.01,
           "Male",
           "No",
           "Sat",
           "Dinner",
           2
          ],
          [
           2.09,
           "Male",
           "Yes",
           "Sat",
           "Dinner",
           2
          ],
          [
           1.97,
           "Male",
           "No",
           "Sat",
           "Dinner",
           2
          ],
          [
           1.25,
           "Male",
           "No",
           "Sat",
           "Dinner",
           2
          ],
          [
           3.08,
           "Male",
           "Yes",
           "Sat",
           "Dinner",
           2
          ],
          [
           4,
           "Male",
           "No",
           "Thur",
           "Lunch",
           4
          ],
          [
           3,
           "Male",
           "No",
           "Thur",
           "Lunch",
           2
          ],
          [
           2.71,
           "Male",
           "No",
           "Thur",
           "Lunch",
           2
          ],
          [
           3,
           "Male",
           "Yes",
           "Thur",
           "Lunch",
           2
          ],
          [
           3.4,
           "Male",
           "No",
           "Thur",
           "Lunch",
           2
          ],
          [
           5,
           "Male",
           "Yes",
           "Thur",
           "Lunch",
           2
          ],
          [
           2.03,
           "Male",
           "No",
           "Thur",
           "Lunch",
           2
          ],
          [
           2,
           "Male",
           "No",
           "Thur",
           "Lunch",
           2
          ],
          [
           4,
           "Male",
           "No",
           "Thur",
           "Lunch",
           2
          ],
          [
           5.85,
           "Male",
           "No",
           "Thur",
           "Lunch",
           2
          ],
          [
           3,
           "Male",
           "No",
           "Thur",
           "Lunch",
           2
          ],
          [
           3,
           "Male",
           "Yes",
           "Fri",
           "Dinner",
           2
          ],
          [
           3.5,
           "Male",
           "No",
           "Fri",
           "Dinner",
           2
          ],
          [
           4.73,
           "Male",
           "Yes",
           "Fri",
           "Dinner",
           4
          ],
          [
           4,
           "Male",
           "Yes",
           "Fri",
           "Dinner",
           2
          ],
          [
           1.5,
           "Male",
           "Yes",
           "Fri",
           "Dinner",
           2
          ],
          [
           3,
           "Male",
           "Yes",
           "Fri",
           "Dinner",
           2
          ],
          [
           1.5,
           "Male",
           "No",
           "Fri",
           "Dinner",
           2
          ],
          [
           1.64,
           "Male",
           "Yes",
           "Sat",
           "Dinner",
           2
          ],
          [
           4.06,
           "Male",
           "Yes",
           "Sat",
           "Dinner",
           2
          ],
          [
           4.29,
           "Male",
           "Yes",
           "Sat",
           "Dinner",
           2
          ],
          [
           3.76,
           "Male",
           "No",
           "Sat",
           "Dinner",
           2
          ],
          [
           3,
           "Male",
           "No",
           "Sat",
           "Dinner",
           2
          ],
          [
           4,
           "Male",
           "No",
           "Sun",
           "Dinner",
           3
          ],
          [
           2.55,
           "Male",
           "No",
           "Sun",
           "Dinner",
           2
          ],
          [
           5.07,
           "Male",
           "No",
           "Sun",
           "Dinner",
           4
          ],
          [
           2.31,
           "Male",
           "No",
           "Thur",
           "Lunch",
           2
          ],
          [
           2.5,
           "Male",
           "No",
           "Thur",
           "Lunch",
           2
          ],
          [
           2,
           "Male",
           "No",
           "Thur",
           "Lunch",
           2
          ],
          [
           1.48,
           "Male",
           "No",
           "Thur",
           "Lunch",
           2
          ],
          [
           2.18,
           "Male",
           "No",
           "Thur",
           "Lunch",
           3
          ],
          [
           1.5,
           "Male",
           "No",
           "Thur",
           "Lunch",
           2
          ],
          [
           2,
           "Male",
           "Yes",
           "Thur",
           "Lunch",
           2
          ],
          [
           6.7,
           "Male",
           "No",
           "Thur",
           "Lunch",
           6
          ],
          [
           5,
           "Male",
           "No",
           "Thur",
           "Lunch",
           5
          ],
          [
           1.73,
           "Male",
           "No",
           "Thur",
           "Lunch",
           2
          ],
          [
           2,
           "Male",
           "No",
           "Thur",
           "Lunch",
           2
          ],
          [
           2.5,
           "Male",
           "No",
           "Sun",
           "Dinner",
           2
          ],
          [
           2,
           "Male",
           "No",
           "Sun",
           "Dinner",
           2
          ],
          [
           2.74,
           "Male",
           "No",
           "Sun",
           "Dinner",
           3
          ],
          [
           2,
           "Male",
           "No",
           "Sun",
           "Dinner",
           4
          ],
          [
           2,
           "Male",
           "No",
           "Sun",
           "Dinner",
           4
          ],
          [
           5,
           "Male",
           "No",
           "Sun",
           "Dinner",
           6
          ],
          [
           2,
           "Male",
           "No",
           "Sun",
           "Dinner",
           4
          ],
          [
           3.5,
           "Male",
           "No",
           "Sun",
           "Dinner",
           4
          ],
          [
           2.5,
           "Male",
           "No",
           "Sun",
           "Dinner",
           2
          ],
          [
           2,
           "Male",
           "No",
           "Sun",
           "Dinner",
           2
          ],
          [
           3.48,
           "Male",
           "No",
           "Sun",
           "Dinner",
           3
          ],
          [
           2.24,
           "Male",
           "No",
           "Sun",
           "Dinner",
           2
          ],
          [
           4.5,
           "Male",
           "No",
           "Sun",
           "Dinner",
           4
          ],
          [
           10,
           "Male",
           "Yes",
           "Sat",
           "Dinner",
           3
          ],
          [
           3.16,
           "Male",
           "Yes",
           "Sat",
           "Dinner",
           2
          ],
          [
           5.15,
           "Male",
           "Yes",
           "Sun",
           "Dinner",
           2
          ],
          [
           3.18,
           "Male",
           "Yes",
           "Sun",
           "Dinner",
           2
          ],
          [
           4,
           "Male",
           "Yes",
           "Sun",
           "Dinner",
           2
          ],
          [
           3.11,
           "Male",
           "Yes",
           "Sun",
           "Dinner",
           2
          ],
          [
           2,
           "Male",
           "Yes",
           "Sun",
           "Dinner",
           2
          ],
          [
           2,
           "Male",
           "Yes",
           "Sun",
           "Dinner",
           2
          ],
          [
           3.55,
           "Male",
           "Yes",
           "Sun",
           "Dinner",
           2
          ],
          [
           3.68,
           "Male",
           "Yes",
           "Sun",
           "Dinner",
           4
          ],
          [
           5.65,
           "Male",
           "Yes",
           "Sun",
           "Dinner",
           2
          ],
          [
           3.5,
           "Male",
           "Yes",
           "Sun",
           "Dinner",
           3
          ],
          [
           6.5,
           "Male",
           "Yes",
           "Sun",
           "Dinner",
           4
          ],
          [
           3,
           "Male",
           "Yes",
           "Sun",
           "Dinner",
           2
          ],
          [
           5,
           "Male",
           "No",
           "Sun",
           "Dinner",
           5
          ],
          [
           2,
           "Male",
           "Yes",
           "Sun",
           "Dinner",
           5
          ],
          [
           4,
           "Male",
           "Yes",
           "Sun",
           "Dinner",
           3
          ],
          [
           1.5,
           "Male",
           "Yes",
           "Sun",
           "Dinner",
           2
          ],
          [
           2.56,
           "Male",
           "Yes",
           "Thur",
           "Lunch",
           2
          ],
          [
           2.02,
           "Male",
           "Yes",
           "Thur",
           "Lunch",
           2
          ],
          [
           4,
           "Male",
           "Yes",
           "Thur",
           "Lunch",
           2
          ],
          [
           1.44,
           "Male",
           "No",
           "Thur",
           "Lunch",
           2
          ],
          [
           2,
           "Male",
           "Yes",
           "Thur",
           "Lunch",
           2
          ],
          [
           2,
           "Male",
           "Yes",
           "Thur",
           "Lunch",
           2
          ],
          [
           4,
           "Male",
           "Yes",
           "Thur",
           "Lunch",
           3
          ],
          [
           4,
           "Male",
           "Yes",
           "Thur",
           "Lunch",
           4
          ],
          [
           3.41,
           "Male",
           "Yes",
           "Sat",
           "Dinner",
           3
          ],
          [
           3,
           "Male",
           "Yes",
           "Sat",
           "Dinner",
           4
          ],
          [
           2.03,
           "Male",
           "Yes",
           "Sat",
           "Dinner",
           2
          ],
          [
           2,
           "Male",
           "Yes",
           "Sat",
           "Dinner",
           3
          ],
          [
           5.16,
           "Male",
           "Yes",
           "Sat",
           "Dinner",
           4
          ],
          [
           9,
           "Male",
           "No",
           "Sat",
           "Dinner",
           4
          ],
          [
           3,
           "Male",
           "Yes",
           "Sat",
           "Dinner",
           5
          ],
          [
           1.5,
           "Male",
           "Yes",
           "Sat",
           "Dinner",
           2
          ],
          [
           1.44,
           "Male",
           "Yes",
           "Sat",
           "Dinner",
           2
          ],
          [
           2.2,
           "Male",
           "Yes",
           "Fri",
           "Lunch",
           2
          ],
          [
           1.92,
           "Male",
           "Yes",
           "Fri",
           "Lunch",
           1
          ],
          [
           1.58,
           "Male",
           "Yes",
           "Fri",
           "Lunch",
           2
          ],
          [
           3,
           "Male",
           "No",
           "Sat",
           "Dinner",
           4
          ],
          [
           2.72,
           "Male",
           "No",
           "Sat",
           "Dinner",
           2
          ],
          [
           2,
           "Male",
           "Yes",
           "Sat",
           "Dinner",
           4
          ],
          [
           3,
           "Male",
           "Yes",
           "Sat",
           "Dinner",
           3
          ],
          [
           3.39,
           "Male",
           "No",
           "Sat",
           "Dinner",
           2
          ],
          [
           1.47,
           "Male",
           "No",
           "Sat",
           "Dinner",
           2
          ],
          [
           3,
           "Male",
           "Yes",
           "Sat",
           "Dinner",
           2
          ],
          [
           1.25,
           "Male",
           "No",
           "Sat",
           "Dinner",
           2
          ],
          [
           1,
           "Male",
           "Yes",
           "Sat",
           "Dinner",
           2
          ],
          [
           1.17,
           "Male",
           "Yes",
           "Sat",
           "Dinner",
           2
          ],
          [
           5.92,
           "Male",
           "No",
           "Sat",
           "Dinner",
           3
          ],
          [
           2,
           "Male",
           "Yes",
           "Sat",
           "Dinner",
           2
          ],
          [
           1.75,
           "Male",
           "No",
           "Sat",
           "Dinner",
           2
          ]
         ],
         "fillcolor": "rgba(255,255,255,0)",
         "hoveron": "points",
         "hovertemplate": "sex=%{customdata[1]}<br>total_bill=%{x}<br>tip=%{customdata[0]}<br>smoker=%{customdata[2]}<br>day=%{customdata[3]}<br>time=%{customdata[4]}<br>size=%{customdata[5]}<extra></extra>",
         "jitter": 0,
         "legendgroup": "Male",
         "line": {
          "color": "rgba(255,255,255,0)"
         },
         "marker": {
          "color": "#EF553B",
          "symbol": "line-ns-open"
         },
         "name": "Male",
         "offsetgroup": "Male",
         "showlegend": false,
         "type": "box",
         "x": [
          10.34,
          21.01,
          23.68,
          25.29,
          8.77,
          26.88,
          15.04,
          14.78,
          10.27,
          15.42,
          18.43,
          21.58,
          16.29,
          20.65,
          17.92,
          39.42,
          19.82,
          17.81,
          13.37,
          12.69,
          21.7,
          9.55,
          18.35,
          17.78,
          24.06,
          16.31,
          18.69,
          31.27,
          16.04,
          17.46,
          13.94,
          9.68,
          30.4,
          18.29,
          22.23,
          32.4,
          28.55,
          18.04,
          12.54,
          9.94,
          25.56,
          19.49,
          38.01,
          11.24,
          48.27,
          20.29,
          13.81,
          11.02,
          18.29,
          17.59,
          20.08,
          20.23,
          15.01,
          12.02,
          10.51,
          17.92,
          27.2,
          22.76,
          17.29,
          19.44,
          16.66,
          32.68,
          15.98,
          13.03,
          18.28,
          24.71,
          21.16,
          28.97,
          22.49,
          40.17,
          27.28,
          12.03,
          21.01,
          12.46,
          15.36,
          20.49,
          25.21,
          18.24,
          14,
          38.07,
          23.95,
          29.93,
          11.69,
          14.26,
          15.95,
          8.52,
          22.82,
          19.08,
          16,
          34.3,
          41.19,
          9.78,
          7.51,
          14.07,
          13.13,
          17.26,
          24.55,
          19.77,
          48.17,
          16.49,
          21.5,
          12.66,
          13.81,
          24.52,
          20.76,
          31.71,
          50.81,
          15.81,
          7.25,
          31.85,
          16.82,
          32.9,
          17.89,
          14.48,
          34.63,
          34.65,
          23.33,
          45.35,
          23.17,
          40.55,
          20.69,
          30.46,
          23.1,
          15.69,
          28.44,
          15.48,
          16.58,
          7.56,
          10.34,
          13.51,
          18.71,
          20.53,
          26.59,
          38.73,
          24.27,
          30.06,
          25.89,
          48.33,
          28.15,
          11.59,
          7.74,
          12.16,
          8.58,
          13.42,
          20.45,
          13.28,
          24.01,
          15.69,
          11.61,
          10.77,
          15.53,
          10.07,
          12.6,
          32.83,
          29.03,
          22.67,
          17.82
         ],
         "xaxis": "x2",
         "yaxis": "y2"
        }
       ],
       "layout": {
        "barmode": "relative",
        "legend": {
         "title": {
          "text": "sex"
         },
         "tracegroupgap": 0
        },
        "margin": {
         "t": 60
        },
        "template": {
         "data": {
          "bar": [
           {
            "error_x": {
             "color": "#2a3f5f"
            },
            "error_y": {
             "color": "#2a3f5f"
            },
            "marker": {
             "line": {
              "color": "#E5ECF6",
              "width": 0.5
             },
             "pattern": {
              "fillmode": "overlay",
              "size": 10,
              "solidity": 0.2
             }
            },
            "type": "bar"
           }
          ],
          "barpolar": [
           {
            "marker": {
             "line": {
              "color": "#E5ECF6",
              "width": 0.5
             },
             "pattern": {
              "fillmode": "overlay",
              "size": 10,
              "solidity": 0.2
             }
            },
            "type": "barpolar"
           }
          ],
          "carpet": [
           {
            "aaxis": {
             "endlinecolor": "#2a3f5f",
             "gridcolor": "white",
             "linecolor": "white",
             "minorgridcolor": "white",
             "startlinecolor": "#2a3f5f"
            },
            "baxis": {
             "endlinecolor": "#2a3f5f",
             "gridcolor": "white",
             "linecolor": "white",
             "minorgridcolor": "white",
             "startlinecolor": "#2a3f5f"
            },
            "type": "carpet"
           }
          ],
          "choropleth": [
           {
            "colorbar": {
             "outlinewidth": 0,
             "ticks": ""
            },
            "type": "choropleth"
           }
          ],
          "contour": [
           {
            "colorbar": {
             "outlinewidth": 0,
             "ticks": ""
            },
            "colorscale": [
             [
              0,
              "#0d0887"
             ],
             [
              0.1111111111111111,
              "#46039f"
             ],
             [
              0.2222222222222222,
              "#7201a8"
             ],
             [
              0.3333333333333333,
              "#9c179e"
             ],
             [
              0.4444444444444444,
              "#bd3786"
             ],
             [
              0.5555555555555556,
              "#d8576b"
             ],
             [
              0.6666666666666666,
              "#ed7953"
             ],
             [
              0.7777777777777778,
              "#fb9f3a"
             ],
             [
              0.8888888888888888,
              "#fdca26"
             ],
             [
              1,
              "#f0f921"
             ]
            ],
            "type": "contour"
           }
          ],
          "contourcarpet": [
           {
            "colorbar": {
             "outlinewidth": 0,
             "ticks": ""
            },
            "type": "contourcarpet"
           }
          ],
          "heatmap": [
           {
            "colorbar": {
             "outlinewidth": 0,
             "ticks": ""
            },
            "colorscale": [
             [
              0,
              "#0d0887"
             ],
             [
              0.1111111111111111,
              "#46039f"
             ],
             [
              0.2222222222222222,
              "#7201a8"
             ],
             [
              0.3333333333333333,
              "#9c179e"
             ],
             [
              0.4444444444444444,
              "#bd3786"
             ],
             [
              0.5555555555555556,
              "#d8576b"
             ],
             [
              0.6666666666666666,
              "#ed7953"
             ],
             [
              0.7777777777777778,
              "#fb9f3a"
             ],
             [
              0.8888888888888888,
              "#fdca26"
             ],
             [
              1,
              "#f0f921"
             ]
            ],
            "type": "heatmap"
           }
          ],
          "heatmapgl": [
           {
            "colorbar": {
             "outlinewidth": 0,
             "ticks": ""
            },
            "colorscale": [
             [
              0,
              "#0d0887"
             ],
             [
              0.1111111111111111,
              "#46039f"
             ],
             [
              0.2222222222222222,
              "#7201a8"
             ],
             [
              0.3333333333333333,
              "#9c179e"
             ],
             [
              0.4444444444444444,
              "#bd3786"
             ],
             [
              0.5555555555555556,
              "#d8576b"
             ],
             [
              0.6666666666666666,
              "#ed7953"
             ],
             [
              0.7777777777777778,
              "#fb9f3a"
             ],
             [
              0.8888888888888888,
              "#fdca26"
             ],
             [
              1,
              "#f0f921"
             ]
            ],
            "type": "heatmapgl"
           }
          ],
          "histogram": [
           {
            "marker": {
             "pattern": {
              "fillmode": "overlay",
              "size": 10,
              "solidity": 0.2
             }
            },
            "type": "histogram"
           }
          ],
          "histogram2d": [
           {
            "colorbar": {
             "outlinewidth": 0,
             "ticks": ""
            },
            "colorscale": [
             [
              0,
              "#0d0887"
             ],
             [
              0.1111111111111111,
              "#46039f"
             ],
             [
              0.2222222222222222,
              "#7201a8"
             ],
             [
              0.3333333333333333,
              "#9c179e"
             ],
             [
              0.4444444444444444,
              "#bd3786"
             ],
             [
              0.5555555555555556,
              "#d8576b"
             ],
             [
              0.6666666666666666,
              "#ed7953"
             ],
             [
              0.7777777777777778,
              "#fb9f3a"
             ],
             [
              0.8888888888888888,
              "#fdca26"
             ],
             [
              1,
              "#f0f921"
             ]
            ],
            "type": "histogram2d"
           }
          ],
          "histogram2dcontour": [
           {
            "colorbar": {
             "outlinewidth": 0,
             "ticks": ""
            },
            "colorscale": [
             [
              0,
              "#0d0887"
             ],
             [
              0.1111111111111111,
              "#46039f"
             ],
             [
              0.2222222222222222,
              "#7201a8"
             ],
             [
              0.3333333333333333,
              "#9c179e"
             ],
             [
              0.4444444444444444,
              "#bd3786"
             ],
             [
              0.5555555555555556,
              "#d8576b"
             ],
             [
              0.6666666666666666,
              "#ed7953"
             ],
             [
              0.7777777777777778,
              "#fb9f3a"
             ],
             [
              0.8888888888888888,
              "#fdca26"
             ],
             [
              1,
              "#f0f921"
             ]
            ],
            "type": "histogram2dcontour"
           }
          ],
          "mesh3d": [
           {
            "colorbar": {
             "outlinewidth": 0,
             "ticks": ""
            },
            "type": "mesh3d"
           }
          ],
          "parcoords": [
           {
            "line": {
             "colorbar": {
              "outlinewidth": 0,
              "ticks": ""
             }
            },
            "type": "parcoords"
           }
          ],
          "pie": [
           {
            "automargin": true,
            "type": "pie"
           }
          ],
          "scatter": [
           {
            "fillpattern": {
             "fillmode": "overlay",
             "size": 10,
             "solidity": 0.2
            },
            "type": "scatter"
           }
          ],
          "scatter3d": [
           {
            "line": {
             "colorbar": {
              "outlinewidth": 0,
              "ticks": ""
             }
            },
            "marker": {
             "colorbar": {
              "outlinewidth": 0,
              "ticks": ""
             }
            },
            "type": "scatter3d"
           }
          ],
          "scattercarpet": [
           {
            "marker": {
             "colorbar": {
              "outlinewidth": 0,
              "ticks": ""
             }
            },
            "type": "scattercarpet"
           }
          ],
          "scattergeo": [
           {
            "marker": {
             "colorbar": {
              "outlinewidth": 0,
              "ticks": ""
             }
            },
            "type": "scattergeo"
           }
          ],
          "scattergl": [
           {
            "marker": {
             "colorbar": {
              "outlinewidth": 0,
              "ticks": ""
             }
            },
            "type": "scattergl"
           }
          ],
          "scattermapbox": [
           {
            "marker": {
             "colorbar": {
              "outlinewidth": 0,
              "ticks": ""
             }
            },
            "type": "scattermapbox"
           }
          ],
          "scatterpolar": [
           {
            "marker": {
             "colorbar": {
              "outlinewidth": 0,
              "ticks": ""
             }
            },
            "type": "scatterpolar"
           }
          ],
          "scatterpolargl": [
           {
            "marker": {
             "colorbar": {
              "outlinewidth": 0,
              "ticks": ""
             }
            },
            "type": "scatterpolargl"
           }
          ],
          "scatterternary": [
           {
            "marker": {
             "colorbar": {
              "outlinewidth": 0,
              "ticks": ""
             }
            },
            "type": "scatterternary"
           }
          ],
          "surface": [
           {
            "colorbar": {
             "outlinewidth": 0,
             "ticks": ""
            },
            "colorscale": [
             [
              0,
              "#0d0887"
             ],
             [
              0.1111111111111111,
              "#46039f"
             ],
             [
              0.2222222222222222,
              "#7201a8"
             ],
             [
              0.3333333333333333,
              "#9c179e"
             ],
             [
              0.4444444444444444,
              "#bd3786"
             ],
             [
              0.5555555555555556,
              "#d8576b"
             ],
             [
              0.6666666666666666,
              "#ed7953"
             ],
             [
              0.7777777777777778,
              "#fb9f3a"
             ],
             [
              0.8888888888888888,
              "#fdca26"
             ],
             [
              1,
              "#f0f921"
             ]
            ],
            "type": "surface"
           }
          ],
          "table": [
           {
            "cells": {
             "fill": {
              "color": "#EBF0F8"
             },
             "line": {
              "color": "white"
             }
            },
            "header": {
             "fill": {
              "color": "#C8D4E3"
             },
             "line": {
              "color": "white"
             }
            },
            "type": "table"
           }
          ]
         },
         "layout": {
          "annotationdefaults": {
           "arrowcolor": "#2a3f5f",
           "arrowhead": 0,
           "arrowwidth": 1
          },
          "autotypenumbers": "strict",
          "coloraxis": {
           "colorbar": {
            "outlinewidth": 0,
            "ticks": ""
           }
          },
          "colorscale": {
           "diverging": [
            [
             0,
             "#8e0152"
            ],
            [
             0.1,
             "#c51b7d"
            ],
            [
             0.2,
             "#de77ae"
            ],
            [
             0.3,
             "#f1b6da"
            ],
            [
             0.4,
             "#fde0ef"
            ],
            [
             0.5,
             "#f7f7f7"
            ],
            [
             0.6,
             "#e6f5d0"
            ],
            [
             0.7,
             "#b8e186"
            ],
            [
             0.8,
             "#7fbc41"
            ],
            [
             0.9,
             "#4d9221"
            ],
            [
             1,
             "#276419"
            ]
           ],
           "sequential": [
            [
             0,
             "#0d0887"
            ],
            [
             0.1111111111111111,
             "#46039f"
            ],
            [
             0.2222222222222222,
             "#7201a8"
            ],
            [
             0.3333333333333333,
             "#9c179e"
            ],
            [
             0.4444444444444444,
             "#bd3786"
            ],
            [
             0.5555555555555556,
             "#d8576b"
            ],
            [
             0.6666666666666666,
             "#ed7953"
            ],
            [
             0.7777777777777778,
             "#fb9f3a"
            ],
            [
             0.8888888888888888,
             "#fdca26"
            ],
            [
             1,
             "#f0f921"
            ]
           ],
           "sequentialminus": [
            [
             0,
             "#0d0887"
            ],
            [
             0.1111111111111111,
             "#46039f"
            ],
            [
             0.2222222222222222,
             "#7201a8"
            ],
            [
             0.3333333333333333,
             "#9c179e"
            ],
            [
             0.4444444444444444,
             "#bd3786"
            ],
            [
             0.5555555555555556,
             "#d8576b"
            ],
            [
             0.6666666666666666,
             "#ed7953"
            ],
            [
             0.7777777777777778,
             "#fb9f3a"
            ],
            [
             0.8888888888888888,
             "#fdca26"
            ],
            [
             1,
             "#f0f921"
            ]
           ]
          },
          "colorway": [
           "#636efa",
           "#EF553B",
           "#00cc96",
           "#ab63fa",
           "#FFA15A",
           "#19d3f3",
           "#FF6692",
           "#B6E880",
           "#FF97FF",
           "#FECB52"
          ],
          "font": {
           "color": "#2a3f5f"
          },
          "geo": {
           "bgcolor": "white",
           "lakecolor": "white",
           "landcolor": "#E5ECF6",
           "showlakes": true,
           "showland": true,
           "subunitcolor": "white"
          },
          "hoverlabel": {
           "align": "left"
          },
          "hovermode": "closest",
          "mapbox": {
           "style": "light"
          },
          "paper_bgcolor": "white",
          "plot_bgcolor": "#E5ECF6",
          "polar": {
           "angularaxis": {
            "gridcolor": "white",
            "linecolor": "white",
            "ticks": ""
           },
           "bgcolor": "#E5ECF6",
           "radialaxis": {
            "gridcolor": "white",
            "linecolor": "white",
            "ticks": ""
           }
          },
          "scene": {
           "xaxis": {
            "backgroundcolor": "#E5ECF6",
            "gridcolor": "white",
            "gridwidth": 2,
            "linecolor": "white",
            "showbackground": true,
            "ticks": "",
            "zerolinecolor": "white"
           },
           "yaxis": {
            "backgroundcolor": "#E5ECF6",
            "gridcolor": "white",
            "gridwidth": 2,
            "linecolor": "white",
            "showbackground": true,
            "ticks": "",
            "zerolinecolor": "white"
           },
           "zaxis": {
            "backgroundcolor": "#E5ECF6",
            "gridcolor": "white",
            "gridwidth": 2,
            "linecolor": "white",
            "showbackground": true,
            "ticks": "",
            "zerolinecolor": "white"
           }
          },
          "shapedefaults": {
           "line": {
            "color": "#2a3f5f"
           }
          },
          "ternary": {
           "aaxis": {
            "gridcolor": "white",
            "linecolor": "white",
            "ticks": ""
           },
           "baxis": {
            "gridcolor": "white",
            "linecolor": "white",
            "ticks": ""
           },
           "bgcolor": "#E5ECF6",
           "caxis": {
            "gridcolor": "white",
            "linecolor": "white",
            "ticks": ""
           }
          },
          "title": {
           "x": 0.05
          },
          "xaxis": {
           "automargin": true,
           "gridcolor": "white",
           "linecolor": "white",
           "ticks": "",
           "title": {
            "standoff": 15
           },
           "zerolinecolor": "white",
           "zerolinewidth": 2
          },
          "yaxis": {
           "automargin": true,
           "gridcolor": "white",
           "linecolor": "white",
           "ticks": "",
           "title": {
            "standoff": 15
           },
           "zerolinecolor": "white",
           "zerolinewidth": 2
          }
         }
        },
        "xaxis": {
         "anchor": "y",
         "domain": [
          0,
          1
         ],
         "title": {
          "text": "total_bill"
         }
        },
        "xaxis2": {
         "anchor": "y2",
         "domain": [
          0,
          1
         ],
         "matches": "x",
         "showgrid": true,
         "showticklabels": false
        },
        "yaxis": {
         "anchor": "x",
         "domain": [
          0,
          0.7326
         ],
         "title": {
          "text": "count"
         }
        },
        "yaxis2": {
         "anchor": "x2",
         "domain": [
          0.7426,
          1
         ],
         "matches": "y2",
         "showgrid": false,
         "showline": false,
         "showticklabels": false,
         "ticks": ""
        }
       }
      }
     },
     "metadata": {},
     "output_type": "display_data"
    }
   ],
   "source": [
    "fig = px.histogram(tips,x='total_bill',\n",
    "                   color='sex',\n",
    "                   marginal='rug',\n",
    "                   hover_data=tips.columns)\n",
    "fig.show()"
   ]
  },
  {
   "cell_type": "code",
   "execution_count": 28,
   "metadata": {},
   "outputs": [
    {
     "data": {
      "application/vnd.plotly.v1+json": {
       "config": {
        "plotlyServerURL": "https://plot.ly"
       },
       "data": [
        {
         "alignmentgroup": "True",
         "bingroup": "x",
         "hovertemplate": "sex=Female<br>total_bill=%{x}<br>count=%{y}<extra></extra>",
         "legendgroup": "Female",
         "marker": {
          "color": "#636efa",
          "pattern": {
           "shape": ""
          }
         },
         "name": "Female",
         "offsetgroup": "Female",
         "orientation": "v",
         "showlegend": true,
         "type": "histogram",
         "x": [
          16.99,
          24.59,
          35.26,
          14.83,
          10.33,
          16.97,
          20.29,
          15.77,
          19.65,
          15.06,
          20.69,
          16.93,
          10.29,
          34.81,
          26.41,
          16.45,
          3.07,
          17.07,
          26.86,
          25.28,
          14.73,
          10.07,
          34.83,
          5.75,
          16.32,
          22.75,
          11.35,
          15.38,
          44.3,
          22.42,
          20.92,
          14.31,
          7.25,
          25.71,
          17.31,
          10.65,
          12.43,
          24.08,
          13.42,
          12.48,
          29.8,
          14.52,
          11.38,
          20.27,
          11.17,
          12.26,
          18.26,
          8.51,
          10.33,
          14.15,
          13.16,
          17.47,
          27.05,
          16.43,
          8.35,
          18.64,
          11.87,
          29.85,
          25,
          13.39,
          16.21,
          17.51,
          10.59,
          10.63,
          9.6,
          20.9,
          18.15,
          19.81,
          43.11,
          13,
          12.74,
          13,
          16.4,
          16.47,
          12.76,
          13.27,
          28.17,
          12.9,
          30.14,
          13.42,
          15.98,
          16.27,
          10.09,
          22.12,
          35.83,
          27.18,
          18.78
         ],
         "xaxis": "x",
         "yaxis": "y"
        },
        {
         "alignmentgroup": "True",
         "customdata": [
          [
           1.01,
           "Female",
           "No",
           "Sun",
           "Dinner",
           2
          ],
          [
           3.61,
           "Female",
           "No",
           "Sun",
           "Dinner",
           4
          ],
          [
           5,
           "Female",
           "No",
           "Sun",
           "Dinner",
           4
          ],
          [
           3.02,
           "Female",
           "No",
           "Sun",
           "Dinner",
           2
          ],
          [
           1.67,
           "Female",
           "No",
           "Sun",
           "Dinner",
           3
          ],
          [
           3.5,
           "Female",
           "No",
           "Sun",
           "Dinner",
           3
          ],
          [
           2.75,
           "Female",
           "No",
           "Sat",
           "Dinner",
           2
          ],
          [
           2.23,
           "Female",
           "No",
           "Sat",
           "Dinner",
           2
          ],
          [
           3,
           "Female",
           "No",
           "Sat",
           "Dinner",
           2
          ],
          [
           3,
           "Female",
           "No",
           "Sat",
           "Dinner",
           2
          ],
          [
           2.45,
           "Female",
           "No",
           "Sat",
           "Dinner",
           4
          ],
          [
           3.07,
           "Female",
           "No",
           "Sat",
           "Dinner",
           3
          ],
          [
           2.6,
           "Female",
           "No",
           "Sun",
           "Dinner",
           2
          ],
          [
           5.2,
           "Female",
           "No",
           "Sun",
           "Dinner",
           4
          ],
          [
           1.5,
           "Female",
           "No",
           "Sat",
           "Dinner",
           2
          ],
          [
           2.47,
           "Female",
           "No",
           "Sat",
           "Dinner",
           2
          ],
          [
           1,
           "Female",
           "Yes",
           "Sat",
           "Dinner",
           1
          ],
          [
           3,
           "Female",
           "No",
           "Sat",
           "Dinner",
           3
          ],
          [
           3.14,
           "Female",
           "Yes",
           "Sat",
           "Dinner",
           2
          ],
          [
           5,
           "Female",
           "Yes",
           "Sat",
           "Dinner",
           2
          ],
          [
           2.2,
           "Female",
           "No",
           "Sat",
           "Dinner",
           2
          ],
          [
           1.83,
           "Female",
           "No",
           "Thur",
           "Lunch",
           1
          ],
          [
           5.17,
           "Female",
           "No",
           "Thur",
           "Lunch",
           4
          ],
          [
           1,
           "Female",
           "Yes",
           "Fri",
           "Dinner",
           2
          ],
          [
           4.3,
           "Female",
           "Yes",
           "Fri",
           "Dinner",
           2
          ],
          [
           3.25,
           "Female",
           "No",
           "Fri",
           "Dinner",
           2
          ],
          [
           2.5,
           "Female",
           "Yes",
           "Fri",
           "Dinner",
           2
          ],
          [
           3,
           "Female",
           "Yes",
           "Fri",
           "Dinner",
           2
          ],
          [
           2.5,
           "Female",
           "Yes",
           "Sat",
           "Dinner",
           3
          ],
          [
           3.48,
           "Female",
           "Yes",
           "Sat",
           "Dinner",
           2
          ],
          [
           4.08,
           "Female",
           "No",
           "Sat",
           "Dinner",
           2
          ],
          [
           4,
           "Female",
           "Yes",
           "Sat",
           "Dinner",
           2
          ],
          [
           1,
           "Female",
           "No",
           "Sat",
           "Dinner",
           1
          ],
          [
           4,
           "Female",
           "No",
           "Sun",
           "Dinner",
           3
          ],
          [
           3.5,
           "Female",
           "No",
           "Sun",
           "Dinner",
           2
          ],
          [
           1.5,
           "Female",
           "No",
           "Thur",
           "Lunch",
           2
          ],
          [
           1.8,
           "Female",
           "No",
           "Thur",
           "Lunch",
           2
          ],
          [
           2.92,
           "Female",
           "No",
           "Thur",
           "Lunch",
           4
          ],
          [
           1.68,
           "Female",
           "No",
           "Thur",
           "Lunch",
           2
          ],
          [
           2.52,
           "Female",
           "No",
           "Thur",
           "Lunch",
           2
          ],
          [
           4.2,
           "Female",
           "No",
           "Thur",
           "Lunch",
           6
          ],
          [
           2,
           "Female",
           "No",
           "Thur",
           "Lunch",
           2
          ],
          [
           2,
           "Female",
           "No",
           "Thur",
           "Lunch",
           2
          ],
          [
           2.83,
           "Female",
           "No",
           "Thur",
           "Lunch",
           2
          ],
          [
           1.5,
           "Female",
           "No",
           "Thur",
           "Lunch",
           2
          ],
          [
           2,
           "Female",
           "No",
           "Thur",
           "Lunch",
           2
          ],
          [
           3.25,
           "Female",
           "No",
           "Thur",
           "Lunch",
           2
          ],
          [
           1.25,
           "Female",
           "No",
           "Thur",
           "Lunch",
           2
          ],
          [
           2,
           "Female",
           "No",
           "Thur",
           "Lunch",
           2
          ],
          [
           2,
           "Female",
           "No",
           "Thur",
           "Lunch",
           2
          ],
          [
           2.75,
           "Female",
           "No",
           "Thur",
           "Lunch",
           2
          ],
          [
           3.5,
           "Female",
           "No",
           "Thur",
           "Lunch",
           2
          ],
          [
           5,
           "Female",
           "No",
           "Thur",
           "Lunch",
           6
          ],
          [
           2.3,
           "Female",
           "No",
           "Thur",
           "Lunch",
           2
          ],
          [
           1.5,
           "Female",
           "No",
           "Thur",
           "Lunch",
           2
          ],
          [
           1.36,
           "Female",
           "No",
           "Thur",
           "Lunch",
           3
          ],
          [
           1.63,
           "Female",
           "No",
           "Thur",
           "Lunch",
           2
          ],
          [
           5.14,
           "Female",
           "No",
           "Sun",
           "Dinner",
           5
          ],
          [
           3.75,
           "Female",
           "No",
           "Sun",
           "Dinner",
           4
          ],
          [
           2.61,
           "Female",
           "No",
           "Sun",
           "Dinner",
           2
          ],
          [
           2,
           "Female",
           "No",
           "Sun",
           "Dinner",
           3
          ],
          [
           3,
           "Female",
           "Yes",
           "Sun",
           "Dinner",
           2
          ],
          [
           1.61,
           "Female",
           "Yes",
           "Sat",
           "Dinner",
           2
          ],
          [
           2,
           "Female",
           "Yes",
           "Sat",
           "Dinner",
           2
          ],
          [
           4,
           "Female",
           "Yes",
           "Sun",
           "Dinner",
           2
          ],
          [
           3.5,
           "Female",
           "Yes",
           "Sun",
           "Dinner",
           3
          ],
          [
           3.5,
           "Female",
           "Yes",
           "Sun",
           "Dinner",
           3
          ],
          [
           4.19,
           "Female",
           "Yes",
           "Thur",
           "Lunch",
           2
          ],
          [
           5,
           "Female",
           "Yes",
           "Thur",
           "Lunch",
           4
          ],
          [
           2,
           "Female",
           "Yes",
           "Thur",
           "Lunch",
           2
          ],
          [
           2.01,
           "Female",
           "Yes",
           "Thur",
           "Lunch",
           2
          ],
          [
           2,
           "Female",
           "Yes",
           "Thur",
           "Lunch",
           2
          ],
          [
           2.5,
           "Female",
           "Yes",
           "Thur",
           "Lunch",
           2
          ],
          [
           3.23,
           "Female",
           "Yes",
           "Thur",
           "Lunch",
           3
          ],
          [
           2.23,
           "Female",
           "Yes",
           "Sat",
           "Dinner",
           2
          ],
          [
           2.5,
           "Female",
           "Yes",
           "Sat",
           "Dinner",
           2
          ],
          [
           6.5,
           "Female",
           "Yes",
           "Sat",
           "Dinner",
           3
          ],
          [
           1.1,
           "Female",
           "Yes",
           "Sat",
           "Dinner",
           2
          ],
          [
           3.09,
           "Female",
           "Yes",
           "Sat",
           "Dinner",
           4
          ],
          [
           3.48,
           "Female",
           "Yes",
           "Fri",
           "Lunch",
           2
          ],
          [
           3,
           "Female",
           "No",
           "Fri",
           "Lunch",
           3
          ],
          [
           2.5,
           "Female",
           "Yes",
           "Fri",
           "Lunch",
           2
          ],
          [
           2,
           "Female",
           "Yes",
           "Fri",
           "Lunch",
           2
          ],
          [
           2.88,
           "Female",
           "Yes",
           "Sat",
           "Dinner",
           2
          ],
          [
           4.67,
           "Female",
           "No",
           "Sat",
           "Dinner",
           3
          ],
          [
           2,
           "Female",
           "Yes",
           "Sat",
           "Dinner",
           2
          ],
          [
           3,
           "Female",
           "No",
           "Thur",
           "Dinner",
           2
          ]
         ],
         "hovertemplate": "sex=%{customdata[1]}<br>total_bill=%{x}<br>tip=%{customdata[0]}<br>smoker=%{customdata[2]}<br>day=%{customdata[3]}<br>time=%{customdata[4]}<br>size=%{customdata[5]}<extra></extra>",
         "legendgroup": "Female",
         "marker": {
          "color": "#636efa"
         },
         "name": "Female",
         "notched": true,
         "offsetgroup": "Female",
         "showlegend": false,
         "type": "box",
         "x": [
          16.99,
          24.59,
          35.26,
          14.83,
          10.33,
          16.97,
          20.29,
          15.77,
          19.65,
          15.06,
          20.69,
          16.93,
          10.29,
          34.81,
          26.41,
          16.45,
          3.07,
          17.07,
          26.86,
          25.28,
          14.73,
          10.07,
          34.83,
          5.75,
          16.32,
          22.75,
          11.35,
          15.38,
          44.3,
          22.42,
          20.92,
          14.31,
          7.25,
          25.71,
          17.31,
          10.65,
          12.43,
          24.08,
          13.42,
          12.48,
          29.8,
          14.52,
          11.38,
          20.27,
          11.17,
          12.26,
          18.26,
          8.51,
          10.33,
          14.15,
          13.16,
          17.47,
          27.05,
          16.43,
          8.35,
          18.64,
          11.87,
          29.85,
          25,
          13.39,
          16.21,
          17.51,
          10.59,
          10.63,
          9.6,
          20.9,
          18.15,
          19.81,
          43.11,
          13,
          12.74,
          13,
          16.4,
          16.47,
          12.76,
          13.27,
          28.17,
          12.9,
          30.14,
          13.42,
          15.98,
          16.27,
          10.09,
          22.12,
          35.83,
          27.18,
          18.78
         ],
         "xaxis": "x2",
         "yaxis": "y2"
        },
        {
         "alignmentgroup": "True",
         "bingroup": "x",
         "hovertemplate": "sex=Male<br>total_bill=%{x}<br>count=%{y}<extra></extra>",
         "legendgroup": "Male",
         "marker": {
          "color": "#EF553B",
          "pattern": {
           "shape": ""
          }
         },
         "name": "Male",
         "offsetgroup": "Male",
         "orientation": "v",
         "showlegend": true,
         "type": "histogram",
         "x": [
          10.34,
          21.01,
          23.68,
          25.29,
          8.77,
          26.88,
          15.04,
          14.78,
          10.27,
          15.42,
          18.43,
          21.58,
          16.29,
          20.65,
          17.92,
          39.42,
          19.82,
          17.81,
          13.37,
          12.69,
          21.7,
          9.55,
          18.35,
          17.78,
          24.06,
          16.31,
          18.69,
          31.27,
          16.04,
          17.46,
          13.94,
          9.68,
          30.4,
          18.29,
          22.23,
          32.4,
          28.55,
          18.04,
          12.54,
          9.94,
          25.56,
          19.49,
          38.01,
          11.24,
          48.27,
          20.29,
          13.81,
          11.02,
          18.29,
          17.59,
          20.08,
          20.23,
          15.01,
          12.02,
          10.51,
          17.92,
          27.2,
          22.76,
          17.29,
          19.44,
          16.66,
          32.68,
          15.98,
          13.03,
          18.28,
          24.71,
          21.16,
          28.97,
          22.49,
          40.17,
          27.28,
          12.03,
          21.01,
          12.46,
          15.36,
          20.49,
          25.21,
          18.24,
          14,
          38.07,
          23.95,
          29.93,
          11.69,
          14.26,
          15.95,
          8.52,
          22.82,
          19.08,
          16,
          34.3,
          41.19,
          9.78,
          7.51,
          14.07,
          13.13,
          17.26,
          24.55,
          19.77,
          48.17,
          16.49,
          21.5,
          12.66,
          13.81,
          24.52,
          20.76,
          31.71,
          50.81,
          15.81,
          7.25,
          31.85,
          16.82,
          32.9,
          17.89,
          14.48,
          34.63,
          34.65,
          23.33,
          45.35,
          23.17,
          40.55,
          20.69,
          30.46,
          23.1,
          15.69,
          28.44,
          15.48,
          16.58,
          7.56,
          10.34,
          13.51,
          18.71,
          20.53,
          26.59,
          38.73,
          24.27,
          30.06,
          25.89,
          48.33,
          28.15,
          11.59,
          7.74,
          12.16,
          8.58,
          13.42,
          20.45,
          13.28,
          24.01,
          15.69,
          11.61,
          10.77,
          15.53,
          10.07,
          12.6,
          32.83,
          29.03,
          22.67,
          17.82
         ],
         "xaxis": "x",
         "yaxis": "y"
        },
        {
         "alignmentgroup": "True",
         "customdata": [
          [
           1.66,
           "Male",
           "No",
           "Sun",
           "Dinner",
           3
          ],
          [
           3.5,
           "Male",
           "No",
           "Sun",
           "Dinner",
           3
          ],
          [
           3.31,
           "Male",
           "No",
           "Sun",
           "Dinner",
           2
          ],
          [
           4.71,
           "Male",
           "No",
           "Sun",
           "Dinner",
           4
          ],
          [
           2,
           "Male",
           "No",
           "Sun",
           "Dinner",
           2
          ],
          [
           3.12,
           "Male",
           "No",
           "Sun",
           "Dinner",
           4
          ],
          [
           1.96,
           "Male",
           "No",
           "Sun",
           "Dinner",
           2
          ],
          [
           3.23,
           "Male",
           "No",
           "Sun",
           "Dinner",
           2
          ],
          [
           1.71,
           "Male",
           "No",
           "Sun",
           "Dinner",
           2
          ],
          [
           1.57,
           "Male",
           "No",
           "Sun",
           "Dinner",
           2
          ],
          [
           3,
           "Male",
           "No",
           "Sun",
           "Dinner",
           4
          ],
          [
           3.92,
           "Male",
           "No",
           "Sun",
           "Dinner",
           2
          ],
          [
           3.71,
           "Male",
           "No",
           "Sun",
           "Dinner",
           3
          ],
          [
           3.35,
           "Male",
           "No",
           "Sat",
           "Dinner",
           3
          ],
          [
           4.08,
           "Male",
           "No",
           "Sat",
           "Dinner",
           2
          ],
          [
           7.58,
           "Male",
           "No",
           "Sat",
           "Dinner",
           4
          ],
          [
           3.18,
           "Male",
           "No",
           "Sat",
           "Dinner",
           2
          ],
          [
           2.34,
           "Male",
           "No",
           "Sat",
           "Dinner",
           4
          ],
          [
           2,
           "Male",
           "No",
           "Sat",
           "Dinner",
           2
          ],
          [
           2,
           "Male",
           "No",
           "Sat",
           "Dinner",
           2
          ],
          [
           4.3,
           "Male",
           "No",
           "Sat",
           "Dinner",
           2
          ],
          [
           1.45,
           "Male",
           "No",
           "Sat",
           "Dinner",
           2
          ],
          [
           2.5,
           "Male",
           "No",
           "Sat",
           "Dinner",
           4
          ],
          [
           3.27,
           "Male",
           "No",
           "Sat",
           "Dinner",
           2
          ],
          [
           3.6,
           "Male",
           "No",
           "Sat",
           "Dinner",
           3
          ],
          [
           2,
           "Male",
           "No",
           "Sat",
           "Dinner",
           3
          ],
          [
           2.31,
           "Male",
           "No",
           "Sat",
           "Dinner",
           3
          ],
          [
           5,
           "Male",
           "No",
           "Sat",
           "Dinner",
           3
          ],
          [
           2.24,
           "Male",
           "No",
           "Sat",
           "Dinner",
           3
          ],
          [
           2.54,
           "Male",
           "No",
           "Sun",
           "Dinner",
           2
          ],
          [
           3.06,
           "Male",
           "No",
           "Sun",
           "Dinner",
           2
          ],
          [
           1.32,
           "Male",
           "No",
           "Sun",
           "Dinner",
           2
          ],
          [
           5.6,
           "Male",
           "No",
           "Sun",
           "Dinner",
           4
          ],
          [
           3,
           "Male",
           "No",
           "Sun",
           "Dinner",
           2
          ],
          [
           5,
           "Male",
           "No",
           "Sun",
           "Dinner",
           2
          ],
          [
           6,
           "Male",
           "No",
           "Sun",
           "Dinner",
           4
          ],
          [
           2.05,
           "Male",
           "No",
           "Sun",
           "Dinner",
           3
          ],
          [
           3,
           "Male",
           "No",
           "Sun",
           "Dinner",
           2
          ],
          [
           2.5,
           "Male",
           "No",
           "Sun",
           "Dinner",
           2
          ],
          [
           1.56,
           "Male",
           "No",
           "Sun",
           "Dinner",
           2
          ],
          [
           4.34,
           "Male",
           "No",
           "Sun",
           "Dinner",
           4
          ],
          [
           3.51,
           "Male",
           "No",
           "Sun",
           "Dinner",
           2
          ],
          [
           3,
           "Male",
           "Yes",
           "Sat",
           "Dinner",
           4
          ],
          [
           1.76,
           "Male",
           "Yes",
           "Sat",
           "Dinner",
           2
          ],
          [
           6.73,
           "Male",
           "No",
           "Sat",
           "Dinner",
           4
          ],
          [
           3.21,
           "Male",
           "Yes",
           "Sat",
           "Dinner",
           2
          ],
          [
           2,
           "Male",
           "Yes",
           "Sat",
           "Dinner",
           2
          ],
          [
           1.98,
           "Male",
           "Yes",
           "Sat",
           "Dinner",
           2
          ],
          [
           3.76,
           "Male",
           "Yes",
           "Sat",
           "Dinner",
           4
          ],
          [
           2.64,
           "Male",
           "No",
           "Sat",
           "Dinner",
           3
          ],
          [
           3.15,
           "Male",
           "No",
           "Sat",
           "Dinner",
           3
          ],
          [
           2.01,
           "Male",
           "No",
           "Sat",
           "Dinner",
           2
          ],
          [
           2.09,
           "Male",
           "Yes",
           "Sat",
           "Dinner",
           2
          ],
          [
           1.97,
           "Male",
           "No",
           "Sat",
           "Dinner",
           2
          ],
          [
           1.25,
           "Male",
           "No",
           "Sat",
           "Dinner",
           2
          ],
          [
           3.08,
           "Male",
           "Yes",
           "Sat",
           "Dinner",
           2
          ],
          [
           4,
           "Male",
           "No",
           "Thur",
           "Lunch",
           4
          ],
          [
           3,
           "Male",
           "No",
           "Thur",
           "Lunch",
           2
          ],
          [
           2.71,
           "Male",
           "No",
           "Thur",
           "Lunch",
           2
          ],
          [
           3,
           "Male",
           "Yes",
           "Thur",
           "Lunch",
           2
          ],
          [
           3.4,
           "Male",
           "No",
           "Thur",
           "Lunch",
           2
          ],
          [
           5,
           "Male",
           "Yes",
           "Thur",
           "Lunch",
           2
          ],
          [
           2.03,
           "Male",
           "No",
           "Thur",
           "Lunch",
           2
          ],
          [
           2,
           "Male",
           "No",
           "Thur",
           "Lunch",
           2
          ],
          [
           4,
           "Male",
           "No",
           "Thur",
           "Lunch",
           2
          ],
          [
           5.85,
           "Male",
           "No",
           "Thur",
           "Lunch",
           2
          ],
          [
           3,
           "Male",
           "No",
           "Thur",
           "Lunch",
           2
          ],
          [
           3,
           "Male",
           "Yes",
           "Fri",
           "Dinner",
           2
          ],
          [
           3.5,
           "Male",
           "No",
           "Fri",
           "Dinner",
           2
          ],
          [
           4.73,
           "Male",
           "Yes",
           "Fri",
           "Dinner",
           4
          ],
          [
           4,
           "Male",
           "Yes",
           "Fri",
           "Dinner",
           2
          ],
          [
           1.5,
           "Male",
           "Yes",
           "Fri",
           "Dinner",
           2
          ],
          [
           3,
           "Male",
           "Yes",
           "Fri",
           "Dinner",
           2
          ],
          [
           1.5,
           "Male",
           "No",
           "Fri",
           "Dinner",
           2
          ],
          [
           1.64,
           "Male",
           "Yes",
           "Sat",
           "Dinner",
           2
          ],
          [
           4.06,
           "Male",
           "Yes",
           "Sat",
           "Dinner",
           2
          ],
          [
           4.29,
           "Male",
           "Yes",
           "Sat",
           "Dinner",
           2
          ],
          [
           3.76,
           "Male",
           "No",
           "Sat",
           "Dinner",
           2
          ],
          [
           3,
           "Male",
           "No",
           "Sat",
           "Dinner",
           2
          ],
          [
           4,
           "Male",
           "No",
           "Sun",
           "Dinner",
           3
          ],
          [
           2.55,
           "Male",
           "No",
           "Sun",
           "Dinner",
           2
          ],
          [
           5.07,
           "Male",
           "No",
           "Sun",
           "Dinner",
           4
          ],
          [
           2.31,
           "Male",
           "No",
           "Thur",
           "Lunch",
           2
          ],
          [
           2.5,
           "Male",
           "No",
           "Thur",
           "Lunch",
           2
          ],
          [
           2,
           "Male",
           "No",
           "Thur",
           "Lunch",
           2
          ],
          [
           1.48,
           "Male",
           "No",
           "Thur",
           "Lunch",
           2
          ],
          [
           2.18,
           "Male",
           "No",
           "Thur",
           "Lunch",
           3
          ],
          [
           1.5,
           "Male",
           "No",
           "Thur",
           "Lunch",
           2
          ],
          [
           2,
           "Male",
           "Yes",
           "Thur",
           "Lunch",
           2
          ],
          [
           6.7,
           "Male",
           "No",
           "Thur",
           "Lunch",
           6
          ],
          [
           5,
           "Male",
           "No",
           "Thur",
           "Lunch",
           5
          ],
          [
           1.73,
           "Male",
           "No",
           "Thur",
           "Lunch",
           2
          ],
          [
           2,
           "Male",
           "No",
           "Thur",
           "Lunch",
           2
          ],
          [
           2.5,
           "Male",
           "No",
           "Sun",
           "Dinner",
           2
          ],
          [
           2,
           "Male",
           "No",
           "Sun",
           "Dinner",
           2
          ],
          [
           2.74,
           "Male",
           "No",
           "Sun",
           "Dinner",
           3
          ],
          [
           2,
           "Male",
           "No",
           "Sun",
           "Dinner",
           4
          ],
          [
           2,
           "Male",
           "No",
           "Sun",
           "Dinner",
           4
          ],
          [
           5,
           "Male",
           "No",
           "Sun",
           "Dinner",
           6
          ],
          [
           2,
           "Male",
           "No",
           "Sun",
           "Dinner",
           4
          ],
          [
           3.5,
           "Male",
           "No",
           "Sun",
           "Dinner",
           4
          ],
          [
           2.5,
           "Male",
           "No",
           "Sun",
           "Dinner",
           2
          ],
          [
           2,
           "Male",
           "No",
           "Sun",
           "Dinner",
           2
          ],
          [
           3.48,
           "Male",
           "No",
           "Sun",
           "Dinner",
           3
          ],
          [
           2.24,
           "Male",
           "No",
           "Sun",
           "Dinner",
           2
          ],
          [
           4.5,
           "Male",
           "No",
           "Sun",
           "Dinner",
           4
          ],
          [
           10,
           "Male",
           "Yes",
           "Sat",
           "Dinner",
           3
          ],
          [
           3.16,
           "Male",
           "Yes",
           "Sat",
           "Dinner",
           2
          ],
          [
           5.15,
           "Male",
           "Yes",
           "Sun",
           "Dinner",
           2
          ],
          [
           3.18,
           "Male",
           "Yes",
           "Sun",
           "Dinner",
           2
          ],
          [
           4,
           "Male",
           "Yes",
           "Sun",
           "Dinner",
           2
          ],
          [
           3.11,
           "Male",
           "Yes",
           "Sun",
           "Dinner",
           2
          ],
          [
           2,
           "Male",
           "Yes",
           "Sun",
           "Dinner",
           2
          ],
          [
           2,
           "Male",
           "Yes",
           "Sun",
           "Dinner",
           2
          ],
          [
           3.55,
           "Male",
           "Yes",
           "Sun",
           "Dinner",
           2
          ],
          [
           3.68,
           "Male",
           "Yes",
           "Sun",
           "Dinner",
           4
          ],
          [
           5.65,
           "Male",
           "Yes",
           "Sun",
           "Dinner",
           2
          ],
          [
           3.5,
           "Male",
           "Yes",
           "Sun",
           "Dinner",
           3
          ],
          [
           6.5,
           "Male",
           "Yes",
           "Sun",
           "Dinner",
           4
          ],
          [
           3,
           "Male",
           "Yes",
           "Sun",
           "Dinner",
           2
          ],
          [
           5,
           "Male",
           "No",
           "Sun",
           "Dinner",
           5
          ],
          [
           2,
           "Male",
           "Yes",
           "Sun",
           "Dinner",
           5
          ],
          [
           4,
           "Male",
           "Yes",
           "Sun",
           "Dinner",
           3
          ],
          [
           1.5,
           "Male",
           "Yes",
           "Sun",
           "Dinner",
           2
          ],
          [
           2.56,
           "Male",
           "Yes",
           "Thur",
           "Lunch",
           2
          ],
          [
           2.02,
           "Male",
           "Yes",
           "Thur",
           "Lunch",
           2
          ],
          [
           4,
           "Male",
           "Yes",
           "Thur",
           "Lunch",
           2
          ],
          [
           1.44,
           "Male",
           "No",
           "Thur",
           "Lunch",
           2
          ],
          [
           2,
           "Male",
           "Yes",
           "Thur",
           "Lunch",
           2
          ],
          [
           2,
           "Male",
           "Yes",
           "Thur",
           "Lunch",
           2
          ],
          [
           4,
           "Male",
           "Yes",
           "Thur",
           "Lunch",
           3
          ],
          [
           4,
           "Male",
           "Yes",
           "Thur",
           "Lunch",
           4
          ],
          [
           3.41,
           "Male",
           "Yes",
           "Sat",
           "Dinner",
           3
          ],
          [
           3,
           "Male",
           "Yes",
           "Sat",
           "Dinner",
           4
          ],
          [
           2.03,
           "Male",
           "Yes",
           "Sat",
           "Dinner",
           2
          ],
          [
           2,
           "Male",
           "Yes",
           "Sat",
           "Dinner",
           3
          ],
          [
           5.16,
           "Male",
           "Yes",
           "Sat",
           "Dinner",
           4
          ],
          [
           9,
           "Male",
           "No",
           "Sat",
           "Dinner",
           4
          ],
          [
           3,
           "Male",
           "Yes",
           "Sat",
           "Dinner",
           5
          ],
          [
           1.5,
           "Male",
           "Yes",
           "Sat",
           "Dinner",
           2
          ],
          [
           1.44,
           "Male",
           "Yes",
           "Sat",
           "Dinner",
           2
          ],
          [
           2.2,
           "Male",
           "Yes",
           "Fri",
           "Lunch",
           2
          ],
          [
           1.92,
           "Male",
           "Yes",
           "Fri",
           "Lunch",
           1
          ],
          [
           1.58,
           "Male",
           "Yes",
           "Fri",
           "Lunch",
           2
          ],
          [
           3,
           "Male",
           "No",
           "Sat",
           "Dinner",
           4
          ],
          [
           2.72,
           "Male",
           "No",
           "Sat",
           "Dinner",
           2
          ],
          [
           2,
           "Male",
           "Yes",
           "Sat",
           "Dinner",
           4
          ],
          [
           3,
           "Male",
           "Yes",
           "Sat",
           "Dinner",
           3
          ],
          [
           3.39,
           "Male",
           "No",
           "Sat",
           "Dinner",
           2
          ],
          [
           1.47,
           "Male",
           "No",
           "Sat",
           "Dinner",
           2
          ],
          [
           3,
           "Male",
           "Yes",
           "Sat",
           "Dinner",
           2
          ],
          [
           1.25,
           "Male",
           "No",
           "Sat",
           "Dinner",
           2
          ],
          [
           1,
           "Male",
           "Yes",
           "Sat",
           "Dinner",
           2
          ],
          [
           1.17,
           "Male",
           "Yes",
           "Sat",
           "Dinner",
           2
          ],
          [
           5.92,
           "Male",
           "No",
           "Sat",
           "Dinner",
           3
          ],
          [
           2,
           "Male",
           "Yes",
           "Sat",
           "Dinner",
           2
          ],
          [
           1.75,
           "Male",
           "No",
           "Sat",
           "Dinner",
           2
          ]
         ],
         "hovertemplate": "sex=%{customdata[1]}<br>total_bill=%{x}<br>tip=%{customdata[0]}<br>smoker=%{customdata[2]}<br>day=%{customdata[3]}<br>time=%{customdata[4]}<br>size=%{customdata[5]}<extra></extra>",
         "legendgroup": "Male",
         "marker": {
          "color": "#EF553B"
         },
         "name": "Male",
         "notched": true,
         "offsetgroup": "Male",
         "showlegend": false,
         "type": "box",
         "x": [
          10.34,
          21.01,
          23.68,
          25.29,
          8.77,
          26.88,
          15.04,
          14.78,
          10.27,
          15.42,
          18.43,
          21.58,
          16.29,
          20.65,
          17.92,
          39.42,
          19.82,
          17.81,
          13.37,
          12.69,
          21.7,
          9.55,
          18.35,
          17.78,
          24.06,
          16.31,
          18.69,
          31.27,
          16.04,
          17.46,
          13.94,
          9.68,
          30.4,
          18.29,
          22.23,
          32.4,
          28.55,
          18.04,
          12.54,
          9.94,
          25.56,
          19.49,
          38.01,
          11.24,
          48.27,
          20.29,
          13.81,
          11.02,
          18.29,
          17.59,
          20.08,
          20.23,
          15.01,
          12.02,
          10.51,
          17.92,
          27.2,
          22.76,
          17.29,
          19.44,
          16.66,
          32.68,
          15.98,
          13.03,
          18.28,
          24.71,
          21.16,
          28.97,
          22.49,
          40.17,
          27.28,
          12.03,
          21.01,
          12.46,
          15.36,
          20.49,
          25.21,
          18.24,
          14,
          38.07,
          23.95,
          29.93,
          11.69,
          14.26,
          15.95,
          8.52,
          22.82,
          19.08,
          16,
          34.3,
          41.19,
          9.78,
          7.51,
          14.07,
          13.13,
          17.26,
          24.55,
          19.77,
          48.17,
          16.49,
          21.5,
          12.66,
          13.81,
          24.52,
          20.76,
          31.71,
          50.81,
          15.81,
          7.25,
          31.85,
          16.82,
          32.9,
          17.89,
          14.48,
          34.63,
          34.65,
          23.33,
          45.35,
          23.17,
          40.55,
          20.69,
          30.46,
          23.1,
          15.69,
          28.44,
          15.48,
          16.58,
          7.56,
          10.34,
          13.51,
          18.71,
          20.53,
          26.59,
          38.73,
          24.27,
          30.06,
          25.89,
          48.33,
          28.15,
          11.59,
          7.74,
          12.16,
          8.58,
          13.42,
          20.45,
          13.28,
          24.01,
          15.69,
          11.61,
          10.77,
          15.53,
          10.07,
          12.6,
          32.83,
          29.03,
          22.67,
          17.82
         ],
         "xaxis": "x2",
         "yaxis": "y2"
        }
       ],
       "layout": {
        "barmode": "relative",
        "legend": {
         "title": {
          "text": "sex"
         },
         "tracegroupgap": 0
        },
        "margin": {
         "t": 60
        },
        "template": {
         "data": {
          "bar": [
           {
            "error_x": {
             "color": "#2a3f5f"
            },
            "error_y": {
             "color": "#2a3f5f"
            },
            "marker": {
             "line": {
              "color": "#E5ECF6",
              "width": 0.5
             },
             "pattern": {
              "fillmode": "overlay",
              "size": 10,
              "solidity": 0.2
             }
            },
            "type": "bar"
           }
          ],
          "barpolar": [
           {
            "marker": {
             "line": {
              "color": "#E5ECF6",
              "width": 0.5
             },
             "pattern": {
              "fillmode": "overlay",
              "size": 10,
              "solidity": 0.2
             }
            },
            "type": "barpolar"
           }
          ],
          "carpet": [
           {
            "aaxis": {
             "endlinecolor": "#2a3f5f",
             "gridcolor": "white",
             "linecolor": "white",
             "minorgridcolor": "white",
             "startlinecolor": "#2a3f5f"
            },
            "baxis": {
             "endlinecolor": "#2a3f5f",
             "gridcolor": "white",
             "linecolor": "white",
             "minorgridcolor": "white",
             "startlinecolor": "#2a3f5f"
            },
            "type": "carpet"
           }
          ],
          "choropleth": [
           {
            "colorbar": {
             "outlinewidth": 0,
             "ticks": ""
            },
            "type": "choropleth"
           }
          ],
          "contour": [
           {
            "colorbar": {
             "outlinewidth": 0,
             "ticks": ""
            },
            "colorscale": [
             [
              0,
              "#0d0887"
             ],
             [
              0.1111111111111111,
              "#46039f"
             ],
             [
              0.2222222222222222,
              "#7201a8"
             ],
             [
              0.3333333333333333,
              "#9c179e"
             ],
             [
              0.4444444444444444,
              "#bd3786"
             ],
             [
              0.5555555555555556,
              "#d8576b"
             ],
             [
              0.6666666666666666,
              "#ed7953"
             ],
             [
              0.7777777777777778,
              "#fb9f3a"
             ],
             [
              0.8888888888888888,
              "#fdca26"
             ],
             [
              1,
              "#f0f921"
             ]
            ],
            "type": "contour"
           }
          ],
          "contourcarpet": [
           {
            "colorbar": {
             "outlinewidth": 0,
             "ticks": ""
            },
            "type": "contourcarpet"
           }
          ],
          "heatmap": [
           {
            "colorbar": {
             "outlinewidth": 0,
             "ticks": ""
            },
            "colorscale": [
             [
              0,
              "#0d0887"
             ],
             [
              0.1111111111111111,
              "#46039f"
             ],
             [
              0.2222222222222222,
              "#7201a8"
             ],
             [
              0.3333333333333333,
              "#9c179e"
             ],
             [
              0.4444444444444444,
              "#bd3786"
             ],
             [
              0.5555555555555556,
              "#d8576b"
             ],
             [
              0.6666666666666666,
              "#ed7953"
             ],
             [
              0.7777777777777778,
              "#fb9f3a"
             ],
             [
              0.8888888888888888,
              "#fdca26"
             ],
             [
              1,
              "#f0f921"
             ]
            ],
            "type": "heatmap"
           }
          ],
          "heatmapgl": [
           {
            "colorbar": {
             "outlinewidth": 0,
             "ticks": ""
            },
            "colorscale": [
             [
              0,
              "#0d0887"
             ],
             [
              0.1111111111111111,
              "#46039f"
             ],
             [
              0.2222222222222222,
              "#7201a8"
             ],
             [
              0.3333333333333333,
              "#9c179e"
             ],
             [
              0.4444444444444444,
              "#bd3786"
             ],
             [
              0.5555555555555556,
              "#d8576b"
             ],
             [
              0.6666666666666666,
              "#ed7953"
             ],
             [
              0.7777777777777778,
              "#fb9f3a"
             ],
             [
              0.8888888888888888,
              "#fdca26"
             ],
             [
              1,
              "#f0f921"
             ]
            ],
            "type": "heatmapgl"
           }
          ],
          "histogram": [
           {
            "marker": {
             "pattern": {
              "fillmode": "overlay",
              "size": 10,
              "solidity": 0.2
             }
            },
            "type": "histogram"
           }
          ],
          "histogram2d": [
           {
            "colorbar": {
             "outlinewidth": 0,
             "ticks": ""
            },
            "colorscale": [
             [
              0,
              "#0d0887"
             ],
             [
              0.1111111111111111,
              "#46039f"
             ],
             [
              0.2222222222222222,
              "#7201a8"
             ],
             [
              0.3333333333333333,
              "#9c179e"
             ],
             [
              0.4444444444444444,
              "#bd3786"
             ],
             [
              0.5555555555555556,
              "#d8576b"
             ],
             [
              0.6666666666666666,
              "#ed7953"
             ],
             [
              0.7777777777777778,
              "#fb9f3a"
             ],
             [
              0.8888888888888888,
              "#fdca26"
             ],
             [
              1,
              "#f0f921"
             ]
            ],
            "type": "histogram2d"
           }
          ],
          "histogram2dcontour": [
           {
            "colorbar": {
             "outlinewidth": 0,
             "ticks": ""
            },
            "colorscale": [
             [
              0,
              "#0d0887"
             ],
             [
              0.1111111111111111,
              "#46039f"
             ],
             [
              0.2222222222222222,
              "#7201a8"
             ],
             [
              0.3333333333333333,
              "#9c179e"
             ],
             [
              0.4444444444444444,
              "#bd3786"
             ],
             [
              0.5555555555555556,
              "#d8576b"
             ],
             [
              0.6666666666666666,
              "#ed7953"
             ],
             [
              0.7777777777777778,
              "#fb9f3a"
             ],
             [
              0.8888888888888888,
              "#fdca26"
             ],
             [
              1,
              "#f0f921"
             ]
            ],
            "type": "histogram2dcontour"
           }
          ],
          "mesh3d": [
           {
            "colorbar": {
             "outlinewidth": 0,
             "ticks": ""
            },
            "type": "mesh3d"
           }
          ],
          "parcoords": [
           {
            "line": {
             "colorbar": {
              "outlinewidth": 0,
              "ticks": ""
             }
            },
            "type": "parcoords"
           }
          ],
          "pie": [
           {
            "automargin": true,
            "type": "pie"
           }
          ],
          "scatter": [
           {
            "fillpattern": {
             "fillmode": "overlay",
             "size": 10,
             "solidity": 0.2
            },
            "type": "scatter"
           }
          ],
          "scatter3d": [
           {
            "line": {
             "colorbar": {
              "outlinewidth": 0,
              "ticks": ""
             }
            },
            "marker": {
             "colorbar": {
              "outlinewidth": 0,
              "ticks": ""
             }
            },
            "type": "scatter3d"
           }
          ],
          "scattercarpet": [
           {
            "marker": {
             "colorbar": {
              "outlinewidth": 0,
              "ticks": ""
             }
            },
            "type": "scattercarpet"
           }
          ],
          "scattergeo": [
           {
            "marker": {
             "colorbar": {
              "outlinewidth": 0,
              "ticks": ""
             }
            },
            "type": "scattergeo"
           }
          ],
          "scattergl": [
           {
            "marker": {
             "colorbar": {
              "outlinewidth": 0,
              "ticks": ""
             }
            },
            "type": "scattergl"
           }
          ],
          "scattermapbox": [
           {
            "marker": {
             "colorbar": {
              "outlinewidth": 0,
              "ticks": ""
             }
            },
            "type": "scattermapbox"
           }
          ],
          "scatterpolar": [
           {
            "marker": {
             "colorbar": {
              "outlinewidth": 0,
              "ticks": ""
             }
            },
            "type": "scatterpolar"
           }
          ],
          "scatterpolargl": [
           {
            "marker": {
             "colorbar": {
              "outlinewidth": 0,
              "ticks": ""
             }
            },
            "type": "scatterpolargl"
           }
          ],
          "scatterternary": [
           {
            "marker": {
             "colorbar": {
              "outlinewidth": 0,
              "ticks": ""
             }
            },
            "type": "scatterternary"
           }
          ],
          "surface": [
           {
            "colorbar": {
             "outlinewidth": 0,
             "ticks": ""
            },
            "colorscale": [
             [
              0,
              "#0d0887"
             ],
             [
              0.1111111111111111,
              "#46039f"
             ],
             [
              0.2222222222222222,
              "#7201a8"
             ],
             [
              0.3333333333333333,
              "#9c179e"
             ],
             [
              0.4444444444444444,
              "#bd3786"
             ],
             [
              0.5555555555555556,
              "#d8576b"
             ],
             [
              0.6666666666666666,
              "#ed7953"
             ],
             [
              0.7777777777777778,
              "#fb9f3a"
             ],
             [
              0.8888888888888888,
              "#fdca26"
             ],
             [
              1,
              "#f0f921"
             ]
            ],
            "type": "surface"
           }
          ],
          "table": [
           {
            "cells": {
             "fill": {
              "color": "#EBF0F8"
             },
             "line": {
              "color": "white"
             }
            },
            "header": {
             "fill": {
              "color": "#C8D4E3"
             },
             "line": {
              "color": "white"
             }
            },
            "type": "table"
           }
          ]
         },
         "layout": {
          "annotationdefaults": {
           "arrowcolor": "#2a3f5f",
           "arrowhead": 0,
           "arrowwidth": 1
          },
          "autotypenumbers": "strict",
          "coloraxis": {
           "colorbar": {
            "outlinewidth": 0,
            "ticks": ""
           }
          },
          "colorscale": {
           "diverging": [
            [
             0,
             "#8e0152"
            ],
            [
             0.1,
             "#c51b7d"
            ],
            [
             0.2,
             "#de77ae"
            ],
            [
             0.3,
             "#f1b6da"
            ],
            [
             0.4,
             "#fde0ef"
            ],
            [
             0.5,
             "#f7f7f7"
            ],
            [
             0.6,
             "#e6f5d0"
            ],
            [
             0.7,
             "#b8e186"
            ],
            [
             0.8,
             "#7fbc41"
            ],
            [
             0.9,
             "#4d9221"
            ],
            [
             1,
             "#276419"
            ]
           ],
           "sequential": [
            [
             0,
             "#0d0887"
            ],
            [
             0.1111111111111111,
             "#46039f"
            ],
            [
             0.2222222222222222,
             "#7201a8"
            ],
            [
             0.3333333333333333,
             "#9c179e"
            ],
            [
             0.4444444444444444,
             "#bd3786"
            ],
            [
             0.5555555555555556,
             "#d8576b"
            ],
            [
             0.6666666666666666,
             "#ed7953"
            ],
            [
             0.7777777777777778,
             "#fb9f3a"
            ],
            [
             0.8888888888888888,
             "#fdca26"
            ],
            [
             1,
             "#f0f921"
            ]
           ],
           "sequentialminus": [
            [
             0,
             "#0d0887"
            ],
            [
             0.1111111111111111,
             "#46039f"
            ],
            [
             0.2222222222222222,
             "#7201a8"
            ],
            [
             0.3333333333333333,
             "#9c179e"
            ],
            [
             0.4444444444444444,
             "#bd3786"
            ],
            [
             0.5555555555555556,
             "#d8576b"
            ],
            [
             0.6666666666666666,
             "#ed7953"
            ],
            [
             0.7777777777777778,
             "#fb9f3a"
            ],
            [
             0.8888888888888888,
             "#fdca26"
            ],
            [
             1,
             "#f0f921"
            ]
           ]
          },
          "colorway": [
           "#636efa",
           "#EF553B",
           "#00cc96",
           "#ab63fa",
           "#FFA15A",
           "#19d3f3",
           "#FF6692",
           "#B6E880",
           "#FF97FF",
           "#FECB52"
          ],
          "font": {
           "color": "#2a3f5f"
          },
          "geo": {
           "bgcolor": "white",
           "lakecolor": "white",
           "landcolor": "#E5ECF6",
           "showlakes": true,
           "showland": true,
           "subunitcolor": "white"
          },
          "hoverlabel": {
           "align": "left"
          },
          "hovermode": "closest",
          "mapbox": {
           "style": "light"
          },
          "paper_bgcolor": "white",
          "plot_bgcolor": "#E5ECF6",
          "polar": {
           "angularaxis": {
            "gridcolor": "white",
            "linecolor": "white",
            "ticks": ""
           },
           "bgcolor": "#E5ECF6",
           "radialaxis": {
            "gridcolor": "white",
            "linecolor": "white",
            "ticks": ""
           }
          },
          "scene": {
           "xaxis": {
            "backgroundcolor": "#E5ECF6",
            "gridcolor": "white",
            "gridwidth": 2,
            "linecolor": "white",
            "showbackground": true,
            "ticks": "",
            "zerolinecolor": "white"
           },
           "yaxis": {
            "backgroundcolor": "#E5ECF6",
            "gridcolor": "white",
            "gridwidth": 2,
            "linecolor": "white",
            "showbackground": true,
            "ticks": "",
            "zerolinecolor": "white"
           },
           "zaxis": {
            "backgroundcolor": "#E5ECF6",
            "gridcolor": "white",
            "gridwidth": 2,
            "linecolor": "white",
            "showbackground": true,
            "ticks": "",
            "zerolinecolor": "white"
           }
          },
          "shapedefaults": {
           "line": {
            "color": "#2a3f5f"
           }
          },
          "ternary": {
           "aaxis": {
            "gridcolor": "white",
            "linecolor": "white",
            "ticks": ""
           },
           "baxis": {
            "gridcolor": "white",
            "linecolor": "white",
            "ticks": ""
           },
           "bgcolor": "#E5ECF6",
           "caxis": {
            "gridcolor": "white",
            "linecolor": "white",
            "ticks": ""
           }
          },
          "title": {
           "x": 0.05
          },
          "xaxis": {
           "automargin": true,
           "gridcolor": "white",
           "linecolor": "white",
           "ticks": "",
           "title": {
            "standoff": 15
           },
           "zerolinecolor": "white",
           "zerolinewidth": 2
          },
          "yaxis": {
           "automargin": true,
           "gridcolor": "white",
           "linecolor": "white",
           "ticks": "",
           "title": {
            "standoff": 15
           },
           "zerolinecolor": "white",
           "zerolinewidth": 2
          }
         }
        },
        "xaxis": {
         "anchor": "y",
         "domain": [
          0,
          1
         ],
         "title": {
          "text": "total_bill"
         }
        },
        "xaxis2": {
         "anchor": "y2",
         "domain": [
          0,
          1
         ],
         "matches": "x",
         "showgrid": true,
         "showticklabels": false
        },
        "yaxis": {
         "anchor": "x",
         "domain": [
          0,
          0.7326
         ],
         "title": {
          "text": "count"
         }
        },
        "yaxis2": {
         "anchor": "x2",
         "domain": [
          0.7426,
          1
         ],
         "matches": "y2",
         "showgrid": false,
         "showline": false,
         "showticklabels": false,
         "ticks": ""
        }
       }
      }
     },
     "metadata": {},
     "output_type": "display_data"
    }
   ],
   "source": [
    "fig = px.histogram(tips,x='total_bill',\n",
    "                   color='sex',\n",
    "                   marginal='box',\n",
    "                   hover_data=tips.columns)\n",
    "fig.show()"
   ]
  },
  {
   "cell_type": "code",
   "execution_count": 27,
   "metadata": {},
   "outputs": [
    {
     "data": {
      "application/vnd.plotly.v1+json": {
       "config": {
        "plotlyServerURL": "https://plot.ly"
       },
       "data": [
        {
         "alignmentgroup": "True",
         "bingroup": "x",
         "hovertemplate": "sex=Female<br>total_bill=%{x}<br>count=%{y}<extra></extra>",
         "legendgroup": "Female",
         "marker": {
          "color": "#636efa",
          "pattern": {
           "shape": ""
          }
         },
         "name": "Female",
         "offsetgroup": "Female",
         "orientation": "v",
         "showlegend": true,
         "type": "histogram",
         "x": [
          16.99,
          24.59,
          35.26,
          14.83,
          10.33,
          16.97,
          20.29,
          15.77,
          19.65,
          15.06,
          20.69,
          16.93,
          10.29,
          34.81,
          26.41,
          16.45,
          3.07,
          17.07,
          26.86,
          25.28,
          14.73,
          10.07,
          34.83,
          5.75,
          16.32,
          22.75,
          11.35,
          15.38,
          44.3,
          22.42,
          20.92,
          14.31,
          7.25,
          25.71,
          17.31,
          10.65,
          12.43,
          24.08,
          13.42,
          12.48,
          29.8,
          14.52,
          11.38,
          20.27,
          11.17,
          12.26,
          18.26,
          8.51,
          10.33,
          14.15,
          13.16,
          17.47,
          27.05,
          16.43,
          8.35,
          18.64,
          11.87,
          29.85,
          25,
          13.39,
          16.21,
          17.51,
          10.59,
          10.63,
          9.6,
          20.9,
          18.15,
          19.81,
          43.11,
          13,
          12.74,
          13,
          16.4,
          16.47,
          12.76,
          13.27,
          28.17,
          12.9,
          30.14,
          13.42,
          15.98,
          16.27,
          10.09,
          22.12,
          35.83,
          27.18,
          18.78
         ],
         "xaxis": "x",
         "yaxis": "y"
        },
        {
         "alignmentgroup": "True",
         "customdata": [
          [
           1.01,
           "Female",
           "No",
           "Sun",
           "Dinner",
           2
          ],
          [
           3.61,
           "Female",
           "No",
           "Sun",
           "Dinner",
           4
          ],
          [
           5,
           "Female",
           "No",
           "Sun",
           "Dinner",
           4
          ],
          [
           3.02,
           "Female",
           "No",
           "Sun",
           "Dinner",
           2
          ],
          [
           1.67,
           "Female",
           "No",
           "Sun",
           "Dinner",
           3
          ],
          [
           3.5,
           "Female",
           "No",
           "Sun",
           "Dinner",
           3
          ],
          [
           2.75,
           "Female",
           "No",
           "Sat",
           "Dinner",
           2
          ],
          [
           2.23,
           "Female",
           "No",
           "Sat",
           "Dinner",
           2
          ],
          [
           3,
           "Female",
           "No",
           "Sat",
           "Dinner",
           2
          ],
          [
           3,
           "Female",
           "No",
           "Sat",
           "Dinner",
           2
          ],
          [
           2.45,
           "Female",
           "No",
           "Sat",
           "Dinner",
           4
          ],
          [
           3.07,
           "Female",
           "No",
           "Sat",
           "Dinner",
           3
          ],
          [
           2.6,
           "Female",
           "No",
           "Sun",
           "Dinner",
           2
          ],
          [
           5.2,
           "Female",
           "No",
           "Sun",
           "Dinner",
           4
          ],
          [
           1.5,
           "Female",
           "No",
           "Sat",
           "Dinner",
           2
          ],
          [
           2.47,
           "Female",
           "No",
           "Sat",
           "Dinner",
           2
          ],
          [
           1,
           "Female",
           "Yes",
           "Sat",
           "Dinner",
           1
          ],
          [
           3,
           "Female",
           "No",
           "Sat",
           "Dinner",
           3
          ],
          [
           3.14,
           "Female",
           "Yes",
           "Sat",
           "Dinner",
           2
          ],
          [
           5,
           "Female",
           "Yes",
           "Sat",
           "Dinner",
           2
          ],
          [
           2.2,
           "Female",
           "No",
           "Sat",
           "Dinner",
           2
          ],
          [
           1.83,
           "Female",
           "No",
           "Thur",
           "Lunch",
           1
          ],
          [
           5.17,
           "Female",
           "No",
           "Thur",
           "Lunch",
           4
          ],
          [
           1,
           "Female",
           "Yes",
           "Fri",
           "Dinner",
           2
          ],
          [
           4.3,
           "Female",
           "Yes",
           "Fri",
           "Dinner",
           2
          ],
          [
           3.25,
           "Female",
           "No",
           "Fri",
           "Dinner",
           2
          ],
          [
           2.5,
           "Female",
           "Yes",
           "Fri",
           "Dinner",
           2
          ],
          [
           3,
           "Female",
           "Yes",
           "Fri",
           "Dinner",
           2
          ],
          [
           2.5,
           "Female",
           "Yes",
           "Sat",
           "Dinner",
           3
          ],
          [
           3.48,
           "Female",
           "Yes",
           "Sat",
           "Dinner",
           2
          ],
          [
           4.08,
           "Female",
           "No",
           "Sat",
           "Dinner",
           2
          ],
          [
           4,
           "Female",
           "Yes",
           "Sat",
           "Dinner",
           2
          ],
          [
           1,
           "Female",
           "No",
           "Sat",
           "Dinner",
           1
          ],
          [
           4,
           "Female",
           "No",
           "Sun",
           "Dinner",
           3
          ],
          [
           3.5,
           "Female",
           "No",
           "Sun",
           "Dinner",
           2
          ],
          [
           1.5,
           "Female",
           "No",
           "Thur",
           "Lunch",
           2
          ],
          [
           1.8,
           "Female",
           "No",
           "Thur",
           "Lunch",
           2
          ],
          [
           2.92,
           "Female",
           "No",
           "Thur",
           "Lunch",
           4
          ],
          [
           1.68,
           "Female",
           "No",
           "Thur",
           "Lunch",
           2
          ],
          [
           2.52,
           "Female",
           "No",
           "Thur",
           "Lunch",
           2
          ],
          [
           4.2,
           "Female",
           "No",
           "Thur",
           "Lunch",
           6
          ],
          [
           2,
           "Female",
           "No",
           "Thur",
           "Lunch",
           2
          ],
          [
           2,
           "Female",
           "No",
           "Thur",
           "Lunch",
           2
          ],
          [
           2.83,
           "Female",
           "No",
           "Thur",
           "Lunch",
           2
          ],
          [
           1.5,
           "Female",
           "No",
           "Thur",
           "Lunch",
           2
          ],
          [
           2,
           "Female",
           "No",
           "Thur",
           "Lunch",
           2
          ],
          [
           3.25,
           "Female",
           "No",
           "Thur",
           "Lunch",
           2
          ],
          [
           1.25,
           "Female",
           "No",
           "Thur",
           "Lunch",
           2
          ],
          [
           2,
           "Female",
           "No",
           "Thur",
           "Lunch",
           2
          ],
          [
           2,
           "Female",
           "No",
           "Thur",
           "Lunch",
           2
          ],
          [
           2.75,
           "Female",
           "No",
           "Thur",
           "Lunch",
           2
          ],
          [
           3.5,
           "Female",
           "No",
           "Thur",
           "Lunch",
           2
          ],
          [
           5,
           "Female",
           "No",
           "Thur",
           "Lunch",
           6
          ],
          [
           2.3,
           "Female",
           "No",
           "Thur",
           "Lunch",
           2
          ],
          [
           1.5,
           "Female",
           "No",
           "Thur",
           "Lunch",
           2
          ],
          [
           1.36,
           "Female",
           "No",
           "Thur",
           "Lunch",
           3
          ],
          [
           1.63,
           "Female",
           "No",
           "Thur",
           "Lunch",
           2
          ],
          [
           5.14,
           "Female",
           "No",
           "Sun",
           "Dinner",
           5
          ],
          [
           3.75,
           "Female",
           "No",
           "Sun",
           "Dinner",
           4
          ],
          [
           2.61,
           "Female",
           "No",
           "Sun",
           "Dinner",
           2
          ],
          [
           2,
           "Female",
           "No",
           "Sun",
           "Dinner",
           3
          ],
          [
           3,
           "Female",
           "Yes",
           "Sun",
           "Dinner",
           2
          ],
          [
           1.61,
           "Female",
           "Yes",
           "Sat",
           "Dinner",
           2
          ],
          [
           2,
           "Female",
           "Yes",
           "Sat",
           "Dinner",
           2
          ],
          [
           4,
           "Female",
           "Yes",
           "Sun",
           "Dinner",
           2
          ],
          [
           3.5,
           "Female",
           "Yes",
           "Sun",
           "Dinner",
           3
          ],
          [
           3.5,
           "Female",
           "Yes",
           "Sun",
           "Dinner",
           3
          ],
          [
           4.19,
           "Female",
           "Yes",
           "Thur",
           "Lunch",
           2
          ],
          [
           5,
           "Female",
           "Yes",
           "Thur",
           "Lunch",
           4
          ],
          [
           2,
           "Female",
           "Yes",
           "Thur",
           "Lunch",
           2
          ],
          [
           2.01,
           "Female",
           "Yes",
           "Thur",
           "Lunch",
           2
          ],
          [
           2,
           "Female",
           "Yes",
           "Thur",
           "Lunch",
           2
          ],
          [
           2.5,
           "Female",
           "Yes",
           "Thur",
           "Lunch",
           2
          ],
          [
           3.23,
           "Female",
           "Yes",
           "Thur",
           "Lunch",
           3
          ],
          [
           2.23,
           "Female",
           "Yes",
           "Sat",
           "Dinner",
           2
          ],
          [
           2.5,
           "Female",
           "Yes",
           "Sat",
           "Dinner",
           2
          ],
          [
           6.5,
           "Female",
           "Yes",
           "Sat",
           "Dinner",
           3
          ],
          [
           1.1,
           "Female",
           "Yes",
           "Sat",
           "Dinner",
           2
          ],
          [
           3.09,
           "Female",
           "Yes",
           "Sat",
           "Dinner",
           4
          ],
          [
           3.48,
           "Female",
           "Yes",
           "Fri",
           "Lunch",
           2
          ],
          [
           3,
           "Female",
           "No",
           "Fri",
           "Lunch",
           3
          ],
          [
           2.5,
           "Female",
           "Yes",
           "Fri",
           "Lunch",
           2
          ],
          [
           2,
           "Female",
           "Yes",
           "Fri",
           "Lunch",
           2
          ],
          [
           2.88,
           "Female",
           "Yes",
           "Sat",
           "Dinner",
           2
          ],
          [
           4.67,
           "Female",
           "No",
           "Sat",
           "Dinner",
           3
          ],
          [
           2,
           "Female",
           "Yes",
           "Sat",
           "Dinner",
           2
          ],
          [
           3,
           "Female",
           "No",
           "Thur",
           "Dinner",
           2
          ]
         ],
         "hovertemplate": "sex=%{customdata[1]}<br>total_bill=%{x}<br>tip=%{customdata[0]}<br>smoker=%{customdata[2]}<br>day=%{customdata[3]}<br>time=%{customdata[4]}<br>size=%{customdata[5]}<extra></extra>",
         "legendgroup": "Female",
         "marker": {
          "color": "#636efa"
         },
         "name": "Female",
         "offsetgroup": "Female",
         "scalegroup": "x",
         "showlegend": false,
         "type": "violin",
         "x": [
          16.99,
          24.59,
          35.26,
          14.83,
          10.33,
          16.97,
          20.29,
          15.77,
          19.65,
          15.06,
          20.69,
          16.93,
          10.29,
          34.81,
          26.41,
          16.45,
          3.07,
          17.07,
          26.86,
          25.28,
          14.73,
          10.07,
          34.83,
          5.75,
          16.32,
          22.75,
          11.35,
          15.38,
          44.3,
          22.42,
          20.92,
          14.31,
          7.25,
          25.71,
          17.31,
          10.65,
          12.43,
          24.08,
          13.42,
          12.48,
          29.8,
          14.52,
          11.38,
          20.27,
          11.17,
          12.26,
          18.26,
          8.51,
          10.33,
          14.15,
          13.16,
          17.47,
          27.05,
          16.43,
          8.35,
          18.64,
          11.87,
          29.85,
          25,
          13.39,
          16.21,
          17.51,
          10.59,
          10.63,
          9.6,
          20.9,
          18.15,
          19.81,
          43.11,
          13,
          12.74,
          13,
          16.4,
          16.47,
          12.76,
          13.27,
          28.17,
          12.9,
          30.14,
          13.42,
          15.98,
          16.27,
          10.09,
          22.12,
          35.83,
          27.18,
          18.78
         ],
         "xaxis": "x2",
         "yaxis": "y2"
        },
        {
         "alignmentgroup": "True",
         "bingroup": "x",
         "hovertemplate": "sex=Male<br>total_bill=%{x}<br>count=%{y}<extra></extra>",
         "legendgroup": "Male",
         "marker": {
          "color": "#EF553B",
          "pattern": {
           "shape": ""
          }
         },
         "name": "Male",
         "offsetgroup": "Male",
         "orientation": "v",
         "showlegend": true,
         "type": "histogram",
         "x": [
          10.34,
          21.01,
          23.68,
          25.29,
          8.77,
          26.88,
          15.04,
          14.78,
          10.27,
          15.42,
          18.43,
          21.58,
          16.29,
          20.65,
          17.92,
          39.42,
          19.82,
          17.81,
          13.37,
          12.69,
          21.7,
          9.55,
          18.35,
          17.78,
          24.06,
          16.31,
          18.69,
          31.27,
          16.04,
          17.46,
          13.94,
          9.68,
          30.4,
          18.29,
          22.23,
          32.4,
          28.55,
          18.04,
          12.54,
          9.94,
          25.56,
          19.49,
          38.01,
          11.24,
          48.27,
          20.29,
          13.81,
          11.02,
          18.29,
          17.59,
          20.08,
          20.23,
          15.01,
          12.02,
          10.51,
          17.92,
          27.2,
          22.76,
          17.29,
          19.44,
          16.66,
          32.68,
          15.98,
          13.03,
          18.28,
          24.71,
          21.16,
          28.97,
          22.49,
          40.17,
          27.28,
          12.03,
          21.01,
          12.46,
          15.36,
          20.49,
          25.21,
          18.24,
          14,
          38.07,
          23.95,
          29.93,
          11.69,
          14.26,
          15.95,
          8.52,
          22.82,
          19.08,
          16,
          34.3,
          41.19,
          9.78,
          7.51,
          14.07,
          13.13,
          17.26,
          24.55,
          19.77,
          48.17,
          16.49,
          21.5,
          12.66,
          13.81,
          24.52,
          20.76,
          31.71,
          50.81,
          15.81,
          7.25,
          31.85,
          16.82,
          32.9,
          17.89,
          14.48,
          34.63,
          34.65,
          23.33,
          45.35,
          23.17,
          40.55,
          20.69,
          30.46,
          23.1,
          15.69,
          28.44,
          15.48,
          16.58,
          7.56,
          10.34,
          13.51,
          18.71,
          20.53,
          26.59,
          38.73,
          24.27,
          30.06,
          25.89,
          48.33,
          28.15,
          11.59,
          7.74,
          12.16,
          8.58,
          13.42,
          20.45,
          13.28,
          24.01,
          15.69,
          11.61,
          10.77,
          15.53,
          10.07,
          12.6,
          32.83,
          29.03,
          22.67,
          17.82
         ],
         "xaxis": "x",
         "yaxis": "y"
        },
        {
         "alignmentgroup": "True",
         "customdata": [
          [
           1.66,
           "Male",
           "No",
           "Sun",
           "Dinner",
           3
          ],
          [
           3.5,
           "Male",
           "No",
           "Sun",
           "Dinner",
           3
          ],
          [
           3.31,
           "Male",
           "No",
           "Sun",
           "Dinner",
           2
          ],
          [
           4.71,
           "Male",
           "No",
           "Sun",
           "Dinner",
           4
          ],
          [
           2,
           "Male",
           "No",
           "Sun",
           "Dinner",
           2
          ],
          [
           3.12,
           "Male",
           "No",
           "Sun",
           "Dinner",
           4
          ],
          [
           1.96,
           "Male",
           "No",
           "Sun",
           "Dinner",
           2
          ],
          [
           3.23,
           "Male",
           "No",
           "Sun",
           "Dinner",
           2
          ],
          [
           1.71,
           "Male",
           "No",
           "Sun",
           "Dinner",
           2
          ],
          [
           1.57,
           "Male",
           "No",
           "Sun",
           "Dinner",
           2
          ],
          [
           3,
           "Male",
           "No",
           "Sun",
           "Dinner",
           4
          ],
          [
           3.92,
           "Male",
           "No",
           "Sun",
           "Dinner",
           2
          ],
          [
           3.71,
           "Male",
           "No",
           "Sun",
           "Dinner",
           3
          ],
          [
           3.35,
           "Male",
           "No",
           "Sat",
           "Dinner",
           3
          ],
          [
           4.08,
           "Male",
           "No",
           "Sat",
           "Dinner",
           2
          ],
          [
           7.58,
           "Male",
           "No",
           "Sat",
           "Dinner",
           4
          ],
          [
           3.18,
           "Male",
           "No",
           "Sat",
           "Dinner",
           2
          ],
          [
           2.34,
           "Male",
           "No",
           "Sat",
           "Dinner",
           4
          ],
          [
           2,
           "Male",
           "No",
           "Sat",
           "Dinner",
           2
          ],
          [
           2,
           "Male",
           "No",
           "Sat",
           "Dinner",
           2
          ],
          [
           4.3,
           "Male",
           "No",
           "Sat",
           "Dinner",
           2
          ],
          [
           1.45,
           "Male",
           "No",
           "Sat",
           "Dinner",
           2
          ],
          [
           2.5,
           "Male",
           "No",
           "Sat",
           "Dinner",
           4
          ],
          [
           3.27,
           "Male",
           "No",
           "Sat",
           "Dinner",
           2
          ],
          [
           3.6,
           "Male",
           "No",
           "Sat",
           "Dinner",
           3
          ],
          [
           2,
           "Male",
           "No",
           "Sat",
           "Dinner",
           3
          ],
          [
           2.31,
           "Male",
           "No",
           "Sat",
           "Dinner",
           3
          ],
          [
           5,
           "Male",
           "No",
           "Sat",
           "Dinner",
           3
          ],
          [
           2.24,
           "Male",
           "No",
           "Sat",
           "Dinner",
           3
          ],
          [
           2.54,
           "Male",
           "No",
           "Sun",
           "Dinner",
           2
          ],
          [
           3.06,
           "Male",
           "No",
           "Sun",
           "Dinner",
           2
          ],
          [
           1.32,
           "Male",
           "No",
           "Sun",
           "Dinner",
           2
          ],
          [
           5.6,
           "Male",
           "No",
           "Sun",
           "Dinner",
           4
          ],
          [
           3,
           "Male",
           "No",
           "Sun",
           "Dinner",
           2
          ],
          [
           5,
           "Male",
           "No",
           "Sun",
           "Dinner",
           2
          ],
          [
           6,
           "Male",
           "No",
           "Sun",
           "Dinner",
           4
          ],
          [
           2.05,
           "Male",
           "No",
           "Sun",
           "Dinner",
           3
          ],
          [
           3,
           "Male",
           "No",
           "Sun",
           "Dinner",
           2
          ],
          [
           2.5,
           "Male",
           "No",
           "Sun",
           "Dinner",
           2
          ],
          [
           1.56,
           "Male",
           "No",
           "Sun",
           "Dinner",
           2
          ],
          [
           4.34,
           "Male",
           "No",
           "Sun",
           "Dinner",
           4
          ],
          [
           3.51,
           "Male",
           "No",
           "Sun",
           "Dinner",
           2
          ],
          [
           3,
           "Male",
           "Yes",
           "Sat",
           "Dinner",
           4
          ],
          [
           1.76,
           "Male",
           "Yes",
           "Sat",
           "Dinner",
           2
          ],
          [
           6.73,
           "Male",
           "No",
           "Sat",
           "Dinner",
           4
          ],
          [
           3.21,
           "Male",
           "Yes",
           "Sat",
           "Dinner",
           2
          ],
          [
           2,
           "Male",
           "Yes",
           "Sat",
           "Dinner",
           2
          ],
          [
           1.98,
           "Male",
           "Yes",
           "Sat",
           "Dinner",
           2
          ],
          [
           3.76,
           "Male",
           "Yes",
           "Sat",
           "Dinner",
           4
          ],
          [
           2.64,
           "Male",
           "No",
           "Sat",
           "Dinner",
           3
          ],
          [
           3.15,
           "Male",
           "No",
           "Sat",
           "Dinner",
           3
          ],
          [
           2.01,
           "Male",
           "No",
           "Sat",
           "Dinner",
           2
          ],
          [
           2.09,
           "Male",
           "Yes",
           "Sat",
           "Dinner",
           2
          ],
          [
           1.97,
           "Male",
           "No",
           "Sat",
           "Dinner",
           2
          ],
          [
           1.25,
           "Male",
           "No",
           "Sat",
           "Dinner",
           2
          ],
          [
           3.08,
           "Male",
           "Yes",
           "Sat",
           "Dinner",
           2
          ],
          [
           4,
           "Male",
           "No",
           "Thur",
           "Lunch",
           4
          ],
          [
           3,
           "Male",
           "No",
           "Thur",
           "Lunch",
           2
          ],
          [
           2.71,
           "Male",
           "No",
           "Thur",
           "Lunch",
           2
          ],
          [
           3,
           "Male",
           "Yes",
           "Thur",
           "Lunch",
           2
          ],
          [
           3.4,
           "Male",
           "No",
           "Thur",
           "Lunch",
           2
          ],
          [
           5,
           "Male",
           "Yes",
           "Thur",
           "Lunch",
           2
          ],
          [
           2.03,
           "Male",
           "No",
           "Thur",
           "Lunch",
           2
          ],
          [
           2,
           "Male",
           "No",
           "Thur",
           "Lunch",
           2
          ],
          [
           4,
           "Male",
           "No",
           "Thur",
           "Lunch",
           2
          ],
          [
           5.85,
           "Male",
           "No",
           "Thur",
           "Lunch",
           2
          ],
          [
           3,
           "Male",
           "No",
           "Thur",
           "Lunch",
           2
          ],
          [
           3,
           "Male",
           "Yes",
           "Fri",
           "Dinner",
           2
          ],
          [
           3.5,
           "Male",
           "No",
           "Fri",
           "Dinner",
           2
          ],
          [
           4.73,
           "Male",
           "Yes",
           "Fri",
           "Dinner",
           4
          ],
          [
           4,
           "Male",
           "Yes",
           "Fri",
           "Dinner",
           2
          ],
          [
           1.5,
           "Male",
           "Yes",
           "Fri",
           "Dinner",
           2
          ],
          [
           3,
           "Male",
           "Yes",
           "Fri",
           "Dinner",
           2
          ],
          [
           1.5,
           "Male",
           "No",
           "Fri",
           "Dinner",
           2
          ],
          [
           1.64,
           "Male",
           "Yes",
           "Sat",
           "Dinner",
           2
          ],
          [
           4.06,
           "Male",
           "Yes",
           "Sat",
           "Dinner",
           2
          ],
          [
           4.29,
           "Male",
           "Yes",
           "Sat",
           "Dinner",
           2
          ],
          [
           3.76,
           "Male",
           "No",
           "Sat",
           "Dinner",
           2
          ],
          [
           3,
           "Male",
           "No",
           "Sat",
           "Dinner",
           2
          ],
          [
           4,
           "Male",
           "No",
           "Sun",
           "Dinner",
           3
          ],
          [
           2.55,
           "Male",
           "No",
           "Sun",
           "Dinner",
           2
          ],
          [
           5.07,
           "Male",
           "No",
           "Sun",
           "Dinner",
           4
          ],
          [
           2.31,
           "Male",
           "No",
           "Thur",
           "Lunch",
           2
          ],
          [
           2.5,
           "Male",
           "No",
           "Thur",
           "Lunch",
           2
          ],
          [
           2,
           "Male",
           "No",
           "Thur",
           "Lunch",
           2
          ],
          [
           1.48,
           "Male",
           "No",
           "Thur",
           "Lunch",
           2
          ],
          [
           2.18,
           "Male",
           "No",
           "Thur",
           "Lunch",
           3
          ],
          [
           1.5,
           "Male",
           "No",
           "Thur",
           "Lunch",
           2
          ],
          [
           2,
           "Male",
           "Yes",
           "Thur",
           "Lunch",
           2
          ],
          [
           6.7,
           "Male",
           "No",
           "Thur",
           "Lunch",
           6
          ],
          [
           5,
           "Male",
           "No",
           "Thur",
           "Lunch",
           5
          ],
          [
           1.73,
           "Male",
           "No",
           "Thur",
           "Lunch",
           2
          ],
          [
           2,
           "Male",
           "No",
           "Thur",
           "Lunch",
           2
          ],
          [
           2.5,
           "Male",
           "No",
           "Sun",
           "Dinner",
           2
          ],
          [
           2,
           "Male",
           "No",
           "Sun",
           "Dinner",
           2
          ],
          [
           2.74,
           "Male",
           "No",
           "Sun",
           "Dinner",
           3
          ],
          [
           2,
           "Male",
           "No",
           "Sun",
           "Dinner",
           4
          ],
          [
           2,
           "Male",
           "No",
           "Sun",
           "Dinner",
           4
          ],
          [
           5,
           "Male",
           "No",
           "Sun",
           "Dinner",
           6
          ],
          [
           2,
           "Male",
           "No",
           "Sun",
           "Dinner",
           4
          ],
          [
           3.5,
           "Male",
           "No",
           "Sun",
           "Dinner",
           4
          ],
          [
           2.5,
           "Male",
           "No",
           "Sun",
           "Dinner",
           2
          ],
          [
           2,
           "Male",
           "No",
           "Sun",
           "Dinner",
           2
          ],
          [
           3.48,
           "Male",
           "No",
           "Sun",
           "Dinner",
           3
          ],
          [
           2.24,
           "Male",
           "No",
           "Sun",
           "Dinner",
           2
          ],
          [
           4.5,
           "Male",
           "No",
           "Sun",
           "Dinner",
           4
          ],
          [
           10,
           "Male",
           "Yes",
           "Sat",
           "Dinner",
           3
          ],
          [
           3.16,
           "Male",
           "Yes",
           "Sat",
           "Dinner",
           2
          ],
          [
           5.15,
           "Male",
           "Yes",
           "Sun",
           "Dinner",
           2
          ],
          [
           3.18,
           "Male",
           "Yes",
           "Sun",
           "Dinner",
           2
          ],
          [
           4,
           "Male",
           "Yes",
           "Sun",
           "Dinner",
           2
          ],
          [
           3.11,
           "Male",
           "Yes",
           "Sun",
           "Dinner",
           2
          ],
          [
           2,
           "Male",
           "Yes",
           "Sun",
           "Dinner",
           2
          ],
          [
           2,
           "Male",
           "Yes",
           "Sun",
           "Dinner",
           2
          ],
          [
           3.55,
           "Male",
           "Yes",
           "Sun",
           "Dinner",
           2
          ],
          [
           3.68,
           "Male",
           "Yes",
           "Sun",
           "Dinner",
           4
          ],
          [
           5.65,
           "Male",
           "Yes",
           "Sun",
           "Dinner",
           2
          ],
          [
           3.5,
           "Male",
           "Yes",
           "Sun",
           "Dinner",
           3
          ],
          [
           6.5,
           "Male",
           "Yes",
           "Sun",
           "Dinner",
           4
          ],
          [
           3,
           "Male",
           "Yes",
           "Sun",
           "Dinner",
           2
          ],
          [
           5,
           "Male",
           "No",
           "Sun",
           "Dinner",
           5
          ],
          [
           2,
           "Male",
           "Yes",
           "Sun",
           "Dinner",
           5
          ],
          [
           4,
           "Male",
           "Yes",
           "Sun",
           "Dinner",
           3
          ],
          [
           1.5,
           "Male",
           "Yes",
           "Sun",
           "Dinner",
           2
          ],
          [
           2.56,
           "Male",
           "Yes",
           "Thur",
           "Lunch",
           2
          ],
          [
           2.02,
           "Male",
           "Yes",
           "Thur",
           "Lunch",
           2
          ],
          [
           4,
           "Male",
           "Yes",
           "Thur",
           "Lunch",
           2
          ],
          [
           1.44,
           "Male",
           "No",
           "Thur",
           "Lunch",
           2
          ],
          [
           2,
           "Male",
           "Yes",
           "Thur",
           "Lunch",
           2
          ],
          [
           2,
           "Male",
           "Yes",
           "Thur",
           "Lunch",
           2
          ],
          [
           4,
           "Male",
           "Yes",
           "Thur",
           "Lunch",
           3
          ],
          [
           4,
           "Male",
           "Yes",
           "Thur",
           "Lunch",
           4
          ],
          [
           3.41,
           "Male",
           "Yes",
           "Sat",
           "Dinner",
           3
          ],
          [
           3,
           "Male",
           "Yes",
           "Sat",
           "Dinner",
           4
          ],
          [
           2.03,
           "Male",
           "Yes",
           "Sat",
           "Dinner",
           2
          ],
          [
           2,
           "Male",
           "Yes",
           "Sat",
           "Dinner",
           3
          ],
          [
           5.16,
           "Male",
           "Yes",
           "Sat",
           "Dinner",
           4
          ],
          [
           9,
           "Male",
           "No",
           "Sat",
           "Dinner",
           4
          ],
          [
           3,
           "Male",
           "Yes",
           "Sat",
           "Dinner",
           5
          ],
          [
           1.5,
           "Male",
           "Yes",
           "Sat",
           "Dinner",
           2
          ],
          [
           1.44,
           "Male",
           "Yes",
           "Sat",
           "Dinner",
           2
          ],
          [
           2.2,
           "Male",
           "Yes",
           "Fri",
           "Lunch",
           2
          ],
          [
           1.92,
           "Male",
           "Yes",
           "Fri",
           "Lunch",
           1
          ],
          [
           1.58,
           "Male",
           "Yes",
           "Fri",
           "Lunch",
           2
          ],
          [
           3,
           "Male",
           "No",
           "Sat",
           "Dinner",
           4
          ],
          [
           2.72,
           "Male",
           "No",
           "Sat",
           "Dinner",
           2
          ],
          [
           2,
           "Male",
           "Yes",
           "Sat",
           "Dinner",
           4
          ],
          [
           3,
           "Male",
           "Yes",
           "Sat",
           "Dinner",
           3
          ],
          [
           3.39,
           "Male",
           "No",
           "Sat",
           "Dinner",
           2
          ],
          [
           1.47,
           "Male",
           "No",
           "Sat",
           "Dinner",
           2
          ],
          [
           3,
           "Male",
           "Yes",
           "Sat",
           "Dinner",
           2
          ],
          [
           1.25,
           "Male",
           "No",
           "Sat",
           "Dinner",
           2
          ],
          [
           1,
           "Male",
           "Yes",
           "Sat",
           "Dinner",
           2
          ],
          [
           1.17,
           "Male",
           "Yes",
           "Sat",
           "Dinner",
           2
          ],
          [
           5.92,
           "Male",
           "No",
           "Sat",
           "Dinner",
           3
          ],
          [
           2,
           "Male",
           "Yes",
           "Sat",
           "Dinner",
           2
          ],
          [
           1.75,
           "Male",
           "No",
           "Sat",
           "Dinner",
           2
          ]
         ],
         "hovertemplate": "sex=%{customdata[1]}<br>total_bill=%{x}<br>tip=%{customdata[0]}<br>smoker=%{customdata[2]}<br>day=%{customdata[3]}<br>time=%{customdata[4]}<br>size=%{customdata[5]}<extra></extra>",
         "legendgroup": "Male",
         "marker": {
          "color": "#EF553B"
         },
         "name": "Male",
         "offsetgroup": "Male",
         "scalegroup": "x",
         "showlegend": false,
         "type": "violin",
         "x": [
          10.34,
          21.01,
          23.68,
          25.29,
          8.77,
          26.88,
          15.04,
          14.78,
          10.27,
          15.42,
          18.43,
          21.58,
          16.29,
          20.65,
          17.92,
          39.42,
          19.82,
          17.81,
          13.37,
          12.69,
          21.7,
          9.55,
          18.35,
          17.78,
          24.06,
          16.31,
          18.69,
          31.27,
          16.04,
          17.46,
          13.94,
          9.68,
          30.4,
          18.29,
          22.23,
          32.4,
          28.55,
          18.04,
          12.54,
          9.94,
          25.56,
          19.49,
          38.01,
          11.24,
          48.27,
          20.29,
          13.81,
          11.02,
          18.29,
          17.59,
          20.08,
          20.23,
          15.01,
          12.02,
          10.51,
          17.92,
          27.2,
          22.76,
          17.29,
          19.44,
          16.66,
          32.68,
          15.98,
          13.03,
          18.28,
          24.71,
          21.16,
          28.97,
          22.49,
          40.17,
          27.28,
          12.03,
          21.01,
          12.46,
          15.36,
          20.49,
          25.21,
          18.24,
          14,
          38.07,
          23.95,
          29.93,
          11.69,
          14.26,
          15.95,
          8.52,
          22.82,
          19.08,
          16,
          34.3,
          41.19,
          9.78,
          7.51,
          14.07,
          13.13,
          17.26,
          24.55,
          19.77,
          48.17,
          16.49,
          21.5,
          12.66,
          13.81,
          24.52,
          20.76,
          31.71,
          50.81,
          15.81,
          7.25,
          31.85,
          16.82,
          32.9,
          17.89,
          14.48,
          34.63,
          34.65,
          23.33,
          45.35,
          23.17,
          40.55,
          20.69,
          30.46,
          23.1,
          15.69,
          28.44,
          15.48,
          16.58,
          7.56,
          10.34,
          13.51,
          18.71,
          20.53,
          26.59,
          38.73,
          24.27,
          30.06,
          25.89,
          48.33,
          28.15,
          11.59,
          7.74,
          12.16,
          8.58,
          13.42,
          20.45,
          13.28,
          24.01,
          15.69,
          11.61,
          10.77,
          15.53,
          10.07,
          12.6,
          32.83,
          29.03,
          22.67,
          17.82
         ],
         "xaxis": "x2",
         "yaxis": "y2"
        }
       ],
       "layout": {
        "barmode": "relative",
        "legend": {
         "title": {
          "text": "sex"
         },
         "tracegroupgap": 0
        },
        "margin": {
         "t": 60
        },
        "template": {
         "data": {
          "bar": [
           {
            "error_x": {
             "color": "#2a3f5f"
            },
            "error_y": {
             "color": "#2a3f5f"
            },
            "marker": {
             "line": {
              "color": "#E5ECF6",
              "width": 0.5
             },
             "pattern": {
              "fillmode": "overlay",
              "size": 10,
              "solidity": 0.2
             }
            },
            "type": "bar"
           }
          ],
          "barpolar": [
           {
            "marker": {
             "line": {
              "color": "#E5ECF6",
              "width": 0.5
             },
             "pattern": {
              "fillmode": "overlay",
              "size": 10,
              "solidity": 0.2
             }
            },
            "type": "barpolar"
           }
          ],
          "carpet": [
           {
            "aaxis": {
             "endlinecolor": "#2a3f5f",
             "gridcolor": "white",
             "linecolor": "white",
             "minorgridcolor": "white",
             "startlinecolor": "#2a3f5f"
            },
            "baxis": {
             "endlinecolor": "#2a3f5f",
             "gridcolor": "white",
             "linecolor": "white",
             "minorgridcolor": "white",
             "startlinecolor": "#2a3f5f"
            },
            "type": "carpet"
           }
          ],
          "choropleth": [
           {
            "colorbar": {
             "outlinewidth": 0,
             "ticks": ""
            },
            "type": "choropleth"
           }
          ],
          "contour": [
           {
            "colorbar": {
             "outlinewidth": 0,
             "ticks": ""
            },
            "colorscale": [
             [
              0,
              "#0d0887"
             ],
             [
              0.1111111111111111,
              "#46039f"
             ],
             [
              0.2222222222222222,
              "#7201a8"
             ],
             [
              0.3333333333333333,
              "#9c179e"
             ],
             [
              0.4444444444444444,
              "#bd3786"
             ],
             [
              0.5555555555555556,
              "#d8576b"
             ],
             [
              0.6666666666666666,
              "#ed7953"
             ],
             [
              0.7777777777777778,
              "#fb9f3a"
             ],
             [
              0.8888888888888888,
              "#fdca26"
             ],
             [
              1,
              "#f0f921"
             ]
            ],
            "type": "contour"
           }
          ],
          "contourcarpet": [
           {
            "colorbar": {
             "outlinewidth": 0,
             "ticks": ""
            },
            "type": "contourcarpet"
           }
          ],
          "heatmap": [
           {
            "colorbar": {
             "outlinewidth": 0,
             "ticks": ""
            },
            "colorscale": [
             [
              0,
              "#0d0887"
             ],
             [
              0.1111111111111111,
              "#46039f"
             ],
             [
              0.2222222222222222,
              "#7201a8"
             ],
             [
              0.3333333333333333,
              "#9c179e"
             ],
             [
              0.4444444444444444,
              "#bd3786"
             ],
             [
              0.5555555555555556,
              "#d8576b"
             ],
             [
              0.6666666666666666,
              "#ed7953"
             ],
             [
              0.7777777777777778,
              "#fb9f3a"
             ],
             [
              0.8888888888888888,
              "#fdca26"
             ],
             [
              1,
              "#f0f921"
             ]
            ],
            "type": "heatmap"
           }
          ],
          "heatmapgl": [
           {
            "colorbar": {
             "outlinewidth": 0,
             "ticks": ""
            },
            "colorscale": [
             [
              0,
              "#0d0887"
             ],
             [
              0.1111111111111111,
              "#46039f"
             ],
             [
              0.2222222222222222,
              "#7201a8"
             ],
             [
              0.3333333333333333,
              "#9c179e"
             ],
             [
              0.4444444444444444,
              "#bd3786"
             ],
             [
              0.5555555555555556,
              "#d8576b"
             ],
             [
              0.6666666666666666,
              "#ed7953"
             ],
             [
              0.7777777777777778,
              "#fb9f3a"
             ],
             [
              0.8888888888888888,
              "#fdca26"
             ],
             [
              1,
              "#f0f921"
             ]
            ],
            "type": "heatmapgl"
           }
          ],
          "histogram": [
           {
            "marker": {
             "pattern": {
              "fillmode": "overlay",
              "size": 10,
              "solidity": 0.2
             }
            },
            "type": "histogram"
           }
          ],
          "histogram2d": [
           {
            "colorbar": {
             "outlinewidth": 0,
             "ticks": ""
            },
            "colorscale": [
             [
              0,
              "#0d0887"
             ],
             [
              0.1111111111111111,
              "#46039f"
             ],
             [
              0.2222222222222222,
              "#7201a8"
             ],
             [
              0.3333333333333333,
              "#9c179e"
             ],
             [
              0.4444444444444444,
              "#bd3786"
             ],
             [
              0.5555555555555556,
              "#d8576b"
             ],
             [
              0.6666666666666666,
              "#ed7953"
             ],
             [
              0.7777777777777778,
              "#fb9f3a"
             ],
             [
              0.8888888888888888,
              "#fdca26"
             ],
             [
              1,
              "#f0f921"
             ]
            ],
            "type": "histogram2d"
           }
          ],
          "histogram2dcontour": [
           {
            "colorbar": {
             "outlinewidth": 0,
             "ticks": ""
            },
            "colorscale": [
             [
              0,
              "#0d0887"
             ],
             [
              0.1111111111111111,
              "#46039f"
             ],
             [
              0.2222222222222222,
              "#7201a8"
             ],
             [
              0.3333333333333333,
              "#9c179e"
             ],
             [
              0.4444444444444444,
              "#bd3786"
             ],
             [
              0.5555555555555556,
              "#d8576b"
             ],
             [
              0.6666666666666666,
              "#ed7953"
             ],
             [
              0.7777777777777778,
              "#fb9f3a"
             ],
             [
              0.8888888888888888,
              "#fdca26"
             ],
             [
              1,
              "#f0f921"
             ]
            ],
            "type": "histogram2dcontour"
           }
          ],
          "mesh3d": [
           {
            "colorbar": {
             "outlinewidth": 0,
             "ticks": ""
            },
            "type": "mesh3d"
           }
          ],
          "parcoords": [
           {
            "line": {
             "colorbar": {
              "outlinewidth": 0,
              "ticks": ""
             }
            },
            "type": "parcoords"
           }
          ],
          "pie": [
           {
            "automargin": true,
            "type": "pie"
           }
          ],
          "scatter": [
           {
            "fillpattern": {
             "fillmode": "overlay",
             "size": 10,
             "solidity": 0.2
            },
            "type": "scatter"
           }
          ],
          "scatter3d": [
           {
            "line": {
             "colorbar": {
              "outlinewidth": 0,
              "ticks": ""
             }
            },
            "marker": {
             "colorbar": {
              "outlinewidth": 0,
              "ticks": ""
             }
            },
            "type": "scatter3d"
           }
          ],
          "scattercarpet": [
           {
            "marker": {
             "colorbar": {
              "outlinewidth": 0,
              "ticks": ""
             }
            },
            "type": "scattercarpet"
           }
          ],
          "scattergeo": [
           {
            "marker": {
             "colorbar": {
              "outlinewidth": 0,
              "ticks": ""
             }
            },
            "type": "scattergeo"
           }
          ],
          "scattergl": [
           {
            "marker": {
             "colorbar": {
              "outlinewidth": 0,
              "ticks": ""
             }
            },
            "type": "scattergl"
           }
          ],
          "scattermapbox": [
           {
            "marker": {
             "colorbar": {
              "outlinewidth": 0,
              "ticks": ""
             }
            },
            "type": "scattermapbox"
           }
          ],
          "scatterpolar": [
           {
            "marker": {
             "colorbar": {
              "outlinewidth": 0,
              "ticks": ""
             }
            },
            "type": "scatterpolar"
           }
          ],
          "scatterpolargl": [
           {
            "marker": {
             "colorbar": {
              "outlinewidth": 0,
              "ticks": ""
             }
            },
            "type": "scatterpolargl"
           }
          ],
          "scatterternary": [
           {
            "marker": {
             "colorbar": {
              "outlinewidth": 0,
              "ticks": ""
             }
            },
            "type": "scatterternary"
           }
          ],
          "surface": [
           {
            "colorbar": {
             "outlinewidth": 0,
             "ticks": ""
            },
            "colorscale": [
             [
              0,
              "#0d0887"
             ],
             [
              0.1111111111111111,
              "#46039f"
             ],
             [
              0.2222222222222222,
              "#7201a8"
             ],
             [
              0.3333333333333333,
              "#9c179e"
             ],
             [
              0.4444444444444444,
              "#bd3786"
             ],
             [
              0.5555555555555556,
              "#d8576b"
             ],
             [
              0.6666666666666666,
              "#ed7953"
             ],
             [
              0.7777777777777778,
              "#fb9f3a"
             ],
             [
              0.8888888888888888,
              "#fdca26"
             ],
             [
              1,
              "#f0f921"
             ]
            ],
            "type": "surface"
           }
          ],
          "table": [
           {
            "cells": {
             "fill": {
              "color": "#EBF0F8"
             },
             "line": {
              "color": "white"
             }
            },
            "header": {
             "fill": {
              "color": "#C8D4E3"
             },
             "line": {
              "color": "white"
             }
            },
            "type": "table"
           }
          ]
         },
         "layout": {
          "annotationdefaults": {
           "arrowcolor": "#2a3f5f",
           "arrowhead": 0,
           "arrowwidth": 1
          },
          "autotypenumbers": "strict",
          "coloraxis": {
           "colorbar": {
            "outlinewidth": 0,
            "ticks": ""
           }
          },
          "colorscale": {
           "diverging": [
            [
             0,
             "#8e0152"
            ],
            [
             0.1,
             "#c51b7d"
            ],
            [
             0.2,
             "#de77ae"
            ],
            [
             0.3,
             "#f1b6da"
            ],
            [
             0.4,
             "#fde0ef"
            ],
            [
             0.5,
             "#f7f7f7"
            ],
            [
             0.6,
             "#e6f5d0"
            ],
            [
             0.7,
             "#b8e186"
            ],
            [
             0.8,
             "#7fbc41"
            ],
            [
             0.9,
             "#4d9221"
            ],
            [
             1,
             "#276419"
            ]
           ],
           "sequential": [
            [
             0,
             "#0d0887"
            ],
            [
             0.1111111111111111,
             "#46039f"
            ],
            [
             0.2222222222222222,
             "#7201a8"
            ],
            [
             0.3333333333333333,
             "#9c179e"
            ],
            [
             0.4444444444444444,
             "#bd3786"
            ],
            [
             0.5555555555555556,
             "#d8576b"
            ],
            [
             0.6666666666666666,
             "#ed7953"
            ],
            [
             0.7777777777777778,
             "#fb9f3a"
            ],
            [
             0.8888888888888888,
             "#fdca26"
            ],
            [
             1,
             "#f0f921"
            ]
           ],
           "sequentialminus": [
            [
             0,
             "#0d0887"
            ],
            [
             0.1111111111111111,
             "#46039f"
            ],
            [
             0.2222222222222222,
             "#7201a8"
            ],
            [
             0.3333333333333333,
             "#9c179e"
            ],
            [
             0.4444444444444444,
             "#bd3786"
            ],
            [
             0.5555555555555556,
             "#d8576b"
            ],
            [
             0.6666666666666666,
             "#ed7953"
            ],
            [
             0.7777777777777778,
             "#fb9f3a"
            ],
            [
             0.8888888888888888,
             "#fdca26"
            ],
            [
             1,
             "#f0f921"
            ]
           ]
          },
          "colorway": [
           "#636efa",
           "#EF553B",
           "#00cc96",
           "#ab63fa",
           "#FFA15A",
           "#19d3f3",
           "#FF6692",
           "#B6E880",
           "#FF97FF",
           "#FECB52"
          ],
          "font": {
           "color": "#2a3f5f"
          },
          "geo": {
           "bgcolor": "white",
           "lakecolor": "white",
           "landcolor": "#E5ECF6",
           "showlakes": true,
           "showland": true,
           "subunitcolor": "white"
          },
          "hoverlabel": {
           "align": "left"
          },
          "hovermode": "closest",
          "mapbox": {
           "style": "light"
          },
          "paper_bgcolor": "white",
          "plot_bgcolor": "#E5ECF6",
          "polar": {
           "angularaxis": {
            "gridcolor": "white",
            "linecolor": "white",
            "ticks": ""
           },
           "bgcolor": "#E5ECF6",
           "radialaxis": {
            "gridcolor": "white",
            "linecolor": "white",
            "ticks": ""
           }
          },
          "scene": {
           "xaxis": {
            "backgroundcolor": "#E5ECF6",
            "gridcolor": "white",
            "gridwidth": 2,
            "linecolor": "white",
            "showbackground": true,
            "ticks": "",
            "zerolinecolor": "white"
           },
           "yaxis": {
            "backgroundcolor": "#E5ECF6",
            "gridcolor": "white",
            "gridwidth": 2,
            "linecolor": "white",
            "showbackground": true,
            "ticks": "",
            "zerolinecolor": "white"
           },
           "zaxis": {
            "backgroundcolor": "#E5ECF6",
            "gridcolor": "white",
            "gridwidth": 2,
            "linecolor": "white",
            "showbackground": true,
            "ticks": "",
            "zerolinecolor": "white"
           }
          },
          "shapedefaults": {
           "line": {
            "color": "#2a3f5f"
           }
          },
          "ternary": {
           "aaxis": {
            "gridcolor": "white",
            "linecolor": "white",
            "ticks": ""
           },
           "baxis": {
            "gridcolor": "white",
            "linecolor": "white",
            "ticks": ""
           },
           "bgcolor": "#E5ECF6",
           "caxis": {
            "gridcolor": "white",
            "linecolor": "white",
            "ticks": ""
           }
          },
          "title": {
           "x": 0.05
          },
          "xaxis": {
           "automargin": true,
           "gridcolor": "white",
           "linecolor": "white",
           "ticks": "",
           "title": {
            "standoff": 15
           },
           "zerolinecolor": "white",
           "zerolinewidth": 2
          },
          "yaxis": {
           "automargin": true,
           "gridcolor": "white",
           "linecolor": "white",
           "ticks": "",
           "title": {
            "standoff": 15
           },
           "zerolinecolor": "white",
           "zerolinewidth": 2
          }
         }
        },
        "xaxis": {
         "anchor": "y",
         "domain": [
          0,
          1
         ],
         "title": {
          "text": "total_bill"
         }
        },
        "xaxis2": {
         "anchor": "y2",
         "domain": [
          0,
          1
         ],
         "matches": "x",
         "showgrid": true,
         "showticklabels": false
        },
        "yaxis": {
         "anchor": "x",
         "domain": [
          0,
          0.7326
         ],
         "title": {
          "text": "count"
         }
        },
        "yaxis2": {
         "anchor": "x2",
         "domain": [
          0.7426,
          1
         ],
         "matches": "y2",
         "showgrid": false,
         "showline": false,
         "showticklabels": false,
         "ticks": ""
        }
       }
      }
     },
     "metadata": {},
     "output_type": "display_data"
    }
   ],
   "source": [
    "fig = px.histogram(tips,x='total_bill',\n",
    "                   color='sex',\n",
    "                   marginal='violin',\n",
    "                   hover_data=tips.columns)\n",
    "fig.show()"
   ]
  },
  {
   "cell_type": "code",
   "execution_count": 29,
   "metadata": {},
   "outputs": [
    {
     "data": {
      "application/vnd.plotly.v1+json": {
       "config": {
        "plotlyServerURL": "https://plot.ly"
       },
       "data": [
        {
         "alignmentgroup": "True",
         "bingroup": "x",
         "hovertemplate": "species=setosa<br>petal_length=%{x}<br>count=%{y}<extra></extra>",
         "legendgroup": "setosa",
         "marker": {
          "color": "#636efa",
          "pattern": {
           "shape": ""
          }
         },
         "name": "setosa",
         "offsetgroup": "setosa",
         "orientation": "v",
         "showlegend": true,
         "type": "histogram",
         "x": [
          1.4,
          1.4,
          1.3,
          1.5,
          1.4,
          1.7,
          1.4,
          1.5,
          1.4,
          1.5,
          1.5,
          1.6,
          1.4,
          1.1,
          1.2,
          1.5,
          1.3,
          1.4,
          1.7,
          1.5,
          1.7,
          1.5,
          1,
          1.7,
          1.9,
          1.6,
          1.6,
          1.5,
          1.4,
          1.6,
          1.6,
          1.5,
          1.5,
          1.4,
          1.5,
          1.2,
          1.3,
          1.5,
          1.3,
          1.5,
          1.3,
          1.3,
          1.3,
          1.6,
          1.9,
          1.4,
          1.6,
          1.4,
          1.5,
          1.4
         ],
         "xaxis": "x",
         "yaxis": "y"
        },
        {
         "alignmentgroup": "True",
         "hovertemplate": "species=setosa<br>petal_length=%{x}<extra></extra>",
         "legendgroup": "setosa",
         "marker": {
          "color": "#636efa"
         },
         "name": "setosa",
         "notched": true,
         "offsetgroup": "setosa",
         "showlegend": false,
         "type": "box",
         "x": [
          1.4,
          1.4,
          1.3,
          1.5,
          1.4,
          1.7,
          1.4,
          1.5,
          1.4,
          1.5,
          1.5,
          1.6,
          1.4,
          1.1,
          1.2,
          1.5,
          1.3,
          1.4,
          1.7,
          1.5,
          1.7,
          1.5,
          1,
          1.7,
          1.9,
          1.6,
          1.6,
          1.5,
          1.4,
          1.6,
          1.6,
          1.5,
          1.5,
          1.4,
          1.5,
          1.2,
          1.3,
          1.5,
          1.3,
          1.5,
          1.3,
          1.3,
          1.3,
          1.6,
          1.9,
          1.4,
          1.6,
          1.4,
          1.5,
          1.4
         ],
         "xaxis": "x2",
         "yaxis": "y2"
        },
        {
         "alignmentgroup": "True",
         "bingroup": "x",
         "hovertemplate": "species=versicolor<br>petal_length=%{x}<br>count=%{y}<extra></extra>",
         "legendgroup": "versicolor",
         "marker": {
          "color": "#EF553B",
          "pattern": {
           "shape": ""
          }
         },
         "name": "versicolor",
         "offsetgroup": "versicolor",
         "orientation": "v",
         "showlegend": true,
         "type": "histogram",
         "x": [
          4.7,
          4.5,
          4.9,
          4,
          4.6,
          4.5,
          4.7,
          3.3,
          4.6,
          3.9,
          3.5,
          4.2,
          4,
          4.7,
          3.6,
          4.4,
          4.5,
          4.1,
          4.5,
          3.9,
          4.8,
          4,
          4.9,
          4.7,
          4.3,
          4.4,
          4.8,
          5,
          4.5,
          3.5,
          3.8,
          3.7,
          3.9,
          5.1,
          4.5,
          4.5,
          4.7,
          4.4,
          4.1,
          4,
          4.4,
          4.6,
          4,
          3.3,
          4.2,
          4.2,
          4.2,
          4.3,
          3,
          4.1
         ],
         "xaxis": "x",
         "yaxis": "y"
        },
        {
         "alignmentgroup": "True",
         "hovertemplate": "species=versicolor<br>petal_length=%{x}<extra></extra>",
         "legendgroup": "versicolor",
         "marker": {
          "color": "#EF553B"
         },
         "name": "versicolor",
         "notched": true,
         "offsetgroup": "versicolor",
         "showlegend": false,
         "type": "box",
         "x": [
          4.7,
          4.5,
          4.9,
          4,
          4.6,
          4.5,
          4.7,
          3.3,
          4.6,
          3.9,
          3.5,
          4.2,
          4,
          4.7,
          3.6,
          4.4,
          4.5,
          4.1,
          4.5,
          3.9,
          4.8,
          4,
          4.9,
          4.7,
          4.3,
          4.4,
          4.8,
          5,
          4.5,
          3.5,
          3.8,
          3.7,
          3.9,
          5.1,
          4.5,
          4.5,
          4.7,
          4.4,
          4.1,
          4,
          4.4,
          4.6,
          4,
          3.3,
          4.2,
          4.2,
          4.2,
          4.3,
          3,
          4.1
         ],
         "xaxis": "x2",
         "yaxis": "y2"
        },
        {
         "alignmentgroup": "True",
         "bingroup": "x",
         "hovertemplate": "species=virginica<br>petal_length=%{x}<br>count=%{y}<extra></extra>",
         "legendgroup": "virginica",
         "marker": {
          "color": "#00cc96",
          "pattern": {
           "shape": ""
          }
         },
         "name": "virginica",
         "offsetgroup": "virginica",
         "orientation": "v",
         "showlegend": true,
         "type": "histogram",
         "x": [
          6,
          5.1,
          5.9,
          5.6,
          5.8,
          6.6,
          4.5,
          6.3,
          5.8,
          6.1,
          5.1,
          5.3,
          5.5,
          5,
          5.1,
          5.3,
          5.5,
          6.7,
          6.9,
          5,
          5.7,
          4.9,
          6.7,
          4.9,
          5.7,
          6,
          4.8,
          4.9,
          5.6,
          5.8,
          6.1,
          6.4,
          5.6,
          5.1,
          5.6,
          6.1,
          5.6,
          5.5,
          4.8,
          5.4,
          5.6,
          5.1,
          5.1,
          5.9,
          5.7,
          5.2,
          5,
          5.2,
          5.4,
          5.1
         ],
         "xaxis": "x",
         "yaxis": "y"
        },
        {
         "alignmentgroup": "True",
         "hovertemplate": "species=virginica<br>petal_length=%{x}<extra></extra>",
         "legendgroup": "virginica",
         "marker": {
          "color": "#00cc96"
         },
         "name": "virginica",
         "notched": true,
         "offsetgroup": "virginica",
         "showlegend": false,
         "type": "box",
         "x": [
          6,
          5.1,
          5.9,
          5.6,
          5.8,
          6.6,
          4.5,
          6.3,
          5.8,
          6.1,
          5.1,
          5.3,
          5.5,
          5,
          5.1,
          5.3,
          5.5,
          6.7,
          6.9,
          5,
          5.7,
          4.9,
          6.7,
          4.9,
          5.7,
          6,
          4.8,
          4.9,
          5.6,
          5.8,
          6.1,
          6.4,
          5.6,
          5.1,
          5.6,
          6.1,
          5.6,
          5.5,
          4.8,
          5.4,
          5.6,
          5.1,
          5.1,
          5.9,
          5.7,
          5.2,
          5,
          5.2,
          5.4,
          5.1
         ],
         "xaxis": "x2",
         "yaxis": "y2"
        }
       ],
       "layout": {
        "barmode": "relative",
        "legend": {
         "title": {
          "text": "species"
         },
         "tracegroupgap": 0
        },
        "margin": {
         "t": 60
        },
        "template": {
         "data": {
          "bar": [
           {
            "error_x": {
             "color": "#2a3f5f"
            },
            "error_y": {
             "color": "#2a3f5f"
            },
            "marker": {
             "line": {
              "color": "#E5ECF6",
              "width": 0.5
             },
             "pattern": {
              "fillmode": "overlay",
              "size": 10,
              "solidity": 0.2
             }
            },
            "type": "bar"
           }
          ],
          "barpolar": [
           {
            "marker": {
             "line": {
              "color": "#E5ECF6",
              "width": 0.5
             },
             "pattern": {
              "fillmode": "overlay",
              "size": 10,
              "solidity": 0.2
             }
            },
            "type": "barpolar"
           }
          ],
          "carpet": [
           {
            "aaxis": {
             "endlinecolor": "#2a3f5f",
             "gridcolor": "white",
             "linecolor": "white",
             "minorgridcolor": "white",
             "startlinecolor": "#2a3f5f"
            },
            "baxis": {
             "endlinecolor": "#2a3f5f",
             "gridcolor": "white",
             "linecolor": "white",
             "minorgridcolor": "white",
             "startlinecolor": "#2a3f5f"
            },
            "type": "carpet"
           }
          ],
          "choropleth": [
           {
            "colorbar": {
             "outlinewidth": 0,
             "ticks": ""
            },
            "type": "choropleth"
           }
          ],
          "contour": [
           {
            "colorbar": {
             "outlinewidth": 0,
             "ticks": ""
            },
            "colorscale": [
             [
              0,
              "#0d0887"
             ],
             [
              0.1111111111111111,
              "#46039f"
             ],
             [
              0.2222222222222222,
              "#7201a8"
             ],
             [
              0.3333333333333333,
              "#9c179e"
             ],
             [
              0.4444444444444444,
              "#bd3786"
             ],
             [
              0.5555555555555556,
              "#d8576b"
             ],
             [
              0.6666666666666666,
              "#ed7953"
             ],
             [
              0.7777777777777778,
              "#fb9f3a"
             ],
             [
              0.8888888888888888,
              "#fdca26"
             ],
             [
              1,
              "#f0f921"
             ]
            ],
            "type": "contour"
           }
          ],
          "contourcarpet": [
           {
            "colorbar": {
             "outlinewidth": 0,
             "ticks": ""
            },
            "type": "contourcarpet"
           }
          ],
          "heatmap": [
           {
            "colorbar": {
             "outlinewidth": 0,
             "ticks": ""
            },
            "colorscale": [
             [
              0,
              "#0d0887"
             ],
             [
              0.1111111111111111,
              "#46039f"
             ],
             [
              0.2222222222222222,
              "#7201a8"
             ],
             [
              0.3333333333333333,
              "#9c179e"
             ],
             [
              0.4444444444444444,
              "#bd3786"
             ],
             [
              0.5555555555555556,
              "#d8576b"
             ],
             [
              0.6666666666666666,
              "#ed7953"
             ],
             [
              0.7777777777777778,
              "#fb9f3a"
             ],
             [
              0.8888888888888888,
              "#fdca26"
             ],
             [
              1,
              "#f0f921"
             ]
            ],
            "type": "heatmap"
           }
          ],
          "heatmapgl": [
           {
            "colorbar": {
             "outlinewidth": 0,
             "ticks": ""
            },
            "colorscale": [
             [
              0,
              "#0d0887"
             ],
             [
              0.1111111111111111,
              "#46039f"
             ],
             [
              0.2222222222222222,
              "#7201a8"
             ],
             [
              0.3333333333333333,
              "#9c179e"
             ],
             [
              0.4444444444444444,
              "#bd3786"
             ],
             [
              0.5555555555555556,
              "#d8576b"
             ],
             [
              0.6666666666666666,
              "#ed7953"
             ],
             [
              0.7777777777777778,
              "#fb9f3a"
             ],
             [
              0.8888888888888888,
              "#fdca26"
             ],
             [
              1,
              "#f0f921"
             ]
            ],
            "type": "heatmapgl"
           }
          ],
          "histogram": [
           {
            "marker": {
             "pattern": {
              "fillmode": "overlay",
              "size": 10,
              "solidity": 0.2
             }
            },
            "type": "histogram"
           }
          ],
          "histogram2d": [
           {
            "colorbar": {
             "outlinewidth": 0,
             "ticks": ""
            },
            "colorscale": [
             [
              0,
              "#0d0887"
             ],
             [
              0.1111111111111111,
              "#46039f"
             ],
             [
              0.2222222222222222,
              "#7201a8"
             ],
             [
              0.3333333333333333,
              "#9c179e"
             ],
             [
              0.4444444444444444,
              "#bd3786"
             ],
             [
              0.5555555555555556,
              "#d8576b"
             ],
             [
              0.6666666666666666,
              "#ed7953"
             ],
             [
              0.7777777777777778,
              "#fb9f3a"
             ],
             [
              0.8888888888888888,
              "#fdca26"
             ],
             [
              1,
              "#f0f921"
             ]
            ],
            "type": "histogram2d"
           }
          ],
          "histogram2dcontour": [
           {
            "colorbar": {
             "outlinewidth": 0,
             "ticks": ""
            },
            "colorscale": [
             [
              0,
              "#0d0887"
             ],
             [
              0.1111111111111111,
              "#46039f"
             ],
             [
              0.2222222222222222,
              "#7201a8"
             ],
             [
              0.3333333333333333,
              "#9c179e"
             ],
             [
              0.4444444444444444,
              "#bd3786"
             ],
             [
              0.5555555555555556,
              "#d8576b"
             ],
             [
              0.6666666666666666,
              "#ed7953"
             ],
             [
              0.7777777777777778,
              "#fb9f3a"
             ],
             [
              0.8888888888888888,
              "#fdca26"
             ],
             [
              1,
              "#f0f921"
             ]
            ],
            "type": "histogram2dcontour"
           }
          ],
          "mesh3d": [
           {
            "colorbar": {
             "outlinewidth": 0,
             "ticks": ""
            },
            "type": "mesh3d"
           }
          ],
          "parcoords": [
           {
            "line": {
             "colorbar": {
              "outlinewidth": 0,
              "ticks": ""
             }
            },
            "type": "parcoords"
           }
          ],
          "pie": [
           {
            "automargin": true,
            "type": "pie"
           }
          ],
          "scatter": [
           {
            "fillpattern": {
             "fillmode": "overlay",
             "size": 10,
             "solidity": 0.2
            },
            "type": "scatter"
           }
          ],
          "scatter3d": [
           {
            "line": {
             "colorbar": {
              "outlinewidth": 0,
              "ticks": ""
             }
            },
            "marker": {
             "colorbar": {
              "outlinewidth": 0,
              "ticks": ""
             }
            },
            "type": "scatter3d"
           }
          ],
          "scattercarpet": [
           {
            "marker": {
             "colorbar": {
              "outlinewidth": 0,
              "ticks": ""
             }
            },
            "type": "scattercarpet"
           }
          ],
          "scattergeo": [
           {
            "marker": {
             "colorbar": {
              "outlinewidth": 0,
              "ticks": ""
             }
            },
            "type": "scattergeo"
           }
          ],
          "scattergl": [
           {
            "marker": {
             "colorbar": {
              "outlinewidth": 0,
              "ticks": ""
             }
            },
            "type": "scattergl"
           }
          ],
          "scattermapbox": [
           {
            "marker": {
             "colorbar": {
              "outlinewidth": 0,
              "ticks": ""
             }
            },
            "type": "scattermapbox"
           }
          ],
          "scatterpolar": [
           {
            "marker": {
             "colorbar": {
              "outlinewidth": 0,
              "ticks": ""
             }
            },
            "type": "scatterpolar"
           }
          ],
          "scatterpolargl": [
           {
            "marker": {
             "colorbar": {
              "outlinewidth": 0,
              "ticks": ""
             }
            },
            "type": "scatterpolargl"
           }
          ],
          "scatterternary": [
           {
            "marker": {
             "colorbar": {
              "outlinewidth": 0,
              "ticks": ""
             }
            },
            "type": "scatterternary"
           }
          ],
          "surface": [
           {
            "colorbar": {
             "outlinewidth": 0,
             "ticks": ""
            },
            "colorscale": [
             [
              0,
              "#0d0887"
             ],
             [
              0.1111111111111111,
              "#46039f"
             ],
             [
              0.2222222222222222,
              "#7201a8"
             ],
             [
              0.3333333333333333,
              "#9c179e"
             ],
             [
              0.4444444444444444,
              "#bd3786"
             ],
             [
              0.5555555555555556,
              "#d8576b"
             ],
             [
              0.6666666666666666,
              "#ed7953"
             ],
             [
              0.7777777777777778,
              "#fb9f3a"
             ],
             [
              0.8888888888888888,
              "#fdca26"
             ],
             [
              1,
              "#f0f921"
             ]
            ],
            "type": "surface"
           }
          ],
          "table": [
           {
            "cells": {
             "fill": {
              "color": "#EBF0F8"
             },
             "line": {
              "color": "white"
             }
            },
            "header": {
             "fill": {
              "color": "#C8D4E3"
             },
             "line": {
              "color": "white"
             }
            },
            "type": "table"
           }
          ]
         },
         "layout": {
          "annotationdefaults": {
           "arrowcolor": "#2a3f5f",
           "arrowhead": 0,
           "arrowwidth": 1
          },
          "autotypenumbers": "strict",
          "coloraxis": {
           "colorbar": {
            "outlinewidth": 0,
            "ticks": ""
           }
          },
          "colorscale": {
           "diverging": [
            [
             0,
             "#8e0152"
            ],
            [
             0.1,
             "#c51b7d"
            ],
            [
             0.2,
             "#de77ae"
            ],
            [
             0.3,
             "#f1b6da"
            ],
            [
             0.4,
             "#fde0ef"
            ],
            [
             0.5,
             "#f7f7f7"
            ],
            [
             0.6,
             "#e6f5d0"
            ],
            [
             0.7,
             "#b8e186"
            ],
            [
             0.8,
             "#7fbc41"
            ],
            [
             0.9,
             "#4d9221"
            ],
            [
             1,
             "#276419"
            ]
           ],
           "sequential": [
            [
             0,
             "#0d0887"
            ],
            [
             0.1111111111111111,
             "#46039f"
            ],
            [
             0.2222222222222222,
             "#7201a8"
            ],
            [
             0.3333333333333333,
             "#9c179e"
            ],
            [
             0.4444444444444444,
             "#bd3786"
            ],
            [
             0.5555555555555556,
             "#d8576b"
            ],
            [
             0.6666666666666666,
             "#ed7953"
            ],
            [
             0.7777777777777778,
             "#fb9f3a"
            ],
            [
             0.8888888888888888,
             "#fdca26"
            ],
            [
             1,
             "#f0f921"
            ]
           ],
           "sequentialminus": [
            [
             0,
             "#0d0887"
            ],
            [
             0.1111111111111111,
             "#46039f"
            ],
            [
             0.2222222222222222,
             "#7201a8"
            ],
            [
             0.3333333333333333,
             "#9c179e"
            ],
            [
             0.4444444444444444,
             "#bd3786"
            ],
            [
             0.5555555555555556,
             "#d8576b"
            ],
            [
             0.6666666666666666,
             "#ed7953"
            ],
            [
             0.7777777777777778,
             "#fb9f3a"
            ],
            [
             0.8888888888888888,
             "#fdca26"
            ],
            [
             1,
             "#f0f921"
            ]
           ]
          },
          "colorway": [
           "#636efa",
           "#EF553B",
           "#00cc96",
           "#ab63fa",
           "#FFA15A",
           "#19d3f3",
           "#FF6692",
           "#B6E880",
           "#FF97FF",
           "#FECB52"
          ],
          "font": {
           "color": "#2a3f5f"
          },
          "geo": {
           "bgcolor": "white",
           "lakecolor": "white",
           "landcolor": "#E5ECF6",
           "showlakes": true,
           "showland": true,
           "subunitcolor": "white"
          },
          "hoverlabel": {
           "align": "left"
          },
          "hovermode": "closest",
          "mapbox": {
           "style": "light"
          },
          "paper_bgcolor": "white",
          "plot_bgcolor": "#E5ECF6",
          "polar": {
           "angularaxis": {
            "gridcolor": "white",
            "linecolor": "white",
            "ticks": ""
           },
           "bgcolor": "#E5ECF6",
           "radialaxis": {
            "gridcolor": "white",
            "linecolor": "white",
            "ticks": ""
           }
          },
          "scene": {
           "xaxis": {
            "backgroundcolor": "#E5ECF6",
            "gridcolor": "white",
            "gridwidth": 2,
            "linecolor": "white",
            "showbackground": true,
            "ticks": "",
            "zerolinecolor": "white"
           },
           "yaxis": {
            "backgroundcolor": "#E5ECF6",
            "gridcolor": "white",
            "gridwidth": 2,
            "linecolor": "white",
            "showbackground": true,
            "ticks": "",
            "zerolinecolor": "white"
           },
           "zaxis": {
            "backgroundcolor": "#E5ECF6",
            "gridcolor": "white",
            "gridwidth": 2,
            "linecolor": "white",
            "showbackground": true,
            "ticks": "",
            "zerolinecolor": "white"
           }
          },
          "shapedefaults": {
           "line": {
            "color": "#2a3f5f"
           }
          },
          "ternary": {
           "aaxis": {
            "gridcolor": "white",
            "linecolor": "white",
            "ticks": ""
           },
           "baxis": {
            "gridcolor": "white",
            "linecolor": "white",
            "ticks": ""
           },
           "bgcolor": "#E5ECF6",
           "caxis": {
            "gridcolor": "white",
            "linecolor": "white",
            "ticks": ""
           }
          },
          "title": {
           "x": 0.05
          },
          "xaxis": {
           "automargin": true,
           "gridcolor": "white",
           "linecolor": "white",
           "ticks": "",
           "title": {
            "standoff": 15
           },
           "zerolinecolor": "white",
           "zerolinewidth": 2
          },
          "yaxis": {
           "automargin": true,
           "gridcolor": "white",
           "linecolor": "white",
           "ticks": "",
           "title": {
            "standoff": 15
           },
           "zerolinecolor": "white",
           "zerolinewidth": 2
          }
         }
        },
        "xaxis": {
         "anchor": "y",
         "domain": [
          0,
          1
         ],
         "title": {
          "text": "petal_length"
         }
        },
        "xaxis2": {
         "anchor": "y2",
         "domain": [
          0,
          1
         ],
         "matches": "x",
         "showgrid": true,
         "showticklabels": false
        },
        "yaxis": {
         "anchor": "x",
         "domain": [
          0,
          0.7326
         ],
         "title": {
          "text": "count"
         }
        },
        "yaxis2": {
         "anchor": "x2",
         "domain": [
          0.7426,
          1
         ],
         "matches": "y2",
         "showgrid": false,
         "showline": false,
         "showticklabels": false,
         "ticks": ""
        }
       }
      }
     },
     "metadata": {},
     "output_type": "display_data"
    }
   ],
   "source": [
    "fig = px.histogram(iris,x='petal_length',color='species',marginal='box')\n",
    "fig.show()"
   ]
  },
  {
   "cell_type": "code",
   "execution_count": 30,
   "metadata": {},
   "outputs": [
    {
     "data": {
      "application/vnd.plotly.v1+json": {
       "config": {
        "plotlyServerURL": "https://plot.ly"
       },
       "data": [
        {
         "alignmentgroup": "True",
         "bingroup": "x",
         "hovertemplate": "continent=Asia<br>lifeExp=%{x}<br>count=%{y}<extra></extra>",
         "legendgroup": "Asia",
         "marker": {
          "color": "#636efa",
          "pattern": {
           "shape": ""
          }
         },
         "name": "Asia",
         "offsetgroup": "Asia",
         "orientation": "v",
         "showlegend": true,
         "type": "histogram",
         "x": [
          28.801,
          30.332,
          31.997,
          34.02,
          36.088,
          38.438,
          39.854,
          40.822,
          41.674,
          41.76300000000001,
          42.129,
          43.828,
          50.93899999999999,
          53.832,
          56.923,
          59.923,
          63.3,
          65.593,
          69.05199999999999,
          70.75,
          72.601,
          73.925,
          74.795,
          75.635,
          37.484,
          39.348,
          41.216,
          43.453,
          45.252,
          46.923,
          50.00899999999999,
          52.819,
          56.018,
          59.412,
          62.01300000000001,
          64.062,
          39.417,
          41.36600000000001,
          43.415,
          45.415,
          40.317,
          31.22,
          50.957,
          53.914,
          55.803,
          56.534,
          56.752,
          59.723,
          44,
          50.54896,
          44.50136,
          58.38112,
          63.11888,
          63.96736,
          65.525,
          67.274,
          68.69,
          70.426,
          72.028,
          72.961,
          60.96,
          64.75,
          67.65,
          70,
          72,
          73.6,
          75.45,
          76.2,
          77.601,
          80,
          81.495,
          82.208,
          37.37300000000001,
          40.249,
          43.605,
          47.19300000000001,
          50.651,
          54.208,
          56.596,
          58.553,
          60.223,
          61.765,
          62.879,
          64.69800000000001,
          37.468,
          39.918,
          42.518,
          45.964,
          49.203,
          52.702,
          56.159,
          60.137,
          62.681,
          66.041,
          68.58800000000001,
          70.65,
          44.869,
          47.181,
          49.325,
          52.469,
          55.234,
          57.702,
          59.62,
          63.04,
          65.742,
          68.042,
          69.45100000000001,
          70.964,
          45.32,
          48.437,
          51.457,
          54.459,
          56.95,
          60.413,
          62.038,
          65.044,
          59.46100000000001,
          58.81100000000001,
          57.04600000000001,
          59.545,
          65.39,
          67.84,
          69.39,
          70.75,
          71.63,
          73.06,
          74.45,
          75.6,
          76.93,
          78.26899999999998,
          79.696,
          80.745,
          63.03,
          65.5,
          68.73,
          71.43,
          73.42,
          75.38,
          77.11,
          78.67,
          79.36,
          80.69,
          82,
          82.603,
          43.158,
          45.669,
          48.12600000000001,
          51.629,
          56.528,
          61.13399999999999,
          63.739,
          65.869,
          68.015,
          69.77199999999999,
          71.263,
          72.535,
          50.056,
          54.081,
          56.65600000000001,
          59.942,
          63.983,
          67.15899999999999,
          69.1,
          70.64699999999998,
          69.97800000000001,
          67.727,
          66.66199999999999,
          67.297,
          47.453,
          52.681,
          55.292,
          57.716,
          62.612,
          64.766,
          67.123,
          69.81,
          72.244,
          74.64699999999998,
          77.045,
          78.623,
          55.565,
          58.033,
          60.47,
          64.624,
          67.712,
          69.343,
          71.309,
          74.17399999999998,
          75.19,
          76.156,
          76.904,
          77.58800000000002,
          55.928,
          59.489,
          62.094,
          63.87,
          65.421,
          66.09899999999999,
          66.983,
          67.926,
          69.292,
          70.265,
          71.028,
          71.993,
          48.463,
          52.102,
          55.737,
          59.371,
          63.01,
          65.256,
          68,
          69.5,
          70.693,
          71.938,
          73.044,
          74.241,
          42.244,
          45.24800000000001,
          48.25100000000001,
          51.253,
          53.754,
          55.49100000000001,
          57.489,
          60.222,
          61.271,
          63.625,
          65.033,
          66.803,
          36.319,
          41.905,
          45.108,
          49.379,
          53.07,
          56.059,
          58.056,
          58.339,
          59.32,
          60.328,
          59.908,
          62.069,
          36.157,
          37.686,
          39.393,
          41.472,
          43.971,
          46.74800000000001,
          49.594,
          52.537,
          55.727,
          59.426,
          61.34,
          63.785,
          37.578,
          40.08,
          43.165,
          46.988,
          52.143,
          57.367,
          62.728,
          67.734,
          71.197,
          72.499,
          74.193,
          75.64,
          43.43600000000001,
          45.557,
          47.67,
          49.8,
          51.929,
          54.043,
          56.158,
          58.245,
          60.838,
          61.81800000000001,
          63.61,
          65.483,
          47.752,
          51.334,
          54.757,
          56.393,
          58.065,
          60.06,
          62.082,
          64.15100000000001,
          66.458,
          68.564,
          70.303,
          71.688,
          39.875,
          42.868,
          45.914,
          49.901,
          53.886,
          58.69,
          63.012,
          66.295,
          68.768,
          70.533,
          71.626,
          72.777,
          60.396,
          63.179,
          65.798,
          67.946,
          69.521,
          70.795,
          71.76,
          73.56,
          75.788,
          77.158,
          78.77,
          79.972,
          57.593,
          61.456,
          62.192,
          64.266,
          65.042,
          65.949,
          68.757,
          69.01100000000001,
          70.37899999999998,
          70.457,
          70.815,
          72.396,
          45.883,
          48.284,
          50.305,
          53.655,
          57.29600000000001,
          61.195,
          64.59,
          66.97399999999999,
          69.249,
          71.527,
          73.053,
          74.143,
          58.5,
          62.4,
          65.2,
          67.5,
          69.39,
          70.59,
          72.16,
          73.4,
          74.26,
          75.25,
          76.99,
          78.4,
          50.848,
          53.63,
          56.06100000000001,
          58.285,
          60.405,
          62.494,
          64.597,
          66.084,
          67.298,
          67.521,
          68.564,
          70.616,
          40.412,
          42.887,
          45.363,
          47.838,
          50.254,
          55.764,
          58.816,
          62.82,
          67.66199999999999,
          70.672,
          73.017,
          74.249,
          43.16,
          45.67100000000001,
          48.127,
          51.631,
          56.532,
          60.765,
          64.406,
          67.046,
          69.718,
          71.096,
          72.37,
          73.422,
          32.548,
          33.97,
          35.18,
          36.984,
          39.848,
          44.175,
          49.113,
          52.922,
          55.599,
          58.02,
          60.308,
          62.698
         ],
         "xaxis": "x",
         "yaxis": "y"
        },
        {
         "alignmentgroup": "True",
         "boxpoints": "all",
         "fillcolor": "rgba(255,255,255,0)",
         "hoveron": "points",
         "hovertemplate": "<b>%{hovertext}</b><br><br>continent=Asia<br>lifeExp=%{x}<extra></extra>",
         "hovertext": [
          "Afghanistan",
          "Afghanistan",
          "Afghanistan",
          "Afghanistan",
          "Afghanistan",
          "Afghanistan",
          "Afghanistan",
          "Afghanistan",
          "Afghanistan",
          "Afghanistan",
          "Afghanistan",
          "Afghanistan",
          "Bahrain",
          "Bahrain",
          "Bahrain",
          "Bahrain",
          "Bahrain",
          "Bahrain",
          "Bahrain",
          "Bahrain",
          "Bahrain",
          "Bahrain",
          "Bahrain",
          "Bahrain",
          "Bangladesh",
          "Bangladesh",
          "Bangladesh",
          "Bangladesh",
          "Bangladesh",
          "Bangladesh",
          "Bangladesh",
          "Bangladesh",
          "Bangladesh",
          "Bangladesh",
          "Bangladesh",
          "Bangladesh",
          "Cambodia",
          "Cambodia",
          "Cambodia",
          "Cambodia",
          "Cambodia",
          "Cambodia",
          "Cambodia",
          "Cambodia",
          "Cambodia",
          "Cambodia",
          "Cambodia",
          "Cambodia",
          "China",
          "China",
          "China",
          "China",
          "China",
          "China",
          "China",
          "China",
          "China",
          "China",
          "China",
          "China",
          "Hong Kong, China",
          "Hong Kong, China",
          "Hong Kong, China",
          "Hong Kong, China",
          "Hong Kong, China",
          "Hong Kong, China",
          "Hong Kong, China",
          "Hong Kong, China",
          "Hong Kong, China",
          "Hong Kong, China",
          "Hong Kong, China",
          "Hong Kong, China",
          "India",
          "India",
          "India",
          "India",
          "India",
          "India",
          "India",
          "India",
          "India",
          "India",
          "India",
          "India",
          "Indonesia",
          "Indonesia",
          "Indonesia",
          "Indonesia",
          "Indonesia",
          "Indonesia",
          "Indonesia",
          "Indonesia",
          "Indonesia",
          "Indonesia",
          "Indonesia",
          "Indonesia",
          "Iran",
          "Iran",
          "Iran",
          "Iran",
          "Iran",
          "Iran",
          "Iran",
          "Iran",
          "Iran",
          "Iran",
          "Iran",
          "Iran",
          "Iraq",
          "Iraq",
          "Iraq",
          "Iraq",
          "Iraq",
          "Iraq",
          "Iraq",
          "Iraq",
          "Iraq",
          "Iraq",
          "Iraq",
          "Iraq",
          "Israel",
          "Israel",
          "Israel",
          "Israel",
          "Israel",
          "Israel",
          "Israel",
          "Israel",
          "Israel",
          "Israel",
          "Israel",
          "Israel",
          "Japan",
          "Japan",
          "Japan",
          "Japan",
          "Japan",
          "Japan",
          "Japan",
          "Japan",
          "Japan",
          "Japan",
          "Japan",
          "Japan",
          "Jordan",
          "Jordan",
          "Jordan",
          "Jordan",
          "Jordan",
          "Jordan",
          "Jordan",
          "Jordan",
          "Jordan",
          "Jordan",
          "Jordan",
          "Jordan",
          "Korea, Dem. Rep.",
          "Korea, Dem. Rep.",
          "Korea, Dem. Rep.",
          "Korea, Dem. Rep.",
          "Korea, Dem. Rep.",
          "Korea, Dem. Rep.",
          "Korea, Dem. Rep.",
          "Korea, Dem. Rep.",
          "Korea, Dem. Rep.",
          "Korea, Dem. Rep.",
          "Korea, Dem. Rep.",
          "Korea, Dem. Rep.",
          "Korea, Rep.",
          "Korea, Rep.",
          "Korea, Rep.",
          "Korea, Rep.",
          "Korea, Rep.",
          "Korea, Rep.",
          "Korea, Rep.",
          "Korea, Rep.",
          "Korea, Rep.",
          "Korea, Rep.",
          "Korea, Rep.",
          "Korea, Rep.",
          "Kuwait",
          "Kuwait",
          "Kuwait",
          "Kuwait",
          "Kuwait",
          "Kuwait",
          "Kuwait",
          "Kuwait",
          "Kuwait",
          "Kuwait",
          "Kuwait",
          "Kuwait",
          "Lebanon",
          "Lebanon",
          "Lebanon",
          "Lebanon",
          "Lebanon",
          "Lebanon",
          "Lebanon",
          "Lebanon",
          "Lebanon",
          "Lebanon",
          "Lebanon",
          "Lebanon",
          "Malaysia",
          "Malaysia",
          "Malaysia",
          "Malaysia",
          "Malaysia",
          "Malaysia",
          "Malaysia",
          "Malaysia",
          "Malaysia",
          "Malaysia",
          "Malaysia",
          "Malaysia",
          "Mongolia",
          "Mongolia",
          "Mongolia",
          "Mongolia",
          "Mongolia",
          "Mongolia",
          "Mongolia",
          "Mongolia",
          "Mongolia",
          "Mongolia",
          "Mongolia",
          "Mongolia",
          "Myanmar",
          "Myanmar",
          "Myanmar",
          "Myanmar",
          "Myanmar",
          "Myanmar",
          "Myanmar",
          "Myanmar",
          "Myanmar",
          "Myanmar",
          "Myanmar",
          "Myanmar",
          "Nepal",
          "Nepal",
          "Nepal",
          "Nepal",
          "Nepal",
          "Nepal",
          "Nepal",
          "Nepal",
          "Nepal",
          "Nepal",
          "Nepal",
          "Nepal",
          "Oman",
          "Oman",
          "Oman",
          "Oman",
          "Oman",
          "Oman",
          "Oman",
          "Oman",
          "Oman",
          "Oman",
          "Oman",
          "Oman",
          "Pakistan",
          "Pakistan",
          "Pakistan",
          "Pakistan",
          "Pakistan",
          "Pakistan",
          "Pakistan",
          "Pakistan",
          "Pakistan",
          "Pakistan",
          "Pakistan",
          "Pakistan",
          "Philippines",
          "Philippines",
          "Philippines",
          "Philippines",
          "Philippines",
          "Philippines",
          "Philippines",
          "Philippines",
          "Philippines",
          "Philippines",
          "Philippines",
          "Philippines",
          "Saudi Arabia",
          "Saudi Arabia",
          "Saudi Arabia",
          "Saudi Arabia",
          "Saudi Arabia",
          "Saudi Arabia",
          "Saudi Arabia",
          "Saudi Arabia",
          "Saudi Arabia",
          "Saudi Arabia",
          "Saudi Arabia",
          "Saudi Arabia",
          "Singapore",
          "Singapore",
          "Singapore",
          "Singapore",
          "Singapore",
          "Singapore",
          "Singapore",
          "Singapore",
          "Singapore",
          "Singapore",
          "Singapore",
          "Singapore",
          "Sri Lanka",
          "Sri Lanka",
          "Sri Lanka",
          "Sri Lanka",
          "Sri Lanka",
          "Sri Lanka",
          "Sri Lanka",
          "Sri Lanka",
          "Sri Lanka",
          "Sri Lanka",
          "Sri Lanka",
          "Sri Lanka",
          "Syria",
          "Syria",
          "Syria",
          "Syria",
          "Syria",
          "Syria",
          "Syria",
          "Syria",
          "Syria",
          "Syria",
          "Syria",
          "Syria",
          "Taiwan",
          "Taiwan",
          "Taiwan",
          "Taiwan",
          "Taiwan",
          "Taiwan",
          "Taiwan",
          "Taiwan",
          "Taiwan",
          "Taiwan",
          "Taiwan",
          "Taiwan",
          "Thailand",
          "Thailand",
          "Thailand",
          "Thailand",
          "Thailand",
          "Thailand",
          "Thailand",
          "Thailand",
          "Thailand",
          "Thailand",
          "Thailand",
          "Thailand",
          "Vietnam",
          "Vietnam",
          "Vietnam",
          "Vietnam",
          "Vietnam",
          "Vietnam",
          "Vietnam",
          "Vietnam",
          "Vietnam",
          "Vietnam",
          "Vietnam",
          "Vietnam",
          "West Bank and Gaza",
          "West Bank and Gaza",
          "West Bank and Gaza",
          "West Bank and Gaza",
          "West Bank and Gaza",
          "West Bank and Gaza",
          "West Bank and Gaza",
          "West Bank and Gaza",
          "West Bank and Gaza",
          "West Bank and Gaza",
          "West Bank and Gaza",
          "West Bank and Gaza",
          "Yemen, Rep.",
          "Yemen, Rep.",
          "Yemen, Rep.",
          "Yemen, Rep.",
          "Yemen, Rep.",
          "Yemen, Rep.",
          "Yemen, Rep.",
          "Yemen, Rep.",
          "Yemen, Rep.",
          "Yemen, Rep.",
          "Yemen, Rep.",
          "Yemen, Rep."
         ],
         "jitter": 0,
         "legendgroup": "Asia",
         "line": {
          "color": "rgba(255,255,255,0)"
         },
         "marker": {
          "color": "#636efa",
          "symbol": "line-ns-open"
         },
         "name": "Asia",
         "offsetgroup": "Asia",
         "showlegend": false,
         "type": "box",
         "x": [
          28.801,
          30.332,
          31.997,
          34.02,
          36.088,
          38.438,
          39.854,
          40.822,
          41.674,
          41.76300000000001,
          42.129,
          43.828,
          50.93899999999999,
          53.832,
          56.923,
          59.923,
          63.3,
          65.593,
          69.05199999999999,
          70.75,
          72.601,
          73.925,
          74.795,
          75.635,
          37.484,
          39.348,
          41.216,
          43.453,
          45.252,
          46.923,
          50.00899999999999,
          52.819,
          56.018,
          59.412,
          62.01300000000001,
          64.062,
          39.417,
          41.36600000000001,
          43.415,
          45.415,
          40.317,
          31.22,
          50.957,
          53.914,
          55.803,
          56.534,
          56.752,
          59.723,
          44,
          50.54896,
          44.50136,
          58.38112,
          63.11888,
          63.96736,
          65.525,
          67.274,
          68.69,
          70.426,
          72.028,
          72.961,
          60.96,
          64.75,
          67.65,
          70,
          72,
          73.6,
          75.45,
          76.2,
          77.601,
          80,
          81.495,
          82.208,
          37.37300000000001,
          40.249,
          43.605,
          47.19300000000001,
          50.651,
          54.208,
          56.596,
          58.553,
          60.223,
          61.765,
          62.879,
          64.69800000000001,
          37.468,
          39.918,
          42.518,
          45.964,
          49.203,
          52.702,
          56.159,
          60.137,
          62.681,
          66.041,
          68.58800000000001,
          70.65,
          44.869,
          47.181,
          49.325,
          52.469,
          55.234,
          57.702,
          59.62,
          63.04,
          65.742,
          68.042,
          69.45100000000001,
          70.964,
          45.32,
          48.437,
          51.457,
          54.459,
          56.95,
          60.413,
          62.038,
          65.044,
          59.46100000000001,
          58.81100000000001,
          57.04600000000001,
          59.545,
          65.39,
          67.84,
          69.39,
          70.75,
          71.63,
          73.06,
          74.45,
          75.6,
          76.93,
          78.26899999999998,
          79.696,
          80.745,
          63.03,
          65.5,
          68.73,
          71.43,
          73.42,
          75.38,
          77.11,
          78.67,
          79.36,
          80.69,
          82,
          82.603,
          43.158,
          45.669,
          48.12600000000001,
          51.629,
          56.528,
          61.13399999999999,
          63.739,
          65.869,
          68.015,
          69.77199999999999,
          71.263,
          72.535,
          50.056,
          54.081,
          56.65600000000001,
          59.942,
          63.983,
          67.15899999999999,
          69.1,
          70.64699999999998,
          69.97800000000001,
          67.727,
          66.66199999999999,
          67.297,
          47.453,
          52.681,
          55.292,
          57.716,
          62.612,
          64.766,
          67.123,
          69.81,
          72.244,
          74.64699999999998,
          77.045,
          78.623,
          55.565,
          58.033,
          60.47,
          64.624,
          67.712,
          69.343,
          71.309,
          74.17399999999998,
          75.19,
          76.156,
          76.904,
          77.58800000000002,
          55.928,
          59.489,
          62.094,
          63.87,
          65.421,
          66.09899999999999,
          66.983,
          67.926,
          69.292,
          70.265,
          71.028,
          71.993,
          48.463,
          52.102,
          55.737,
          59.371,
          63.01,
          65.256,
          68,
          69.5,
          70.693,
          71.938,
          73.044,
          74.241,
          42.244,
          45.24800000000001,
          48.25100000000001,
          51.253,
          53.754,
          55.49100000000001,
          57.489,
          60.222,
          61.271,
          63.625,
          65.033,
          66.803,
          36.319,
          41.905,
          45.108,
          49.379,
          53.07,
          56.059,
          58.056,
          58.339,
          59.32,
          60.328,
          59.908,
          62.069,
          36.157,
          37.686,
          39.393,
          41.472,
          43.971,
          46.74800000000001,
          49.594,
          52.537,
          55.727,
          59.426,
          61.34,
          63.785,
          37.578,
          40.08,
          43.165,
          46.988,
          52.143,
          57.367,
          62.728,
          67.734,
          71.197,
          72.499,
          74.193,
          75.64,
          43.43600000000001,
          45.557,
          47.67,
          49.8,
          51.929,
          54.043,
          56.158,
          58.245,
          60.838,
          61.81800000000001,
          63.61,
          65.483,
          47.752,
          51.334,
          54.757,
          56.393,
          58.065,
          60.06,
          62.082,
          64.15100000000001,
          66.458,
          68.564,
          70.303,
          71.688,
          39.875,
          42.868,
          45.914,
          49.901,
          53.886,
          58.69,
          63.012,
          66.295,
          68.768,
          70.533,
          71.626,
          72.777,
          60.396,
          63.179,
          65.798,
          67.946,
          69.521,
          70.795,
          71.76,
          73.56,
          75.788,
          77.158,
          78.77,
          79.972,
          57.593,
          61.456,
          62.192,
          64.266,
          65.042,
          65.949,
          68.757,
          69.01100000000001,
          70.37899999999998,
          70.457,
          70.815,
          72.396,
          45.883,
          48.284,
          50.305,
          53.655,
          57.29600000000001,
          61.195,
          64.59,
          66.97399999999999,
          69.249,
          71.527,
          73.053,
          74.143,
          58.5,
          62.4,
          65.2,
          67.5,
          69.39,
          70.59,
          72.16,
          73.4,
          74.26,
          75.25,
          76.99,
          78.4,
          50.848,
          53.63,
          56.06100000000001,
          58.285,
          60.405,
          62.494,
          64.597,
          66.084,
          67.298,
          67.521,
          68.564,
          70.616,
          40.412,
          42.887,
          45.363,
          47.838,
          50.254,
          55.764,
          58.816,
          62.82,
          67.66199999999999,
          70.672,
          73.017,
          74.249,
          43.16,
          45.67100000000001,
          48.127,
          51.631,
          56.532,
          60.765,
          64.406,
          67.046,
          69.718,
          71.096,
          72.37,
          73.422,
          32.548,
          33.97,
          35.18,
          36.984,
          39.848,
          44.175,
          49.113,
          52.922,
          55.599,
          58.02,
          60.308,
          62.698
         ],
         "xaxis": "x2",
         "yaxis": "y2"
        },
        {
         "alignmentgroup": "True",
         "bingroup": "x",
         "hovertemplate": "continent=Europe<br>lifeExp=%{x}<br>count=%{y}<extra></extra>",
         "legendgroup": "Europe",
         "marker": {
          "color": "#EF553B",
          "pattern": {
           "shape": ""
          }
         },
         "name": "Europe",
         "offsetgroup": "Europe",
         "orientation": "v",
         "showlegend": true,
         "type": "histogram",
         "x": [
          55.23,
          59.28,
          64.82,
          66.22,
          67.69,
          68.93,
          70.42,
          72,
          71.581,
          72.95,
          75.65100000000002,
          76.423,
          66.8,
          67.48,
          69.54,
          70.14,
          70.63,
          72.17,
          73.18,
          74.94,
          76.04,
          77.51,
          78.98,
          79.829,
          68,
          69.24,
          70.25,
          70.94,
          71.44,
          72.8,
          73.93,
          75.35,
          76.46,
          77.53,
          78.32,
          79.441,
          53.82,
          58.45,
          61.93,
          64.79,
          67.45,
          69.86,
          70.69,
          71.14,
          72.178,
          73.244,
          74.09,
          74.852,
          59.6,
          66.61,
          69.51,
          70.42,
          70.9,
          70.81,
          71.08,
          71.34,
          71.19,
          70.32,
          72.14,
          73.005,
          61.21,
          64.77,
          67.13,
          68.5,
          69.61,
          70.64,
          70.46,
          71.52,
          72.527,
          73.68,
          74.876,
          75.748,
          66.87,
          69.03,
          69.9,
          70.38,
          70.29,
          70.71,
          70.96,
          71.58,
          72.4,
          74.01,
          75.51,
          76.486,
          70.78,
          71.81,
          72.35,
          72.96,
          73.47,
          74.69,
          74.63,
          74.8,
          75.33,
          76.11,
          77.18,
          78.332,
          66.55,
          67.49,
          68.75,
          69.83,
          70.87,
          72.52,
          74.55,
          74.83,
          75.7,
          77.13,
          78.37,
          79.313,
          67.41,
          68.93,
          70.51,
          71.55,
          72.38,
          73.83,
          74.89,
          76.34,
          77.46,
          78.64,
          79.59,
          80.657,
          67.5,
          69.1,
          70.3,
          70.8,
          71,
          72.5,
          73.8,
          74.847,
          76.07,
          77.34,
          78.67,
          79.406,
          65.86,
          67.86,
          69.51,
          71,
          72.34,
          73.68,
          75.24,
          76.67,
          77.03,
          77.869,
          78.256,
          79.483,
          64.03,
          66.41,
          67.96,
          69.5,
          69.76,
          69.95,
          69.39,
          69.58,
          69.17,
          71.04,
          72.59,
          73.33800000000002,
          72.49,
          73.47,
          73.68,
          73.73,
          74.46,
          76.11,
          76.99,
          77.23,
          78.77,
          78.95,
          80.5,
          81.757,
          66.91,
          68.9,
          70.29,
          71.08,
          71.28,
          72.03,
          73.1,
          74.36,
          75.467,
          76.122,
          77.783,
          78.885,
          65.94,
          67.81,
          69.24,
          71.06,
          72.19,
          73.48,
          74.98,
          76.42,
          77.44,
          78.82,
          80.24,
          80.546,
          59.164,
          61.448,
          63.728,
          67.178,
          70.63600000000002,
          73.066,
          74.101,
          74.865,
          75.435,
          75.445,
          73.98100000000002,
          74.543,
          72.13,
          72.99,
          73.23,
          73.82,
          73.75,
          75.24,
          76.05,
          76.83,
          77.42,
          78.03,
          78.53,
          79.762,
          72.67,
          73.44,
          73.47,
          74.08,
          74.34,
          75.37,
          75.97,
          75.89,
          77.32,
          78.32,
          79.05,
          80.196,
          61.31,
          65.77,
          67.64,
          69.61,
          70.85,
          70.67,
          71.32,
          70.98,
          70.99,
          72.75,
          74.67,
          75.563,
          59.82,
          61.51,
          64.39,
          66.6,
          69.26,
          70.41,
          72.77,
          74.06,
          74.86,
          75.97,
          77.29,
          78.098,
          61.05,
          64.1,
          66.8,
          66.8,
          69.21,
          69.46,
          69.66,
          69.53,
          69.36,
          69.72,
          71.322,
          72.476,
          57.996,
          61.685,
          64.531,
          66.914,
          68.7,
          70.3,
          70.16199999999999,
          71.218,
          71.65899999999998,
          72.232,
          73.21300000000002,
          74.002,
          64.36,
          67.45,
          70.33,
          70.98,
          70.35,
          70.45,
          70.8,
          71.08,
          71.38,
          72.71,
          73.8,
          74.663,
          65.57,
          67.85,
          69.15,
          69.18,
          69.82,
          70.97,
          71.063,
          72.25,
          73.64,
          75.13,
          76.66,
          77.926,
          64.94,
          66.66,
          69.69,
          71.44,
          73.06,
          74.39,
          76.3,
          76.9,
          77.57,
          78.77,
          79.78,
          80.941,
          71.86,
          72.49,
          73.37,
          74.16,
          74.72,
          75.44,
          76.42,
          77.19,
          78.16,
          79.39,
          80.04,
          80.884,
          69.62,
          70.56,
          71.32,
          72.77,
          73.78,
          75.39,
          76.21,
          77.41,
          78.03,
          79.37,
          80.62,
          81.70100000000002,
          43.585,
          48.07899999999999,
          52.098,
          54.33600000000001,
          57.005,
          59.507,
          61.036,
          63.108,
          66.146,
          68.835,
          70.845,
          71.777,
          69.18,
          70.42,
          70.76,
          71.36,
          72.01,
          72.76,
          74.04,
          75.007,
          76.42,
          77.218,
          78.471,
          79.425
         ],
         "xaxis": "x",
         "yaxis": "y"
        },
        {
         "alignmentgroup": "True",
         "boxpoints": "all",
         "fillcolor": "rgba(255,255,255,0)",
         "hoveron": "points",
         "hovertemplate": "<b>%{hovertext}</b><br><br>continent=Europe<br>lifeExp=%{x}<extra></extra>",
         "hovertext": [
          "Albania",
          "Albania",
          "Albania",
          "Albania",
          "Albania",
          "Albania",
          "Albania",
          "Albania",
          "Albania",
          "Albania",
          "Albania",
          "Albania",
          "Austria",
          "Austria",
          "Austria",
          "Austria",
          "Austria",
          "Austria",
          "Austria",
          "Austria",
          "Austria",
          "Austria",
          "Austria",
          "Austria",
          "Belgium",
          "Belgium",
          "Belgium",
          "Belgium",
          "Belgium",
          "Belgium",
          "Belgium",
          "Belgium",
          "Belgium",
          "Belgium",
          "Belgium",
          "Belgium",
          "Bosnia and Herzegovina",
          "Bosnia and Herzegovina",
          "Bosnia and Herzegovina",
          "Bosnia and Herzegovina",
          "Bosnia and Herzegovina",
          "Bosnia and Herzegovina",
          "Bosnia and Herzegovina",
          "Bosnia and Herzegovina",
          "Bosnia and Herzegovina",
          "Bosnia and Herzegovina",
          "Bosnia and Herzegovina",
          "Bosnia and Herzegovina",
          "Bulgaria",
          "Bulgaria",
          "Bulgaria",
          "Bulgaria",
          "Bulgaria",
          "Bulgaria",
          "Bulgaria",
          "Bulgaria",
          "Bulgaria",
          "Bulgaria",
          "Bulgaria",
          "Bulgaria",
          "Croatia",
          "Croatia",
          "Croatia",
          "Croatia",
          "Croatia",
          "Croatia",
          "Croatia",
          "Croatia",
          "Croatia",
          "Croatia",
          "Croatia",
          "Croatia",
          "Czech Republic",
          "Czech Republic",
          "Czech Republic",
          "Czech Republic",
          "Czech Republic",
          "Czech Republic",
          "Czech Republic",
          "Czech Republic",
          "Czech Republic",
          "Czech Republic",
          "Czech Republic",
          "Czech Republic",
          "Denmark",
          "Denmark",
          "Denmark",
          "Denmark",
          "Denmark",
          "Denmark",
          "Denmark",
          "Denmark",
          "Denmark",
          "Denmark",
          "Denmark",
          "Denmark",
          "Finland",
          "Finland",
          "Finland",
          "Finland",
          "Finland",
          "Finland",
          "Finland",
          "Finland",
          "Finland",
          "Finland",
          "Finland",
          "Finland",
          "France",
          "France",
          "France",
          "France",
          "France",
          "France",
          "France",
          "France",
          "France",
          "France",
          "France",
          "France",
          "Germany",
          "Germany",
          "Germany",
          "Germany",
          "Germany",
          "Germany",
          "Germany",
          "Germany",
          "Germany",
          "Germany",
          "Germany",
          "Germany",
          "Greece",
          "Greece",
          "Greece",
          "Greece",
          "Greece",
          "Greece",
          "Greece",
          "Greece",
          "Greece",
          "Greece",
          "Greece",
          "Greece",
          "Hungary",
          "Hungary",
          "Hungary",
          "Hungary",
          "Hungary",
          "Hungary",
          "Hungary",
          "Hungary",
          "Hungary",
          "Hungary",
          "Hungary",
          "Hungary",
          "Iceland",
          "Iceland",
          "Iceland",
          "Iceland",
          "Iceland",
          "Iceland",
          "Iceland",
          "Iceland",
          "Iceland",
          "Iceland",
          "Iceland",
          "Iceland",
          "Ireland",
          "Ireland",
          "Ireland",
          "Ireland",
          "Ireland",
          "Ireland",
          "Ireland",
          "Ireland",
          "Ireland",
          "Ireland",
          "Ireland",
          "Ireland",
          "Italy",
          "Italy",
          "Italy",
          "Italy",
          "Italy",
          "Italy",
          "Italy",
          "Italy",
          "Italy",
          "Italy",
          "Italy",
          "Italy",
          "Montenegro",
          "Montenegro",
          "Montenegro",
          "Montenegro",
          "Montenegro",
          "Montenegro",
          "Montenegro",
          "Montenegro",
          "Montenegro",
          "Montenegro",
          "Montenegro",
          "Montenegro",
          "Netherlands",
          "Netherlands",
          "Netherlands",
          "Netherlands",
          "Netherlands",
          "Netherlands",
          "Netherlands",
          "Netherlands",
          "Netherlands",
          "Netherlands",
          "Netherlands",
          "Netherlands",
          "Norway",
          "Norway",
          "Norway",
          "Norway",
          "Norway",
          "Norway",
          "Norway",
          "Norway",
          "Norway",
          "Norway",
          "Norway",
          "Norway",
          "Poland",
          "Poland",
          "Poland",
          "Poland",
          "Poland",
          "Poland",
          "Poland",
          "Poland",
          "Poland",
          "Poland",
          "Poland",
          "Poland",
          "Portugal",
          "Portugal",
          "Portugal",
          "Portugal",
          "Portugal",
          "Portugal",
          "Portugal",
          "Portugal",
          "Portugal",
          "Portugal",
          "Portugal",
          "Portugal",
          "Romania",
          "Romania",
          "Romania",
          "Romania",
          "Romania",
          "Romania",
          "Romania",
          "Romania",
          "Romania",
          "Romania",
          "Romania",
          "Romania",
          "Serbia",
          "Serbia",
          "Serbia",
          "Serbia",
          "Serbia",
          "Serbia",
          "Serbia",
          "Serbia",
          "Serbia",
          "Serbia",
          "Serbia",
          "Serbia",
          "Slovak Republic",
          "Slovak Republic",
          "Slovak Republic",
          "Slovak Republic",
          "Slovak Republic",
          "Slovak Republic",
          "Slovak Republic",
          "Slovak Republic",
          "Slovak Republic",
          "Slovak Republic",
          "Slovak Republic",
          "Slovak Republic",
          "Slovenia",
          "Slovenia",
          "Slovenia",
          "Slovenia",
          "Slovenia",
          "Slovenia",
          "Slovenia",
          "Slovenia",
          "Slovenia",
          "Slovenia",
          "Slovenia",
          "Slovenia",
          "Spain",
          "Spain",
          "Spain",
          "Spain",
          "Spain",
          "Spain",
          "Spain",
          "Spain",
          "Spain",
          "Spain",
          "Spain",
          "Spain",
          "Sweden",
          "Sweden",
          "Sweden",
          "Sweden",
          "Sweden",
          "Sweden",
          "Sweden",
          "Sweden",
          "Sweden",
          "Sweden",
          "Sweden",
          "Sweden",
          "Switzerland",
          "Switzerland",
          "Switzerland",
          "Switzerland",
          "Switzerland",
          "Switzerland",
          "Switzerland",
          "Switzerland",
          "Switzerland",
          "Switzerland",
          "Switzerland",
          "Switzerland",
          "Turkey",
          "Turkey",
          "Turkey",
          "Turkey",
          "Turkey",
          "Turkey",
          "Turkey",
          "Turkey",
          "Turkey",
          "Turkey",
          "Turkey",
          "Turkey",
          "United Kingdom",
          "United Kingdom",
          "United Kingdom",
          "United Kingdom",
          "United Kingdom",
          "United Kingdom",
          "United Kingdom",
          "United Kingdom",
          "United Kingdom",
          "United Kingdom",
          "United Kingdom",
          "United Kingdom"
         ],
         "jitter": 0,
         "legendgroup": "Europe",
         "line": {
          "color": "rgba(255,255,255,0)"
         },
         "marker": {
          "color": "#EF553B",
          "symbol": "line-ns-open"
         },
         "name": "Europe",
         "offsetgroup": "Europe",
         "showlegend": false,
         "type": "box",
         "x": [
          55.23,
          59.28,
          64.82,
          66.22,
          67.69,
          68.93,
          70.42,
          72,
          71.581,
          72.95,
          75.65100000000002,
          76.423,
          66.8,
          67.48,
          69.54,
          70.14,
          70.63,
          72.17,
          73.18,
          74.94,
          76.04,
          77.51,
          78.98,
          79.829,
          68,
          69.24,
          70.25,
          70.94,
          71.44,
          72.8,
          73.93,
          75.35,
          76.46,
          77.53,
          78.32,
          79.441,
          53.82,
          58.45,
          61.93,
          64.79,
          67.45,
          69.86,
          70.69,
          71.14,
          72.178,
          73.244,
          74.09,
          74.852,
          59.6,
          66.61,
          69.51,
          70.42,
          70.9,
          70.81,
          71.08,
          71.34,
          71.19,
          70.32,
          72.14,
          73.005,
          61.21,
          64.77,
          67.13,
          68.5,
          69.61,
          70.64,
          70.46,
          71.52,
          72.527,
          73.68,
          74.876,
          75.748,
          66.87,
          69.03,
          69.9,
          70.38,
          70.29,
          70.71,
          70.96,
          71.58,
          72.4,
          74.01,
          75.51,
          76.486,
          70.78,
          71.81,
          72.35,
          72.96,
          73.47,
          74.69,
          74.63,
          74.8,
          75.33,
          76.11,
          77.18,
          78.332,
          66.55,
          67.49,
          68.75,
          69.83,
          70.87,
          72.52,
          74.55,
          74.83,
          75.7,
          77.13,
          78.37,
          79.313,
          67.41,
          68.93,
          70.51,
          71.55,
          72.38,
          73.83,
          74.89,
          76.34,
          77.46,
          78.64,
          79.59,
          80.657,
          67.5,
          69.1,
          70.3,
          70.8,
          71,
          72.5,
          73.8,
          74.847,
          76.07,
          77.34,
          78.67,
          79.406,
          65.86,
          67.86,
          69.51,
          71,
          72.34,
          73.68,
          75.24,
          76.67,
          77.03,
          77.869,
          78.256,
          79.483,
          64.03,
          66.41,
          67.96,
          69.5,
          69.76,
          69.95,
          69.39,
          69.58,
          69.17,
          71.04,
          72.59,
          73.33800000000002,
          72.49,
          73.47,
          73.68,
          73.73,
          74.46,
          76.11,
          76.99,
          77.23,
          78.77,
          78.95,
          80.5,
          81.757,
          66.91,
          68.9,
          70.29,
          71.08,
          71.28,
          72.03,
          73.1,
          74.36,
          75.467,
          76.122,
          77.783,
          78.885,
          65.94,
          67.81,
          69.24,
          71.06,
          72.19,
          73.48,
          74.98,
          76.42,
          77.44,
          78.82,
          80.24,
          80.546,
          59.164,
          61.448,
          63.728,
          67.178,
          70.63600000000002,
          73.066,
          74.101,
          74.865,
          75.435,
          75.445,
          73.98100000000002,
          74.543,
          72.13,
          72.99,
          73.23,
          73.82,
          73.75,
          75.24,
          76.05,
          76.83,
          77.42,
          78.03,
          78.53,
          79.762,
          72.67,
          73.44,
          73.47,
          74.08,
          74.34,
          75.37,
          75.97,
          75.89,
          77.32,
          78.32,
          79.05,
          80.196,
          61.31,
          65.77,
          67.64,
          69.61,
          70.85,
          70.67,
          71.32,
          70.98,
          70.99,
          72.75,
          74.67,
          75.563,
          59.82,
          61.51,
          64.39,
          66.6,
          69.26,
          70.41,
          72.77,
          74.06,
          74.86,
          75.97,
          77.29,
          78.098,
          61.05,
          64.1,
          66.8,
          66.8,
          69.21,
          69.46,
          69.66,
          69.53,
          69.36,
          69.72,
          71.322,
          72.476,
          57.996,
          61.685,
          64.531,
          66.914,
          68.7,
          70.3,
          70.16199999999999,
          71.218,
          71.65899999999998,
          72.232,
          73.21300000000002,
          74.002,
          64.36,
          67.45,
          70.33,
          70.98,
          70.35,
          70.45,
          70.8,
          71.08,
          71.38,
          72.71,
          73.8,
          74.663,
          65.57,
          67.85,
          69.15,
          69.18,
          69.82,
          70.97,
          71.063,
          72.25,
          73.64,
          75.13,
          76.66,
          77.926,
          64.94,
          66.66,
          69.69,
          71.44,
          73.06,
          74.39,
          76.3,
          76.9,
          77.57,
          78.77,
          79.78,
          80.941,
          71.86,
          72.49,
          73.37,
          74.16,
          74.72,
          75.44,
          76.42,
          77.19,
          78.16,
          79.39,
          80.04,
          80.884,
          69.62,
          70.56,
          71.32,
          72.77,
          73.78,
          75.39,
          76.21,
          77.41,
          78.03,
          79.37,
          80.62,
          81.70100000000002,
          43.585,
          48.07899999999999,
          52.098,
          54.33600000000001,
          57.005,
          59.507,
          61.036,
          63.108,
          66.146,
          68.835,
          70.845,
          71.777,
          69.18,
          70.42,
          70.76,
          71.36,
          72.01,
          72.76,
          74.04,
          75.007,
          76.42,
          77.218,
          78.471,
          79.425
         ],
         "xaxis": "x2",
         "yaxis": "y2"
        },
        {
         "alignmentgroup": "True",
         "bingroup": "x",
         "hovertemplate": "continent=Africa<br>lifeExp=%{x}<br>count=%{y}<extra></extra>",
         "legendgroup": "Africa",
         "marker": {
          "color": "#00cc96",
          "pattern": {
           "shape": ""
          }
         },
         "name": "Africa",
         "offsetgroup": "Africa",
         "orientation": "v",
         "showlegend": true,
         "type": "histogram",
         "x": [
          43.077,
          45.685,
          48.303,
          51.407,
          54.518,
          58.014,
          61.368,
          65.79899999999999,
          67.744,
          69.152,
          70.994,
          72.301,
          30.015,
          31.999,
          34,
          35.985,
          37.928,
          39.483,
          39.942,
          39.906,
          40.647,
          40.963,
          41.003,
          42.731,
          38.223,
          40.358,
          42.618,
          44.885,
          47.014,
          49.19,
          50.904,
          52.337,
          53.919,
          54.777,
          54.40600000000001,
          56.728,
          47.622,
          49.618,
          51.52,
          53.298,
          56.024,
          59.319,
          61.484,
          63.622,
          62.745,
          52.556,
          46.63399999999999,
          50.728,
          31.975,
          34.906,
          37.814,
          40.697,
          43.591,
          46.137,
          48.122,
          49.557,
          50.26,
          50.324,
          50.65,
          52.295,
          39.031,
          40.533,
          42.045,
          43.548,
          44.057,
          45.91,
          47.471,
          48.21100000000001,
          44.736,
          45.326,
          47.36,
          49.58,
          38.523,
          40.428,
          42.643,
          44.799,
          47.049,
          49.355,
          52.96100000000001,
          54.985,
          54.31399999999999,
          52.199,
          49.856,
          50.43,
          35.463,
          37.464,
          39.475,
          41.478,
          43.457,
          46.775,
          48.295,
          50.485,
          49.396,
          46.066,
          43.308,
          44.74100000000001,
          38.092,
          39.881,
          41.716,
          43.601000000000006,
          45.569,
          47.383,
          49.517,
          51.051,
          51.724,
          51.573,
          50.525,
          50.651,
          40.715,
          42.46,
          44.467,
          46.472,
          48.944,
          50.93899999999999,
          52.933,
          54.926,
          57.93899999999999,
          60.66,
          62.974,
          65.152,
          39.143,
          40.652,
          42.122,
          44.056,
          45.989,
          47.804,
          47.784,
          47.412,
          45.548,
          42.587,
          44.966,
          46.462,
          42.111,
          45.053,
          48.435,
          52.04,
          54.907,
          55.625,
          56.695,
          57.47,
          56.433,
          52.962,
          52.97,
          55.322,
          40.477,
          42.469,
          44.93,
          47.35,
          49.801,
          52.374,
          53.983,
          54.655,
          52.044,
          47.99100000000001,
          46.832,
          48.328,
          34.812,
          37.328,
          39.69300000000001,
          42.074,
          44.36600000000001,
          46.519,
          48.812,
          50.04,
          51.604,
          53.157,
          53.37300000000001,
          54.791,
          41.893,
          44.444,
          46.992,
          49.293,
          51.137,
          53.319,
          56.006,
          59.797,
          63.674,
          67.217,
          69.806,
          71.33800000000002,
          34.482,
          35.98300000000001,
          37.485,
          38.987,
          40.516,
          42.024,
          43.662,
          45.664,
          47.545,
          48.245,
          49.348,
          51.57899999999999,
          35.92800000000001,
          38.047,
          40.158,
          42.18899999999999,
          44.142,
          44.535,
          43.89,
          46.453,
          49.99100000000001,
          53.378,
          55.24,
          58.04,
          34.078,
          36.667,
          40.059,
          42.115,
          43.515,
          44.51,
          44.916,
          46.684,
          48.091,
          49.402,
          50.725,
          52.947,
          37.003,
          38.999,
          40.489,
          44.598,
          48.69,
          52.79,
          56.56399999999999,
          60.19,
          61.36600000000001,
          60.46100000000001,
          56.761,
          56.735,
          30,
          32.065,
          33.896,
          35.857,
          38.308,
          41.842,
          45.58,
          49.265,
          52.644,
          55.861,
          58.041,
          59.448,
          43.149,
          44.779,
          46.452,
          48.072,
          49.875,
          51.756,
          53.744,
          55.729,
          57.50100000000001,
          58.556,
          58.453,
          60.022,
          33.609,
          34.558,
          35.753,
          37.197,
          38.842,
          40.762,
          42.89100000000001,
          45.552,
          48.576,
          51.455,
          53.676,
          56.007,
          32.5,
          33.489000000000004,
          34.488,
          35.492,
          36.486,
          37.465,
          39.327,
          41.245,
          43.26600000000001,
          44.87300000000001,
          45.504,
          46.38800000000001,
          42.27,
          44.68600000000001,
          47.949,
          50.654,
          53.559,
          56.155,
          58.76600000000001,
          59.339,
          59.285,
          54.407,
          50.992,
          54.11,
          42.13800000000001,
          45.047,
          47.747,
          48.492,
          49.767,
          52.208,
          55.078,
          57.18,
          59.685,
          55.558,
          44.593,
          42.592,
          38.48,
          39.486,
          40.502,
          41.536,
          42.614,
          43.764,
          44.852,
          46.027,
          40.802,
          42.221,
          43.753,
          45.678,
          42.723,
          45.289,
          47.808,
          50.227,
          52.773,
          57.442,
          62.155,
          66.234,
          68.755,
          71.555,
          72.737,
          73.952,
          36.681,
          38.865,
          40.848,
          42.881,
          44.851000000000006,
          46.881,
          48.969,
          49.35,
          52.214,
          54.978,
          57.286,
          59.44300000000001,
          36.256,
          37.207,
          38.41,
          39.487,
          41.76600000000001,
          43.767,
          45.642,
          47.457,
          49.42,
          47.495,
          45.00899999999999,
          48.303,
          33.685,
          35.30699999999999,
          36.936,
          38.487,
          39.977,
          41.714,
          43.916,
          46.364,
          48.38800000000001,
          49.903,
          51.81800000000001,
          54.467,
          40.543,
          42.338,
          44.24800000000001,
          46.289,
          48.437,
          50.852,
          53.599,
          56.145,
          58.333,
          60.43,
          62.247,
          64.164,
          50.986,
          58.089,
          60.246,
          61.557,
          62.944,
          64.93,
          66.711,
          68.74,
          69.745,
          70.736,
          71.954,
          72.801,
          42.87300000000001,
          45.423,
          47.924,
          50.335,
          52.862,
          55.73,
          59.65,
          62.677,
          65.393,
          67.66,
          69.615,
          71.164,
          31.286,
          33.779,
          36.161,
          38.113,
          40.328,
          42.495,
          42.795,
          42.861,
          44.284,
          46.344,
          44.026,
          42.082,
          41.725,
          45.226000000000006,
          48.386,
          51.159,
          53.867,
          56.437,
          58.968,
          60.835,
          61.999,
          58.909,
          51.479,
          52.90600000000001,
          37.444,
          38.598,
          39.487,
          40.118,
          40.546,
          41.291,
          42.598,
          44.555,
          47.39100000000001,
          51.313,
          54.496,
          56.867,
          36.324,
          37.802,
          39.36,
          41.04,
          42.82100000000001,
          44.514,
          45.826,
          46.886,
          47.472,
          47.464,
          46.608,
          46.859,
          52.724,
          55.09,
          57.666,
          60.542,
          64.274,
          67.064,
          69.885,
          71.913,
          73.615,
          74.77199999999998,
          75.744,
          76.442,
          40,
          41.5,
          43,
          44.1,
          44.6,
          45,
          46.218,
          44.02,
          23.599,
          36.087,
          43.413,
          46.242,
          46.471,
          48.945,
          51.893,
          54.425,
          56.48,
          58.55,
          60.351000000000006,
          61.728,
          62.742,
          63.306,
          64.337,
          65.528,
          37.278,
          39.329,
          41.45399999999999,
          43.563,
          45.815,
          48.879,
          52.379,
          55.769,
          58.19600000000001,
          60.187,
          61.6,
          63.062,
          30.331,
          31.57,
          32.767,
          34.113,
          35.4,
          36.788,
          38.445,
          40.006,
          38.333,
          39.897,
          41.012,
          42.56800000000001,
          32.978,
          34.977,
          36.981,
          38.977,
          40.973,
          41.974,
          42.955,
          44.50100000000001,
          39.658,
          43.795,
          45.93600000000001,
          48.159,
          45.00899999999999,
          47.985,
          49.951,
          51.927,
          53.69600000000001,
          55.527,
          58.161,
          60.834,
          61.88800000000001,
          60.236,
          53.365,
          49.339,
          38.635,
          39.624,
          40.87,
          42.858,
          45.083,
          47.8,
          50.338,
          51.744,
          53.556,
          55.37300000000001,
          56.369,
          58.556,
          41.407,
          43.424,
          44.992,
          46.633,
          49.552,
          52.537,
          55.56100000000001,
          57.678,
          58.474,
          54.289,
          43.869,
          39.613,
          41.215,
          42.974,
          44.246,
          45.757,
          47.62,
          49.919,
          50.608,
          51.535,
          50.44,
          48.466,
          49.651,
          52.517,
          38.596,
          41.208,
          43.922,
          46.769,
          49.75899999999999,
          52.887,
          55.471,
          56.941,
          58.06100000000001,
          58.39,
          57.56100000000001,
          58.42,
          44.6,
          47.1,
          49.57899999999999,
          52.053,
          55.602,
          59.837,
          64.048,
          66.89399999999999,
          70.001,
          71.973,
          73.042,
          73.923,
          39.978,
          42.57100000000001,
          45.344,
          48.051,
          51.01600000000001,
          50.35,
          49.849,
          51.50899999999999,
          48.825,
          44.578,
          47.813,
          51.542,
          42.038,
          44.077,
          46.023,
          47.768,
          50.107,
          51.386,
          51.82100000000001,
          50.82100000000001,
          46.1,
          40.238,
          39.19300000000001,
          42.38399999999999,
          48.451,
          50.469,
          52.358,
          53.995,
          55.635,
          57.674,
          60.363,
          62.351000000000006,
          60.377,
          46.809,
          39.989,
          43.487
         ],
         "xaxis": "x",
         "yaxis": "y"
        },
        {
         "alignmentgroup": "True",
         "boxpoints": "all",
         "fillcolor": "rgba(255,255,255,0)",
         "hoveron": "points",
         "hovertemplate": "<b>%{hovertext}</b><br><br>continent=Africa<br>lifeExp=%{x}<extra></extra>",
         "hovertext": [
          "Algeria",
          "Algeria",
          "Algeria",
          "Algeria",
          "Algeria",
          "Algeria",
          "Algeria",
          "Algeria",
          "Algeria",
          "Algeria",
          "Algeria",
          "Algeria",
          "Angola",
          "Angola",
          "Angola",
          "Angola",
          "Angola",
          "Angola",
          "Angola",
          "Angola",
          "Angola",
          "Angola",
          "Angola",
          "Angola",
          "Benin",
          "Benin",
          "Benin",
          "Benin",
          "Benin",
          "Benin",
          "Benin",
          "Benin",
          "Benin",
          "Benin",
          "Benin",
          "Benin",
          "Botswana",
          "Botswana",
          "Botswana",
          "Botswana",
          "Botswana",
          "Botswana",
          "Botswana",
          "Botswana",
          "Botswana",
          "Botswana",
          "Botswana",
          "Botswana",
          "Burkina Faso",
          "Burkina Faso",
          "Burkina Faso",
          "Burkina Faso",
          "Burkina Faso",
          "Burkina Faso",
          "Burkina Faso",
          "Burkina Faso",
          "Burkina Faso",
          "Burkina Faso",
          "Burkina Faso",
          "Burkina Faso",
          "Burundi",
          "Burundi",
          "Burundi",
          "Burundi",
          "Burundi",
          "Burundi",
          "Burundi",
          "Burundi",
          "Burundi",
          "Burundi",
          "Burundi",
          "Burundi",
          "Cameroon",
          "Cameroon",
          "Cameroon",
          "Cameroon",
          "Cameroon",
          "Cameroon",
          "Cameroon",
          "Cameroon",
          "Cameroon",
          "Cameroon",
          "Cameroon",
          "Cameroon",
          "Central African Republic",
          "Central African Republic",
          "Central African Republic",
          "Central African Republic",
          "Central African Republic",
          "Central African Republic",
          "Central African Republic",
          "Central African Republic",
          "Central African Republic",
          "Central African Republic",
          "Central African Republic",
          "Central African Republic",
          "Chad",
          "Chad",
          "Chad",
          "Chad",
          "Chad",
          "Chad",
          "Chad",
          "Chad",
          "Chad",
          "Chad",
          "Chad",
          "Chad",
          "Comoros",
          "Comoros",
          "Comoros",
          "Comoros",
          "Comoros",
          "Comoros",
          "Comoros",
          "Comoros",
          "Comoros",
          "Comoros",
          "Comoros",
          "Comoros",
          "Congo, Dem. Rep.",
          "Congo, Dem. Rep.",
          "Congo, Dem. Rep.",
          "Congo, Dem. Rep.",
          "Congo, Dem. Rep.",
          "Congo, Dem. Rep.",
          "Congo, Dem. Rep.",
          "Congo, Dem. Rep.",
          "Congo, Dem. Rep.",
          "Congo, Dem. Rep.",
          "Congo, Dem. Rep.",
          "Congo, Dem. Rep.",
          "Congo, Rep.",
          "Congo, Rep.",
          "Congo, Rep.",
          "Congo, Rep.",
          "Congo, Rep.",
          "Congo, Rep.",
          "Congo, Rep.",
          "Congo, Rep.",
          "Congo, Rep.",
          "Congo, Rep.",
          "Congo, Rep.",
          "Congo, Rep.",
          "Cote d'Ivoire",
          "Cote d'Ivoire",
          "Cote d'Ivoire",
          "Cote d'Ivoire",
          "Cote d'Ivoire",
          "Cote d'Ivoire",
          "Cote d'Ivoire",
          "Cote d'Ivoire",
          "Cote d'Ivoire",
          "Cote d'Ivoire",
          "Cote d'Ivoire",
          "Cote d'Ivoire",
          "Djibouti",
          "Djibouti",
          "Djibouti",
          "Djibouti",
          "Djibouti",
          "Djibouti",
          "Djibouti",
          "Djibouti",
          "Djibouti",
          "Djibouti",
          "Djibouti",
          "Djibouti",
          "Egypt",
          "Egypt",
          "Egypt",
          "Egypt",
          "Egypt",
          "Egypt",
          "Egypt",
          "Egypt",
          "Egypt",
          "Egypt",
          "Egypt",
          "Egypt",
          "Equatorial Guinea",
          "Equatorial Guinea",
          "Equatorial Guinea",
          "Equatorial Guinea",
          "Equatorial Guinea",
          "Equatorial Guinea",
          "Equatorial Guinea",
          "Equatorial Guinea",
          "Equatorial Guinea",
          "Equatorial Guinea",
          "Equatorial Guinea",
          "Equatorial Guinea",
          "Eritrea",
          "Eritrea",
          "Eritrea",
          "Eritrea",
          "Eritrea",
          "Eritrea",
          "Eritrea",
          "Eritrea",
          "Eritrea",
          "Eritrea",
          "Eritrea",
          "Eritrea",
          "Ethiopia",
          "Ethiopia",
          "Ethiopia",
          "Ethiopia",
          "Ethiopia",
          "Ethiopia",
          "Ethiopia",
          "Ethiopia",
          "Ethiopia",
          "Ethiopia",
          "Ethiopia",
          "Ethiopia",
          "Gabon",
          "Gabon",
          "Gabon",
          "Gabon",
          "Gabon",
          "Gabon",
          "Gabon",
          "Gabon",
          "Gabon",
          "Gabon",
          "Gabon",
          "Gabon",
          "Gambia",
          "Gambia",
          "Gambia",
          "Gambia",
          "Gambia",
          "Gambia",
          "Gambia",
          "Gambia",
          "Gambia",
          "Gambia",
          "Gambia",
          "Gambia",
          "Ghana",
          "Ghana",
          "Ghana",
          "Ghana",
          "Ghana",
          "Ghana",
          "Ghana",
          "Ghana",
          "Ghana",
          "Ghana",
          "Ghana",
          "Ghana",
          "Guinea",
          "Guinea",
          "Guinea",
          "Guinea",
          "Guinea",
          "Guinea",
          "Guinea",
          "Guinea",
          "Guinea",
          "Guinea",
          "Guinea",
          "Guinea",
          "Guinea-Bissau",
          "Guinea-Bissau",
          "Guinea-Bissau",
          "Guinea-Bissau",
          "Guinea-Bissau",
          "Guinea-Bissau",
          "Guinea-Bissau",
          "Guinea-Bissau",
          "Guinea-Bissau",
          "Guinea-Bissau",
          "Guinea-Bissau",
          "Guinea-Bissau",
          "Kenya",
          "Kenya",
          "Kenya",
          "Kenya",
          "Kenya",
          "Kenya",
          "Kenya",
          "Kenya",
          "Kenya",
          "Kenya",
          "Kenya",
          "Kenya",
          "Lesotho",
          "Lesotho",
          "Lesotho",
          "Lesotho",
          "Lesotho",
          "Lesotho",
          "Lesotho",
          "Lesotho",
          "Lesotho",
          "Lesotho",
          "Lesotho",
          "Lesotho",
          "Liberia",
          "Liberia",
          "Liberia",
          "Liberia",
          "Liberia",
          "Liberia",
          "Liberia",
          "Liberia",
          "Liberia",
          "Liberia",
          "Liberia",
          "Liberia",
          "Libya",
          "Libya",
          "Libya",
          "Libya",
          "Libya",
          "Libya",
          "Libya",
          "Libya",
          "Libya",
          "Libya",
          "Libya",
          "Libya",
          "Madagascar",
          "Madagascar",
          "Madagascar",
          "Madagascar",
          "Madagascar",
          "Madagascar",
          "Madagascar",
          "Madagascar",
          "Madagascar",
          "Madagascar",
          "Madagascar",
          "Madagascar",
          "Malawi",
          "Malawi",
          "Malawi",
          "Malawi",
          "Malawi",
          "Malawi",
          "Malawi",
          "Malawi",
          "Malawi",
          "Malawi",
          "Malawi",
          "Malawi",
          "Mali",
          "Mali",
          "Mali",
          "Mali",
          "Mali",
          "Mali",
          "Mali",
          "Mali",
          "Mali",
          "Mali",
          "Mali",
          "Mali",
          "Mauritania",
          "Mauritania",
          "Mauritania",
          "Mauritania",
          "Mauritania",
          "Mauritania",
          "Mauritania",
          "Mauritania",
          "Mauritania",
          "Mauritania",
          "Mauritania",
          "Mauritania",
          "Mauritius",
          "Mauritius",
          "Mauritius",
          "Mauritius",
          "Mauritius",
          "Mauritius",
          "Mauritius",
          "Mauritius",
          "Mauritius",
          "Mauritius",
          "Mauritius",
          "Mauritius",
          "Morocco",
          "Morocco",
          "Morocco",
          "Morocco",
          "Morocco",
          "Morocco",
          "Morocco",
          "Morocco",
          "Morocco",
          "Morocco",
          "Morocco",
          "Morocco",
          "Mozambique",
          "Mozambique",
          "Mozambique",
          "Mozambique",
          "Mozambique",
          "Mozambique",
          "Mozambique",
          "Mozambique",
          "Mozambique",
          "Mozambique",
          "Mozambique",
          "Mozambique",
          "Namibia",
          "Namibia",
          "Namibia",
          "Namibia",
          "Namibia",
          "Namibia",
          "Namibia",
          "Namibia",
          "Namibia",
          "Namibia",
          "Namibia",
          "Namibia",
          "Niger",
          "Niger",
          "Niger",
          "Niger",
          "Niger",
          "Niger",
          "Niger",
          "Niger",
          "Niger",
          "Niger",
          "Niger",
          "Niger",
          "Nigeria",
          "Nigeria",
          "Nigeria",
          "Nigeria",
          "Nigeria",
          "Nigeria",
          "Nigeria",
          "Nigeria",
          "Nigeria",
          "Nigeria",
          "Nigeria",
          "Nigeria",
          "Reunion",
          "Reunion",
          "Reunion",
          "Reunion",
          "Reunion",
          "Reunion",
          "Reunion",
          "Reunion",
          "Reunion",
          "Reunion",
          "Reunion",
          "Reunion",
          "Rwanda",
          "Rwanda",
          "Rwanda",
          "Rwanda",
          "Rwanda",
          "Rwanda",
          "Rwanda",
          "Rwanda",
          "Rwanda",
          "Rwanda",
          "Rwanda",
          "Rwanda",
          "Sao Tome and Principe",
          "Sao Tome and Principe",
          "Sao Tome and Principe",
          "Sao Tome and Principe",
          "Sao Tome and Principe",
          "Sao Tome and Principe",
          "Sao Tome and Principe",
          "Sao Tome and Principe",
          "Sao Tome and Principe",
          "Sao Tome and Principe",
          "Sao Tome and Principe",
          "Sao Tome and Principe",
          "Senegal",
          "Senegal",
          "Senegal",
          "Senegal",
          "Senegal",
          "Senegal",
          "Senegal",
          "Senegal",
          "Senegal",
          "Senegal",
          "Senegal",
          "Senegal",
          "Sierra Leone",
          "Sierra Leone",
          "Sierra Leone",
          "Sierra Leone",
          "Sierra Leone",
          "Sierra Leone",
          "Sierra Leone",
          "Sierra Leone",
          "Sierra Leone",
          "Sierra Leone",
          "Sierra Leone",
          "Sierra Leone",
          "Somalia",
          "Somalia",
          "Somalia",
          "Somalia",
          "Somalia",
          "Somalia",
          "Somalia",
          "Somalia",
          "Somalia",
          "Somalia",
          "Somalia",
          "Somalia",
          "South Africa",
          "South Africa",
          "South Africa",
          "South Africa",
          "South Africa",
          "South Africa",
          "South Africa",
          "South Africa",
          "South Africa",
          "South Africa",
          "South Africa",
          "South Africa",
          "Sudan",
          "Sudan",
          "Sudan",
          "Sudan",
          "Sudan",
          "Sudan",
          "Sudan",
          "Sudan",
          "Sudan",
          "Sudan",
          "Sudan",
          "Sudan",
          "Swaziland",
          "Swaziland",
          "Swaziland",
          "Swaziland",
          "Swaziland",
          "Swaziland",
          "Swaziland",
          "Swaziland",
          "Swaziland",
          "Swaziland",
          "Swaziland",
          "Swaziland",
          "Tanzania",
          "Tanzania",
          "Tanzania",
          "Tanzania",
          "Tanzania",
          "Tanzania",
          "Tanzania",
          "Tanzania",
          "Tanzania",
          "Tanzania",
          "Tanzania",
          "Tanzania",
          "Togo",
          "Togo",
          "Togo",
          "Togo",
          "Togo",
          "Togo",
          "Togo",
          "Togo",
          "Togo",
          "Togo",
          "Togo",
          "Togo",
          "Tunisia",
          "Tunisia",
          "Tunisia",
          "Tunisia",
          "Tunisia",
          "Tunisia",
          "Tunisia",
          "Tunisia",
          "Tunisia",
          "Tunisia",
          "Tunisia",
          "Tunisia",
          "Uganda",
          "Uganda",
          "Uganda",
          "Uganda",
          "Uganda",
          "Uganda",
          "Uganda",
          "Uganda",
          "Uganda",
          "Uganda",
          "Uganda",
          "Uganda",
          "Zambia",
          "Zambia",
          "Zambia",
          "Zambia",
          "Zambia",
          "Zambia",
          "Zambia",
          "Zambia",
          "Zambia",
          "Zambia",
          "Zambia",
          "Zambia",
          "Zimbabwe",
          "Zimbabwe",
          "Zimbabwe",
          "Zimbabwe",
          "Zimbabwe",
          "Zimbabwe",
          "Zimbabwe",
          "Zimbabwe",
          "Zimbabwe",
          "Zimbabwe",
          "Zimbabwe",
          "Zimbabwe"
         ],
         "jitter": 0,
         "legendgroup": "Africa",
         "line": {
          "color": "rgba(255,255,255,0)"
         },
         "marker": {
          "color": "#00cc96",
          "symbol": "line-ns-open"
         },
         "name": "Africa",
         "offsetgroup": "Africa",
         "showlegend": false,
         "type": "box",
         "x": [
          43.077,
          45.685,
          48.303,
          51.407,
          54.518,
          58.014,
          61.368,
          65.79899999999999,
          67.744,
          69.152,
          70.994,
          72.301,
          30.015,
          31.999,
          34,
          35.985,
          37.928,
          39.483,
          39.942,
          39.906,
          40.647,
          40.963,
          41.003,
          42.731,
          38.223,
          40.358,
          42.618,
          44.885,
          47.014,
          49.19,
          50.904,
          52.337,
          53.919,
          54.777,
          54.40600000000001,
          56.728,
          47.622,
          49.618,
          51.52,
          53.298,
          56.024,
          59.319,
          61.484,
          63.622,
          62.745,
          52.556,
          46.63399999999999,
          50.728,
          31.975,
          34.906,
          37.814,
          40.697,
          43.591,
          46.137,
          48.122,
          49.557,
          50.26,
          50.324,
          50.65,
          52.295,
          39.031,
          40.533,
          42.045,
          43.548,
          44.057,
          45.91,
          47.471,
          48.21100000000001,
          44.736,
          45.326,
          47.36,
          49.58,
          38.523,
          40.428,
          42.643,
          44.799,
          47.049,
          49.355,
          52.96100000000001,
          54.985,
          54.31399999999999,
          52.199,
          49.856,
          50.43,
          35.463,
          37.464,
          39.475,
          41.478,
          43.457,
          46.775,
          48.295,
          50.485,
          49.396,
          46.066,
          43.308,
          44.74100000000001,
          38.092,
          39.881,
          41.716,
          43.601000000000006,
          45.569,
          47.383,
          49.517,
          51.051,
          51.724,
          51.573,
          50.525,
          50.651,
          40.715,
          42.46,
          44.467,
          46.472,
          48.944,
          50.93899999999999,
          52.933,
          54.926,
          57.93899999999999,
          60.66,
          62.974,
          65.152,
          39.143,
          40.652,
          42.122,
          44.056,
          45.989,
          47.804,
          47.784,
          47.412,
          45.548,
          42.587,
          44.966,
          46.462,
          42.111,
          45.053,
          48.435,
          52.04,
          54.907,
          55.625,
          56.695,
          57.47,
          56.433,
          52.962,
          52.97,
          55.322,
          40.477,
          42.469,
          44.93,
          47.35,
          49.801,
          52.374,
          53.983,
          54.655,
          52.044,
          47.99100000000001,
          46.832,
          48.328,
          34.812,
          37.328,
          39.69300000000001,
          42.074,
          44.36600000000001,
          46.519,
          48.812,
          50.04,
          51.604,
          53.157,
          53.37300000000001,
          54.791,
          41.893,
          44.444,
          46.992,
          49.293,
          51.137,
          53.319,
          56.006,
          59.797,
          63.674,
          67.217,
          69.806,
          71.33800000000002,
          34.482,
          35.98300000000001,
          37.485,
          38.987,
          40.516,
          42.024,
          43.662,
          45.664,
          47.545,
          48.245,
          49.348,
          51.57899999999999,
          35.92800000000001,
          38.047,
          40.158,
          42.18899999999999,
          44.142,
          44.535,
          43.89,
          46.453,
          49.99100000000001,
          53.378,
          55.24,
          58.04,
          34.078,
          36.667,
          40.059,
          42.115,
          43.515,
          44.51,
          44.916,
          46.684,
          48.091,
          49.402,
          50.725,
          52.947,
          37.003,
          38.999,
          40.489,
          44.598,
          48.69,
          52.79,
          56.56399999999999,
          60.19,
          61.36600000000001,
          60.46100000000001,
          56.761,
          56.735,
          30,
          32.065,
          33.896,
          35.857,
          38.308,
          41.842,
          45.58,
          49.265,
          52.644,
          55.861,
          58.041,
          59.448,
          43.149,
          44.779,
          46.452,
          48.072,
          49.875,
          51.756,
          53.744,
          55.729,
          57.50100000000001,
          58.556,
          58.453,
          60.022,
          33.609,
          34.558,
          35.753,
          37.197,
          38.842,
          40.762,
          42.89100000000001,
          45.552,
          48.576,
          51.455,
          53.676,
          56.007,
          32.5,
          33.489000000000004,
          34.488,
          35.492,
          36.486,
          37.465,
          39.327,
          41.245,
          43.26600000000001,
          44.87300000000001,
          45.504,
          46.38800000000001,
          42.27,
          44.68600000000001,
          47.949,
          50.654,
          53.559,
          56.155,
          58.76600000000001,
          59.339,
          59.285,
          54.407,
          50.992,
          54.11,
          42.13800000000001,
          45.047,
          47.747,
          48.492,
          49.767,
          52.208,
          55.078,
          57.18,
          59.685,
          55.558,
          44.593,
          42.592,
          38.48,
          39.486,
          40.502,
          41.536,
          42.614,
          43.764,
          44.852,
          46.027,
          40.802,
          42.221,
          43.753,
          45.678,
          42.723,
          45.289,
          47.808,
          50.227,
          52.773,
          57.442,
          62.155,
          66.234,
          68.755,
          71.555,
          72.737,
          73.952,
          36.681,
          38.865,
          40.848,
          42.881,
          44.851000000000006,
          46.881,
          48.969,
          49.35,
          52.214,
          54.978,
          57.286,
          59.44300000000001,
          36.256,
          37.207,
          38.41,
          39.487,
          41.76600000000001,
          43.767,
          45.642,
          47.457,
          49.42,
          47.495,
          45.00899999999999,
          48.303,
          33.685,
          35.30699999999999,
          36.936,
          38.487,
          39.977,
          41.714,
          43.916,
          46.364,
          48.38800000000001,
          49.903,
          51.81800000000001,
          54.467,
          40.543,
          42.338,
          44.24800000000001,
          46.289,
          48.437,
          50.852,
          53.599,
          56.145,
          58.333,
          60.43,
          62.247,
          64.164,
          50.986,
          58.089,
          60.246,
          61.557,
          62.944,
          64.93,
          66.711,
          68.74,
          69.745,
          70.736,
          71.954,
          72.801,
          42.87300000000001,
          45.423,
          47.924,
          50.335,
          52.862,
          55.73,
          59.65,
          62.677,
          65.393,
          67.66,
          69.615,
          71.164,
          31.286,
          33.779,
          36.161,
          38.113,
          40.328,
          42.495,
          42.795,
          42.861,
          44.284,
          46.344,
          44.026,
          42.082,
          41.725,
          45.226000000000006,
          48.386,
          51.159,
          53.867,
          56.437,
          58.968,
          60.835,
          61.999,
          58.909,
          51.479,
          52.90600000000001,
          37.444,
          38.598,
          39.487,
          40.118,
          40.546,
          41.291,
          42.598,
          44.555,
          47.39100000000001,
          51.313,
          54.496,
          56.867,
          36.324,
          37.802,
          39.36,
          41.04,
          42.82100000000001,
          44.514,
          45.826,
          46.886,
          47.472,
          47.464,
          46.608,
          46.859,
          52.724,
          55.09,
          57.666,
          60.542,
          64.274,
          67.064,
          69.885,
          71.913,
          73.615,
          74.77199999999998,
          75.744,
          76.442,
          40,
          41.5,
          43,
          44.1,
          44.6,
          45,
          46.218,
          44.02,
          23.599,
          36.087,
          43.413,
          46.242,
          46.471,
          48.945,
          51.893,
          54.425,
          56.48,
          58.55,
          60.351000000000006,
          61.728,
          62.742,
          63.306,
          64.337,
          65.528,
          37.278,
          39.329,
          41.45399999999999,
          43.563,
          45.815,
          48.879,
          52.379,
          55.769,
          58.19600000000001,
          60.187,
          61.6,
          63.062,
          30.331,
          31.57,
          32.767,
          34.113,
          35.4,
          36.788,
          38.445,
          40.006,
          38.333,
          39.897,
          41.012,
          42.56800000000001,
          32.978,
          34.977,
          36.981,
          38.977,
          40.973,
          41.974,
          42.955,
          44.50100000000001,
          39.658,
          43.795,
          45.93600000000001,
          48.159,
          45.00899999999999,
          47.985,
          49.951,
          51.927,
          53.69600000000001,
          55.527,
          58.161,
          60.834,
          61.88800000000001,
          60.236,
          53.365,
          49.339,
          38.635,
          39.624,
          40.87,
          42.858,
          45.083,
          47.8,
          50.338,
          51.744,
          53.556,
          55.37300000000001,
          56.369,
          58.556,
          41.407,
          43.424,
          44.992,
          46.633,
          49.552,
          52.537,
          55.56100000000001,
          57.678,
          58.474,
          54.289,
          43.869,
          39.613,
          41.215,
          42.974,
          44.246,
          45.757,
          47.62,
          49.919,
          50.608,
          51.535,
          50.44,
          48.466,
          49.651,
          52.517,
          38.596,
          41.208,
          43.922,
          46.769,
          49.75899999999999,
          52.887,
          55.471,
          56.941,
          58.06100000000001,
          58.39,
          57.56100000000001,
          58.42,
          44.6,
          47.1,
          49.57899999999999,
          52.053,
          55.602,
          59.837,
          64.048,
          66.89399999999999,
          70.001,
          71.973,
          73.042,
          73.923,
          39.978,
          42.57100000000001,
          45.344,
          48.051,
          51.01600000000001,
          50.35,
          49.849,
          51.50899999999999,
          48.825,
          44.578,
          47.813,
          51.542,
          42.038,
          44.077,
          46.023,
          47.768,
          50.107,
          51.386,
          51.82100000000001,
          50.82100000000001,
          46.1,
          40.238,
          39.19300000000001,
          42.38399999999999,
          48.451,
          50.469,
          52.358,
          53.995,
          55.635,
          57.674,
          60.363,
          62.351000000000006,
          60.377,
          46.809,
          39.989,
          43.487
         ],
         "xaxis": "x2",
         "yaxis": "y2"
        },
        {
         "alignmentgroup": "True",
         "bingroup": "x",
         "hovertemplate": "continent=Americas<br>lifeExp=%{x}<br>count=%{y}<extra></extra>",
         "legendgroup": "Americas",
         "marker": {
          "color": "#ab63fa",
          "pattern": {
           "shape": ""
          }
         },
         "name": "Americas",
         "offsetgroup": "Americas",
         "orientation": "v",
         "showlegend": true,
         "type": "histogram",
         "x": [
          62.485,
          64.399,
          65.142,
          65.634,
          67.065,
          68.48100000000001,
          69.942,
          70.774,
          71.868,
          73.275,
          74.34,
          75.32,
          40.414,
          41.89,
          43.428,
          45.032,
          46.714,
          50.023,
          53.859,
          57.25100000000001,
          59.957,
          62.05,
          63.883,
          65.554,
          50.917,
          53.285,
          55.665,
          57.632,
          59.504,
          61.489,
          63.33600000000001,
          65.205,
          67.057,
          69.388,
          71.006,
          72.39,
          68.75,
          69.96,
          71.3,
          72.13,
          72.88,
          74.21,
          75.76,
          76.86,
          77.95,
          78.61,
          79.77,
          80.653,
          54.745,
          56.074,
          57.924,
          60.523,
          63.441,
          67.05199999999999,
          70.565,
          72.492,
          74.126,
          75.816,
          77.86,
          78.553,
          50.643,
          55.118,
          57.863,
          59.963,
          61.62300000000001,
          63.837,
          66.653,
          67.768,
          68.421,
          70.313,
          71.682,
          72.889,
          57.206,
          60.026,
          62.842,
          65.42399999999999,
          67.84899999999999,
          70.75,
          73.45,
          74.752,
          75.71300000000002,
          77.26,
          78.123,
          78.782,
          59.42100000000001,
          62.325,
          65.24600000000001,
          68.29,
          70.723,
          72.649,
          73.717,
          74.17399999999998,
          74.414,
          76.15100000000002,
          77.158,
          78.273,
          45.928,
          49.828,
          53.459,
          56.75100000000001,
          59.631,
          61.788,
          63.727,
          66.046,
          68.457,
          69.957,
          70.847,
          72.235,
          48.357,
          51.356,
          54.64,
          56.678,
          58.79600000000001,
          61.31,
          64.342,
          67.23100000000001,
          69.613,
          72.312,
          74.173,
          74.994,
          45.262,
          48.57,
          52.307,
          55.855,
          58.207,
          56.69600000000001,
          56.604,
          63.154,
          66.798,
          69.535,
          70.734,
          71.878,
          42.023,
          44.142,
          46.95399999999999,
          50.01600000000001,
          53.738,
          56.029,
          58.137,
          60.782,
          63.37300000000001,
          66.322,
          68.97800000000001,
          70.259,
          37.579,
          40.696,
          43.59,
          46.243,
          48.042,
          49.923,
          51.46100000000001,
          53.636,
          55.089,
          56.67100000000001,
          58.137,
          60.916,
          41.912,
          44.665,
          48.041,
          50.924,
          53.88399999999999,
          57.402,
          60.909,
          64.492,
          66.399,
          67.65899999999999,
          68.565,
          70.19800000000001,
          58.53,
          62.61,
          65.61,
          67.51,
          69,
          70.11,
          71.21,
          71.77,
          71.766,
          72.262,
          72.047,
          72.567,
          50.789,
          55.19,
          58.299,
          60.11,
          62.361,
          65.032,
          67.405,
          69.498,
          71.455,
          73.67,
          74.902,
          76.195,
          42.31399999999999,
          45.432,
          48.632,
          51.88399999999999,
          55.151,
          57.47,
          59.298,
          62.008,
          65.843,
          68.426,
          70.836,
          72.899,
          55.191,
          59.201,
          61.817,
          64.071,
          66.21600000000001,
          68.681,
          70.472,
          71.523,
          72.462,
          73.738,
          74.712,
          75.53699999999998,
          62.649,
          63.19600000000001,
          64.361,
          64.95100000000001,
          65.815,
          66.35300000000001,
          66.874,
          67.378,
          68.225,
          69.4,
          70.755,
          71.752,
          43.902,
          46.26300000000001,
          49.096,
          51.445,
          55.448,
          58.447,
          61.40600000000001,
          64.134,
          66.458,
          68.38600000000001,
          69.906,
          71.421,
          64.28,
          68.54,
          69.62,
          71.1,
          72.16,
          73.44,
          73.75,
          74.63,
          73.911,
          74.917,
          77.778,
          78.74600000000002,
          59.1,
          61.8,
          64.9,
          65.4,
          65.9,
          68.3,
          68.832,
          69.582,
          69.862,
          69.465,
          68.976,
          69.819,
          68.44,
          69.49,
          70.21,
          70.76,
          71.34,
          73.38,
          74.65,
          75.02,
          76.09,
          76.81,
          77.31,
          78.242,
          66.071,
          67.044,
          68.253,
          68.468,
          68.673,
          69.48100000000001,
          70.805,
          71.918,
          72.752,
          74.223,
          75.307,
          76.384,
          55.088,
          57.907,
          60.77,
          63.479,
          65.712,
          67.456,
          68.557,
          70.19,
          71.15,
          72.146,
          72.766,
          73.747
         ],
         "xaxis": "x",
         "yaxis": "y"
        },
        {
         "alignmentgroup": "True",
         "boxpoints": "all",
         "fillcolor": "rgba(255,255,255,0)",
         "hoveron": "points",
         "hovertemplate": "<b>%{hovertext}</b><br><br>continent=Americas<br>lifeExp=%{x}<extra></extra>",
         "hovertext": [
          "Argentina",
          "Argentina",
          "Argentina",
          "Argentina",
          "Argentina",
          "Argentina",
          "Argentina",
          "Argentina",
          "Argentina",
          "Argentina",
          "Argentina",
          "Argentina",
          "Bolivia",
          "Bolivia",
          "Bolivia",
          "Bolivia",
          "Bolivia",
          "Bolivia",
          "Bolivia",
          "Bolivia",
          "Bolivia",
          "Bolivia",
          "Bolivia",
          "Bolivia",
          "Brazil",
          "Brazil",
          "Brazil",
          "Brazil",
          "Brazil",
          "Brazil",
          "Brazil",
          "Brazil",
          "Brazil",
          "Brazil",
          "Brazil",
          "Brazil",
          "Canada",
          "Canada",
          "Canada",
          "Canada",
          "Canada",
          "Canada",
          "Canada",
          "Canada",
          "Canada",
          "Canada",
          "Canada",
          "Canada",
          "Chile",
          "Chile",
          "Chile",
          "Chile",
          "Chile",
          "Chile",
          "Chile",
          "Chile",
          "Chile",
          "Chile",
          "Chile",
          "Chile",
          "Colombia",
          "Colombia",
          "Colombia",
          "Colombia",
          "Colombia",
          "Colombia",
          "Colombia",
          "Colombia",
          "Colombia",
          "Colombia",
          "Colombia",
          "Colombia",
          "Costa Rica",
          "Costa Rica",
          "Costa Rica",
          "Costa Rica",
          "Costa Rica",
          "Costa Rica",
          "Costa Rica",
          "Costa Rica",
          "Costa Rica",
          "Costa Rica",
          "Costa Rica",
          "Costa Rica",
          "Cuba",
          "Cuba",
          "Cuba",
          "Cuba",
          "Cuba",
          "Cuba",
          "Cuba",
          "Cuba",
          "Cuba",
          "Cuba",
          "Cuba",
          "Cuba",
          "Dominican Republic",
          "Dominican Republic",
          "Dominican Republic",
          "Dominican Republic",
          "Dominican Republic",
          "Dominican Republic",
          "Dominican Republic",
          "Dominican Republic",
          "Dominican Republic",
          "Dominican Republic",
          "Dominican Republic",
          "Dominican Republic",
          "Ecuador",
          "Ecuador",
          "Ecuador",
          "Ecuador",
          "Ecuador",
          "Ecuador",
          "Ecuador",
          "Ecuador",
          "Ecuador",
          "Ecuador",
          "Ecuador",
          "Ecuador",
          "El Salvador",
          "El Salvador",
          "El Salvador",
          "El Salvador",
          "El Salvador",
          "El Salvador",
          "El Salvador",
          "El Salvador",
          "El Salvador",
          "El Salvador",
          "El Salvador",
          "El Salvador",
          "Guatemala",
          "Guatemala",
          "Guatemala",
          "Guatemala",
          "Guatemala",
          "Guatemala",
          "Guatemala",
          "Guatemala",
          "Guatemala",
          "Guatemala",
          "Guatemala",
          "Guatemala",
          "Haiti",
          "Haiti",
          "Haiti",
          "Haiti",
          "Haiti",
          "Haiti",
          "Haiti",
          "Haiti",
          "Haiti",
          "Haiti",
          "Haiti",
          "Haiti",
          "Honduras",
          "Honduras",
          "Honduras",
          "Honduras",
          "Honduras",
          "Honduras",
          "Honduras",
          "Honduras",
          "Honduras",
          "Honduras",
          "Honduras",
          "Honduras",
          "Jamaica",
          "Jamaica",
          "Jamaica",
          "Jamaica",
          "Jamaica",
          "Jamaica",
          "Jamaica",
          "Jamaica",
          "Jamaica",
          "Jamaica",
          "Jamaica",
          "Jamaica",
          "Mexico",
          "Mexico",
          "Mexico",
          "Mexico",
          "Mexico",
          "Mexico",
          "Mexico",
          "Mexico",
          "Mexico",
          "Mexico",
          "Mexico",
          "Mexico",
          "Nicaragua",
          "Nicaragua",
          "Nicaragua",
          "Nicaragua",
          "Nicaragua",
          "Nicaragua",
          "Nicaragua",
          "Nicaragua",
          "Nicaragua",
          "Nicaragua",
          "Nicaragua",
          "Nicaragua",
          "Panama",
          "Panama",
          "Panama",
          "Panama",
          "Panama",
          "Panama",
          "Panama",
          "Panama",
          "Panama",
          "Panama",
          "Panama",
          "Panama",
          "Paraguay",
          "Paraguay",
          "Paraguay",
          "Paraguay",
          "Paraguay",
          "Paraguay",
          "Paraguay",
          "Paraguay",
          "Paraguay",
          "Paraguay",
          "Paraguay",
          "Paraguay",
          "Peru",
          "Peru",
          "Peru",
          "Peru",
          "Peru",
          "Peru",
          "Peru",
          "Peru",
          "Peru",
          "Peru",
          "Peru",
          "Peru",
          "Puerto Rico",
          "Puerto Rico",
          "Puerto Rico",
          "Puerto Rico",
          "Puerto Rico",
          "Puerto Rico",
          "Puerto Rico",
          "Puerto Rico",
          "Puerto Rico",
          "Puerto Rico",
          "Puerto Rico",
          "Puerto Rico",
          "Trinidad and Tobago",
          "Trinidad and Tobago",
          "Trinidad and Tobago",
          "Trinidad and Tobago",
          "Trinidad and Tobago",
          "Trinidad and Tobago",
          "Trinidad and Tobago",
          "Trinidad and Tobago",
          "Trinidad and Tobago",
          "Trinidad and Tobago",
          "Trinidad and Tobago",
          "Trinidad and Tobago",
          "United States",
          "United States",
          "United States",
          "United States",
          "United States",
          "United States",
          "United States",
          "United States",
          "United States",
          "United States",
          "United States",
          "United States",
          "Uruguay",
          "Uruguay",
          "Uruguay",
          "Uruguay",
          "Uruguay",
          "Uruguay",
          "Uruguay",
          "Uruguay",
          "Uruguay",
          "Uruguay",
          "Uruguay",
          "Uruguay",
          "Venezuela",
          "Venezuela",
          "Venezuela",
          "Venezuela",
          "Venezuela",
          "Venezuela",
          "Venezuela",
          "Venezuela",
          "Venezuela",
          "Venezuela",
          "Venezuela",
          "Venezuela"
         ],
         "jitter": 0,
         "legendgroup": "Americas",
         "line": {
          "color": "rgba(255,255,255,0)"
         },
         "marker": {
          "color": "#ab63fa",
          "symbol": "line-ns-open"
         },
         "name": "Americas",
         "offsetgroup": "Americas",
         "showlegend": false,
         "type": "box",
         "x": [
          62.485,
          64.399,
          65.142,
          65.634,
          67.065,
          68.48100000000001,
          69.942,
          70.774,
          71.868,
          73.275,
          74.34,
          75.32,
          40.414,
          41.89,
          43.428,
          45.032,
          46.714,
          50.023,
          53.859,
          57.25100000000001,
          59.957,
          62.05,
          63.883,
          65.554,
          50.917,
          53.285,
          55.665,
          57.632,
          59.504,
          61.489,
          63.33600000000001,
          65.205,
          67.057,
          69.388,
          71.006,
          72.39,
          68.75,
          69.96,
          71.3,
          72.13,
          72.88,
          74.21,
          75.76,
          76.86,
          77.95,
          78.61,
          79.77,
          80.653,
          54.745,
          56.074,
          57.924,
          60.523,
          63.441,
          67.05199999999999,
          70.565,
          72.492,
          74.126,
          75.816,
          77.86,
          78.553,
          50.643,
          55.118,
          57.863,
          59.963,
          61.62300000000001,
          63.837,
          66.653,
          67.768,
          68.421,
          70.313,
          71.682,
          72.889,
          57.206,
          60.026,
          62.842,
          65.42399999999999,
          67.84899999999999,
          70.75,
          73.45,
          74.752,
          75.71300000000002,
          77.26,
          78.123,
          78.782,
          59.42100000000001,
          62.325,
          65.24600000000001,
          68.29,
          70.723,
          72.649,
          73.717,
          74.17399999999998,
          74.414,
          76.15100000000002,
          77.158,
          78.273,
          45.928,
          49.828,
          53.459,
          56.75100000000001,
          59.631,
          61.788,
          63.727,
          66.046,
          68.457,
          69.957,
          70.847,
          72.235,
          48.357,
          51.356,
          54.64,
          56.678,
          58.79600000000001,
          61.31,
          64.342,
          67.23100000000001,
          69.613,
          72.312,
          74.173,
          74.994,
          45.262,
          48.57,
          52.307,
          55.855,
          58.207,
          56.69600000000001,
          56.604,
          63.154,
          66.798,
          69.535,
          70.734,
          71.878,
          42.023,
          44.142,
          46.95399999999999,
          50.01600000000001,
          53.738,
          56.029,
          58.137,
          60.782,
          63.37300000000001,
          66.322,
          68.97800000000001,
          70.259,
          37.579,
          40.696,
          43.59,
          46.243,
          48.042,
          49.923,
          51.46100000000001,
          53.636,
          55.089,
          56.67100000000001,
          58.137,
          60.916,
          41.912,
          44.665,
          48.041,
          50.924,
          53.88399999999999,
          57.402,
          60.909,
          64.492,
          66.399,
          67.65899999999999,
          68.565,
          70.19800000000001,
          58.53,
          62.61,
          65.61,
          67.51,
          69,
          70.11,
          71.21,
          71.77,
          71.766,
          72.262,
          72.047,
          72.567,
          50.789,
          55.19,
          58.299,
          60.11,
          62.361,
          65.032,
          67.405,
          69.498,
          71.455,
          73.67,
          74.902,
          76.195,
          42.31399999999999,
          45.432,
          48.632,
          51.88399999999999,
          55.151,
          57.47,
          59.298,
          62.008,
          65.843,
          68.426,
          70.836,
          72.899,
          55.191,
          59.201,
          61.817,
          64.071,
          66.21600000000001,
          68.681,
          70.472,
          71.523,
          72.462,
          73.738,
          74.712,
          75.53699999999998,
          62.649,
          63.19600000000001,
          64.361,
          64.95100000000001,
          65.815,
          66.35300000000001,
          66.874,
          67.378,
          68.225,
          69.4,
          70.755,
          71.752,
          43.902,
          46.26300000000001,
          49.096,
          51.445,
          55.448,
          58.447,
          61.40600000000001,
          64.134,
          66.458,
          68.38600000000001,
          69.906,
          71.421,
          64.28,
          68.54,
          69.62,
          71.1,
          72.16,
          73.44,
          73.75,
          74.63,
          73.911,
          74.917,
          77.778,
          78.74600000000002,
          59.1,
          61.8,
          64.9,
          65.4,
          65.9,
          68.3,
          68.832,
          69.582,
          69.862,
          69.465,
          68.976,
          69.819,
          68.44,
          69.49,
          70.21,
          70.76,
          71.34,
          73.38,
          74.65,
          75.02,
          76.09,
          76.81,
          77.31,
          78.242,
          66.071,
          67.044,
          68.253,
          68.468,
          68.673,
          69.48100000000001,
          70.805,
          71.918,
          72.752,
          74.223,
          75.307,
          76.384,
          55.088,
          57.907,
          60.77,
          63.479,
          65.712,
          67.456,
          68.557,
          70.19,
          71.15,
          72.146,
          72.766,
          73.747
         ],
         "xaxis": "x2",
         "yaxis": "y2"
        },
        {
         "alignmentgroup": "True",
         "bingroup": "x",
         "hovertemplate": "continent=Oceania<br>lifeExp=%{x}<br>count=%{y}<extra></extra>",
         "legendgroup": "Oceania",
         "marker": {
          "color": "#FFA15A",
          "pattern": {
           "shape": ""
          }
         },
         "name": "Oceania",
         "offsetgroup": "Oceania",
         "orientation": "v",
         "showlegend": true,
         "type": "histogram",
         "x": [
          69.12,
          70.33,
          70.93,
          71.1,
          71.93,
          73.49,
          74.74,
          76.32,
          77.56,
          78.83,
          80.37,
          81.235,
          69.39,
          70.26,
          71.24,
          71.52,
          71.89,
          72.22,
          73.84,
          74.32,
          76.33,
          77.55,
          79.11,
          80.204
         ],
         "xaxis": "x",
         "yaxis": "y"
        },
        {
         "alignmentgroup": "True",
         "boxpoints": "all",
         "fillcolor": "rgba(255,255,255,0)",
         "hoveron": "points",
         "hovertemplate": "<b>%{hovertext}</b><br><br>continent=Oceania<br>lifeExp=%{x}<extra></extra>",
         "hovertext": [
          "Australia",
          "Australia",
          "Australia",
          "Australia",
          "Australia",
          "Australia",
          "Australia",
          "Australia",
          "Australia",
          "Australia",
          "Australia",
          "Australia",
          "New Zealand",
          "New Zealand",
          "New Zealand",
          "New Zealand",
          "New Zealand",
          "New Zealand",
          "New Zealand",
          "New Zealand",
          "New Zealand",
          "New Zealand",
          "New Zealand",
          "New Zealand"
         ],
         "jitter": 0,
         "legendgroup": "Oceania",
         "line": {
          "color": "rgba(255,255,255,0)"
         },
         "marker": {
          "color": "#FFA15A",
          "symbol": "line-ns-open"
         },
         "name": "Oceania",
         "offsetgroup": "Oceania",
         "showlegend": false,
         "type": "box",
         "x": [
          69.12,
          70.33,
          70.93,
          71.1,
          71.93,
          73.49,
          74.74,
          76.32,
          77.56,
          78.83,
          80.37,
          81.235,
          69.39,
          70.26,
          71.24,
          71.52,
          71.89,
          72.22,
          73.84,
          74.32,
          76.33,
          77.55,
          79.11,
          80.204
         ],
         "xaxis": "x2",
         "yaxis": "y2"
        }
       ],
       "layout": {
        "barmode": "relative",
        "legend": {
         "title": {
          "text": "continent"
         },
         "tracegroupgap": 0
        },
        "margin": {
         "t": 60
        },
        "template": {
         "data": {
          "bar": [
           {
            "error_x": {
             "color": "#2a3f5f"
            },
            "error_y": {
             "color": "#2a3f5f"
            },
            "marker": {
             "line": {
              "color": "#E5ECF6",
              "width": 0.5
             },
             "pattern": {
              "fillmode": "overlay",
              "size": 10,
              "solidity": 0.2
             }
            },
            "type": "bar"
           }
          ],
          "barpolar": [
           {
            "marker": {
             "line": {
              "color": "#E5ECF6",
              "width": 0.5
             },
             "pattern": {
              "fillmode": "overlay",
              "size": 10,
              "solidity": 0.2
             }
            },
            "type": "barpolar"
           }
          ],
          "carpet": [
           {
            "aaxis": {
             "endlinecolor": "#2a3f5f",
             "gridcolor": "white",
             "linecolor": "white",
             "minorgridcolor": "white",
             "startlinecolor": "#2a3f5f"
            },
            "baxis": {
             "endlinecolor": "#2a3f5f",
             "gridcolor": "white",
             "linecolor": "white",
             "minorgridcolor": "white",
             "startlinecolor": "#2a3f5f"
            },
            "type": "carpet"
           }
          ],
          "choropleth": [
           {
            "colorbar": {
             "outlinewidth": 0,
             "ticks": ""
            },
            "type": "choropleth"
           }
          ],
          "contour": [
           {
            "colorbar": {
             "outlinewidth": 0,
             "ticks": ""
            },
            "colorscale": [
             [
              0,
              "#0d0887"
             ],
             [
              0.1111111111111111,
              "#46039f"
             ],
             [
              0.2222222222222222,
              "#7201a8"
             ],
             [
              0.3333333333333333,
              "#9c179e"
             ],
             [
              0.4444444444444444,
              "#bd3786"
             ],
             [
              0.5555555555555556,
              "#d8576b"
             ],
             [
              0.6666666666666666,
              "#ed7953"
             ],
             [
              0.7777777777777778,
              "#fb9f3a"
             ],
             [
              0.8888888888888888,
              "#fdca26"
             ],
             [
              1,
              "#f0f921"
             ]
            ],
            "type": "contour"
           }
          ],
          "contourcarpet": [
           {
            "colorbar": {
             "outlinewidth": 0,
             "ticks": ""
            },
            "type": "contourcarpet"
           }
          ],
          "heatmap": [
           {
            "colorbar": {
             "outlinewidth": 0,
             "ticks": ""
            },
            "colorscale": [
             [
              0,
              "#0d0887"
             ],
             [
              0.1111111111111111,
              "#46039f"
             ],
             [
              0.2222222222222222,
              "#7201a8"
             ],
             [
              0.3333333333333333,
              "#9c179e"
             ],
             [
              0.4444444444444444,
              "#bd3786"
             ],
             [
              0.5555555555555556,
              "#d8576b"
             ],
             [
              0.6666666666666666,
              "#ed7953"
             ],
             [
              0.7777777777777778,
              "#fb9f3a"
             ],
             [
              0.8888888888888888,
              "#fdca26"
             ],
             [
              1,
              "#f0f921"
             ]
            ],
            "type": "heatmap"
           }
          ],
          "heatmapgl": [
           {
            "colorbar": {
             "outlinewidth": 0,
             "ticks": ""
            },
            "colorscale": [
             [
              0,
              "#0d0887"
             ],
             [
              0.1111111111111111,
              "#46039f"
             ],
             [
              0.2222222222222222,
              "#7201a8"
             ],
             [
              0.3333333333333333,
              "#9c179e"
             ],
             [
              0.4444444444444444,
              "#bd3786"
             ],
             [
              0.5555555555555556,
              "#d8576b"
             ],
             [
              0.6666666666666666,
              "#ed7953"
             ],
             [
              0.7777777777777778,
              "#fb9f3a"
             ],
             [
              0.8888888888888888,
              "#fdca26"
             ],
             [
              1,
              "#f0f921"
             ]
            ],
            "type": "heatmapgl"
           }
          ],
          "histogram": [
           {
            "marker": {
             "pattern": {
              "fillmode": "overlay",
              "size": 10,
              "solidity": 0.2
             }
            },
            "type": "histogram"
           }
          ],
          "histogram2d": [
           {
            "colorbar": {
             "outlinewidth": 0,
             "ticks": ""
            },
            "colorscale": [
             [
              0,
              "#0d0887"
             ],
             [
              0.1111111111111111,
              "#46039f"
             ],
             [
              0.2222222222222222,
              "#7201a8"
             ],
             [
              0.3333333333333333,
              "#9c179e"
             ],
             [
              0.4444444444444444,
              "#bd3786"
             ],
             [
              0.5555555555555556,
              "#d8576b"
             ],
             [
              0.6666666666666666,
              "#ed7953"
             ],
             [
              0.7777777777777778,
              "#fb9f3a"
             ],
             [
              0.8888888888888888,
              "#fdca26"
             ],
             [
              1,
              "#f0f921"
             ]
            ],
            "type": "histogram2d"
           }
          ],
          "histogram2dcontour": [
           {
            "colorbar": {
             "outlinewidth": 0,
             "ticks": ""
            },
            "colorscale": [
             [
              0,
              "#0d0887"
             ],
             [
              0.1111111111111111,
              "#46039f"
             ],
             [
              0.2222222222222222,
              "#7201a8"
             ],
             [
              0.3333333333333333,
              "#9c179e"
             ],
             [
              0.4444444444444444,
              "#bd3786"
             ],
             [
              0.5555555555555556,
              "#d8576b"
             ],
             [
              0.6666666666666666,
              "#ed7953"
             ],
             [
              0.7777777777777778,
              "#fb9f3a"
             ],
             [
              0.8888888888888888,
              "#fdca26"
             ],
             [
              1,
              "#f0f921"
             ]
            ],
            "type": "histogram2dcontour"
           }
          ],
          "mesh3d": [
           {
            "colorbar": {
             "outlinewidth": 0,
             "ticks": ""
            },
            "type": "mesh3d"
           }
          ],
          "parcoords": [
           {
            "line": {
             "colorbar": {
              "outlinewidth": 0,
              "ticks": ""
             }
            },
            "type": "parcoords"
           }
          ],
          "pie": [
           {
            "automargin": true,
            "type": "pie"
           }
          ],
          "scatter": [
           {
            "fillpattern": {
             "fillmode": "overlay",
             "size": 10,
             "solidity": 0.2
            },
            "type": "scatter"
           }
          ],
          "scatter3d": [
           {
            "line": {
             "colorbar": {
              "outlinewidth": 0,
              "ticks": ""
             }
            },
            "marker": {
             "colorbar": {
              "outlinewidth": 0,
              "ticks": ""
             }
            },
            "type": "scatter3d"
           }
          ],
          "scattercarpet": [
           {
            "marker": {
             "colorbar": {
              "outlinewidth": 0,
              "ticks": ""
             }
            },
            "type": "scattercarpet"
           }
          ],
          "scattergeo": [
           {
            "marker": {
             "colorbar": {
              "outlinewidth": 0,
              "ticks": ""
             }
            },
            "type": "scattergeo"
           }
          ],
          "scattergl": [
           {
            "marker": {
             "colorbar": {
              "outlinewidth": 0,
              "ticks": ""
             }
            },
            "type": "scattergl"
           }
          ],
          "scattermapbox": [
           {
            "marker": {
             "colorbar": {
              "outlinewidth": 0,
              "ticks": ""
             }
            },
            "type": "scattermapbox"
           }
          ],
          "scatterpolar": [
           {
            "marker": {
             "colorbar": {
              "outlinewidth": 0,
              "ticks": ""
             }
            },
            "type": "scatterpolar"
           }
          ],
          "scatterpolargl": [
           {
            "marker": {
             "colorbar": {
              "outlinewidth": 0,
              "ticks": ""
             }
            },
            "type": "scatterpolargl"
           }
          ],
          "scatterternary": [
           {
            "marker": {
             "colorbar": {
              "outlinewidth": 0,
              "ticks": ""
             }
            },
            "type": "scatterternary"
           }
          ],
          "surface": [
           {
            "colorbar": {
             "outlinewidth": 0,
             "ticks": ""
            },
            "colorscale": [
             [
              0,
              "#0d0887"
             ],
             [
              0.1111111111111111,
              "#46039f"
             ],
             [
              0.2222222222222222,
              "#7201a8"
             ],
             [
              0.3333333333333333,
              "#9c179e"
             ],
             [
              0.4444444444444444,
              "#bd3786"
             ],
             [
              0.5555555555555556,
              "#d8576b"
             ],
             [
              0.6666666666666666,
              "#ed7953"
             ],
             [
              0.7777777777777778,
              "#fb9f3a"
             ],
             [
              0.8888888888888888,
              "#fdca26"
             ],
             [
              1,
              "#f0f921"
             ]
            ],
            "type": "surface"
           }
          ],
          "table": [
           {
            "cells": {
             "fill": {
              "color": "#EBF0F8"
             },
             "line": {
              "color": "white"
             }
            },
            "header": {
             "fill": {
              "color": "#C8D4E3"
             },
             "line": {
              "color": "white"
             }
            },
            "type": "table"
           }
          ]
         },
         "layout": {
          "annotationdefaults": {
           "arrowcolor": "#2a3f5f",
           "arrowhead": 0,
           "arrowwidth": 1
          },
          "autotypenumbers": "strict",
          "coloraxis": {
           "colorbar": {
            "outlinewidth": 0,
            "ticks": ""
           }
          },
          "colorscale": {
           "diverging": [
            [
             0,
             "#8e0152"
            ],
            [
             0.1,
             "#c51b7d"
            ],
            [
             0.2,
             "#de77ae"
            ],
            [
             0.3,
             "#f1b6da"
            ],
            [
             0.4,
             "#fde0ef"
            ],
            [
             0.5,
             "#f7f7f7"
            ],
            [
             0.6,
             "#e6f5d0"
            ],
            [
             0.7,
             "#b8e186"
            ],
            [
             0.8,
             "#7fbc41"
            ],
            [
             0.9,
             "#4d9221"
            ],
            [
             1,
             "#276419"
            ]
           ],
           "sequential": [
            [
             0,
             "#0d0887"
            ],
            [
             0.1111111111111111,
             "#46039f"
            ],
            [
             0.2222222222222222,
             "#7201a8"
            ],
            [
             0.3333333333333333,
             "#9c179e"
            ],
            [
             0.4444444444444444,
             "#bd3786"
            ],
            [
             0.5555555555555556,
             "#d8576b"
            ],
            [
             0.6666666666666666,
             "#ed7953"
            ],
            [
             0.7777777777777778,
             "#fb9f3a"
            ],
            [
             0.8888888888888888,
             "#fdca26"
            ],
            [
             1,
             "#f0f921"
            ]
           ],
           "sequentialminus": [
            [
             0,
             "#0d0887"
            ],
            [
             0.1111111111111111,
             "#46039f"
            ],
            [
             0.2222222222222222,
             "#7201a8"
            ],
            [
             0.3333333333333333,
             "#9c179e"
            ],
            [
             0.4444444444444444,
             "#bd3786"
            ],
            [
             0.5555555555555556,
             "#d8576b"
            ],
            [
             0.6666666666666666,
             "#ed7953"
            ],
            [
             0.7777777777777778,
             "#fb9f3a"
            ],
            [
             0.8888888888888888,
             "#fdca26"
            ],
            [
             1,
             "#f0f921"
            ]
           ]
          },
          "colorway": [
           "#636efa",
           "#EF553B",
           "#00cc96",
           "#ab63fa",
           "#FFA15A",
           "#19d3f3",
           "#FF6692",
           "#B6E880",
           "#FF97FF",
           "#FECB52"
          ],
          "font": {
           "color": "#2a3f5f"
          },
          "geo": {
           "bgcolor": "white",
           "lakecolor": "white",
           "landcolor": "#E5ECF6",
           "showlakes": true,
           "showland": true,
           "subunitcolor": "white"
          },
          "hoverlabel": {
           "align": "left"
          },
          "hovermode": "closest",
          "mapbox": {
           "style": "light"
          },
          "paper_bgcolor": "white",
          "plot_bgcolor": "#E5ECF6",
          "polar": {
           "angularaxis": {
            "gridcolor": "white",
            "linecolor": "white",
            "ticks": ""
           },
           "bgcolor": "#E5ECF6",
           "radialaxis": {
            "gridcolor": "white",
            "linecolor": "white",
            "ticks": ""
           }
          },
          "scene": {
           "xaxis": {
            "backgroundcolor": "#E5ECF6",
            "gridcolor": "white",
            "gridwidth": 2,
            "linecolor": "white",
            "showbackground": true,
            "ticks": "",
            "zerolinecolor": "white"
           },
           "yaxis": {
            "backgroundcolor": "#E5ECF6",
            "gridcolor": "white",
            "gridwidth": 2,
            "linecolor": "white",
            "showbackground": true,
            "ticks": "",
            "zerolinecolor": "white"
           },
           "zaxis": {
            "backgroundcolor": "#E5ECF6",
            "gridcolor": "white",
            "gridwidth": 2,
            "linecolor": "white",
            "showbackground": true,
            "ticks": "",
            "zerolinecolor": "white"
           }
          },
          "shapedefaults": {
           "line": {
            "color": "#2a3f5f"
           }
          },
          "ternary": {
           "aaxis": {
            "gridcolor": "white",
            "linecolor": "white",
            "ticks": ""
           },
           "baxis": {
            "gridcolor": "white",
            "linecolor": "white",
            "ticks": ""
           },
           "bgcolor": "#E5ECF6",
           "caxis": {
            "gridcolor": "white",
            "linecolor": "white",
            "ticks": ""
           }
          },
          "title": {
           "x": 0.05
          },
          "xaxis": {
           "automargin": true,
           "gridcolor": "white",
           "linecolor": "white",
           "ticks": "",
           "title": {
            "standoff": 15
           },
           "zerolinecolor": "white",
           "zerolinewidth": 2
          },
          "yaxis": {
           "automargin": true,
           "gridcolor": "white",
           "linecolor": "white",
           "ticks": "",
           "title": {
            "standoff": 15
           },
           "zerolinecolor": "white",
           "zerolinewidth": 2
          }
         }
        },
        "xaxis": {
         "anchor": "y",
         "domain": [
          0,
          1
         ],
         "title": {
          "text": "lifeExp"
         }
        },
        "xaxis2": {
         "anchor": "y2",
         "domain": [
          0,
          1
         ],
         "matches": "x",
         "showgrid": true,
         "showticklabels": false
        },
        "yaxis": {
         "anchor": "x",
         "domain": [
          0,
          0.7326
         ],
         "title": {
          "text": "count"
         }
        },
        "yaxis2": {
         "anchor": "x2",
         "domain": [
          0.7426,
          1
         ],
         "matches": "y2",
         "showgrid": false,
         "showline": false,
         "showticklabels": false,
         "ticks": ""
        }
       }
      }
     },
     "metadata": {},
     "output_type": "display_data"
    }
   ],
   "source": [
    "fig = px.histogram(gapminder,\n",
    "                   x='lifeExp',\n",
    "                   color='continent',\n",
    "                   marginal='rug',\n",
    "                   hover_name='country')\n",
    "fig.show()"
   ]
  },
  {
   "cell_type": "code",
   "execution_count": 32,
   "metadata": {},
   "outputs": [
    {
     "data": {
      "application/vnd.plotly.v1+json": {
       "config": {
        "plotlyServerURL": "https://plot.ly"
       },
       "data": [
        {
         "type": "histogram",
         "x": [
          -1.0481278524505033,
          0.8287384308179823,
          -0.3979873180932594,
          -0.45581854598158855,
          -0.6989568248715256,
          1.2397219030958013,
          0.5304999973675413,
          0.7584006809353052,
          -1.352449421669454,
          0.9105994028892075,
          -0.3146135457217202,
          0.28112758076908767,
          0.19596424228544787,
          0.4935334074788573,
          -0.4012956767540131,
          -2.353668743378184,
          0.6984010515198812,
          -0.020641286428613025,
          1.0019192243844113,
          -0.3206927614144954,
          1.1665817092736304,
          -1.5937113297859646,
          -1.5128486141417141,
          -0.8767817762822573,
          -1.0675207964958984,
          0.6324719966005344,
          -0.7411170685207581,
          -0.7532158640537826,
          0.8950044990762569,
          -0.24518097506170533,
          1.6241729586416727,
          -0.7951173395537706,
          0.05797210311746058,
          0.6290893835860042,
          2.4913506077003165,
          1.0197955387450595,
          0.466000393201028,
          -0.6458390507295624,
          1.0760612598641075,
          -2.0288977582816745,
          0.07738187709816989,
          -0.026519381824686564,
          -0.5707118356606999,
          0.291061478130548,
          -0.6596962458403687,
          1.0438499008816637,
          -2.146794794481073,
          -1.0644746522356796,
          -0.0976106132983066,
          1.256051133384363,
          0.027411053906381124,
          2.0985949370136514,
          0.670064321720626,
          1.8080310573616498,
          -1.8147513162008473,
          0.2902556660061501,
          1.1930313104730736,
          1.6053791706889113,
          -1.340013238701999,
          -0.1786296443571832,
          0.9034227859629759,
          0.5251975499529816,
          0.7247680322364825,
          -0.708090708364972,
          0.25730643079226545,
          0.446529706786693,
          -1.2934950768027194,
          1.0053497344746316,
          0.5673990896051856,
          1.0408422793019407,
          -1.1317098914813295,
          -1.0285699086552211,
          0.12367984886630828,
          1.3414279889921294,
          -1.6336125453800163,
          0.1080805241096625,
          2.014408559826338,
          1.658841885305958,
          0.7368395499049484,
          -0.005541156644548743,
          -1.1706396350498376,
          -1.0752656078213716,
          -0.21085702622385472,
          -0.4125176558315054,
          -1.9492107262839955,
          0.598933776114234,
          0.5961549195295863,
          0.01547121186638872,
          -0.48881530190139716,
          0.19202439608128088,
          -0.33038946852872236,
          0.4274475564398668,
          -0.2967341457820979,
          0.29075004905287205,
          0.8487690539213704,
          0.6934048330023095,
          0.050880427334112265,
          2.162996617988915,
          0.7910926821759915,
          -3.0348026689760412,
          0.3553722661023333,
          -1.1660918620992178,
          -0.6700090883921292,
          0.24734242000627865,
          -0.3306846806591964,
          0.027427003334888865,
          0.0034320386865152337,
          -1.0726982620240977,
          -1.3912606653512098,
          0.8309829537003641,
          -1.725787106400472,
          -1.1769532903699345,
          -0.7282248904257632,
          1.1182100479901835,
          -0.1682360042550365,
          0.1234404366668646,
          0.7930703288184332,
          -1.052102475935429,
          0.24863178340121006,
          0.6579262730221491,
          -0.629764701093676,
          0.898695809411111,
          1.9650132697276839,
          -1.2019471393770444,
          -1.166228358756408,
          0.49264457030696596,
          0.3507190754817768,
          -1.1435086063449529,
          -1.6729217450240905,
          0.04905038859776211,
          -0.664360626367652,
          0.8105960071344002,
          -1.5413150320385338,
          -1.195259861631151,
          0.4031792939879739,
          -0.4942996231943083,
          -0.027891274270047648,
          -1.401171085183534,
          -0.3316720586831255,
          -0.6720028762646435,
          0.04740373250838496,
          -1.0325029185413803,
          -1.1591795096935458,
          0.6470137657000512,
          -0.005450986100554101,
          0.7075068277045631,
          -0.26375280574196786,
          -1.8855422199937029,
          -1.4477562310678531,
          -0.3394544127404813,
          -0.12186894416887806,
          0.051856226715466094,
          -0.42269736634399413,
          -0.25312230960030524,
          -0.6024108320760038,
          0.07524314261914307,
          -0.9376460005416153,
          -0.6134164928733893,
          0.1911288574883624,
          1.1064368064536347,
          1.894669749619205,
          -0.6234277796161241,
          -1.0269394915801646,
          -0.4342671206517514,
          0.10831421953255098,
          0.8292093382575313,
          0.7702818558688914,
          1.727008706203484,
          1.3124757717076636,
          0.0029400254838769305,
          -0.9184500547184855,
          -0.46568514016753765,
          -0.46767322081853396,
          0.31436716217712396,
          -0.4658744986741979,
          -2.0019017695932018,
          -0.04006650467137647,
          -1.2568645896905126,
          0.7648300568902099,
          -0.6407418871355273,
          -0.7537170916749207,
          -1.7064852654202574,
          -1.0039718659379988,
          0.5220464650431736,
          -0.41804948973784684,
          1.95268962568097,
          0.11536024182167298,
          -0.8811384992522462,
          -0.22660827442049397,
          -0.38425865733458736,
          -1.15338502182539,
          -1.7588800039520678,
          0.9584933970072305,
          -1.295094704017377,
          1.2646346469304834,
          1.7350296328805723,
          0.5431305620334135,
          -0.39810995562006296,
          3.2485232418321472,
          -0.8963615524846973,
          -0.6834555030745655,
          0.1918195560955902,
          0.09485941439844492,
          0.2559330411606666,
          -0.4989759459930875,
          -0.13173321635293916,
          -0.20166375285786178,
          -0.6873992752443991,
          1.235482148150005,
          -1.3021825940280305,
          -0.6848488540045247,
          0.7529687044463926,
          -0.22968437873805367,
          -0.45921913579482,
          0.001292504452922446,
          -0.20998171841513885,
          -1.0420133857687344,
          1.5446433927423948,
          2.062744005866237,
          0.3825652413651937,
          -0.6546628001813317,
          1.6823117917919599,
          -0.0026498837194770496,
          -0.8102554773407696,
          -0.13750479822096973,
          -1.1693359903533664,
          -0.8080539449782584,
          -0.24822376163604587,
          1.0021146219676025,
          0.3754902791307722,
          -0.42321370922646323,
          1.6206136217951994,
          0.0003803856279145174,
          -0.34053038627216664,
          0.4652613940670084,
          0.2493433182114157,
          -0.9526485824992185,
          -0.8904522137831917,
          1.153427616386712,
          -0.28202798400606305,
          -1.4714989124352331,
          -1.1393831740331415,
          -0.49532100554450914,
          0.6082945392459901,
          -0.18795299824261283,
          0.7636785538922635,
          0.6167611490265592,
          -0.6787676887445392,
          -0.7658880173099003,
          -1.030869124780886,
          -0.5913575163359506,
          1.0154770232754278,
          -0.027279284016350148,
          1.105561964386081,
          -2.05831865732214,
          1.017398590341418,
          -2.323096871944394,
          0.9837903364448247,
          -0.7390029242653489,
          0.3440341148221086,
          0.5789777935724243,
          -0.6119875509720838,
          -0.639663734048454,
          0.09272922788337788,
          4.257370442378257,
          0.4677944712406311,
          0.1081184516149046,
          2.1385473545620868,
          -0.6470577980348646,
          1.7822495020749176,
          -1.0462593997725331,
          0.21031825890358208,
          0.42506942156577276,
          -0.48295280193607726,
          2.7463415173846317,
          -0.6367867876710269,
          0.1356505802857776,
          0.9596695170494286,
          -1.390977313119965,
          -0.9377895697222445,
          -0.9788223408893421,
          -0.052600882222219016,
          1.6612028216416834,
          0.3707249451269379,
          -0.7068924237727419,
          -0.8015646523600356,
          -0.13576686816134037,
          -0.47806015074052954,
          -0.42659925905426116,
          -1.0445712475879143,
          0.5791459927794433,
          0.07333989146871975,
          -0.7344894435778839,
          1.155630698166786,
          -0.31601421369642274,
          -0.07748822676418447,
          -0.007986665077013923,
          1.7373125652994457,
          0.035254026684055584,
          1.1823507266117166,
          1.357564618921279,
          0.8690251664142723,
          1.4810302209571609,
          -1.1499620005169382,
          0.11297115311406664,
          0.9240370327167682,
          -0.4449240387120449,
          0.752384867459226,
          0.8580222853248681,
          1.0467227229725764,
          0.8369550871469987,
          0.07292563584526993,
          1.5433223033243502,
          -1.194415133912321,
          -0.39629840430164287,
          -0.22499185464425253,
          0.3378721702016866,
          -0.18935077367246025,
          -0.839402489260127,
          -1.3574795845893755,
          0.2312753349843157,
          -0.9056679920535271,
          -1.1769397272357278,
          0.06521571583623402,
          1.0437185457306857,
          0.7557603398473346,
          -0.3824530982355497,
          -0.956539343973609,
          -0.21420008073656518,
          1.4625696877026617,
          0.14170591912161273,
          1.9298130181369706,
          -0.8641888697712059,
          -0.002555073334186696,
          -0.8796667264587501,
          1.1162563870003153,
          0.8300900240061434,
          0.49271087496289884,
          -0.8666853817539887,
          0.41786025261562576,
          1.5420273051184752,
          1.0401021644423507,
          -1.0235952484177313,
          0.9228360670837021,
          -0.16673522065192234,
          1.2476932529720093,
          0.6767860390218365,
          0.8708318945333816,
          0.33700873531342235,
          0.456346297484282,
          -0.5993681497609259,
          -0.7994103782910618,
          -0.4691543666955389,
          -1.4836026406030522,
          -0.6647445211007896,
          0.019867562071414893,
          -1.0290088431451974,
          0.569743456656544,
          0.5649679796121437,
          -1.1034365989482617,
          1.798404821330884,
          -1.151599676018488,
          -1.2194642534920115,
          0.5990444592723647,
          -1.5419890497706599,
          -1.0239545461035822,
          -0.6267913035175027,
          0.6799911129598868,
          0.8417285063567714,
          -0.3240864735409047,
          0.0769226907782506,
          0.38787932519975954,
          -0.4942586549841261,
          -1.5535765951649978,
          -0.5545777028087132,
          -0.10256713684918926,
          0.9937621147328933,
          -1.3668673989041022,
          -1.127928907890876,
          0.9509722190376145,
          0.4955922915818332,
          0.05857010046559886,
          0.40776879477599887,
          -0.34543844979417254,
          0.5820607093930494,
          -0.5145351619990143,
          0.1887395024114376,
          1.3588639040470456,
          -0.38546128330038054,
          -1.8292293000395807,
          -0.8971506396819534,
          -0.5993809234316331,
          0.010795292106621128,
          1.2146995070222206,
          2.6242110250673214,
          -0.1909392992880799,
          -0.42982398068352023,
          0.41713697109059067,
          0.3603391892156967,
          -0.9719260259819736,
          0.39258081198737754,
          -0.8640883800689931,
          -0.31416894778095994,
          -1.3273332158136384,
          -1.0317181806872533,
          1.3984609175472076,
          -0.7677689924855053,
          -1.2791304023351733,
          -0.5384287095619501,
          0.8182033810685228,
          0.45487512678243164,
          2.2849825984449943,
          -0.2422423639527482,
          0.08302320547622448,
          -0.7867620668632392,
          0.6700899950709812,
          -0.44682643618299106,
          0.5653273556105161,
          1.5052725005512386,
          1.6812523035379088,
          -0.4230571455383196,
          0.17566218686572727,
          -1.0264061373971762,
          -0.23134658575809083,
          0.27081857428453027,
          -0.7693860433561022,
          0.3092806890742895,
          -2.4936686299873543,
          0.679787794829417,
          -2.230244537071658,
          0.2380616561457542,
          0.13008007565692328,
          0.239625763338947,
          -0.25586580303091233,
          1.5833731461758815,
          -1.254866970626389,
          1.2764427950447186,
          -0.004031721343450047,
          0.5382438065133185,
          -1.6941049515801456,
          0.4408644738982496,
          1.682328091183741,
          -0.8881790578030991,
          0.3945204628327891,
          -0.8534096691075137,
          1.4652347775244534,
          1.1674967435782282,
          0.5445031983230861,
          0.9794690347384378,
          0.2620213746204884,
          -0.2559704500679918,
          -1.639740794553076,
          -0.20791058270776808,
          0.8190639841040969,
          0.30889763117220015,
          -0.06167781009221638,
          0.6210934073149357,
          -0.3274301746971198,
          -0.23799204632546261,
          -0.2778409298995661,
          0.11792358043625245,
          -1.316665973551431,
          0.8572692908224744,
          0.11848411325191696,
          -0.2719169214414792,
          -1.181633060927877,
          0.9990731087718959,
          -0.6866479756035369,
          1.2530137780056712,
          -0.20185850760492852,
          0.7127279991591433,
          0.05675227507831345,
          0.909136190449833,
          -1.6312291344808174,
          0.10051722259381711,
          0.7980723627040669,
          -0.14939440794665368,
          0.8013443888202214,
          -1.1078472124482672,
          1.346745608773221,
          0.18546550431541492,
          0.3865729858618036,
          -0.710739807186454,
          1.451684718322566,
          0.16039256208508615,
          -0.46274971205506926,
          1.7393271139615951,
          0.9549518109831935,
          -0.9336783569666568,
          1.1777205480123372,
          0.09005569930437694,
          -0.46119596876490215,
          -1.0601940438389739,
          -0.5911043944937734,
          0.4394801296711491,
          -1.0052232691271012,
          -0.8751672960350863,
          -0.48825852504338835,
          0.9587881564286426,
          1.5594966621636763,
          0.04061487233413402,
          1.6351176396320766,
          1.3400354478459426,
          1.7935577660610282,
          -1.170069929619832,
          -0.6940725701600592,
          -0.5531458097634024,
          -1.4033636841920383,
          0.8400882464876412,
          -0.5685502455765783,
          -1.5983765396034142,
          1.17558884813661,
          -0.06818866919985152,
          -0.7280754841391158,
          -1.3457520454325196,
          -0.8850803638026642,
          -0.7436641204820383,
          0.6232815586051513,
          0.21638557685934484,
          -0.5264205768655562,
          -0.0855398650343502,
          0.02914209717185416,
          -0.16850740140681225,
          -2.2562433578525343,
          -0.1523732531881437,
          0.2289483381041959,
          1.153489979139695,
          0.45109855197842946,
          0.3810364964326619,
          1.6126422005039867,
          -1.0756607570895977,
          0.9162008649751535,
          -0.9859393168253143,
          0.40055351445157067,
          -1.1342966174687508,
          0.43461963161380374,
          -0.7994788593611619,
          0.5307366249398507,
          -0.5395951357354839,
          -0.9415328806704861,
          0.17047446457696416,
          -0.14650707197322463,
          1.2169810710506044,
          -0.21281071372858193,
          -0.8706252724329766,
          0.29402858646072727,
          0.14808912332194948,
          0.18564221023754512,
          -0.2793296454903645,
          -0.22858948651702016,
          0.5411358615152323,
          -0.717120996223824,
          -0.4156347707867476,
          -0.3222105289792193,
          -0.8995597844011198,
          0.29744940669427,
          -0.23909194926232522,
          -0.9520924311607698,
          -1.3084046833934266,
          0.5329247708994898,
          0.4539769720241603,
          -0.8244635822215397,
          -0.36447855520937905,
          0.5190998908932384,
          0.739801924459477,
          0.3791332965542098,
          0.6645746330960488,
          -0.7060105815510425,
          0.45641731643648303,
          -2.213885132923987,
          -1.9435298925026827,
          -1.1614608639650825,
          -0.6516897368002422,
          -1.2700792234457552,
          0.9134882006672832,
          -2.235913062805232,
          -0.6079184820655544,
          0.35171867222826303,
          0.6089934964457054,
          0.3230605828510772,
          0.4169258696618775,
          1.6368751018557404,
          -0.9238209417933743,
          -0.8455106351444909,
          0.23247156531204619,
          0.03186027502911261,
          -1.7515726995098932,
          0.7631564107507468,
          0.9817433329704292,
          -0.610578797886324,
          -0.5193925713310978,
          0.25978200430115106,
          -1.548734558538298,
          -1.3997523413470998,
          -2.213442965191796,
          -0.9188147116028292,
          0.7027322021517934,
          1.7183830091159642,
          2.1249457090883674,
          -1.0708163394752466,
          -0.44909477738764036,
          -0.11242741184232354,
          0.10405833263648685,
          0.5367596623099171,
          0.6571892767870586,
          0.4764499882673811,
          1.1485915649219054,
          -1.2168210246314646,
          -0.5361742201851991,
          0.0117411000585375,
          -0.2318819378428184,
          -1.8216876239037567,
          -0.7898078622481696,
          1.2067155166237662,
          0.795240540734999,
          -0.010724813552183743,
          -1.2914534450581108,
          -0.2187680523088197,
          -1.6061189355640937,
          -2.5673028674047815,
          -0.7398806343148646,
          -0.4345700403214648,
          -0.23042694874634345,
          1.2555306075684742,
          0.20140135784820623,
          0.6096789936234271,
          0.22411943923007605,
          1.6049827310166098,
          0.316231356084818,
          0.21814395377331466,
          -1.3681655563499544,
          -1.1449228569697696,
          0.653659255207034,
          1.4858720481264633,
          -0.07861831616631368,
          -0.37162085625481284,
          -0.5846281515207372,
          -0.22126740506398088,
          -2.8877096147561545,
          -1.782559266905974,
          -0.7899746895964312,
          -1.5301207747905967,
          1.0543854611349173,
          0.22010234487509808,
          -0.3463161747681187,
          -0.5920531816842218,
          -0.04797731958680567,
          -1.9414893493986747,
          0.1752365634072997,
          -0.1881287713330673,
          -0.8142866838227583,
          1.232696558676454,
          -0.3265836235183876,
          0.14559942229911257,
          -1.587520860810972,
          0.2572810757667844,
          -1.0508527060004422,
          -0.4528224107117466,
          0.30967760628078694,
          -2.064589886225614,
          0.6377191989596468,
          -1.3953352911536043,
          -0.2653013010338927,
          -1.1406888107118094,
          -1.4124010802467903,
          -1.6833029387403866,
          -0.8629792699485521,
          -0.8149725710304878,
          0.1591912719437347,
          0.5903169064588154,
          0.3218227255782412,
          -1.1448994813722257,
          -0.2029861494407442,
          1.7204559461108115,
          0.3922553358340104,
          0.06092999638838267,
          -1.9892443838590854,
          0.08998973580583168,
          -2.6460285436755764,
          0.9172983736153523,
          -0.33444324806222897,
          0.7201064250635992,
          1.1892160409193604,
          -0.4214628267340309,
          0.8154334930835365,
          1.1642257245856757,
          -1.059023384676022,
          1.5448399493362395,
          0.0006224783290376984,
          -0.7167668778508551,
          1.6174315554355931,
          0.1546881022942746,
          -1.2477993686027704,
          1.1285686290299817,
          0.6382572769923293,
          -0.5285327356872228,
          -0.7353462587050024,
          -0.6220891108686898,
          -0.8210125506128299,
          0.3666865099763791,
          -0.11246632443008148,
          -1.844844856895621,
          1.6456659951335795,
          -0.018556570417836798,
          1.4328445050127572,
          -0.3956206027100538,
          -0.9290634411635786,
          1.8569264150703133,
          1.1449250543417124,
          -0.9904158890678607,
          1.3530634952367993,
          0.012050848651802181,
          -0.053698360901682105,
          0.8841000356861212,
          -0.8032126827786444,
          1.8857384891011204,
          -2.4419123420784214,
          0.9300519709885846,
          -0.7873646064085008,
          0.11340067973807773,
          1.239429960455111,
          0.7004161515478093,
          -0.1773304259866671,
          0.027704123072656118,
          -0.652434896448744,
          -1.8423619306405028,
          1.6245648688486993,
          1.1605053063096673,
          -0.7796586908500592,
          -0.4605392915158471,
          -0.8646846968173765,
          0.5857232794982725,
          -0.6164816962036385,
          2.0660604707626384,
          1.5244483088045249,
          0.5758663698861977,
          -0.7446886095328559,
          -0.30668475899126235,
          1.0656472809194704,
          0.5270346714237962,
          1.0193736846170258,
          0.2740716294829112,
          0.4396219814019788,
          -1.5290627744517469,
          -1.4021186652930149,
          -2.3179038337534252,
          -0.12657980870806576,
          2.195528561433639,
          0.8677295360288668,
          2.1451404929535514,
          1.0821106931301783,
          -0.9027196644535355,
          -1.1229444952998977,
          -0.10665911111195789,
          -0.2590295303807849,
          1.749818218779084,
          -0.782612749982085,
          -0.8064929410269374,
          0.19347456813318267,
          -0.09404663461567786,
          -1.3498901633621059,
          0.26493534848286776,
          0.6996734404079654,
          0.39502942961784393,
          1.5502376372116213,
          -0.9769264133437194,
          -0.37282802207892723,
          0.2997795252833875,
          -1.8467367956226806,
          1.0229520853254916,
          -1.4484004131463593,
          0.5698240236460671,
          0.025328936984401435,
          0.3443827966133403,
          -0.4077375541135337,
          -0.7942317209841919,
          0.48862321663870245,
          1.955786522013922,
          0.4522772132488294,
          -0.4597666459248189,
          0.6286695284199592,
          0.8482886363044473,
          -1.586400335072009,
          -0.7688865850890575,
          0.5706426820630267,
          0.5003432641580454,
          -0.18319135273265638,
          0.002763848639260432,
          -0.3979855406420983,
          -3.2314253221521696,
          -0.01991382126810735,
          1.3929729534073778,
          1.665323650683313,
          1.5733450538956204,
          0.5276760281574876,
          -0.6215067851366523,
          0.3545087038794528,
          0.8631068530666777,
          0.27930316976744807,
          0.4699182115989656,
          1.1449499800179794,
          2.2431748379284264,
          -0.7761187627938184,
          0.6144093411807697,
          0.16568135789421268,
          -1.0295358949362552,
          0.6895919096386627,
          -0.5690619904200815,
          0.3232942292036759,
          -0.3254930075617849,
          -1.3797219380396837,
          0.8416410624258452,
          0.21284061645352143,
          0.12176672476419037,
          0.39393762405727273,
          0.9003712123374815,
          1.1065756981737356,
          -0.4887351743995273,
          0.7057962509478977,
          -0.2933229018426001,
          -1.3224650385293915,
          -0.3027710887999857,
          -0.44369593225807014,
          -0.05861831192153345,
          1.1645053341157345,
          -0.03911618681237397,
          -1.3950162657395226,
          0.7464110420424187,
          0.45187750547068223,
          -0.11913282220098528,
          -1.08990283410638,
          0.7154637754448879,
          -1.4189458904719052,
          -0.22035497138855595,
          -2.4412229756661423,
          -0.9399690455814592,
          -1.5319564215557764,
          -1.3994815849260707,
          -0.606893087185052,
          0.7844289423029317,
          0.3444383432183116,
          -0.30356940311063907,
          1.3067551927768715,
          -0.20072400057557208,
          -0.48368195596359626,
          0.38939023705568604,
          -1.8159499949853668,
          0.32796778860052894,
          -1.6107468865283925,
          0.5164944907449199,
          -2.630297233483912,
          -0.12316807837144644,
          -0.012166714974734073,
          0.5391759603148457,
          -1.1863682140732237,
          0.10475550970788364,
          0.4609508560829906,
          0.0019691180322469917,
          -0.7921262835639649,
          -0.07012929797710367,
          1.1281833224900428,
          0.1292527112892166,
          0.41382060974524104,
          -0.19043951866634484,
          -0.9727852754957433,
          1.6879692432239,
          -1.3959975779410467,
          0.14312862057104397,
          -0.10055772841437915,
          -1.7535953523635344,
          1.784079391908261,
          -0.24343514318191367,
          0.3071492133407708,
          0.4610038900601026,
          -0.06449701472938886,
          0.811226623203454,
          1.4274923811142883,
          0.8367854554453359,
          -1.0923816054916957,
          1.377820311621637,
          -0.0878930856493476,
          -0.8025800691892083,
          -0.19708764027654022,
          0.31868265358978043,
          1.655288664208845,
          0.15660625827291227,
          -0.32199547240912774,
          -0.3723006067268777,
          0.08617472755150733,
          -0.8569096601511339,
          0.7701013637169153,
          -0.6767048470200244,
          -0.7960614245569163,
          -0.19921650907243388,
          -0.19035266837365622,
          -0.005288789922971835,
          -1.397608598823496,
          -0.8625552944611637,
          -0.355836672219636,
          -0.7987008184964286,
          1.6647897097130924,
          -0.5110313517717112,
          -0.5664788018680329,
          0.6787898604382228,
          1.2303806197472387,
          -0.5474668766986577,
          -0.9824664037611905,
          2.2420570672807805,
          0.06685786503734303,
          0.5836760993964587,
          0.4195894621828623,
          -0.3592767458355419,
          1.7948757344746247,
          0.8955795665093685,
          -0.3886584317981864,
          -1.4641037708248037,
          -1.185871617705591,
          -1.34911612706198,
          0.1123176752474164,
          -1.1704154258938118,
          0.7499868677967598,
          -0.9311748829488617,
          -0.01898516445888879,
          1.8579111144164338,
          0.6401523377784464,
          -0.33497155429284836,
          -0.49913563228345426,
          0.2396597972770739,
          -0.19908615368219457,
          0.5269767529864928,
          -1.752124540143589,
          -0.12191445807150673,
          0.6516474214853966,
          -0.7518211282580582,
          -0.9034095201570419,
          0.11187820640891318,
          1.6271560340165232,
          0.6315992524313776,
          -1.1860312137950697,
          0.6955167143407162,
          0.08596914437424678,
          0.09499225928200916,
          1.156863371025463,
          -0.7542688373027863,
          -0.1951331385359888,
          0.8952507799355436,
          2.1958665468408656,
          -0.09704628508323772,
          -2.2027894105395736,
          0.1355706658825786,
          1.4737903944544561,
          -0.6926352447578071,
          0.9884917161313159,
          0.6292626566398326,
          0.05688922662937304,
          0.24611187989745428,
          -1.3029146555711986,
          -0.4982396622283778,
          1.4638633691785874,
          -0.21393526100712035,
          -0.6963014581931691,
          2.2684881657828386,
          0.943137809555268,
          -1.350010347439871,
          1.9411115732017357,
          1.1743943684793976,
          1.4158577016885203,
          0.5109607678474923,
          0.9581182903775051,
          -0.9679205921409175,
          -1.6407231452705497,
          0.10219777889168273,
          1.3581745260244193,
          0.8508408392570718,
          0.3094815860763634,
          0.34336519111105046,
          -0.5497975603349757,
          0.29782769769828343,
          1.9110961225926222,
          -0.3070990618394839,
          0.26035395879797507,
          1.1093143165159314,
          -1.9058378382389947,
          0.5454535312309161,
          -0.9349101023780149,
          0.40895266955247145,
          0.5570612360342074,
          -0.5764276821266361,
          -0.22476711151245807,
          -0.5639881429762019,
          -0.03603708284968131,
          -0.2463857044895908,
          0.6245045281110144,
          0.8555164928802641,
          1.1988953976408492,
          -0.5723976656240777,
          -1.5748027636843698,
          0.9167061250215789,
          0.544104248470251,
          0.2968935498590446
         ]
        }
       ],
       "layout": {
        "template": {
         "data": {
          "bar": [
           {
            "error_x": {
             "color": "#2a3f5f"
            },
            "error_y": {
             "color": "#2a3f5f"
            },
            "marker": {
             "line": {
              "color": "#E5ECF6",
              "width": 0.5
             },
             "pattern": {
              "fillmode": "overlay",
              "size": 10,
              "solidity": 0.2
             }
            },
            "type": "bar"
           }
          ],
          "barpolar": [
           {
            "marker": {
             "line": {
              "color": "#E5ECF6",
              "width": 0.5
             },
             "pattern": {
              "fillmode": "overlay",
              "size": 10,
              "solidity": 0.2
             }
            },
            "type": "barpolar"
           }
          ],
          "carpet": [
           {
            "aaxis": {
             "endlinecolor": "#2a3f5f",
             "gridcolor": "white",
             "linecolor": "white",
             "minorgridcolor": "white",
             "startlinecolor": "#2a3f5f"
            },
            "baxis": {
             "endlinecolor": "#2a3f5f",
             "gridcolor": "white",
             "linecolor": "white",
             "minorgridcolor": "white",
             "startlinecolor": "#2a3f5f"
            },
            "type": "carpet"
           }
          ],
          "choropleth": [
           {
            "colorbar": {
             "outlinewidth": 0,
             "ticks": ""
            },
            "type": "choropleth"
           }
          ],
          "contour": [
           {
            "colorbar": {
             "outlinewidth": 0,
             "ticks": ""
            },
            "colorscale": [
             [
              0,
              "#0d0887"
             ],
             [
              0.1111111111111111,
              "#46039f"
             ],
             [
              0.2222222222222222,
              "#7201a8"
             ],
             [
              0.3333333333333333,
              "#9c179e"
             ],
             [
              0.4444444444444444,
              "#bd3786"
             ],
             [
              0.5555555555555556,
              "#d8576b"
             ],
             [
              0.6666666666666666,
              "#ed7953"
             ],
             [
              0.7777777777777778,
              "#fb9f3a"
             ],
             [
              0.8888888888888888,
              "#fdca26"
             ],
             [
              1,
              "#f0f921"
             ]
            ],
            "type": "contour"
           }
          ],
          "contourcarpet": [
           {
            "colorbar": {
             "outlinewidth": 0,
             "ticks": ""
            },
            "type": "contourcarpet"
           }
          ],
          "heatmap": [
           {
            "colorbar": {
             "outlinewidth": 0,
             "ticks": ""
            },
            "colorscale": [
             [
              0,
              "#0d0887"
             ],
             [
              0.1111111111111111,
              "#46039f"
             ],
             [
              0.2222222222222222,
              "#7201a8"
             ],
             [
              0.3333333333333333,
              "#9c179e"
             ],
             [
              0.4444444444444444,
              "#bd3786"
             ],
             [
              0.5555555555555556,
              "#d8576b"
             ],
             [
              0.6666666666666666,
              "#ed7953"
             ],
             [
              0.7777777777777778,
              "#fb9f3a"
             ],
             [
              0.8888888888888888,
              "#fdca26"
             ],
             [
              1,
              "#f0f921"
             ]
            ],
            "type": "heatmap"
           }
          ],
          "heatmapgl": [
           {
            "colorbar": {
             "outlinewidth": 0,
             "ticks": ""
            },
            "colorscale": [
             [
              0,
              "#0d0887"
             ],
             [
              0.1111111111111111,
              "#46039f"
             ],
             [
              0.2222222222222222,
              "#7201a8"
             ],
             [
              0.3333333333333333,
              "#9c179e"
             ],
             [
              0.4444444444444444,
              "#bd3786"
             ],
             [
              0.5555555555555556,
              "#d8576b"
             ],
             [
              0.6666666666666666,
              "#ed7953"
             ],
             [
              0.7777777777777778,
              "#fb9f3a"
             ],
             [
              0.8888888888888888,
              "#fdca26"
             ],
             [
              1,
              "#f0f921"
             ]
            ],
            "type": "heatmapgl"
           }
          ],
          "histogram": [
           {
            "marker": {
             "pattern": {
              "fillmode": "overlay",
              "size": 10,
              "solidity": 0.2
             }
            },
            "type": "histogram"
           }
          ],
          "histogram2d": [
           {
            "colorbar": {
             "outlinewidth": 0,
             "ticks": ""
            },
            "colorscale": [
             [
              0,
              "#0d0887"
             ],
             [
              0.1111111111111111,
              "#46039f"
             ],
             [
              0.2222222222222222,
              "#7201a8"
             ],
             [
              0.3333333333333333,
              "#9c179e"
             ],
             [
              0.4444444444444444,
              "#bd3786"
             ],
             [
              0.5555555555555556,
              "#d8576b"
             ],
             [
              0.6666666666666666,
              "#ed7953"
             ],
             [
              0.7777777777777778,
              "#fb9f3a"
             ],
             [
              0.8888888888888888,
              "#fdca26"
             ],
             [
              1,
              "#f0f921"
             ]
            ],
            "type": "histogram2d"
           }
          ],
          "histogram2dcontour": [
           {
            "colorbar": {
             "outlinewidth": 0,
             "ticks": ""
            },
            "colorscale": [
             [
              0,
              "#0d0887"
             ],
             [
              0.1111111111111111,
              "#46039f"
             ],
             [
              0.2222222222222222,
              "#7201a8"
             ],
             [
              0.3333333333333333,
              "#9c179e"
             ],
             [
              0.4444444444444444,
              "#bd3786"
             ],
             [
              0.5555555555555556,
              "#d8576b"
             ],
             [
              0.6666666666666666,
              "#ed7953"
             ],
             [
              0.7777777777777778,
              "#fb9f3a"
             ],
             [
              0.8888888888888888,
              "#fdca26"
             ],
             [
              1,
              "#f0f921"
             ]
            ],
            "type": "histogram2dcontour"
           }
          ],
          "mesh3d": [
           {
            "colorbar": {
             "outlinewidth": 0,
             "ticks": ""
            },
            "type": "mesh3d"
           }
          ],
          "parcoords": [
           {
            "line": {
             "colorbar": {
              "outlinewidth": 0,
              "ticks": ""
             }
            },
            "type": "parcoords"
           }
          ],
          "pie": [
           {
            "automargin": true,
            "type": "pie"
           }
          ],
          "scatter": [
           {
            "fillpattern": {
             "fillmode": "overlay",
             "size": 10,
             "solidity": 0.2
            },
            "type": "scatter"
           }
          ],
          "scatter3d": [
           {
            "line": {
             "colorbar": {
              "outlinewidth": 0,
              "ticks": ""
             }
            },
            "marker": {
             "colorbar": {
              "outlinewidth": 0,
              "ticks": ""
             }
            },
            "type": "scatter3d"
           }
          ],
          "scattercarpet": [
           {
            "marker": {
             "colorbar": {
              "outlinewidth": 0,
              "ticks": ""
             }
            },
            "type": "scattercarpet"
           }
          ],
          "scattergeo": [
           {
            "marker": {
             "colorbar": {
              "outlinewidth": 0,
              "ticks": ""
             }
            },
            "type": "scattergeo"
           }
          ],
          "scattergl": [
           {
            "marker": {
             "colorbar": {
              "outlinewidth": 0,
              "ticks": ""
             }
            },
            "type": "scattergl"
           }
          ],
          "scattermapbox": [
           {
            "marker": {
             "colorbar": {
              "outlinewidth": 0,
              "ticks": ""
             }
            },
            "type": "scattermapbox"
           }
          ],
          "scatterpolar": [
           {
            "marker": {
             "colorbar": {
              "outlinewidth": 0,
              "ticks": ""
             }
            },
            "type": "scatterpolar"
           }
          ],
          "scatterpolargl": [
           {
            "marker": {
             "colorbar": {
              "outlinewidth": 0,
              "ticks": ""
             }
            },
            "type": "scatterpolargl"
           }
          ],
          "scatterternary": [
           {
            "marker": {
             "colorbar": {
              "outlinewidth": 0,
              "ticks": ""
             }
            },
            "type": "scatterternary"
           }
          ],
          "surface": [
           {
            "colorbar": {
             "outlinewidth": 0,
             "ticks": ""
            },
            "colorscale": [
             [
              0,
              "#0d0887"
             ],
             [
              0.1111111111111111,
              "#46039f"
             ],
             [
              0.2222222222222222,
              "#7201a8"
             ],
             [
              0.3333333333333333,
              "#9c179e"
             ],
             [
              0.4444444444444444,
              "#bd3786"
             ],
             [
              0.5555555555555556,
              "#d8576b"
             ],
             [
              0.6666666666666666,
              "#ed7953"
             ],
             [
              0.7777777777777778,
              "#fb9f3a"
             ],
             [
              0.8888888888888888,
              "#fdca26"
             ],
             [
              1,
              "#f0f921"
             ]
            ],
            "type": "surface"
           }
          ],
          "table": [
           {
            "cells": {
             "fill": {
              "color": "#EBF0F8"
             },
             "line": {
              "color": "white"
             }
            },
            "header": {
             "fill": {
              "color": "#C8D4E3"
             },
             "line": {
              "color": "white"
             }
            },
            "type": "table"
           }
          ]
         },
         "layout": {
          "annotationdefaults": {
           "arrowcolor": "#2a3f5f",
           "arrowhead": 0,
           "arrowwidth": 1
          },
          "autotypenumbers": "strict",
          "coloraxis": {
           "colorbar": {
            "outlinewidth": 0,
            "ticks": ""
           }
          },
          "colorscale": {
           "diverging": [
            [
             0,
             "#8e0152"
            ],
            [
             0.1,
             "#c51b7d"
            ],
            [
             0.2,
             "#de77ae"
            ],
            [
             0.3,
             "#f1b6da"
            ],
            [
             0.4,
             "#fde0ef"
            ],
            [
             0.5,
             "#f7f7f7"
            ],
            [
             0.6,
             "#e6f5d0"
            ],
            [
             0.7,
             "#b8e186"
            ],
            [
             0.8,
             "#7fbc41"
            ],
            [
             0.9,
             "#4d9221"
            ],
            [
             1,
             "#276419"
            ]
           ],
           "sequential": [
            [
             0,
             "#0d0887"
            ],
            [
             0.1111111111111111,
             "#46039f"
            ],
            [
             0.2222222222222222,
             "#7201a8"
            ],
            [
             0.3333333333333333,
             "#9c179e"
            ],
            [
             0.4444444444444444,
             "#bd3786"
            ],
            [
             0.5555555555555556,
             "#d8576b"
            ],
            [
             0.6666666666666666,
             "#ed7953"
            ],
            [
             0.7777777777777778,
             "#fb9f3a"
            ],
            [
             0.8888888888888888,
             "#fdca26"
            ],
            [
             1,
             "#f0f921"
            ]
           ],
           "sequentialminus": [
            [
             0,
             "#0d0887"
            ],
            [
             0.1111111111111111,
             "#46039f"
            ],
            [
             0.2222222222222222,
             "#7201a8"
            ],
            [
             0.3333333333333333,
             "#9c179e"
            ],
            [
             0.4444444444444444,
             "#bd3786"
            ],
            [
             0.5555555555555556,
             "#d8576b"
            ],
            [
             0.6666666666666666,
             "#ed7953"
            ],
            [
             0.7777777777777778,
             "#fb9f3a"
            ],
            [
             0.8888888888888888,
             "#fdca26"
            ],
            [
             1,
             "#f0f921"
            ]
           ]
          },
          "colorway": [
           "#636efa",
           "#EF553B",
           "#00cc96",
           "#ab63fa",
           "#FFA15A",
           "#19d3f3",
           "#FF6692",
           "#B6E880",
           "#FF97FF",
           "#FECB52"
          ],
          "font": {
           "color": "#2a3f5f"
          },
          "geo": {
           "bgcolor": "white",
           "lakecolor": "white",
           "landcolor": "#E5ECF6",
           "showlakes": true,
           "showland": true,
           "subunitcolor": "white"
          },
          "hoverlabel": {
           "align": "left"
          },
          "hovermode": "closest",
          "mapbox": {
           "style": "light"
          },
          "paper_bgcolor": "white",
          "plot_bgcolor": "#E5ECF6",
          "polar": {
           "angularaxis": {
            "gridcolor": "white",
            "linecolor": "white",
            "ticks": ""
           },
           "bgcolor": "#E5ECF6",
           "radialaxis": {
            "gridcolor": "white",
            "linecolor": "white",
            "ticks": ""
           }
          },
          "scene": {
           "xaxis": {
            "backgroundcolor": "#E5ECF6",
            "gridcolor": "white",
            "gridwidth": 2,
            "linecolor": "white",
            "showbackground": true,
            "ticks": "",
            "zerolinecolor": "white"
           },
           "yaxis": {
            "backgroundcolor": "#E5ECF6",
            "gridcolor": "white",
            "gridwidth": 2,
            "linecolor": "white",
            "showbackground": true,
            "ticks": "",
            "zerolinecolor": "white"
           },
           "zaxis": {
            "backgroundcolor": "#E5ECF6",
            "gridcolor": "white",
            "gridwidth": 2,
            "linecolor": "white",
            "showbackground": true,
            "ticks": "",
            "zerolinecolor": "white"
           }
          },
          "shapedefaults": {
           "line": {
            "color": "#2a3f5f"
           }
          },
          "ternary": {
           "aaxis": {
            "gridcolor": "white",
            "linecolor": "white",
            "ticks": ""
           },
           "baxis": {
            "gridcolor": "white",
            "linecolor": "white",
            "ticks": ""
           },
           "bgcolor": "#E5ECF6",
           "caxis": {
            "gridcolor": "white",
            "linecolor": "white",
            "ticks": ""
           }
          },
          "title": {
           "x": 0.05
          },
          "xaxis": {
           "automargin": true,
           "gridcolor": "white",
           "linecolor": "white",
           "ticks": "",
           "title": {
            "standoff": 15
           },
           "zerolinecolor": "white",
           "zerolinewidth": 2
          },
          "yaxis": {
           "automargin": true,
           "gridcolor": "white",
           "linecolor": "white",
           "ticks": "",
           "title": {
            "standoff": 15
           },
           "zerolinecolor": "white",
           "zerolinewidth": 2
          }
         }
        }
       }
      }
     },
     "metadata": {},
     "output_type": "display_data"
    }
   ],
   "source": [
    "n1 = np.random.randn(1000)\n",
    "n2 = np.random.randn(1000) + 1 \n",
    "\n",
    "fig = go.Figure(data=[go.Histogram(y=n1)])\n",
    "fig.show()"
   ]
  },
  {
   "cell_type": "code",
   "execution_count": 33,
   "metadata": {},
   "outputs": [
    {
     "data": {
      "application/vnd.plotly.v1+json": {
       "config": {
        "plotlyServerURL": "https://plot.ly"
       },
       "data": [
        {
         "opacity": 0.7,
         "type": "histogram",
         "x": [
          -1.0481278524505033,
          0.8287384308179823,
          -0.3979873180932594,
          -0.45581854598158855,
          -0.6989568248715256,
          1.2397219030958013,
          0.5304999973675413,
          0.7584006809353052,
          -1.352449421669454,
          0.9105994028892075,
          -0.3146135457217202,
          0.28112758076908767,
          0.19596424228544787,
          0.4935334074788573,
          -0.4012956767540131,
          -2.353668743378184,
          0.6984010515198812,
          -0.020641286428613025,
          1.0019192243844113,
          -0.3206927614144954,
          1.1665817092736304,
          -1.5937113297859646,
          -1.5128486141417141,
          -0.8767817762822573,
          -1.0675207964958984,
          0.6324719966005344,
          -0.7411170685207581,
          -0.7532158640537826,
          0.8950044990762569,
          -0.24518097506170533,
          1.6241729586416727,
          -0.7951173395537706,
          0.05797210311746058,
          0.6290893835860042,
          2.4913506077003165,
          1.0197955387450595,
          0.466000393201028,
          -0.6458390507295624,
          1.0760612598641075,
          -2.0288977582816745,
          0.07738187709816989,
          -0.026519381824686564,
          -0.5707118356606999,
          0.291061478130548,
          -0.6596962458403687,
          1.0438499008816637,
          -2.146794794481073,
          -1.0644746522356796,
          -0.0976106132983066,
          1.256051133384363,
          0.027411053906381124,
          2.0985949370136514,
          0.670064321720626,
          1.8080310573616498,
          -1.8147513162008473,
          0.2902556660061501,
          1.1930313104730736,
          1.6053791706889113,
          -1.340013238701999,
          -0.1786296443571832,
          0.9034227859629759,
          0.5251975499529816,
          0.7247680322364825,
          -0.708090708364972,
          0.25730643079226545,
          0.446529706786693,
          -1.2934950768027194,
          1.0053497344746316,
          0.5673990896051856,
          1.0408422793019407,
          -1.1317098914813295,
          -1.0285699086552211,
          0.12367984886630828,
          1.3414279889921294,
          -1.6336125453800163,
          0.1080805241096625,
          2.014408559826338,
          1.658841885305958,
          0.7368395499049484,
          -0.005541156644548743,
          -1.1706396350498376,
          -1.0752656078213716,
          -0.21085702622385472,
          -0.4125176558315054,
          -1.9492107262839955,
          0.598933776114234,
          0.5961549195295863,
          0.01547121186638872,
          -0.48881530190139716,
          0.19202439608128088,
          -0.33038946852872236,
          0.4274475564398668,
          -0.2967341457820979,
          0.29075004905287205,
          0.8487690539213704,
          0.6934048330023095,
          0.050880427334112265,
          2.162996617988915,
          0.7910926821759915,
          -3.0348026689760412,
          0.3553722661023333,
          -1.1660918620992178,
          -0.6700090883921292,
          0.24734242000627865,
          -0.3306846806591964,
          0.027427003334888865,
          0.0034320386865152337,
          -1.0726982620240977,
          -1.3912606653512098,
          0.8309829537003641,
          -1.725787106400472,
          -1.1769532903699345,
          -0.7282248904257632,
          1.1182100479901835,
          -0.1682360042550365,
          0.1234404366668646,
          0.7930703288184332,
          -1.052102475935429,
          0.24863178340121006,
          0.6579262730221491,
          -0.629764701093676,
          0.898695809411111,
          1.9650132697276839,
          -1.2019471393770444,
          -1.166228358756408,
          0.49264457030696596,
          0.3507190754817768,
          -1.1435086063449529,
          -1.6729217450240905,
          0.04905038859776211,
          -0.664360626367652,
          0.8105960071344002,
          -1.5413150320385338,
          -1.195259861631151,
          0.4031792939879739,
          -0.4942996231943083,
          -0.027891274270047648,
          -1.401171085183534,
          -0.3316720586831255,
          -0.6720028762646435,
          0.04740373250838496,
          -1.0325029185413803,
          -1.1591795096935458,
          0.6470137657000512,
          -0.005450986100554101,
          0.7075068277045631,
          -0.26375280574196786,
          -1.8855422199937029,
          -1.4477562310678531,
          -0.3394544127404813,
          -0.12186894416887806,
          0.051856226715466094,
          -0.42269736634399413,
          -0.25312230960030524,
          -0.6024108320760038,
          0.07524314261914307,
          -0.9376460005416153,
          -0.6134164928733893,
          0.1911288574883624,
          1.1064368064536347,
          1.894669749619205,
          -0.6234277796161241,
          -1.0269394915801646,
          -0.4342671206517514,
          0.10831421953255098,
          0.8292093382575313,
          0.7702818558688914,
          1.727008706203484,
          1.3124757717076636,
          0.0029400254838769305,
          -0.9184500547184855,
          -0.46568514016753765,
          -0.46767322081853396,
          0.31436716217712396,
          -0.4658744986741979,
          -2.0019017695932018,
          -0.04006650467137647,
          -1.2568645896905126,
          0.7648300568902099,
          -0.6407418871355273,
          -0.7537170916749207,
          -1.7064852654202574,
          -1.0039718659379988,
          0.5220464650431736,
          -0.41804948973784684,
          1.95268962568097,
          0.11536024182167298,
          -0.8811384992522462,
          -0.22660827442049397,
          -0.38425865733458736,
          -1.15338502182539,
          -1.7588800039520678,
          0.9584933970072305,
          -1.295094704017377,
          1.2646346469304834,
          1.7350296328805723,
          0.5431305620334135,
          -0.39810995562006296,
          3.2485232418321472,
          -0.8963615524846973,
          -0.6834555030745655,
          0.1918195560955902,
          0.09485941439844492,
          0.2559330411606666,
          -0.4989759459930875,
          -0.13173321635293916,
          -0.20166375285786178,
          -0.6873992752443991,
          1.235482148150005,
          -1.3021825940280305,
          -0.6848488540045247,
          0.7529687044463926,
          -0.22968437873805367,
          -0.45921913579482,
          0.001292504452922446,
          -0.20998171841513885,
          -1.0420133857687344,
          1.5446433927423948,
          2.062744005866237,
          0.3825652413651937,
          -0.6546628001813317,
          1.6823117917919599,
          -0.0026498837194770496,
          -0.8102554773407696,
          -0.13750479822096973,
          -1.1693359903533664,
          -0.8080539449782584,
          -0.24822376163604587,
          1.0021146219676025,
          0.3754902791307722,
          -0.42321370922646323,
          1.6206136217951994,
          0.0003803856279145174,
          -0.34053038627216664,
          0.4652613940670084,
          0.2493433182114157,
          -0.9526485824992185,
          -0.8904522137831917,
          1.153427616386712,
          -0.28202798400606305,
          -1.4714989124352331,
          -1.1393831740331415,
          -0.49532100554450914,
          0.6082945392459901,
          -0.18795299824261283,
          0.7636785538922635,
          0.6167611490265592,
          -0.6787676887445392,
          -0.7658880173099003,
          -1.030869124780886,
          -0.5913575163359506,
          1.0154770232754278,
          -0.027279284016350148,
          1.105561964386081,
          -2.05831865732214,
          1.017398590341418,
          -2.323096871944394,
          0.9837903364448247,
          -0.7390029242653489,
          0.3440341148221086,
          0.5789777935724243,
          -0.6119875509720838,
          -0.639663734048454,
          0.09272922788337788,
          4.257370442378257,
          0.4677944712406311,
          0.1081184516149046,
          2.1385473545620868,
          -0.6470577980348646,
          1.7822495020749176,
          -1.0462593997725331,
          0.21031825890358208,
          0.42506942156577276,
          -0.48295280193607726,
          2.7463415173846317,
          -0.6367867876710269,
          0.1356505802857776,
          0.9596695170494286,
          -1.390977313119965,
          -0.9377895697222445,
          -0.9788223408893421,
          -0.052600882222219016,
          1.6612028216416834,
          0.3707249451269379,
          -0.7068924237727419,
          -0.8015646523600356,
          -0.13576686816134037,
          -0.47806015074052954,
          -0.42659925905426116,
          -1.0445712475879143,
          0.5791459927794433,
          0.07333989146871975,
          -0.7344894435778839,
          1.155630698166786,
          -0.31601421369642274,
          -0.07748822676418447,
          -0.007986665077013923,
          1.7373125652994457,
          0.035254026684055584,
          1.1823507266117166,
          1.357564618921279,
          0.8690251664142723,
          1.4810302209571609,
          -1.1499620005169382,
          0.11297115311406664,
          0.9240370327167682,
          -0.4449240387120449,
          0.752384867459226,
          0.8580222853248681,
          1.0467227229725764,
          0.8369550871469987,
          0.07292563584526993,
          1.5433223033243502,
          -1.194415133912321,
          -0.39629840430164287,
          -0.22499185464425253,
          0.3378721702016866,
          -0.18935077367246025,
          -0.839402489260127,
          -1.3574795845893755,
          0.2312753349843157,
          -0.9056679920535271,
          -1.1769397272357278,
          0.06521571583623402,
          1.0437185457306857,
          0.7557603398473346,
          -0.3824530982355497,
          -0.956539343973609,
          -0.21420008073656518,
          1.4625696877026617,
          0.14170591912161273,
          1.9298130181369706,
          -0.8641888697712059,
          -0.002555073334186696,
          -0.8796667264587501,
          1.1162563870003153,
          0.8300900240061434,
          0.49271087496289884,
          -0.8666853817539887,
          0.41786025261562576,
          1.5420273051184752,
          1.0401021644423507,
          -1.0235952484177313,
          0.9228360670837021,
          -0.16673522065192234,
          1.2476932529720093,
          0.6767860390218365,
          0.8708318945333816,
          0.33700873531342235,
          0.456346297484282,
          -0.5993681497609259,
          -0.7994103782910618,
          -0.4691543666955389,
          -1.4836026406030522,
          -0.6647445211007896,
          0.019867562071414893,
          -1.0290088431451974,
          0.569743456656544,
          0.5649679796121437,
          -1.1034365989482617,
          1.798404821330884,
          -1.151599676018488,
          -1.2194642534920115,
          0.5990444592723647,
          -1.5419890497706599,
          -1.0239545461035822,
          -0.6267913035175027,
          0.6799911129598868,
          0.8417285063567714,
          -0.3240864735409047,
          0.0769226907782506,
          0.38787932519975954,
          -0.4942586549841261,
          -1.5535765951649978,
          -0.5545777028087132,
          -0.10256713684918926,
          0.9937621147328933,
          -1.3668673989041022,
          -1.127928907890876,
          0.9509722190376145,
          0.4955922915818332,
          0.05857010046559886,
          0.40776879477599887,
          -0.34543844979417254,
          0.5820607093930494,
          -0.5145351619990143,
          0.1887395024114376,
          1.3588639040470456,
          -0.38546128330038054,
          -1.8292293000395807,
          -0.8971506396819534,
          -0.5993809234316331,
          0.010795292106621128,
          1.2146995070222206,
          2.6242110250673214,
          -0.1909392992880799,
          -0.42982398068352023,
          0.41713697109059067,
          0.3603391892156967,
          -0.9719260259819736,
          0.39258081198737754,
          -0.8640883800689931,
          -0.31416894778095994,
          -1.3273332158136384,
          -1.0317181806872533,
          1.3984609175472076,
          -0.7677689924855053,
          -1.2791304023351733,
          -0.5384287095619501,
          0.8182033810685228,
          0.45487512678243164,
          2.2849825984449943,
          -0.2422423639527482,
          0.08302320547622448,
          -0.7867620668632392,
          0.6700899950709812,
          -0.44682643618299106,
          0.5653273556105161,
          1.5052725005512386,
          1.6812523035379088,
          -0.4230571455383196,
          0.17566218686572727,
          -1.0264061373971762,
          -0.23134658575809083,
          0.27081857428453027,
          -0.7693860433561022,
          0.3092806890742895,
          -2.4936686299873543,
          0.679787794829417,
          -2.230244537071658,
          0.2380616561457542,
          0.13008007565692328,
          0.239625763338947,
          -0.25586580303091233,
          1.5833731461758815,
          -1.254866970626389,
          1.2764427950447186,
          -0.004031721343450047,
          0.5382438065133185,
          -1.6941049515801456,
          0.4408644738982496,
          1.682328091183741,
          -0.8881790578030991,
          0.3945204628327891,
          -0.8534096691075137,
          1.4652347775244534,
          1.1674967435782282,
          0.5445031983230861,
          0.9794690347384378,
          0.2620213746204884,
          -0.2559704500679918,
          -1.639740794553076,
          -0.20791058270776808,
          0.8190639841040969,
          0.30889763117220015,
          -0.06167781009221638,
          0.6210934073149357,
          -0.3274301746971198,
          -0.23799204632546261,
          -0.2778409298995661,
          0.11792358043625245,
          -1.316665973551431,
          0.8572692908224744,
          0.11848411325191696,
          -0.2719169214414792,
          -1.181633060927877,
          0.9990731087718959,
          -0.6866479756035369,
          1.2530137780056712,
          -0.20185850760492852,
          0.7127279991591433,
          0.05675227507831345,
          0.909136190449833,
          -1.6312291344808174,
          0.10051722259381711,
          0.7980723627040669,
          -0.14939440794665368,
          0.8013443888202214,
          -1.1078472124482672,
          1.346745608773221,
          0.18546550431541492,
          0.3865729858618036,
          -0.710739807186454,
          1.451684718322566,
          0.16039256208508615,
          -0.46274971205506926,
          1.7393271139615951,
          0.9549518109831935,
          -0.9336783569666568,
          1.1777205480123372,
          0.09005569930437694,
          -0.46119596876490215,
          -1.0601940438389739,
          -0.5911043944937734,
          0.4394801296711491,
          -1.0052232691271012,
          -0.8751672960350863,
          -0.48825852504338835,
          0.9587881564286426,
          1.5594966621636763,
          0.04061487233413402,
          1.6351176396320766,
          1.3400354478459426,
          1.7935577660610282,
          -1.170069929619832,
          -0.6940725701600592,
          -0.5531458097634024,
          -1.4033636841920383,
          0.8400882464876412,
          -0.5685502455765783,
          -1.5983765396034142,
          1.17558884813661,
          -0.06818866919985152,
          -0.7280754841391158,
          -1.3457520454325196,
          -0.8850803638026642,
          -0.7436641204820383,
          0.6232815586051513,
          0.21638557685934484,
          -0.5264205768655562,
          -0.0855398650343502,
          0.02914209717185416,
          -0.16850740140681225,
          -2.2562433578525343,
          -0.1523732531881437,
          0.2289483381041959,
          1.153489979139695,
          0.45109855197842946,
          0.3810364964326619,
          1.6126422005039867,
          -1.0756607570895977,
          0.9162008649751535,
          -0.9859393168253143,
          0.40055351445157067,
          -1.1342966174687508,
          0.43461963161380374,
          -0.7994788593611619,
          0.5307366249398507,
          -0.5395951357354839,
          -0.9415328806704861,
          0.17047446457696416,
          -0.14650707197322463,
          1.2169810710506044,
          -0.21281071372858193,
          -0.8706252724329766,
          0.29402858646072727,
          0.14808912332194948,
          0.18564221023754512,
          -0.2793296454903645,
          -0.22858948651702016,
          0.5411358615152323,
          -0.717120996223824,
          -0.4156347707867476,
          -0.3222105289792193,
          -0.8995597844011198,
          0.29744940669427,
          -0.23909194926232522,
          -0.9520924311607698,
          -1.3084046833934266,
          0.5329247708994898,
          0.4539769720241603,
          -0.8244635822215397,
          -0.36447855520937905,
          0.5190998908932384,
          0.739801924459477,
          0.3791332965542098,
          0.6645746330960488,
          -0.7060105815510425,
          0.45641731643648303,
          -2.213885132923987,
          -1.9435298925026827,
          -1.1614608639650825,
          -0.6516897368002422,
          -1.2700792234457552,
          0.9134882006672832,
          -2.235913062805232,
          -0.6079184820655544,
          0.35171867222826303,
          0.6089934964457054,
          0.3230605828510772,
          0.4169258696618775,
          1.6368751018557404,
          -0.9238209417933743,
          -0.8455106351444909,
          0.23247156531204619,
          0.03186027502911261,
          -1.7515726995098932,
          0.7631564107507468,
          0.9817433329704292,
          -0.610578797886324,
          -0.5193925713310978,
          0.25978200430115106,
          -1.548734558538298,
          -1.3997523413470998,
          -2.213442965191796,
          -0.9188147116028292,
          0.7027322021517934,
          1.7183830091159642,
          2.1249457090883674,
          -1.0708163394752466,
          -0.44909477738764036,
          -0.11242741184232354,
          0.10405833263648685,
          0.5367596623099171,
          0.6571892767870586,
          0.4764499882673811,
          1.1485915649219054,
          -1.2168210246314646,
          -0.5361742201851991,
          0.0117411000585375,
          -0.2318819378428184,
          -1.8216876239037567,
          -0.7898078622481696,
          1.2067155166237662,
          0.795240540734999,
          -0.010724813552183743,
          -1.2914534450581108,
          -0.2187680523088197,
          -1.6061189355640937,
          -2.5673028674047815,
          -0.7398806343148646,
          -0.4345700403214648,
          -0.23042694874634345,
          1.2555306075684742,
          0.20140135784820623,
          0.6096789936234271,
          0.22411943923007605,
          1.6049827310166098,
          0.316231356084818,
          0.21814395377331466,
          -1.3681655563499544,
          -1.1449228569697696,
          0.653659255207034,
          1.4858720481264633,
          -0.07861831616631368,
          -0.37162085625481284,
          -0.5846281515207372,
          -0.22126740506398088,
          -2.8877096147561545,
          -1.782559266905974,
          -0.7899746895964312,
          -1.5301207747905967,
          1.0543854611349173,
          0.22010234487509808,
          -0.3463161747681187,
          -0.5920531816842218,
          -0.04797731958680567,
          -1.9414893493986747,
          0.1752365634072997,
          -0.1881287713330673,
          -0.8142866838227583,
          1.232696558676454,
          -0.3265836235183876,
          0.14559942229911257,
          -1.587520860810972,
          0.2572810757667844,
          -1.0508527060004422,
          -0.4528224107117466,
          0.30967760628078694,
          -2.064589886225614,
          0.6377191989596468,
          -1.3953352911536043,
          -0.2653013010338927,
          -1.1406888107118094,
          -1.4124010802467903,
          -1.6833029387403866,
          -0.8629792699485521,
          -0.8149725710304878,
          0.1591912719437347,
          0.5903169064588154,
          0.3218227255782412,
          -1.1448994813722257,
          -0.2029861494407442,
          1.7204559461108115,
          0.3922553358340104,
          0.06092999638838267,
          -1.9892443838590854,
          0.08998973580583168,
          -2.6460285436755764,
          0.9172983736153523,
          -0.33444324806222897,
          0.7201064250635992,
          1.1892160409193604,
          -0.4214628267340309,
          0.8154334930835365,
          1.1642257245856757,
          -1.059023384676022,
          1.5448399493362395,
          0.0006224783290376984,
          -0.7167668778508551,
          1.6174315554355931,
          0.1546881022942746,
          -1.2477993686027704,
          1.1285686290299817,
          0.6382572769923293,
          -0.5285327356872228,
          -0.7353462587050024,
          -0.6220891108686898,
          -0.8210125506128299,
          0.3666865099763791,
          -0.11246632443008148,
          -1.844844856895621,
          1.6456659951335795,
          -0.018556570417836798,
          1.4328445050127572,
          -0.3956206027100538,
          -0.9290634411635786,
          1.8569264150703133,
          1.1449250543417124,
          -0.9904158890678607,
          1.3530634952367993,
          0.012050848651802181,
          -0.053698360901682105,
          0.8841000356861212,
          -0.8032126827786444,
          1.8857384891011204,
          -2.4419123420784214,
          0.9300519709885846,
          -0.7873646064085008,
          0.11340067973807773,
          1.239429960455111,
          0.7004161515478093,
          -0.1773304259866671,
          0.027704123072656118,
          -0.652434896448744,
          -1.8423619306405028,
          1.6245648688486993,
          1.1605053063096673,
          -0.7796586908500592,
          -0.4605392915158471,
          -0.8646846968173765,
          0.5857232794982725,
          -0.6164816962036385,
          2.0660604707626384,
          1.5244483088045249,
          0.5758663698861977,
          -0.7446886095328559,
          -0.30668475899126235,
          1.0656472809194704,
          0.5270346714237962,
          1.0193736846170258,
          0.2740716294829112,
          0.4396219814019788,
          -1.5290627744517469,
          -1.4021186652930149,
          -2.3179038337534252,
          -0.12657980870806576,
          2.195528561433639,
          0.8677295360288668,
          2.1451404929535514,
          1.0821106931301783,
          -0.9027196644535355,
          -1.1229444952998977,
          -0.10665911111195789,
          -0.2590295303807849,
          1.749818218779084,
          -0.782612749982085,
          -0.8064929410269374,
          0.19347456813318267,
          -0.09404663461567786,
          -1.3498901633621059,
          0.26493534848286776,
          0.6996734404079654,
          0.39502942961784393,
          1.5502376372116213,
          -0.9769264133437194,
          -0.37282802207892723,
          0.2997795252833875,
          -1.8467367956226806,
          1.0229520853254916,
          -1.4484004131463593,
          0.5698240236460671,
          0.025328936984401435,
          0.3443827966133403,
          -0.4077375541135337,
          -0.7942317209841919,
          0.48862321663870245,
          1.955786522013922,
          0.4522772132488294,
          -0.4597666459248189,
          0.6286695284199592,
          0.8482886363044473,
          -1.586400335072009,
          -0.7688865850890575,
          0.5706426820630267,
          0.5003432641580454,
          -0.18319135273265638,
          0.002763848639260432,
          -0.3979855406420983,
          -3.2314253221521696,
          -0.01991382126810735,
          1.3929729534073778,
          1.665323650683313,
          1.5733450538956204,
          0.5276760281574876,
          -0.6215067851366523,
          0.3545087038794528,
          0.8631068530666777,
          0.27930316976744807,
          0.4699182115989656,
          1.1449499800179794,
          2.2431748379284264,
          -0.7761187627938184,
          0.6144093411807697,
          0.16568135789421268,
          -1.0295358949362552,
          0.6895919096386627,
          -0.5690619904200815,
          0.3232942292036759,
          -0.3254930075617849,
          -1.3797219380396837,
          0.8416410624258452,
          0.21284061645352143,
          0.12176672476419037,
          0.39393762405727273,
          0.9003712123374815,
          1.1065756981737356,
          -0.4887351743995273,
          0.7057962509478977,
          -0.2933229018426001,
          -1.3224650385293915,
          -0.3027710887999857,
          -0.44369593225807014,
          -0.05861831192153345,
          1.1645053341157345,
          -0.03911618681237397,
          -1.3950162657395226,
          0.7464110420424187,
          0.45187750547068223,
          -0.11913282220098528,
          -1.08990283410638,
          0.7154637754448879,
          -1.4189458904719052,
          -0.22035497138855595,
          -2.4412229756661423,
          -0.9399690455814592,
          -1.5319564215557764,
          -1.3994815849260707,
          -0.606893087185052,
          0.7844289423029317,
          0.3444383432183116,
          -0.30356940311063907,
          1.3067551927768715,
          -0.20072400057557208,
          -0.48368195596359626,
          0.38939023705568604,
          -1.8159499949853668,
          0.32796778860052894,
          -1.6107468865283925,
          0.5164944907449199,
          -2.630297233483912,
          -0.12316807837144644,
          -0.012166714974734073,
          0.5391759603148457,
          -1.1863682140732237,
          0.10475550970788364,
          0.4609508560829906,
          0.0019691180322469917,
          -0.7921262835639649,
          -0.07012929797710367,
          1.1281833224900428,
          0.1292527112892166,
          0.41382060974524104,
          -0.19043951866634484,
          -0.9727852754957433,
          1.6879692432239,
          -1.3959975779410467,
          0.14312862057104397,
          -0.10055772841437915,
          -1.7535953523635344,
          1.784079391908261,
          -0.24343514318191367,
          0.3071492133407708,
          0.4610038900601026,
          -0.06449701472938886,
          0.811226623203454,
          1.4274923811142883,
          0.8367854554453359,
          -1.0923816054916957,
          1.377820311621637,
          -0.0878930856493476,
          -0.8025800691892083,
          -0.19708764027654022,
          0.31868265358978043,
          1.655288664208845,
          0.15660625827291227,
          -0.32199547240912774,
          -0.3723006067268777,
          0.08617472755150733,
          -0.8569096601511339,
          0.7701013637169153,
          -0.6767048470200244,
          -0.7960614245569163,
          -0.19921650907243388,
          -0.19035266837365622,
          -0.005288789922971835,
          -1.397608598823496,
          -0.8625552944611637,
          -0.355836672219636,
          -0.7987008184964286,
          1.6647897097130924,
          -0.5110313517717112,
          -0.5664788018680329,
          0.6787898604382228,
          1.2303806197472387,
          -0.5474668766986577,
          -0.9824664037611905,
          2.2420570672807805,
          0.06685786503734303,
          0.5836760993964587,
          0.4195894621828623,
          -0.3592767458355419,
          1.7948757344746247,
          0.8955795665093685,
          -0.3886584317981864,
          -1.4641037708248037,
          -1.185871617705591,
          -1.34911612706198,
          0.1123176752474164,
          -1.1704154258938118,
          0.7499868677967598,
          -0.9311748829488617,
          -0.01898516445888879,
          1.8579111144164338,
          0.6401523377784464,
          -0.33497155429284836,
          -0.49913563228345426,
          0.2396597972770739,
          -0.19908615368219457,
          0.5269767529864928,
          -1.752124540143589,
          -0.12191445807150673,
          0.6516474214853966,
          -0.7518211282580582,
          -0.9034095201570419,
          0.11187820640891318,
          1.6271560340165232,
          0.6315992524313776,
          -1.1860312137950697,
          0.6955167143407162,
          0.08596914437424678,
          0.09499225928200916,
          1.156863371025463,
          -0.7542688373027863,
          -0.1951331385359888,
          0.8952507799355436,
          2.1958665468408656,
          -0.09704628508323772,
          -2.2027894105395736,
          0.1355706658825786,
          1.4737903944544561,
          -0.6926352447578071,
          0.9884917161313159,
          0.6292626566398326,
          0.05688922662937304,
          0.24611187989745428,
          -1.3029146555711986,
          -0.4982396622283778,
          1.4638633691785874,
          -0.21393526100712035,
          -0.6963014581931691,
          2.2684881657828386,
          0.943137809555268,
          -1.350010347439871,
          1.9411115732017357,
          1.1743943684793976,
          1.4158577016885203,
          0.5109607678474923,
          0.9581182903775051,
          -0.9679205921409175,
          -1.6407231452705497,
          0.10219777889168273,
          1.3581745260244193,
          0.8508408392570718,
          0.3094815860763634,
          0.34336519111105046,
          -0.5497975603349757,
          0.29782769769828343,
          1.9110961225926222,
          -0.3070990618394839,
          0.26035395879797507,
          1.1093143165159314,
          -1.9058378382389947,
          0.5454535312309161,
          -0.9349101023780149,
          0.40895266955247145,
          0.5570612360342074,
          -0.5764276821266361,
          -0.22476711151245807,
          -0.5639881429762019,
          -0.03603708284968131,
          -0.2463857044895908,
          0.6245045281110144,
          0.8555164928802641,
          1.1988953976408492,
          -0.5723976656240777,
          -1.5748027636843698,
          0.9167061250215789,
          0.544104248470251,
          0.2968935498590446
         ]
        },
        {
         "opacity": 0.7,
         "type": "histogram",
         "x": [
          -1.1191055433898809,
          0.9659561289669472,
          0.8795156350898643,
          1.4701955608371318,
          1.116039092793059,
          2.4094634732940934,
          0.7203839823084406,
          1.4104991614291327,
          -0.20115413688566797,
          -1.5149744101261673,
          0.15728128467189617,
          0.3770397042760685,
          -0.013510654428535718,
          1.6277742719436972,
          0.7587691381278661,
          -1.4341617165748102,
          1.0933483480379869,
          0.9596250830567551,
          0.8011296929065373,
          0.09964947577454064,
          -0.658897705182808,
          2.6707411097556366,
          -0.836752845183365,
          2.1191558235440975,
          1.8304807752947707,
          0.48823008145764357,
          1.2390889516920496,
          2.5461382874404705,
          0.35853598522761454,
          0.9571642588950586,
          1.4713533973121804,
          0.5083210291174225,
          0.039686801655995696,
          1.2305989800434483,
          2.2070008164649852,
          2.4736545887078627,
          -0.5216124050147195,
          2.288186312801585,
          0.4701829554595448,
          1.7556705755141329,
          1.6231343322353544,
          -0.1993992191845606,
          1.4288815624682545,
          0.9773311805333507,
          2.196910236436088,
          0.2989105254596761,
          -1.160184393316876,
          0.711760351156368,
          1.431319890895667,
          -0.0818647192974511,
          0.6657516722182708,
          1.7113748365974755,
          0.04493439128296317,
          0.6117393053374989,
          0.51412948003308,
          1.5964312786915438,
          -0.43941585981088793,
          1.383717103687483,
          0.48455048684755553,
          0.24083618219891545,
          1.295403182915349,
          1.524230630310829,
          3.180943138972327,
          0.6918700571315792,
          -0.13786496921733415,
          -1.5190571618108453,
          -0.7968059384138826,
          1.299680658715621,
          0.8079131909560817,
          0.05975455900053006,
          -0.16188867537456586,
          0.6192676156622295,
          0.8888822196739568,
          0.6101328942478763,
          2.632924943963454,
          0.8429981802006646,
          0.8345083538382254,
          1.375185886861166,
          2.327089486038868,
          0.006516098200986531,
          -0.42067929333665766,
          2.2217222171704667,
          0.4693450037777772,
          0.8999305146315368,
          2.146250175837667,
          0.15439165225474394,
          1.8231571443169465,
          0.358357147411521,
          -1.3347535299952096,
          1.6714853415732152,
          -0.7453642937414593,
          0.7334930280026044,
          1.3668673547365453,
          0.7275139715522652,
          1.483699258523079,
          -0.05136067251396992,
          0.0862029739774387,
          -0.35393702195183696,
          0.35325944764510075,
          1.9260810742200907,
          2.190153787931469,
          0.8256811261009313,
          1.0983065618661954,
          1.97542870019209,
          2.1342024128692136,
          -1.8977565683065718,
          2.426466609649282,
          -0.5308483629609524,
          1.3587298584173446,
          0.9498843657125525,
          -0.45231303729970085,
          1.1945529596687332,
          0.35217739706271833,
          1.6537819821019055,
          0.7852147198706506,
          1.6231947868119279,
          1.119395061990429,
          -1.4959215396168122,
          0.29014414189494353,
          1.4572576660426415,
          -0.3409770422814915,
          0.2990114670984394,
          -1.6869151048807565,
          0.96083331421608,
          0.8362384097516659,
          2.8358422361847864,
          1.691568700208465,
          0.6764791292440415,
          0.9157918034950105,
          1.4349044445297647,
          -0.07750553826999074,
          0.5928283737467743,
          -0.5061180799803038,
          0.5465725081277154,
          1.9295468255533192,
          0.7144726598586755,
          3.0952261700459713,
          0.7415811011880545,
          2.931079230230686,
          1.5026983658014395,
          0.2949562024763861,
          1.0808750201609851,
          -1.9605205586672585,
          1.9348058812204925,
          0.8290631991328072,
          0.48602303085520837,
          1.6013584195015276,
          0.9962529254828669,
          0.4190215069302792,
          1.0844140828265707,
          0.960814673186405,
          1.6346971172450435,
          -0.24271165646129833,
          2.16875063929695,
          0.8656481799091733,
          1.295552948775535,
          0.950761355998513,
          -0.07819359853766739,
          0.6589935590557612,
          0.3990641661467089,
          1.4192880206076253,
          0.9014695526759151,
          0.874057708424619,
          1.3302789397595016,
          1.5648596934801917,
          -0.05726168449971247,
          0.8126039410994518,
          1.1032806543222915,
          -0.1905021861720222,
          0.9967989931360892,
          0.3849488278654174,
          0.5008538301765841,
          1.0924508165249183,
          0.8256968611741546,
          1.3246812462009363,
          -0.4399991483520542,
          0.35066156574924623,
          1.2553710709855144,
          1.6695512126320198,
          0.7203488337321473,
          0.7871455691043846,
          1.3184827654530165,
          0.9468394285250996,
          2.2897217069862394,
          3.2461972440769706,
          -0.26862277457880146,
          1.1621746386617406,
          1.022069045350546,
          1.6987916552641882,
          0.7910464693061343,
          1.1937944178716264,
          1.5553789753744913,
          0.5271296329552706,
          1.581522615998421,
          0.34928492268608,
          2.4079326135592103,
          0.5150369436773138,
          2.0542655011525746,
          1.0981036212782889,
          0.6209113437693425,
          0.8547308093916705,
          0.7625821780350985,
          1.0032541312524892,
          1.9196448961154262,
          1.047906172338983,
          -0.2885932064156338,
          -0.8057205840525528,
          1.551171635113661,
          0.3121549481822802,
          0.34299994010138546,
          0.7948754269910691,
          0.5976401815543328,
          2.7473081214069057,
          0.5446116497780156,
          0.8412018357529318,
          1.502545620867396,
          0.45602072354455214,
          1.794497623490804,
          -0.026883180199858803,
          1.5326590765360235,
          2.266928613021567,
          -0.8022827478976098,
          1.1889529922433286,
          0.2616537883409613,
          2.5021269523526533,
          0.7771360522483496,
          0.7280940702792826,
          -0.12706699873852778,
          0.7060085134552823,
          1.7037928736379762,
          1.2596207842696925,
          1.5953186260391001,
          0.48841565427185185,
          2.0447365210065342,
          1.1987327265132972,
          1.219430631299418,
          0.7462520432436656,
          0.03530478617920296,
          2.5068601610527077,
          1.1119319268586019,
          0.6620766468167858,
          -0.40282800108978645,
          0.9399550387576328,
          0.10989591054221648,
          0.36822794476768883,
          -0.07208911466812218,
          0.6916314253300933,
          1.2781757632972115,
          2.706662681108063,
          1.3873469502917004,
          -0.7395668350205815,
          -0.0879044736875012,
          1.4148256397262413,
          -0.18319092369371126,
          0.6970439361510434,
          1.0532721534368052,
          0.7265720412036506,
          1.35006693525844,
          0.9169254898643443,
          1.9915517466147012,
          1.9368404032404882,
          -0.2576265119369485,
          1.0736095830913097,
          2.1888274318528955,
          1.0409620038910272,
          0.9056410602261206,
          0.5302311015559492,
          -0.7312808818157797,
          1.0189918498120027,
          1.196984361801529,
          0.21038458451283248,
          1.7725993085101721,
          0.8286665450872873,
          0.14417422940622715,
          2.154540774164081,
          -1.3996425313142642,
          0.35359240754556587,
          1.1176046514712976,
          -0.7465521574956813,
          -0.5762883707461319,
          1.6625687468995256,
          2.64405535806402,
          -0.7943356503057024,
          2.3558789588973186,
          2.7839408038479525,
          0.6932511943812427,
          1.9152241340882674,
          1.376260910227513,
          2.316664636262873,
          1.0337103739686344,
          1.5471422583969334,
          0.6722177357422606,
          2.5099705016349887,
          0.8858061265337691,
          0.08257089692145203,
          -0.6529122266646656,
          1.2446834969550835,
          0.40308178461410993,
          1.0671974444457275,
          -0.2824395024543356,
          2.1850841812934214,
          1.3015566354717325,
          1.9334941977598539,
          2.3756296567485387,
          1.9892876951711003,
          0.17548594446704702,
          0.6676423598749102,
          0.5619856838905577,
          1.7901185685014767,
          0.9567626448127227,
          0.7287775898782922,
          2.401848087997254,
          0.29197568656680206,
          0.49212474453188293,
          -0.43192603703850074,
          1.304514785579616,
          2.7094229219205954,
          2.550628220664967,
          0.23436731501252228,
          -0.21117999528761477,
          1.57351556589539,
          1.441724169631878,
          1.0813482471071907,
          1.9328986197129292,
          0.3391226292241646,
          0.7127969228552398,
          0.7915452776964219,
          1.0938035857461395,
          1.0795993103277448,
          0.8178953928918176,
          0.9469660177084693,
          1.3862315022968648,
          2.804266153315891,
          1.8968229084731965,
          0.09922334919990905,
          2.1104951302471404,
          2.3169377179663186,
          1.8158925214551322,
          3.8089160114851963,
          0.7189643236954271,
          1.6601197571727815,
          -0.7077860781530658,
          1.139844881233419,
          2.6547887311153513,
          1.040731957517947,
          2.460836039038705,
          0.20746676058953828,
          -0.055813332229911694,
          -0.04961960770466756,
          0.35076713818428595,
          -0.30171656726136153,
          0.1629446807623598,
          1.4790139202239054,
          1.6804349854153426,
          -0.4328292294788938,
          1.2593210684772047,
          0.6730021119984715,
          1.6323301561681367,
          1.5212367524879133,
          0.9098886055655626,
          2.2807293192244433,
          0.6339774404791265,
          1.4930026640420881,
          0.21461332346866058,
          1.3740502923355926,
          1.8138463719814615,
          0.03732424221150199,
          -0.14669462251575704,
          2.3468332638111016,
          0.8529978526118843,
          -0.7779128261190011,
          1.3348994231616853,
          -0.5970130811426044,
          0.5822090813110621,
          -0.9191151282435079,
          1.069081645178201,
          1.9976636392298437,
          -0.4759799074524049,
          1.54578592954814,
          1.8167174100164325,
          1.2894696505478844,
          0.42157976987962864,
          0.748951765971688,
          -0.5443784399885003,
          -0.8809869114713844,
          0.9025864228283391,
          1.8189060501044005,
          2.7533518317293364,
          2.0298598004335027,
          0.6850030832034514,
          0.41613542963765526,
          0.5709687974353074,
          -1.2436822308568103,
          1.9451040149366658,
          2.7474680531780007,
          1.3303045545790888,
          1.3644139985551709,
          3.9596133248379757,
          1.9655012949087864,
          0.8670565380038476,
          0.2269765684960131,
          1.176750171656422,
          0.9177636859557883,
          -0.2369499057955733,
          1.6667991441021646,
          1.7249036558083968,
          1.654552139170616,
          -0.5562925410323778,
          2.233199258077065,
          0.5888298571843369,
          0.9495113725217338,
          0.962853717595239,
          1.2288696367048269,
          2.5571453331695038,
          1.1189676067188061,
          0.06653662205910615,
          0.12316847530621744,
          1.1000399512750683,
          1.369667792146217,
          1.8097992329454151,
          -0.6381487704842896,
          0.9824882879608906,
          0.6483125067269278,
          1.8972280982096836,
          3.060818048088261,
          1.772913053812708,
          0.9415963353907332,
          1.9954915677218272,
          2.144971724961051,
          1.5840953865856595,
          0.06623775718199065,
          1.4008345715013917,
          0.08407595153521108,
          0.46728831964859296,
          -0.32257248548161943,
          1.2008275352680817,
          1.5606463656533576,
          0.13801408951160898,
          -0.5174469484373472,
          2.2769526131273032,
          -0.9411229702652586,
          2.7863516754278743,
          1.515130418482526,
          1.2137990794961733,
          1.5722457169814077,
          1.0013754326229933,
          0.9927798859892564,
          1.1871165698827617,
          0.04920851239838364,
          1.963819441684194,
          1.5161109464850946,
          -0.12921388852370264,
          1.867000847032876,
          2.8655206461300775,
          0.6106975322700792,
          -1.252650743911203,
          -0.7020350281561514,
          2.659849977259511,
          -0.5289514484552866,
          0.5899469433107766,
          1.689416272212624,
          1.473191887085433,
          -0.17621427528625278,
          4.515082111272868,
          0.8025370237972778,
          1.6898326097830394,
          0.8194265776634415,
          0.8610787955870489,
          1.1916466915742108,
          0.6903302380658788,
          2.216638069747545,
          2.0504429200816277,
          1.400488565049764,
          -0.18797124254242847,
          1.8335277933178356,
          1.1380999365744449,
          1.0398490308560653,
          1.0944094654847027,
          0.5271890289356814,
          1.6043108119023537,
          0.7872410494899063,
          1.8264277916034737,
          0.5457029308054064,
          -0.04006334412650814,
          -0.47425696971224784,
          0.5493074532950806,
          1.5933242299444912,
          2.546008068201884,
          0.9601976473350408,
          0.10290685357099383,
          0.4000205583375023,
          0.3368095266188882,
          1.0894419660998385,
          0.45970987556438014,
          0.9927806172212632,
          0.2594132569584132,
          0.3313662219892646,
          0.9414577762935771,
          0.5236999776731914,
          2.3436587223608583,
          1.00518820044975,
          1.4782980885487382,
          0.9305030106638174,
          0.5227010916389809,
          2.329630862832122,
          -0.3106540839829379,
          0.5043245917538481,
          0.9268140826400463,
          1.704147258630428,
          2.611854294777916,
          0.4940918191410125,
          0.7418695667978521,
          -0.15264560131074956,
          2.6040270289339,
          0.9855334630836039,
          0.11391641546910469,
          0.5708967758953607,
          1.8562181581871344,
          3.2910658139330002,
          1.8146176419976856,
          -0.21437777609752984,
          0.12971315306546283,
          0.9378308931565279,
          0.09074979600750799,
          1.4649089894184084,
          1.6532129037958174,
          1.1343401840181833,
          0.6665855482131238,
          -0.12542442967111755,
          -0.40956274651727465,
          2.002488244865683,
          1.1777637128580865,
          0.32626708598377574,
          1.2668616088732298,
          2.065138835718396,
          2.522344913900899,
          -0.5223102872387095,
          1.4244205872320783,
          -0.3222113359005674,
          0.8872917918655571,
          1.2120823000029093,
          1.4933660038378491,
          0.5550761023374883,
          1.6537484524581323,
          3.179637347216657,
          1.1639400964587665,
          -0.4678768671196414,
          0.5167881358340028,
          0.6697166192093562,
          2.011787245813797,
          1.324040671131886,
          1.364519693647068,
          1.350953837341506,
          2.902076602029413,
          1.6112551044227454,
          1.2357905437207561,
          3.3823490701253256,
          1.5997311068848736,
          1.5202358145127781,
          1.2062136753833754,
          -0.4155020236278395,
          1.0107338027259394,
          1.9152826476644194,
          1.2663189130992087,
          1.5369243642515737,
          0.37759687604030545,
          2.0297605047773164,
          2.7083703502008634,
          2.1776068195899425,
          0.5409327257632006,
          1.3489577018750463,
          1.255747660541137,
          2.7118920322073246,
          -0.7905804790097466,
          -0.49168537701772674,
          0.9641667344335134,
          -0.3048256328714851,
          0.8310932618241295,
          1.8011735880958688,
          2.3298376797400837,
          2.279874025583422,
          -1.5381447422420491,
          1.186234366259035,
          1.2197022702624642,
          1.2975705674624647,
          0.8368382254680999,
          0.5610639266440264,
          1.6234925838184355,
          -0.04256078223112114,
          0.35951174102399597,
          2.438008645331455,
          -0.7935094558441695,
          0.9712940759291169,
          2.111594364473115,
          0.9705817131987406,
          3.0537450033217177,
          0.7951766518180114,
          0.7989609937581934,
          1.7003246546448074,
          0.43799285662208787,
          -0.4272339607174849,
          0.36731741446103494,
          0.7053655308324138,
          2.247972692612837,
          1.002018841836759,
          0.5665258532826114,
          0.5545688711181169,
          0.7767552225962492,
          3.2392773341648606,
          1.7556778435289508,
          0.8014971124965937,
          0.12021958492376628,
          0.30032495829207106,
          -0.0800675374530817,
          2.7513522709885088,
          0.21712973509227207,
          0.8667065164083321,
          1.6308932363750817,
          0.5411811902587813,
          -0.08764631077957485,
          0.5098508036450498,
          0.30650481009052055,
          2.135100847637487,
          2.334878508371497,
          1.7983125775638802,
          2.0490435474756623,
          2.2324032726225385,
          0.5937170833880796,
          -0.949053578433555,
          2.4702942954477365,
          2.1213323204171024,
          0.9335343930664589,
          2.2030103257580476,
          -0.12582091825954733,
          1.9872509112539811,
          2.164483244537469,
          1.357634284187793,
          -0.2905526822693416,
          0.049922714893385955,
          1.639047664136938,
          1.4592274931407083,
          3.556534283689388,
          0.8521050011993286,
          1.6752430453610565,
          3.4156205097992207,
          0.8626234370170696,
          0.8145788031662439,
          1.8365032093373541,
          0.7817522126824386,
          -0.11516436534747765,
          0.8602565181653022,
          1.837971079792607,
          -0.4550529116337041,
          0.31167737600542855,
          0.891459792575899,
          2.7204614530184044,
          1.2230792415787661,
          0.8684535939390655,
          1.438574909365701,
          -0.21093467072618388,
          0.7972377479761146,
          0.8413505487269002,
          0.8666711506888386,
          -1.1042563926774553,
          0.3673043754735551,
          0.6495120222894655,
          -0.29759110089440455,
          -0.02851727947843874,
          1.9117762872558162,
          0.3540889200661579,
          -0.9305473823569439,
          1.4573485141797415,
          1.5094924198840802,
          2.8808508969725946,
          0.5283142208874732,
          -0.25341429542526805,
          -1.4593173088590534,
          1.2760340843075249,
          0.3929829475238251,
          3.2050497148586654,
          1.037400035351586,
          0.0304981318752795,
          0.8764792905610143,
          -0.8205498704669327,
          2.9464856721187584,
          1.8315884541823013,
          0.49339686537493654,
          0.7287072693771672,
          0.3050520250831672,
          0.9038145518401993,
          1.54578140096566,
          0.4561148947668956,
          0.14790271959454127,
          1.4670192486242422,
          -0.11173858617177568,
          0.9587775471422498,
          1.829174484067463,
          1.2878331655883093,
          1.4778283480863548,
          0.2426155580658138,
          -0.08849837834508323,
          0.9091409556610992,
          -0.7229152323707932,
          1.3964599145070684,
          -0.25929519391485223,
          1.0506534353890744,
          2.2519548040719752,
          1.6271477496235027,
          1.9783590648911153,
          -0.5176784571081305,
          1.392441802548279,
          0.36858914913527285,
          0.41872270004765677,
          3.4416346237484103,
          2.5735766616648017,
          0.32737946425193165,
          0.4485469998530911,
          -0.9665024421636628,
          0.9266433469056194,
          1.1582669000490642,
          1.2300933474946203,
          1.151314884959059,
          1.817396300466017,
          1.142531020680857,
          1.1714691898872944,
          2.594946005982965,
          0.6942859693031825,
          -0.5484965274822533,
          1.454110392091458,
          1.0596569743141746,
          0.5944029713061424,
          0.060630211439751225,
          0.5438710234286095,
          0.7245502969665715,
          2.1817052588013737,
          0.864706887099941,
          2.32170323304154,
          0.5228047811152586,
          0.9614015732149699,
          0.8041076636416276,
          1.5092316946228734,
          0.8503513996313744,
          1.4545938633224949,
          0.11252909544749579,
          0.7640063959260974,
          0.5746843612146971,
          -0.8620509354721588,
          3.4315436321927906,
          0.2835996566799297,
          2.0479296407766747,
          3.0287877900237663,
          1.908061878766746,
          -0.31813095661418545,
          0.7744023184511404,
          -0.12428339576580005,
          0.09212459550100371,
          1.5516962378352097,
          -1.157952730079891,
          -0.37637491377695076,
          -0.3015049579872795,
          0.9826221694879247,
          0.9908348162607022,
          1.1973205556941642,
          2.197694129525681,
          1.458038376521824,
          1.7629649422818243,
          0.8719021611500092,
          0.2599293594745492,
          1.7561322564611064,
          0.8023491604546258,
          3.1946957460657144,
          0.6141456000008241,
          2.2464923811033457,
          0.3945327095617416,
          0.5612748510832348,
          1.6278502246801207,
          3.4311251474812194,
          0.26192750482816884,
          0.8288755484018241,
          1.008674315114822,
          0.10162907623887352,
          0.7485443331700993,
          -0.8316030787471589,
          1.1481764280757105,
          0.48804458472476064,
          -1.3314821472409628,
          0.2711606735626171,
          0.24270192481102137,
          1.7112837702490449,
          1.275395602913112,
          2.5583201840794505,
          0.4188106816453888,
          -0.2803034429523037,
          -0.28474700862907687,
          1.8112204262159002,
          3.230963891115396,
          0.17159062404655767,
          0.6367446783185788,
          0.1443659283704426,
          -0.2839784888861381,
          1.8716868406966396,
          1.0255655603518365,
          0.41573128532165926,
          2.479708755634525,
          0.7407882791985421,
          0.4505325875965157,
          2.177752071061786,
          1.8887220844849963,
          0.6973160696932346,
          0.9926974055920804,
          1.8755716618502132,
          1.3659047290901467,
          1.328341461292536,
          0.9727699994779215,
          1.3561876731209916,
          1.3029320390771222,
          2.5501157775388696,
          0.6216363251011918,
          3.2503168874780237,
          0.5211754498350161,
          0.22498253528626766,
          1.4479218563215945,
          0.48242520538376654,
          0.6091047090501982,
          0.9409852729352082,
          0.0960528340047917,
          1.2670802628794569,
          1.085945227509092,
          1.3341363994708635,
          0.6415366116406445,
          1.0578149022341523,
          1.0466551596410787,
          2.0558241535066166,
          0.9133416603890463,
          3.601797099250393,
          0.3831390440453276,
          1.2651184949474272,
          0.5998788178139773,
          1.8453305961740565,
          1.1035055757251149,
          0.05051048709622108,
          -0.033964356596683176,
          0.9400538993244026,
          1.0703251984395372,
          0.06880875563351452,
          0.052542932883210214,
          2.9483461977833514,
          2.3094011809123756,
          0.3633787530827196,
          1.5982150190277973,
          0.5217885017400649,
          2.4403656852595357,
          0.9054113811545654,
          2.8829788839285,
          0.5217547456256268,
          0.19241558514729984,
          1.5394123657056218,
          1.0997439617714502,
          0.3984389724702223,
          1.945589637960281,
          1.5348701970581942,
          0.9803117219112548,
          1.8728129164728737,
          0.1365779786652871,
          2.3695115017022523,
          3.6463980518802526,
          2.18520876141197,
          1.4451034045255402,
          -0.17866184420896403,
          2.4336562755645224,
          2.171781963989125,
          0.35391144138369424,
          1.1352484049210445,
          1.3051347738860586,
          -0.17290189021951985,
          1.2746003131243686,
          -0.4372619411914078,
          0.8369770390181412,
          1.7526144342241339,
          -1.0443783226150618,
          1.414993866255299,
          0.4751580576782034,
          0.9487564860707229,
          1.361590554480041,
          1.255314622419833,
          -0.9333911350895876,
          0.800813949073563,
          1.6958529304862164,
          3.120895527678448,
          1.8319916990107754,
          1.08065810683765,
          1.8799066036306749,
          -0.31422939773314695,
          0.6946933633358711,
          1.0259942251798189,
          2.313334183980181,
          1.2503609123586903,
          2.0707278648555083,
          1.2760035478961063,
          0.4511367213389751,
          0.9532744378654282,
          0.6970608003762497,
          1.7492552844171296,
          1.184770606819184,
          1.0275778156541735,
          1.4633145354375579,
          0.1945367465466049,
          1.6198484821979753,
          1.621156983532972,
          0.6982199480489722,
          1.589280915090483,
          0.2661478506389521,
          -0.17427111660535632,
          -0.44273910373147163,
          1.8013206297294095,
          0.38067970515923377,
          0.1484102478546001,
          0.4619512789242858,
          0.6524354210875318,
          1.4093669635372639,
          1.2286789614215514,
          1.7622553383162916,
          2.515282861506202,
          -0.3133600699957031,
          1.692924609635393,
          0.2617641148498322,
          -0.3102754278787454,
          1.8552818789792473,
          2.799662743818433,
          0.7883739672471406,
          1.1752758820210634,
          0.1911040758988266,
          2.0051564595826523,
          0.8750606267747185,
          0.5867716849831304,
          -0.5595601452939414,
          1.1295261397832808,
          1.82503306617965,
          0.3119578278847842,
          1.6851520430104279,
          1.170836231904772,
          1.47898679103453,
          1.9593264410686158,
          1.614724524247022,
          1.9579563501949444,
          1.1210419275311918,
          -0.08515724116891032,
          -1.3170761106897992,
          0.6383915941321012,
          0.6121583743947909,
          2.0650534828051317,
          -0.1355420703629293,
          0.9669647393801108,
          3.6756807392939934,
          -0.2984241501988991,
          1.217280062203737,
          0.8547998706857506,
          0.44878029718789236,
          1.0188336191234684,
          2.9922346851438215,
          0.15670995269588417,
          1.4404890324344382,
          -0.13465947734069794,
          -0.12440843597423146,
          0.23197973494636126,
          1.7859824146309702,
          0.9834268107576333,
          0.6599861244084086,
          2.004846793103327,
          1.8277291619430658,
          1.8381796058974196,
          1.5412701271076812,
          0.9167721211661162,
          0.12557438137540866,
          0.7433306853348609,
          -1.1722482702277612,
          0.47659296676266805,
          3.4057950700932014,
          -0.1382548019166414,
          0.51810137480039,
          -0.03565097788574101,
          -1.0060494968293945,
          -0.14288216468536552,
          1.5258923521532362,
          0.4795037624043238,
          1.2221183736486694,
          0.5719120546754302,
          2.54354303757123,
          0.7142172831108692,
          2.829291779089387,
          2.983249619309719,
          1.8967809307187347,
          1.9181596163000654,
          0.8917942871361838,
          2.9097861299195587,
          0.5535273918151408,
          1.500408150235695,
          0.7536484180217637,
          0.131230130903069,
          2.181985169947324
         ]
        }
       ],
       "layout": {
        "barmode": "overlay",
        "template": {
         "data": {
          "bar": [
           {
            "error_x": {
             "color": "#2a3f5f"
            },
            "error_y": {
             "color": "#2a3f5f"
            },
            "marker": {
             "line": {
              "color": "#E5ECF6",
              "width": 0.5
             },
             "pattern": {
              "fillmode": "overlay",
              "size": 10,
              "solidity": 0.2
             }
            },
            "type": "bar"
           }
          ],
          "barpolar": [
           {
            "marker": {
             "line": {
              "color": "#E5ECF6",
              "width": 0.5
             },
             "pattern": {
              "fillmode": "overlay",
              "size": 10,
              "solidity": 0.2
             }
            },
            "type": "barpolar"
           }
          ],
          "carpet": [
           {
            "aaxis": {
             "endlinecolor": "#2a3f5f",
             "gridcolor": "white",
             "linecolor": "white",
             "minorgridcolor": "white",
             "startlinecolor": "#2a3f5f"
            },
            "baxis": {
             "endlinecolor": "#2a3f5f",
             "gridcolor": "white",
             "linecolor": "white",
             "minorgridcolor": "white",
             "startlinecolor": "#2a3f5f"
            },
            "type": "carpet"
           }
          ],
          "choropleth": [
           {
            "colorbar": {
             "outlinewidth": 0,
             "ticks": ""
            },
            "type": "choropleth"
           }
          ],
          "contour": [
           {
            "colorbar": {
             "outlinewidth": 0,
             "ticks": ""
            },
            "colorscale": [
             [
              0,
              "#0d0887"
             ],
             [
              0.1111111111111111,
              "#46039f"
             ],
             [
              0.2222222222222222,
              "#7201a8"
             ],
             [
              0.3333333333333333,
              "#9c179e"
             ],
             [
              0.4444444444444444,
              "#bd3786"
             ],
             [
              0.5555555555555556,
              "#d8576b"
             ],
             [
              0.6666666666666666,
              "#ed7953"
             ],
             [
              0.7777777777777778,
              "#fb9f3a"
             ],
             [
              0.8888888888888888,
              "#fdca26"
             ],
             [
              1,
              "#f0f921"
             ]
            ],
            "type": "contour"
           }
          ],
          "contourcarpet": [
           {
            "colorbar": {
             "outlinewidth": 0,
             "ticks": ""
            },
            "type": "contourcarpet"
           }
          ],
          "heatmap": [
           {
            "colorbar": {
             "outlinewidth": 0,
             "ticks": ""
            },
            "colorscale": [
             [
              0,
              "#0d0887"
             ],
             [
              0.1111111111111111,
              "#46039f"
             ],
             [
              0.2222222222222222,
              "#7201a8"
             ],
             [
              0.3333333333333333,
              "#9c179e"
             ],
             [
              0.4444444444444444,
              "#bd3786"
             ],
             [
              0.5555555555555556,
              "#d8576b"
             ],
             [
              0.6666666666666666,
              "#ed7953"
             ],
             [
              0.7777777777777778,
              "#fb9f3a"
             ],
             [
              0.8888888888888888,
              "#fdca26"
             ],
             [
              1,
              "#f0f921"
             ]
            ],
            "type": "heatmap"
           }
          ],
          "heatmapgl": [
           {
            "colorbar": {
             "outlinewidth": 0,
             "ticks": ""
            },
            "colorscale": [
             [
              0,
              "#0d0887"
             ],
             [
              0.1111111111111111,
              "#46039f"
             ],
             [
              0.2222222222222222,
              "#7201a8"
             ],
             [
              0.3333333333333333,
              "#9c179e"
             ],
             [
              0.4444444444444444,
              "#bd3786"
             ],
             [
              0.5555555555555556,
              "#d8576b"
             ],
             [
              0.6666666666666666,
              "#ed7953"
             ],
             [
              0.7777777777777778,
              "#fb9f3a"
             ],
             [
              0.8888888888888888,
              "#fdca26"
             ],
             [
              1,
              "#f0f921"
             ]
            ],
            "type": "heatmapgl"
           }
          ],
          "histogram": [
           {
            "marker": {
             "pattern": {
              "fillmode": "overlay",
              "size": 10,
              "solidity": 0.2
             }
            },
            "type": "histogram"
           }
          ],
          "histogram2d": [
           {
            "colorbar": {
             "outlinewidth": 0,
             "ticks": ""
            },
            "colorscale": [
             [
              0,
              "#0d0887"
             ],
             [
              0.1111111111111111,
              "#46039f"
             ],
             [
              0.2222222222222222,
              "#7201a8"
             ],
             [
              0.3333333333333333,
              "#9c179e"
             ],
             [
              0.4444444444444444,
              "#bd3786"
             ],
             [
              0.5555555555555556,
              "#d8576b"
             ],
             [
              0.6666666666666666,
              "#ed7953"
             ],
             [
              0.7777777777777778,
              "#fb9f3a"
             ],
             [
              0.8888888888888888,
              "#fdca26"
             ],
             [
              1,
              "#f0f921"
             ]
            ],
            "type": "histogram2d"
           }
          ],
          "histogram2dcontour": [
           {
            "colorbar": {
             "outlinewidth": 0,
             "ticks": ""
            },
            "colorscale": [
             [
              0,
              "#0d0887"
             ],
             [
              0.1111111111111111,
              "#46039f"
             ],
             [
              0.2222222222222222,
              "#7201a8"
             ],
             [
              0.3333333333333333,
              "#9c179e"
             ],
             [
              0.4444444444444444,
              "#bd3786"
             ],
             [
              0.5555555555555556,
              "#d8576b"
             ],
             [
              0.6666666666666666,
              "#ed7953"
             ],
             [
              0.7777777777777778,
              "#fb9f3a"
             ],
             [
              0.8888888888888888,
              "#fdca26"
             ],
             [
              1,
              "#f0f921"
             ]
            ],
            "type": "histogram2dcontour"
           }
          ],
          "mesh3d": [
           {
            "colorbar": {
             "outlinewidth": 0,
             "ticks": ""
            },
            "type": "mesh3d"
           }
          ],
          "parcoords": [
           {
            "line": {
             "colorbar": {
              "outlinewidth": 0,
              "ticks": ""
             }
            },
            "type": "parcoords"
           }
          ],
          "pie": [
           {
            "automargin": true,
            "type": "pie"
           }
          ],
          "scatter": [
           {
            "fillpattern": {
             "fillmode": "overlay",
             "size": 10,
             "solidity": 0.2
            },
            "type": "scatter"
           }
          ],
          "scatter3d": [
           {
            "line": {
             "colorbar": {
              "outlinewidth": 0,
              "ticks": ""
             }
            },
            "marker": {
             "colorbar": {
              "outlinewidth": 0,
              "ticks": ""
             }
            },
            "type": "scatter3d"
           }
          ],
          "scattercarpet": [
           {
            "marker": {
             "colorbar": {
              "outlinewidth": 0,
              "ticks": ""
             }
            },
            "type": "scattercarpet"
           }
          ],
          "scattergeo": [
           {
            "marker": {
             "colorbar": {
              "outlinewidth": 0,
              "ticks": ""
             }
            },
            "type": "scattergeo"
           }
          ],
          "scattergl": [
           {
            "marker": {
             "colorbar": {
              "outlinewidth": 0,
              "ticks": ""
             }
            },
            "type": "scattergl"
           }
          ],
          "scattermapbox": [
           {
            "marker": {
             "colorbar": {
              "outlinewidth": 0,
              "ticks": ""
             }
            },
            "type": "scattermapbox"
           }
          ],
          "scatterpolar": [
           {
            "marker": {
             "colorbar": {
              "outlinewidth": 0,
              "ticks": ""
             }
            },
            "type": "scatterpolar"
           }
          ],
          "scatterpolargl": [
           {
            "marker": {
             "colorbar": {
              "outlinewidth": 0,
              "ticks": ""
             }
            },
            "type": "scatterpolargl"
           }
          ],
          "scatterternary": [
           {
            "marker": {
             "colorbar": {
              "outlinewidth": 0,
              "ticks": ""
             }
            },
            "type": "scatterternary"
           }
          ],
          "surface": [
           {
            "colorbar": {
             "outlinewidth": 0,
             "ticks": ""
            },
            "colorscale": [
             [
              0,
              "#0d0887"
             ],
             [
              0.1111111111111111,
              "#46039f"
             ],
             [
              0.2222222222222222,
              "#7201a8"
             ],
             [
              0.3333333333333333,
              "#9c179e"
             ],
             [
              0.4444444444444444,
              "#bd3786"
             ],
             [
              0.5555555555555556,
              "#d8576b"
             ],
             [
              0.6666666666666666,
              "#ed7953"
             ],
             [
              0.7777777777777778,
              "#fb9f3a"
             ],
             [
              0.8888888888888888,
              "#fdca26"
             ],
             [
              1,
              "#f0f921"
             ]
            ],
            "type": "surface"
           }
          ],
          "table": [
           {
            "cells": {
             "fill": {
              "color": "#EBF0F8"
             },
             "line": {
              "color": "white"
             }
            },
            "header": {
             "fill": {
              "color": "#C8D4E3"
             },
             "line": {
              "color": "white"
             }
            },
            "type": "table"
           }
          ]
         },
         "layout": {
          "annotationdefaults": {
           "arrowcolor": "#2a3f5f",
           "arrowhead": 0,
           "arrowwidth": 1
          },
          "autotypenumbers": "strict",
          "coloraxis": {
           "colorbar": {
            "outlinewidth": 0,
            "ticks": ""
           }
          },
          "colorscale": {
           "diverging": [
            [
             0,
             "#8e0152"
            ],
            [
             0.1,
             "#c51b7d"
            ],
            [
             0.2,
             "#de77ae"
            ],
            [
             0.3,
             "#f1b6da"
            ],
            [
             0.4,
             "#fde0ef"
            ],
            [
             0.5,
             "#f7f7f7"
            ],
            [
             0.6,
             "#e6f5d0"
            ],
            [
             0.7,
             "#b8e186"
            ],
            [
             0.8,
             "#7fbc41"
            ],
            [
             0.9,
             "#4d9221"
            ],
            [
             1,
             "#276419"
            ]
           ],
           "sequential": [
            [
             0,
             "#0d0887"
            ],
            [
             0.1111111111111111,
             "#46039f"
            ],
            [
             0.2222222222222222,
             "#7201a8"
            ],
            [
             0.3333333333333333,
             "#9c179e"
            ],
            [
             0.4444444444444444,
             "#bd3786"
            ],
            [
             0.5555555555555556,
             "#d8576b"
            ],
            [
             0.6666666666666666,
             "#ed7953"
            ],
            [
             0.7777777777777778,
             "#fb9f3a"
            ],
            [
             0.8888888888888888,
             "#fdca26"
            ],
            [
             1,
             "#f0f921"
            ]
           ],
           "sequentialminus": [
            [
             0,
             "#0d0887"
            ],
            [
             0.1111111111111111,
             "#46039f"
            ],
            [
             0.2222222222222222,
             "#7201a8"
            ],
            [
             0.3333333333333333,
             "#9c179e"
            ],
            [
             0.4444444444444444,
             "#bd3786"
            ],
            [
             0.5555555555555556,
             "#d8576b"
            ],
            [
             0.6666666666666666,
             "#ed7953"
            ],
            [
             0.7777777777777778,
             "#fb9f3a"
            ],
            [
             0.8888888888888888,
             "#fdca26"
            ],
            [
             1,
             "#f0f921"
            ]
           ]
          },
          "colorway": [
           "#636efa",
           "#EF553B",
           "#00cc96",
           "#ab63fa",
           "#FFA15A",
           "#19d3f3",
           "#FF6692",
           "#B6E880",
           "#FF97FF",
           "#FECB52"
          ],
          "font": {
           "color": "#2a3f5f"
          },
          "geo": {
           "bgcolor": "white",
           "lakecolor": "white",
           "landcolor": "#E5ECF6",
           "showlakes": true,
           "showland": true,
           "subunitcolor": "white"
          },
          "hoverlabel": {
           "align": "left"
          },
          "hovermode": "closest",
          "mapbox": {
           "style": "light"
          },
          "paper_bgcolor": "white",
          "plot_bgcolor": "#E5ECF6",
          "polar": {
           "angularaxis": {
            "gridcolor": "white",
            "linecolor": "white",
            "ticks": ""
           },
           "bgcolor": "#E5ECF6",
           "radialaxis": {
            "gridcolor": "white",
            "linecolor": "white",
            "ticks": ""
           }
          },
          "scene": {
           "xaxis": {
            "backgroundcolor": "#E5ECF6",
            "gridcolor": "white",
            "gridwidth": 2,
            "linecolor": "white",
            "showbackground": true,
            "ticks": "",
            "zerolinecolor": "white"
           },
           "yaxis": {
            "backgroundcolor": "#E5ECF6",
            "gridcolor": "white",
            "gridwidth": 2,
            "linecolor": "white",
            "showbackground": true,
            "ticks": "",
            "zerolinecolor": "white"
           },
           "zaxis": {
            "backgroundcolor": "#E5ECF6",
            "gridcolor": "white",
            "gridwidth": 2,
            "linecolor": "white",
            "showbackground": true,
            "ticks": "",
            "zerolinecolor": "white"
           }
          },
          "shapedefaults": {
           "line": {
            "color": "#2a3f5f"
           }
          },
          "ternary": {
           "aaxis": {
            "gridcolor": "white",
            "linecolor": "white",
            "ticks": ""
           },
           "baxis": {
            "gridcolor": "white",
            "linecolor": "white",
            "ticks": ""
           },
           "bgcolor": "#E5ECF6",
           "caxis": {
            "gridcolor": "white",
            "linecolor": "white",
            "ticks": ""
           }
          },
          "title": {
           "x": 0.05
          },
          "xaxis": {
           "automargin": true,
           "gridcolor": "white",
           "linecolor": "white",
           "ticks": "",
           "title": {
            "standoff": 15
           },
           "zerolinecolor": "white",
           "zerolinewidth": 2
          },
          "yaxis": {
           "automargin": true,
           "gridcolor": "white",
           "linecolor": "white",
           "ticks": "",
           "title": {
            "standoff": 15
           },
           "zerolinecolor": "white",
           "zerolinewidth": 2
          }
         }
        }
       }
      }
     },
     "metadata": {},
     "output_type": "display_data"
    }
   ],
   "source": [
    "fig = go.Figure()\n",
    "fig.add_trace(go.Histogram(x=n1))\n",
    "fig.add_trace(go.Histogram(x=n2))\n",
    "fig.update_layout(barmode='overlay') # barmode = overlay 서로다른 두개의 히스토그램이 살짝 겹치는 \n",
    "fig.update_traces(opacity=0.7)\n",
    "fig.show()"
   ]
  },
  {
   "cell_type": "code",
   "execution_count": 35,
   "metadata": {},
   "outputs": [
    {
     "data": {
      "application/vnd.plotly.v1+json": {
       "config": {
        "plotlyServerURL": "https://plot.ly"
       },
       "data": [
        {
         "opacity": 0.8,
         "type": "histogram",
         "x": [
          -1.0481278524505033,
          0.8287384308179823,
          -0.3979873180932594,
          -0.45581854598158855,
          -0.6989568248715256,
          1.2397219030958013,
          0.5304999973675413,
          0.7584006809353052,
          -1.352449421669454,
          0.9105994028892075,
          -0.3146135457217202,
          0.28112758076908767,
          0.19596424228544787,
          0.4935334074788573,
          -0.4012956767540131,
          -2.353668743378184,
          0.6984010515198812,
          -0.020641286428613025,
          1.0019192243844113,
          -0.3206927614144954,
          1.1665817092736304,
          -1.5937113297859646,
          -1.5128486141417141,
          -0.8767817762822573,
          -1.0675207964958984,
          0.6324719966005344,
          -0.7411170685207581,
          -0.7532158640537826,
          0.8950044990762569,
          -0.24518097506170533,
          1.6241729586416727,
          -0.7951173395537706,
          0.05797210311746058,
          0.6290893835860042,
          2.4913506077003165,
          1.0197955387450595,
          0.466000393201028,
          -0.6458390507295624,
          1.0760612598641075,
          -2.0288977582816745,
          0.07738187709816989,
          -0.026519381824686564,
          -0.5707118356606999,
          0.291061478130548,
          -0.6596962458403687,
          1.0438499008816637,
          -2.146794794481073,
          -1.0644746522356796,
          -0.0976106132983066,
          1.256051133384363,
          0.027411053906381124,
          2.0985949370136514,
          0.670064321720626,
          1.8080310573616498,
          -1.8147513162008473,
          0.2902556660061501,
          1.1930313104730736,
          1.6053791706889113,
          -1.340013238701999,
          -0.1786296443571832,
          0.9034227859629759,
          0.5251975499529816,
          0.7247680322364825,
          -0.708090708364972,
          0.25730643079226545,
          0.446529706786693,
          -1.2934950768027194,
          1.0053497344746316,
          0.5673990896051856,
          1.0408422793019407,
          -1.1317098914813295,
          -1.0285699086552211,
          0.12367984886630828,
          1.3414279889921294,
          -1.6336125453800163,
          0.1080805241096625,
          2.014408559826338,
          1.658841885305958,
          0.7368395499049484,
          -0.005541156644548743,
          -1.1706396350498376,
          -1.0752656078213716,
          -0.21085702622385472,
          -0.4125176558315054,
          -1.9492107262839955,
          0.598933776114234,
          0.5961549195295863,
          0.01547121186638872,
          -0.48881530190139716,
          0.19202439608128088,
          -0.33038946852872236,
          0.4274475564398668,
          -0.2967341457820979,
          0.29075004905287205,
          0.8487690539213704,
          0.6934048330023095,
          0.050880427334112265,
          2.162996617988915,
          0.7910926821759915,
          -3.0348026689760412,
          0.3553722661023333,
          -1.1660918620992178,
          -0.6700090883921292,
          0.24734242000627865,
          -0.3306846806591964,
          0.027427003334888865,
          0.0034320386865152337,
          -1.0726982620240977,
          -1.3912606653512098,
          0.8309829537003641,
          -1.725787106400472,
          -1.1769532903699345,
          -0.7282248904257632,
          1.1182100479901835,
          -0.1682360042550365,
          0.1234404366668646,
          0.7930703288184332,
          -1.052102475935429,
          0.24863178340121006,
          0.6579262730221491,
          -0.629764701093676,
          0.898695809411111,
          1.9650132697276839,
          -1.2019471393770444,
          -1.166228358756408,
          0.49264457030696596,
          0.3507190754817768,
          -1.1435086063449529,
          -1.6729217450240905,
          0.04905038859776211,
          -0.664360626367652,
          0.8105960071344002,
          -1.5413150320385338,
          -1.195259861631151,
          0.4031792939879739,
          -0.4942996231943083,
          -0.027891274270047648,
          -1.401171085183534,
          -0.3316720586831255,
          -0.6720028762646435,
          0.04740373250838496,
          -1.0325029185413803,
          -1.1591795096935458,
          0.6470137657000512,
          -0.005450986100554101,
          0.7075068277045631,
          -0.26375280574196786,
          -1.8855422199937029,
          -1.4477562310678531,
          -0.3394544127404813,
          -0.12186894416887806,
          0.051856226715466094,
          -0.42269736634399413,
          -0.25312230960030524,
          -0.6024108320760038,
          0.07524314261914307,
          -0.9376460005416153,
          -0.6134164928733893,
          0.1911288574883624,
          1.1064368064536347,
          1.894669749619205,
          -0.6234277796161241,
          -1.0269394915801646,
          -0.4342671206517514,
          0.10831421953255098,
          0.8292093382575313,
          0.7702818558688914,
          1.727008706203484,
          1.3124757717076636,
          0.0029400254838769305,
          -0.9184500547184855,
          -0.46568514016753765,
          -0.46767322081853396,
          0.31436716217712396,
          -0.4658744986741979,
          -2.0019017695932018,
          -0.04006650467137647,
          -1.2568645896905126,
          0.7648300568902099,
          -0.6407418871355273,
          -0.7537170916749207,
          -1.7064852654202574,
          -1.0039718659379988,
          0.5220464650431736,
          -0.41804948973784684,
          1.95268962568097,
          0.11536024182167298,
          -0.8811384992522462,
          -0.22660827442049397,
          -0.38425865733458736,
          -1.15338502182539,
          -1.7588800039520678,
          0.9584933970072305,
          -1.295094704017377,
          1.2646346469304834,
          1.7350296328805723,
          0.5431305620334135,
          -0.39810995562006296,
          3.2485232418321472,
          -0.8963615524846973,
          -0.6834555030745655,
          0.1918195560955902,
          0.09485941439844492,
          0.2559330411606666,
          -0.4989759459930875,
          -0.13173321635293916,
          -0.20166375285786178,
          -0.6873992752443991,
          1.235482148150005,
          -1.3021825940280305,
          -0.6848488540045247,
          0.7529687044463926,
          -0.22968437873805367,
          -0.45921913579482,
          0.001292504452922446,
          -0.20998171841513885,
          -1.0420133857687344,
          1.5446433927423948,
          2.062744005866237,
          0.3825652413651937,
          -0.6546628001813317,
          1.6823117917919599,
          -0.0026498837194770496,
          -0.8102554773407696,
          -0.13750479822096973,
          -1.1693359903533664,
          -0.8080539449782584,
          -0.24822376163604587,
          1.0021146219676025,
          0.3754902791307722,
          -0.42321370922646323,
          1.6206136217951994,
          0.0003803856279145174,
          -0.34053038627216664,
          0.4652613940670084,
          0.2493433182114157,
          -0.9526485824992185,
          -0.8904522137831917,
          1.153427616386712,
          -0.28202798400606305,
          -1.4714989124352331,
          -1.1393831740331415,
          -0.49532100554450914,
          0.6082945392459901,
          -0.18795299824261283,
          0.7636785538922635,
          0.6167611490265592,
          -0.6787676887445392,
          -0.7658880173099003,
          -1.030869124780886,
          -0.5913575163359506,
          1.0154770232754278,
          -0.027279284016350148,
          1.105561964386081,
          -2.05831865732214,
          1.017398590341418,
          -2.323096871944394,
          0.9837903364448247,
          -0.7390029242653489,
          0.3440341148221086,
          0.5789777935724243,
          -0.6119875509720838,
          -0.639663734048454,
          0.09272922788337788,
          4.257370442378257,
          0.4677944712406311,
          0.1081184516149046,
          2.1385473545620868,
          -0.6470577980348646,
          1.7822495020749176,
          -1.0462593997725331,
          0.21031825890358208,
          0.42506942156577276,
          -0.48295280193607726,
          2.7463415173846317,
          -0.6367867876710269,
          0.1356505802857776,
          0.9596695170494286,
          -1.390977313119965,
          -0.9377895697222445,
          -0.9788223408893421,
          -0.052600882222219016,
          1.6612028216416834,
          0.3707249451269379,
          -0.7068924237727419,
          -0.8015646523600356,
          -0.13576686816134037,
          -0.47806015074052954,
          -0.42659925905426116,
          -1.0445712475879143,
          0.5791459927794433,
          0.07333989146871975,
          -0.7344894435778839,
          1.155630698166786,
          -0.31601421369642274,
          -0.07748822676418447,
          -0.007986665077013923,
          1.7373125652994457,
          0.035254026684055584,
          1.1823507266117166,
          1.357564618921279,
          0.8690251664142723,
          1.4810302209571609,
          -1.1499620005169382,
          0.11297115311406664,
          0.9240370327167682,
          -0.4449240387120449,
          0.752384867459226,
          0.8580222853248681,
          1.0467227229725764,
          0.8369550871469987,
          0.07292563584526993,
          1.5433223033243502,
          -1.194415133912321,
          -0.39629840430164287,
          -0.22499185464425253,
          0.3378721702016866,
          -0.18935077367246025,
          -0.839402489260127,
          -1.3574795845893755,
          0.2312753349843157,
          -0.9056679920535271,
          -1.1769397272357278,
          0.06521571583623402,
          1.0437185457306857,
          0.7557603398473346,
          -0.3824530982355497,
          -0.956539343973609,
          -0.21420008073656518,
          1.4625696877026617,
          0.14170591912161273,
          1.9298130181369706,
          -0.8641888697712059,
          -0.002555073334186696,
          -0.8796667264587501,
          1.1162563870003153,
          0.8300900240061434,
          0.49271087496289884,
          -0.8666853817539887,
          0.41786025261562576,
          1.5420273051184752,
          1.0401021644423507,
          -1.0235952484177313,
          0.9228360670837021,
          -0.16673522065192234,
          1.2476932529720093,
          0.6767860390218365,
          0.8708318945333816,
          0.33700873531342235,
          0.456346297484282,
          -0.5993681497609259,
          -0.7994103782910618,
          -0.4691543666955389,
          -1.4836026406030522,
          -0.6647445211007896,
          0.019867562071414893,
          -1.0290088431451974,
          0.569743456656544,
          0.5649679796121437,
          -1.1034365989482617,
          1.798404821330884,
          -1.151599676018488,
          -1.2194642534920115,
          0.5990444592723647,
          -1.5419890497706599,
          -1.0239545461035822,
          -0.6267913035175027,
          0.6799911129598868,
          0.8417285063567714,
          -0.3240864735409047,
          0.0769226907782506,
          0.38787932519975954,
          -0.4942586549841261,
          -1.5535765951649978,
          -0.5545777028087132,
          -0.10256713684918926,
          0.9937621147328933,
          -1.3668673989041022,
          -1.127928907890876,
          0.9509722190376145,
          0.4955922915818332,
          0.05857010046559886,
          0.40776879477599887,
          -0.34543844979417254,
          0.5820607093930494,
          -0.5145351619990143,
          0.1887395024114376,
          1.3588639040470456,
          -0.38546128330038054,
          -1.8292293000395807,
          -0.8971506396819534,
          -0.5993809234316331,
          0.010795292106621128,
          1.2146995070222206,
          2.6242110250673214,
          -0.1909392992880799,
          -0.42982398068352023,
          0.41713697109059067,
          0.3603391892156967,
          -0.9719260259819736,
          0.39258081198737754,
          -0.8640883800689931,
          -0.31416894778095994,
          -1.3273332158136384,
          -1.0317181806872533,
          1.3984609175472076,
          -0.7677689924855053,
          -1.2791304023351733,
          -0.5384287095619501,
          0.8182033810685228,
          0.45487512678243164,
          2.2849825984449943,
          -0.2422423639527482,
          0.08302320547622448,
          -0.7867620668632392,
          0.6700899950709812,
          -0.44682643618299106,
          0.5653273556105161,
          1.5052725005512386,
          1.6812523035379088,
          -0.4230571455383196,
          0.17566218686572727,
          -1.0264061373971762,
          -0.23134658575809083,
          0.27081857428453027,
          -0.7693860433561022,
          0.3092806890742895,
          -2.4936686299873543,
          0.679787794829417,
          -2.230244537071658,
          0.2380616561457542,
          0.13008007565692328,
          0.239625763338947,
          -0.25586580303091233,
          1.5833731461758815,
          -1.254866970626389,
          1.2764427950447186,
          -0.004031721343450047,
          0.5382438065133185,
          -1.6941049515801456,
          0.4408644738982496,
          1.682328091183741,
          -0.8881790578030991,
          0.3945204628327891,
          -0.8534096691075137,
          1.4652347775244534,
          1.1674967435782282,
          0.5445031983230861,
          0.9794690347384378,
          0.2620213746204884,
          -0.2559704500679918,
          -1.639740794553076,
          -0.20791058270776808,
          0.8190639841040969,
          0.30889763117220015,
          -0.06167781009221638,
          0.6210934073149357,
          -0.3274301746971198,
          -0.23799204632546261,
          -0.2778409298995661,
          0.11792358043625245,
          -1.316665973551431,
          0.8572692908224744,
          0.11848411325191696,
          -0.2719169214414792,
          -1.181633060927877,
          0.9990731087718959,
          -0.6866479756035369,
          1.2530137780056712,
          -0.20185850760492852,
          0.7127279991591433,
          0.05675227507831345,
          0.909136190449833,
          -1.6312291344808174,
          0.10051722259381711,
          0.7980723627040669,
          -0.14939440794665368,
          0.8013443888202214,
          -1.1078472124482672,
          1.346745608773221,
          0.18546550431541492,
          0.3865729858618036,
          -0.710739807186454,
          1.451684718322566,
          0.16039256208508615,
          -0.46274971205506926,
          1.7393271139615951,
          0.9549518109831935,
          -0.9336783569666568,
          1.1777205480123372,
          0.09005569930437694,
          -0.46119596876490215,
          -1.0601940438389739,
          -0.5911043944937734,
          0.4394801296711491,
          -1.0052232691271012,
          -0.8751672960350863,
          -0.48825852504338835,
          0.9587881564286426,
          1.5594966621636763,
          0.04061487233413402,
          1.6351176396320766,
          1.3400354478459426,
          1.7935577660610282,
          -1.170069929619832,
          -0.6940725701600592,
          -0.5531458097634024,
          -1.4033636841920383,
          0.8400882464876412,
          -0.5685502455765783,
          -1.5983765396034142,
          1.17558884813661,
          -0.06818866919985152,
          -0.7280754841391158,
          -1.3457520454325196,
          -0.8850803638026642,
          -0.7436641204820383,
          0.6232815586051513,
          0.21638557685934484,
          -0.5264205768655562,
          -0.0855398650343502,
          0.02914209717185416,
          -0.16850740140681225,
          -2.2562433578525343,
          -0.1523732531881437,
          0.2289483381041959,
          1.153489979139695,
          0.45109855197842946,
          0.3810364964326619,
          1.6126422005039867,
          -1.0756607570895977,
          0.9162008649751535,
          -0.9859393168253143,
          0.40055351445157067,
          -1.1342966174687508,
          0.43461963161380374,
          -0.7994788593611619,
          0.5307366249398507,
          -0.5395951357354839,
          -0.9415328806704861,
          0.17047446457696416,
          -0.14650707197322463,
          1.2169810710506044,
          -0.21281071372858193,
          -0.8706252724329766,
          0.29402858646072727,
          0.14808912332194948,
          0.18564221023754512,
          -0.2793296454903645,
          -0.22858948651702016,
          0.5411358615152323,
          -0.717120996223824,
          -0.4156347707867476,
          -0.3222105289792193,
          -0.8995597844011198,
          0.29744940669427,
          -0.23909194926232522,
          -0.9520924311607698,
          -1.3084046833934266,
          0.5329247708994898,
          0.4539769720241603,
          -0.8244635822215397,
          -0.36447855520937905,
          0.5190998908932384,
          0.739801924459477,
          0.3791332965542098,
          0.6645746330960488,
          -0.7060105815510425,
          0.45641731643648303,
          -2.213885132923987,
          -1.9435298925026827,
          -1.1614608639650825,
          -0.6516897368002422,
          -1.2700792234457552,
          0.9134882006672832,
          -2.235913062805232,
          -0.6079184820655544,
          0.35171867222826303,
          0.6089934964457054,
          0.3230605828510772,
          0.4169258696618775,
          1.6368751018557404,
          -0.9238209417933743,
          -0.8455106351444909,
          0.23247156531204619,
          0.03186027502911261,
          -1.7515726995098932,
          0.7631564107507468,
          0.9817433329704292,
          -0.610578797886324,
          -0.5193925713310978,
          0.25978200430115106,
          -1.548734558538298,
          -1.3997523413470998,
          -2.213442965191796,
          -0.9188147116028292,
          0.7027322021517934,
          1.7183830091159642,
          2.1249457090883674,
          -1.0708163394752466,
          -0.44909477738764036,
          -0.11242741184232354,
          0.10405833263648685,
          0.5367596623099171,
          0.6571892767870586,
          0.4764499882673811,
          1.1485915649219054,
          -1.2168210246314646,
          -0.5361742201851991,
          0.0117411000585375,
          -0.2318819378428184,
          -1.8216876239037567,
          -0.7898078622481696,
          1.2067155166237662,
          0.795240540734999,
          -0.010724813552183743,
          -1.2914534450581108,
          -0.2187680523088197,
          -1.6061189355640937,
          -2.5673028674047815,
          -0.7398806343148646,
          -0.4345700403214648,
          -0.23042694874634345,
          1.2555306075684742,
          0.20140135784820623,
          0.6096789936234271,
          0.22411943923007605,
          1.6049827310166098,
          0.316231356084818,
          0.21814395377331466,
          -1.3681655563499544,
          -1.1449228569697696,
          0.653659255207034,
          1.4858720481264633,
          -0.07861831616631368,
          -0.37162085625481284,
          -0.5846281515207372,
          -0.22126740506398088,
          -2.8877096147561545,
          -1.782559266905974,
          -0.7899746895964312,
          -1.5301207747905967,
          1.0543854611349173,
          0.22010234487509808,
          -0.3463161747681187,
          -0.5920531816842218,
          -0.04797731958680567,
          -1.9414893493986747,
          0.1752365634072997,
          -0.1881287713330673,
          -0.8142866838227583,
          1.232696558676454,
          -0.3265836235183876,
          0.14559942229911257,
          -1.587520860810972,
          0.2572810757667844,
          -1.0508527060004422,
          -0.4528224107117466,
          0.30967760628078694,
          -2.064589886225614,
          0.6377191989596468,
          -1.3953352911536043,
          -0.2653013010338927,
          -1.1406888107118094,
          -1.4124010802467903,
          -1.6833029387403866,
          -0.8629792699485521,
          -0.8149725710304878,
          0.1591912719437347,
          0.5903169064588154,
          0.3218227255782412,
          -1.1448994813722257,
          -0.2029861494407442,
          1.7204559461108115,
          0.3922553358340104,
          0.06092999638838267,
          -1.9892443838590854,
          0.08998973580583168,
          -2.6460285436755764,
          0.9172983736153523,
          -0.33444324806222897,
          0.7201064250635992,
          1.1892160409193604,
          -0.4214628267340309,
          0.8154334930835365,
          1.1642257245856757,
          -1.059023384676022,
          1.5448399493362395,
          0.0006224783290376984,
          -0.7167668778508551,
          1.6174315554355931,
          0.1546881022942746,
          -1.2477993686027704,
          1.1285686290299817,
          0.6382572769923293,
          -0.5285327356872228,
          -0.7353462587050024,
          -0.6220891108686898,
          -0.8210125506128299,
          0.3666865099763791,
          -0.11246632443008148,
          -1.844844856895621,
          1.6456659951335795,
          -0.018556570417836798,
          1.4328445050127572,
          -0.3956206027100538,
          -0.9290634411635786,
          1.8569264150703133,
          1.1449250543417124,
          -0.9904158890678607,
          1.3530634952367993,
          0.012050848651802181,
          -0.053698360901682105,
          0.8841000356861212,
          -0.8032126827786444,
          1.8857384891011204,
          -2.4419123420784214,
          0.9300519709885846,
          -0.7873646064085008,
          0.11340067973807773,
          1.239429960455111,
          0.7004161515478093,
          -0.1773304259866671,
          0.027704123072656118,
          -0.652434896448744,
          -1.8423619306405028,
          1.6245648688486993,
          1.1605053063096673,
          -0.7796586908500592,
          -0.4605392915158471,
          -0.8646846968173765,
          0.5857232794982725,
          -0.6164816962036385,
          2.0660604707626384,
          1.5244483088045249,
          0.5758663698861977,
          -0.7446886095328559,
          -0.30668475899126235,
          1.0656472809194704,
          0.5270346714237962,
          1.0193736846170258,
          0.2740716294829112,
          0.4396219814019788,
          -1.5290627744517469,
          -1.4021186652930149,
          -2.3179038337534252,
          -0.12657980870806576,
          2.195528561433639,
          0.8677295360288668,
          2.1451404929535514,
          1.0821106931301783,
          -0.9027196644535355,
          -1.1229444952998977,
          -0.10665911111195789,
          -0.2590295303807849,
          1.749818218779084,
          -0.782612749982085,
          -0.8064929410269374,
          0.19347456813318267,
          -0.09404663461567786,
          -1.3498901633621059,
          0.26493534848286776,
          0.6996734404079654,
          0.39502942961784393,
          1.5502376372116213,
          -0.9769264133437194,
          -0.37282802207892723,
          0.2997795252833875,
          -1.8467367956226806,
          1.0229520853254916,
          -1.4484004131463593,
          0.5698240236460671,
          0.025328936984401435,
          0.3443827966133403,
          -0.4077375541135337,
          -0.7942317209841919,
          0.48862321663870245,
          1.955786522013922,
          0.4522772132488294,
          -0.4597666459248189,
          0.6286695284199592,
          0.8482886363044473,
          -1.586400335072009,
          -0.7688865850890575,
          0.5706426820630267,
          0.5003432641580454,
          -0.18319135273265638,
          0.002763848639260432,
          -0.3979855406420983,
          -3.2314253221521696,
          -0.01991382126810735,
          1.3929729534073778,
          1.665323650683313,
          1.5733450538956204,
          0.5276760281574876,
          -0.6215067851366523,
          0.3545087038794528,
          0.8631068530666777,
          0.27930316976744807,
          0.4699182115989656,
          1.1449499800179794,
          2.2431748379284264,
          -0.7761187627938184,
          0.6144093411807697,
          0.16568135789421268,
          -1.0295358949362552,
          0.6895919096386627,
          -0.5690619904200815,
          0.3232942292036759,
          -0.3254930075617849,
          -1.3797219380396837,
          0.8416410624258452,
          0.21284061645352143,
          0.12176672476419037,
          0.39393762405727273,
          0.9003712123374815,
          1.1065756981737356,
          -0.4887351743995273,
          0.7057962509478977,
          -0.2933229018426001,
          -1.3224650385293915,
          -0.3027710887999857,
          -0.44369593225807014,
          -0.05861831192153345,
          1.1645053341157345,
          -0.03911618681237397,
          -1.3950162657395226,
          0.7464110420424187,
          0.45187750547068223,
          -0.11913282220098528,
          -1.08990283410638,
          0.7154637754448879,
          -1.4189458904719052,
          -0.22035497138855595,
          -2.4412229756661423,
          -0.9399690455814592,
          -1.5319564215557764,
          -1.3994815849260707,
          -0.606893087185052,
          0.7844289423029317,
          0.3444383432183116,
          -0.30356940311063907,
          1.3067551927768715,
          -0.20072400057557208,
          -0.48368195596359626,
          0.38939023705568604,
          -1.8159499949853668,
          0.32796778860052894,
          -1.6107468865283925,
          0.5164944907449199,
          -2.630297233483912,
          -0.12316807837144644,
          -0.012166714974734073,
          0.5391759603148457,
          -1.1863682140732237,
          0.10475550970788364,
          0.4609508560829906,
          0.0019691180322469917,
          -0.7921262835639649,
          -0.07012929797710367,
          1.1281833224900428,
          0.1292527112892166,
          0.41382060974524104,
          -0.19043951866634484,
          -0.9727852754957433,
          1.6879692432239,
          -1.3959975779410467,
          0.14312862057104397,
          -0.10055772841437915,
          -1.7535953523635344,
          1.784079391908261,
          -0.24343514318191367,
          0.3071492133407708,
          0.4610038900601026,
          -0.06449701472938886,
          0.811226623203454,
          1.4274923811142883,
          0.8367854554453359,
          -1.0923816054916957,
          1.377820311621637,
          -0.0878930856493476,
          -0.8025800691892083,
          -0.19708764027654022,
          0.31868265358978043,
          1.655288664208845,
          0.15660625827291227,
          -0.32199547240912774,
          -0.3723006067268777,
          0.08617472755150733,
          -0.8569096601511339,
          0.7701013637169153,
          -0.6767048470200244,
          -0.7960614245569163,
          -0.19921650907243388,
          -0.19035266837365622,
          -0.005288789922971835,
          -1.397608598823496,
          -0.8625552944611637,
          -0.355836672219636,
          -0.7987008184964286,
          1.6647897097130924,
          -0.5110313517717112,
          -0.5664788018680329,
          0.6787898604382228,
          1.2303806197472387,
          -0.5474668766986577,
          -0.9824664037611905,
          2.2420570672807805,
          0.06685786503734303,
          0.5836760993964587,
          0.4195894621828623,
          -0.3592767458355419,
          1.7948757344746247,
          0.8955795665093685,
          -0.3886584317981864,
          -1.4641037708248037,
          -1.185871617705591,
          -1.34911612706198,
          0.1123176752474164,
          -1.1704154258938118,
          0.7499868677967598,
          -0.9311748829488617,
          -0.01898516445888879,
          1.8579111144164338,
          0.6401523377784464,
          -0.33497155429284836,
          -0.49913563228345426,
          0.2396597972770739,
          -0.19908615368219457,
          0.5269767529864928,
          -1.752124540143589,
          -0.12191445807150673,
          0.6516474214853966,
          -0.7518211282580582,
          -0.9034095201570419,
          0.11187820640891318,
          1.6271560340165232,
          0.6315992524313776,
          -1.1860312137950697,
          0.6955167143407162,
          0.08596914437424678,
          0.09499225928200916,
          1.156863371025463,
          -0.7542688373027863,
          -0.1951331385359888,
          0.8952507799355436,
          2.1958665468408656,
          -0.09704628508323772,
          -2.2027894105395736,
          0.1355706658825786,
          1.4737903944544561,
          -0.6926352447578071,
          0.9884917161313159,
          0.6292626566398326,
          0.05688922662937304,
          0.24611187989745428,
          -1.3029146555711986,
          -0.4982396622283778,
          1.4638633691785874,
          -0.21393526100712035,
          -0.6963014581931691,
          2.2684881657828386,
          0.943137809555268,
          -1.350010347439871,
          1.9411115732017357,
          1.1743943684793976,
          1.4158577016885203,
          0.5109607678474923,
          0.9581182903775051,
          -0.9679205921409175,
          -1.6407231452705497,
          0.10219777889168273,
          1.3581745260244193,
          0.8508408392570718,
          0.3094815860763634,
          0.34336519111105046,
          -0.5497975603349757,
          0.29782769769828343,
          1.9110961225926222,
          -0.3070990618394839,
          0.26035395879797507,
          1.1093143165159314,
          -1.9058378382389947,
          0.5454535312309161,
          -0.9349101023780149,
          0.40895266955247145,
          0.5570612360342074,
          -0.5764276821266361,
          -0.22476711151245807,
          -0.5639881429762019,
          -0.03603708284968131,
          -0.2463857044895908,
          0.6245045281110144,
          0.8555164928802641,
          1.1988953976408492,
          -0.5723976656240777,
          -1.5748027636843698,
          0.9167061250215789,
          0.544104248470251,
          0.2968935498590446
         ]
        },
        {
         "opacity": 0.8,
         "type": "histogram",
         "x": [
          -1.1191055433898809,
          0.9659561289669472,
          0.8795156350898643,
          1.4701955608371318,
          1.116039092793059,
          2.4094634732940934,
          0.7203839823084406,
          1.4104991614291327,
          -0.20115413688566797,
          -1.5149744101261673,
          0.15728128467189617,
          0.3770397042760685,
          -0.013510654428535718,
          1.6277742719436972,
          0.7587691381278661,
          -1.4341617165748102,
          1.0933483480379869,
          0.9596250830567551,
          0.8011296929065373,
          0.09964947577454064,
          -0.658897705182808,
          2.6707411097556366,
          -0.836752845183365,
          2.1191558235440975,
          1.8304807752947707,
          0.48823008145764357,
          1.2390889516920496,
          2.5461382874404705,
          0.35853598522761454,
          0.9571642588950586,
          1.4713533973121804,
          0.5083210291174225,
          0.039686801655995696,
          1.2305989800434483,
          2.2070008164649852,
          2.4736545887078627,
          -0.5216124050147195,
          2.288186312801585,
          0.4701829554595448,
          1.7556705755141329,
          1.6231343322353544,
          -0.1993992191845606,
          1.4288815624682545,
          0.9773311805333507,
          2.196910236436088,
          0.2989105254596761,
          -1.160184393316876,
          0.711760351156368,
          1.431319890895667,
          -0.0818647192974511,
          0.6657516722182708,
          1.7113748365974755,
          0.04493439128296317,
          0.6117393053374989,
          0.51412948003308,
          1.5964312786915438,
          -0.43941585981088793,
          1.383717103687483,
          0.48455048684755553,
          0.24083618219891545,
          1.295403182915349,
          1.524230630310829,
          3.180943138972327,
          0.6918700571315792,
          -0.13786496921733415,
          -1.5190571618108453,
          -0.7968059384138826,
          1.299680658715621,
          0.8079131909560817,
          0.05975455900053006,
          -0.16188867537456586,
          0.6192676156622295,
          0.8888822196739568,
          0.6101328942478763,
          2.632924943963454,
          0.8429981802006646,
          0.8345083538382254,
          1.375185886861166,
          2.327089486038868,
          0.006516098200986531,
          -0.42067929333665766,
          2.2217222171704667,
          0.4693450037777772,
          0.8999305146315368,
          2.146250175837667,
          0.15439165225474394,
          1.8231571443169465,
          0.358357147411521,
          -1.3347535299952096,
          1.6714853415732152,
          -0.7453642937414593,
          0.7334930280026044,
          1.3668673547365453,
          0.7275139715522652,
          1.483699258523079,
          -0.05136067251396992,
          0.0862029739774387,
          -0.35393702195183696,
          0.35325944764510075,
          1.9260810742200907,
          2.190153787931469,
          0.8256811261009313,
          1.0983065618661954,
          1.97542870019209,
          2.1342024128692136,
          -1.8977565683065718,
          2.426466609649282,
          -0.5308483629609524,
          1.3587298584173446,
          0.9498843657125525,
          -0.45231303729970085,
          1.1945529596687332,
          0.35217739706271833,
          1.6537819821019055,
          0.7852147198706506,
          1.6231947868119279,
          1.119395061990429,
          -1.4959215396168122,
          0.29014414189494353,
          1.4572576660426415,
          -0.3409770422814915,
          0.2990114670984394,
          -1.6869151048807565,
          0.96083331421608,
          0.8362384097516659,
          2.8358422361847864,
          1.691568700208465,
          0.6764791292440415,
          0.9157918034950105,
          1.4349044445297647,
          -0.07750553826999074,
          0.5928283737467743,
          -0.5061180799803038,
          0.5465725081277154,
          1.9295468255533192,
          0.7144726598586755,
          3.0952261700459713,
          0.7415811011880545,
          2.931079230230686,
          1.5026983658014395,
          0.2949562024763861,
          1.0808750201609851,
          -1.9605205586672585,
          1.9348058812204925,
          0.8290631991328072,
          0.48602303085520837,
          1.6013584195015276,
          0.9962529254828669,
          0.4190215069302792,
          1.0844140828265707,
          0.960814673186405,
          1.6346971172450435,
          -0.24271165646129833,
          2.16875063929695,
          0.8656481799091733,
          1.295552948775535,
          0.950761355998513,
          -0.07819359853766739,
          0.6589935590557612,
          0.3990641661467089,
          1.4192880206076253,
          0.9014695526759151,
          0.874057708424619,
          1.3302789397595016,
          1.5648596934801917,
          -0.05726168449971247,
          0.8126039410994518,
          1.1032806543222915,
          -0.1905021861720222,
          0.9967989931360892,
          0.3849488278654174,
          0.5008538301765841,
          1.0924508165249183,
          0.8256968611741546,
          1.3246812462009363,
          -0.4399991483520542,
          0.35066156574924623,
          1.2553710709855144,
          1.6695512126320198,
          0.7203488337321473,
          0.7871455691043846,
          1.3184827654530165,
          0.9468394285250996,
          2.2897217069862394,
          3.2461972440769706,
          -0.26862277457880146,
          1.1621746386617406,
          1.022069045350546,
          1.6987916552641882,
          0.7910464693061343,
          1.1937944178716264,
          1.5553789753744913,
          0.5271296329552706,
          1.581522615998421,
          0.34928492268608,
          2.4079326135592103,
          0.5150369436773138,
          2.0542655011525746,
          1.0981036212782889,
          0.6209113437693425,
          0.8547308093916705,
          0.7625821780350985,
          1.0032541312524892,
          1.9196448961154262,
          1.047906172338983,
          -0.2885932064156338,
          -0.8057205840525528,
          1.551171635113661,
          0.3121549481822802,
          0.34299994010138546,
          0.7948754269910691,
          0.5976401815543328,
          2.7473081214069057,
          0.5446116497780156,
          0.8412018357529318,
          1.502545620867396,
          0.45602072354455214,
          1.794497623490804,
          -0.026883180199858803,
          1.5326590765360235,
          2.266928613021567,
          -0.8022827478976098,
          1.1889529922433286,
          0.2616537883409613,
          2.5021269523526533,
          0.7771360522483496,
          0.7280940702792826,
          -0.12706699873852778,
          0.7060085134552823,
          1.7037928736379762,
          1.2596207842696925,
          1.5953186260391001,
          0.48841565427185185,
          2.0447365210065342,
          1.1987327265132972,
          1.219430631299418,
          0.7462520432436656,
          0.03530478617920296,
          2.5068601610527077,
          1.1119319268586019,
          0.6620766468167858,
          -0.40282800108978645,
          0.9399550387576328,
          0.10989591054221648,
          0.36822794476768883,
          -0.07208911466812218,
          0.6916314253300933,
          1.2781757632972115,
          2.706662681108063,
          1.3873469502917004,
          -0.7395668350205815,
          -0.0879044736875012,
          1.4148256397262413,
          -0.18319092369371126,
          0.6970439361510434,
          1.0532721534368052,
          0.7265720412036506,
          1.35006693525844,
          0.9169254898643443,
          1.9915517466147012,
          1.9368404032404882,
          -0.2576265119369485,
          1.0736095830913097,
          2.1888274318528955,
          1.0409620038910272,
          0.9056410602261206,
          0.5302311015559492,
          -0.7312808818157797,
          1.0189918498120027,
          1.196984361801529,
          0.21038458451283248,
          1.7725993085101721,
          0.8286665450872873,
          0.14417422940622715,
          2.154540774164081,
          -1.3996425313142642,
          0.35359240754556587,
          1.1176046514712976,
          -0.7465521574956813,
          -0.5762883707461319,
          1.6625687468995256,
          2.64405535806402,
          -0.7943356503057024,
          2.3558789588973186,
          2.7839408038479525,
          0.6932511943812427,
          1.9152241340882674,
          1.376260910227513,
          2.316664636262873,
          1.0337103739686344,
          1.5471422583969334,
          0.6722177357422606,
          2.5099705016349887,
          0.8858061265337691,
          0.08257089692145203,
          -0.6529122266646656,
          1.2446834969550835,
          0.40308178461410993,
          1.0671974444457275,
          -0.2824395024543356,
          2.1850841812934214,
          1.3015566354717325,
          1.9334941977598539,
          2.3756296567485387,
          1.9892876951711003,
          0.17548594446704702,
          0.6676423598749102,
          0.5619856838905577,
          1.7901185685014767,
          0.9567626448127227,
          0.7287775898782922,
          2.401848087997254,
          0.29197568656680206,
          0.49212474453188293,
          -0.43192603703850074,
          1.304514785579616,
          2.7094229219205954,
          2.550628220664967,
          0.23436731501252228,
          -0.21117999528761477,
          1.57351556589539,
          1.441724169631878,
          1.0813482471071907,
          1.9328986197129292,
          0.3391226292241646,
          0.7127969228552398,
          0.7915452776964219,
          1.0938035857461395,
          1.0795993103277448,
          0.8178953928918176,
          0.9469660177084693,
          1.3862315022968648,
          2.804266153315891,
          1.8968229084731965,
          0.09922334919990905,
          2.1104951302471404,
          2.3169377179663186,
          1.8158925214551322,
          3.8089160114851963,
          0.7189643236954271,
          1.6601197571727815,
          -0.7077860781530658,
          1.139844881233419,
          2.6547887311153513,
          1.040731957517947,
          2.460836039038705,
          0.20746676058953828,
          -0.055813332229911694,
          -0.04961960770466756,
          0.35076713818428595,
          -0.30171656726136153,
          0.1629446807623598,
          1.4790139202239054,
          1.6804349854153426,
          -0.4328292294788938,
          1.2593210684772047,
          0.6730021119984715,
          1.6323301561681367,
          1.5212367524879133,
          0.9098886055655626,
          2.2807293192244433,
          0.6339774404791265,
          1.4930026640420881,
          0.21461332346866058,
          1.3740502923355926,
          1.8138463719814615,
          0.03732424221150199,
          -0.14669462251575704,
          2.3468332638111016,
          0.8529978526118843,
          -0.7779128261190011,
          1.3348994231616853,
          -0.5970130811426044,
          0.5822090813110621,
          -0.9191151282435079,
          1.069081645178201,
          1.9976636392298437,
          -0.4759799074524049,
          1.54578592954814,
          1.8167174100164325,
          1.2894696505478844,
          0.42157976987962864,
          0.748951765971688,
          -0.5443784399885003,
          -0.8809869114713844,
          0.9025864228283391,
          1.8189060501044005,
          2.7533518317293364,
          2.0298598004335027,
          0.6850030832034514,
          0.41613542963765526,
          0.5709687974353074,
          -1.2436822308568103,
          1.9451040149366658,
          2.7474680531780007,
          1.3303045545790888,
          1.3644139985551709,
          3.9596133248379757,
          1.9655012949087864,
          0.8670565380038476,
          0.2269765684960131,
          1.176750171656422,
          0.9177636859557883,
          -0.2369499057955733,
          1.6667991441021646,
          1.7249036558083968,
          1.654552139170616,
          -0.5562925410323778,
          2.233199258077065,
          0.5888298571843369,
          0.9495113725217338,
          0.962853717595239,
          1.2288696367048269,
          2.5571453331695038,
          1.1189676067188061,
          0.06653662205910615,
          0.12316847530621744,
          1.1000399512750683,
          1.369667792146217,
          1.8097992329454151,
          -0.6381487704842896,
          0.9824882879608906,
          0.6483125067269278,
          1.8972280982096836,
          3.060818048088261,
          1.772913053812708,
          0.9415963353907332,
          1.9954915677218272,
          2.144971724961051,
          1.5840953865856595,
          0.06623775718199065,
          1.4008345715013917,
          0.08407595153521108,
          0.46728831964859296,
          -0.32257248548161943,
          1.2008275352680817,
          1.5606463656533576,
          0.13801408951160898,
          -0.5174469484373472,
          2.2769526131273032,
          -0.9411229702652586,
          2.7863516754278743,
          1.515130418482526,
          1.2137990794961733,
          1.5722457169814077,
          1.0013754326229933,
          0.9927798859892564,
          1.1871165698827617,
          0.04920851239838364,
          1.963819441684194,
          1.5161109464850946,
          -0.12921388852370264,
          1.867000847032876,
          2.8655206461300775,
          0.6106975322700792,
          -1.252650743911203,
          -0.7020350281561514,
          2.659849977259511,
          -0.5289514484552866,
          0.5899469433107766,
          1.689416272212624,
          1.473191887085433,
          -0.17621427528625278,
          4.515082111272868,
          0.8025370237972778,
          1.6898326097830394,
          0.8194265776634415,
          0.8610787955870489,
          1.1916466915742108,
          0.6903302380658788,
          2.216638069747545,
          2.0504429200816277,
          1.400488565049764,
          -0.18797124254242847,
          1.8335277933178356,
          1.1380999365744449,
          1.0398490308560653,
          1.0944094654847027,
          0.5271890289356814,
          1.6043108119023537,
          0.7872410494899063,
          1.8264277916034737,
          0.5457029308054064,
          -0.04006334412650814,
          -0.47425696971224784,
          0.5493074532950806,
          1.5933242299444912,
          2.546008068201884,
          0.9601976473350408,
          0.10290685357099383,
          0.4000205583375023,
          0.3368095266188882,
          1.0894419660998385,
          0.45970987556438014,
          0.9927806172212632,
          0.2594132569584132,
          0.3313662219892646,
          0.9414577762935771,
          0.5236999776731914,
          2.3436587223608583,
          1.00518820044975,
          1.4782980885487382,
          0.9305030106638174,
          0.5227010916389809,
          2.329630862832122,
          -0.3106540839829379,
          0.5043245917538481,
          0.9268140826400463,
          1.704147258630428,
          2.611854294777916,
          0.4940918191410125,
          0.7418695667978521,
          -0.15264560131074956,
          2.6040270289339,
          0.9855334630836039,
          0.11391641546910469,
          0.5708967758953607,
          1.8562181581871344,
          3.2910658139330002,
          1.8146176419976856,
          -0.21437777609752984,
          0.12971315306546283,
          0.9378308931565279,
          0.09074979600750799,
          1.4649089894184084,
          1.6532129037958174,
          1.1343401840181833,
          0.6665855482131238,
          -0.12542442967111755,
          -0.40956274651727465,
          2.002488244865683,
          1.1777637128580865,
          0.32626708598377574,
          1.2668616088732298,
          2.065138835718396,
          2.522344913900899,
          -0.5223102872387095,
          1.4244205872320783,
          -0.3222113359005674,
          0.8872917918655571,
          1.2120823000029093,
          1.4933660038378491,
          0.5550761023374883,
          1.6537484524581323,
          3.179637347216657,
          1.1639400964587665,
          -0.4678768671196414,
          0.5167881358340028,
          0.6697166192093562,
          2.011787245813797,
          1.324040671131886,
          1.364519693647068,
          1.350953837341506,
          2.902076602029413,
          1.6112551044227454,
          1.2357905437207561,
          3.3823490701253256,
          1.5997311068848736,
          1.5202358145127781,
          1.2062136753833754,
          -0.4155020236278395,
          1.0107338027259394,
          1.9152826476644194,
          1.2663189130992087,
          1.5369243642515737,
          0.37759687604030545,
          2.0297605047773164,
          2.7083703502008634,
          2.1776068195899425,
          0.5409327257632006,
          1.3489577018750463,
          1.255747660541137,
          2.7118920322073246,
          -0.7905804790097466,
          -0.49168537701772674,
          0.9641667344335134,
          -0.3048256328714851,
          0.8310932618241295,
          1.8011735880958688,
          2.3298376797400837,
          2.279874025583422,
          -1.5381447422420491,
          1.186234366259035,
          1.2197022702624642,
          1.2975705674624647,
          0.8368382254680999,
          0.5610639266440264,
          1.6234925838184355,
          -0.04256078223112114,
          0.35951174102399597,
          2.438008645331455,
          -0.7935094558441695,
          0.9712940759291169,
          2.111594364473115,
          0.9705817131987406,
          3.0537450033217177,
          0.7951766518180114,
          0.7989609937581934,
          1.7003246546448074,
          0.43799285662208787,
          -0.4272339607174849,
          0.36731741446103494,
          0.7053655308324138,
          2.247972692612837,
          1.002018841836759,
          0.5665258532826114,
          0.5545688711181169,
          0.7767552225962492,
          3.2392773341648606,
          1.7556778435289508,
          0.8014971124965937,
          0.12021958492376628,
          0.30032495829207106,
          -0.0800675374530817,
          2.7513522709885088,
          0.21712973509227207,
          0.8667065164083321,
          1.6308932363750817,
          0.5411811902587813,
          -0.08764631077957485,
          0.5098508036450498,
          0.30650481009052055,
          2.135100847637487,
          2.334878508371497,
          1.7983125775638802,
          2.0490435474756623,
          2.2324032726225385,
          0.5937170833880796,
          -0.949053578433555,
          2.4702942954477365,
          2.1213323204171024,
          0.9335343930664589,
          2.2030103257580476,
          -0.12582091825954733,
          1.9872509112539811,
          2.164483244537469,
          1.357634284187793,
          -0.2905526822693416,
          0.049922714893385955,
          1.639047664136938,
          1.4592274931407083,
          3.556534283689388,
          0.8521050011993286,
          1.6752430453610565,
          3.4156205097992207,
          0.8626234370170696,
          0.8145788031662439,
          1.8365032093373541,
          0.7817522126824386,
          -0.11516436534747765,
          0.8602565181653022,
          1.837971079792607,
          -0.4550529116337041,
          0.31167737600542855,
          0.891459792575899,
          2.7204614530184044,
          1.2230792415787661,
          0.8684535939390655,
          1.438574909365701,
          -0.21093467072618388,
          0.7972377479761146,
          0.8413505487269002,
          0.8666711506888386,
          -1.1042563926774553,
          0.3673043754735551,
          0.6495120222894655,
          -0.29759110089440455,
          -0.02851727947843874,
          1.9117762872558162,
          0.3540889200661579,
          -0.9305473823569439,
          1.4573485141797415,
          1.5094924198840802,
          2.8808508969725946,
          0.5283142208874732,
          -0.25341429542526805,
          -1.4593173088590534,
          1.2760340843075249,
          0.3929829475238251,
          3.2050497148586654,
          1.037400035351586,
          0.0304981318752795,
          0.8764792905610143,
          -0.8205498704669327,
          2.9464856721187584,
          1.8315884541823013,
          0.49339686537493654,
          0.7287072693771672,
          0.3050520250831672,
          0.9038145518401993,
          1.54578140096566,
          0.4561148947668956,
          0.14790271959454127,
          1.4670192486242422,
          -0.11173858617177568,
          0.9587775471422498,
          1.829174484067463,
          1.2878331655883093,
          1.4778283480863548,
          0.2426155580658138,
          -0.08849837834508323,
          0.9091409556610992,
          -0.7229152323707932,
          1.3964599145070684,
          -0.25929519391485223,
          1.0506534353890744,
          2.2519548040719752,
          1.6271477496235027,
          1.9783590648911153,
          -0.5176784571081305,
          1.392441802548279,
          0.36858914913527285,
          0.41872270004765677,
          3.4416346237484103,
          2.5735766616648017,
          0.32737946425193165,
          0.4485469998530911,
          -0.9665024421636628,
          0.9266433469056194,
          1.1582669000490642,
          1.2300933474946203,
          1.151314884959059,
          1.817396300466017,
          1.142531020680857,
          1.1714691898872944,
          2.594946005982965,
          0.6942859693031825,
          -0.5484965274822533,
          1.454110392091458,
          1.0596569743141746,
          0.5944029713061424,
          0.060630211439751225,
          0.5438710234286095,
          0.7245502969665715,
          2.1817052588013737,
          0.864706887099941,
          2.32170323304154,
          0.5228047811152586,
          0.9614015732149699,
          0.8041076636416276,
          1.5092316946228734,
          0.8503513996313744,
          1.4545938633224949,
          0.11252909544749579,
          0.7640063959260974,
          0.5746843612146971,
          -0.8620509354721588,
          3.4315436321927906,
          0.2835996566799297,
          2.0479296407766747,
          3.0287877900237663,
          1.908061878766746,
          -0.31813095661418545,
          0.7744023184511404,
          -0.12428339576580005,
          0.09212459550100371,
          1.5516962378352097,
          -1.157952730079891,
          -0.37637491377695076,
          -0.3015049579872795,
          0.9826221694879247,
          0.9908348162607022,
          1.1973205556941642,
          2.197694129525681,
          1.458038376521824,
          1.7629649422818243,
          0.8719021611500092,
          0.2599293594745492,
          1.7561322564611064,
          0.8023491604546258,
          3.1946957460657144,
          0.6141456000008241,
          2.2464923811033457,
          0.3945327095617416,
          0.5612748510832348,
          1.6278502246801207,
          3.4311251474812194,
          0.26192750482816884,
          0.8288755484018241,
          1.008674315114822,
          0.10162907623887352,
          0.7485443331700993,
          -0.8316030787471589,
          1.1481764280757105,
          0.48804458472476064,
          -1.3314821472409628,
          0.2711606735626171,
          0.24270192481102137,
          1.7112837702490449,
          1.275395602913112,
          2.5583201840794505,
          0.4188106816453888,
          -0.2803034429523037,
          -0.28474700862907687,
          1.8112204262159002,
          3.230963891115396,
          0.17159062404655767,
          0.6367446783185788,
          0.1443659283704426,
          -0.2839784888861381,
          1.8716868406966396,
          1.0255655603518365,
          0.41573128532165926,
          2.479708755634525,
          0.7407882791985421,
          0.4505325875965157,
          2.177752071061786,
          1.8887220844849963,
          0.6973160696932346,
          0.9926974055920804,
          1.8755716618502132,
          1.3659047290901467,
          1.328341461292536,
          0.9727699994779215,
          1.3561876731209916,
          1.3029320390771222,
          2.5501157775388696,
          0.6216363251011918,
          3.2503168874780237,
          0.5211754498350161,
          0.22498253528626766,
          1.4479218563215945,
          0.48242520538376654,
          0.6091047090501982,
          0.9409852729352082,
          0.0960528340047917,
          1.2670802628794569,
          1.085945227509092,
          1.3341363994708635,
          0.6415366116406445,
          1.0578149022341523,
          1.0466551596410787,
          2.0558241535066166,
          0.9133416603890463,
          3.601797099250393,
          0.3831390440453276,
          1.2651184949474272,
          0.5998788178139773,
          1.8453305961740565,
          1.1035055757251149,
          0.05051048709622108,
          -0.033964356596683176,
          0.9400538993244026,
          1.0703251984395372,
          0.06880875563351452,
          0.052542932883210214,
          2.9483461977833514,
          2.3094011809123756,
          0.3633787530827196,
          1.5982150190277973,
          0.5217885017400649,
          2.4403656852595357,
          0.9054113811545654,
          2.8829788839285,
          0.5217547456256268,
          0.19241558514729984,
          1.5394123657056218,
          1.0997439617714502,
          0.3984389724702223,
          1.945589637960281,
          1.5348701970581942,
          0.9803117219112548,
          1.8728129164728737,
          0.1365779786652871,
          2.3695115017022523,
          3.6463980518802526,
          2.18520876141197,
          1.4451034045255402,
          -0.17866184420896403,
          2.4336562755645224,
          2.171781963989125,
          0.35391144138369424,
          1.1352484049210445,
          1.3051347738860586,
          -0.17290189021951985,
          1.2746003131243686,
          -0.4372619411914078,
          0.8369770390181412,
          1.7526144342241339,
          -1.0443783226150618,
          1.414993866255299,
          0.4751580576782034,
          0.9487564860707229,
          1.361590554480041,
          1.255314622419833,
          -0.9333911350895876,
          0.800813949073563,
          1.6958529304862164,
          3.120895527678448,
          1.8319916990107754,
          1.08065810683765,
          1.8799066036306749,
          -0.31422939773314695,
          0.6946933633358711,
          1.0259942251798189,
          2.313334183980181,
          1.2503609123586903,
          2.0707278648555083,
          1.2760035478961063,
          0.4511367213389751,
          0.9532744378654282,
          0.6970608003762497,
          1.7492552844171296,
          1.184770606819184,
          1.0275778156541735,
          1.4633145354375579,
          0.1945367465466049,
          1.6198484821979753,
          1.621156983532972,
          0.6982199480489722,
          1.589280915090483,
          0.2661478506389521,
          -0.17427111660535632,
          -0.44273910373147163,
          1.8013206297294095,
          0.38067970515923377,
          0.1484102478546001,
          0.4619512789242858,
          0.6524354210875318,
          1.4093669635372639,
          1.2286789614215514,
          1.7622553383162916,
          2.515282861506202,
          -0.3133600699957031,
          1.692924609635393,
          0.2617641148498322,
          -0.3102754278787454,
          1.8552818789792473,
          2.799662743818433,
          0.7883739672471406,
          1.1752758820210634,
          0.1911040758988266,
          2.0051564595826523,
          0.8750606267747185,
          0.5867716849831304,
          -0.5595601452939414,
          1.1295261397832808,
          1.82503306617965,
          0.3119578278847842,
          1.6851520430104279,
          1.170836231904772,
          1.47898679103453,
          1.9593264410686158,
          1.614724524247022,
          1.9579563501949444,
          1.1210419275311918,
          -0.08515724116891032,
          -1.3170761106897992,
          0.6383915941321012,
          0.6121583743947909,
          2.0650534828051317,
          -0.1355420703629293,
          0.9669647393801108,
          3.6756807392939934,
          -0.2984241501988991,
          1.217280062203737,
          0.8547998706857506,
          0.44878029718789236,
          1.0188336191234684,
          2.9922346851438215,
          0.15670995269588417,
          1.4404890324344382,
          -0.13465947734069794,
          -0.12440843597423146,
          0.23197973494636126,
          1.7859824146309702,
          0.9834268107576333,
          0.6599861244084086,
          2.004846793103327,
          1.8277291619430658,
          1.8381796058974196,
          1.5412701271076812,
          0.9167721211661162,
          0.12557438137540866,
          0.7433306853348609,
          -1.1722482702277612,
          0.47659296676266805,
          3.4057950700932014,
          -0.1382548019166414,
          0.51810137480039,
          -0.03565097788574101,
          -1.0060494968293945,
          -0.14288216468536552,
          1.5258923521532362,
          0.4795037624043238,
          1.2221183736486694,
          0.5719120546754302,
          2.54354303757123,
          0.7142172831108692,
          2.829291779089387,
          2.983249619309719,
          1.8967809307187347,
          1.9181596163000654,
          0.8917942871361838,
          2.9097861299195587,
          0.5535273918151408,
          1.500408150235695,
          0.7536484180217637,
          0.131230130903069,
          2.181985169947324
         ]
        }
       ],
       "layout": {
        "barmode": "stack",
        "template": {
         "data": {
          "bar": [
           {
            "error_x": {
             "color": "#2a3f5f"
            },
            "error_y": {
             "color": "#2a3f5f"
            },
            "marker": {
             "line": {
              "color": "#E5ECF6",
              "width": 0.5
             },
             "pattern": {
              "fillmode": "overlay",
              "size": 10,
              "solidity": 0.2
             }
            },
            "type": "bar"
           }
          ],
          "barpolar": [
           {
            "marker": {
             "line": {
              "color": "#E5ECF6",
              "width": 0.5
             },
             "pattern": {
              "fillmode": "overlay",
              "size": 10,
              "solidity": 0.2
             }
            },
            "type": "barpolar"
           }
          ],
          "carpet": [
           {
            "aaxis": {
             "endlinecolor": "#2a3f5f",
             "gridcolor": "white",
             "linecolor": "white",
             "minorgridcolor": "white",
             "startlinecolor": "#2a3f5f"
            },
            "baxis": {
             "endlinecolor": "#2a3f5f",
             "gridcolor": "white",
             "linecolor": "white",
             "minorgridcolor": "white",
             "startlinecolor": "#2a3f5f"
            },
            "type": "carpet"
           }
          ],
          "choropleth": [
           {
            "colorbar": {
             "outlinewidth": 0,
             "ticks": ""
            },
            "type": "choropleth"
           }
          ],
          "contour": [
           {
            "colorbar": {
             "outlinewidth": 0,
             "ticks": ""
            },
            "colorscale": [
             [
              0,
              "#0d0887"
             ],
             [
              0.1111111111111111,
              "#46039f"
             ],
             [
              0.2222222222222222,
              "#7201a8"
             ],
             [
              0.3333333333333333,
              "#9c179e"
             ],
             [
              0.4444444444444444,
              "#bd3786"
             ],
             [
              0.5555555555555556,
              "#d8576b"
             ],
             [
              0.6666666666666666,
              "#ed7953"
             ],
             [
              0.7777777777777778,
              "#fb9f3a"
             ],
             [
              0.8888888888888888,
              "#fdca26"
             ],
             [
              1,
              "#f0f921"
             ]
            ],
            "type": "contour"
           }
          ],
          "contourcarpet": [
           {
            "colorbar": {
             "outlinewidth": 0,
             "ticks": ""
            },
            "type": "contourcarpet"
           }
          ],
          "heatmap": [
           {
            "colorbar": {
             "outlinewidth": 0,
             "ticks": ""
            },
            "colorscale": [
             [
              0,
              "#0d0887"
             ],
             [
              0.1111111111111111,
              "#46039f"
             ],
             [
              0.2222222222222222,
              "#7201a8"
             ],
             [
              0.3333333333333333,
              "#9c179e"
             ],
             [
              0.4444444444444444,
              "#bd3786"
             ],
             [
              0.5555555555555556,
              "#d8576b"
             ],
             [
              0.6666666666666666,
              "#ed7953"
             ],
             [
              0.7777777777777778,
              "#fb9f3a"
             ],
             [
              0.8888888888888888,
              "#fdca26"
             ],
             [
              1,
              "#f0f921"
             ]
            ],
            "type": "heatmap"
           }
          ],
          "heatmapgl": [
           {
            "colorbar": {
             "outlinewidth": 0,
             "ticks": ""
            },
            "colorscale": [
             [
              0,
              "#0d0887"
             ],
             [
              0.1111111111111111,
              "#46039f"
             ],
             [
              0.2222222222222222,
              "#7201a8"
             ],
             [
              0.3333333333333333,
              "#9c179e"
             ],
             [
              0.4444444444444444,
              "#bd3786"
             ],
             [
              0.5555555555555556,
              "#d8576b"
             ],
             [
              0.6666666666666666,
              "#ed7953"
             ],
             [
              0.7777777777777778,
              "#fb9f3a"
             ],
             [
              0.8888888888888888,
              "#fdca26"
             ],
             [
              1,
              "#f0f921"
             ]
            ],
            "type": "heatmapgl"
           }
          ],
          "histogram": [
           {
            "marker": {
             "pattern": {
              "fillmode": "overlay",
              "size": 10,
              "solidity": 0.2
             }
            },
            "type": "histogram"
           }
          ],
          "histogram2d": [
           {
            "colorbar": {
             "outlinewidth": 0,
             "ticks": ""
            },
            "colorscale": [
             [
              0,
              "#0d0887"
             ],
             [
              0.1111111111111111,
              "#46039f"
             ],
             [
              0.2222222222222222,
              "#7201a8"
             ],
             [
              0.3333333333333333,
              "#9c179e"
             ],
             [
              0.4444444444444444,
              "#bd3786"
             ],
             [
              0.5555555555555556,
              "#d8576b"
             ],
             [
              0.6666666666666666,
              "#ed7953"
             ],
             [
              0.7777777777777778,
              "#fb9f3a"
             ],
             [
              0.8888888888888888,
              "#fdca26"
             ],
             [
              1,
              "#f0f921"
             ]
            ],
            "type": "histogram2d"
           }
          ],
          "histogram2dcontour": [
           {
            "colorbar": {
             "outlinewidth": 0,
             "ticks": ""
            },
            "colorscale": [
             [
              0,
              "#0d0887"
             ],
             [
              0.1111111111111111,
              "#46039f"
             ],
             [
              0.2222222222222222,
              "#7201a8"
             ],
             [
              0.3333333333333333,
              "#9c179e"
             ],
             [
              0.4444444444444444,
              "#bd3786"
             ],
             [
              0.5555555555555556,
              "#d8576b"
             ],
             [
              0.6666666666666666,
              "#ed7953"
             ],
             [
              0.7777777777777778,
              "#fb9f3a"
             ],
             [
              0.8888888888888888,
              "#fdca26"
             ],
             [
              1,
              "#f0f921"
             ]
            ],
            "type": "histogram2dcontour"
           }
          ],
          "mesh3d": [
           {
            "colorbar": {
             "outlinewidth": 0,
             "ticks": ""
            },
            "type": "mesh3d"
           }
          ],
          "parcoords": [
           {
            "line": {
             "colorbar": {
              "outlinewidth": 0,
              "ticks": ""
             }
            },
            "type": "parcoords"
           }
          ],
          "pie": [
           {
            "automargin": true,
            "type": "pie"
           }
          ],
          "scatter": [
           {
            "fillpattern": {
             "fillmode": "overlay",
             "size": 10,
             "solidity": 0.2
            },
            "type": "scatter"
           }
          ],
          "scatter3d": [
           {
            "line": {
             "colorbar": {
              "outlinewidth": 0,
              "ticks": ""
             }
            },
            "marker": {
             "colorbar": {
              "outlinewidth": 0,
              "ticks": ""
             }
            },
            "type": "scatter3d"
           }
          ],
          "scattercarpet": [
           {
            "marker": {
             "colorbar": {
              "outlinewidth": 0,
              "ticks": ""
             }
            },
            "type": "scattercarpet"
           }
          ],
          "scattergeo": [
           {
            "marker": {
             "colorbar": {
              "outlinewidth": 0,
              "ticks": ""
             }
            },
            "type": "scattergeo"
           }
          ],
          "scattergl": [
           {
            "marker": {
             "colorbar": {
              "outlinewidth": 0,
              "ticks": ""
             }
            },
            "type": "scattergl"
           }
          ],
          "scattermapbox": [
           {
            "marker": {
             "colorbar": {
              "outlinewidth": 0,
              "ticks": ""
             }
            },
            "type": "scattermapbox"
           }
          ],
          "scatterpolar": [
           {
            "marker": {
             "colorbar": {
              "outlinewidth": 0,
              "ticks": ""
             }
            },
            "type": "scatterpolar"
           }
          ],
          "scatterpolargl": [
           {
            "marker": {
             "colorbar": {
              "outlinewidth": 0,
              "ticks": ""
             }
            },
            "type": "scatterpolargl"
           }
          ],
          "scatterternary": [
           {
            "marker": {
             "colorbar": {
              "outlinewidth": 0,
              "ticks": ""
             }
            },
            "type": "scatterternary"
           }
          ],
          "surface": [
           {
            "colorbar": {
             "outlinewidth": 0,
             "ticks": ""
            },
            "colorscale": [
             [
              0,
              "#0d0887"
             ],
             [
              0.1111111111111111,
              "#46039f"
             ],
             [
              0.2222222222222222,
              "#7201a8"
             ],
             [
              0.3333333333333333,
              "#9c179e"
             ],
             [
              0.4444444444444444,
              "#bd3786"
             ],
             [
              0.5555555555555556,
              "#d8576b"
             ],
             [
              0.6666666666666666,
              "#ed7953"
             ],
             [
              0.7777777777777778,
              "#fb9f3a"
             ],
             [
              0.8888888888888888,
              "#fdca26"
             ],
             [
              1,
              "#f0f921"
             ]
            ],
            "type": "surface"
           }
          ],
          "table": [
           {
            "cells": {
             "fill": {
              "color": "#EBF0F8"
             },
             "line": {
              "color": "white"
             }
            },
            "header": {
             "fill": {
              "color": "#C8D4E3"
             },
             "line": {
              "color": "white"
             }
            },
            "type": "table"
           }
          ]
         },
         "layout": {
          "annotationdefaults": {
           "arrowcolor": "#2a3f5f",
           "arrowhead": 0,
           "arrowwidth": 1
          },
          "autotypenumbers": "strict",
          "coloraxis": {
           "colorbar": {
            "outlinewidth": 0,
            "ticks": ""
           }
          },
          "colorscale": {
           "diverging": [
            [
             0,
             "#8e0152"
            ],
            [
             0.1,
             "#c51b7d"
            ],
            [
             0.2,
             "#de77ae"
            ],
            [
             0.3,
             "#f1b6da"
            ],
            [
             0.4,
             "#fde0ef"
            ],
            [
             0.5,
             "#f7f7f7"
            ],
            [
             0.6,
             "#e6f5d0"
            ],
            [
             0.7,
             "#b8e186"
            ],
            [
             0.8,
             "#7fbc41"
            ],
            [
             0.9,
             "#4d9221"
            ],
            [
             1,
             "#276419"
            ]
           ],
           "sequential": [
            [
             0,
             "#0d0887"
            ],
            [
             0.1111111111111111,
             "#46039f"
            ],
            [
             0.2222222222222222,
             "#7201a8"
            ],
            [
             0.3333333333333333,
             "#9c179e"
            ],
            [
             0.4444444444444444,
             "#bd3786"
            ],
            [
             0.5555555555555556,
             "#d8576b"
            ],
            [
             0.6666666666666666,
             "#ed7953"
            ],
            [
             0.7777777777777778,
             "#fb9f3a"
            ],
            [
             0.8888888888888888,
             "#fdca26"
            ],
            [
             1,
             "#f0f921"
            ]
           ],
           "sequentialminus": [
            [
             0,
             "#0d0887"
            ],
            [
             0.1111111111111111,
             "#46039f"
            ],
            [
             0.2222222222222222,
             "#7201a8"
            ],
            [
             0.3333333333333333,
             "#9c179e"
            ],
            [
             0.4444444444444444,
             "#bd3786"
            ],
            [
             0.5555555555555556,
             "#d8576b"
            ],
            [
             0.6666666666666666,
             "#ed7953"
            ],
            [
             0.7777777777777778,
             "#fb9f3a"
            ],
            [
             0.8888888888888888,
             "#fdca26"
            ],
            [
             1,
             "#f0f921"
            ]
           ]
          },
          "colorway": [
           "#636efa",
           "#EF553B",
           "#00cc96",
           "#ab63fa",
           "#FFA15A",
           "#19d3f3",
           "#FF6692",
           "#B6E880",
           "#FF97FF",
           "#FECB52"
          ],
          "font": {
           "color": "#2a3f5f"
          },
          "geo": {
           "bgcolor": "white",
           "lakecolor": "white",
           "landcolor": "#E5ECF6",
           "showlakes": true,
           "showland": true,
           "subunitcolor": "white"
          },
          "hoverlabel": {
           "align": "left"
          },
          "hovermode": "closest",
          "mapbox": {
           "style": "light"
          },
          "paper_bgcolor": "white",
          "plot_bgcolor": "#E5ECF6",
          "polar": {
           "angularaxis": {
            "gridcolor": "white",
            "linecolor": "white",
            "ticks": ""
           },
           "bgcolor": "#E5ECF6",
           "radialaxis": {
            "gridcolor": "white",
            "linecolor": "white",
            "ticks": ""
           }
          },
          "scene": {
           "xaxis": {
            "backgroundcolor": "#E5ECF6",
            "gridcolor": "white",
            "gridwidth": 2,
            "linecolor": "white",
            "showbackground": true,
            "ticks": "",
            "zerolinecolor": "white"
           },
           "yaxis": {
            "backgroundcolor": "#E5ECF6",
            "gridcolor": "white",
            "gridwidth": 2,
            "linecolor": "white",
            "showbackground": true,
            "ticks": "",
            "zerolinecolor": "white"
           },
           "zaxis": {
            "backgroundcolor": "#E5ECF6",
            "gridcolor": "white",
            "gridwidth": 2,
            "linecolor": "white",
            "showbackground": true,
            "ticks": "",
            "zerolinecolor": "white"
           }
          },
          "shapedefaults": {
           "line": {
            "color": "#2a3f5f"
           }
          },
          "ternary": {
           "aaxis": {
            "gridcolor": "white",
            "linecolor": "white",
            "ticks": ""
           },
           "baxis": {
            "gridcolor": "white",
            "linecolor": "white",
            "ticks": ""
           },
           "bgcolor": "#E5ECF6",
           "caxis": {
            "gridcolor": "white",
            "linecolor": "white",
            "ticks": ""
           }
          },
          "title": {
           "x": 0.05
          },
          "xaxis": {
           "automargin": true,
           "gridcolor": "white",
           "linecolor": "white",
           "ticks": "",
           "title": {
            "standoff": 15
           },
           "zerolinecolor": "white",
           "zerolinewidth": 2
          },
          "yaxis": {
           "automargin": true,
           "gridcolor": "white",
           "linecolor": "white",
           "ticks": "",
           "title": {
            "standoff": 15
           },
           "zerolinecolor": "white",
           "zerolinewidth": 2
          }
         }
        }
       }
      }
     },
     "metadata": {},
     "output_type": "display_data"
    }
   ],
   "source": [
    "fig = go.Figure()\n",
    "fig.add_trace(go.Histogram(x=n1))\n",
    "fig.add_trace(go.Histogram(x=n2))\n",
    "fig.update_layout(barmode='stack') # barmode = stack (더 많은 쪽이 잡아먹는)\n",
    "fig.show()"
   ]
  },
  {
   "cell_type": "code",
   "execution_count": 40,
   "metadata": {},
   "outputs": [
    {
     "data": {
      "application/vnd.plotly.v1+json": {
       "config": {
        "plotlyServerURL": "https://plot.ly"
       },
       "data": [
        {
         "cumulative": {
          "enabled": true
         },
         "type": "histogram",
         "x": [
          -1.0481278524505033,
          0.8287384308179823,
          -0.3979873180932594,
          -0.45581854598158855,
          -0.6989568248715256,
          1.2397219030958013,
          0.5304999973675413,
          0.7584006809353052,
          -1.352449421669454,
          0.9105994028892075,
          -0.3146135457217202,
          0.28112758076908767,
          0.19596424228544787,
          0.4935334074788573,
          -0.4012956767540131,
          -2.353668743378184,
          0.6984010515198812,
          -0.020641286428613025,
          1.0019192243844113,
          -0.3206927614144954,
          1.1665817092736304,
          -1.5937113297859646,
          -1.5128486141417141,
          -0.8767817762822573,
          -1.0675207964958984,
          0.6324719966005344,
          -0.7411170685207581,
          -0.7532158640537826,
          0.8950044990762569,
          -0.24518097506170533,
          1.6241729586416727,
          -0.7951173395537706,
          0.05797210311746058,
          0.6290893835860042,
          2.4913506077003165,
          1.0197955387450595,
          0.466000393201028,
          -0.6458390507295624,
          1.0760612598641075,
          -2.0288977582816745,
          0.07738187709816989,
          -0.026519381824686564,
          -0.5707118356606999,
          0.291061478130548,
          -0.6596962458403687,
          1.0438499008816637,
          -2.146794794481073,
          -1.0644746522356796,
          -0.0976106132983066,
          1.256051133384363,
          0.027411053906381124,
          2.0985949370136514,
          0.670064321720626,
          1.8080310573616498,
          -1.8147513162008473,
          0.2902556660061501,
          1.1930313104730736,
          1.6053791706889113,
          -1.340013238701999,
          -0.1786296443571832,
          0.9034227859629759,
          0.5251975499529816,
          0.7247680322364825,
          -0.708090708364972,
          0.25730643079226545,
          0.446529706786693,
          -1.2934950768027194,
          1.0053497344746316,
          0.5673990896051856,
          1.0408422793019407,
          -1.1317098914813295,
          -1.0285699086552211,
          0.12367984886630828,
          1.3414279889921294,
          -1.6336125453800163,
          0.1080805241096625,
          2.014408559826338,
          1.658841885305958,
          0.7368395499049484,
          -0.005541156644548743,
          -1.1706396350498376,
          -1.0752656078213716,
          -0.21085702622385472,
          -0.4125176558315054,
          -1.9492107262839955,
          0.598933776114234,
          0.5961549195295863,
          0.01547121186638872,
          -0.48881530190139716,
          0.19202439608128088,
          -0.33038946852872236,
          0.4274475564398668,
          -0.2967341457820979,
          0.29075004905287205,
          0.8487690539213704,
          0.6934048330023095,
          0.050880427334112265,
          2.162996617988915,
          0.7910926821759915,
          -3.0348026689760412,
          0.3553722661023333,
          -1.1660918620992178,
          -0.6700090883921292,
          0.24734242000627865,
          -0.3306846806591964,
          0.027427003334888865,
          0.0034320386865152337,
          -1.0726982620240977,
          -1.3912606653512098,
          0.8309829537003641,
          -1.725787106400472,
          -1.1769532903699345,
          -0.7282248904257632,
          1.1182100479901835,
          -0.1682360042550365,
          0.1234404366668646,
          0.7930703288184332,
          -1.052102475935429,
          0.24863178340121006,
          0.6579262730221491,
          -0.629764701093676,
          0.898695809411111,
          1.9650132697276839,
          -1.2019471393770444,
          -1.166228358756408,
          0.49264457030696596,
          0.3507190754817768,
          -1.1435086063449529,
          -1.6729217450240905,
          0.04905038859776211,
          -0.664360626367652,
          0.8105960071344002,
          -1.5413150320385338,
          -1.195259861631151,
          0.4031792939879739,
          -0.4942996231943083,
          -0.027891274270047648,
          -1.401171085183534,
          -0.3316720586831255,
          -0.6720028762646435,
          0.04740373250838496,
          -1.0325029185413803,
          -1.1591795096935458,
          0.6470137657000512,
          -0.005450986100554101,
          0.7075068277045631,
          -0.26375280574196786,
          -1.8855422199937029,
          -1.4477562310678531,
          -0.3394544127404813,
          -0.12186894416887806,
          0.051856226715466094,
          -0.42269736634399413,
          -0.25312230960030524,
          -0.6024108320760038,
          0.07524314261914307,
          -0.9376460005416153,
          -0.6134164928733893,
          0.1911288574883624,
          1.1064368064536347,
          1.894669749619205,
          -0.6234277796161241,
          -1.0269394915801646,
          -0.4342671206517514,
          0.10831421953255098,
          0.8292093382575313,
          0.7702818558688914,
          1.727008706203484,
          1.3124757717076636,
          0.0029400254838769305,
          -0.9184500547184855,
          -0.46568514016753765,
          -0.46767322081853396,
          0.31436716217712396,
          -0.4658744986741979,
          -2.0019017695932018,
          -0.04006650467137647,
          -1.2568645896905126,
          0.7648300568902099,
          -0.6407418871355273,
          -0.7537170916749207,
          -1.7064852654202574,
          -1.0039718659379988,
          0.5220464650431736,
          -0.41804948973784684,
          1.95268962568097,
          0.11536024182167298,
          -0.8811384992522462,
          -0.22660827442049397,
          -0.38425865733458736,
          -1.15338502182539,
          -1.7588800039520678,
          0.9584933970072305,
          -1.295094704017377,
          1.2646346469304834,
          1.7350296328805723,
          0.5431305620334135,
          -0.39810995562006296,
          3.2485232418321472,
          -0.8963615524846973,
          -0.6834555030745655,
          0.1918195560955902,
          0.09485941439844492,
          0.2559330411606666,
          -0.4989759459930875,
          -0.13173321635293916,
          -0.20166375285786178,
          -0.6873992752443991,
          1.235482148150005,
          -1.3021825940280305,
          -0.6848488540045247,
          0.7529687044463926,
          -0.22968437873805367,
          -0.45921913579482,
          0.001292504452922446,
          -0.20998171841513885,
          -1.0420133857687344,
          1.5446433927423948,
          2.062744005866237,
          0.3825652413651937,
          -0.6546628001813317,
          1.6823117917919599,
          -0.0026498837194770496,
          -0.8102554773407696,
          -0.13750479822096973,
          -1.1693359903533664,
          -0.8080539449782584,
          -0.24822376163604587,
          1.0021146219676025,
          0.3754902791307722,
          -0.42321370922646323,
          1.6206136217951994,
          0.0003803856279145174,
          -0.34053038627216664,
          0.4652613940670084,
          0.2493433182114157,
          -0.9526485824992185,
          -0.8904522137831917,
          1.153427616386712,
          -0.28202798400606305,
          -1.4714989124352331,
          -1.1393831740331415,
          -0.49532100554450914,
          0.6082945392459901,
          -0.18795299824261283,
          0.7636785538922635,
          0.6167611490265592,
          -0.6787676887445392,
          -0.7658880173099003,
          -1.030869124780886,
          -0.5913575163359506,
          1.0154770232754278,
          -0.027279284016350148,
          1.105561964386081,
          -2.05831865732214,
          1.017398590341418,
          -2.323096871944394,
          0.9837903364448247,
          -0.7390029242653489,
          0.3440341148221086,
          0.5789777935724243,
          -0.6119875509720838,
          -0.639663734048454,
          0.09272922788337788,
          4.257370442378257,
          0.4677944712406311,
          0.1081184516149046,
          2.1385473545620868,
          -0.6470577980348646,
          1.7822495020749176,
          -1.0462593997725331,
          0.21031825890358208,
          0.42506942156577276,
          -0.48295280193607726,
          2.7463415173846317,
          -0.6367867876710269,
          0.1356505802857776,
          0.9596695170494286,
          -1.390977313119965,
          -0.9377895697222445,
          -0.9788223408893421,
          -0.052600882222219016,
          1.6612028216416834,
          0.3707249451269379,
          -0.7068924237727419,
          -0.8015646523600356,
          -0.13576686816134037,
          -0.47806015074052954,
          -0.42659925905426116,
          -1.0445712475879143,
          0.5791459927794433,
          0.07333989146871975,
          -0.7344894435778839,
          1.155630698166786,
          -0.31601421369642274,
          -0.07748822676418447,
          -0.007986665077013923,
          1.7373125652994457,
          0.035254026684055584,
          1.1823507266117166,
          1.357564618921279,
          0.8690251664142723,
          1.4810302209571609,
          -1.1499620005169382,
          0.11297115311406664,
          0.9240370327167682,
          -0.4449240387120449,
          0.752384867459226,
          0.8580222853248681,
          1.0467227229725764,
          0.8369550871469987,
          0.07292563584526993,
          1.5433223033243502,
          -1.194415133912321,
          -0.39629840430164287,
          -0.22499185464425253,
          0.3378721702016866,
          -0.18935077367246025,
          -0.839402489260127,
          -1.3574795845893755,
          0.2312753349843157,
          -0.9056679920535271,
          -1.1769397272357278,
          0.06521571583623402,
          1.0437185457306857,
          0.7557603398473346,
          -0.3824530982355497,
          -0.956539343973609,
          -0.21420008073656518,
          1.4625696877026617,
          0.14170591912161273,
          1.9298130181369706,
          -0.8641888697712059,
          -0.002555073334186696,
          -0.8796667264587501,
          1.1162563870003153,
          0.8300900240061434,
          0.49271087496289884,
          -0.8666853817539887,
          0.41786025261562576,
          1.5420273051184752,
          1.0401021644423507,
          -1.0235952484177313,
          0.9228360670837021,
          -0.16673522065192234,
          1.2476932529720093,
          0.6767860390218365,
          0.8708318945333816,
          0.33700873531342235,
          0.456346297484282,
          -0.5993681497609259,
          -0.7994103782910618,
          -0.4691543666955389,
          -1.4836026406030522,
          -0.6647445211007896,
          0.019867562071414893,
          -1.0290088431451974,
          0.569743456656544,
          0.5649679796121437,
          -1.1034365989482617,
          1.798404821330884,
          -1.151599676018488,
          -1.2194642534920115,
          0.5990444592723647,
          -1.5419890497706599,
          -1.0239545461035822,
          -0.6267913035175027,
          0.6799911129598868,
          0.8417285063567714,
          -0.3240864735409047,
          0.0769226907782506,
          0.38787932519975954,
          -0.4942586549841261,
          -1.5535765951649978,
          -0.5545777028087132,
          -0.10256713684918926,
          0.9937621147328933,
          -1.3668673989041022,
          -1.127928907890876,
          0.9509722190376145,
          0.4955922915818332,
          0.05857010046559886,
          0.40776879477599887,
          -0.34543844979417254,
          0.5820607093930494,
          -0.5145351619990143,
          0.1887395024114376,
          1.3588639040470456,
          -0.38546128330038054,
          -1.8292293000395807,
          -0.8971506396819534,
          -0.5993809234316331,
          0.010795292106621128,
          1.2146995070222206,
          2.6242110250673214,
          -0.1909392992880799,
          -0.42982398068352023,
          0.41713697109059067,
          0.3603391892156967,
          -0.9719260259819736,
          0.39258081198737754,
          -0.8640883800689931,
          -0.31416894778095994,
          -1.3273332158136384,
          -1.0317181806872533,
          1.3984609175472076,
          -0.7677689924855053,
          -1.2791304023351733,
          -0.5384287095619501,
          0.8182033810685228,
          0.45487512678243164,
          2.2849825984449943,
          -0.2422423639527482,
          0.08302320547622448,
          -0.7867620668632392,
          0.6700899950709812,
          -0.44682643618299106,
          0.5653273556105161,
          1.5052725005512386,
          1.6812523035379088,
          -0.4230571455383196,
          0.17566218686572727,
          -1.0264061373971762,
          -0.23134658575809083,
          0.27081857428453027,
          -0.7693860433561022,
          0.3092806890742895,
          -2.4936686299873543,
          0.679787794829417,
          -2.230244537071658,
          0.2380616561457542,
          0.13008007565692328,
          0.239625763338947,
          -0.25586580303091233,
          1.5833731461758815,
          -1.254866970626389,
          1.2764427950447186,
          -0.004031721343450047,
          0.5382438065133185,
          -1.6941049515801456,
          0.4408644738982496,
          1.682328091183741,
          -0.8881790578030991,
          0.3945204628327891,
          -0.8534096691075137,
          1.4652347775244534,
          1.1674967435782282,
          0.5445031983230861,
          0.9794690347384378,
          0.2620213746204884,
          -0.2559704500679918,
          -1.639740794553076,
          -0.20791058270776808,
          0.8190639841040969,
          0.30889763117220015,
          -0.06167781009221638,
          0.6210934073149357,
          -0.3274301746971198,
          -0.23799204632546261,
          -0.2778409298995661,
          0.11792358043625245,
          -1.316665973551431,
          0.8572692908224744,
          0.11848411325191696,
          -0.2719169214414792,
          -1.181633060927877,
          0.9990731087718959,
          -0.6866479756035369,
          1.2530137780056712,
          -0.20185850760492852,
          0.7127279991591433,
          0.05675227507831345,
          0.909136190449833,
          -1.6312291344808174,
          0.10051722259381711,
          0.7980723627040669,
          -0.14939440794665368,
          0.8013443888202214,
          -1.1078472124482672,
          1.346745608773221,
          0.18546550431541492,
          0.3865729858618036,
          -0.710739807186454,
          1.451684718322566,
          0.16039256208508615,
          -0.46274971205506926,
          1.7393271139615951,
          0.9549518109831935,
          -0.9336783569666568,
          1.1777205480123372,
          0.09005569930437694,
          -0.46119596876490215,
          -1.0601940438389739,
          -0.5911043944937734,
          0.4394801296711491,
          -1.0052232691271012,
          -0.8751672960350863,
          -0.48825852504338835,
          0.9587881564286426,
          1.5594966621636763,
          0.04061487233413402,
          1.6351176396320766,
          1.3400354478459426,
          1.7935577660610282,
          -1.170069929619832,
          -0.6940725701600592,
          -0.5531458097634024,
          -1.4033636841920383,
          0.8400882464876412,
          -0.5685502455765783,
          -1.5983765396034142,
          1.17558884813661,
          -0.06818866919985152,
          -0.7280754841391158,
          -1.3457520454325196,
          -0.8850803638026642,
          -0.7436641204820383,
          0.6232815586051513,
          0.21638557685934484,
          -0.5264205768655562,
          -0.0855398650343502,
          0.02914209717185416,
          -0.16850740140681225,
          -2.2562433578525343,
          -0.1523732531881437,
          0.2289483381041959,
          1.153489979139695,
          0.45109855197842946,
          0.3810364964326619,
          1.6126422005039867,
          -1.0756607570895977,
          0.9162008649751535,
          -0.9859393168253143,
          0.40055351445157067,
          -1.1342966174687508,
          0.43461963161380374,
          -0.7994788593611619,
          0.5307366249398507,
          -0.5395951357354839,
          -0.9415328806704861,
          0.17047446457696416,
          -0.14650707197322463,
          1.2169810710506044,
          -0.21281071372858193,
          -0.8706252724329766,
          0.29402858646072727,
          0.14808912332194948,
          0.18564221023754512,
          -0.2793296454903645,
          -0.22858948651702016,
          0.5411358615152323,
          -0.717120996223824,
          -0.4156347707867476,
          -0.3222105289792193,
          -0.8995597844011198,
          0.29744940669427,
          -0.23909194926232522,
          -0.9520924311607698,
          -1.3084046833934266,
          0.5329247708994898,
          0.4539769720241603,
          -0.8244635822215397,
          -0.36447855520937905,
          0.5190998908932384,
          0.739801924459477,
          0.3791332965542098,
          0.6645746330960488,
          -0.7060105815510425,
          0.45641731643648303,
          -2.213885132923987,
          -1.9435298925026827,
          -1.1614608639650825,
          -0.6516897368002422,
          -1.2700792234457552,
          0.9134882006672832,
          -2.235913062805232,
          -0.6079184820655544,
          0.35171867222826303,
          0.6089934964457054,
          0.3230605828510772,
          0.4169258696618775,
          1.6368751018557404,
          -0.9238209417933743,
          -0.8455106351444909,
          0.23247156531204619,
          0.03186027502911261,
          -1.7515726995098932,
          0.7631564107507468,
          0.9817433329704292,
          -0.610578797886324,
          -0.5193925713310978,
          0.25978200430115106,
          -1.548734558538298,
          -1.3997523413470998,
          -2.213442965191796,
          -0.9188147116028292,
          0.7027322021517934,
          1.7183830091159642,
          2.1249457090883674,
          -1.0708163394752466,
          -0.44909477738764036,
          -0.11242741184232354,
          0.10405833263648685,
          0.5367596623099171,
          0.6571892767870586,
          0.4764499882673811,
          1.1485915649219054,
          -1.2168210246314646,
          -0.5361742201851991,
          0.0117411000585375,
          -0.2318819378428184,
          -1.8216876239037567,
          -0.7898078622481696,
          1.2067155166237662,
          0.795240540734999,
          -0.010724813552183743,
          -1.2914534450581108,
          -0.2187680523088197,
          -1.6061189355640937,
          -2.5673028674047815,
          -0.7398806343148646,
          -0.4345700403214648,
          -0.23042694874634345,
          1.2555306075684742,
          0.20140135784820623,
          0.6096789936234271,
          0.22411943923007605,
          1.6049827310166098,
          0.316231356084818,
          0.21814395377331466,
          -1.3681655563499544,
          -1.1449228569697696,
          0.653659255207034,
          1.4858720481264633,
          -0.07861831616631368,
          -0.37162085625481284,
          -0.5846281515207372,
          -0.22126740506398088,
          -2.8877096147561545,
          -1.782559266905974,
          -0.7899746895964312,
          -1.5301207747905967,
          1.0543854611349173,
          0.22010234487509808,
          -0.3463161747681187,
          -0.5920531816842218,
          -0.04797731958680567,
          -1.9414893493986747,
          0.1752365634072997,
          -0.1881287713330673,
          -0.8142866838227583,
          1.232696558676454,
          -0.3265836235183876,
          0.14559942229911257,
          -1.587520860810972,
          0.2572810757667844,
          -1.0508527060004422,
          -0.4528224107117466,
          0.30967760628078694,
          -2.064589886225614,
          0.6377191989596468,
          -1.3953352911536043,
          -0.2653013010338927,
          -1.1406888107118094,
          -1.4124010802467903,
          -1.6833029387403866,
          -0.8629792699485521,
          -0.8149725710304878,
          0.1591912719437347,
          0.5903169064588154,
          0.3218227255782412,
          -1.1448994813722257,
          -0.2029861494407442,
          1.7204559461108115,
          0.3922553358340104,
          0.06092999638838267,
          -1.9892443838590854,
          0.08998973580583168,
          -2.6460285436755764,
          0.9172983736153523,
          -0.33444324806222897,
          0.7201064250635992,
          1.1892160409193604,
          -0.4214628267340309,
          0.8154334930835365,
          1.1642257245856757,
          -1.059023384676022,
          1.5448399493362395,
          0.0006224783290376984,
          -0.7167668778508551,
          1.6174315554355931,
          0.1546881022942746,
          -1.2477993686027704,
          1.1285686290299817,
          0.6382572769923293,
          -0.5285327356872228,
          -0.7353462587050024,
          -0.6220891108686898,
          -0.8210125506128299,
          0.3666865099763791,
          -0.11246632443008148,
          -1.844844856895621,
          1.6456659951335795,
          -0.018556570417836798,
          1.4328445050127572,
          -0.3956206027100538,
          -0.9290634411635786,
          1.8569264150703133,
          1.1449250543417124,
          -0.9904158890678607,
          1.3530634952367993,
          0.012050848651802181,
          -0.053698360901682105,
          0.8841000356861212,
          -0.8032126827786444,
          1.8857384891011204,
          -2.4419123420784214,
          0.9300519709885846,
          -0.7873646064085008,
          0.11340067973807773,
          1.239429960455111,
          0.7004161515478093,
          -0.1773304259866671,
          0.027704123072656118,
          -0.652434896448744,
          -1.8423619306405028,
          1.6245648688486993,
          1.1605053063096673,
          -0.7796586908500592,
          -0.4605392915158471,
          -0.8646846968173765,
          0.5857232794982725,
          -0.6164816962036385,
          2.0660604707626384,
          1.5244483088045249,
          0.5758663698861977,
          -0.7446886095328559,
          -0.30668475899126235,
          1.0656472809194704,
          0.5270346714237962,
          1.0193736846170258,
          0.2740716294829112,
          0.4396219814019788,
          -1.5290627744517469,
          -1.4021186652930149,
          -2.3179038337534252,
          -0.12657980870806576,
          2.195528561433639,
          0.8677295360288668,
          2.1451404929535514,
          1.0821106931301783,
          -0.9027196644535355,
          -1.1229444952998977,
          -0.10665911111195789,
          -0.2590295303807849,
          1.749818218779084,
          -0.782612749982085,
          -0.8064929410269374,
          0.19347456813318267,
          -0.09404663461567786,
          -1.3498901633621059,
          0.26493534848286776,
          0.6996734404079654,
          0.39502942961784393,
          1.5502376372116213,
          -0.9769264133437194,
          -0.37282802207892723,
          0.2997795252833875,
          -1.8467367956226806,
          1.0229520853254916,
          -1.4484004131463593,
          0.5698240236460671,
          0.025328936984401435,
          0.3443827966133403,
          -0.4077375541135337,
          -0.7942317209841919,
          0.48862321663870245,
          1.955786522013922,
          0.4522772132488294,
          -0.4597666459248189,
          0.6286695284199592,
          0.8482886363044473,
          -1.586400335072009,
          -0.7688865850890575,
          0.5706426820630267,
          0.5003432641580454,
          -0.18319135273265638,
          0.002763848639260432,
          -0.3979855406420983,
          -3.2314253221521696,
          -0.01991382126810735,
          1.3929729534073778,
          1.665323650683313,
          1.5733450538956204,
          0.5276760281574876,
          -0.6215067851366523,
          0.3545087038794528,
          0.8631068530666777,
          0.27930316976744807,
          0.4699182115989656,
          1.1449499800179794,
          2.2431748379284264,
          -0.7761187627938184,
          0.6144093411807697,
          0.16568135789421268,
          -1.0295358949362552,
          0.6895919096386627,
          -0.5690619904200815,
          0.3232942292036759,
          -0.3254930075617849,
          -1.3797219380396837,
          0.8416410624258452,
          0.21284061645352143,
          0.12176672476419037,
          0.39393762405727273,
          0.9003712123374815,
          1.1065756981737356,
          -0.4887351743995273,
          0.7057962509478977,
          -0.2933229018426001,
          -1.3224650385293915,
          -0.3027710887999857,
          -0.44369593225807014,
          -0.05861831192153345,
          1.1645053341157345,
          -0.03911618681237397,
          -1.3950162657395226,
          0.7464110420424187,
          0.45187750547068223,
          -0.11913282220098528,
          -1.08990283410638,
          0.7154637754448879,
          -1.4189458904719052,
          -0.22035497138855595,
          -2.4412229756661423,
          -0.9399690455814592,
          -1.5319564215557764,
          -1.3994815849260707,
          -0.606893087185052,
          0.7844289423029317,
          0.3444383432183116,
          -0.30356940311063907,
          1.3067551927768715,
          -0.20072400057557208,
          -0.48368195596359626,
          0.38939023705568604,
          -1.8159499949853668,
          0.32796778860052894,
          -1.6107468865283925,
          0.5164944907449199,
          -2.630297233483912,
          -0.12316807837144644,
          -0.012166714974734073,
          0.5391759603148457,
          -1.1863682140732237,
          0.10475550970788364,
          0.4609508560829906,
          0.0019691180322469917,
          -0.7921262835639649,
          -0.07012929797710367,
          1.1281833224900428,
          0.1292527112892166,
          0.41382060974524104,
          -0.19043951866634484,
          -0.9727852754957433,
          1.6879692432239,
          -1.3959975779410467,
          0.14312862057104397,
          -0.10055772841437915,
          -1.7535953523635344,
          1.784079391908261,
          -0.24343514318191367,
          0.3071492133407708,
          0.4610038900601026,
          -0.06449701472938886,
          0.811226623203454,
          1.4274923811142883,
          0.8367854554453359,
          -1.0923816054916957,
          1.377820311621637,
          -0.0878930856493476,
          -0.8025800691892083,
          -0.19708764027654022,
          0.31868265358978043,
          1.655288664208845,
          0.15660625827291227,
          -0.32199547240912774,
          -0.3723006067268777,
          0.08617472755150733,
          -0.8569096601511339,
          0.7701013637169153,
          -0.6767048470200244,
          -0.7960614245569163,
          -0.19921650907243388,
          -0.19035266837365622,
          -0.005288789922971835,
          -1.397608598823496,
          -0.8625552944611637,
          -0.355836672219636,
          -0.7987008184964286,
          1.6647897097130924,
          -0.5110313517717112,
          -0.5664788018680329,
          0.6787898604382228,
          1.2303806197472387,
          -0.5474668766986577,
          -0.9824664037611905,
          2.2420570672807805,
          0.06685786503734303,
          0.5836760993964587,
          0.4195894621828623,
          -0.3592767458355419,
          1.7948757344746247,
          0.8955795665093685,
          -0.3886584317981864,
          -1.4641037708248037,
          -1.185871617705591,
          -1.34911612706198,
          0.1123176752474164,
          -1.1704154258938118,
          0.7499868677967598,
          -0.9311748829488617,
          -0.01898516445888879,
          1.8579111144164338,
          0.6401523377784464,
          -0.33497155429284836,
          -0.49913563228345426,
          0.2396597972770739,
          -0.19908615368219457,
          0.5269767529864928,
          -1.752124540143589,
          -0.12191445807150673,
          0.6516474214853966,
          -0.7518211282580582,
          -0.9034095201570419,
          0.11187820640891318,
          1.6271560340165232,
          0.6315992524313776,
          -1.1860312137950697,
          0.6955167143407162,
          0.08596914437424678,
          0.09499225928200916,
          1.156863371025463,
          -0.7542688373027863,
          -0.1951331385359888,
          0.8952507799355436,
          2.1958665468408656,
          -0.09704628508323772,
          -2.2027894105395736,
          0.1355706658825786,
          1.4737903944544561,
          -0.6926352447578071,
          0.9884917161313159,
          0.6292626566398326,
          0.05688922662937304,
          0.24611187989745428,
          -1.3029146555711986,
          -0.4982396622283778,
          1.4638633691785874,
          -0.21393526100712035,
          -0.6963014581931691,
          2.2684881657828386,
          0.943137809555268,
          -1.350010347439871,
          1.9411115732017357,
          1.1743943684793976,
          1.4158577016885203,
          0.5109607678474923,
          0.9581182903775051,
          -0.9679205921409175,
          -1.6407231452705497,
          0.10219777889168273,
          1.3581745260244193,
          0.8508408392570718,
          0.3094815860763634,
          0.34336519111105046,
          -0.5497975603349757,
          0.29782769769828343,
          1.9110961225926222,
          -0.3070990618394839,
          0.26035395879797507,
          1.1093143165159314,
          -1.9058378382389947,
          0.5454535312309161,
          -0.9349101023780149,
          0.40895266955247145,
          0.5570612360342074,
          -0.5764276821266361,
          -0.22476711151245807,
          -0.5639881429762019,
          -0.03603708284968131,
          -0.2463857044895908,
          0.6245045281110144,
          0.8555164928802641,
          1.1988953976408492,
          -0.5723976656240777,
          -1.5748027636843698,
          0.9167061250215789,
          0.544104248470251,
          0.2968935498590446
         ]
        },
        {
         "cumulative": {
          "enabled": true
         },
         "type": "histogram",
         "x": [
          -1.1191055433898809,
          0.9659561289669472,
          0.8795156350898643,
          1.4701955608371318,
          1.116039092793059,
          2.4094634732940934,
          0.7203839823084406,
          1.4104991614291327,
          -0.20115413688566797,
          -1.5149744101261673,
          0.15728128467189617,
          0.3770397042760685,
          -0.013510654428535718,
          1.6277742719436972,
          0.7587691381278661,
          -1.4341617165748102,
          1.0933483480379869,
          0.9596250830567551,
          0.8011296929065373,
          0.09964947577454064,
          -0.658897705182808,
          2.6707411097556366,
          -0.836752845183365,
          2.1191558235440975,
          1.8304807752947707,
          0.48823008145764357,
          1.2390889516920496,
          2.5461382874404705,
          0.35853598522761454,
          0.9571642588950586,
          1.4713533973121804,
          0.5083210291174225,
          0.039686801655995696,
          1.2305989800434483,
          2.2070008164649852,
          2.4736545887078627,
          -0.5216124050147195,
          2.288186312801585,
          0.4701829554595448,
          1.7556705755141329,
          1.6231343322353544,
          -0.1993992191845606,
          1.4288815624682545,
          0.9773311805333507,
          2.196910236436088,
          0.2989105254596761,
          -1.160184393316876,
          0.711760351156368,
          1.431319890895667,
          -0.0818647192974511,
          0.6657516722182708,
          1.7113748365974755,
          0.04493439128296317,
          0.6117393053374989,
          0.51412948003308,
          1.5964312786915438,
          -0.43941585981088793,
          1.383717103687483,
          0.48455048684755553,
          0.24083618219891545,
          1.295403182915349,
          1.524230630310829,
          3.180943138972327,
          0.6918700571315792,
          -0.13786496921733415,
          -1.5190571618108453,
          -0.7968059384138826,
          1.299680658715621,
          0.8079131909560817,
          0.05975455900053006,
          -0.16188867537456586,
          0.6192676156622295,
          0.8888822196739568,
          0.6101328942478763,
          2.632924943963454,
          0.8429981802006646,
          0.8345083538382254,
          1.375185886861166,
          2.327089486038868,
          0.006516098200986531,
          -0.42067929333665766,
          2.2217222171704667,
          0.4693450037777772,
          0.8999305146315368,
          2.146250175837667,
          0.15439165225474394,
          1.8231571443169465,
          0.358357147411521,
          -1.3347535299952096,
          1.6714853415732152,
          -0.7453642937414593,
          0.7334930280026044,
          1.3668673547365453,
          0.7275139715522652,
          1.483699258523079,
          -0.05136067251396992,
          0.0862029739774387,
          -0.35393702195183696,
          0.35325944764510075,
          1.9260810742200907,
          2.190153787931469,
          0.8256811261009313,
          1.0983065618661954,
          1.97542870019209,
          2.1342024128692136,
          -1.8977565683065718,
          2.426466609649282,
          -0.5308483629609524,
          1.3587298584173446,
          0.9498843657125525,
          -0.45231303729970085,
          1.1945529596687332,
          0.35217739706271833,
          1.6537819821019055,
          0.7852147198706506,
          1.6231947868119279,
          1.119395061990429,
          -1.4959215396168122,
          0.29014414189494353,
          1.4572576660426415,
          -0.3409770422814915,
          0.2990114670984394,
          -1.6869151048807565,
          0.96083331421608,
          0.8362384097516659,
          2.8358422361847864,
          1.691568700208465,
          0.6764791292440415,
          0.9157918034950105,
          1.4349044445297647,
          -0.07750553826999074,
          0.5928283737467743,
          -0.5061180799803038,
          0.5465725081277154,
          1.9295468255533192,
          0.7144726598586755,
          3.0952261700459713,
          0.7415811011880545,
          2.931079230230686,
          1.5026983658014395,
          0.2949562024763861,
          1.0808750201609851,
          -1.9605205586672585,
          1.9348058812204925,
          0.8290631991328072,
          0.48602303085520837,
          1.6013584195015276,
          0.9962529254828669,
          0.4190215069302792,
          1.0844140828265707,
          0.960814673186405,
          1.6346971172450435,
          -0.24271165646129833,
          2.16875063929695,
          0.8656481799091733,
          1.295552948775535,
          0.950761355998513,
          -0.07819359853766739,
          0.6589935590557612,
          0.3990641661467089,
          1.4192880206076253,
          0.9014695526759151,
          0.874057708424619,
          1.3302789397595016,
          1.5648596934801917,
          -0.05726168449971247,
          0.8126039410994518,
          1.1032806543222915,
          -0.1905021861720222,
          0.9967989931360892,
          0.3849488278654174,
          0.5008538301765841,
          1.0924508165249183,
          0.8256968611741546,
          1.3246812462009363,
          -0.4399991483520542,
          0.35066156574924623,
          1.2553710709855144,
          1.6695512126320198,
          0.7203488337321473,
          0.7871455691043846,
          1.3184827654530165,
          0.9468394285250996,
          2.2897217069862394,
          3.2461972440769706,
          -0.26862277457880146,
          1.1621746386617406,
          1.022069045350546,
          1.6987916552641882,
          0.7910464693061343,
          1.1937944178716264,
          1.5553789753744913,
          0.5271296329552706,
          1.581522615998421,
          0.34928492268608,
          2.4079326135592103,
          0.5150369436773138,
          2.0542655011525746,
          1.0981036212782889,
          0.6209113437693425,
          0.8547308093916705,
          0.7625821780350985,
          1.0032541312524892,
          1.9196448961154262,
          1.047906172338983,
          -0.2885932064156338,
          -0.8057205840525528,
          1.551171635113661,
          0.3121549481822802,
          0.34299994010138546,
          0.7948754269910691,
          0.5976401815543328,
          2.7473081214069057,
          0.5446116497780156,
          0.8412018357529318,
          1.502545620867396,
          0.45602072354455214,
          1.794497623490804,
          -0.026883180199858803,
          1.5326590765360235,
          2.266928613021567,
          -0.8022827478976098,
          1.1889529922433286,
          0.2616537883409613,
          2.5021269523526533,
          0.7771360522483496,
          0.7280940702792826,
          -0.12706699873852778,
          0.7060085134552823,
          1.7037928736379762,
          1.2596207842696925,
          1.5953186260391001,
          0.48841565427185185,
          2.0447365210065342,
          1.1987327265132972,
          1.219430631299418,
          0.7462520432436656,
          0.03530478617920296,
          2.5068601610527077,
          1.1119319268586019,
          0.6620766468167858,
          -0.40282800108978645,
          0.9399550387576328,
          0.10989591054221648,
          0.36822794476768883,
          -0.07208911466812218,
          0.6916314253300933,
          1.2781757632972115,
          2.706662681108063,
          1.3873469502917004,
          -0.7395668350205815,
          -0.0879044736875012,
          1.4148256397262413,
          -0.18319092369371126,
          0.6970439361510434,
          1.0532721534368052,
          0.7265720412036506,
          1.35006693525844,
          0.9169254898643443,
          1.9915517466147012,
          1.9368404032404882,
          -0.2576265119369485,
          1.0736095830913097,
          2.1888274318528955,
          1.0409620038910272,
          0.9056410602261206,
          0.5302311015559492,
          -0.7312808818157797,
          1.0189918498120027,
          1.196984361801529,
          0.21038458451283248,
          1.7725993085101721,
          0.8286665450872873,
          0.14417422940622715,
          2.154540774164081,
          -1.3996425313142642,
          0.35359240754556587,
          1.1176046514712976,
          -0.7465521574956813,
          -0.5762883707461319,
          1.6625687468995256,
          2.64405535806402,
          -0.7943356503057024,
          2.3558789588973186,
          2.7839408038479525,
          0.6932511943812427,
          1.9152241340882674,
          1.376260910227513,
          2.316664636262873,
          1.0337103739686344,
          1.5471422583969334,
          0.6722177357422606,
          2.5099705016349887,
          0.8858061265337691,
          0.08257089692145203,
          -0.6529122266646656,
          1.2446834969550835,
          0.40308178461410993,
          1.0671974444457275,
          -0.2824395024543356,
          2.1850841812934214,
          1.3015566354717325,
          1.9334941977598539,
          2.3756296567485387,
          1.9892876951711003,
          0.17548594446704702,
          0.6676423598749102,
          0.5619856838905577,
          1.7901185685014767,
          0.9567626448127227,
          0.7287775898782922,
          2.401848087997254,
          0.29197568656680206,
          0.49212474453188293,
          -0.43192603703850074,
          1.304514785579616,
          2.7094229219205954,
          2.550628220664967,
          0.23436731501252228,
          -0.21117999528761477,
          1.57351556589539,
          1.441724169631878,
          1.0813482471071907,
          1.9328986197129292,
          0.3391226292241646,
          0.7127969228552398,
          0.7915452776964219,
          1.0938035857461395,
          1.0795993103277448,
          0.8178953928918176,
          0.9469660177084693,
          1.3862315022968648,
          2.804266153315891,
          1.8968229084731965,
          0.09922334919990905,
          2.1104951302471404,
          2.3169377179663186,
          1.8158925214551322,
          3.8089160114851963,
          0.7189643236954271,
          1.6601197571727815,
          -0.7077860781530658,
          1.139844881233419,
          2.6547887311153513,
          1.040731957517947,
          2.460836039038705,
          0.20746676058953828,
          -0.055813332229911694,
          -0.04961960770466756,
          0.35076713818428595,
          -0.30171656726136153,
          0.1629446807623598,
          1.4790139202239054,
          1.6804349854153426,
          -0.4328292294788938,
          1.2593210684772047,
          0.6730021119984715,
          1.6323301561681367,
          1.5212367524879133,
          0.9098886055655626,
          2.2807293192244433,
          0.6339774404791265,
          1.4930026640420881,
          0.21461332346866058,
          1.3740502923355926,
          1.8138463719814615,
          0.03732424221150199,
          -0.14669462251575704,
          2.3468332638111016,
          0.8529978526118843,
          -0.7779128261190011,
          1.3348994231616853,
          -0.5970130811426044,
          0.5822090813110621,
          -0.9191151282435079,
          1.069081645178201,
          1.9976636392298437,
          -0.4759799074524049,
          1.54578592954814,
          1.8167174100164325,
          1.2894696505478844,
          0.42157976987962864,
          0.748951765971688,
          -0.5443784399885003,
          -0.8809869114713844,
          0.9025864228283391,
          1.8189060501044005,
          2.7533518317293364,
          2.0298598004335027,
          0.6850030832034514,
          0.41613542963765526,
          0.5709687974353074,
          -1.2436822308568103,
          1.9451040149366658,
          2.7474680531780007,
          1.3303045545790888,
          1.3644139985551709,
          3.9596133248379757,
          1.9655012949087864,
          0.8670565380038476,
          0.2269765684960131,
          1.176750171656422,
          0.9177636859557883,
          -0.2369499057955733,
          1.6667991441021646,
          1.7249036558083968,
          1.654552139170616,
          -0.5562925410323778,
          2.233199258077065,
          0.5888298571843369,
          0.9495113725217338,
          0.962853717595239,
          1.2288696367048269,
          2.5571453331695038,
          1.1189676067188061,
          0.06653662205910615,
          0.12316847530621744,
          1.1000399512750683,
          1.369667792146217,
          1.8097992329454151,
          -0.6381487704842896,
          0.9824882879608906,
          0.6483125067269278,
          1.8972280982096836,
          3.060818048088261,
          1.772913053812708,
          0.9415963353907332,
          1.9954915677218272,
          2.144971724961051,
          1.5840953865856595,
          0.06623775718199065,
          1.4008345715013917,
          0.08407595153521108,
          0.46728831964859296,
          -0.32257248548161943,
          1.2008275352680817,
          1.5606463656533576,
          0.13801408951160898,
          -0.5174469484373472,
          2.2769526131273032,
          -0.9411229702652586,
          2.7863516754278743,
          1.515130418482526,
          1.2137990794961733,
          1.5722457169814077,
          1.0013754326229933,
          0.9927798859892564,
          1.1871165698827617,
          0.04920851239838364,
          1.963819441684194,
          1.5161109464850946,
          -0.12921388852370264,
          1.867000847032876,
          2.8655206461300775,
          0.6106975322700792,
          -1.252650743911203,
          -0.7020350281561514,
          2.659849977259511,
          -0.5289514484552866,
          0.5899469433107766,
          1.689416272212624,
          1.473191887085433,
          -0.17621427528625278,
          4.515082111272868,
          0.8025370237972778,
          1.6898326097830394,
          0.8194265776634415,
          0.8610787955870489,
          1.1916466915742108,
          0.6903302380658788,
          2.216638069747545,
          2.0504429200816277,
          1.400488565049764,
          -0.18797124254242847,
          1.8335277933178356,
          1.1380999365744449,
          1.0398490308560653,
          1.0944094654847027,
          0.5271890289356814,
          1.6043108119023537,
          0.7872410494899063,
          1.8264277916034737,
          0.5457029308054064,
          -0.04006334412650814,
          -0.47425696971224784,
          0.5493074532950806,
          1.5933242299444912,
          2.546008068201884,
          0.9601976473350408,
          0.10290685357099383,
          0.4000205583375023,
          0.3368095266188882,
          1.0894419660998385,
          0.45970987556438014,
          0.9927806172212632,
          0.2594132569584132,
          0.3313662219892646,
          0.9414577762935771,
          0.5236999776731914,
          2.3436587223608583,
          1.00518820044975,
          1.4782980885487382,
          0.9305030106638174,
          0.5227010916389809,
          2.329630862832122,
          -0.3106540839829379,
          0.5043245917538481,
          0.9268140826400463,
          1.704147258630428,
          2.611854294777916,
          0.4940918191410125,
          0.7418695667978521,
          -0.15264560131074956,
          2.6040270289339,
          0.9855334630836039,
          0.11391641546910469,
          0.5708967758953607,
          1.8562181581871344,
          3.2910658139330002,
          1.8146176419976856,
          -0.21437777609752984,
          0.12971315306546283,
          0.9378308931565279,
          0.09074979600750799,
          1.4649089894184084,
          1.6532129037958174,
          1.1343401840181833,
          0.6665855482131238,
          -0.12542442967111755,
          -0.40956274651727465,
          2.002488244865683,
          1.1777637128580865,
          0.32626708598377574,
          1.2668616088732298,
          2.065138835718396,
          2.522344913900899,
          -0.5223102872387095,
          1.4244205872320783,
          -0.3222113359005674,
          0.8872917918655571,
          1.2120823000029093,
          1.4933660038378491,
          0.5550761023374883,
          1.6537484524581323,
          3.179637347216657,
          1.1639400964587665,
          -0.4678768671196414,
          0.5167881358340028,
          0.6697166192093562,
          2.011787245813797,
          1.324040671131886,
          1.364519693647068,
          1.350953837341506,
          2.902076602029413,
          1.6112551044227454,
          1.2357905437207561,
          3.3823490701253256,
          1.5997311068848736,
          1.5202358145127781,
          1.2062136753833754,
          -0.4155020236278395,
          1.0107338027259394,
          1.9152826476644194,
          1.2663189130992087,
          1.5369243642515737,
          0.37759687604030545,
          2.0297605047773164,
          2.7083703502008634,
          2.1776068195899425,
          0.5409327257632006,
          1.3489577018750463,
          1.255747660541137,
          2.7118920322073246,
          -0.7905804790097466,
          -0.49168537701772674,
          0.9641667344335134,
          -0.3048256328714851,
          0.8310932618241295,
          1.8011735880958688,
          2.3298376797400837,
          2.279874025583422,
          -1.5381447422420491,
          1.186234366259035,
          1.2197022702624642,
          1.2975705674624647,
          0.8368382254680999,
          0.5610639266440264,
          1.6234925838184355,
          -0.04256078223112114,
          0.35951174102399597,
          2.438008645331455,
          -0.7935094558441695,
          0.9712940759291169,
          2.111594364473115,
          0.9705817131987406,
          3.0537450033217177,
          0.7951766518180114,
          0.7989609937581934,
          1.7003246546448074,
          0.43799285662208787,
          -0.4272339607174849,
          0.36731741446103494,
          0.7053655308324138,
          2.247972692612837,
          1.002018841836759,
          0.5665258532826114,
          0.5545688711181169,
          0.7767552225962492,
          3.2392773341648606,
          1.7556778435289508,
          0.8014971124965937,
          0.12021958492376628,
          0.30032495829207106,
          -0.0800675374530817,
          2.7513522709885088,
          0.21712973509227207,
          0.8667065164083321,
          1.6308932363750817,
          0.5411811902587813,
          -0.08764631077957485,
          0.5098508036450498,
          0.30650481009052055,
          2.135100847637487,
          2.334878508371497,
          1.7983125775638802,
          2.0490435474756623,
          2.2324032726225385,
          0.5937170833880796,
          -0.949053578433555,
          2.4702942954477365,
          2.1213323204171024,
          0.9335343930664589,
          2.2030103257580476,
          -0.12582091825954733,
          1.9872509112539811,
          2.164483244537469,
          1.357634284187793,
          -0.2905526822693416,
          0.049922714893385955,
          1.639047664136938,
          1.4592274931407083,
          3.556534283689388,
          0.8521050011993286,
          1.6752430453610565,
          3.4156205097992207,
          0.8626234370170696,
          0.8145788031662439,
          1.8365032093373541,
          0.7817522126824386,
          -0.11516436534747765,
          0.8602565181653022,
          1.837971079792607,
          -0.4550529116337041,
          0.31167737600542855,
          0.891459792575899,
          2.7204614530184044,
          1.2230792415787661,
          0.8684535939390655,
          1.438574909365701,
          -0.21093467072618388,
          0.7972377479761146,
          0.8413505487269002,
          0.8666711506888386,
          -1.1042563926774553,
          0.3673043754735551,
          0.6495120222894655,
          -0.29759110089440455,
          -0.02851727947843874,
          1.9117762872558162,
          0.3540889200661579,
          -0.9305473823569439,
          1.4573485141797415,
          1.5094924198840802,
          2.8808508969725946,
          0.5283142208874732,
          -0.25341429542526805,
          -1.4593173088590534,
          1.2760340843075249,
          0.3929829475238251,
          3.2050497148586654,
          1.037400035351586,
          0.0304981318752795,
          0.8764792905610143,
          -0.8205498704669327,
          2.9464856721187584,
          1.8315884541823013,
          0.49339686537493654,
          0.7287072693771672,
          0.3050520250831672,
          0.9038145518401993,
          1.54578140096566,
          0.4561148947668956,
          0.14790271959454127,
          1.4670192486242422,
          -0.11173858617177568,
          0.9587775471422498,
          1.829174484067463,
          1.2878331655883093,
          1.4778283480863548,
          0.2426155580658138,
          -0.08849837834508323,
          0.9091409556610992,
          -0.7229152323707932,
          1.3964599145070684,
          -0.25929519391485223,
          1.0506534353890744,
          2.2519548040719752,
          1.6271477496235027,
          1.9783590648911153,
          -0.5176784571081305,
          1.392441802548279,
          0.36858914913527285,
          0.41872270004765677,
          3.4416346237484103,
          2.5735766616648017,
          0.32737946425193165,
          0.4485469998530911,
          -0.9665024421636628,
          0.9266433469056194,
          1.1582669000490642,
          1.2300933474946203,
          1.151314884959059,
          1.817396300466017,
          1.142531020680857,
          1.1714691898872944,
          2.594946005982965,
          0.6942859693031825,
          -0.5484965274822533,
          1.454110392091458,
          1.0596569743141746,
          0.5944029713061424,
          0.060630211439751225,
          0.5438710234286095,
          0.7245502969665715,
          2.1817052588013737,
          0.864706887099941,
          2.32170323304154,
          0.5228047811152586,
          0.9614015732149699,
          0.8041076636416276,
          1.5092316946228734,
          0.8503513996313744,
          1.4545938633224949,
          0.11252909544749579,
          0.7640063959260974,
          0.5746843612146971,
          -0.8620509354721588,
          3.4315436321927906,
          0.2835996566799297,
          2.0479296407766747,
          3.0287877900237663,
          1.908061878766746,
          -0.31813095661418545,
          0.7744023184511404,
          -0.12428339576580005,
          0.09212459550100371,
          1.5516962378352097,
          -1.157952730079891,
          -0.37637491377695076,
          -0.3015049579872795,
          0.9826221694879247,
          0.9908348162607022,
          1.1973205556941642,
          2.197694129525681,
          1.458038376521824,
          1.7629649422818243,
          0.8719021611500092,
          0.2599293594745492,
          1.7561322564611064,
          0.8023491604546258,
          3.1946957460657144,
          0.6141456000008241,
          2.2464923811033457,
          0.3945327095617416,
          0.5612748510832348,
          1.6278502246801207,
          3.4311251474812194,
          0.26192750482816884,
          0.8288755484018241,
          1.008674315114822,
          0.10162907623887352,
          0.7485443331700993,
          -0.8316030787471589,
          1.1481764280757105,
          0.48804458472476064,
          -1.3314821472409628,
          0.2711606735626171,
          0.24270192481102137,
          1.7112837702490449,
          1.275395602913112,
          2.5583201840794505,
          0.4188106816453888,
          -0.2803034429523037,
          -0.28474700862907687,
          1.8112204262159002,
          3.230963891115396,
          0.17159062404655767,
          0.6367446783185788,
          0.1443659283704426,
          -0.2839784888861381,
          1.8716868406966396,
          1.0255655603518365,
          0.41573128532165926,
          2.479708755634525,
          0.7407882791985421,
          0.4505325875965157,
          2.177752071061786,
          1.8887220844849963,
          0.6973160696932346,
          0.9926974055920804,
          1.8755716618502132,
          1.3659047290901467,
          1.328341461292536,
          0.9727699994779215,
          1.3561876731209916,
          1.3029320390771222,
          2.5501157775388696,
          0.6216363251011918,
          3.2503168874780237,
          0.5211754498350161,
          0.22498253528626766,
          1.4479218563215945,
          0.48242520538376654,
          0.6091047090501982,
          0.9409852729352082,
          0.0960528340047917,
          1.2670802628794569,
          1.085945227509092,
          1.3341363994708635,
          0.6415366116406445,
          1.0578149022341523,
          1.0466551596410787,
          2.0558241535066166,
          0.9133416603890463,
          3.601797099250393,
          0.3831390440453276,
          1.2651184949474272,
          0.5998788178139773,
          1.8453305961740565,
          1.1035055757251149,
          0.05051048709622108,
          -0.033964356596683176,
          0.9400538993244026,
          1.0703251984395372,
          0.06880875563351452,
          0.052542932883210214,
          2.9483461977833514,
          2.3094011809123756,
          0.3633787530827196,
          1.5982150190277973,
          0.5217885017400649,
          2.4403656852595357,
          0.9054113811545654,
          2.8829788839285,
          0.5217547456256268,
          0.19241558514729984,
          1.5394123657056218,
          1.0997439617714502,
          0.3984389724702223,
          1.945589637960281,
          1.5348701970581942,
          0.9803117219112548,
          1.8728129164728737,
          0.1365779786652871,
          2.3695115017022523,
          3.6463980518802526,
          2.18520876141197,
          1.4451034045255402,
          -0.17866184420896403,
          2.4336562755645224,
          2.171781963989125,
          0.35391144138369424,
          1.1352484049210445,
          1.3051347738860586,
          -0.17290189021951985,
          1.2746003131243686,
          -0.4372619411914078,
          0.8369770390181412,
          1.7526144342241339,
          -1.0443783226150618,
          1.414993866255299,
          0.4751580576782034,
          0.9487564860707229,
          1.361590554480041,
          1.255314622419833,
          -0.9333911350895876,
          0.800813949073563,
          1.6958529304862164,
          3.120895527678448,
          1.8319916990107754,
          1.08065810683765,
          1.8799066036306749,
          -0.31422939773314695,
          0.6946933633358711,
          1.0259942251798189,
          2.313334183980181,
          1.2503609123586903,
          2.0707278648555083,
          1.2760035478961063,
          0.4511367213389751,
          0.9532744378654282,
          0.6970608003762497,
          1.7492552844171296,
          1.184770606819184,
          1.0275778156541735,
          1.4633145354375579,
          0.1945367465466049,
          1.6198484821979753,
          1.621156983532972,
          0.6982199480489722,
          1.589280915090483,
          0.2661478506389521,
          -0.17427111660535632,
          -0.44273910373147163,
          1.8013206297294095,
          0.38067970515923377,
          0.1484102478546001,
          0.4619512789242858,
          0.6524354210875318,
          1.4093669635372639,
          1.2286789614215514,
          1.7622553383162916,
          2.515282861506202,
          -0.3133600699957031,
          1.692924609635393,
          0.2617641148498322,
          -0.3102754278787454,
          1.8552818789792473,
          2.799662743818433,
          0.7883739672471406,
          1.1752758820210634,
          0.1911040758988266,
          2.0051564595826523,
          0.8750606267747185,
          0.5867716849831304,
          -0.5595601452939414,
          1.1295261397832808,
          1.82503306617965,
          0.3119578278847842,
          1.6851520430104279,
          1.170836231904772,
          1.47898679103453,
          1.9593264410686158,
          1.614724524247022,
          1.9579563501949444,
          1.1210419275311918,
          -0.08515724116891032,
          -1.3170761106897992,
          0.6383915941321012,
          0.6121583743947909,
          2.0650534828051317,
          -0.1355420703629293,
          0.9669647393801108,
          3.6756807392939934,
          -0.2984241501988991,
          1.217280062203737,
          0.8547998706857506,
          0.44878029718789236,
          1.0188336191234684,
          2.9922346851438215,
          0.15670995269588417,
          1.4404890324344382,
          -0.13465947734069794,
          -0.12440843597423146,
          0.23197973494636126,
          1.7859824146309702,
          0.9834268107576333,
          0.6599861244084086,
          2.004846793103327,
          1.8277291619430658,
          1.8381796058974196,
          1.5412701271076812,
          0.9167721211661162,
          0.12557438137540866,
          0.7433306853348609,
          -1.1722482702277612,
          0.47659296676266805,
          3.4057950700932014,
          -0.1382548019166414,
          0.51810137480039,
          -0.03565097788574101,
          -1.0060494968293945,
          -0.14288216468536552,
          1.5258923521532362,
          0.4795037624043238,
          1.2221183736486694,
          0.5719120546754302,
          2.54354303757123,
          0.7142172831108692,
          2.829291779089387,
          2.983249619309719,
          1.8967809307187347,
          1.9181596163000654,
          0.8917942871361838,
          2.9097861299195587,
          0.5535273918151408,
          1.500408150235695,
          0.7536484180217637,
          0.131230130903069,
          2.181985169947324
         ]
        }
       ],
       "layout": {
        "barmode": "stack",
        "template": {
         "data": {
          "bar": [
           {
            "error_x": {
             "color": "#2a3f5f"
            },
            "error_y": {
             "color": "#2a3f5f"
            },
            "marker": {
             "line": {
              "color": "#E5ECF6",
              "width": 0.5
             },
             "pattern": {
              "fillmode": "overlay",
              "size": 10,
              "solidity": 0.2
             }
            },
            "type": "bar"
           }
          ],
          "barpolar": [
           {
            "marker": {
             "line": {
              "color": "#E5ECF6",
              "width": 0.5
             },
             "pattern": {
              "fillmode": "overlay",
              "size": 10,
              "solidity": 0.2
             }
            },
            "type": "barpolar"
           }
          ],
          "carpet": [
           {
            "aaxis": {
             "endlinecolor": "#2a3f5f",
             "gridcolor": "white",
             "linecolor": "white",
             "minorgridcolor": "white",
             "startlinecolor": "#2a3f5f"
            },
            "baxis": {
             "endlinecolor": "#2a3f5f",
             "gridcolor": "white",
             "linecolor": "white",
             "minorgridcolor": "white",
             "startlinecolor": "#2a3f5f"
            },
            "type": "carpet"
           }
          ],
          "choropleth": [
           {
            "colorbar": {
             "outlinewidth": 0,
             "ticks": ""
            },
            "type": "choropleth"
           }
          ],
          "contour": [
           {
            "colorbar": {
             "outlinewidth": 0,
             "ticks": ""
            },
            "colorscale": [
             [
              0,
              "#0d0887"
             ],
             [
              0.1111111111111111,
              "#46039f"
             ],
             [
              0.2222222222222222,
              "#7201a8"
             ],
             [
              0.3333333333333333,
              "#9c179e"
             ],
             [
              0.4444444444444444,
              "#bd3786"
             ],
             [
              0.5555555555555556,
              "#d8576b"
             ],
             [
              0.6666666666666666,
              "#ed7953"
             ],
             [
              0.7777777777777778,
              "#fb9f3a"
             ],
             [
              0.8888888888888888,
              "#fdca26"
             ],
             [
              1,
              "#f0f921"
             ]
            ],
            "type": "contour"
           }
          ],
          "contourcarpet": [
           {
            "colorbar": {
             "outlinewidth": 0,
             "ticks": ""
            },
            "type": "contourcarpet"
           }
          ],
          "heatmap": [
           {
            "colorbar": {
             "outlinewidth": 0,
             "ticks": ""
            },
            "colorscale": [
             [
              0,
              "#0d0887"
             ],
             [
              0.1111111111111111,
              "#46039f"
             ],
             [
              0.2222222222222222,
              "#7201a8"
             ],
             [
              0.3333333333333333,
              "#9c179e"
             ],
             [
              0.4444444444444444,
              "#bd3786"
             ],
             [
              0.5555555555555556,
              "#d8576b"
             ],
             [
              0.6666666666666666,
              "#ed7953"
             ],
             [
              0.7777777777777778,
              "#fb9f3a"
             ],
             [
              0.8888888888888888,
              "#fdca26"
             ],
             [
              1,
              "#f0f921"
             ]
            ],
            "type": "heatmap"
           }
          ],
          "heatmapgl": [
           {
            "colorbar": {
             "outlinewidth": 0,
             "ticks": ""
            },
            "colorscale": [
             [
              0,
              "#0d0887"
             ],
             [
              0.1111111111111111,
              "#46039f"
             ],
             [
              0.2222222222222222,
              "#7201a8"
             ],
             [
              0.3333333333333333,
              "#9c179e"
             ],
             [
              0.4444444444444444,
              "#bd3786"
             ],
             [
              0.5555555555555556,
              "#d8576b"
             ],
             [
              0.6666666666666666,
              "#ed7953"
             ],
             [
              0.7777777777777778,
              "#fb9f3a"
             ],
             [
              0.8888888888888888,
              "#fdca26"
             ],
             [
              1,
              "#f0f921"
             ]
            ],
            "type": "heatmapgl"
           }
          ],
          "histogram": [
           {
            "marker": {
             "pattern": {
              "fillmode": "overlay",
              "size": 10,
              "solidity": 0.2
             }
            },
            "type": "histogram"
           }
          ],
          "histogram2d": [
           {
            "colorbar": {
             "outlinewidth": 0,
             "ticks": ""
            },
            "colorscale": [
             [
              0,
              "#0d0887"
             ],
             [
              0.1111111111111111,
              "#46039f"
             ],
             [
              0.2222222222222222,
              "#7201a8"
             ],
             [
              0.3333333333333333,
              "#9c179e"
             ],
             [
              0.4444444444444444,
              "#bd3786"
             ],
             [
              0.5555555555555556,
              "#d8576b"
             ],
             [
              0.6666666666666666,
              "#ed7953"
             ],
             [
              0.7777777777777778,
              "#fb9f3a"
             ],
             [
              0.8888888888888888,
              "#fdca26"
             ],
             [
              1,
              "#f0f921"
             ]
            ],
            "type": "histogram2d"
           }
          ],
          "histogram2dcontour": [
           {
            "colorbar": {
             "outlinewidth": 0,
             "ticks": ""
            },
            "colorscale": [
             [
              0,
              "#0d0887"
             ],
             [
              0.1111111111111111,
              "#46039f"
             ],
             [
              0.2222222222222222,
              "#7201a8"
             ],
             [
              0.3333333333333333,
              "#9c179e"
             ],
             [
              0.4444444444444444,
              "#bd3786"
             ],
             [
              0.5555555555555556,
              "#d8576b"
             ],
             [
              0.6666666666666666,
              "#ed7953"
             ],
             [
              0.7777777777777778,
              "#fb9f3a"
             ],
             [
              0.8888888888888888,
              "#fdca26"
             ],
             [
              1,
              "#f0f921"
             ]
            ],
            "type": "histogram2dcontour"
           }
          ],
          "mesh3d": [
           {
            "colorbar": {
             "outlinewidth": 0,
             "ticks": ""
            },
            "type": "mesh3d"
           }
          ],
          "parcoords": [
           {
            "line": {
             "colorbar": {
              "outlinewidth": 0,
              "ticks": ""
             }
            },
            "type": "parcoords"
           }
          ],
          "pie": [
           {
            "automargin": true,
            "type": "pie"
           }
          ],
          "scatter": [
           {
            "fillpattern": {
             "fillmode": "overlay",
             "size": 10,
             "solidity": 0.2
            },
            "type": "scatter"
           }
          ],
          "scatter3d": [
           {
            "line": {
             "colorbar": {
              "outlinewidth": 0,
              "ticks": ""
             }
            },
            "marker": {
             "colorbar": {
              "outlinewidth": 0,
              "ticks": ""
             }
            },
            "type": "scatter3d"
           }
          ],
          "scattercarpet": [
           {
            "marker": {
             "colorbar": {
              "outlinewidth": 0,
              "ticks": ""
             }
            },
            "type": "scattercarpet"
           }
          ],
          "scattergeo": [
           {
            "marker": {
             "colorbar": {
              "outlinewidth": 0,
              "ticks": ""
             }
            },
            "type": "scattergeo"
           }
          ],
          "scattergl": [
           {
            "marker": {
             "colorbar": {
              "outlinewidth": 0,
              "ticks": ""
             }
            },
            "type": "scattergl"
           }
          ],
          "scattermapbox": [
           {
            "marker": {
             "colorbar": {
              "outlinewidth": 0,
              "ticks": ""
             }
            },
            "type": "scattermapbox"
           }
          ],
          "scatterpolar": [
           {
            "marker": {
             "colorbar": {
              "outlinewidth": 0,
              "ticks": ""
             }
            },
            "type": "scatterpolar"
           }
          ],
          "scatterpolargl": [
           {
            "marker": {
             "colorbar": {
              "outlinewidth": 0,
              "ticks": ""
             }
            },
            "type": "scatterpolargl"
           }
          ],
          "scatterternary": [
           {
            "marker": {
             "colorbar": {
              "outlinewidth": 0,
              "ticks": ""
             }
            },
            "type": "scatterternary"
           }
          ],
          "surface": [
           {
            "colorbar": {
             "outlinewidth": 0,
             "ticks": ""
            },
            "colorscale": [
             [
              0,
              "#0d0887"
             ],
             [
              0.1111111111111111,
              "#46039f"
             ],
             [
              0.2222222222222222,
              "#7201a8"
             ],
             [
              0.3333333333333333,
              "#9c179e"
             ],
             [
              0.4444444444444444,
              "#bd3786"
             ],
             [
              0.5555555555555556,
              "#d8576b"
             ],
             [
              0.6666666666666666,
              "#ed7953"
             ],
             [
              0.7777777777777778,
              "#fb9f3a"
             ],
             [
              0.8888888888888888,
              "#fdca26"
             ],
             [
              1,
              "#f0f921"
             ]
            ],
            "type": "surface"
           }
          ],
          "table": [
           {
            "cells": {
             "fill": {
              "color": "#EBF0F8"
             },
             "line": {
              "color": "white"
             }
            },
            "header": {
             "fill": {
              "color": "#C8D4E3"
             },
             "line": {
              "color": "white"
             }
            },
            "type": "table"
           }
          ]
         },
         "layout": {
          "annotationdefaults": {
           "arrowcolor": "#2a3f5f",
           "arrowhead": 0,
           "arrowwidth": 1
          },
          "autotypenumbers": "strict",
          "coloraxis": {
           "colorbar": {
            "outlinewidth": 0,
            "ticks": ""
           }
          },
          "colorscale": {
           "diverging": [
            [
             0,
             "#8e0152"
            ],
            [
             0.1,
             "#c51b7d"
            ],
            [
             0.2,
             "#de77ae"
            ],
            [
             0.3,
             "#f1b6da"
            ],
            [
             0.4,
             "#fde0ef"
            ],
            [
             0.5,
             "#f7f7f7"
            ],
            [
             0.6,
             "#e6f5d0"
            ],
            [
             0.7,
             "#b8e186"
            ],
            [
             0.8,
             "#7fbc41"
            ],
            [
             0.9,
             "#4d9221"
            ],
            [
             1,
             "#276419"
            ]
           ],
           "sequential": [
            [
             0,
             "#0d0887"
            ],
            [
             0.1111111111111111,
             "#46039f"
            ],
            [
             0.2222222222222222,
             "#7201a8"
            ],
            [
             0.3333333333333333,
             "#9c179e"
            ],
            [
             0.4444444444444444,
             "#bd3786"
            ],
            [
             0.5555555555555556,
             "#d8576b"
            ],
            [
             0.6666666666666666,
             "#ed7953"
            ],
            [
             0.7777777777777778,
             "#fb9f3a"
            ],
            [
             0.8888888888888888,
             "#fdca26"
            ],
            [
             1,
             "#f0f921"
            ]
           ],
           "sequentialminus": [
            [
             0,
             "#0d0887"
            ],
            [
             0.1111111111111111,
             "#46039f"
            ],
            [
             0.2222222222222222,
             "#7201a8"
            ],
            [
             0.3333333333333333,
             "#9c179e"
            ],
            [
             0.4444444444444444,
             "#bd3786"
            ],
            [
             0.5555555555555556,
             "#d8576b"
            ],
            [
             0.6666666666666666,
             "#ed7953"
            ],
            [
             0.7777777777777778,
             "#fb9f3a"
            ],
            [
             0.8888888888888888,
             "#fdca26"
            ],
            [
             1,
             "#f0f921"
            ]
           ]
          },
          "colorway": [
           "#636efa",
           "#EF553B",
           "#00cc96",
           "#ab63fa",
           "#FFA15A",
           "#19d3f3",
           "#FF6692",
           "#B6E880",
           "#FF97FF",
           "#FECB52"
          ],
          "font": {
           "color": "#2a3f5f"
          },
          "geo": {
           "bgcolor": "white",
           "lakecolor": "white",
           "landcolor": "#E5ECF6",
           "showlakes": true,
           "showland": true,
           "subunitcolor": "white"
          },
          "hoverlabel": {
           "align": "left"
          },
          "hovermode": "closest",
          "mapbox": {
           "style": "light"
          },
          "paper_bgcolor": "white",
          "plot_bgcolor": "#E5ECF6",
          "polar": {
           "angularaxis": {
            "gridcolor": "white",
            "linecolor": "white",
            "ticks": ""
           },
           "bgcolor": "#E5ECF6",
           "radialaxis": {
            "gridcolor": "white",
            "linecolor": "white",
            "ticks": ""
           }
          },
          "scene": {
           "xaxis": {
            "backgroundcolor": "#E5ECF6",
            "gridcolor": "white",
            "gridwidth": 2,
            "linecolor": "white",
            "showbackground": true,
            "ticks": "",
            "zerolinecolor": "white"
           },
           "yaxis": {
            "backgroundcolor": "#E5ECF6",
            "gridcolor": "white",
            "gridwidth": 2,
            "linecolor": "white",
            "showbackground": true,
            "ticks": "",
            "zerolinecolor": "white"
           },
           "zaxis": {
            "backgroundcolor": "#E5ECF6",
            "gridcolor": "white",
            "gridwidth": 2,
            "linecolor": "white",
            "showbackground": true,
            "ticks": "",
            "zerolinecolor": "white"
           }
          },
          "shapedefaults": {
           "line": {
            "color": "#2a3f5f"
           }
          },
          "ternary": {
           "aaxis": {
            "gridcolor": "white",
            "linecolor": "white",
            "ticks": ""
           },
           "baxis": {
            "gridcolor": "white",
            "linecolor": "white",
            "ticks": ""
           },
           "bgcolor": "#E5ECF6",
           "caxis": {
            "gridcolor": "white",
            "linecolor": "white",
            "ticks": ""
           }
          },
          "title": {
           "x": 0.05
          },
          "xaxis": {
           "automargin": true,
           "gridcolor": "white",
           "linecolor": "white",
           "ticks": "",
           "title": {
            "standoff": 15
           },
           "zerolinecolor": "white",
           "zerolinewidth": 2
          },
          "yaxis": {
           "automargin": true,
           "gridcolor": "white",
           "linecolor": "white",
           "ticks": "",
           "title": {
            "standoff": 15
           },
           "zerolinecolor": "white",
           "zerolinewidth": 2
          }
         }
        }
       }
      }
     },
     "metadata": {},
     "output_type": "display_data"
    }
   ],
   "source": [
    "fig = go.Figure()\n",
    "fig.add_trace(go.Histogram(x=n1,cumulative_enabled=True)) # 누적 히스토그램\n",
    "fig.add_trace(go.Histogram(x=n2,cumulative_enabled=True)) # 누적 히스토그램\n",
    "fig.update_layout(barmode='stack') # barmode = stack (더 많은 쪽이 잡아먹는)\n",
    "fig.show()"
   ]
  },
  {
   "cell_type": "code",
   "execution_count": 41,
   "metadata": {},
   "outputs": [
    {
     "data": {
      "application/vnd.plotly.v1+json": {
       "config": {
        "plotlyServerURL": "https://plot.ly"
       },
       "data": [
        {
         "alignmentgroup": "True",
         "hovertemplate": "day=%{x}<br>tip=%{y}<extra></extra>",
         "legendgroup": "",
         "marker": {
          "color": "#636efa",
          "pattern": {
           "shape": ""
          }
         },
         "name": "",
         "offsetgroup": "",
         "orientation": "v",
         "showlegend": false,
         "textposition": "auto",
         "type": "bar",
         "x": [
          "Sun",
          "Sun",
          "Sun",
          "Sun",
          "Sun",
          "Sun",
          "Sun",
          "Sun",
          "Sun",
          "Sun",
          "Sun",
          "Sun",
          "Sun",
          "Sun",
          "Sun",
          "Sun",
          "Sun",
          "Sun",
          "Sun",
          "Sat",
          "Sat",
          "Sat",
          "Sat",
          "Sat",
          "Sat",
          "Sat",
          "Sat",
          "Sat",
          "Sat",
          "Sat",
          "Sat",
          "Sat",
          "Sat",
          "Sat",
          "Sat",
          "Sat",
          "Sat",
          "Sat",
          "Sat",
          "Sat",
          "Sat",
          "Sun",
          "Sun",
          "Sun",
          "Sun",
          "Sun",
          "Sun",
          "Sun",
          "Sun",
          "Sun",
          "Sun",
          "Sun",
          "Sun",
          "Sun",
          "Sun",
          "Sun",
          "Sat",
          "Sat",
          "Sat",
          "Sat",
          "Sat",
          "Sat",
          "Sat",
          "Sat",
          "Sat",
          "Sat",
          "Sat",
          "Sat",
          "Sat",
          "Sat",
          "Sat",
          "Sat",
          "Sat",
          "Sat",
          "Sat",
          "Sat",
          "Sat",
          "Thur",
          "Thur",
          "Thur",
          "Thur",
          "Thur",
          "Thur",
          "Thur",
          "Thur",
          "Thur",
          "Thur",
          "Thur",
          "Thur",
          "Thur",
          "Fri",
          "Fri",
          "Fri",
          "Fri",
          "Fri",
          "Fri",
          "Fri",
          "Fri",
          "Fri",
          "Fri",
          "Fri",
          "Fri",
          "Sat",
          "Sat",
          "Sat",
          "Sat",
          "Sat",
          "Sat",
          "Sat",
          "Sat",
          "Sat",
          "Sat",
          "Sun",
          "Sun",
          "Sun",
          "Sun",
          "Sun",
          "Thur",
          "Thur",
          "Thur",
          "Thur",
          "Thur",
          "Thur",
          "Thur",
          "Thur",
          "Thur",
          "Thur",
          "Thur",
          "Thur",
          "Thur",
          "Thur",
          "Thur",
          "Thur",
          "Thur",
          "Thur",
          "Thur",
          "Thur",
          "Thur",
          "Thur",
          "Thur",
          "Thur",
          "Thur",
          "Thur",
          "Thur",
          "Thur",
          "Thur",
          "Thur",
          "Thur",
          "Thur",
          "Thur",
          "Sun",
          "Sun",
          "Sun",
          "Sun",
          "Sun",
          "Sun",
          "Sun",
          "Sun",
          "Sun",
          "Sun",
          "Sun",
          "Sun",
          "Sun",
          "Sun",
          "Sun",
          "Sun",
          "Sun",
          "Sun",
          "Sat",
          "Sat",
          "Sat",
          "Sat",
          "Sun",
          "Sun",
          "Sun",
          "Sun",
          "Sun",
          "Sun",
          "Sun",
          "Sun",
          "Sun",
          "Sun",
          "Sun",
          "Sun",
          "Sun",
          "Sun",
          "Sun",
          "Sun",
          "Sun",
          "Sun",
          "Sun",
          "Thur",
          "Thur",
          "Thur",
          "Thur",
          "Thur",
          "Thur",
          "Thur",
          "Thur",
          "Thur",
          "Thur",
          "Thur",
          "Thur",
          "Thur",
          "Thur",
          "Thur",
          "Sat",
          "Sat",
          "Sat",
          "Sat",
          "Sat",
          "Sat",
          "Sat",
          "Sat",
          "Sat",
          "Sat",
          "Sat",
          "Sat",
          "Sat",
          "Sat",
          "Fri",
          "Fri",
          "Fri",
          "Fri",
          "Fri",
          "Fri",
          "Fri",
          "Sat",
          "Sat",
          "Sat",
          "Sat",
          "Sat",
          "Sat",
          "Sat",
          "Sat",
          "Sat",
          "Sat",
          "Sat",
          "Sat",
          "Sat",
          "Sat",
          "Sat",
          "Sat",
          "Thur"
         ],
         "xaxis": "x",
         "y": [
          1.01,
          1.66,
          3.5,
          3.31,
          3.61,
          4.71,
          2,
          3.12,
          1.96,
          3.23,
          1.71,
          5,
          1.57,
          3,
          3.02,
          3.92,
          1.67,
          3.71,
          3.5,
          3.35,
          4.08,
          2.75,
          2.23,
          7.58,
          3.18,
          2.34,
          2,
          2,
          4.3,
          3,
          1.45,
          2.5,
          3,
          2.45,
          3.27,
          3.6,
          2,
          3.07,
          2.31,
          5,
          2.24,
          2.54,
          3.06,
          1.32,
          5.6,
          3,
          5,
          6,
          2.05,
          3,
          2.5,
          2.6,
          5.2,
          1.56,
          4.34,
          3.51,
          3,
          1.5,
          1.76,
          6.73,
          3.21,
          2,
          1.98,
          3.76,
          2.64,
          3.15,
          2.47,
          1,
          2.01,
          2.09,
          1.97,
          3,
          3.14,
          5,
          2.2,
          1.25,
          3.08,
          4,
          3,
          2.71,
          3,
          3.4,
          1.83,
          5,
          2.03,
          5.17,
          2,
          4,
          5.85,
          3,
          3,
          3.5,
          1,
          4.3,
          3.25,
          4.73,
          4,
          1.5,
          3,
          1.5,
          2.5,
          3,
          2.5,
          3.48,
          4.08,
          1.64,
          4.06,
          4.29,
          3.76,
          4,
          3,
          1,
          4,
          2.55,
          4,
          3.5,
          5.07,
          1.5,
          1.8,
          2.92,
          2.31,
          1.68,
          2.5,
          2,
          2.52,
          4.2,
          1.48,
          2,
          2,
          2.18,
          1.5,
          2.83,
          1.5,
          2,
          3.25,
          1.25,
          2,
          2,
          2,
          2.75,
          3.5,
          6.7,
          5,
          5,
          2.3,
          1.5,
          1.36,
          1.63,
          1.73,
          2,
          2.5,
          2,
          2.74,
          2,
          2,
          5.14,
          5,
          3.75,
          2.61,
          2,
          3.5,
          2.5,
          2,
          2,
          3,
          3.48,
          2.24,
          4.5,
          1.61,
          2,
          10,
          3.16,
          5.15,
          3.18,
          4,
          3.11,
          2,
          2,
          4,
          3.55,
          3.68,
          5.65,
          3.5,
          6.5,
          3,
          5,
          3.5,
          2,
          3.5,
          4,
          1.5,
          4.19,
          2.56,
          2.02,
          4,
          1.44,
          2,
          5,
          2,
          2,
          4,
          2.01,
          2,
          2.5,
          4,
          3.23,
          3.41,
          3,
          2.03,
          2.23,
          2,
          5.16,
          9,
          2.5,
          6.5,
          1.1,
          3,
          1.5,
          1.44,
          3.09,
          2.2,
          3.48,
          1.92,
          3,
          1.58,
          2.5,
          2,
          3,
          2.72,
          2.88,
          2,
          3,
          3.39,
          1.47,
          3,
          1.25,
          1,
          1.17,
          4.67,
          5.92,
          2,
          2,
          1.75,
          3
         ],
         "yaxis": "y"
        }
       ],
       "layout": {
        "barmode": "relative",
        "height": 300,
        "legend": {
         "tracegroupgap": 0
        },
        "margin": {
         "t": 60
        },
        "template": {
         "data": {
          "bar": [
           {
            "error_x": {
             "color": "#2a3f5f"
            },
            "error_y": {
             "color": "#2a3f5f"
            },
            "marker": {
             "line": {
              "color": "#E5ECF6",
              "width": 0.5
             },
             "pattern": {
              "fillmode": "overlay",
              "size": 10,
              "solidity": 0.2
             }
            },
            "type": "bar"
           }
          ],
          "barpolar": [
           {
            "marker": {
             "line": {
              "color": "#E5ECF6",
              "width": 0.5
             },
             "pattern": {
              "fillmode": "overlay",
              "size": 10,
              "solidity": 0.2
             }
            },
            "type": "barpolar"
           }
          ],
          "carpet": [
           {
            "aaxis": {
             "endlinecolor": "#2a3f5f",
             "gridcolor": "white",
             "linecolor": "white",
             "minorgridcolor": "white",
             "startlinecolor": "#2a3f5f"
            },
            "baxis": {
             "endlinecolor": "#2a3f5f",
             "gridcolor": "white",
             "linecolor": "white",
             "minorgridcolor": "white",
             "startlinecolor": "#2a3f5f"
            },
            "type": "carpet"
           }
          ],
          "choropleth": [
           {
            "colorbar": {
             "outlinewidth": 0,
             "ticks": ""
            },
            "type": "choropleth"
           }
          ],
          "contour": [
           {
            "colorbar": {
             "outlinewidth": 0,
             "ticks": ""
            },
            "colorscale": [
             [
              0,
              "#0d0887"
             ],
             [
              0.1111111111111111,
              "#46039f"
             ],
             [
              0.2222222222222222,
              "#7201a8"
             ],
             [
              0.3333333333333333,
              "#9c179e"
             ],
             [
              0.4444444444444444,
              "#bd3786"
             ],
             [
              0.5555555555555556,
              "#d8576b"
             ],
             [
              0.6666666666666666,
              "#ed7953"
             ],
             [
              0.7777777777777778,
              "#fb9f3a"
             ],
             [
              0.8888888888888888,
              "#fdca26"
             ],
             [
              1,
              "#f0f921"
             ]
            ],
            "type": "contour"
           }
          ],
          "contourcarpet": [
           {
            "colorbar": {
             "outlinewidth": 0,
             "ticks": ""
            },
            "type": "contourcarpet"
           }
          ],
          "heatmap": [
           {
            "colorbar": {
             "outlinewidth": 0,
             "ticks": ""
            },
            "colorscale": [
             [
              0,
              "#0d0887"
             ],
             [
              0.1111111111111111,
              "#46039f"
             ],
             [
              0.2222222222222222,
              "#7201a8"
             ],
             [
              0.3333333333333333,
              "#9c179e"
             ],
             [
              0.4444444444444444,
              "#bd3786"
             ],
             [
              0.5555555555555556,
              "#d8576b"
             ],
             [
              0.6666666666666666,
              "#ed7953"
             ],
             [
              0.7777777777777778,
              "#fb9f3a"
             ],
             [
              0.8888888888888888,
              "#fdca26"
             ],
             [
              1,
              "#f0f921"
             ]
            ],
            "type": "heatmap"
           }
          ],
          "heatmapgl": [
           {
            "colorbar": {
             "outlinewidth": 0,
             "ticks": ""
            },
            "colorscale": [
             [
              0,
              "#0d0887"
             ],
             [
              0.1111111111111111,
              "#46039f"
             ],
             [
              0.2222222222222222,
              "#7201a8"
             ],
             [
              0.3333333333333333,
              "#9c179e"
             ],
             [
              0.4444444444444444,
              "#bd3786"
             ],
             [
              0.5555555555555556,
              "#d8576b"
             ],
             [
              0.6666666666666666,
              "#ed7953"
             ],
             [
              0.7777777777777778,
              "#fb9f3a"
             ],
             [
              0.8888888888888888,
              "#fdca26"
             ],
             [
              1,
              "#f0f921"
             ]
            ],
            "type": "heatmapgl"
           }
          ],
          "histogram": [
           {
            "marker": {
             "pattern": {
              "fillmode": "overlay",
              "size": 10,
              "solidity": 0.2
             }
            },
            "type": "histogram"
           }
          ],
          "histogram2d": [
           {
            "colorbar": {
             "outlinewidth": 0,
             "ticks": ""
            },
            "colorscale": [
             [
              0,
              "#0d0887"
             ],
             [
              0.1111111111111111,
              "#46039f"
             ],
             [
              0.2222222222222222,
              "#7201a8"
             ],
             [
              0.3333333333333333,
              "#9c179e"
             ],
             [
              0.4444444444444444,
              "#bd3786"
             ],
             [
              0.5555555555555556,
              "#d8576b"
             ],
             [
              0.6666666666666666,
              "#ed7953"
             ],
             [
              0.7777777777777778,
              "#fb9f3a"
             ],
             [
              0.8888888888888888,
              "#fdca26"
             ],
             [
              1,
              "#f0f921"
             ]
            ],
            "type": "histogram2d"
           }
          ],
          "histogram2dcontour": [
           {
            "colorbar": {
             "outlinewidth": 0,
             "ticks": ""
            },
            "colorscale": [
             [
              0,
              "#0d0887"
             ],
             [
              0.1111111111111111,
              "#46039f"
             ],
             [
              0.2222222222222222,
              "#7201a8"
             ],
             [
              0.3333333333333333,
              "#9c179e"
             ],
             [
              0.4444444444444444,
              "#bd3786"
             ],
             [
              0.5555555555555556,
              "#d8576b"
             ],
             [
              0.6666666666666666,
              "#ed7953"
             ],
             [
              0.7777777777777778,
              "#fb9f3a"
             ],
             [
              0.8888888888888888,
              "#fdca26"
             ],
             [
              1,
              "#f0f921"
             ]
            ],
            "type": "histogram2dcontour"
           }
          ],
          "mesh3d": [
           {
            "colorbar": {
             "outlinewidth": 0,
             "ticks": ""
            },
            "type": "mesh3d"
           }
          ],
          "parcoords": [
           {
            "line": {
             "colorbar": {
              "outlinewidth": 0,
              "ticks": ""
             }
            },
            "type": "parcoords"
           }
          ],
          "pie": [
           {
            "automargin": true,
            "type": "pie"
           }
          ],
          "scatter": [
           {
            "fillpattern": {
             "fillmode": "overlay",
             "size": 10,
             "solidity": 0.2
            },
            "type": "scatter"
           }
          ],
          "scatter3d": [
           {
            "line": {
             "colorbar": {
              "outlinewidth": 0,
              "ticks": ""
             }
            },
            "marker": {
             "colorbar": {
              "outlinewidth": 0,
              "ticks": ""
             }
            },
            "type": "scatter3d"
           }
          ],
          "scattercarpet": [
           {
            "marker": {
             "colorbar": {
              "outlinewidth": 0,
              "ticks": ""
             }
            },
            "type": "scattercarpet"
           }
          ],
          "scattergeo": [
           {
            "marker": {
             "colorbar": {
              "outlinewidth": 0,
              "ticks": ""
             }
            },
            "type": "scattergeo"
           }
          ],
          "scattergl": [
           {
            "marker": {
             "colorbar": {
              "outlinewidth": 0,
              "ticks": ""
             }
            },
            "type": "scattergl"
           }
          ],
          "scattermapbox": [
           {
            "marker": {
             "colorbar": {
              "outlinewidth": 0,
              "ticks": ""
             }
            },
            "type": "scattermapbox"
           }
          ],
          "scatterpolar": [
           {
            "marker": {
             "colorbar": {
              "outlinewidth": 0,
              "ticks": ""
             }
            },
            "type": "scatterpolar"
           }
          ],
          "scatterpolargl": [
           {
            "marker": {
             "colorbar": {
              "outlinewidth": 0,
              "ticks": ""
             }
            },
            "type": "scatterpolargl"
           }
          ],
          "scatterternary": [
           {
            "marker": {
             "colorbar": {
              "outlinewidth": 0,
              "ticks": ""
             }
            },
            "type": "scatterternary"
           }
          ],
          "surface": [
           {
            "colorbar": {
             "outlinewidth": 0,
             "ticks": ""
            },
            "colorscale": [
             [
              0,
              "#0d0887"
             ],
             [
              0.1111111111111111,
              "#46039f"
             ],
             [
              0.2222222222222222,
              "#7201a8"
             ],
             [
              0.3333333333333333,
              "#9c179e"
             ],
             [
              0.4444444444444444,
              "#bd3786"
             ],
             [
              0.5555555555555556,
              "#d8576b"
             ],
             [
              0.6666666666666666,
              "#ed7953"
             ],
             [
              0.7777777777777778,
              "#fb9f3a"
             ],
             [
              0.8888888888888888,
              "#fdca26"
             ],
             [
              1,
              "#f0f921"
             ]
            ],
            "type": "surface"
           }
          ],
          "table": [
           {
            "cells": {
             "fill": {
              "color": "#EBF0F8"
             },
             "line": {
              "color": "white"
             }
            },
            "header": {
             "fill": {
              "color": "#C8D4E3"
             },
             "line": {
              "color": "white"
             }
            },
            "type": "table"
           }
          ]
         },
         "layout": {
          "annotationdefaults": {
           "arrowcolor": "#2a3f5f",
           "arrowhead": 0,
           "arrowwidth": 1
          },
          "autotypenumbers": "strict",
          "coloraxis": {
           "colorbar": {
            "outlinewidth": 0,
            "ticks": ""
           }
          },
          "colorscale": {
           "diverging": [
            [
             0,
             "#8e0152"
            ],
            [
             0.1,
             "#c51b7d"
            ],
            [
             0.2,
             "#de77ae"
            ],
            [
             0.3,
             "#f1b6da"
            ],
            [
             0.4,
             "#fde0ef"
            ],
            [
             0.5,
             "#f7f7f7"
            ],
            [
             0.6,
             "#e6f5d0"
            ],
            [
             0.7,
             "#b8e186"
            ],
            [
             0.8,
             "#7fbc41"
            ],
            [
             0.9,
             "#4d9221"
            ],
            [
             1,
             "#276419"
            ]
           ],
           "sequential": [
            [
             0,
             "#0d0887"
            ],
            [
             0.1111111111111111,
             "#46039f"
            ],
            [
             0.2222222222222222,
             "#7201a8"
            ],
            [
             0.3333333333333333,
             "#9c179e"
            ],
            [
             0.4444444444444444,
             "#bd3786"
            ],
            [
             0.5555555555555556,
             "#d8576b"
            ],
            [
             0.6666666666666666,
             "#ed7953"
            ],
            [
             0.7777777777777778,
             "#fb9f3a"
            ],
            [
             0.8888888888888888,
             "#fdca26"
            ],
            [
             1,
             "#f0f921"
            ]
           ],
           "sequentialminus": [
            [
             0,
             "#0d0887"
            ],
            [
             0.1111111111111111,
             "#46039f"
            ],
            [
             0.2222222222222222,
             "#7201a8"
            ],
            [
             0.3333333333333333,
             "#9c179e"
            ],
            [
             0.4444444444444444,
             "#bd3786"
            ],
            [
             0.5555555555555556,
             "#d8576b"
            ],
            [
             0.6666666666666666,
             "#ed7953"
            ],
            [
             0.7777777777777778,
             "#fb9f3a"
            ],
            [
             0.8888888888888888,
             "#fdca26"
            ],
            [
             1,
             "#f0f921"
            ]
           ]
          },
          "colorway": [
           "#636efa",
           "#EF553B",
           "#00cc96",
           "#ab63fa",
           "#FFA15A",
           "#19d3f3",
           "#FF6692",
           "#B6E880",
           "#FF97FF",
           "#FECB52"
          ],
          "font": {
           "color": "#2a3f5f"
          },
          "geo": {
           "bgcolor": "white",
           "lakecolor": "white",
           "landcolor": "#E5ECF6",
           "showlakes": true,
           "showland": true,
           "subunitcolor": "white"
          },
          "hoverlabel": {
           "align": "left"
          },
          "hovermode": "closest",
          "mapbox": {
           "style": "light"
          },
          "paper_bgcolor": "white",
          "plot_bgcolor": "#E5ECF6",
          "polar": {
           "angularaxis": {
            "gridcolor": "white",
            "linecolor": "white",
            "ticks": ""
           },
           "bgcolor": "#E5ECF6",
           "radialaxis": {
            "gridcolor": "white",
            "linecolor": "white",
            "ticks": ""
           }
          },
          "scene": {
           "xaxis": {
            "backgroundcolor": "#E5ECF6",
            "gridcolor": "white",
            "gridwidth": 2,
            "linecolor": "white",
            "showbackground": true,
            "ticks": "",
            "zerolinecolor": "white"
           },
           "yaxis": {
            "backgroundcolor": "#E5ECF6",
            "gridcolor": "white",
            "gridwidth": 2,
            "linecolor": "white",
            "showbackground": true,
            "ticks": "",
            "zerolinecolor": "white"
           },
           "zaxis": {
            "backgroundcolor": "#E5ECF6",
            "gridcolor": "white",
            "gridwidth": 2,
            "linecolor": "white",
            "showbackground": true,
            "ticks": "",
            "zerolinecolor": "white"
           }
          },
          "shapedefaults": {
           "line": {
            "color": "#2a3f5f"
           }
          },
          "ternary": {
           "aaxis": {
            "gridcolor": "white",
            "linecolor": "white",
            "ticks": ""
           },
           "baxis": {
            "gridcolor": "white",
            "linecolor": "white",
            "ticks": ""
           },
           "bgcolor": "#E5ECF6",
           "caxis": {
            "gridcolor": "white",
            "linecolor": "white",
            "ticks": ""
           }
          },
          "title": {
           "x": 0.05
          },
          "xaxis": {
           "automargin": true,
           "gridcolor": "white",
           "linecolor": "white",
           "ticks": "",
           "title": {
            "standoff": 15
           },
           "zerolinecolor": "white",
           "zerolinewidth": 2
          },
          "yaxis": {
           "automargin": true,
           "gridcolor": "white",
           "linecolor": "white",
           "ticks": "",
           "title": {
            "standoff": 15
           },
           "zerolinecolor": "white",
           "zerolinewidth": 2
          }
         }
        },
        "xaxis": {
         "anchor": "y",
         "domain": [
          0,
          1
         ],
         "title": {
          "text": "day"
         }
        },
        "yaxis": {
         "anchor": "x",
         "domain": [
          0,
          1
         ],
         "title": {
          "text": "tip"
         }
        }
       }
      }
     },
     "metadata": {},
     "output_type": "display_data"
    },
    {
     "data": {
      "application/vnd.plotly.v1+json": {
       "config": {
        "plotlyServerURL": "https://plot.ly"
       },
       "data": [
        {
         "alignmentgroup": "True",
         "bingroup": "x",
         "histfunc": "sum",
         "hovertemplate": "day=%{x}<br>sum of tip=%{y}<extra></extra>",
         "legendgroup": "",
         "marker": {
          "color": "#636efa",
          "pattern": {
           "shape": ""
          }
         },
         "name": "",
         "offsetgroup": "",
         "orientation": "v",
         "showlegend": false,
         "type": "histogram",
         "x": [
          "Sun",
          "Sun",
          "Sun",
          "Sun",
          "Sun",
          "Sun",
          "Sun",
          "Sun",
          "Sun",
          "Sun",
          "Sun",
          "Sun",
          "Sun",
          "Sun",
          "Sun",
          "Sun",
          "Sun",
          "Sun",
          "Sun",
          "Sat",
          "Sat",
          "Sat",
          "Sat",
          "Sat",
          "Sat",
          "Sat",
          "Sat",
          "Sat",
          "Sat",
          "Sat",
          "Sat",
          "Sat",
          "Sat",
          "Sat",
          "Sat",
          "Sat",
          "Sat",
          "Sat",
          "Sat",
          "Sat",
          "Sat",
          "Sun",
          "Sun",
          "Sun",
          "Sun",
          "Sun",
          "Sun",
          "Sun",
          "Sun",
          "Sun",
          "Sun",
          "Sun",
          "Sun",
          "Sun",
          "Sun",
          "Sun",
          "Sat",
          "Sat",
          "Sat",
          "Sat",
          "Sat",
          "Sat",
          "Sat",
          "Sat",
          "Sat",
          "Sat",
          "Sat",
          "Sat",
          "Sat",
          "Sat",
          "Sat",
          "Sat",
          "Sat",
          "Sat",
          "Sat",
          "Sat",
          "Sat",
          "Thur",
          "Thur",
          "Thur",
          "Thur",
          "Thur",
          "Thur",
          "Thur",
          "Thur",
          "Thur",
          "Thur",
          "Thur",
          "Thur",
          "Thur",
          "Fri",
          "Fri",
          "Fri",
          "Fri",
          "Fri",
          "Fri",
          "Fri",
          "Fri",
          "Fri",
          "Fri",
          "Fri",
          "Fri",
          "Sat",
          "Sat",
          "Sat",
          "Sat",
          "Sat",
          "Sat",
          "Sat",
          "Sat",
          "Sat",
          "Sat",
          "Sun",
          "Sun",
          "Sun",
          "Sun",
          "Sun",
          "Thur",
          "Thur",
          "Thur",
          "Thur",
          "Thur",
          "Thur",
          "Thur",
          "Thur",
          "Thur",
          "Thur",
          "Thur",
          "Thur",
          "Thur",
          "Thur",
          "Thur",
          "Thur",
          "Thur",
          "Thur",
          "Thur",
          "Thur",
          "Thur",
          "Thur",
          "Thur",
          "Thur",
          "Thur",
          "Thur",
          "Thur",
          "Thur",
          "Thur",
          "Thur",
          "Thur",
          "Thur",
          "Thur",
          "Sun",
          "Sun",
          "Sun",
          "Sun",
          "Sun",
          "Sun",
          "Sun",
          "Sun",
          "Sun",
          "Sun",
          "Sun",
          "Sun",
          "Sun",
          "Sun",
          "Sun",
          "Sun",
          "Sun",
          "Sun",
          "Sat",
          "Sat",
          "Sat",
          "Sat",
          "Sun",
          "Sun",
          "Sun",
          "Sun",
          "Sun",
          "Sun",
          "Sun",
          "Sun",
          "Sun",
          "Sun",
          "Sun",
          "Sun",
          "Sun",
          "Sun",
          "Sun",
          "Sun",
          "Sun",
          "Sun",
          "Sun",
          "Thur",
          "Thur",
          "Thur",
          "Thur",
          "Thur",
          "Thur",
          "Thur",
          "Thur",
          "Thur",
          "Thur",
          "Thur",
          "Thur",
          "Thur",
          "Thur",
          "Thur",
          "Sat",
          "Sat",
          "Sat",
          "Sat",
          "Sat",
          "Sat",
          "Sat",
          "Sat",
          "Sat",
          "Sat",
          "Sat",
          "Sat",
          "Sat",
          "Sat",
          "Fri",
          "Fri",
          "Fri",
          "Fri",
          "Fri",
          "Fri",
          "Fri",
          "Sat",
          "Sat",
          "Sat",
          "Sat",
          "Sat",
          "Sat",
          "Sat",
          "Sat",
          "Sat",
          "Sat",
          "Sat",
          "Sat",
          "Sat",
          "Sat",
          "Sat",
          "Sat",
          "Thur"
         ],
         "xaxis": "x",
         "y": [
          1.01,
          1.66,
          3.5,
          3.31,
          3.61,
          4.71,
          2,
          3.12,
          1.96,
          3.23,
          1.71,
          5,
          1.57,
          3,
          3.02,
          3.92,
          1.67,
          3.71,
          3.5,
          3.35,
          4.08,
          2.75,
          2.23,
          7.58,
          3.18,
          2.34,
          2,
          2,
          4.3,
          3,
          1.45,
          2.5,
          3,
          2.45,
          3.27,
          3.6,
          2,
          3.07,
          2.31,
          5,
          2.24,
          2.54,
          3.06,
          1.32,
          5.6,
          3,
          5,
          6,
          2.05,
          3,
          2.5,
          2.6,
          5.2,
          1.56,
          4.34,
          3.51,
          3,
          1.5,
          1.76,
          6.73,
          3.21,
          2,
          1.98,
          3.76,
          2.64,
          3.15,
          2.47,
          1,
          2.01,
          2.09,
          1.97,
          3,
          3.14,
          5,
          2.2,
          1.25,
          3.08,
          4,
          3,
          2.71,
          3,
          3.4,
          1.83,
          5,
          2.03,
          5.17,
          2,
          4,
          5.85,
          3,
          3,
          3.5,
          1,
          4.3,
          3.25,
          4.73,
          4,
          1.5,
          3,
          1.5,
          2.5,
          3,
          2.5,
          3.48,
          4.08,
          1.64,
          4.06,
          4.29,
          3.76,
          4,
          3,
          1,
          4,
          2.55,
          4,
          3.5,
          5.07,
          1.5,
          1.8,
          2.92,
          2.31,
          1.68,
          2.5,
          2,
          2.52,
          4.2,
          1.48,
          2,
          2,
          2.18,
          1.5,
          2.83,
          1.5,
          2,
          3.25,
          1.25,
          2,
          2,
          2,
          2.75,
          3.5,
          6.7,
          5,
          5,
          2.3,
          1.5,
          1.36,
          1.63,
          1.73,
          2,
          2.5,
          2,
          2.74,
          2,
          2,
          5.14,
          5,
          3.75,
          2.61,
          2,
          3.5,
          2.5,
          2,
          2,
          3,
          3.48,
          2.24,
          4.5,
          1.61,
          2,
          10,
          3.16,
          5.15,
          3.18,
          4,
          3.11,
          2,
          2,
          4,
          3.55,
          3.68,
          5.65,
          3.5,
          6.5,
          3,
          5,
          3.5,
          2,
          3.5,
          4,
          1.5,
          4.19,
          2.56,
          2.02,
          4,
          1.44,
          2,
          5,
          2,
          2,
          4,
          2.01,
          2,
          2.5,
          4,
          3.23,
          3.41,
          3,
          2.03,
          2.23,
          2,
          5.16,
          9,
          2.5,
          6.5,
          1.1,
          3,
          1.5,
          1.44,
          3.09,
          2.2,
          3.48,
          1.92,
          3,
          1.58,
          2.5,
          2,
          3,
          2.72,
          2.88,
          2,
          3,
          3.39,
          1.47,
          3,
          1.25,
          1,
          1.17,
          4.67,
          5.92,
          2,
          2,
          1.75,
          3
         ],
         "yaxis": "y"
        }
       ],
       "layout": {
        "barmode": "relative",
        "height": 300,
        "legend": {
         "tracegroupgap": 0
        },
        "margin": {
         "t": 60
        },
        "template": {
         "data": {
          "bar": [
           {
            "error_x": {
             "color": "#2a3f5f"
            },
            "error_y": {
             "color": "#2a3f5f"
            },
            "marker": {
             "line": {
              "color": "#E5ECF6",
              "width": 0.5
             },
             "pattern": {
              "fillmode": "overlay",
              "size": 10,
              "solidity": 0.2
             }
            },
            "type": "bar"
           }
          ],
          "barpolar": [
           {
            "marker": {
             "line": {
              "color": "#E5ECF6",
              "width": 0.5
             },
             "pattern": {
              "fillmode": "overlay",
              "size": 10,
              "solidity": 0.2
             }
            },
            "type": "barpolar"
           }
          ],
          "carpet": [
           {
            "aaxis": {
             "endlinecolor": "#2a3f5f",
             "gridcolor": "white",
             "linecolor": "white",
             "minorgridcolor": "white",
             "startlinecolor": "#2a3f5f"
            },
            "baxis": {
             "endlinecolor": "#2a3f5f",
             "gridcolor": "white",
             "linecolor": "white",
             "minorgridcolor": "white",
             "startlinecolor": "#2a3f5f"
            },
            "type": "carpet"
           }
          ],
          "choropleth": [
           {
            "colorbar": {
             "outlinewidth": 0,
             "ticks": ""
            },
            "type": "choropleth"
           }
          ],
          "contour": [
           {
            "colorbar": {
             "outlinewidth": 0,
             "ticks": ""
            },
            "colorscale": [
             [
              0,
              "#0d0887"
             ],
             [
              0.1111111111111111,
              "#46039f"
             ],
             [
              0.2222222222222222,
              "#7201a8"
             ],
             [
              0.3333333333333333,
              "#9c179e"
             ],
             [
              0.4444444444444444,
              "#bd3786"
             ],
             [
              0.5555555555555556,
              "#d8576b"
             ],
             [
              0.6666666666666666,
              "#ed7953"
             ],
             [
              0.7777777777777778,
              "#fb9f3a"
             ],
             [
              0.8888888888888888,
              "#fdca26"
             ],
             [
              1,
              "#f0f921"
             ]
            ],
            "type": "contour"
           }
          ],
          "contourcarpet": [
           {
            "colorbar": {
             "outlinewidth": 0,
             "ticks": ""
            },
            "type": "contourcarpet"
           }
          ],
          "heatmap": [
           {
            "colorbar": {
             "outlinewidth": 0,
             "ticks": ""
            },
            "colorscale": [
             [
              0,
              "#0d0887"
             ],
             [
              0.1111111111111111,
              "#46039f"
             ],
             [
              0.2222222222222222,
              "#7201a8"
             ],
             [
              0.3333333333333333,
              "#9c179e"
             ],
             [
              0.4444444444444444,
              "#bd3786"
             ],
             [
              0.5555555555555556,
              "#d8576b"
             ],
             [
              0.6666666666666666,
              "#ed7953"
             ],
             [
              0.7777777777777778,
              "#fb9f3a"
             ],
             [
              0.8888888888888888,
              "#fdca26"
             ],
             [
              1,
              "#f0f921"
             ]
            ],
            "type": "heatmap"
           }
          ],
          "heatmapgl": [
           {
            "colorbar": {
             "outlinewidth": 0,
             "ticks": ""
            },
            "colorscale": [
             [
              0,
              "#0d0887"
             ],
             [
              0.1111111111111111,
              "#46039f"
             ],
             [
              0.2222222222222222,
              "#7201a8"
             ],
             [
              0.3333333333333333,
              "#9c179e"
             ],
             [
              0.4444444444444444,
              "#bd3786"
             ],
             [
              0.5555555555555556,
              "#d8576b"
             ],
             [
              0.6666666666666666,
              "#ed7953"
             ],
             [
              0.7777777777777778,
              "#fb9f3a"
             ],
             [
              0.8888888888888888,
              "#fdca26"
             ],
             [
              1,
              "#f0f921"
             ]
            ],
            "type": "heatmapgl"
           }
          ],
          "histogram": [
           {
            "marker": {
             "pattern": {
              "fillmode": "overlay",
              "size": 10,
              "solidity": 0.2
             }
            },
            "type": "histogram"
           }
          ],
          "histogram2d": [
           {
            "colorbar": {
             "outlinewidth": 0,
             "ticks": ""
            },
            "colorscale": [
             [
              0,
              "#0d0887"
             ],
             [
              0.1111111111111111,
              "#46039f"
             ],
             [
              0.2222222222222222,
              "#7201a8"
             ],
             [
              0.3333333333333333,
              "#9c179e"
             ],
             [
              0.4444444444444444,
              "#bd3786"
             ],
             [
              0.5555555555555556,
              "#d8576b"
             ],
             [
              0.6666666666666666,
              "#ed7953"
             ],
             [
              0.7777777777777778,
              "#fb9f3a"
             ],
             [
              0.8888888888888888,
              "#fdca26"
             ],
             [
              1,
              "#f0f921"
             ]
            ],
            "type": "histogram2d"
           }
          ],
          "histogram2dcontour": [
           {
            "colorbar": {
             "outlinewidth": 0,
             "ticks": ""
            },
            "colorscale": [
             [
              0,
              "#0d0887"
             ],
             [
              0.1111111111111111,
              "#46039f"
             ],
             [
              0.2222222222222222,
              "#7201a8"
             ],
             [
              0.3333333333333333,
              "#9c179e"
             ],
             [
              0.4444444444444444,
              "#bd3786"
             ],
             [
              0.5555555555555556,
              "#d8576b"
             ],
             [
              0.6666666666666666,
              "#ed7953"
             ],
             [
              0.7777777777777778,
              "#fb9f3a"
             ],
             [
              0.8888888888888888,
              "#fdca26"
             ],
             [
              1,
              "#f0f921"
             ]
            ],
            "type": "histogram2dcontour"
           }
          ],
          "mesh3d": [
           {
            "colorbar": {
             "outlinewidth": 0,
             "ticks": ""
            },
            "type": "mesh3d"
           }
          ],
          "parcoords": [
           {
            "line": {
             "colorbar": {
              "outlinewidth": 0,
              "ticks": ""
             }
            },
            "type": "parcoords"
           }
          ],
          "pie": [
           {
            "automargin": true,
            "type": "pie"
           }
          ],
          "scatter": [
           {
            "fillpattern": {
             "fillmode": "overlay",
             "size": 10,
             "solidity": 0.2
            },
            "type": "scatter"
           }
          ],
          "scatter3d": [
           {
            "line": {
             "colorbar": {
              "outlinewidth": 0,
              "ticks": ""
             }
            },
            "marker": {
             "colorbar": {
              "outlinewidth": 0,
              "ticks": ""
             }
            },
            "type": "scatter3d"
           }
          ],
          "scattercarpet": [
           {
            "marker": {
             "colorbar": {
              "outlinewidth": 0,
              "ticks": ""
             }
            },
            "type": "scattercarpet"
           }
          ],
          "scattergeo": [
           {
            "marker": {
             "colorbar": {
              "outlinewidth": 0,
              "ticks": ""
             }
            },
            "type": "scattergeo"
           }
          ],
          "scattergl": [
           {
            "marker": {
             "colorbar": {
              "outlinewidth": 0,
              "ticks": ""
             }
            },
            "type": "scattergl"
           }
          ],
          "scattermapbox": [
           {
            "marker": {
             "colorbar": {
              "outlinewidth": 0,
              "ticks": ""
             }
            },
            "type": "scattermapbox"
           }
          ],
          "scatterpolar": [
           {
            "marker": {
             "colorbar": {
              "outlinewidth": 0,
              "ticks": ""
             }
            },
            "type": "scatterpolar"
           }
          ],
          "scatterpolargl": [
           {
            "marker": {
             "colorbar": {
              "outlinewidth": 0,
              "ticks": ""
             }
            },
            "type": "scatterpolargl"
           }
          ],
          "scatterternary": [
           {
            "marker": {
             "colorbar": {
              "outlinewidth": 0,
              "ticks": ""
             }
            },
            "type": "scatterternary"
           }
          ],
          "surface": [
           {
            "colorbar": {
             "outlinewidth": 0,
             "ticks": ""
            },
            "colorscale": [
             [
              0,
              "#0d0887"
             ],
             [
              0.1111111111111111,
              "#46039f"
             ],
             [
              0.2222222222222222,
              "#7201a8"
             ],
             [
              0.3333333333333333,
              "#9c179e"
             ],
             [
              0.4444444444444444,
              "#bd3786"
             ],
             [
              0.5555555555555556,
              "#d8576b"
             ],
             [
              0.6666666666666666,
              "#ed7953"
             ],
             [
              0.7777777777777778,
              "#fb9f3a"
             ],
             [
              0.8888888888888888,
              "#fdca26"
             ],
             [
              1,
              "#f0f921"
             ]
            ],
            "type": "surface"
           }
          ],
          "table": [
           {
            "cells": {
             "fill": {
              "color": "#EBF0F8"
             },
             "line": {
              "color": "white"
             }
            },
            "header": {
             "fill": {
              "color": "#C8D4E3"
             },
             "line": {
              "color": "white"
             }
            },
            "type": "table"
           }
          ]
         },
         "layout": {
          "annotationdefaults": {
           "arrowcolor": "#2a3f5f",
           "arrowhead": 0,
           "arrowwidth": 1
          },
          "autotypenumbers": "strict",
          "coloraxis": {
           "colorbar": {
            "outlinewidth": 0,
            "ticks": ""
           }
          },
          "colorscale": {
           "diverging": [
            [
             0,
             "#8e0152"
            ],
            [
             0.1,
             "#c51b7d"
            ],
            [
             0.2,
             "#de77ae"
            ],
            [
             0.3,
             "#f1b6da"
            ],
            [
             0.4,
             "#fde0ef"
            ],
            [
             0.5,
             "#f7f7f7"
            ],
            [
             0.6,
             "#e6f5d0"
            ],
            [
             0.7,
             "#b8e186"
            ],
            [
             0.8,
             "#7fbc41"
            ],
            [
             0.9,
             "#4d9221"
            ],
            [
             1,
             "#276419"
            ]
           ],
           "sequential": [
            [
             0,
             "#0d0887"
            ],
            [
             0.1111111111111111,
             "#46039f"
            ],
            [
             0.2222222222222222,
             "#7201a8"
            ],
            [
             0.3333333333333333,
             "#9c179e"
            ],
            [
             0.4444444444444444,
             "#bd3786"
            ],
            [
             0.5555555555555556,
             "#d8576b"
            ],
            [
             0.6666666666666666,
             "#ed7953"
            ],
            [
             0.7777777777777778,
             "#fb9f3a"
            ],
            [
             0.8888888888888888,
             "#fdca26"
            ],
            [
             1,
             "#f0f921"
            ]
           ],
           "sequentialminus": [
            [
             0,
             "#0d0887"
            ],
            [
             0.1111111111111111,
             "#46039f"
            ],
            [
             0.2222222222222222,
             "#7201a8"
            ],
            [
             0.3333333333333333,
             "#9c179e"
            ],
            [
             0.4444444444444444,
             "#bd3786"
            ],
            [
             0.5555555555555556,
             "#d8576b"
            ],
            [
             0.6666666666666666,
             "#ed7953"
            ],
            [
             0.7777777777777778,
             "#fb9f3a"
            ],
            [
             0.8888888888888888,
             "#fdca26"
            ],
            [
             1,
             "#f0f921"
            ]
           ]
          },
          "colorway": [
           "#636efa",
           "#EF553B",
           "#00cc96",
           "#ab63fa",
           "#FFA15A",
           "#19d3f3",
           "#FF6692",
           "#B6E880",
           "#FF97FF",
           "#FECB52"
          ],
          "font": {
           "color": "#2a3f5f"
          },
          "geo": {
           "bgcolor": "white",
           "lakecolor": "white",
           "landcolor": "#E5ECF6",
           "showlakes": true,
           "showland": true,
           "subunitcolor": "white"
          },
          "hoverlabel": {
           "align": "left"
          },
          "hovermode": "closest",
          "mapbox": {
           "style": "light"
          },
          "paper_bgcolor": "white",
          "plot_bgcolor": "#E5ECF6",
          "polar": {
           "angularaxis": {
            "gridcolor": "white",
            "linecolor": "white",
            "ticks": ""
           },
           "bgcolor": "#E5ECF6",
           "radialaxis": {
            "gridcolor": "white",
            "linecolor": "white",
            "ticks": ""
           }
          },
          "scene": {
           "xaxis": {
            "backgroundcolor": "#E5ECF6",
            "gridcolor": "white",
            "gridwidth": 2,
            "linecolor": "white",
            "showbackground": true,
            "ticks": "",
            "zerolinecolor": "white"
           },
           "yaxis": {
            "backgroundcolor": "#E5ECF6",
            "gridcolor": "white",
            "gridwidth": 2,
            "linecolor": "white",
            "showbackground": true,
            "ticks": "",
            "zerolinecolor": "white"
           },
           "zaxis": {
            "backgroundcolor": "#E5ECF6",
            "gridcolor": "white",
            "gridwidth": 2,
            "linecolor": "white",
            "showbackground": true,
            "ticks": "",
            "zerolinecolor": "white"
           }
          },
          "shapedefaults": {
           "line": {
            "color": "#2a3f5f"
           }
          },
          "ternary": {
           "aaxis": {
            "gridcolor": "white",
            "linecolor": "white",
            "ticks": ""
           },
           "baxis": {
            "gridcolor": "white",
            "linecolor": "white",
            "ticks": ""
           },
           "bgcolor": "#E5ECF6",
           "caxis": {
            "gridcolor": "white",
            "linecolor": "white",
            "ticks": ""
           }
          },
          "title": {
           "x": 0.05
          },
          "xaxis": {
           "automargin": true,
           "gridcolor": "white",
           "linecolor": "white",
           "ticks": "",
           "title": {
            "standoff": 15
           },
           "zerolinecolor": "white",
           "zerolinewidth": 2
          },
          "yaxis": {
           "automargin": true,
           "gridcolor": "white",
           "linecolor": "white",
           "ticks": "",
           "title": {
            "standoff": 15
           },
           "zerolinecolor": "white",
           "zerolinewidth": 2
          }
         }
        },
        "xaxis": {
         "anchor": "y",
         "domain": [
          0,
          1
         ],
         "title": {
          "text": "day"
         }
        },
        "yaxis": {
         "anchor": "x",
         "domain": [
          0,
          1
         ],
         "title": {
          "text": "sum of tip"
         }
        }
       }
      }
     },
     "metadata": {},
     "output_type": "display_data"
    }
   ],
   "source": [
    "fig1= px.bar(tips,x='day',y='tip',height=300)\n",
    "fig1.show()\n",
    "fig2= px.histogram(tips,x='day',y='tip',histfunc='sum',height=300)\n",
    "fig2.show()"
   ]
  },
  {
   "cell_type": "code",
   "execution_count": null,
   "metadata": {},
   "outputs": [],
   "source": []
  }
 ],
 "metadata": {
  "kernelspec": {
   "display_name": "pytorch_cuda_11_8",
   "language": "python",
   "name": "python3"
  },
  "language_info": {
   "codemirror_mode": {
    "name": "ipython",
    "version": 3
   },
   "file_extension": ".py",
   "mimetype": "text/x-python",
   "name": "python",
   "nbconvert_exporter": "python",
   "pygments_lexer": "ipython3",
   "version": "3.9.18"
  }
 },
 "nbformat": 4,
 "nbformat_minor": 2
}
