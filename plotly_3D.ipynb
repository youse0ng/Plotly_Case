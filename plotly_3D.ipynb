{
 "cells": [
  {
   "cell_type": "markdown",
   "metadata": {},
   "source": [
    "# 3D 차트 (3D Charts)"
   ]
  },
  {
   "cell_type": "code",
   "execution_count": 1,
   "metadata": {},
   "outputs": [],
   "source": [
    "import numpy as np\n",
    "import pandas as pd\n",
    "import json\n",
    "from urllib.request import urlopen\n",
    "import plotly.io as pio\n",
    "import plotly.express as px # 빠르게 시각화 차트 그리기\n",
    "import plotly.graph_objects as go # 자세하게 설정을 해서 차트그릴때\n",
    "import plotly.figure_factory as ff\n",
    "from plotly.subplots import make_subplots # 서브플롯 그릴때\n",
    "from plotly.validators.scatter.marker import SymbolValidator # 마커 그릴 때 "
   ]
  },
  {
   "cell_type": "code",
   "execution_count": 2,
   "metadata": {},
   "outputs": [],
   "source": [
    "gapminder = px.data.gapminder()\n",
    "tips = px.data.tips()\n",
    "iris = px.data.iris()"
   ]
  },
  {
   "cell_type": "code",
   "execution_count": 4,
   "metadata": {},
   "outputs": [],
   "source": [
    "gapminder_asia = gapminder.query('continent==\"Asia\"')"
   ]
  },
  {
   "cell_type": "code",
   "execution_count": 5,
   "metadata": {},
   "outputs": [
    {
     "data": {
      "application/vnd.plotly.v1+json": {
       "config": {
        "plotlyServerURL": "https://plot.ly"
       },
       "data": [
        {
         "hovertemplate": "country=Afghanistan<br>gdpPercap=%{x}<br>pop=%{y}<br>year=%{z}<extra></extra>",
         "legendgroup": "Afghanistan",
         "line": {
          "color": "#636efa",
          "dash": "solid"
         },
         "marker": {
          "symbol": "circle"
         },
         "mode": "lines",
         "name": "Afghanistan",
         "scene": "scene",
         "showlegend": true,
         "type": "scatter3d",
         "x": [
          779.4453145,
          820.8530296,
          853.1007099999998,
          836.1971382,
          739.9811057999998,
          786.11336,
          978.0114388,
          852.3959447999998,
          649.3413952000002,
          635.341351,
          726.7340548,
          974.5803384
         ],
         "y": [
          8425333,
          9240934,
          10267083,
          11537966,
          13079460,
          14880372,
          12881816,
          13867957,
          16317921,
          22227415,
          25268405,
          31889923
         ],
         "z": [
          1952,
          1957,
          1962,
          1967,
          1972,
          1977,
          1982,
          1987,
          1992,
          1997,
          2002,
          2007
         ]
        },
        {
         "hovertemplate": "country=Bahrain<br>gdpPercap=%{x}<br>pop=%{y}<br>year=%{z}<extra></extra>",
         "legendgroup": "Bahrain",
         "line": {
          "color": "#EF553B",
          "dash": "solid"
         },
         "marker": {
          "symbol": "circle"
         },
         "mode": "lines",
         "name": "Bahrain",
         "scene": "scene",
         "showlegend": true,
         "type": "scatter3d",
         "x": [
          9867.084765,
          11635.79945,
          12753.27514,
          14804.6727,
          18268.65839,
          19340.10196,
          19211.14731,
          18524.02406,
          19035.57917,
          20292.01679,
          23403.55927,
          29796.04834
         ],
         "y": [
          120447,
          138655,
          171863,
          202182,
          230800,
          297410,
          377967,
          454612,
          529491,
          598561,
          656397,
          708573
         ],
         "z": [
          1952,
          1957,
          1962,
          1967,
          1972,
          1977,
          1982,
          1987,
          1992,
          1997,
          2002,
          2007
         ]
        },
        {
         "hovertemplate": "country=Bangladesh<br>gdpPercap=%{x}<br>pop=%{y}<br>year=%{z}<extra></extra>",
         "legendgroup": "Bangladesh",
         "line": {
          "color": "#00cc96",
          "dash": "solid"
         },
         "marker": {
          "symbol": "circle"
         },
         "mode": "lines",
         "name": "Bangladesh",
         "scene": "scene",
         "showlegend": true,
         "type": "scatter3d",
         "x": [
          684.2441716,
          661.6374577,
          686.3415537999998,
          721.1860862000002,
          630.2336265,
          659.8772322000002,
          676.9818656,
          751.9794035,
          837.8101642999999,
          972.7700352,
          1136.3904300000004,
          1391.253792
         ],
         "y": [
          46886859,
          51365468,
          56839289,
          62821884,
          70759295,
          80428306,
          93074406,
          103764241,
          113704579,
          123315288,
          135656790,
          150448339
         ],
         "z": [
          1952,
          1957,
          1962,
          1967,
          1972,
          1977,
          1982,
          1987,
          1992,
          1997,
          2002,
          2007
         ]
        },
        {
         "hovertemplate": "country=Cambodia<br>gdpPercap=%{x}<br>pop=%{y}<br>year=%{z}<extra></extra>",
         "legendgroup": "Cambodia",
         "line": {
          "color": "#ab63fa",
          "dash": "solid"
         },
         "marker": {
          "symbol": "circle"
         },
         "mode": "lines",
         "name": "Cambodia",
         "scene": "scene",
         "showlegend": true,
         "type": "scatter3d",
         "x": [
          368.4692856,
          434.0383364,
          496.9136476,
          523.4323142,
          421.6240257,
          524.9721831999999,
          624.4754784,
          683.8955732000002,
          682.3031755,
          734.28517,
          896.2260152999999,
          1713.778686
         ],
         "y": [
          4693836,
          5322536,
          6083619,
          6960067,
          7450606,
          6978607,
          7272485,
          8371791,
          10150094,
          11782962,
          12926707,
          14131858
         ],
         "z": [
          1952,
          1957,
          1962,
          1967,
          1972,
          1977,
          1982,
          1987,
          1992,
          1997,
          2002,
          2007
         ]
        },
        {
         "hovertemplate": "country=China<br>gdpPercap=%{x}<br>pop=%{y}<br>year=%{z}<extra></extra>",
         "legendgroup": "China",
         "line": {
          "color": "#FFA15A",
          "dash": "solid"
         },
         "marker": {
          "symbol": "circle"
         },
         "mode": "lines",
         "name": "China",
         "scene": "scene",
         "showlegend": true,
         "type": "scatter3d",
         "x": [
          400.448611,
          575.9870009,
          487.6740183,
          612.7056934,
          676.9000921,
          741.2374699,
          962.4213805,
          1378.904018,
          1655.784158,
          2289.234136,
          3119.280896,
          4959.114854
         ],
         "y": [
          556263527,
          637408000,
          665770000,
          754550000,
          862030000,
          943455000,
          1000281000,
          1084035000,
          1164970000,
          1230075000,
          1280400000,
          1318683096
         ],
         "z": [
          1952,
          1957,
          1962,
          1967,
          1972,
          1977,
          1982,
          1987,
          1992,
          1997,
          2002,
          2007
         ]
        },
        {
         "hovertemplate": "country=Hong Kong, China<br>gdpPercap=%{x}<br>pop=%{y}<br>year=%{z}<extra></extra>",
         "legendgroup": "Hong Kong, China",
         "line": {
          "color": "#19d3f3",
          "dash": "solid"
         },
         "marker": {
          "symbol": "circle"
         },
         "mode": "lines",
         "name": "Hong Kong, China",
         "scene": "scene",
         "showlegend": true,
         "type": "scatter3d",
         "x": [
          3054.421209,
          3629.076457,
          4692.648271999999,
          6197.962814,
          8315.928145,
          11186.14125,
          14560.53051,
          20038.47269,
          24757.60301,
          28377.63219,
          30209.015160000006,
          39724.97867
         ],
         "y": [
          2125900,
          2736300,
          3305200,
          3722800,
          4115700,
          4583700,
          5264500,
          5584510,
          5829696,
          6495918,
          6762476,
          6980412
         ],
         "z": [
          1952,
          1957,
          1962,
          1967,
          1972,
          1977,
          1982,
          1987,
          1992,
          1997,
          2002,
          2007
         ]
        },
        {
         "hovertemplate": "country=India<br>gdpPercap=%{x}<br>pop=%{y}<br>year=%{z}<extra></extra>",
         "legendgroup": "India",
         "line": {
          "color": "#FF6692",
          "dash": "solid"
         },
         "marker": {
          "symbol": "circle"
         },
         "mode": "lines",
         "name": "India",
         "scene": "scene",
         "showlegend": true,
         "type": "scatter3d",
         "x": [
          546.5657493,
          590.061996,
          658.3471509,
          700.7706107000001,
          724.032527,
          813.3373230000002,
          855.7235377000002,
          976.5126756,
          1164.406809,
          1458.817442,
          1746.769454,
          2452.210407
         ],
         "y": [
          372000000,
          409000000,
          454000000,
          506000000,
          567000000,
          634000000,
          708000000,
          788000000,
          872000000,
          959000000,
          1034172547,
          1110396331
         ],
         "z": [
          1952,
          1957,
          1962,
          1967,
          1972,
          1977,
          1982,
          1987,
          1992,
          1997,
          2002,
          2007
         ]
        },
        {
         "hovertemplate": "country=Indonesia<br>gdpPercap=%{x}<br>pop=%{y}<br>year=%{z}<extra></extra>",
         "legendgroup": "Indonesia",
         "line": {
          "color": "#B6E880",
          "dash": "solid"
         },
         "marker": {
          "symbol": "circle"
         },
         "mode": "lines",
         "name": "Indonesia",
         "scene": "scene",
         "showlegend": true,
         "type": "scatter3d",
         "x": [
          749.6816546,
          858.9002707000002,
          849.2897700999998,
          762.4317721,
          1111.107907,
          1382.702056,
          1516.872988,
          1748.356961,
          2383.140898,
          3119.335603,
          2873.91287,
          3540.651564
         ],
         "y": [
          82052000,
          90124000,
          99028000,
          109343000,
          121282000,
          136725000,
          153343000,
          169276000,
          184816000,
          199278000,
          211060000,
          223547000
         ],
         "z": [
          1952,
          1957,
          1962,
          1967,
          1972,
          1977,
          1982,
          1987,
          1992,
          1997,
          2002,
          2007
         ]
        },
        {
         "hovertemplate": "country=Iran<br>gdpPercap=%{x}<br>pop=%{y}<br>year=%{z}<extra></extra>",
         "legendgroup": "Iran",
         "line": {
          "color": "#FF97FF",
          "dash": "solid"
         },
         "marker": {
          "symbol": "circle"
         },
         "mode": "lines",
         "name": "Iran",
         "scene": "scene",
         "showlegend": true,
         "type": "scatter3d",
         "x": [
          3035.326002,
          3290.257643,
          4187.329802,
          5906.731804999999,
          9613.818607,
          11888.59508,
          7608.334602,
          6642.881371,
          7235.653187999998,
          8263.590301,
          9240.761975,
          11605.71449
         ],
         "y": [
          17272000,
          19792000,
          22874000,
          26538000,
          30614000,
          35480679,
          43072751,
          51889696,
          60397973,
          63327987,
          66907826,
          69453570
         ],
         "z": [
          1952,
          1957,
          1962,
          1967,
          1972,
          1977,
          1982,
          1987,
          1992,
          1997,
          2002,
          2007
         ]
        },
        {
         "hovertemplate": "country=Iraq<br>gdpPercap=%{x}<br>pop=%{y}<br>year=%{z}<extra></extra>",
         "legendgroup": "Iraq",
         "line": {
          "color": "#FECB52",
          "dash": "solid"
         },
         "marker": {
          "symbol": "circle"
         },
         "mode": "lines",
         "name": "Iraq",
         "scene": "scene",
         "showlegend": true,
         "type": "scatter3d",
         "x": [
          4129.766056,
          6229.333562,
          8341.737815,
          8931.459811,
          9576.037596,
          14688.23507,
          14517.90711,
          11643.57268,
          3745.640687,
          3076.239795,
          4390.717312,
          4471.061906
         ],
         "y": [
          5441766,
          6248643,
          7240260,
          8519282,
          10061506,
          11882916,
          14173318,
          16543189,
          17861905,
          20775703,
          24001816,
          27499638
         ],
         "z": [
          1952,
          1957,
          1962,
          1967,
          1972,
          1977,
          1982,
          1987,
          1992,
          1997,
          2002,
          2007
         ]
        },
        {
         "hovertemplate": "country=Israel<br>gdpPercap=%{x}<br>pop=%{y}<br>year=%{z}<extra></extra>",
         "legendgroup": "Israel",
         "line": {
          "color": "#636efa",
          "dash": "solid"
         },
         "marker": {
          "symbol": "circle"
         },
         "mode": "lines",
         "name": "Israel",
         "scene": "scene",
         "showlegend": true,
         "type": "scatter3d",
         "x": [
          4086.522128,
          5385.278451,
          7105.630706,
          8393.741404,
          12786.93223,
          13306.61921,
          15367.0292,
          17122.47986,
          18051.52254,
          20896.60924,
          21905.59514,
          25523.2771
         ],
         "y": [
          1620914,
          1944401,
          2310904,
          2693585,
          3095893,
          3495918,
          3858421,
          4203148,
          4936550,
          5531387,
          6029529,
          6426679
         ],
         "z": [
          1952,
          1957,
          1962,
          1967,
          1972,
          1977,
          1982,
          1987,
          1992,
          1997,
          2002,
          2007
         ]
        },
        {
         "hovertemplate": "country=Japan<br>gdpPercap=%{x}<br>pop=%{y}<br>year=%{z}<extra></extra>",
         "legendgroup": "Japan",
         "line": {
          "color": "#EF553B",
          "dash": "solid"
         },
         "marker": {
          "symbol": "circle"
         },
         "mode": "lines",
         "name": "Japan",
         "scene": "scene",
         "showlegend": true,
         "type": "scatter3d",
         "x": [
          3216.956347,
          4317.694365,
          6576.649461,
          9847.788607,
          14778.78636,
          16610.37701,
          19384.10571,
          22375.94189,
          26824.89511,
          28816.58499,
          28604.5919,
          31656.06806
         ],
         "y": [
          86459025,
          91563009,
          95831757,
          100825279,
          107188273,
          113872473,
          118454974,
          122091325,
          124329269,
          125956499,
          127065841,
          127467972
         ],
         "z": [
          1952,
          1957,
          1962,
          1967,
          1972,
          1977,
          1982,
          1987,
          1992,
          1997,
          2002,
          2007
         ]
        },
        {
         "hovertemplate": "country=Jordan<br>gdpPercap=%{x}<br>pop=%{y}<br>year=%{z}<extra></extra>",
         "legendgroup": "Jordan",
         "line": {
          "color": "#00cc96",
          "dash": "solid"
         },
         "marker": {
          "symbol": "circle"
         },
         "mode": "lines",
         "name": "Jordan",
         "scene": "scene",
         "showlegend": true,
         "type": "scatter3d",
         "x": [
          1546.907807,
          1886.080591,
          2348.009158,
          2741.796252,
          2110.856309,
          2852.351568,
          4161.415959,
          4448.679912,
          3431.593647,
          3645.379572,
          3844.917194,
          4519.461171
         ],
         "y": [
          607914,
          746559,
          933559,
          1255058,
          1613551,
          1937652,
          2347031,
          2820042,
          3867409,
          4526235,
          5307470,
          6053193
         ],
         "z": [
          1952,
          1957,
          1962,
          1967,
          1972,
          1977,
          1982,
          1987,
          1992,
          1997,
          2002,
          2007
         ]
        },
        {
         "hovertemplate": "country=Korea, Dem. Rep.<br>gdpPercap=%{x}<br>pop=%{y}<br>year=%{z}<extra></extra>",
         "legendgroup": "Korea, Dem. Rep.",
         "line": {
          "color": "#ab63fa",
          "dash": "solid"
         },
         "marker": {
          "symbol": "circle"
         },
         "mode": "lines",
         "name": "Korea, Dem. Rep.",
         "scene": "scene",
         "showlegend": true,
         "type": "scatter3d",
         "x": [
          1088.277758,
          1571.134655,
          1621.693598,
          2143.540609,
          3701.621503,
          4106.301249,
          4106.525293,
          4106.492315,
          3726.063507,
          1690.756814,
          1646.758151,
          1593.06548
         ],
         "y": [
          8865488,
          9411381,
          10917494,
          12617009,
          14781241,
          16325320,
          17647518,
          19067554,
          20711375,
          21585105,
          22215365,
          23301725
         ],
         "z": [
          1952,
          1957,
          1962,
          1967,
          1972,
          1977,
          1982,
          1987,
          1992,
          1997,
          2002,
          2007
         ]
        },
        {
         "hovertemplate": "country=Korea, Rep.<br>gdpPercap=%{x}<br>pop=%{y}<br>year=%{z}<extra></extra>",
         "legendgroup": "Korea, Rep.",
         "line": {
          "color": "#FFA15A",
          "dash": "solid"
         },
         "marker": {
          "symbol": "circle"
         },
         "mode": "lines",
         "name": "Korea, Rep.",
         "scene": "scene",
         "showlegend": true,
         "type": "scatter3d",
         "x": [
          1030.592226,
          1487.593537,
          1536.344387,
          2029.228142,
          3030.87665,
          4657.22102,
          5622.942464,
          8533.088805,
          12104.27872,
          15993.52796,
          19233.98818,
          23348.139730000006
         ],
         "y": [
          20947571,
          22611552,
          26420307,
          30131000,
          33505000,
          36436000,
          39326000,
          41622000,
          43805450,
          46173816,
          47969150,
          49044790
         ],
         "z": [
          1952,
          1957,
          1962,
          1967,
          1972,
          1977,
          1982,
          1987,
          1992,
          1997,
          2002,
          2007
         ]
        },
        {
         "hovertemplate": "country=Kuwait<br>gdpPercap=%{x}<br>pop=%{y}<br>year=%{z}<extra></extra>",
         "legendgroup": "Kuwait",
         "line": {
          "color": "#19d3f3",
          "dash": "solid"
         },
         "marker": {
          "symbol": "circle"
         },
         "mode": "lines",
         "name": "Kuwait",
         "scene": "scene",
         "showlegend": true,
         "type": "scatter3d",
         "x": [
          108382.3529,
          113523.1329,
          95458.11176,
          80894.88326,
          109347.867,
          59265.47714,
          31354.03573,
          28118.42998,
          34932.91959,
          40300.61996,
          35110.10566,
          47306.98978
         ],
         "y": [
          160000,
          212846,
          358266,
          575003,
          841934,
          1140357,
          1497494,
          1891487,
          1418095,
          1765345,
          2111561,
          2505559
         ],
         "z": [
          1952,
          1957,
          1962,
          1967,
          1972,
          1977,
          1982,
          1987,
          1992,
          1997,
          2002,
          2007
         ]
        },
        {
         "hovertemplate": "country=Lebanon<br>gdpPercap=%{x}<br>pop=%{y}<br>year=%{z}<extra></extra>",
         "legendgroup": "Lebanon",
         "line": {
          "color": "#FF6692",
          "dash": "solid"
         },
         "marker": {
          "symbol": "circle"
         },
         "mode": "lines",
         "name": "Lebanon",
         "scene": "scene",
         "showlegend": true,
         "type": "scatter3d",
         "x": [
          4834.804067,
          6089.786934000002,
          5714.560611,
          6006.983042,
          7486.384341,
          8659.696836,
          7640.519520999998,
          5377.091329,
          6890.806854,
          8754.96385,
          9313.93883,
          10461.05868
         ],
         "y": [
          1439529,
          1647412,
          1886848,
          2186894,
          2680018,
          3115787,
          3086876,
          3089353,
          3219994,
          3430388,
          3677780,
          3921278
         ],
         "z": [
          1952,
          1957,
          1962,
          1967,
          1972,
          1977,
          1982,
          1987,
          1992,
          1997,
          2002,
          2007
         ]
        },
        {
         "hovertemplate": "country=Malaysia<br>gdpPercap=%{x}<br>pop=%{y}<br>year=%{z}<extra></extra>",
         "legendgroup": "Malaysia",
         "line": {
          "color": "#B6E880",
          "dash": "solid"
         },
         "marker": {
          "symbol": "circle"
         },
         "mode": "lines",
         "name": "Malaysia",
         "scene": "scene",
         "showlegend": true,
         "type": "scatter3d",
         "x": [
          1831.132894,
          1810.0669920000007,
          2036.884944,
          2277.742396,
          2849.09478,
          3827.921571,
          4920.355951,
          5249.802653,
          7277.912802,
          10132.90964,
          10206.97794,
          12451.6558
         ],
         "y": [
          6748378,
          7739235,
          8906385,
          10154878,
          11441462,
          12845381,
          14441916,
          16331785,
          18319502,
          20476091,
          22662365,
          24821286
         ],
         "z": [
          1952,
          1957,
          1962,
          1967,
          1972,
          1977,
          1982,
          1987,
          1992,
          1997,
          2002,
          2007
         ]
        },
        {
         "hovertemplate": "country=Mongolia<br>gdpPercap=%{x}<br>pop=%{y}<br>year=%{z}<extra></extra>",
         "legendgroup": "Mongolia",
         "line": {
          "color": "#FF97FF",
          "dash": "solid"
         },
         "marker": {
          "symbol": "circle"
         },
         "mode": "lines",
         "name": "Mongolia",
         "scene": "scene",
         "showlegend": true,
         "type": "scatter3d",
         "x": [
          786.5668575,
          912.6626085,
          1056.353958,
          1226.04113,
          1421.741975,
          1647.511665,
          2000.603139,
          2338.008304,
          1785.402016,
          1902.2521,
          2140.739323,
          3095.7722710000007
         ],
         "y": [
          800663,
          882134,
          1010280,
          1149500,
          1320500,
          1528000,
          1756032,
          2015133,
          2312802,
          2494803,
          2674234,
          2874127
         ],
         "z": [
          1952,
          1957,
          1962,
          1967,
          1972,
          1977,
          1982,
          1987,
          1992,
          1997,
          2002,
          2007
         ]
        },
        {
         "hovertemplate": "country=Myanmar<br>gdpPercap=%{x}<br>pop=%{y}<br>year=%{z}<extra></extra>",
         "legendgroup": "Myanmar",
         "line": {
          "color": "#FECB52",
          "dash": "solid"
         },
         "marker": {
          "symbol": "circle"
         },
         "mode": "lines",
         "name": "Myanmar",
         "scene": "scene",
         "showlegend": true,
         "type": "scatter3d",
         "x": [
          331,
          350,
          388,
          349,
          357,
          371,
          424,
          385,
          347,
          415,
          611,
          944
         ],
         "y": [
          20092996,
          21731844,
          23634436,
          25870271,
          28466390,
          31528087,
          34680442,
          38028578,
          40546538,
          43247867,
          45598081,
          47761980
         ],
         "z": [
          1952,
          1957,
          1962,
          1967,
          1972,
          1977,
          1982,
          1987,
          1992,
          1997,
          2002,
          2007
         ]
        },
        {
         "hovertemplate": "country=Nepal<br>gdpPercap=%{x}<br>pop=%{y}<br>year=%{z}<extra></extra>",
         "legendgroup": "Nepal",
         "line": {
          "color": "#636efa",
          "dash": "solid"
         },
         "marker": {
          "symbol": "circle"
         },
         "mode": "lines",
         "name": "Nepal",
         "scene": "scene",
         "showlegend": true,
         "type": "scatter3d",
         "x": [
          545.8657228999998,
          597.9363557999999,
          652.3968593,
          676.4422254,
          674.7881296,
          694.1124398,
          718.3730947,
          775.6324501,
          897.7403604,
          1010.892138,
          1057.206311,
          1091.359778
         ],
         "y": [
          9182536,
          9682338,
          10332057,
          11261690,
          12412593,
          13933198,
          15796314,
          17917180,
          20326209,
          23001113,
          25873917,
          28901790
         ],
         "z": [
          1952,
          1957,
          1962,
          1967,
          1972,
          1977,
          1982,
          1987,
          1992,
          1997,
          2002,
          2007
         ]
        },
        {
         "hovertemplate": "country=Oman<br>gdpPercap=%{x}<br>pop=%{y}<br>year=%{z}<extra></extra>",
         "legendgroup": "Oman",
         "line": {
          "color": "#EF553B",
          "dash": "solid"
         },
         "marker": {
          "symbol": "circle"
         },
         "mode": "lines",
         "name": "Oman",
         "scene": "scene",
         "showlegend": true,
         "type": "scatter3d",
         "x": [
          1828.230307,
          2242.746551,
          2924.638113,
          4720.942687,
          10618.03855,
          11848.34392,
          12954.79101,
          18115.22313,
          18616.70691,
          19702.05581,
          19774.83687,
          22316.19287
         ],
         "y": [
          507833,
          561977,
          628164,
          714775,
          829050,
          1004533,
          1301048,
          1593882,
          1915208,
          2283635,
          2713462,
          3204897
         ],
         "z": [
          1952,
          1957,
          1962,
          1967,
          1972,
          1977,
          1982,
          1987,
          1992,
          1997,
          2002,
          2007
         ]
        },
        {
         "hovertemplate": "country=Pakistan<br>gdpPercap=%{x}<br>pop=%{y}<br>year=%{z}<extra></extra>",
         "legendgroup": "Pakistan",
         "line": {
          "color": "#00cc96",
          "dash": "solid"
         },
         "marker": {
          "symbol": "circle"
         },
         "mode": "lines",
         "name": "Pakistan",
         "scene": "scene",
         "showlegend": true,
         "type": "scatter3d",
         "x": [
          684.5971437999998,
          747.0835292,
          803.3427418,
          942.4082588,
          1049.938981,
          1175.921193,
          1443.429832,
          1704.686583,
          1971.829464,
          2049.3505210000008,
          2092.712441,
          2605.94758
         ],
         "y": [
          41346560,
          46679944,
          53100671,
          60641899,
          69325921,
          78152686,
          91462088,
          105186881,
          120065004,
          135564834,
          153403524,
          169270617
         ],
         "z": [
          1952,
          1957,
          1962,
          1967,
          1972,
          1977,
          1982,
          1987,
          1992,
          1997,
          2002,
          2007
         ]
        },
        {
         "hovertemplate": "country=Philippines<br>gdpPercap=%{x}<br>pop=%{y}<br>year=%{z}<extra></extra>",
         "legendgroup": "Philippines",
         "line": {
          "color": "#ab63fa",
          "dash": "solid"
         },
         "marker": {
          "symbol": "circle"
         },
         "mode": "lines",
         "name": "Philippines",
         "scene": "scene",
         "showlegend": true,
         "type": "scatter3d",
         "x": [
          1272.880995,
          1547.944844,
          1649.552153,
          1814.12743,
          1989.37407,
          2373.204287,
          2603.273765,
          2189.634995,
          2279.324017000001,
          2536.534925,
          2650.921068,
          3190.481016
         ],
         "y": [
          22438691,
          26072194,
          30325264,
          35356600,
          40850141,
          46850962,
          53456774,
          60017788,
          67185766,
          75012988,
          82995088,
          91077287
         ],
         "z": [
          1952,
          1957,
          1962,
          1967,
          1972,
          1977,
          1982,
          1987,
          1992,
          1997,
          2002,
          2007
         ]
        },
        {
         "hovertemplate": "country=Saudi Arabia<br>gdpPercap=%{x}<br>pop=%{y}<br>year=%{z}<extra></extra>",
         "legendgroup": "Saudi Arabia",
         "line": {
          "color": "#FFA15A",
          "dash": "solid"
         },
         "marker": {
          "symbol": "circle"
         },
         "mode": "lines",
         "name": "Saudi Arabia",
         "scene": "scene",
         "showlegend": true,
         "type": "scatter3d",
         "x": [
          6459.554823,
          8157.5912480000015,
          11626.41975,
          16903.04886,
          24837.42865,
          34167.7626,
          33693.17525,
          21198.26136,
          24841.61777,
          20586.69019,
          19014.54118,
          21654.83194
         ],
         "y": [
          4005677,
          4419650,
          4943029,
          5618198,
          6472756,
          8128505,
          11254672,
          14619745,
          16945857,
          21229759,
          24501530,
          27601038
         ],
         "z": [
          1952,
          1957,
          1962,
          1967,
          1972,
          1977,
          1982,
          1987,
          1992,
          1997,
          2002,
          2007
         ]
        },
        {
         "hovertemplate": "country=Singapore<br>gdpPercap=%{x}<br>pop=%{y}<br>year=%{z}<extra></extra>",
         "legendgroup": "Singapore",
         "line": {
          "color": "#19d3f3",
          "dash": "solid"
         },
         "marker": {
          "symbol": "circle"
         },
         "mode": "lines",
         "name": "Singapore",
         "scene": "scene",
         "showlegend": true,
         "type": "scatter3d",
         "x": [
          2315.138227,
          2843.104409,
          3674.735572,
          4977.41854,
          8597.756202,
          11210.08948,
          15169.16112,
          18861.53081,
          24769.8912,
          33519.4766,
          36023.1054,
          47143.17964
         ],
         "y": [
          1127000,
          1445929,
          1750200,
          1977600,
          2152400,
          2325300,
          2651869,
          2794552,
          3235865,
          3802309,
          4197776,
          4553009
         ],
         "z": [
          1952,
          1957,
          1962,
          1967,
          1972,
          1977,
          1982,
          1987,
          1992,
          1997,
          2002,
          2007
         ]
        },
        {
         "hovertemplate": "country=Sri Lanka<br>gdpPercap=%{x}<br>pop=%{y}<br>year=%{z}<extra></extra>",
         "legendgroup": "Sri Lanka",
         "line": {
          "color": "#FF6692",
          "dash": "solid"
         },
         "marker": {
          "symbol": "circle"
         },
         "mode": "lines",
         "name": "Sri Lanka",
         "scene": "scene",
         "showlegend": true,
         "type": "scatter3d",
         "x": [
          1083.53203,
          1072.546602,
          1074.47196,
          1135.514326,
          1213.39553,
          1348.775651,
          1648.079789,
          1876.766827,
          2153.739222,
          2664.477257,
          3015.378833,
          3970.095407
         ],
         "y": [
          7982342,
          9128546,
          10421936,
          11737396,
          13016733,
          14116836,
          15410151,
          16495304,
          17587060,
          18698655,
          19576783,
          20378239
         ],
         "z": [
          1952,
          1957,
          1962,
          1967,
          1972,
          1977,
          1982,
          1987,
          1992,
          1997,
          2002,
          2007
         ]
        },
        {
         "hovertemplate": "country=Syria<br>gdpPercap=%{x}<br>pop=%{y}<br>year=%{z}<extra></extra>",
         "legendgroup": "Syria",
         "line": {
          "color": "#B6E880",
          "dash": "solid"
         },
         "marker": {
          "symbol": "circle"
         },
         "mode": "lines",
         "name": "Syria",
         "scene": "scene",
         "showlegend": true,
         "type": "scatter3d",
         "x": [
          1643.485354,
          2117.234893,
          2193.037133,
          1881.923632,
          2571.423014,
          3195.484582,
          3761.837715,
          3116.774285,
          3340.542768,
          4014.238972,
          4090.925331,
          4184.548089
         ],
         "y": [
          3661549,
          4149908,
          4834621,
          5680812,
          6701172,
          7932503,
          9410494,
          11242847,
          13219062,
          15081016,
          17155814,
          19314747
         ],
         "z": [
          1952,
          1957,
          1962,
          1967,
          1972,
          1977,
          1982,
          1987,
          1992,
          1997,
          2002,
          2007
         ]
        },
        {
         "hovertemplate": "country=Taiwan<br>gdpPercap=%{x}<br>pop=%{y}<br>year=%{z}<extra></extra>",
         "legendgroup": "Taiwan",
         "line": {
          "color": "#FF97FF",
          "dash": "solid"
         },
         "marker": {
          "symbol": "circle"
         },
         "mode": "lines",
         "name": "Taiwan",
         "scene": "scene",
         "showlegend": true,
         "type": "scatter3d",
         "x": [
          1206.947913,
          1507.86129,
          1822.879028,
          2643.858681,
          4062.523897,
          5596.519826,
          7426.3547739999985,
          11054.56175,
          15215.6579,
          20206.82098,
          23235.42329,
          28718.27684
         ],
         "y": [
          8550362,
          10164215,
          11918938,
          13648692,
          15226039,
          16785196,
          18501390,
          19757799,
          20686918,
          21628605,
          22454239,
          23174294
         ],
         "z": [
          1952,
          1957,
          1962,
          1967,
          1972,
          1977,
          1982,
          1987,
          1992,
          1997,
          2002,
          2007
         ]
        },
        {
         "hovertemplate": "country=Thailand<br>gdpPercap=%{x}<br>pop=%{y}<br>year=%{z}<extra></extra>",
         "legendgroup": "Thailand",
         "line": {
          "color": "#FECB52",
          "dash": "solid"
         },
         "marker": {
          "symbol": "circle"
         },
         "mode": "lines",
         "name": "Thailand",
         "scene": "scene",
         "showlegend": true,
         "type": "scatter3d",
         "x": [
          757.7974177,
          793.5774147999998,
          1002.199172,
          1295.46066,
          1524.358936,
          1961.2246350000007,
          2393.219781,
          2982.653773,
          4616.896545000001,
          5852.625497,
          5913.187529,
          7458.396326999998
         ],
         "y": [
          21289402,
          25041917,
          29263397,
          34024249,
          39276153,
          44148285,
          48827160,
          52910342,
          56667095,
          60216677,
          62806748,
          65068149
         ],
         "z": [
          1952,
          1957,
          1962,
          1967,
          1972,
          1977,
          1982,
          1987,
          1992,
          1997,
          2002,
          2007
         ]
        },
        {
         "hovertemplate": "country=Vietnam<br>gdpPercap=%{x}<br>pop=%{y}<br>year=%{z}<extra></extra>",
         "legendgroup": "Vietnam",
         "line": {
          "color": "#636efa",
          "dash": "solid"
         },
         "marker": {
          "symbol": "circle"
         },
         "mode": "lines",
         "name": "Vietnam",
         "scene": "scene",
         "showlegend": true,
         "type": "scatter3d",
         "x": [
          605.0664917,
          676.2854477999998,
          772.0491602000002,
          637.1232887,
          699.5016441,
          713.5371196000001,
          707.2357863,
          820.7994449,
          989.0231487,
          1385.896769,
          1764.456677,
          2441.576404
         ],
         "y": [
          26246839,
          28998543,
          33796140,
          39463910,
          44655014,
          50533506,
          56142181,
          62826491,
          69940728,
          76048996,
          80908147,
          85262356
         ],
         "z": [
          1952,
          1957,
          1962,
          1967,
          1972,
          1977,
          1982,
          1987,
          1992,
          1997,
          2002,
          2007
         ]
        },
        {
         "hovertemplate": "country=West Bank and Gaza<br>gdpPercap=%{x}<br>pop=%{y}<br>year=%{z}<extra></extra>",
         "legendgroup": "West Bank and Gaza",
         "line": {
          "color": "#EF553B",
          "dash": "solid"
         },
         "marker": {
          "symbol": "circle"
         },
         "mode": "lines",
         "name": "West Bank and Gaza",
         "scene": "scene",
         "showlegend": true,
         "type": "scatter3d",
         "x": [
          1515.5923289999996,
          1827.067742,
          2198.9563120000007,
          2649.715007,
          3133.409277,
          3682.831494,
          4336.032082,
          5107.197384,
          6017.654756,
          7110.667619,
          4515.487575,
          3025.349798
         ],
         "y": [
          1030585,
          1070439,
          1133134,
          1142636,
          1089572,
          1261091,
          1425876,
          1691210,
          2104779,
          2826046,
          3389578,
          4018332
         ],
         "z": [
          1952,
          1957,
          1962,
          1967,
          1972,
          1977,
          1982,
          1987,
          1992,
          1997,
          2002,
          2007
         ]
        },
        {
         "hovertemplate": "country=Yemen, Rep.<br>gdpPercap=%{x}<br>pop=%{y}<br>year=%{z}<extra></extra>",
         "legendgroup": "Yemen, Rep.",
         "line": {
          "color": "#00cc96",
          "dash": "solid"
         },
         "marker": {
          "symbol": "circle"
         },
         "mode": "lines",
         "name": "Yemen, Rep.",
         "scene": "scene",
         "showlegend": true,
         "type": "scatter3d",
         "x": [
          781.7175761,
          804.8304547,
          825.6232006,
          862.4421463,
          1265.047031,
          1829.765177,
          1977.55701,
          1971.741538,
          1879.496673,
          2117.484526,
          2234.820827,
          2280.769906
         ],
         "y": [
          4963829,
          5498090,
          6120081,
          6740785,
          7407075,
          8403990,
          9657618,
          11219340,
          13367997,
          15826497,
          18701257,
          22211743
         ],
         "z": [
          1952,
          1957,
          1962,
          1967,
          1972,
          1977,
          1982,
          1987,
          1992,
          1997,
          2002,
          2007
         ]
        }
       ],
       "layout": {
        "legend": {
         "title": {
          "text": "country"
         },
         "tracegroupgap": 0
        },
        "margin": {
         "t": 60
        },
        "scene": {
         "domain": {
          "x": [
           0,
           1
          ],
          "y": [
           0,
           1
          ]
         },
         "xaxis": {
          "title": {
           "text": "gdpPercap"
          }
         },
         "yaxis": {
          "title": {
           "text": "pop"
          }
         },
         "zaxis": {
          "title": {
           "text": "year"
          }
         }
        },
        "template": {
         "data": {
          "bar": [
           {
            "error_x": {
             "color": "#2a3f5f"
            },
            "error_y": {
             "color": "#2a3f5f"
            },
            "marker": {
             "line": {
              "color": "#E5ECF6",
              "width": 0.5
             },
             "pattern": {
              "fillmode": "overlay",
              "size": 10,
              "solidity": 0.2
             }
            },
            "type": "bar"
           }
          ],
          "barpolar": [
           {
            "marker": {
             "line": {
              "color": "#E5ECF6",
              "width": 0.5
             },
             "pattern": {
              "fillmode": "overlay",
              "size": 10,
              "solidity": 0.2
             }
            },
            "type": "barpolar"
           }
          ],
          "carpet": [
           {
            "aaxis": {
             "endlinecolor": "#2a3f5f",
             "gridcolor": "white",
             "linecolor": "white",
             "minorgridcolor": "white",
             "startlinecolor": "#2a3f5f"
            },
            "baxis": {
             "endlinecolor": "#2a3f5f",
             "gridcolor": "white",
             "linecolor": "white",
             "minorgridcolor": "white",
             "startlinecolor": "#2a3f5f"
            },
            "type": "carpet"
           }
          ],
          "choropleth": [
           {
            "colorbar": {
             "outlinewidth": 0,
             "ticks": ""
            },
            "type": "choropleth"
           }
          ],
          "contour": [
           {
            "colorbar": {
             "outlinewidth": 0,
             "ticks": ""
            },
            "colorscale": [
             [
              0,
              "#0d0887"
             ],
             [
              0.1111111111111111,
              "#46039f"
             ],
             [
              0.2222222222222222,
              "#7201a8"
             ],
             [
              0.3333333333333333,
              "#9c179e"
             ],
             [
              0.4444444444444444,
              "#bd3786"
             ],
             [
              0.5555555555555556,
              "#d8576b"
             ],
             [
              0.6666666666666666,
              "#ed7953"
             ],
             [
              0.7777777777777778,
              "#fb9f3a"
             ],
             [
              0.8888888888888888,
              "#fdca26"
             ],
             [
              1,
              "#f0f921"
             ]
            ],
            "type": "contour"
           }
          ],
          "contourcarpet": [
           {
            "colorbar": {
             "outlinewidth": 0,
             "ticks": ""
            },
            "type": "contourcarpet"
           }
          ],
          "heatmap": [
           {
            "colorbar": {
             "outlinewidth": 0,
             "ticks": ""
            },
            "colorscale": [
             [
              0,
              "#0d0887"
             ],
             [
              0.1111111111111111,
              "#46039f"
             ],
             [
              0.2222222222222222,
              "#7201a8"
             ],
             [
              0.3333333333333333,
              "#9c179e"
             ],
             [
              0.4444444444444444,
              "#bd3786"
             ],
             [
              0.5555555555555556,
              "#d8576b"
             ],
             [
              0.6666666666666666,
              "#ed7953"
             ],
             [
              0.7777777777777778,
              "#fb9f3a"
             ],
             [
              0.8888888888888888,
              "#fdca26"
             ],
             [
              1,
              "#f0f921"
             ]
            ],
            "type": "heatmap"
           }
          ],
          "heatmapgl": [
           {
            "colorbar": {
             "outlinewidth": 0,
             "ticks": ""
            },
            "colorscale": [
             [
              0,
              "#0d0887"
             ],
             [
              0.1111111111111111,
              "#46039f"
             ],
             [
              0.2222222222222222,
              "#7201a8"
             ],
             [
              0.3333333333333333,
              "#9c179e"
             ],
             [
              0.4444444444444444,
              "#bd3786"
             ],
             [
              0.5555555555555556,
              "#d8576b"
             ],
             [
              0.6666666666666666,
              "#ed7953"
             ],
             [
              0.7777777777777778,
              "#fb9f3a"
             ],
             [
              0.8888888888888888,
              "#fdca26"
             ],
             [
              1,
              "#f0f921"
             ]
            ],
            "type": "heatmapgl"
           }
          ],
          "histogram": [
           {
            "marker": {
             "pattern": {
              "fillmode": "overlay",
              "size": 10,
              "solidity": 0.2
             }
            },
            "type": "histogram"
           }
          ],
          "histogram2d": [
           {
            "colorbar": {
             "outlinewidth": 0,
             "ticks": ""
            },
            "colorscale": [
             [
              0,
              "#0d0887"
             ],
             [
              0.1111111111111111,
              "#46039f"
             ],
             [
              0.2222222222222222,
              "#7201a8"
             ],
             [
              0.3333333333333333,
              "#9c179e"
             ],
             [
              0.4444444444444444,
              "#bd3786"
             ],
             [
              0.5555555555555556,
              "#d8576b"
             ],
             [
              0.6666666666666666,
              "#ed7953"
             ],
             [
              0.7777777777777778,
              "#fb9f3a"
             ],
             [
              0.8888888888888888,
              "#fdca26"
             ],
             [
              1,
              "#f0f921"
             ]
            ],
            "type": "histogram2d"
           }
          ],
          "histogram2dcontour": [
           {
            "colorbar": {
             "outlinewidth": 0,
             "ticks": ""
            },
            "colorscale": [
             [
              0,
              "#0d0887"
             ],
             [
              0.1111111111111111,
              "#46039f"
             ],
             [
              0.2222222222222222,
              "#7201a8"
             ],
             [
              0.3333333333333333,
              "#9c179e"
             ],
             [
              0.4444444444444444,
              "#bd3786"
             ],
             [
              0.5555555555555556,
              "#d8576b"
             ],
             [
              0.6666666666666666,
              "#ed7953"
             ],
             [
              0.7777777777777778,
              "#fb9f3a"
             ],
             [
              0.8888888888888888,
              "#fdca26"
             ],
             [
              1,
              "#f0f921"
             ]
            ],
            "type": "histogram2dcontour"
           }
          ],
          "mesh3d": [
           {
            "colorbar": {
             "outlinewidth": 0,
             "ticks": ""
            },
            "type": "mesh3d"
           }
          ],
          "parcoords": [
           {
            "line": {
             "colorbar": {
              "outlinewidth": 0,
              "ticks": ""
             }
            },
            "type": "parcoords"
           }
          ],
          "pie": [
           {
            "automargin": true,
            "type": "pie"
           }
          ],
          "scatter": [
           {
            "fillpattern": {
             "fillmode": "overlay",
             "size": 10,
             "solidity": 0.2
            },
            "type": "scatter"
           }
          ],
          "scatter3d": [
           {
            "line": {
             "colorbar": {
              "outlinewidth": 0,
              "ticks": ""
             }
            },
            "marker": {
             "colorbar": {
              "outlinewidth": 0,
              "ticks": ""
             }
            },
            "type": "scatter3d"
           }
          ],
          "scattercarpet": [
           {
            "marker": {
             "colorbar": {
              "outlinewidth": 0,
              "ticks": ""
             }
            },
            "type": "scattercarpet"
           }
          ],
          "scattergeo": [
           {
            "marker": {
             "colorbar": {
              "outlinewidth": 0,
              "ticks": ""
             }
            },
            "type": "scattergeo"
           }
          ],
          "scattergl": [
           {
            "marker": {
             "colorbar": {
              "outlinewidth": 0,
              "ticks": ""
             }
            },
            "type": "scattergl"
           }
          ],
          "scattermapbox": [
           {
            "marker": {
             "colorbar": {
              "outlinewidth": 0,
              "ticks": ""
             }
            },
            "type": "scattermapbox"
           }
          ],
          "scatterpolar": [
           {
            "marker": {
             "colorbar": {
              "outlinewidth": 0,
              "ticks": ""
             }
            },
            "type": "scatterpolar"
           }
          ],
          "scatterpolargl": [
           {
            "marker": {
             "colorbar": {
              "outlinewidth": 0,
              "ticks": ""
             }
            },
            "type": "scatterpolargl"
           }
          ],
          "scatterternary": [
           {
            "marker": {
             "colorbar": {
              "outlinewidth": 0,
              "ticks": ""
             }
            },
            "type": "scatterternary"
           }
          ],
          "surface": [
           {
            "colorbar": {
             "outlinewidth": 0,
             "ticks": ""
            },
            "colorscale": [
             [
              0,
              "#0d0887"
             ],
             [
              0.1111111111111111,
              "#46039f"
             ],
             [
              0.2222222222222222,
              "#7201a8"
             ],
             [
              0.3333333333333333,
              "#9c179e"
             ],
             [
              0.4444444444444444,
              "#bd3786"
             ],
             [
              0.5555555555555556,
              "#d8576b"
             ],
             [
              0.6666666666666666,
              "#ed7953"
             ],
             [
              0.7777777777777778,
              "#fb9f3a"
             ],
             [
              0.8888888888888888,
              "#fdca26"
             ],
             [
              1,
              "#f0f921"
             ]
            ],
            "type": "surface"
           }
          ],
          "table": [
           {
            "cells": {
             "fill": {
              "color": "#EBF0F8"
             },
             "line": {
              "color": "white"
             }
            },
            "header": {
             "fill": {
              "color": "#C8D4E3"
             },
             "line": {
              "color": "white"
             }
            },
            "type": "table"
           }
          ]
         },
         "layout": {
          "annotationdefaults": {
           "arrowcolor": "#2a3f5f",
           "arrowhead": 0,
           "arrowwidth": 1
          },
          "autotypenumbers": "strict",
          "coloraxis": {
           "colorbar": {
            "outlinewidth": 0,
            "ticks": ""
           }
          },
          "colorscale": {
           "diverging": [
            [
             0,
             "#8e0152"
            ],
            [
             0.1,
             "#c51b7d"
            ],
            [
             0.2,
             "#de77ae"
            ],
            [
             0.3,
             "#f1b6da"
            ],
            [
             0.4,
             "#fde0ef"
            ],
            [
             0.5,
             "#f7f7f7"
            ],
            [
             0.6,
             "#e6f5d0"
            ],
            [
             0.7,
             "#b8e186"
            ],
            [
             0.8,
             "#7fbc41"
            ],
            [
             0.9,
             "#4d9221"
            ],
            [
             1,
             "#276419"
            ]
           ],
           "sequential": [
            [
             0,
             "#0d0887"
            ],
            [
             0.1111111111111111,
             "#46039f"
            ],
            [
             0.2222222222222222,
             "#7201a8"
            ],
            [
             0.3333333333333333,
             "#9c179e"
            ],
            [
             0.4444444444444444,
             "#bd3786"
            ],
            [
             0.5555555555555556,
             "#d8576b"
            ],
            [
             0.6666666666666666,
             "#ed7953"
            ],
            [
             0.7777777777777778,
             "#fb9f3a"
            ],
            [
             0.8888888888888888,
             "#fdca26"
            ],
            [
             1,
             "#f0f921"
            ]
           ],
           "sequentialminus": [
            [
             0,
             "#0d0887"
            ],
            [
             0.1111111111111111,
             "#46039f"
            ],
            [
             0.2222222222222222,
             "#7201a8"
            ],
            [
             0.3333333333333333,
             "#9c179e"
            ],
            [
             0.4444444444444444,
             "#bd3786"
            ],
            [
             0.5555555555555556,
             "#d8576b"
            ],
            [
             0.6666666666666666,
             "#ed7953"
            ],
            [
             0.7777777777777778,
             "#fb9f3a"
            ],
            [
             0.8888888888888888,
             "#fdca26"
            ],
            [
             1,
             "#f0f921"
            ]
           ]
          },
          "colorway": [
           "#636efa",
           "#EF553B",
           "#00cc96",
           "#ab63fa",
           "#FFA15A",
           "#19d3f3",
           "#FF6692",
           "#B6E880",
           "#FF97FF",
           "#FECB52"
          ],
          "font": {
           "color": "#2a3f5f"
          },
          "geo": {
           "bgcolor": "white",
           "lakecolor": "white",
           "landcolor": "#E5ECF6",
           "showlakes": true,
           "showland": true,
           "subunitcolor": "white"
          },
          "hoverlabel": {
           "align": "left"
          },
          "hovermode": "closest",
          "mapbox": {
           "style": "light"
          },
          "paper_bgcolor": "white",
          "plot_bgcolor": "#E5ECF6",
          "polar": {
           "angularaxis": {
            "gridcolor": "white",
            "linecolor": "white",
            "ticks": ""
           },
           "bgcolor": "#E5ECF6",
           "radialaxis": {
            "gridcolor": "white",
            "linecolor": "white",
            "ticks": ""
           }
          },
          "scene": {
           "xaxis": {
            "backgroundcolor": "#E5ECF6",
            "gridcolor": "white",
            "gridwidth": 2,
            "linecolor": "white",
            "showbackground": true,
            "ticks": "",
            "zerolinecolor": "white"
           },
           "yaxis": {
            "backgroundcolor": "#E5ECF6",
            "gridcolor": "white",
            "gridwidth": 2,
            "linecolor": "white",
            "showbackground": true,
            "ticks": "",
            "zerolinecolor": "white"
           },
           "zaxis": {
            "backgroundcolor": "#E5ECF6",
            "gridcolor": "white",
            "gridwidth": 2,
            "linecolor": "white",
            "showbackground": true,
            "ticks": "",
            "zerolinecolor": "white"
           }
          },
          "shapedefaults": {
           "line": {
            "color": "#2a3f5f"
           }
          },
          "ternary": {
           "aaxis": {
            "gridcolor": "white",
            "linecolor": "white",
            "ticks": ""
           },
           "baxis": {
            "gridcolor": "white",
            "linecolor": "white",
            "ticks": ""
           },
           "bgcolor": "#E5ECF6",
           "caxis": {
            "gridcolor": "white",
            "linecolor": "white",
            "ticks": ""
           }
          },
          "title": {
           "x": 0.05
          },
          "xaxis": {
           "automargin": true,
           "gridcolor": "white",
           "linecolor": "white",
           "ticks": "",
           "title": {
            "standoff": 15
           },
           "zerolinecolor": "white",
           "zerolinewidth": 2
          },
          "yaxis": {
           "automargin": true,
           "gridcolor": "white",
           "linecolor": "white",
           "ticks": "",
           "title": {
            "standoff": 15
           },
           "zerolinecolor": "white",
           "zerolinewidth": 2
          }
         }
        }
       }
      }
     },
     "metadata": {},
     "output_type": "display_data"
    }
   ],
   "source": [
    "fig = px.line_3d(gapminder_asia,x='gdpPercap',y='pop',\n",
    "                 z='year',color='country')\n",
    "fig.show()"
   ]
  },
  {
   "cell_type": "code",
   "execution_count": 6,
   "metadata": {},
   "outputs": [
    {
     "data": {
      "application/vnd.plotly.v1+json": {
       "config": {
        "plotlyServerURL": "https://plot.ly"
       },
       "data": [
        {
         "hovertemplate": "species=setosa<br>petal_length=%{x}<br>petal_width=%{y}<br>sepal_width=%{z}<br>sepal_length=%{marker.color}<extra></extra>",
         "legendgroup": "setosa",
         "marker": {
          "color": [
           5.1,
           4.9,
           4.7,
           4.6,
           5,
           5.4,
           4.6,
           5,
           4.4,
           4.9,
           5.4,
           4.8,
           4.8,
           4.3,
           5.8,
           5.7,
           5.4,
           5.1,
           5.7,
           5.1,
           5.4,
           5.1,
           4.6,
           5.1,
           4.8,
           5,
           5,
           5.2,
           5.2,
           4.7,
           4.8,
           5.4,
           5.2,
           5.5,
           4.9,
           5,
           5.5,
           4.9,
           4.4,
           5.1,
           5,
           4.5,
           4.4,
           5,
           5.1,
           4.8,
           5.1,
           4.6,
           5.3,
           5
          ],
          "coloraxis": "coloraxis",
          "opacity": 0.6,
          "size": [
           5.1,
           4.9,
           4.7,
           4.6,
           5,
           5.4,
           4.6,
           5,
           4.4,
           4.9,
           5.4,
           4.8,
           4.8,
           4.3,
           5.8,
           5.7,
           5.4,
           5.1,
           5.7,
           5.1,
           5.4,
           5.1,
           4.6,
           5.1,
           4.8,
           5,
           5,
           5.2,
           5.2,
           4.7,
           4.8,
           5.4,
           5.2,
           5.5,
           4.9,
           5,
           5.5,
           4.9,
           4.4,
           5.1,
           5,
           4.5,
           4.4,
           5,
           5.1,
           4.8,
           5.1,
           4.6,
           5.3,
           5
          ],
          "sizemode": "area",
          "sizeref": 0.01975,
          "symbol": "circle"
         },
         "mode": "markers",
         "name": "setosa",
         "scene": "scene",
         "showlegend": true,
         "type": "scatter3d",
         "x": [
          1.4,
          1.4,
          1.3,
          1.5,
          1.4,
          1.7,
          1.4,
          1.5,
          1.4,
          1.5,
          1.5,
          1.6,
          1.4,
          1.1,
          1.2,
          1.5,
          1.3,
          1.4,
          1.7,
          1.5,
          1.7,
          1.5,
          1,
          1.7,
          1.9,
          1.6,
          1.6,
          1.5,
          1.4,
          1.6,
          1.6,
          1.5,
          1.5,
          1.4,
          1.5,
          1.2,
          1.3,
          1.5,
          1.3,
          1.5,
          1.3,
          1.3,
          1.3,
          1.6,
          1.9,
          1.4,
          1.6,
          1.4,
          1.5,
          1.4
         ],
         "y": [
          0.2,
          0.2,
          0.2,
          0.2,
          0.2,
          0.4,
          0.3,
          0.2,
          0.2,
          0.1,
          0.2,
          0.2,
          0.1,
          0.1,
          0.2,
          0.4,
          0.4,
          0.3,
          0.3,
          0.3,
          0.2,
          0.4,
          0.2,
          0.5,
          0.2,
          0.2,
          0.4,
          0.2,
          0.2,
          0.2,
          0.2,
          0.4,
          0.1,
          0.2,
          0.1,
          0.2,
          0.2,
          0.1,
          0.2,
          0.2,
          0.3,
          0.3,
          0.2,
          0.6,
          0.4,
          0.3,
          0.2,
          0.2,
          0.2,
          0.2
         ],
         "z": [
          3.5,
          3,
          3.2,
          3.1,
          3.6,
          3.9,
          3.4,
          3.4,
          2.9,
          3.1,
          3.7,
          3.4,
          3,
          3,
          4,
          4.4,
          3.9,
          3.5,
          3.8,
          3.8,
          3.4,
          3.7,
          3.6,
          3.3,
          3.4,
          3,
          3.4,
          3.5,
          3.4,
          3.2,
          3.1,
          3.4,
          4.1,
          4.2,
          3.1,
          3.2,
          3.5,
          3.1,
          3,
          3.4,
          3.5,
          2.3,
          3.2,
          3.5,
          3.8,
          3,
          3.8,
          3.2,
          3.7,
          3.3
         ]
        },
        {
         "hovertemplate": "species=versicolor<br>petal_length=%{x}<br>petal_width=%{y}<br>sepal_width=%{z}<br>sepal_length=%{marker.color}<extra></extra>",
         "legendgroup": "versicolor",
         "marker": {
          "color": [
           7,
           6.4,
           6.9,
           5.5,
           6.5,
           5.7,
           6.3,
           4.9,
           6.6,
           5.2,
           5,
           5.9,
           6,
           6.1,
           5.6,
           6.7,
           5.6,
           5.8,
           6.2,
           5.6,
           5.9,
           6.1,
           6.3,
           6.1,
           6.4,
           6.6,
           6.8,
           6.7,
           6,
           5.7,
           5.5,
           5.5,
           5.8,
           6,
           5.4,
           6,
           6.7,
           6.3,
           5.6,
           5.5,
           5.5,
           6.1,
           5.8,
           5,
           5.6,
           5.7,
           5.7,
           6.2,
           5.1,
           5.7
          ],
          "coloraxis": "coloraxis",
          "opacity": 0.6,
          "size": [
           7,
           6.4,
           6.9,
           5.5,
           6.5,
           5.7,
           6.3,
           4.9,
           6.6,
           5.2,
           5,
           5.9,
           6,
           6.1,
           5.6,
           6.7,
           5.6,
           5.8,
           6.2,
           5.6,
           5.9,
           6.1,
           6.3,
           6.1,
           6.4,
           6.6,
           6.8,
           6.7,
           6,
           5.7,
           5.5,
           5.5,
           5.8,
           6,
           5.4,
           6,
           6.7,
           6.3,
           5.6,
           5.5,
           5.5,
           6.1,
           5.8,
           5,
           5.6,
           5.7,
           5.7,
           6.2,
           5.1,
           5.7
          ],
          "sizemode": "area",
          "sizeref": 0.01975,
          "symbol": "diamond"
         },
         "mode": "markers",
         "name": "versicolor",
         "scene": "scene",
         "showlegend": true,
         "type": "scatter3d",
         "x": [
          4.7,
          4.5,
          4.9,
          4,
          4.6,
          4.5,
          4.7,
          3.3,
          4.6,
          3.9,
          3.5,
          4.2,
          4,
          4.7,
          3.6,
          4.4,
          4.5,
          4.1,
          4.5,
          3.9,
          4.8,
          4,
          4.9,
          4.7,
          4.3,
          4.4,
          4.8,
          5,
          4.5,
          3.5,
          3.8,
          3.7,
          3.9,
          5.1,
          4.5,
          4.5,
          4.7,
          4.4,
          4.1,
          4,
          4.4,
          4.6,
          4,
          3.3,
          4.2,
          4.2,
          4.2,
          4.3,
          3,
          4.1
         ],
         "y": [
          1.4,
          1.5,
          1.5,
          1.3,
          1.5,
          1.3,
          1.6,
          1,
          1.3,
          1.4,
          1,
          1.5,
          1,
          1.4,
          1.3,
          1.4,
          1.5,
          1,
          1.5,
          1.1,
          1.8,
          1.3,
          1.5,
          1.2,
          1.3,
          1.4,
          1.4,
          1.7,
          1.5,
          1,
          1.1,
          1,
          1.2,
          1.6,
          1.5,
          1.6,
          1.5,
          1.3,
          1.3,
          1.3,
          1.2,
          1.4,
          1.2,
          1,
          1.3,
          1.2,
          1.3,
          1.3,
          1.1,
          1.3
         ],
         "z": [
          3.2,
          3.2,
          3.1,
          2.3,
          2.8,
          2.8,
          3.3,
          2.4,
          2.9,
          2.7,
          2,
          3,
          2.2,
          2.9,
          2.9,
          3.1,
          3,
          2.7,
          2.2,
          2.5,
          3.2,
          2.8,
          2.5,
          2.8,
          2.9,
          3,
          2.8,
          3,
          2.9,
          2.6,
          2.4,
          2.4,
          2.7,
          2.7,
          3,
          3.4,
          3.1,
          2.3,
          3,
          2.5,
          2.6,
          3,
          2.6,
          2.3,
          2.7,
          3,
          2.9,
          2.9,
          2.5,
          2.8
         ]
        },
        {
         "hovertemplate": "species=virginica<br>petal_length=%{x}<br>petal_width=%{y}<br>sepal_width=%{z}<br>sepal_length=%{marker.color}<extra></extra>",
         "legendgroup": "virginica",
         "marker": {
          "color": [
           6.3,
           5.8,
           7.1,
           6.3,
           6.5,
           7.6,
           4.9,
           7.3,
           6.7,
           7.2,
           6.5,
           6.4,
           6.8,
           5.7,
           5.8,
           6.4,
           6.5,
           7.7,
           7.7,
           6,
           6.9,
           5.6,
           7.7,
           6.3,
           6.7,
           7.2,
           6.2,
           6.1,
           6.4,
           7.2,
           7.4,
           7.9,
           6.4,
           6.3,
           6.1,
           7.7,
           6.3,
           6.4,
           6,
           6.9,
           6.7,
           6.9,
           5.8,
           6.8,
           6.7,
           6.7,
           6.3,
           6.5,
           6.2,
           5.9
          ],
          "coloraxis": "coloraxis",
          "opacity": 0.6,
          "size": [
           6.3,
           5.8,
           7.1,
           6.3,
           6.5,
           7.6,
           4.9,
           7.3,
           6.7,
           7.2,
           6.5,
           6.4,
           6.8,
           5.7,
           5.8,
           6.4,
           6.5,
           7.7,
           7.7,
           6,
           6.9,
           5.6,
           7.7,
           6.3,
           6.7,
           7.2,
           6.2,
           6.1,
           6.4,
           7.2,
           7.4,
           7.9,
           6.4,
           6.3,
           6.1,
           7.7,
           6.3,
           6.4,
           6,
           6.9,
           6.7,
           6.9,
           5.8,
           6.8,
           6.7,
           6.7,
           6.3,
           6.5,
           6.2,
           5.9
          ],
          "sizemode": "area",
          "sizeref": 0.01975,
          "symbol": "square"
         },
         "mode": "markers",
         "name": "virginica",
         "scene": "scene",
         "showlegend": true,
         "type": "scatter3d",
         "x": [
          6,
          5.1,
          5.9,
          5.6,
          5.8,
          6.6,
          4.5,
          6.3,
          5.8,
          6.1,
          5.1,
          5.3,
          5.5,
          5,
          5.1,
          5.3,
          5.5,
          6.7,
          6.9,
          5,
          5.7,
          4.9,
          6.7,
          4.9,
          5.7,
          6,
          4.8,
          4.9,
          5.6,
          5.8,
          6.1,
          6.4,
          5.6,
          5.1,
          5.6,
          6.1,
          5.6,
          5.5,
          4.8,
          5.4,
          5.6,
          5.1,
          5.1,
          5.9,
          5.7,
          5.2,
          5,
          5.2,
          5.4,
          5.1
         ],
         "y": [
          2.5,
          1.9,
          2.1,
          1.8,
          2.2,
          2.1,
          1.7,
          1.8,
          1.8,
          2.5,
          2,
          1.9,
          2.1,
          2,
          2.4,
          2.3,
          1.8,
          2.2,
          2.3,
          1.5,
          2.3,
          2,
          2,
          1.8,
          2.1,
          1.8,
          1.8,
          1.8,
          2.1,
          1.6,
          1.9,
          2,
          2.2,
          1.5,
          1.4,
          2.3,
          2.4,
          1.8,
          1.8,
          2.1,
          2.4,
          2.3,
          1.9,
          2.3,
          2.5,
          2.3,
          1.9,
          2,
          2.3,
          1.8
         ],
         "z": [
          3.3,
          2.7,
          3,
          2.9,
          3,
          3,
          2.5,
          2.9,
          2.5,
          3.6,
          3.2,
          2.7,
          3,
          2.5,
          2.8,
          3.2,
          3,
          3.8,
          2.6,
          2.2,
          3.2,
          2.8,
          2.8,
          2.7,
          3.3,
          3.2,
          2.8,
          3,
          2.8,
          3,
          2.8,
          3.8,
          2.8,
          2.8,
          2.6,
          3,
          3.4,
          3.1,
          3,
          3.1,
          3.1,
          3.1,
          2.7,
          3.2,
          3.3,
          3,
          2.5,
          3,
          3.4,
          3
         ]
        }
       ],
       "layout": {
        "coloraxis": {
         "colorbar": {
          "title": {
           "text": "sepal_length"
          }
         },
         "colorscale": [
          [
           0,
           "#0d0887"
          ],
          [
           0.1111111111111111,
           "#46039f"
          ],
          [
           0.2222222222222222,
           "#7201a8"
          ],
          [
           0.3333333333333333,
           "#9c179e"
          ],
          [
           0.4444444444444444,
           "#bd3786"
          ],
          [
           0.5555555555555556,
           "#d8576b"
          ],
          [
           0.6666666666666666,
           "#ed7953"
          ],
          [
           0.7777777777777778,
           "#fb9f3a"
          ],
          [
           0.8888888888888888,
           "#fdca26"
          ],
          [
           1,
           "#f0f921"
          ]
         ]
        },
        "legend": {
         "itemsizing": "constant",
         "title": {
          "text": "species"
         },
         "tracegroupgap": 0
        },
        "margin": {
         "t": 60
        },
        "scene": {
         "domain": {
          "x": [
           0,
           1
          ],
          "y": [
           0,
           1
          ]
         },
         "xaxis": {
          "title": {
           "text": "petal_length"
          }
         },
         "yaxis": {
          "title": {
           "text": "petal_width"
          }
         },
         "zaxis": {
          "title": {
           "text": "sepal_width"
          }
         }
        },
        "template": {
         "data": {
          "bar": [
           {
            "error_x": {
             "color": "#2a3f5f"
            },
            "error_y": {
             "color": "#2a3f5f"
            },
            "marker": {
             "line": {
              "color": "#E5ECF6",
              "width": 0.5
             },
             "pattern": {
              "fillmode": "overlay",
              "size": 10,
              "solidity": 0.2
             }
            },
            "type": "bar"
           }
          ],
          "barpolar": [
           {
            "marker": {
             "line": {
              "color": "#E5ECF6",
              "width": 0.5
             },
             "pattern": {
              "fillmode": "overlay",
              "size": 10,
              "solidity": 0.2
             }
            },
            "type": "barpolar"
           }
          ],
          "carpet": [
           {
            "aaxis": {
             "endlinecolor": "#2a3f5f",
             "gridcolor": "white",
             "linecolor": "white",
             "minorgridcolor": "white",
             "startlinecolor": "#2a3f5f"
            },
            "baxis": {
             "endlinecolor": "#2a3f5f",
             "gridcolor": "white",
             "linecolor": "white",
             "minorgridcolor": "white",
             "startlinecolor": "#2a3f5f"
            },
            "type": "carpet"
           }
          ],
          "choropleth": [
           {
            "colorbar": {
             "outlinewidth": 0,
             "ticks": ""
            },
            "type": "choropleth"
           }
          ],
          "contour": [
           {
            "colorbar": {
             "outlinewidth": 0,
             "ticks": ""
            },
            "colorscale": [
             [
              0,
              "#0d0887"
             ],
             [
              0.1111111111111111,
              "#46039f"
             ],
             [
              0.2222222222222222,
              "#7201a8"
             ],
             [
              0.3333333333333333,
              "#9c179e"
             ],
             [
              0.4444444444444444,
              "#bd3786"
             ],
             [
              0.5555555555555556,
              "#d8576b"
             ],
             [
              0.6666666666666666,
              "#ed7953"
             ],
             [
              0.7777777777777778,
              "#fb9f3a"
             ],
             [
              0.8888888888888888,
              "#fdca26"
             ],
             [
              1,
              "#f0f921"
             ]
            ],
            "type": "contour"
           }
          ],
          "contourcarpet": [
           {
            "colorbar": {
             "outlinewidth": 0,
             "ticks": ""
            },
            "type": "contourcarpet"
           }
          ],
          "heatmap": [
           {
            "colorbar": {
             "outlinewidth": 0,
             "ticks": ""
            },
            "colorscale": [
             [
              0,
              "#0d0887"
             ],
             [
              0.1111111111111111,
              "#46039f"
             ],
             [
              0.2222222222222222,
              "#7201a8"
             ],
             [
              0.3333333333333333,
              "#9c179e"
             ],
             [
              0.4444444444444444,
              "#bd3786"
             ],
             [
              0.5555555555555556,
              "#d8576b"
             ],
             [
              0.6666666666666666,
              "#ed7953"
             ],
             [
              0.7777777777777778,
              "#fb9f3a"
             ],
             [
              0.8888888888888888,
              "#fdca26"
             ],
             [
              1,
              "#f0f921"
             ]
            ],
            "type": "heatmap"
           }
          ],
          "heatmapgl": [
           {
            "colorbar": {
             "outlinewidth": 0,
             "ticks": ""
            },
            "colorscale": [
             [
              0,
              "#0d0887"
             ],
             [
              0.1111111111111111,
              "#46039f"
             ],
             [
              0.2222222222222222,
              "#7201a8"
             ],
             [
              0.3333333333333333,
              "#9c179e"
             ],
             [
              0.4444444444444444,
              "#bd3786"
             ],
             [
              0.5555555555555556,
              "#d8576b"
             ],
             [
              0.6666666666666666,
              "#ed7953"
             ],
             [
              0.7777777777777778,
              "#fb9f3a"
             ],
             [
              0.8888888888888888,
              "#fdca26"
             ],
             [
              1,
              "#f0f921"
             ]
            ],
            "type": "heatmapgl"
           }
          ],
          "histogram": [
           {
            "marker": {
             "pattern": {
              "fillmode": "overlay",
              "size": 10,
              "solidity": 0.2
             }
            },
            "type": "histogram"
           }
          ],
          "histogram2d": [
           {
            "colorbar": {
             "outlinewidth": 0,
             "ticks": ""
            },
            "colorscale": [
             [
              0,
              "#0d0887"
             ],
             [
              0.1111111111111111,
              "#46039f"
             ],
             [
              0.2222222222222222,
              "#7201a8"
             ],
             [
              0.3333333333333333,
              "#9c179e"
             ],
             [
              0.4444444444444444,
              "#bd3786"
             ],
             [
              0.5555555555555556,
              "#d8576b"
             ],
             [
              0.6666666666666666,
              "#ed7953"
             ],
             [
              0.7777777777777778,
              "#fb9f3a"
             ],
             [
              0.8888888888888888,
              "#fdca26"
             ],
             [
              1,
              "#f0f921"
             ]
            ],
            "type": "histogram2d"
           }
          ],
          "histogram2dcontour": [
           {
            "colorbar": {
             "outlinewidth": 0,
             "ticks": ""
            },
            "colorscale": [
             [
              0,
              "#0d0887"
             ],
             [
              0.1111111111111111,
              "#46039f"
             ],
             [
              0.2222222222222222,
              "#7201a8"
             ],
             [
              0.3333333333333333,
              "#9c179e"
             ],
             [
              0.4444444444444444,
              "#bd3786"
             ],
             [
              0.5555555555555556,
              "#d8576b"
             ],
             [
              0.6666666666666666,
              "#ed7953"
             ],
             [
              0.7777777777777778,
              "#fb9f3a"
             ],
             [
              0.8888888888888888,
              "#fdca26"
             ],
             [
              1,
              "#f0f921"
             ]
            ],
            "type": "histogram2dcontour"
           }
          ],
          "mesh3d": [
           {
            "colorbar": {
             "outlinewidth": 0,
             "ticks": ""
            },
            "type": "mesh3d"
           }
          ],
          "parcoords": [
           {
            "line": {
             "colorbar": {
              "outlinewidth": 0,
              "ticks": ""
             }
            },
            "type": "parcoords"
           }
          ],
          "pie": [
           {
            "automargin": true,
            "type": "pie"
           }
          ],
          "scatter": [
           {
            "fillpattern": {
             "fillmode": "overlay",
             "size": 10,
             "solidity": 0.2
            },
            "type": "scatter"
           }
          ],
          "scatter3d": [
           {
            "line": {
             "colorbar": {
              "outlinewidth": 0,
              "ticks": ""
             }
            },
            "marker": {
             "colorbar": {
              "outlinewidth": 0,
              "ticks": ""
             }
            },
            "type": "scatter3d"
           }
          ],
          "scattercarpet": [
           {
            "marker": {
             "colorbar": {
              "outlinewidth": 0,
              "ticks": ""
             }
            },
            "type": "scattercarpet"
           }
          ],
          "scattergeo": [
           {
            "marker": {
             "colorbar": {
              "outlinewidth": 0,
              "ticks": ""
             }
            },
            "type": "scattergeo"
           }
          ],
          "scattergl": [
           {
            "marker": {
             "colorbar": {
              "outlinewidth": 0,
              "ticks": ""
             }
            },
            "type": "scattergl"
           }
          ],
          "scattermapbox": [
           {
            "marker": {
             "colorbar": {
              "outlinewidth": 0,
              "ticks": ""
             }
            },
            "type": "scattermapbox"
           }
          ],
          "scatterpolar": [
           {
            "marker": {
             "colorbar": {
              "outlinewidth": 0,
              "ticks": ""
             }
            },
            "type": "scatterpolar"
           }
          ],
          "scatterpolargl": [
           {
            "marker": {
             "colorbar": {
              "outlinewidth": 0,
              "ticks": ""
             }
            },
            "type": "scatterpolargl"
           }
          ],
          "scatterternary": [
           {
            "marker": {
             "colorbar": {
              "outlinewidth": 0,
              "ticks": ""
             }
            },
            "type": "scatterternary"
           }
          ],
          "surface": [
           {
            "colorbar": {
             "outlinewidth": 0,
             "ticks": ""
            },
            "colorscale": [
             [
              0,
              "#0d0887"
             ],
             [
              0.1111111111111111,
              "#46039f"
             ],
             [
              0.2222222222222222,
              "#7201a8"
             ],
             [
              0.3333333333333333,
              "#9c179e"
             ],
             [
              0.4444444444444444,
              "#bd3786"
             ],
             [
              0.5555555555555556,
              "#d8576b"
             ],
             [
              0.6666666666666666,
              "#ed7953"
             ],
             [
              0.7777777777777778,
              "#fb9f3a"
             ],
             [
              0.8888888888888888,
              "#fdca26"
             ],
             [
              1,
              "#f0f921"
             ]
            ],
            "type": "surface"
           }
          ],
          "table": [
           {
            "cells": {
             "fill": {
              "color": "#EBF0F8"
             },
             "line": {
              "color": "white"
             }
            },
            "header": {
             "fill": {
              "color": "#C8D4E3"
             },
             "line": {
              "color": "white"
             }
            },
            "type": "table"
           }
          ]
         },
         "layout": {
          "annotationdefaults": {
           "arrowcolor": "#2a3f5f",
           "arrowhead": 0,
           "arrowwidth": 1
          },
          "autotypenumbers": "strict",
          "coloraxis": {
           "colorbar": {
            "outlinewidth": 0,
            "ticks": ""
           }
          },
          "colorscale": {
           "diverging": [
            [
             0,
             "#8e0152"
            ],
            [
             0.1,
             "#c51b7d"
            ],
            [
             0.2,
             "#de77ae"
            ],
            [
             0.3,
             "#f1b6da"
            ],
            [
             0.4,
             "#fde0ef"
            ],
            [
             0.5,
             "#f7f7f7"
            ],
            [
             0.6,
             "#e6f5d0"
            ],
            [
             0.7,
             "#b8e186"
            ],
            [
             0.8,
             "#7fbc41"
            ],
            [
             0.9,
             "#4d9221"
            ],
            [
             1,
             "#276419"
            ]
           ],
           "sequential": [
            [
             0,
             "#0d0887"
            ],
            [
             0.1111111111111111,
             "#46039f"
            ],
            [
             0.2222222222222222,
             "#7201a8"
            ],
            [
             0.3333333333333333,
             "#9c179e"
            ],
            [
             0.4444444444444444,
             "#bd3786"
            ],
            [
             0.5555555555555556,
             "#d8576b"
            ],
            [
             0.6666666666666666,
             "#ed7953"
            ],
            [
             0.7777777777777778,
             "#fb9f3a"
            ],
            [
             0.8888888888888888,
             "#fdca26"
            ],
            [
             1,
             "#f0f921"
            ]
           ],
           "sequentialminus": [
            [
             0,
             "#0d0887"
            ],
            [
             0.1111111111111111,
             "#46039f"
            ],
            [
             0.2222222222222222,
             "#7201a8"
            ],
            [
             0.3333333333333333,
             "#9c179e"
            ],
            [
             0.4444444444444444,
             "#bd3786"
            ],
            [
             0.5555555555555556,
             "#d8576b"
            ],
            [
             0.6666666666666666,
             "#ed7953"
            ],
            [
             0.7777777777777778,
             "#fb9f3a"
            ],
            [
             0.8888888888888888,
             "#fdca26"
            ],
            [
             1,
             "#f0f921"
            ]
           ]
          },
          "colorway": [
           "#636efa",
           "#EF553B",
           "#00cc96",
           "#ab63fa",
           "#FFA15A",
           "#19d3f3",
           "#FF6692",
           "#B6E880",
           "#FF97FF",
           "#FECB52"
          ],
          "font": {
           "color": "#2a3f5f"
          },
          "geo": {
           "bgcolor": "white",
           "lakecolor": "white",
           "landcolor": "#E5ECF6",
           "showlakes": true,
           "showland": true,
           "subunitcolor": "white"
          },
          "hoverlabel": {
           "align": "left"
          },
          "hovermode": "closest",
          "mapbox": {
           "style": "light"
          },
          "paper_bgcolor": "white",
          "plot_bgcolor": "#E5ECF6",
          "polar": {
           "angularaxis": {
            "gridcolor": "white",
            "linecolor": "white",
            "ticks": ""
           },
           "bgcolor": "#E5ECF6",
           "radialaxis": {
            "gridcolor": "white",
            "linecolor": "white",
            "ticks": ""
           }
          },
          "scene": {
           "xaxis": {
            "backgroundcolor": "#E5ECF6",
            "gridcolor": "white",
            "gridwidth": 2,
            "linecolor": "white",
            "showbackground": true,
            "ticks": "",
            "zerolinecolor": "white"
           },
           "yaxis": {
            "backgroundcolor": "#E5ECF6",
            "gridcolor": "white",
            "gridwidth": 2,
            "linecolor": "white",
            "showbackground": true,
            "ticks": "",
            "zerolinecolor": "white"
           },
           "zaxis": {
            "backgroundcolor": "#E5ECF6",
            "gridcolor": "white",
            "gridwidth": 2,
            "linecolor": "white",
            "showbackground": true,
            "ticks": "",
            "zerolinecolor": "white"
           }
          },
          "shapedefaults": {
           "line": {
            "color": "#2a3f5f"
           }
          },
          "ternary": {
           "aaxis": {
            "gridcolor": "white",
            "linecolor": "white",
            "ticks": ""
           },
           "baxis": {
            "gridcolor": "white",
            "linecolor": "white",
            "ticks": ""
           },
           "bgcolor": "#E5ECF6",
           "caxis": {
            "gridcolor": "white",
            "linecolor": "white",
            "ticks": ""
           }
          },
          "title": {
           "x": 0.05
          },
          "xaxis": {
           "automargin": true,
           "gridcolor": "white",
           "linecolor": "white",
           "ticks": "",
           "title": {
            "standoff": 15
           },
           "zerolinecolor": "white",
           "zerolinewidth": 2
          },
          "yaxis": {
           "automargin": true,
           "gridcolor": "white",
           "linecolor": "white",
           "ticks": "",
           "title": {
            "standoff": 15
           },
           "zerolinecolor": "white",
           "zerolinewidth": 2
          }
         }
        }
       }
      }
     },
     "metadata": {},
     "output_type": "display_data"
    }
   ],
   "source": [
    "fig = px.scatter_3d(iris,x='petal_length',y='petal_width',z='sepal_width',\n",
    "                    color='sepal_length',symbol='species',\n",
    "                    size='sepal_length',opacity=.6)\n",
    "fig.show()"
   ]
  },
  {
   "cell_type": "code",
   "execution_count": 8,
   "metadata": {},
   "outputs": [
    {
     "data": {
      "application/vnd.plotly.v1+json": {
       "config": {
        "plotlyServerURL": "https://plot.ly"
       },
       "data": [
        {
         "customdata": [
          [
           "Afghanistan"
          ],
          [
           "Afghanistan"
          ],
          [
           "Afghanistan"
          ],
          [
           "Afghanistan"
          ],
          [
           "Afghanistan"
          ],
          [
           "Afghanistan"
          ],
          [
           "Afghanistan"
          ],
          [
           "Afghanistan"
          ],
          [
           "Afghanistan"
          ],
          [
           "Afghanistan"
          ],
          [
           "Afghanistan"
          ],
          [
           "Afghanistan"
          ],
          [
           "Albania"
          ],
          [
           "Albania"
          ],
          [
           "Albania"
          ],
          [
           "Albania"
          ],
          [
           "Albania"
          ],
          [
           "Albania"
          ],
          [
           "Albania"
          ],
          [
           "Albania"
          ],
          [
           "Albania"
          ],
          [
           "Albania"
          ],
          [
           "Albania"
          ],
          [
           "Albania"
          ],
          [
           "Algeria"
          ],
          [
           "Algeria"
          ],
          [
           "Algeria"
          ],
          [
           "Algeria"
          ],
          [
           "Algeria"
          ],
          [
           "Algeria"
          ],
          [
           "Algeria"
          ],
          [
           "Algeria"
          ],
          [
           "Algeria"
          ],
          [
           "Algeria"
          ],
          [
           "Algeria"
          ],
          [
           "Algeria"
          ],
          [
           "Angola"
          ],
          [
           "Angola"
          ],
          [
           "Angola"
          ],
          [
           "Angola"
          ],
          [
           "Angola"
          ],
          [
           "Angola"
          ],
          [
           "Angola"
          ],
          [
           "Angola"
          ],
          [
           "Angola"
          ],
          [
           "Angola"
          ],
          [
           "Angola"
          ],
          [
           "Angola"
          ],
          [
           "Argentina"
          ],
          [
           "Argentina"
          ],
          [
           "Argentina"
          ],
          [
           "Argentina"
          ],
          [
           "Argentina"
          ],
          [
           "Argentina"
          ],
          [
           "Argentina"
          ],
          [
           "Argentina"
          ],
          [
           "Argentina"
          ],
          [
           "Argentina"
          ],
          [
           "Argentina"
          ],
          [
           "Argentina"
          ],
          [
           "Australia"
          ],
          [
           "Australia"
          ],
          [
           "Australia"
          ],
          [
           "Australia"
          ],
          [
           "Australia"
          ],
          [
           "Australia"
          ],
          [
           "Australia"
          ],
          [
           "Australia"
          ],
          [
           "Australia"
          ],
          [
           "Australia"
          ],
          [
           "Australia"
          ],
          [
           "Australia"
          ],
          [
           "Austria"
          ],
          [
           "Austria"
          ],
          [
           "Austria"
          ],
          [
           "Austria"
          ],
          [
           "Austria"
          ],
          [
           "Austria"
          ],
          [
           "Austria"
          ],
          [
           "Austria"
          ],
          [
           "Austria"
          ],
          [
           "Austria"
          ],
          [
           "Austria"
          ],
          [
           "Austria"
          ],
          [
           "Bahrain"
          ],
          [
           "Bahrain"
          ],
          [
           "Bahrain"
          ],
          [
           "Bahrain"
          ],
          [
           "Bahrain"
          ],
          [
           "Bahrain"
          ],
          [
           "Bahrain"
          ],
          [
           "Bahrain"
          ],
          [
           "Bahrain"
          ],
          [
           "Bahrain"
          ],
          [
           "Bahrain"
          ],
          [
           "Bahrain"
          ],
          [
           "Bangladesh"
          ],
          [
           "Bangladesh"
          ],
          [
           "Bangladesh"
          ],
          [
           "Bangladesh"
          ],
          [
           "Bangladesh"
          ],
          [
           "Bangladesh"
          ],
          [
           "Bangladesh"
          ],
          [
           "Bangladesh"
          ],
          [
           "Bangladesh"
          ],
          [
           "Bangladesh"
          ],
          [
           "Bangladesh"
          ],
          [
           "Bangladesh"
          ],
          [
           "Belgium"
          ],
          [
           "Belgium"
          ],
          [
           "Belgium"
          ],
          [
           "Belgium"
          ],
          [
           "Belgium"
          ],
          [
           "Belgium"
          ],
          [
           "Belgium"
          ],
          [
           "Belgium"
          ],
          [
           "Belgium"
          ],
          [
           "Belgium"
          ],
          [
           "Belgium"
          ],
          [
           "Belgium"
          ],
          [
           "Benin"
          ],
          [
           "Benin"
          ],
          [
           "Benin"
          ],
          [
           "Benin"
          ],
          [
           "Benin"
          ],
          [
           "Benin"
          ],
          [
           "Benin"
          ],
          [
           "Benin"
          ],
          [
           "Benin"
          ],
          [
           "Benin"
          ],
          [
           "Benin"
          ],
          [
           "Benin"
          ],
          [
           "Bolivia"
          ],
          [
           "Bolivia"
          ],
          [
           "Bolivia"
          ],
          [
           "Bolivia"
          ],
          [
           "Bolivia"
          ],
          [
           "Bolivia"
          ],
          [
           "Bolivia"
          ],
          [
           "Bolivia"
          ],
          [
           "Bolivia"
          ],
          [
           "Bolivia"
          ],
          [
           "Bolivia"
          ],
          [
           "Bolivia"
          ],
          [
           "Bosnia and Herzegovina"
          ],
          [
           "Bosnia and Herzegovina"
          ],
          [
           "Bosnia and Herzegovina"
          ],
          [
           "Bosnia and Herzegovina"
          ],
          [
           "Bosnia and Herzegovina"
          ],
          [
           "Bosnia and Herzegovina"
          ],
          [
           "Bosnia and Herzegovina"
          ],
          [
           "Bosnia and Herzegovina"
          ],
          [
           "Bosnia and Herzegovina"
          ],
          [
           "Bosnia and Herzegovina"
          ],
          [
           "Bosnia and Herzegovina"
          ],
          [
           "Bosnia and Herzegovina"
          ],
          [
           "Botswana"
          ],
          [
           "Botswana"
          ],
          [
           "Botswana"
          ],
          [
           "Botswana"
          ],
          [
           "Botswana"
          ],
          [
           "Botswana"
          ],
          [
           "Botswana"
          ],
          [
           "Botswana"
          ],
          [
           "Botswana"
          ],
          [
           "Botswana"
          ],
          [
           "Botswana"
          ],
          [
           "Botswana"
          ],
          [
           "Brazil"
          ],
          [
           "Brazil"
          ],
          [
           "Brazil"
          ],
          [
           "Brazil"
          ],
          [
           "Brazil"
          ],
          [
           "Brazil"
          ],
          [
           "Brazil"
          ],
          [
           "Brazil"
          ],
          [
           "Brazil"
          ],
          [
           "Brazil"
          ],
          [
           "Brazil"
          ],
          [
           "Brazil"
          ],
          [
           "Bulgaria"
          ],
          [
           "Bulgaria"
          ],
          [
           "Bulgaria"
          ],
          [
           "Bulgaria"
          ],
          [
           "Bulgaria"
          ],
          [
           "Bulgaria"
          ],
          [
           "Bulgaria"
          ],
          [
           "Bulgaria"
          ],
          [
           "Bulgaria"
          ],
          [
           "Bulgaria"
          ],
          [
           "Bulgaria"
          ],
          [
           "Bulgaria"
          ],
          [
           "Burkina Faso"
          ],
          [
           "Burkina Faso"
          ],
          [
           "Burkina Faso"
          ],
          [
           "Burkina Faso"
          ],
          [
           "Burkina Faso"
          ],
          [
           "Burkina Faso"
          ],
          [
           "Burkina Faso"
          ],
          [
           "Burkina Faso"
          ],
          [
           "Burkina Faso"
          ],
          [
           "Burkina Faso"
          ],
          [
           "Burkina Faso"
          ],
          [
           "Burkina Faso"
          ],
          [
           "Burundi"
          ],
          [
           "Burundi"
          ],
          [
           "Burundi"
          ],
          [
           "Burundi"
          ],
          [
           "Burundi"
          ],
          [
           "Burundi"
          ],
          [
           "Burundi"
          ],
          [
           "Burundi"
          ],
          [
           "Burundi"
          ],
          [
           "Burundi"
          ],
          [
           "Burundi"
          ],
          [
           "Burundi"
          ],
          [
           "Cambodia"
          ],
          [
           "Cambodia"
          ],
          [
           "Cambodia"
          ],
          [
           "Cambodia"
          ],
          [
           "Cambodia"
          ],
          [
           "Cambodia"
          ],
          [
           "Cambodia"
          ],
          [
           "Cambodia"
          ],
          [
           "Cambodia"
          ],
          [
           "Cambodia"
          ],
          [
           "Cambodia"
          ],
          [
           "Cambodia"
          ],
          [
           "Cameroon"
          ],
          [
           "Cameroon"
          ],
          [
           "Cameroon"
          ],
          [
           "Cameroon"
          ],
          [
           "Cameroon"
          ],
          [
           "Cameroon"
          ],
          [
           "Cameroon"
          ],
          [
           "Cameroon"
          ],
          [
           "Cameroon"
          ],
          [
           "Cameroon"
          ],
          [
           "Cameroon"
          ],
          [
           "Cameroon"
          ],
          [
           "Canada"
          ],
          [
           "Canada"
          ],
          [
           "Canada"
          ],
          [
           "Canada"
          ],
          [
           "Canada"
          ],
          [
           "Canada"
          ],
          [
           "Canada"
          ],
          [
           "Canada"
          ],
          [
           "Canada"
          ],
          [
           "Canada"
          ],
          [
           "Canada"
          ],
          [
           "Canada"
          ],
          [
           "Central African Republic"
          ],
          [
           "Central African Republic"
          ],
          [
           "Central African Republic"
          ],
          [
           "Central African Republic"
          ],
          [
           "Central African Republic"
          ],
          [
           "Central African Republic"
          ],
          [
           "Central African Republic"
          ],
          [
           "Central African Republic"
          ],
          [
           "Central African Republic"
          ],
          [
           "Central African Republic"
          ],
          [
           "Central African Republic"
          ],
          [
           "Central African Republic"
          ],
          [
           "Chad"
          ],
          [
           "Chad"
          ],
          [
           "Chad"
          ],
          [
           "Chad"
          ],
          [
           "Chad"
          ],
          [
           "Chad"
          ],
          [
           "Chad"
          ],
          [
           "Chad"
          ],
          [
           "Chad"
          ],
          [
           "Chad"
          ],
          [
           "Chad"
          ],
          [
           "Chad"
          ],
          [
           "Chile"
          ],
          [
           "Chile"
          ],
          [
           "Chile"
          ],
          [
           "Chile"
          ],
          [
           "Chile"
          ],
          [
           "Chile"
          ],
          [
           "Chile"
          ],
          [
           "Chile"
          ],
          [
           "Chile"
          ],
          [
           "Chile"
          ],
          [
           "Chile"
          ],
          [
           "Chile"
          ],
          [
           "China"
          ],
          [
           "China"
          ],
          [
           "China"
          ],
          [
           "China"
          ],
          [
           "China"
          ],
          [
           "China"
          ],
          [
           "China"
          ],
          [
           "China"
          ],
          [
           "China"
          ],
          [
           "China"
          ],
          [
           "China"
          ],
          [
           "China"
          ],
          [
           "Colombia"
          ],
          [
           "Colombia"
          ],
          [
           "Colombia"
          ],
          [
           "Colombia"
          ],
          [
           "Colombia"
          ],
          [
           "Colombia"
          ],
          [
           "Colombia"
          ],
          [
           "Colombia"
          ],
          [
           "Colombia"
          ],
          [
           "Colombia"
          ],
          [
           "Colombia"
          ],
          [
           "Colombia"
          ],
          [
           "Comoros"
          ],
          [
           "Comoros"
          ],
          [
           "Comoros"
          ],
          [
           "Comoros"
          ],
          [
           "Comoros"
          ],
          [
           "Comoros"
          ],
          [
           "Comoros"
          ],
          [
           "Comoros"
          ],
          [
           "Comoros"
          ],
          [
           "Comoros"
          ],
          [
           "Comoros"
          ],
          [
           "Comoros"
          ],
          [
           "Congo, Dem. Rep."
          ],
          [
           "Congo, Dem. Rep."
          ],
          [
           "Congo, Dem. Rep."
          ],
          [
           "Congo, Dem. Rep."
          ],
          [
           "Congo, Dem. Rep."
          ],
          [
           "Congo, Dem. Rep."
          ],
          [
           "Congo, Dem. Rep."
          ],
          [
           "Congo, Dem. Rep."
          ],
          [
           "Congo, Dem. Rep."
          ],
          [
           "Congo, Dem. Rep."
          ],
          [
           "Congo, Dem. Rep."
          ],
          [
           "Congo, Dem. Rep."
          ],
          [
           "Congo, Rep."
          ],
          [
           "Congo, Rep."
          ],
          [
           "Congo, Rep."
          ],
          [
           "Congo, Rep."
          ],
          [
           "Congo, Rep."
          ],
          [
           "Congo, Rep."
          ],
          [
           "Congo, Rep."
          ],
          [
           "Congo, Rep."
          ],
          [
           "Congo, Rep."
          ],
          [
           "Congo, Rep."
          ],
          [
           "Congo, Rep."
          ],
          [
           "Congo, Rep."
          ],
          [
           "Costa Rica"
          ],
          [
           "Costa Rica"
          ],
          [
           "Costa Rica"
          ],
          [
           "Costa Rica"
          ],
          [
           "Costa Rica"
          ],
          [
           "Costa Rica"
          ],
          [
           "Costa Rica"
          ],
          [
           "Costa Rica"
          ],
          [
           "Costa Rica"
          ],
          [
           "Costa Rica"
          ],
          [
           "Costa Rica"
          ],
          [
           "Costa Rica"
          ],
          [
           "Cote d'Ivoire"
          ],
          [
           "Cote d'Ivoire"
          ],
          [
           "Cote d'Ivoire"
          ],
          [
           "Cote d'Ivoire"
          ],
          [
           "Cote d'Ivoire"
          ],
          [
           "Cote d'Ivoire"
          ],
          [
           "Cote d'Ivoire"
          ],
          [
           "Cote d'Ivoire"
          ],
          [
           "Cote d'Ivoire"
          ],
          [
           "Cote d'Ivoire"
          ],
          [
           "Cote d'Ivoire"
          ],
          [
           "Cote d'Ivoire"
          ],
          [
           "Croatia"
          ],
          [
           "Croatia"
          ],
          [
           "Croatia"
          ],
          [
           "Croatia"
          ],
          [
           "Croatia"
          ],
          [
           "Croatia"
          ],
          [
           "Croatia"
          ],
          [
           "Croatia"
          ],
          [
           "Croatia"
          ],
          [
           "Croatia"
          ],
          [
           "Croatia"
          ],
          [
           "Croatia"
          ],
          [
           "Cuba"
          ],
          [
           "Cuba"
          ],
          [
           "Cuba"
          ],
          [
           "Cuba"
          ],
          [
           "Cuba"
          ],
          [
           "Cuba"
          ],
          [
           "Cuba"
          ],
          [
           "Cuba"
          ],
          [
           "Cuba"
          ],
          [
           "Cuba"
          ],
          [
           "Cuba"
          ],
          [
           "Cuba"
          ],
          [
           "Czech Republic"
          ],
          [
           "Czech Republic"
          ],
          [
           "Czech Republic"
          ],
          [
           "Czech Republic"
          ],
          [
           "Czech Republic"
          ],
          [
           "Czech Republic"
          ],
          [
           "Czech Republic"
          ],
          [
           "Czech Republic"
          ],
          [
           "Czech Republic"
          ],
          [
           "Czech Republic"
          ],
          [
           "Czech Republic"
          ],
          [
           "Czech Republic"
          ],
          [
           "Denmark"
          ],
          [
           "Denmark"
          ],
          [
           "Denmark"
          ],
          [
           "Denmark"
          ],
          [
           "Denmark"
          ],
          [
           "Denmark"
          ],
          [
           "Denmark"
          ],
          [
           "Denmark"
          ],
          [
           "Denmark"
          ],
          [
           "Denmark"
          ],
          [
           "Denmark"
          ],
          [
           "Denmark"
          ],
          [
           "Djibouti"
          ],
          [
           "Djibouti"
          ],
          [
           "Djibouti"
          ],
          [
           "Djibouti"
          ],
          [
           "Djibouti"
          ],
          [
           "Djibouti"
          ],
          [
           "Djibouti"
          ],
          [
           "Djibouti"
          ],
          [
           "Djibouti"
          ],
          [
           "Djibouti"
          ],
          [
           "Djibouti"
          ],
          [
           "Djibouti"
          ],
          [
           "Dominican Republic"
          ],
          [
           "Dominican Republic"
          ],
          [
           "Dominican Republic"
          ],
          [
           "Dominican Republic"
          ],
          [
           "Dominican Republic"
          ],
          [
           "Dominican Republic"
          ],
          [
           "Dominican Republic"
          ],
          [
           "Dominican Republic"
          ],
          [
           "Dominican Republic"
          ],
          [
           "Dominican Republic"
          ],
          [
           "Dominican Republic"
          ],
          [
           "Dominican Republic"
          ],
          [
           "Ecuador"
          ],
          [
           "Ecuador"
          ],
          [
           "Ecuador"
          ],
          [
           "Ecuador"
          ],
          [
           "Ecuador"
          ],
          [
           "Ecuador"
          ],
          [
           "Ecuador"
          ],
          [
           "Ecuador"
          ],
          [
           "Ecuador"
          ],
          [
           "Ecuador"
          ],
          [
           "Ecuador"
          ],
          [
           "Ecuador"
          ],
          [
           "Egypt"
          ],
          [
           "Egypt"
          ],
          [
           "Egypt"
          ],
          [
           "Egypt"
          ],
          [
           "Egypt"
          ],
          [
           "Egypt"
          ],
          [
           "Egypt"
          ],
          [
           "Egypt"
          ],
          [
           "Egypt"
          ],
          [
           "Egypt"
          ],
          [
           "Egypt"
          ],
          [
           "Egypt"
          ],
          [
           "El Salvador"
          ],
          [
           "El Salvador"
          ],
          [
           "El Salvador"
          ],
          [
           "El Salvador"
          ],
          [
           "El Salvador"
          ],
          [
           "El Salvador"
          ],
          [
           "El Salvador"
          ],
          [
           "El Salvador"
          ],
          [
           "El Salvador"
          ],
          [
           "El Salvador"
          ],
          [
           "El Salvador"
          ],
          [
           "El Salvador"
          ],
          [
           "Equatorial Guinea"
          ],
          [
           "Equatorial Guinea"
          ],
          [
           "Equatorial Guinea"
          ],
          [
           "Equatorial Guinea"
          ],
          [
           "Equatorial Guinea"
          ],
          [
           "Equatorial Guinea"
          ],
          [
           "Equatorial Guinea"
          ],
          [
           "Equatorial Guinea"
          ],
          [
           "Equatorial Guinea"
          ],
          [
           "Equatorial Guinea"
          ],
          [
           "Equatorial Guinea"
          ],
          [
           "Equatorial Guinea"
          ],
          [
           "Eritrea"
          ],
          [
           "Eritrea"
          ],
          [
           "Eritrea"
          ],
          [
           "Eritrea"
          ],
          [
           "Eritrea"
          ],
          [
           "Eritrea"
          ],
          [
           "Eritrea"
          ],
          [
           "Eritrea"
          ],
          [
           "Eritrea"
          ],
          [
           "Eritrea"
          ],
          [
           "Eritrea"
          ],
          [
           "Eritrea"
          ],
          [
           "Ethiopia"
          ],
          [
           "Ethiopia"
          ],
          [
           "Ethiopia"
          ],
          [
           "Ethiopia"
          ],
          [
           "Ethiopia"
          ],
          [
           "Ethiopia"
          ],
          [
           "Ethiopia"
          ],
          [
           "Ethiopia"
          ],
          [
           "Ethiopia"
          ],
          [
           "Ethiopia"
          ],
          [
           "Ethiopia"
          ],
          [
           "Ethiopia"
          ],
          [
           "Finland"
          ],
          [
           "Finland"
          ],
          [
           "Finland"
          ],
          [
           "Finland"
          ],
          [
           "Finland"
          ],
          [
           "Finland"
          ],
          [
           "Finland"
          ],
          [
           "Finland"
          ],
          [
           "Finland"
          ],
          [
           "Finland"
          ],
          [
           "Finland"
          ],
          [
           "Finland"
          ],
          [
           "France"
          ],
          [
           "France"
          ],
          [
           "France"
          ],
          [
           "France"
          ],
          [
           "France"
          ],
          [
           "France"
          ],
          [
           "France"
          ],
          [
           "France"
          ],
          [
           "France"
          ],
          [
           "France"
          ],
          [
           "France"
          ],
          [
           "France"
          ],
          [
           "Gabon"
          ],
          [
           "Gabon"
          ],
          [
           "Gabon"
          ],
          [
           "Gabon"
          ],
          [
           "Gabon"
          ],
          [
           "Gabon"
          ],
          [
           "Gabon"
          ],
          [
           "Gabon"
          ],
          [
           "Gabon"
          ],
          [
           "Gabon"
          ],
          [
           "Gabon"
          ],
          [
           "Gabon"
          ],
          [
           "Gambia"
          ],
          [
           "Gambia"
          ],
          [
           "Gambia"
          ],
          [
           "Gambia"
          ],
          [
           "Gambia"
          ],
          [
           "Gambia"
          ],
          [
           "Gambia"
          ],
          [
           "Gambia"
          ],
          [
           "Gambia"
          ],
          [
           "Gambia"
          ],
          [
           "Gambia"
          ],
          [
           "Gambia"
          ],
          [
           "Germany"
          ],
          [
           "Germany"
          ],
          [
           "Germany"
          ],
          [
           "Germany"
          ],
          [
           "Germany"
          ],
          [
           "Germany"
          ],
          [
           "Germany"
          ],
          [
           "Germany"
          ],
          [
           "Germany"
          ],
          [
           "Germany"
          ],
          [
           "Germany"
          ],
          [
           "Germany"
          ],
          [
           "Ghana"
          ],
          [
           "Ghana"
          ],
          [
           "Ghana"
          ],
          [
           "Ghana"
          ],
          [
           "Ghana"
          ],
          [
           "Ghana"
          ],
          [
           "Ghana"
          ],
          [
           "Ghana"
          ],
          [
           "Ghana"
          ],
          [
           "Ghana"
          ],
          [
           "Ghana"
          ],
          [
           "Ghana"
          ],
          [
           "Greece"
          ],
          [
           "Greece"
          ],
          [
           "Greece"
          ],
          [
           "Greece"
          ],
          [
           "Greece"
          ],
          [
           "Greece"
          ],
          [
           "Greece"
          ],
          [
           "Greece"
          ],
          [
           "Greece"
          ],
          [
           "Greece"
          ],
          [
           "Greece"
          ],
          [
           "Greece"
          ],
          [
           "Guatemala"
          ],
          [
           "Guatemala"
          ],
          [
           "Guatemala"
          ],
          [
           "Guatemala"
          ],
          [
           "Guatemala"
          ],
          [
           "Guatemala"
          ],
          [
           "Guatemala"
          ],
          [
           "Guatemala"
          ],
          [
           "Guatemala"
          ],
          [
           "Guatemala"
          ],
          [
           "Guatemala"
          ],
          [
           "Guatemala"
          ],
          [
           "Guinea"
          ],
          [
           "Guinea"
          ],
          [
           "Guinea"
          ],
          [
           "Guinea"
          ],
          [
           "Guinea"
          ],
          [
           "Guinea"
          ],
          [
           "Guinea"
          ],
          [
           "Guinea"
          ],
          [
           "Guinea"
          ],
          [
           "Guinea"
          ],
          [
           "Guinea"
          ],
          [
           "Guinea"
          ],
          [
           "Guinea-Bissau"
          ],
          [
           "Guinea-Bissau"
          ],
          [
           "Guinea-Bissau"
          ],
          [
           "Guinea-Bissau"
          ],
          [
           "Guinea-Bissau"
          ],
          [
           "Guinea-Bissau"
          ],
          [
           "Guinea-Bissau"
          ],
          [
           "Guinea-Bissau"
          ],
          [
           "Guinea-Bissau"
          ],
          [
           "Guinea-Bissau"
          ],
          [
           "Guinea-Bissau"
          ],
          [
           "Guinea-Bissau"
          ],
          [
           "Haiti"
          ],
          [
           "Haiti"
          ],
          [
           "Haiti"
          ],
          [
           "Haiti"
          ],
          [
           "Haiti"
          ],
          [
           "Haiti"
          ],
          [
           "Haiti"
          ],
          [
           "Haiti"
          ],
          [
           "Haiti"
          ],
          [
           "Haiti"
          ],
          [
           "Haiti"
          ],
          [
           "Haiti"
          ],
          [
           "Honduras"
          ],
          [
           "Honduras"
          ],
          [
           "Honduras"
          ],
          [
           "Honduras"
          ],
          [
           "Honduras"
          ],
          [
           "Honduras"
          ],
          [
           "Honduras"
          ],
          [
           "Honduras"
          ],
          [
           "Honduras"
          ],
          [
           "Honduras"
          ],
          [
           "Honduras"
          ],
          [
           "Honduras"
          ],
          [
           "Hong Kong, China"
          ],
          [
           "Hong Kong, China"
          ],
          [
           "Hong Kong, China"
          ],
          [
           "Hong Kong, China"
          ],
          [
           "Hong Kong, China"
          ],
          [
           "Hong Kong, China"
          ],
          [
           "Hong Kong, China"
          ],
          [
           "Hong Kong, China"
          ],
          [
           "Hong Kong, China"
          ],
          [
           "Hong Kong, China"
          ],
          [
           "Hong Kong, China"
          ],
          [
           "Hong Kong, China"
          ],
          [
           "Hungary"
          ],
          [
           "Hungary"
          ],
          [
           "Hungary"
          ],
          [
           "Hungary"
          ],
          [
           "Hungary"
          ],
          [
           "Hungary"
          ],
          [
           "Hungary"
          ],
          [
           "Hungary"
          ],
          [
           "Hungary"
          ],
          [
           "Hungary"
          ],
          [
           "Hungary"
          ],
          [
           "Hungary"
          ],
          [
           "Iceland"
          ],
          [
           "Iceland"
          ],
          [
           "Iceland"
          ],
          [
           "Iceland"
          ],
          [
           "Iceland"
          ],
          [
           "Iceland"
          ],
          [
           "Iceland"
          ],
          [
           "Iceland"
          ],
          [
           "Iceland"
          ],
          [
           "Iceland"
          ],
          [
           "Iceland"
          ],
          [
           "Iceland"
          ],
          [
           "India"
          ],
          [
           "India"
          ],
          [
           "India"
          ],
          [
           "India"
          ],
          [
           "India"
          ],
          [
           "India"
          ],
          [
           "India"
          ],
          [
           "India"
          ],
          [
           "India"
          ],
          [
           "India"
          ],
          [
           "India"
          ],
          [
           "India"
          ],
          [
           "Indonesia"
          ],
          [
           "Indonesia"
          ],
          [
           "Indonesia"
          ],
          [
           "Indonesia"
          ],
          [
           "Indonesia"
          ],
          [
           "Indonesia"
          ],
          [
           "Indonesia"
          ],
          [
           "Indonesia"
          ],
          [
           "Indonesia"
          ],
          [
           "Indonesia"
          ],
          [
           "Indonesia"
          ],
          [
           "Indonesia"
          ],
          [
           "Iran"
          ],
          [
           "Iran"
          ],
          [
           "Iran"
          ],
          [
           "Iran"
          ],
          [
           "Iran"
          ],
          [
           "Iran"
          ],
          [
           "Iran"
          ],
          [
           "Iran"
          ],
          [
           "Iran"
          ],
          [
           "Iran"
          ],
          [
           "Iran"
          ],
          [
           "Iran"
          ],
          [
           "Iraq"
          ],
          [
           "Iraq"
          ],
          [
           "Iraq"
          ],
          [
           "Iraq"
          ],
          [
           "Iraq"
          ],
          [
           "Iraq"
          ],
          [
           "Iraq"
          ],
          [
           "Iraq"
          ],
          [
           "Iraq"
          ],
          [
           "Iraq"
          ],
          [
           "Iraq"
          ],
          [
           "Iraq"
          ],
          [
           "Ireland"
          ],
          [
           "Ireland"
          ],
          [
           "Ireland"
          ],
          [
           "Ireland"
          ],
          [
           "Ireland"
          ],
          [
           "Ireland"
          ],
          [
           "Ireland"
          ],
          [
           "Ireland"
          ],
          [
           "Ireland"
          ],
          [
           "Ireland"
          ],
          [
           "Ireland"
          ],
          [
           "Ireland"
          ],
          [
           "Israel"
          ],
          [
           "Israel"
          ],
          [
           "Israel"
          ],
          [
           "Israel"
          ],
          [
           "Israel"
          ],
          [
           "Israel"
          ],
          [
           "Israel"
          ],
          [
           "Israel"
          ],
          [
           "Israel"
          ],
          [
           "Israel"
          ],
          [
           "Israel"
          ],
          [
           "Israel"
          ],
          [
           "Italy"
          ],
          [
           "Italy"
          ],
          [
           "Italy"
          ],
          [
           "Italy"
          ],
          [
           "Italy"
          ],
          [
           "Italy"
          ],
          [
           "Italy"
          ],
          [
           "Italy"
          ],
          [
           "Italy"
          ],
          [
           "Italy"
          ],
          [
           "Italy"
          ],
          [
           "Italy"
          ],
          [
           "Jamaica"
          ],
          [
           "Jamaica"
          ],
          [
           "Jamaica"
          ],
          [
           "Jamaica"
          ],
          [
           "Jamaica"
          ],
          [
           "Jamaica"
          ],
          [
           "Jamaica"
          ],
          [
           "Jamaica"
          ],
          [
           "Jamaica"
          ],
          [
           "Jamaica"
          ],
          [
           "Jamaica"
          ],
          [
           "Jamaica"
          ],
          [
           "Japan"
          ],
          [
           "Japan"
          ],
          [
           "Japan"
          ],
          [
           "Japan"
          ],
          [
           "Japan"
          ],
          [
           "Japan"
          ],
          [
           "Japan"
          ],
          [
           "Japan"
          ],
          [
           "Japan"
          ],
          [
           "Japan"
          ],
          [
           "Japan"
          ],
          [
           "Japan"
          ],
          [
           "Jordan"
          ],
          [
           "Jordan"
          ],
          [
           "Jordan"
          ],
          [
           "Jordan"
          ],
          [
           "Jordan"
          ],
          [
           "Jordan"
          ],
          [
           "Jordan"
          ],
          [
           "Jordan"
          ],
          [
           "Jordan"
          ],
          [
           "Jordan"
          ],
          [
           "Jordan"
          ],
          [
           "Jordan"
          ],
          [
           "Kenya"
          ],
          [
           "Kenya"
          ],
          [
           "Kenya"
          ],
          [
           "Kenya"
          ],
          [
           "Kenya"
          ],
          [
           "Kenya"
          ],
          [
           "Kenya"
          ],
          [
           "Kenya"
          ],
          [
           "Kenya"
          ],
          [
           "Kenya"
          ],
          [
           "Kenya"
          ],
          [
           "Kenya"
          ],
          [
           "Korea, Dem. Rep."
          ],
          [
           "Korea, Dem. Rep."
          ],
          [
           "Korea, Dem. Rep."
          ],
          [
           "Korea, Dem. Rep."
          ],
          [
           "Korea, Dem. Rep."
          ],
          [
           "Korea, Dem. Rep."
          ],
          [
           "Korea, Dem. Rep."
          ],
          [
           "Korea, Dem. Rep."
          ],
          [
           "Korea, Dem. Rep."
          ],
          [
           "Korea, Dem. Rep."
          ],
          [
           "Korea, Dem. Rep."
          ],
          [
           "Korea, Dem. Rep."
          ],
          [
           "Korea, Rep."
          ],
          [
           "Korea, Rep."
          ],
          [
           "Korea, Rep."
          ],
          [
           "Korea, Rep."
          ],
          [
           "Korea, Rep."
          ],
          [
           "Korea, Rep."
          ],
          [
           "Korea, Rep."
          ],
          [
           "Korea, Rep."
          ],
          [
           "Korea, Rep."
          ],
          [
           "Korea, Rep."
          ],
          [
           "Korea, Rep."
          ],
          [
           "Korea, Rep."
          ],
          [
           "Kuwait"
          ],
          [
           "Kuwait"
          ],
          [
           "Kuwait"
          ],
          [
           "Kuwait"
          ],
          [
           "Kuwait"
          ],
          [
           "Kuwait"
          ],
          [
           "Kuwait"
          ],
          [
           "Kuwait"
          ],
          [
           "Kuwait"
          ],
          [
           "Kuwait"
          ],
          [
           "Kuwait"
          ],
          [
           "Kuwait"
          ],
          [
           "Lebanon"
          ],
          [
           "Lebanon"
          ],
          [
           "Lebanon"
          ],
          [
           "Lebanon"
          ],
          [
           "Lebanon"
          ],
          [
           "Lebanon"
          ],
          [
           "Lebanon"
          ],
          [
           "Lebanon"
          ],
          [
           "Lebanon"
          ],
          [
           "Lebanon"
          ],
          [
           "Lebanon"
          ],
          [
           "Lebanon"
          ],
          [
           "Lesotho"
          ],
          [
           "Lesotho"
          ],
          [
           "Lesotho"
          ],
          [
           "Lesotho"
          ],
          [
           "Lesotho"
          ],
          [
           "Lesotho"
          ],
          [
           "Lesotho"
          ],
          [
           "Lesotho"
          ],
          [
           "Lesotho"
          ],
          [
           "Lesotho"
          ],
          [
           "Lesotho"
          ],
          [
           "Lesotho"
          ],
          [
           "Liberia"
          ],
          [
           "Liberia"
          ],
          [
           "Liberia"
          ],
          [
           "Liberia"
          ],
          [
           "Liberia"
          ],
          [
           "Liberia"
          ],
          [
           "Liberia"
          ],
          [
           "Liberia"
          ],
          [
           "Liberia"
          ],
          [
           "Liberia"
          ],
          [
           "Liberia"
          ],
          [
           "Liberia"
          ],
          [
           "Libya"
          ],
          [
           "Libya"
          ],
          [
           "Libya"
          ],
          [
           "Libya"
          ],
          [
           "Libya"
          ],
          [
           "Libya"
          ],
          [
           "Libya"
          ],
          [
           "Libya"
          ],
          [
           "Libya"
          ],
          [
           "Libya"
          ],
          [
           "Libya"
          ],
          [
           "Libya"
          ],
          [
           "Madagascar"
          ],
          [
           "Madagascar"
          ],
          [
           "Madagascar"
          ],
          [
           "Madagascar"
          ],
          [
           "Madagascar"
          ],
          [
           "Madagascar"
          ],
          [
           "Madagascar"
          ],
          [
           "Madagascar"
          ],
          [
           "Madagascar"
          ],
          [
           "Madagascar"
          ],
          [
           "Madagascar"
          ],
          [
           "Madagascar"
          ],
          [
           "Malawi"
          ],
          [
           "Malawi"
          ],
          [
           "Malawi"
          ],
          [
           "Malawi"
          ],
          [
           "Malawi"
          ],
          [
           "Malawi"
          ],
          [
           "Malawi"
          ],
          [
           "Malawi"
          ],
          [
           "Malawi"
          ],
          [
           "Malawi"
          ],
          [
           "Malawi"
          ],
          [
           "Malawi"
          ],
          [
           "Malaysia"
          ],
          [
           "Malaysia"
          ],
          [
           "Malaysia"
          ],
          [
           "Malaysia"
          ],
          [
           "Malaysia"
          ],
          [
           "Malaysia"
          ],
          [
           "Malaysia"
          ],
          [
           "Malaysia"
          ],
          [
           "Malaysia"
          ],
          [
           "Malaysia"
          ],
          [
           "Malaysia"
          ],
          [
           "Malaysia"
          ],
          [
           "Mali"
          ],
          [
           "Mali"
          ],
          [
           "Mali"
          ],
          [
           "Mali"
          ],
          [
           "Mali"
          ],
          [
           "Mali"
          ],
          [
           "Mali"
          ],
          [
           "Mali"
          ],
          [
           "Mali"
          ],
          [
           "Mali"
          ],
          [
           "Mali"
          ],
          [
           "Mali"
          ],
          [
           "Mauritania"
          ],
          [
           "Mauritania"
          ],
          [
           "Mauritania"
          ],
          [
           "Mauritania"
          ],
          [
           "Mauritania"
          ],
          [
           "Mauritania"
          ],
          [
           "Mauritania"
          ],
          [
           "Mauritania"
          ],
          [
           "Mauritania"
          ],
          [
           "Mauritania"
          ],
          [
           "Mauritania"
          ],
          [
           "Mauritania"
          ],
          [
           "Mauritius"
          ],
          [
           "Mauritius"
          ],
          [
           "Mauritius"
          ],
          [
           "Mauritius"
          ],
          [
           "Mauritius"
          ],
          [
           "Mauritius"
          ],
          [
           "Mauritius"
          ],
          [
           "Mauritius"
          ],
          [
           "Mauritius"
          ],
          [
           "Mauritius"
          ],
          [
           "Mauritius"
          ],
          [
           "Mauritius"
          ],
          [
           "Mexico"
          ],
          [
           "Mexico"
          ],
          [
           "Mexico"
          ],
          [
           "Mexico"
          ],
          [
           "Mexico"
          ],
          [
           "Mexico"
          ],
          [
           "Mexico"
          ],
          [
           "Mexico"
          ],
          [
           "Mexico"
          ],
          [
           "Mexico"
          ],
          [
           "Mexico"
          ],
          [
           "Mexico"
          ],
          [
           "Mongolia"
          ],
          [
           "Mongolia"
          ],
          [
           "Mongolia"
          ],
          [
           "Mongolia"
          ],
          [
           "Mongolia"
          ],
          [
           "Mongolia"
          ],
          [
           "Mongolia"
          ],
          [
           "Mongolia"
          ],
          [
           "Mongolia"
          ],
          [
           "Mongolia"
          ],
          [
           "Mongolia"
          ],
          [
           "Mongolia"
          ],
          [
           "Montenegro"
          ],
          [
           "Montenegro"
          ],
          [
           "Montenegro"
          ],
          [
           "Montenegro"
          ],
          [
           "Montenegro"
          ],
          [
           "Montenegro"
          ],
          [
           "Montenegro"
          ],
          [
           "Montenegro"
          ],
          [
           "Montenegro"
          ],
          [
           "Montenegro"
          ],
          [
           "Montenegro"
          ],
          [
           "Montenegro"
          ],
          [
           "Morocco"
          ],
          [
           "Morocco"
          ],
          [
           "Morocco"
          ],
          [
           "Morocco"
          ],
          [
           "Morocco"
          ],
          [
           "Morocco"
          ],
          [
           "Morocco"
          ],
          [
           "Morocco"
          ],
          [
           "Morocco"
          ],
          [
           "Morocco"
          ],
          [
           "Morocco"
          ],
          [
           "Morocco"
          ],
          [
           "Mozambique"
          ],
          [
           "Mozambique"
          ],
          [
           "Mozambique"
          ],
          [
           "Mozambique"
          ],
          [
           "Mozambique"
          ],
          [
           "Mozambique"
          ],
          [
           "Mozambique"
          ],
          [
           "Mozambique"
          ],
          [
           "Mozambique"
          ],
          [
           "Mozambique"
          ],
          [
           "Mozambique"
          ],
          [
           "Mozambique"
          ],
          [
           "Myanmar"
          ],
          [
           "Myanmar"
          ],
          [
           "Myanmar"
          ],
          [
           "Myanmar"
          ],
          [
           "Myanmar"
          ],
          [
           "Myanmar"
          ],
          [
           "Myanmar"
          ],
          [
           "Myanmar"
          ],
          [
           "Myanmar"
          ],
          [
           "Myanmar"
          ],
          [
           "Myanmar"
          ],
          [
           "Myanmar"
          ],
          [
           "Namibia"
          ],
          [
           "Namibia"
          ],
          [
           "Namibia"
          ],
          [
           "Namibia"
          ],
          [
           "Namibia"
          ],
          [
           "Namibia"
          ],
          [
           "Namibia"
          ],
          [
           "Namibia"
          ],
          [
           "Namibia"
          ],
          [
           "Namibia"
          ],
          [
           "Namibia"
          ],
          [
           "Namibia"
          ],
          [
           "Nepal"
          ],
          [
           "Nepal"
          ],
          [
           "Nepal"
          ],
          [
           "Nepal"
          ],
          [
           "Nepal"
          ],
          [
           "Nepal"
          ],
          [
           "Nepal"
          ],
          [
           "Nepal"
          ],
          [
           "Nepal"
          ],
          [
           "Nepal"
          ],
          [
           "Nepal"
          ],
          [
           "Nepal"
          ],
          [
           "Netherlands"
          ],
          [
           "Netherlands"
          ],
          [
           "Netherlands"
          ],
          [
           "Netherlands"
          ],
          [
           "Netherlands"
          ],
          [
           "Netherlands"
          ],
          [
           "Netherlands"
          ],
          [
           "Netherlands"
          ],
          [
           "Netherlands"
          ],
          [
           "Netherlands"
          ],
          [
           "Netherlands"
          ],
          [
           "Netherlands"
          ],
          [
           "New Zealand"
          ],
          [
           "New Zealand"
          ],
          [
           "New Zealand"
          ],
          [
           "New Zealand"
          ],
          [
           "New Zealand"
          ],
          [
           "New Zealand"
          ],
          [
           "New Zealand"
          ],
          [
           "New Zealand"
          ],
          [
           "New Zealand"
          ],
          [
           "New Zealand"
          ],
          [
           "New Zealand"
          ],
          [
           "New Zealand"
          ],
          [
           "Nicaragua"
          ],
          [
           "Nicaragua"
          ],
          [
           "Nicaragua"
          ],
          [
           "Nicaragua"
          ],
          [
           "Nicaragua"
          ],
          [
           "Nicaragua"
          ],
          [
           "Nicaragua"
          ],
          [
           "Nicaragua"
          ],
          [
           "Nicaragua"
          ],
          [
           "Nicaragua"
          ],
          [
           "Nicaragua"
          ],
          [
           "Nicaragua"
          ],
          [
           "Niger"
          ],
          [
           "Niger"
          ],
          [
           "Niger"
          ],
          [
           "Niger"
          ],
          [
           "Niger"
          ],
          [
           "Niger"
          ],
          [
           "Niger"
          ],
          [
           "Niger"
          ],
          [
           "Niger"
          ],
          [
           "Niger"
          ],
          [
           "Niger"
          ],
          [
           "Niger"
          ],
          [
           "Nigeria"
          ],
          [
           "Nigeria"
          ],
          [
           "Nigeria"
          ],
          [
           "Nigeria"
          ],
          [
           "Nigeria"
          ],
          [
           "Nigeria"
          ],
          [
           "Nigeria"
          ],
          [
           "Nigeria"
          ],
          [
           "Nigeria"
          ],
          [
           "Nigeria"
          ],
          [
           "Nigeria"
          ],
          [
           "Nigeria"
          ],
          [
           "Norway"
          ],
          [
           "Norway"
          ],
          [
           "Norway"
          ],
          [
           "Norway"
          ],
          [
           "Norway"
          ],
          [
           "Norway"
          ],
          [
           "Norway"
          ],
          [
           "Norway"
          ],
          [
           "Norway"
          ],
          [
           "Norway"
          ],
          [
           "Norway"
          ],
          [
           "Norway"
          ],
          [
           "Oman"
          ],
          [
           "Oman"
          ],
          [
           "Oman"
          ],
          [
           "Oman"
          ],
          [
           "Oman"
          ],
          [
           "Oman"
          ],
          [
           "Oman"
          ],
          [
           "Oman"
          ],
          [
           "Oman"
          ],
          [
           "Oman"
          ],
          [
           "Oman"
          ],
          [
           "Oman"
          ],
          [
           "Pakistan"
          ],
          [
           "Pakistan"
          ],
          [
           "Pakistan"
          ],
          [
           "Pakistan"
          ],
          [
           "Pakistan"
          ],
          [
           "Pakistan"
          ],
          [
           "Pakistan"
          ],
          [
           "Pakistan"
          ],
          [
           "Pakistan"
          ],
          [
           "Pakistan"
          ],
          [
           "Pakistan"
          ],
          [
           "Pakistan"
          ],
          [
           "Panama"
          ],
          [
           "Panama"
          ],
          [
           "Panama"
          ],
          [
           "Panama"
          ],
          [
           "Panama"
          ],
          [
           "Panama"
          ],
          [
           "Panama"
          ],
          [
           "Panama"
          ],
          [
           "Panama"
          ],
          [
           "Panama"
          ],
          [
           "Panama"
          ],
          [
           "Panama"
          ],
          [
           "Paraguay"
          ],
          [
           "Paraguay"
          ],
          [
           "Paraguay"
          ],
          [
           "Paraguay"
          ],
          [
           "Paraguay"
          ],
          [
           "Paraguay"
          ],
          [
           "Paraguay"
          ],
          [
           "Paraguay"
          ],
          [
           "Paraguay"
          ],
          [
           "Paraguay"
          ],
          [
           "Paraguay"
          ],
          [
           "Paraguay"
          ],
          [
           "Peru"
          ],
          [
           "Peru"
          ],
          [
           "Peru"
          ],
          [
           "Peru"
          ],
          [
           "Peru"
          ],
          [
           "Peru"
          ],
          [
           "Peru"
          ],
          [
           "Peru"
          ],
          [
           "Peru"
          ],
          [
           "Peru"
          ],
          [
           "Peru"
          ],
          [
           "Peru"
          ],
          [
           "Philippines"
          ],
          [
           "Philippines"
          ],
          [
           "Philippines"
          ],
          [
           "Philippines"
          ],
          [
           "Philippines"
          ],
          [
           "Philippines"
          ],
          [
           "Philippines"
          ],
          [
           "Philippines"
          ],
          [
           "Philippines"
          ],
          [
           "Philippines"
          ],
          [
           "Philippines"
          ],
          [
           "Philippines"
          ],
          [
           "Poland"
          ],
          [
           "Poland"
          ],
          [
           "Poland"
          ],
          [
           "Poland"
          ],
          [
           "Poland"
          ],
          [
           "Poland"
          ],
          [
           "Poland"
          ],
          [
           "Poland"
          ],
          [
           "Poland"
          ],
          [
           "Poland"
          ],
          [
           "Poland"
          ],
          [
           "Poland"
          ],
          [
           "Portugal"
          ],
          [
           "Portugal"
          ],
          [
           "Portugal"
          ],
          [
           "Portugal"
          ],
          [
           "Portugal"
          ],
          [
           "Portugal"
          ],
          [
           "Portugal"
          ],
          [
           "Portugal"
          ],
          [
           "Portugal"
          ],
          [
           "Portugal"
          ],
          [
           "Portugal"
          ],
          [
           "Portugal"
          ],
          [
           "Puerto Rico"
          ],
          [
           "Puerto Rico"
          ],
          [
           "Puerto Rico"
          ],
          [
           "Puerto Rico"
          ],
          [
           "Puerto Rico"
          ],
          [
           "Puerto Rico"
          ],
          [
           "Puerto Rico"
          ],
          [
           "Puerto Rico"
          ],
          [
           "Puerto Rico"
          ],
          [
           "Puerto Rico"
          ],
          [
           "Puerto Rico"
          ],
          [
           "Puerto Rico"
          ],
          [
           "Reunion"
          ],
          [
           "Reunion"
          ],
          [
           "Reunion"
          ],
          [
           "Reunion"
          ],
          [
           "Reunion"
          ],
          [
           "Reunion"
          ],
          [
           "Reunion"
          ],
          [
           "Reunion"
          ],
          [
           "Reunion"
          ],
          [
           "Reunion"
          ],
          [
           "Reunion"
          ],
          [
           "Reunion"
          ],
          [
           "Romania"
          ],
          [
           "Romania"
          ],
          [
           "Romania"
          ],
          [
           "Romania"
          ],
          [
           "Romania"
          ],
          [
           "Romania"
          ],
          [
           "Romania"
          ],
          [
           "Romania"
          ],
          [
           "Romania"
          ],
          [
           "Romania"
          ],
          [
           "Romania"
          ],
          [
           "Romania"
          ],
          [
           "Rwanda"
          ],
          [
           "Rwanda"
          ],
          [
           "Rwanda"
          ],
          [
           "Rwanda"
          ],
          [
           "Rwanda"
          ],
          [
           "Rwanda"
          ],
          [
           "Rwanda"
          ],
          [
           "Rwanda"
          ],
          [
           "Rwanda"
          ],
          [
           "Rwanda"
          ],
          [
           "Rwanda"
          ],
          [
           "Rwanda"
          ],
          [
           "Sao Tome and Principe"
          ],
          [
           "Sao Tome and Principe"
          ],
          [
           "Sao Tome and Principe"
          ],
          [
           "Sao Tome and Principe"
          ],
          [
           "Sao Tome and Principe"
          ],
          [
           "Sao Tome and Principe"
          ],
          [
           "Sao Tome and Principe"
          ],
          [
           "Sao Tome and Principe"
          ],
          [
           "Sao Tome and Principe"
          ],
          [
           "Sao Tome and Principe"
          ],
          [
           "Sao Tome and Principe"
          ],
          [
           "Sao Tome and Principe"
          ],
          [
           "Saudi Arabia"
          ],
          [
           "Saudi Arabia"
          ],
          [
           "Saudi Arabia"
          ],
          [
           "Saudi Arabia"
          ],
          [
           "Saudi Arabia"
          ],
          [
           "Saudi Arabia"
          ],
          [
           "Saudi Arabia"
          ],
          [
           "Saudi Arabia"
          ],
          [
           "Saudi Arabia"
          ],
          [
           "Saudi Arabia"
          ],
          [
           "Saudi Arabia"
          ],
          [
           "Saudi Arabia"
          ],
          [
           "Senegal"
          ],
          [
           "Senegal"
          ],
          [
           "Senegal"
          ],
          [
           "Senegal"
          ],
          [
           "Senegal"
          ],
          [
           "Senegal"
          ],
          [
           "Senegal"
          ],
          [
           "Senegal"
          ],
          [
           "Senegal"
          ],
          [
           "Senegal"
          ],
          [
           "Senegal"
          ],
          [
           "Senegal"
          ],
          [
           "Serbia"
          ],
          [
           "Serbia"
          ],
          [
           "Serbia"
          ],
          [
           "Serbia"
          ],
          [
           "Serbia"
          ],
          [
           "Serbia"
          ],
          [
           "Serbia"
          ],
          [
           "Serbia"
          ],
          [
           "Serbia"
          ],
          [
           "Serbia"
          ],
          [
           "Serbia"
          ],
          [
           "Serbia"
          ],
          [
           "Sierra Leone"
          ],
          [
           "Sierra Leone"
          ],
          [
           "Sierra Leone"
          ],
          [
           "Sierra Leone"
          ],
          [
           "Sierra Leone"
          ],
          [
           "Sierra Leone"
          ],
          [
           "Sierra Leone"
          ],
          [
           "Sierra Leone"
          ],
          [
           "Sierra Leone"
          ],
          [
           "Sierra Leone"
          ],
          [
           "Sierra Leone"
          ],
          [
           "Sierra Leone"
          ],
          [
           "Singapore"
          ],
          [
           "Singapore"
          ],
          [
           "Singapore"
          ],
          [
           "Singapore"
          ],
          [
           "Singapore"
          ],
          [
           "Singapore"
          ],
          [
           "Singapore"
          ],
          [
           "Singapore"
          ],
          [
           "Singapore"
          ],
          [
           "Singapore"
          ],
          [
           "Singapore"
          ],
          [
           "Singapore"
          ],
          [
           "Slovak Republic"
          ],
          [
           "Slovak Republic"
          ],
          [
           "Slovak Republic"
          ],
          [
           "Slovak Republic"
          ],
          [
           "Slovak Republic"
          ],
          [
           "Slovak Republic"
          ],
          [
           "Slovak Republic"
          ],
          [
           "Slovak Republic"
          ],
          [
           "Slovak Republic"
          ],
          [
           "Slovak Republic"
          ],
          [
           "Slovak Republic"
          ],
          [
           "Slovak Republic"
          ],
          [
           "Slovenia"
          ],
          [
           "Slovenia"
          ],
          [
           "Slovenia"
          ],
          [
           "Slovenia"
          ],
          [
           "Slovenia"
          ],
          [
           "Slovenia"
          ],
          [
           "Slovenia"
          ],
          [
           "Slovenia"
          ],
          [
           "Slovenia"
          ],
          [
           "Slovenia"
          ],
          [
           "Slovenia"
          ],
          [
           "Slovenia"
          ],
          [
           "Somalia"
          ],
          [
           "Somalia"
          ],
          [
           "Somalia"
          ],
          [
           "Somalia"
          ],
          [
           "Somalia"
          ],
          [
           "Somalia"
          ],
          [
           "Somalia"
          ],
          [
           "Somalia"
          ],
          [
           "Somalia"
          ],
          [
           "Somalia"
          ],
          [
           "Somalia"
          ],
          [
           "Somalia"
          ],
          [
           "South Africa"
          ],
          [
           "South Africa"
          ],
          [
           "South Africa"
          ],
          [
           "South Africa"
          ],
          [
           "South Africa"
          ],
          [
           "South Africa"
          ],
          [
           "South Africa"
          ],
          [
           "South Africa"
          ],
          [
           "South Africa"
          ],
          [
           "South Africa"
          ],
          [
           "South Africa"
          ],
          [
           "South Africa"
          ],
          [
           "Spain"
          ],
          [
           "Spain"
          ],
          [
           "Spain"
          ],
          [
           "Spain"
          ],
          [
           "Spain"
          ],
          [
           "Spain"
          ],
          [
           "Spain"
          ],
          [
           "Spain"
          ],
          [
           "Spain"
          ],
          [
           "Spain"
          ],
          [
           "Spain"
          ],
          [
           "Spain"
          ],
          [
           "Sri Lanka"
          ],
          [
           "Sri Lanka"
          ],
          [
           "Sri Lanka"
          ],
          [
           "Sri Lanka"
          ],
          [
           "Sri Lanka"
          ],
          [
           "Sri Lanka"
          ],
          [
           "Sri Lanka"
          ],
          [
           "Sri Lanka"
          ],
          [
           "Sri Lanka"
          ],
          [
           "Sri Lanka"
          ],
          [
           "Sri Lanka"
          ],
          [
           "Sri Lanka"
          ],
          [
           "Sudan"
          ],
          [
           "Sudan"
          ],
          [
           "Sudan"
          ],
          [
           "Sudan"
          ],
          [
           "Sudan"
          ],
          [
           "Sudan"
          ],
          [
           "Sudan"
          ],
          [
           "Sudan"
          ],
          [
           "Sudan"
          ],
          [
           "Sudan"
          ],
          [
           "Sudan"
          ],
          [
           "Sudan"
          ],
          [
           "Swaziland"
          ],
          [
           "Swaziland"
          ],
          [
           "Swaziland"
          ],
          [
           "Swaziland"
          ],
          [
           "Swaziland"
          ],
          [
           "Swaziland"
          ],
          [
           "Swaziland"
          ],
          [
           "Swaziland"
          ],
          [
           "Swaziland"
          ],
          [
           "Swaziland"
          ],
          [
           "Swaziland"
          ],
          [
           "Swaziland"
          ],
          [
           "Sweden"
          ],
          [
           "Sweden"
          ],
          [
           "Sweden"
          ],
          [
           "Sweden"
          ],
          [
           "Sweden"
          ],
          [
           "Sweden"
          ],
          [
           "Sweden"
          ],
          [
           "Sweden"
          ],
          [
           "Sweden"
          ],
          [
           "Sweden"
          ],
          [
           "Sweden"
          ],
          [
           "Sweden"
          ],
          [
           "Switzerland"
          ],
          [
           "Switzerland"
          ],
          [
           "Switzerland"
          ],
          [
           "Switzerland"
          ],
          [
           "Switzerland"
          ],
          [
           "Switzerland"
          ],
          [
           "Switzerland"
          ],
          [
           "Switzerland"
          ],
          [
           "Switzerland"
          ],
          [
           "Switzerland"
          ],
          [
           "Switzerland"
          ],
          [
           "Switzerland"
          ],
          [
           "Syria"
          ],
          [
           "Syria"
          ],
          [
           "Syria"
          ],
          [
           "Syria"
          ],
          [
           "Syria"
          ],
          [
           "Syria"
          ],
          [
           "Syria"
          ],
          [
           "Syria"
          ],
          [
           "Syria"
          ],
          [
           "Syria"
          ],
          [
           "Syria"
          ],
          [
           "Syria"
          ],
          [
           "Taiwan"
          ],
          [
           "Taiwan"
          ],
          [
           "Taiwan"
          ],
          [
           "Taiwan"
          ],
          [
           "Taiwan"
          ],
          [
           "Taiwan"
          ],
          [
           "Taiwan"
          ],
          [
           "Taiwan"
          ],
          [
           "Taiwan"
          ],
          [
           "Taiwan"
          ],
          [
           "Taiwan"
          ],
          [
           "Taiwan"
          ],
          [
           "Tanzania"
          ],
          [
           "Tanzania"
          ],
          [
           "Tanzania"
          ],
          [
           "Tanzania"
          ],
          [
           "Tanzania"
          ],
          [
           "Tanzania"
          ],
          [
           "Tanzania"
          ],
          [
           "Tanzania"
          ],
          [
           "Tanzania"
          ],
          [
           "Tanzania"
          ],
          [
           "Tanzania"
          ],
          [
           "Tanzania"
          ],
          [
           "Thailand"
          ],
          [
           "Thailand"
          ],
          [
           "Thailand"
          ],
          [
           "Thailand"
          ],
          [
           "Thailand"
          ],
          [
           "Thailand"
          ],
          [
           "Thailand"
          ],
          [
           "Thailand"
          ],
          [
           "Thailand"
          ],
          [
           "Thailand"
          ],
          [
           "Thailand"
          ],
          [
           "Thailand"
          ],
          [
           "Togo"
          ],
          [
           "Togo"
          ],
          [
           "Togo"
          ],
          [
           "Togo"
          ],
          [
           "Togo"
          ],
          [
           "Togo"
          ],
          [
           "Togo"
          ],
          [
           "Togo"
          ],
          [
           "Togo"
          ],
          [
           "Togo"
          ],
          [
           "Togo"
          ],
          [
           "Togo"
          ],
          [
           "Trinidad and Tobago"
          ],
          [
           "Trinidad and Tobago"
          ],
          [
           "Trinidad and Tobago"
          ],
          [
           "Trinidad and Tobago"
          ],
          [
           "Trinidad and Tobago"
          ],
          [
           "Trinidad and Tobago"
          ],
          [
           "Trinidad and Tobago"
          ],
          [
           "Trinidad and Tobago"
          ],
          [
           "Trinidad and Tobago"
          ],
          [
           "Trinidad and Tobago"
          ],
          [
           "Trinidad and Tobago"
          ],
          [
           "Trinidad and Tobago"
          ],
          [
           "Tunisia"
          ],
          [
           "Tunisia"
          ],
          [
           "Tunisia"
          ],
          [
           "Tunisia"
          ],
          [
           "Tunisia"
          ],
          [
           "Tunisia"
          ],
          [
           "Tunisia"
          ],
          [
           "Tunisia"
          ],
          [
           "Tunisia"
          ],
          [
           "Tunisia"
          ],
          [
           "Tunisia"
          ],
          [
           "Tunisia"
          ],
          [
           "Turkey"
          ],
          [
           "Turkey"
          ],
          [
           "Turkey"
          ],
          [
           "Turkey"
          ],
          [
           "Turkey"
          ],
          [
           "Turkey"
          ],
          [
           "Turkey"
          ],
          [
           "Turkey"
          ],
          [
           "Turkey"
          ],
          [
           "Turkey"
          ],
          [
           "Turkey"
          ],
          [
           "Turkey"
          ],
          [
           "Uganda"
          ],
          [
           "Uganda"
          ],
          [
           "Uganda"
          ],
          [
           "Uganda"
          ],
          [
           "Uganda"
          ],
          [
           "Uganda"
          ],
          [
           "Uganda"
          ],
          [
           "Uganda"
          ],
          [
           "Uganda"
          ],
          [
           "Uganda"
          ],
          [
           "Uganda"
          ],
          [
           "Uganda"
          ],
          [
           "United Kingdom"
          ],
          [
           "United Kingdom"
          ],
          [
           "United Kingdom"
          ],
          [
           "United Kingdom"
          ],
          [
           "United Kingdom"
          ],
          [
           "United Kingdom"
          ],
          [
           "United Kingdom"
          ],
          [
           "United Kingdom"
          ],
          [
           "United Kingdom"
          ],
          [
           "United Kingdom"
          ],
          [
           "United Kingdom"
          ],
          [
           "United Kingdom"
          ],
          [
           "United States"
          ],
          [
           "United States"
          ],
          [
           "United States"
          ],
          [
           "United States"
          ],
          [
           "United States"
          ],
          [
           "United States"
          ],
          [
           "United States"
          ],
          [
           "United States"
          ],
          [
           "United States"
          ],
          [
           "United States"
          ],
          [
           "United States"
          ],
          [
           "United States"
          ],
          [
           "Uruguay"
          ],
          [
           "Uruguay"
          ],
          [
           "Uruguay"
          ],
          [
           "Uruguay"
          ],
          [
           "Uruguay"
          ],
          [
           "Uruguay"
          ],
          [
           "Uruguay"
          ],
          [
           "Uruguay"
          ],
          [
           "Uruguay"
          ],
          [
           "Uruguay"
          ],
          [
           "Uruguay"
          ],
          [
           "Uruguay"
          ],
          [
           "Venezuela"
          ],
          [
           "Venezuela"
          ],
          [
           "Venezuela"
          ],
          [
           "Venezuela"
          ],
          [
           "Venezuela"
          ],
          [
           "Venezuela"
          ],
          [
           "Venezuela"
          ],
          [
           "Venezuela"
          ],
          [
           "Venezuela"
          ],
          [
           "Venezuela"
          ],
          [
           "Venezuela"
          ],
          [
           "Venezuela"
          ],
          [
           "Vietnam"
          ],
          [
           "Vietnam"
          ],
          [
           "Vietnam"
          ],
          [
           "Vietnam"
          ],
          [
           "Vietnam"
          ],
          [
           "Vietnam"
          ],
          [
           "Vietnam"
          ],
          [
           "Vietnam"
          ],
          [
           "Vietnam"
          ],
          [
           "Vietnam"
          ],
          [
           "Vietnam"
          ],
          [
           "Vietnam"
          ],
          [
           "West Bank and Gaza"
          ],
          [
           "West Bank and Gaza"
          ],
          [
           "West Bank and Gaza"
          ],
          [
           "West Bank and Gaza"
          ],
          [
           "West Bank and Gaza"
          ],
          [
           "West Bank and Gaza"
          ],
          [
           "West Bank and Gaza"
          ],
          [
           "West Bank and Gaza"
          ],
          [
           "West Bank and Gaza"
          ],
          [
           "West Bank and Gaza"
          ],
          [
           "West Bank and Gaza"
          ],
          [
           "West Bank and Gaza"
          ],
          [
           "Yemen, Rep."
          ],
          [
           "Yemen, Rep."
          ],
          [
           "Yemen, Rep."
          ],
          [
           "Yemen, Rep."
          ],
          [
           "Yemen, Rep."
          ],
          [
           "Yemen, Rep."
          ],
          [
           "Yemen, Rep."
          ],
          [
           "Yemen, Rep."
          ],
          [
           "Yemen, Rep."
          ],
          [
           "Yemen, Rep."
          ],
          [
           "Yemen, Rep."
          ],
          [
           "Yemen, Rep."
          ],
          [
           "Zambia"
          ],
          [
           "Zambia"
          ],
          [
           "Zambia"
          ],
          [
           "Zambia"
          ],
          [
           "Zambia"
          ],
          [
           "Zambia"
          ],
          [
           "Zambia"
          ],
          [
           "Zambia"
          ],
          [
           "Zambia"
          ],
          [
           "Zambia"
          ],
          [
           "Zambia"
          ],
          [
           "Zambia"
          ],
          [
           "Zimbabwe"
          ],
          [
           "Zimbabwe"
          ],
          [
           "Zimbabwe"
          ],
          [
           "Zimbabwe"
          ],
          [
           "Zimbabwe"
          ],
          [
           "Zimbabwe"
          ],
          [
           "Zimbabwe"
          ],
          [
           "Zimbabwe"
          ],
          [
           "Zimbabwe"
          ],
          [
           "Zimbabwe"
          ],
          [
           "Zimbabwe"
          ],
          [
           "Zimbabwe"
          ]
         ],
         "hovertemplate": "year=%{x}<br>continent=%{y}<br>pop=%{z}<br>gdpPercap=%{marker.size}<br>country=%{customdata[0]}<br>lifeExp=%{marker.color}<extra></extra>",
         "legendgroup": "",
         "marker": {
          "color": [
           28.801,
           30.332,
           31.997,
           34.02,
           36.088,
           38.438,
           39.854,
           40.822,
           41.674,
           41.76300000000001,
           42.129,
           43.828,
           55.23,
           59.28,
           64.82,
           66.22,
           67.69,
           68.93,
           70.42,
           72,
           71.581,
           72.95,
           75.65100000000002,
           76.423,
           43.077,
           45.685,
           48.303,
           51.407,
           54.518,
           58.014,
           61.368,
           65.79899999999999,
           67.744,
           69.152,
           70.994,
           72.301,
           30.015,
           31.999,
           34,
           35.985,
           37.928,
           39.483,
           39.942,
           39.906,
           40.647,
           40.963,
           41.003,
           42.731,
           62.485,
           64.399,
           65.142,
           65.634,
           67.065,
           68.48100000000001,
           69.942,
           70.774,
           71.868,
           73.275,
           74.34,
           75.32,
           69.12,
           70.33,
           70.93,
           71.1,
           71.93,
           73.49,
           74.74,
           76.32,
           77.56,
           78.83,
           80.37,
           81.235,
           66.8,
           67.48,
           69.54,
           70.14,
           70.63,
           72.17,
           73.18,
           74.94,
           76.04,
           77.51,
           78.98,
           79.829,
           50.93899999999999,
           53.832,
           56.923,
           59.923,
           63.3,
           65.593,
           69.05199999999999,
           70.75,
           72.601,
           73.925,
           74.795,
           75.635,
           37.484,
           39.348,
           41.216,
           43.453,
           45.252,
           46.923,
           50.00899999999999,
           52.819,
           56.018,
           59.412,
           62.01300000000001,
           64.062,
           68,
           69.24,
           70.25,
           70.94,
           71.44,
           72.8,
           73.93,
           75.35,
           76.46,
           77.53,
           78.32,
           79.441,
           38.223,
           40.358,
           42.618,
           44.885,
           47.014,
           49.19,
           50.904,
           52.337,
           53.919,
           54.777,
           54.40600000000001,
           56.728,
           40.414,
           41.89,
           43.428,
           45.032,
           46.714,
           50.023,
           53.859,
           57.25100000000001,
           59.957,
           62.05,
           63.883,
           65.554,
           53.82,
           58.45,
           61.93,
           64.79,
           67.45,
           69.86,
           70.69,
           71.14,
           72.178,
           73.244,
           74.09,
           74.852,
           47.622,
           49.618,
           51.52,
           53.298,
           56.024,
           59.319,
           61.484,
           63.622,
           62.745,
           52.556,
           46.63399999999999,
           50.728,
           50.917,
           53.285,
           55.665,
           57.632,
           59.504,
           61.489,
           63.33600000000001,
           65.205,
           67.057,
           69.388,
           71.006,
           72.39,
           59.6,
           66.61,
           69.51,
           70.42,
           70.9,
           70.81,
           71.08,
           71.34,
           71.19,
           70.32,
           72.14,
           73.005,
           31.975,
           34.906,
           37.814,
           40.697,
           43.591,
           46.137,
           48.122,
           49.557,
           50.26,
           50.324,
           50.65,
           52.295,
           39.031,
           40.533,
           42.045,
           43.548,
           44.057,
           45.91,
           47.471,
           48.21100000000001,
           44.736,
           45.326,
           47.36,
           49.58,
           39.417,
           41.36600000000001,
           43.415,
           45.415,
           40.317,
           31.22,
           50.957,
           53.914,
           55.803,
           56.534,
           56.752,
           59.723,
           38.523,
           40.428,
           42.643,
           44.799,
           47.049,
           49.355,
           52.96100000000001,
           54.985,
           54.31399999999999,
           52.199,
           49.856,
           50.43,
           68.75,
           69.96,
           71.3,
           72.13,
           72.88,
           74.21,
           75.76,
           76.86,
           77.95,
           78.61,
           79.77,
           80.653,
           35.463,
           37.464,
           39.475,
           41.478,
           43.457,
           46.775,
           48.295,
           50.485,
           49.396,
           46.066,
           43.308,
           44.74100000000001,
           38.092,
           39.881,
           41.716,
           43.601000000000006,
           45.569,
           47.383,
           49.517,
           51.051,
           51.724,
           51.573,
           50.525,
           50.651,
           54.745,
           56.074,
           57.924,
           60.523,
           63.441,
           67.05199999999999,
           70.565,
           72.492,
           74.126,
           75.816,
           77.86,
           78.553,
           44,
           50.54896,
           44.50136,
           58.38112,
           63.11888,
           63.96736,
           65.525,
           67.274,
           68.69,
           70.426,
           72.028,
           72.961,
           50.643,
           55.118,
           57.863,
           59.963,
           61.62300000000001,
           63.837,
           66.653,
           67.768,
           68.421,
           70.313,
           71.682,
           72.889,
           40.715,
           42.46,
           44.467,
           46.472,
           48.944,
           50.93899999999999,
           52.933,
           54.926,
           57.93899999999999,
           60.66,
           62.974,
           65.152,
           39.143,
           40.652,
           42.122,
           44.056,
           45.989,
           47.804,
           47.784,
           47.412,
           45.548,
           42.587,
           44.966,
           46.462,
           42.111,
           45.053,
           48.435,
           52.04,
           54.907,
           55.625,
           56.695,
           57.47,
           56.433,
           52.962,
           52.97,
           55.322,
           57.206,
           60.026,
           62.842,
           65.42399999999999,
           67.84899999999999,
           70.75,
           73.45,
           74.752,
           75.71300000000002,
           77.26,
           78.123,
           78.782,
           40.477,
           42.469,
           44.93,
           47.35,
           49.801,
           52.374,
           53.983,
           54.655,
           52.044,
           47.99100000000001,
           46.832,
           48.328,
           61.21,
           64.77,
           67.13,
           68.5,
           69.61,
           70.64,
           70.46,
           71.52,
           72.527,
           73.68,
           74.876,
           75.748,
           59.42100000000001,
           62.325,
           65.24600000000001,
           68.29,
           70.723,
           72.649,
           73.717,
           74.17399999999998,
           74.414,
           76.15100000000002,
           77.158,
           78.273,
           66.87,
           69.03,
           69.9,
           70.38,
           70.29,
           70.71,
           70.96,
           71.58,
           72.4,
           74.01,
           75.51,
           76.486,
           70.78,
           71.81,
           72.35,
           72.96,
           73.47,
           74.69,
           74.63,
           74.8,
           75.33,
           76.11,
           77.18,
           78.332,
           34.812,
           37.328,
           39.69300000000001,
           42.074,
           44.36600000000001,
           46.519,
           48.812,
           50.04,
           51.604,
           53.157,
           53.37300000000001,
           54.791,
           45.928,
           49.828,
           53.459,
           56.75100000000001,
           59.631,
           61.788,
           63.727,
           66.046,
           68.457,
           69.957,
           70.847,
           72.235,
           48.357,
           51.356,
           54.64,
           56.678,
           58.79600000000001,
           61.31,
           64.342,
           67.23100000000001,
           69.613,
           72.312,
           74.173,
           74.994,
           41.893,
           44.444,
           46.992,
           49.293,
           51.137,
           53.319,
           56.006,
           59.797,
           63.674,
           67.217,
           69.806,
           71.33800000000002,
           45.262,
           48.57,
           52.307,
           55.855,
           58.207,
           56.69600000000001,
           56.604,
           63.154,
           66.798,
           69.535,
           70.734,
           71.878,
           34.482,
           35.98300000000001,
           37.485,
           38.987,
           40.516,
           42.024,
           43.662,
           45.664,
           47.545,
           48.245,
           49.348,
           51.57899999999999,
           35.92800000000001,
           38.047,
           40.158,
           42.18899999999999,
           44.142,
           44.535,
           43.89,
           46.453,
           49.99100000000001,
           53.378,
           55.24,
           58.04,
           34.078,
           36.667,
           40.059,
           42.115,
           43.515,
           44.51,
           44.916,
           46.684,
           48.091,
           49.402,
           50.725,
           52.947,
           66.55,
           67.49,
           68.75,
           69.83,
           70.87,
           72.52,
           74.55,
           74.83,
           75.7,
           77.13,
           78.37,
           79.313,
           67.41,
           68.93,
           70.51,
           71.55,
           72.38,
           73.83,
           74.89,
           76.34,
           77.46,
           78.64,
           79.59,
           80.657,
           37.003,
           38.999,
           40.489,
           44.598,
           48.69,
           52.79,
           56.56399999999999,
           60.19,
           61.36600000000001,
           60.46100000000001,
           56.761,
           56.735,
           30,
           32.065,
           33.896,
           35.857,
           38.308,
           41.842,
           45.58,
           49.265,
           52.644,
           55.861,
           58.041,
           59.448,
           67.5,
           69.1,
           70.3,
           70.8,
           71,
           72.5,
           73.8,
           74.847,
           76.07,
           77.34,
           78.67,
           79.406,
           43.149,
           44.779,
           46.452,
           48.072,
           49.875,
           51.756,
           53.744,
           55.729,
           57.50100000000001,
           58.556,
           58.453,
           60.022,
           65.86,
           67.86,
           69.51,
           71,
           72.34,
           73.68,
           75.24,
           76.67,
           77.03,
           77.869,
           78.256,
           79.483,
           42.023,
           44.142,
           46.95399999999999,
           50.01600000000001,
           53.738,
           56.029,
           58.137,
           60.782,
           63.37300000000001,
           66.322,
           68.97800000000001,
           70.259,
           33.609,
           34.558,
           35.753,
           37.197,
           38.842,
           40.762,
           42.89100000000001,
           45.552,
           48.576,
           51.455,
           53.676,
           56.007,
           32.5,
           33.489000000000004,
           34.488,
           35.492,
           36.486,
           37.465,
           39.327,
           41.245,
           43.26600000000001,
           44.87300000000001,
           45.504,
           46.38800000000001,
           37.579,
           40.696,
           43.59,
           46.243,
           48.042,
           49.923,
           51.46100000000001,
           53.636,
           55.089,
           56.67100000000001,
           58.137,
           60.916,
           41.912,
           44.665,
           48.041,
           50.924,
           53.88399999999999,
           57.402,
           60.909,
           64.492,
           66.399,
           67.65899999999999,
           68.565,
           70.19800000000001,
           60.96,
           64.75,
           67.65,
           70,
           72,
           73.6,
           75.45,
           76.2,
           77.601,
           80,
           81.495,
           82.208,
           64.03,
           66.41,
           67.96,
           69.5,
           69.76,
           69.95,
           69.39,
           69.58,
           69.17,
           71.04,
           72.59,
           73.33800000000002,
           72.49,
           73.47,
           73.68,
           73.73,
           74.46,
           76.11,
           76.99,
           77.23,
           78.77,
           78.95,
           80.5,
           81.757,
           37.37300000000001,
           40.249,
           43.605,
           47.19300000000001,
           50.651,
           54.208,
           56.596,
           58.553,
           60.223,
           61.765,
           62.879,
           64.69800000000001,
           37.468,
           39.918,
           42.518,
           45.964,
           49.203,
           52.702,
           56.159,
           60.137,
           62.681,
           66.041,
           68.58800000000001,
           70.65,
           44.869,
           47.181,
           49.325,
           52.469,
           55.234,
           57.702,
           59.62,
           63.04,
           65.742,
           68.042,
           69.45100000000001,
           70.964,
           45.32,
           48.437,
           51.457,
           54.459,
           56.95,
           60.413,
           62.038,
           65.044,
           59.46100000000001,
           58.81100000000001,
           57.04600000000001,
           59.545,
           66.91,
           68.9,
           70.29,
           71.08,
           71.28,
           72.03,
           73.1,
           74.36,
           75.467,
           76.122,
           77.783,
           78.885,
           65.39,
           67.84,
           69.39,
           70.75,
           71.63,
           73.06,
           74.45,
           75.6,
           76.93,
           78.26899999999998,
           79.696,
           80.745,
           65.94,
           67.81,
           69.24,
           71.06,
           72.19,
           73.48,
           74.98,
           76.42,
           77.44,
           78.82,
           80.24,
           80.546,
           58.53,
           62.61,
           65.61,
           67.51,
           69,
           70.11,
           71.21,
           71.77,
           71.766,
           72.262,
           72.047,
           72.567,
           63.03,
           65.5,
           68.73,
           71.43,
           73.42,
           75.38,
           77.11,
           78.67,
           79.36,
           80.69,
           82,
           82.603,
           43.158,
           45.669,
           48.12600000000001,
           51.629,
           56.528,
           61.13399999999999,
           63.739,
           65.869,
           68.015,
           69.77199999999999,
           71.263,
           72.535,
           42.27,
           44.68600000000001,
           47.949,
           50.654,
           53.559,
           56.155,
           58.76600000000001,
           59.339,
           59.285,
           54.407,
           50.992,
           54.11,
           50.056,
           54.081,
           56.65600000000001,
           59.942,
           63.983,
           67.15899999999999,
           69.1,
           70.64699999999998,
           69.97800000000001,
           67.727,
           66.66199999999999,
           67.297,
           47.453,
           52.681,
           55.292,
           57.716,
           62.612,
           64.766,
           67.123,
           69.81,
           72.244,
           74.64699999999998,
           77.045,
           78.623,
           55.565,
           58.033,
           60.47,
           64.624,
           67.712,
           69.343,
           71.309,
           74.17399999999998,
           75.19,
           76.156,
           76.904,
           77.58800000000002,
           55.928,
           59.489,
           62.094,
           63.87,
           65.421,
           66.09899999999999,
           66.983,
           67.926,
           69.292,
           70.265,
           71.028,
           71.993,
           42.13800000000001,
           45.047,
           47.747,
           48.492,
           49.767,
           52.208,
           55.078,
           57.18,
           59.685,
           55.558,
           44.593,
           42.592,
           38.48,
           39.486,
           40.502,
           41.536,
           42.614,
           43.764,
           44.852,
           46.027,
           40.802,
           42.221,
           43.753,
           45.678,
           42.723,
           45.289,
           47.808,
           50.227,
           52.773,
           57.442,
           62.155,
           66.234,
           68.755,
           71.555,
           72.737,
           73.952,
           36.681,
           38.865,
           40.848,
           42.881,
           44.851000000000006,
           46.881,
           48.969,
           49.35,
           52.214,
           54.978,
           57.286,
           59.44300000000001,
           36.256,
           37.207,
           38.41,
           39.487,
           41.76600000000001,
           43.767,
           45.642,
           47.457,
           49.42,
           47.495,
           45.00899999999999,
           48.303,
           48.463,
           52.102,
           55.737,
           59.371,
           63.01,
           65.256,
           68,
           69.5,
           70.693,
           71.938,
           73.044,
           74.241,
           33.685,
           35.30699999999999,
           36.936,
           38.487,
           39.977,
           41.714,
           43.916,
           46.364,
           48.38800000000001,
           49.903,
           51.81800000000001,
           54.467,
           40.543,
           42.338,
           44.24800000000001,
           46.289,
           48.437,
           50.852,
           53.599,
           56.145,
           58.333,
           60.43,
           62.247,
           64.164,
           50.986,
           58.089,
           60.246,
           61.557,
           62.944,
           64.93,
           66.711,
           68.74,
           69.745,
           70.736,
           71.954,
           72.801,
           50.789,
           55.19,
           58.299,
           60.11,
           62.361,
           65.032,
           67.405,
           69.498,
           71.455,
           73.67,
           74.902,
           76.195,
           42.244,
           45.24800000000001,
           48.25100000000001,
           51.253,
           53.754,
           55.49100000000001,
           57.489,
           60.222,
           61.271,
           63.625,
           65.033,
           66.803,
           59.164,
           61.448,
           63.728,
           67.178,
           70.63600000000002,
           73.066,
           74.101,
           74.865,
           75.435,
           75.445,
           73.98100000000002,
           74.543,
           42.87300000000001,
           45.423,
           47.924,
           50.335,
           52.862,
           55.73,
           59.65,
           62.677,
           65.393,
           67.66,
           69.615,
           71.164,
           31.286,
           33.779,
           36.161,
           38.113,
           40.328,
           42.495,
           42.795,
           42.861,
           44.284,
           46.344,
           44.026,
           42.082,
           36.319,
           41.905,
           45.108,
           49.379,
           53.07,
           56.059,
           58.056,
           58.339,
           59.32,
           60.328,
           59.908,
           62.069,
           41.725,
           45.226000000000006,
           48.386,
           51.159,
           53.867,
           56.437,
           58.968,
           60.835,
           61.999,
           58.909,
           51.479,
           52.90600000000001,
           36.157,
           37.686,
           39.393,
           41.472,
           43.971,
           46.74800000000001,
           49.594,
           52.537,
           55.727,
           59.426,
           61.34,
           63.785,
           72.13,
           72.99,
           73.23,
           73.82,
           73.75,
           75.24,
           76.05,
           76.83,
           77.42,
           78.03,
           78.53,
           79.762,
           69.39,
           70.26,
           71.24,
           71.52,
           71.89,
           72.22,
           73.84,
           74.32,
           76.33,
           77.55,
           79.11,
           80.204,
           42.31399999999999,
           45.432,
           48.632,
           51.88399999999999,
           55.151,
           57.47,
           59.298,
           62.008,
           65.843,
           68.426,
           70.836,
           72.899,
           37.444,
           38.598,
           39.487,
           40.118,
           40.546,
           41.291,
           42.598,
           44.555,
           47.39100000000001,
           51.313,
           54.496,
           56.867,
           36.324,
           37.802,
           39.36,
           41.04,
           42.82100000000001,
           44.514,
           45.826,
           46.886,
           47.472,
           47.464,
           46.608,
           46.859,
           72.67,
           73.44,
           73.47,
           74.08,
           74.34,
           75.37,
           75.97,
           75.89,
           77.32,
           78.32,
           79.05,
           80.196,
           37.578,
           40.08,
           43.165,
           46.988,
           52.143,
           57.367,
           62.728,
           67.734,
           71.197,
           72.499,
           74.193,
           75.64,
           43.43600000000001,
           45.557,
           47.67,
           49.8,
           51.929,
           54.043,
           56.158,
           58.245,
           60.838,
           61.81800000000001,
           63.61,
           65.483,
           55.191,
           59.201,
           61.817,
           64.071,
           66.21600000000001,
           68.681,
           70.472,
           71.523,
           72.462,
           73.738,
           74.712,
           75.53699999999998,
           62.649,
           63.19600000000001,
           64.361,
           64.95100000000001,
           65.815,
           66.35300000000001,
           66.874,
           67.378,
           68.225,
           69.4,
           70.755,
           71.752,
           43.902,
           46.26300000000001,
           49.096,
           51.445,
           55.448,
           58.447,
           61.40600000000001,
           64.134,
           66.458,
           68.38600000000001,
           69.906,
           71.421,
           47.752,
           51.334,
           54.757,
           56.393,
           58.065,
           60.06,
           62.082,
           64.15100000000001,
           66.458,
           68.564,
           70.303,
           71.688,
           61.31,
           65.77,
           67.64,
           69.61,
           70.85,
           70.67,
           71.32,
           70.98,
           70.99,
           72.75,
           74.67,
           75.563,
           59.82,
           61.51,
           64.39,
           66.6,
           69.26,
           70.41,
           72.77,
           74.06,
           74.86,
           75.97,
           77.29,
           78.098,
           64.28,
           68.54,
           69.62,
           71.1,
           72.16,
           73.44,
           73.75,
           74.63,
           73.911,
           74.917,
           77.778,
           78.74600000000002,
           52.724,
           55.09,
           57.666,
           60.542,
           64.274,
           67.064,
           69.885,
           71.913,
           73.615,
           74.77199999999998,
           75.744,
           76.442,
           61.05,
           64.1,
           66.8,
           66.8,
           69.21,
           69.46,
           69.66,
           69.53,
           69.36,
           69.72,
           71.322,
           72.476,
           40,
           41.5,
           43,
           44.1,
           44.6,
           45,
           46.218,
           44.02,
           23.599,
           36.087,
           43.413,
           46.242,
           46.471,
           48.945,
           51.893,
           54.425,
           56.48,
           58.55,
           60.351000000000006,
           61.728,
           62.742,
           63.306,
           64.337,
           65.528,
           39.875,
           42.868,
           45.914,
           49.901,
           53.886,
           58.69,
           63.012,
           66.295,
           68.768,
           70.533,
           71.626,
           72.777,
           37.278,
           39.329,
           41.45399999999999,
           43.563,
           45.815,
           48.879,
           52.379,
           55.769,
           58.19600000000001,
           60.187,
           61.6,
           63.062,
           57.996,
           61.685,
           64.531,
           66.914,
           68.7,
           70.3,
           70.16199999999999,
           71.218,
           71.65899999999998,
           72.232,
           73.21300000000002,
           74.002,
           30.331,
           31.57,
           32.767,
           34.113,
           35.4,
           36.788,
           38.445,
           40.006,
           38.333,
           39.897,
           41.012,
           42.56800000000001,
           60.396,
           63.179,
           65.798,
           67.946,
           69.521,
           70.795,
           71.76,
           73.56,
           75.788,
           77.158,
           78.77,
           79.972,
           64.36,
           67.45,
           70.33,
           70.98,
           70.35,
           70.45,
           70.8,
           71.08,
           71.38,
           72.71,
           73.8,
           74.663,
           65.57,
           67.85,
           69.15,
           69.18,
           69.82,
           70.97,
           71.063,
           72.25,
           73.64,
           75.13,
           76.66,
           77.926,
           32.978,
           34.977,
           36.981,
           38.977,
           40.973,
           41.974,
           42.955,
           44.50100000000001,
           39.658,
           43.795,
           45.93600000000001,
           48.159,
           45.00899999999999,
           47.985,
           49.951,
           51.927,
           53.69600000000001,
           55.527,
           58.161,
           60.834,
           61.88800000000001,
           60.236,
           53.365,
           49.339,
           64.94,
           66.66,
           69.69,
           71.44,
           73.06,
           74.39,
           76.3,
           76.9,
           77.57,
           78.77,
           79.78,
           80.941,
           57.593,
           61.456,
           62.192,
           64.266,
           65.042,
           65.949,
           68.757,
           69.01100000000001,
           70.37899999999998,
           70.457,
           70.815,
           72.396,
           38.635,
           39.624,
           40.87,
           42.858,
           45.083,
           47.8,
           50.338,
           51.744,
           53.556,
           55.37300000000001,
           56.369,
           58.556,
           41.407,
           43.424,
           44.992,
           46.633,
           49.552,
           52.537,
           55.56100000000001,
           57.678,
           58.474,
           54.289,
           43.869,
           39.613,
           71.86,
           72.49,
           73.37,
           74.16,
           74.72,
           75.44,
           76.42,
           77.19,
           78.16,
           79.39,
           80.04,
           80.884,
           69.62,
           70.56,
           71.32,
           72.77,
           73.78,
           75.39,
           76.21,
           77.41,
           78.03,
           79.37,
           80.62,
           81.70100000000002,
           45.883,
           48.284,
           50.305,
           53.655,
           57.29600000000001,
           61.195,
           64.59,
           66.97399999999999,
           69.249,
           71.527,
           73.053,
           74.143,
           58.5,
           62.4,
           65.2,
           67.5,
           69.39,
           70.59,
           72.16,
           73.4,
           74.26,
           75.25,
           76.99,
           78.4,
           41.215,
           42.974,
           44.246,
           45.757,
           47.62,
           49.919,
           50.608,
           51.535,
           50.44,
           48.466,
           49.651,
           52.517,
           50.848,
           53.63,
           56.06100000000001,
           58.285,
           60.405,
           62.494,
           64.597,
           66.084,
           67.298,
           67.521,
           68.564,
           70.616,
           38.596,
           41.208,
           43.922,
           46.769,
           49.75899999999999,
           52.887,
           55.471,
           56.941,
           58.06100000000001,
           58.39,
           57.56100000000001,
           58.42,
           59.1,
           61.8,
           64.9,
           65.4,
           65.9,
           68.3,
           68.832,
           69.582,
           69.862,
           69.465,
           68.976,
           69.819,
           44.6,
           47.1,
           49.57899999999999,
           52.053,
           55.602,
           59.837,
           64.048,
           66.89399999999999,
           70.001,
           71.973,
           73.042,
           73.923,
           43.585,
           48.07899999999999,
           52.098,
           54.33600000000001,
           57.005,
           59.507,
           61.036,
           63.108,
           66.146,
           68.835,
           70.845,
           71.777,
           39.978,
           42.57100000000001,
           45.344,
           48.051,
           51.01600000000001,
           50.35,
           49.849,
           51.50899999999999,
           48.825,
           44.578,
           47.813,
           51.542,
           69.18,
           70.42,
           70.76,
           71.36,
           72.01,
           72.76,
           74.04,
           75.007,
           76.42,
           77.218,
           78.471,
           79.425,
           68.44,
           69.49,
           70.21,
           70.76,
           71.34,
           73.38,
           74.65,
           75.02,
           76.09,
           76.81,
           77.31,
           78.242,
           66.071,
           67.044,
           68.253,
           68.468,
           68.673,
           69.48100000000001,
           70.805,
           71.918,
           72.752,
           74.223,
           75.307,
           76.384,
           55.088,
           57.907,
           60.77,
           63.479,
           65.712,
           67.456,
           68.557,
           70.19,
           71.15,
           72.146,
           72.766,
           73.747,
           40.412,
           42.887,
           45.363,
           47.838,
           50.254,
           55.764,
           58.816,
           62.82,
           67.66199999999999,
           70.672,
           73.017,
           74.249,
           43.16,
           45.67100000000001,
           48.127,
           51.631,
           56.532,
           60.765,
           64.406,
           67.046,
           69.718,
           71.096,
           72.37,
           73.422,
           32.548,
           33.97,
           35.18,
           36.984,
           39.848,
           44.175,
           49.113,
           52.922,
           55.599,
           58.02,
           60.308,
           62.698,
           42.038,
           44.077,
           46.023,
           47.768,
           50.107,
           51.386,
           51.82100000000001,
           50.82100000000001,
           46.1,
           40.238,
           39.19300000000001,
           42.38399999999999,
           48.451,
           50.469,
           52.358,
           53.995,
           55.635,
           57.674,
           60.363,
           62.351000000000006,
           60.377,
           46.809,
           39.989,
           43.487
          ],
          "coloraxis": "coloraxis",
          "size": [
           779.4453145,
           820.8530296,
           853.1007099999998,
           836.1971382,
           739.9811057999998,
           786.11336,
           978.0114388,
           852.3959447999998,
           649.3413952000002,
           635.341351,
           726.7340548,
           974.5803384,
           1601.056136,
           1942.284244,
           2312.888958,
           2760.196931,
           3313.422188,
           3533.003910000001,
           3630.880722,
           3738.932735,
           2497.437901,
           3193.054604,
           4604.211737,
           5937.029525999998,
           2449.008185,
           3013.976023,
           2550.81688,
           3246.991771,
           4182.663766,
           4910.416756000001,
           5745.160213,
           5681.358539,
           5023.216647,
           4797.295051,
           5288.040382,
           6223.367465,
           3520.610273,
           3827.940465,
           4269.276742,
           5522.776375,
           5473.288004999999,
           3008.647355,
           2756.953672,
           2430.208311,
           2627.845685,
           2277.140884,
           2773.287312,
           4797.231267,
           5911.315053,
           6856.8562120000015,
           7133.166023000002,
           8052.953020999998,
           9443.038526,
           10079.02674,
           8997.897412,
           9139.671389,
           9308.41871,
           10967.28195,
           8797.640716,
           12779.37964,
           10039.59564,
           10949.64959,
           12217.22686,
           14526.12465,
           16788.62948,
           18334.19751,
           19477.00928,
           21888.88903,
           23424.76683,
           26997.93657,
           30687.75473,
           34435.367439999995,
           6137.076492,
           8842.59803,
           10750.72111,
           12834.6024,
           16661.6256,
           19749.4223,
           21597.08362,
           23687.82607,
           27042.01868,
           29095.920660000003,
           32417.60769,
           36126.4927,
           9867.084765,
           11635.79945,
           12753.27514,
           14804.6727,
           18268.65839,
           19340.10196,
           19211.14731,
           18524.02406,
           19035.57917,
           20292.01679,
           23403.55927,
           29796.04834,
           684.2441716,
           661.6374577,
           686.3415537999998,
           721.1860862000002,
           630.2336265,
           659.8772322000002,
           676.9818656,
           751.9794035,
           837.8101642999999,
           972.7700352,
           1136.3904300000004,
           1391.253792,
           8343.105126999999,
           9714.960623,
           10991.20676,
           13149.04119,
           16672.14356,
           19117.97448,
           20979.84589,
           22525.56308,
           25575.57069,
           27561.19663,
           30485.88375,
           33692.60508,
           1062.7522,
           959.6010805,
           949.4990641,
           1035.831411,
           1085.796879,
           1029.161251,
           1277.897616,
           1225.85601,
           1191.207681,
           1232.975292,
           1372.877931,
           1441.284873,
           2677.326347,
           2127.686326,
           2180.972546,
           2586.886053,
           2980.331339,
           3548.097832,
           3156.510452,
           2753.69149,
           2961.699694,
           3326.143191,
           3413.26269,
           3822.137084,
           973.5331948,
           1353.989176,
           1709.683679,
           2172.3524230000007,
           2860.16975,
           3528.481305,
           4126.613157,
           4314.114757,
           2546.781445,
           4766.355904,
           6018.975239,
           7446.298803,
           851.2411407,
           918.2325349,
           983.6539764,
           1214.709294,
           2263.6111140000007,
           3214.857818,
           4551.14215,
           6205.88385,
           7954.111645,
           8647.142313,
           11003.60508,
           12569.85177,
           2108.944355,
           2487.365989,
           3336.585802,
           3429.864357,
           4985.711467,
           6660.118654,
           7030.835878,
           7807.095818000002,
           6950.283020999998,
           7957.980823999998,
           8131.212843000001,
           9065.800825,
           2444.286648,
           3008.670727,
           4254.337839,
           5577.0028,
           6597.494398,
           7612.240438,
           8224.191647,
           8239.854824,
           6302.623438000001,
           5970.38876,
           7696.777725,
           10680.79282,
           543.2552413,
           617.1834647999998,
           722.5120206,
           794.8265597,
           854.7359763000002,
           743.3870368,
           807.1985855,
           912.0631417,
           931.7527731,
           946.2949618,
           1037.645221,
           1217.032994,
           339.2964587,
           379.5646281000001,
           355.2032273,
           412.97751360000007,
           464.0995039,
           556.1032651,
           559.6032309999998,
           621.8188188999999,
           631.6998778,
           463.1151478,
           446.4035126,
           430.0706916,
           368.4692856,
           434.0383364,
           496.9136476,
           523.4323142,
           421.6240257,
           524.9721831999999,
           624.4754784,
           683.8955732000002,
           682.3031755,
           734.28517,
           896.2260152999999,
           1713.778686,
           1172.667655,
           1313.048099,
           1399.607441,
           1508.453148,
           1684.1465280000002,
           1783.432873,
           2367.983282,
           2602.664206,
           1793.1632780000002,
           1694.337469,
           1934.011449,
           2042.09524,
           11367.16112,
           12489.95006,
           13462.48555,
           16076.58803,
           18970.57086,
           22090.88306,
           22898.79214,
           26626.51503,
           26342.88426,
           28954.92589,
           33328.96507,
           36319.23501,
           1071.310713,
           1190.844328,
           1193.068753,
           1136.056615,
           1070.013275,
           1109.374338,
           956.7529907,
           844.8763504000002,
           747.9055252,
           740.5063317,
           738.6906068,
           706.016537,
           1178.665927,
           1308.495577,
           1389.817618,
           1196.810565,
           1104.103987,
           1133.98495,
           797.9081006,
           952.386129,
           1058.0643,
           1004.961353,
           1156.18186,
           1704.063724,
           3939.978789,
           4315.622723,
           4519.094331,
           5106.654313,
           5494.024437,
           4756.763836,
           5095.6657380000015,
           5547.063754,
           7596.125964,
           10118.05318,
           10778.78385,
           13171.63885,
           400.448611,
           575.9870009,
           487.6740183,
           612.7056934,
           676.9000921,
           741.2374699,
           962.4213805,
           1378.904018,
           1655.784158,
           2289.234136,
           3119.280896,
           4959.114854,
           2144.115096,
           2323.805581,
           2492.351109,
           2678.729839,
           3264.660041,
           3815.80787,
           4397.575659,
           4903.2191,
           5444.648617,
           6117.361746000001,
           5755.259962,
           7006.580419,
           1102.990936,
           1211.148548,
           1406.648278,
           1876.029643,
           1937.577675,
           1172.603047,
           1267.100083,
           1315.980812,
           1246.90737,
           1173.618235,
           1075.811558,
           986.1478792,
           780.5423257,
           905.8602303,
           896.3146335000001,
           861.5932424,
           904.8960685,
           795.757282,
           673.7478181,
           672.774812,
           457.7191807,
           312.188423,
           241.1658765,
           277.5518587,
           2125.621418,
           2315.056572,
           2464.783157,
           2677.9396420000007,
           3213.152683,
           3259.178978,
           4879.507522,
           4201.194936999998,
           4016.239529,
           3484.164376,
           3484.06197,
           3632.557798,
           2627.0094710000008,
           2990.010802,
           3460.937025,
           4161.727834,
           5118.146939,
           5926.876967,
           5262.734751,
           5629.915318,
           6160.416317,
           6677.045314,
           7723.447195000002,
           9645.06142,
           1388.594732,
           1500.895925,
           1728.8694280000002,
           2052.050473,
           2378.201111,
           2517.736547,
           2602.710169,
           2156.9560690000008,
           1648.073791,
           1786.265407,
           1648.800823,
           1544.750112,
           3119.23652,
           4338.231617,
           5477.890018,
           6960.297861,
           9164.090127,
           11305.38517,
           13221.82184,
           13822.58394,
           8447.794873,
           9875.604515,
           11628.38895,
           14619.222719999998,
           5586.53878,
           6092.1743590000015,
           5180.75591,
           5690.268015,
           5305.445256,
           6380.494965999998,
           7316.918106999998,
           7532.924762999999,
           5592.843963,
           5431.990415,
           6340.646683,
           8948.102923,
           6876.14025,
           8256.343918,
           10136.86713,
           11399.44489,
           13108.4536,
           14800.16062,
           15377.22855,
           16310.4434,
           14297.02122,
           16048.51424,
           17596.210219999994,
           22833.30851,
           9692.385245,
           11099.65935,
           13583.31351,
           15937.21123,
           18866.20721,
           20422.9015,
           21688.04048,
           25116.17581,
           26406.73985,
           29804.34567,
           32166.50006,
           35278.41874,
           2669.529475,
           2864.9690760000008,
           3020.989263,
           3020.050513,
           3694.2123520000014,
           3081.761022,
           2879.468067,
           2880.102568,
           2377.156192000001,
           1895.016984,
           1908.260867,
           2082.4815670000007,
           1397.717137,
           1544.402995,
           1662.137359,
           1653.7230029999996,
           2189.874499,
           2681.9889,
           2861.092386,
           2899.842175,
           3044.214214,
           3614.101285,
           4563.808154,
           6025.3747520000015,
           3522.110717,
           3780.546651,
           4086.114078,
           4579.074215,
           5280.99471,
           6679.62326,
           7213.791267,
           6481.776993,
           7103.702595000002,
           7429.4558769999985,
           5773.044512,
           6873.262326000001,
           1418.822445,
           1458.915272,
           1693.335853,
           1814.880728,
           2024.008147,
           2785.493582,
           3503.729636,
           3885.46071,
           3794.755195,
           4173.181797,
           4754.604414,
           5581.180998,
           3048.3029,
           3421.523218,
           3776.803627,
           4358.595393,
           4520.246008,
           5138.922374,
           4098.344175,
           4140.442097,
           4444.2317,
           5154.825496,
           5351.568665999999,
           5728.353514,
           375.6431231,
           426.0964081,
           582.8419713999998,
           915.5960025,
           672.4122571,
           958.5668124,
           927.8253427,
           966.8968149,
           1132.055034,
           2814.480755,
           7703.4959,
           12154.08975,
           328.9405571000001,
           344.1618859,
           380.9958433000001,
           468.7949699,
           514.3242081999998,
           505.7538077,
           524.8758493,
           521.1341333,
           582.8585102000002,
           913.47079,
           765.3500015,
           641.3695236000002,
           362.1462796,
           378.9041632,
           419.4564161,
           516.1186438,
           566.2439442000001,
           556.8083834,
           577.8607471,
           573.7413142000001,
           421.3534653,
           515.8894013,
           530.0535319,
           690.8055759,
           6424.519071,
           7545.415386,
           9371.842561,
           10921.63626,
           14358.8759,
           15605.42283,
           18533.15761,
           21141.01223,
           20647.16499,
           23723.9502,
           28204.59057,
           33207.0844,
           7029.809327,
           8662.834898000001,
           10560.48553,
           12999.91766,
           16107.19171,
           18292.63514,
           20293.89746,
           22066.44214,
           24703.79615,
           25889.78487,
           28926.03234,
           30470.0167,
           4293.476475,
           4976.198099,
           6631.459222,
           8358.761987,
           11401.94841,
           21745.57328,
           15113.36194,
           11864.40844,
           13522.15752,
           14722.841880000002,
           12521.71392,
           13206.48452,
           485.2306591,
           520.9267111,
           599.650276,
           734.7829124,
           756.0868363,
           884.7552507000001,
           835.8096107999999,
           611.6588611000002,
           665.6244126,
           653.7301704,
           660.5855997,
           752.7497265,
           7144.114393000002,
           10187.82665,
           12902.46291,
           14745.62561,
           18016.18027,
           20512.92123,
           22031.53274,
           24639.18566,
           26505.30317,
           27788.88416,
           30035.80198,
           32170.37442,
           911.2989371,
           1043.5615369999996,
           1190.041118,
           1125.69716,
           1178.223708,
           993.2239571,
           876.032569,
           847.0061135,
           925.060154,
           1005.245812,
           1111.9845779999996,
           1327.60891,
           3530.690067,
           4916.299889,
           6017.190732999999,
           8513.097016,
           12724.82957,
           14195.52428,
           15268.42089,
           16120.52839,
           17541.49634,
           18747.69814,
           22514.2548,
           27538.41188,
           2428.2377690000008,
           2617.155967,
           2750.364446,
           3242.531147,
           4031.408271,
           4879.992748,
           4820.49479,
           4246.485974,
           4439.45084,
           4684.313807,
           4858.347495,
           5186.050003,
           510.1964923000001,
           576.2670245,
           686.3736739,
           708.7595409,
           741.6662307,
           874.6858642999998,
           857.2503577,
           805.5724717999999,
           794.3484384,
           869.4497667999998,
           945.5835837,
           942.6542111,
           299.850319,
           431.79045660000014,
           522.0343725,
           715.5806402000002,
           820.2245876000002,
           764.7259627999998,
           838.1239671,
           736.4153921,
           745.5398706,
           796.6644681,
           575.7047176,
           579.2317429999998,
           1840.366939,
           1726.887882,
           1796.589032,
           1452.057666,
           1654.456946,
           1874.298931,
           2011.159549,
           1823.015995,
           1456.309517,
           1341.726931,
           1270.364932,
           1201.637154,
           2194.926204,
           2220.487682,
           2291.156835,
           2538.269358,
           2529.842345,
           3203.208066,
           3121.7607940000007,
           3023.096699,
           3081.694603,
           3160.454906,
           3099.72866,
           3548.3308460000007,
           3054.421209,
           3629.076457,
           4692.648271999999,
           6197.962814,
           8315.928145,
           11186.14125,
           14560.53051,
           20038.47269,
           24757.60301,
           28377.63219,
           30209.015160000006,
           39724.97867,
           5263.673816,
           6040.180011,
           7550.359877,
           9326.64467,
           10168.65611,
           11674.83737,
           12545.99066,
           12986.47998,
           10535.62855,
           11712.7768,
           14843.93556,
           18008.94444,
           7267.688428,
           9244.001412,
           10350.15906,
           13319.89568,
           15798.06362,
           19654.96247,
           23269.6075,
           26923.20628,
           25144.39201,
           28061.099660000003,
           31163.20196,
           36180.78919,
           546.5657493,
           590.061996,
           658.3471509,
           700.7706107000001,
           724.032527,
           813.3373230000002,
           855.7235377000002,
           976.5126756,
           1164.406809,
           1458.817442,
           1746.769454,
           2452.210407,
           749.6816546,
           858.9002707000002,
           849.2897700999998,
           762.4317721,
           1111.107907,
           1382.702056,
           1516.872988,
           1748.356961,
           2383.140898,
           3119.335603,
           2873.91287,
           3540.651564,
           3035.326002,
           3290.257643,
           4187.329802,
           5906.731804999999,
           9613.818607,
           11888.59508,
           7608.334602,
           6642.881371,
           7235.653187999998,
           8263.590301,
           9240.761975,
           11605.71449,
           4129.766056,
           6229.333562,
           8341.737815,
           8931.459811,
           9576.037596,
           14688.23507,
           14517.90711,
           11643.57268,
           3745.640687,
           3076.239795,
           4390.717312,
           4471.061906,
           5210.280328,
           5599.077872,
           6631.597314,
           7655.568963,
           9530.772896,
           11150.98113,
           12618.32141,
           13872.86652,
           17558.81555,
           24521.94713,
           34077.04939,
           40675.99635,
           4086.522128,
           5385.278451,
           7105.630706,
           8393.741404,
           12786.93223,
           13306.61921,
           15367.0292,
           17122.47986,
           18051.52254,
           20896.60924,
           21905.59514,
           25523.2771,
           4931.404154999998,
           6248.656232,
           8243.58234,
           10022.40131,
           12269.27378,
           14255.98475,
           16537.4835,
           19207.23482,
           22013.64486,
           24675.02446,
           27968.09817,
           28569.7197,
           2898.530881,
           4756.525781,
           5246.107524,
           6124.703450999999,
           7433.889293000001,
           6650.195573,
           6068.05135,
           6351.237495,
           7404.923685,
           7121.924704000001,
           6994.774861,
           7320.8802620000015,
           3216.956347,
           4317.694365,
           6576.649461,
           9847.788607,
           14778.78636,
           16610.37701,
           19384.10571,
           22375.94189,
           26824.89511,
           28816.58499,
           28604.5919,
           31656.06806,
           1546.907807,
           1886.080591,
           2348.009158,
           2741.796252,
           2110.856309,
           2852.351568,
           4161.415959,
           4448.679912,
           3431.593647,
           3645.379572,
           3844.917194,
           4519.461171,
           853.5409189999998,
           944.4383152,
           896.9663732,
           1056.736457,
           1222.359968,
           1267.613204,
           1348.225791,
           1361.936856,
           1341.9217210000004,
           1360.4850210000004,
           1287.514732,
           1463.249282,
           1088.277758,
           1571.134655,
           1621.693598,
           2143.540609,
           3701.621503,
           4106.301249,
           4106.525293,
           4106.492315,
           3726.063507,
           1690.756814,
           1646.758151,
           1593.06548,
           1030.592226,
           1487.593537,
           1536.344387,
           2029.228142,
           3030.87665,
           4657.22102,
           5622.942464,
           8533.088805,
           12104.27872,
           15993.52796,
           19233.98818,
           23348.139730000006,
           108382.3529,
           113523.1329,
           95458.11176,
           80894.88326,
           109347.867,
           59265.47714,
           31354.03573,
           28118.42998,
           34932.91959,
           40300.61996,
           35110.10566,
           47306.98978,
           4834.804067,
           6089.786934000002,
           5714.560611,
           6006.983042,
           7486.384341,
           8659.696836,
           7640.519520999998,
           5377.091329,
           6890.806854,
           8754.96385,
           9313.93883,
           10461.05868,
           298.8462121,
           335.9971151000001,
           411.8006266,
           498.6390265,
           496.5815922000001,
           745.3695408,
           797.2631074,
           773.9932140999998,
           977.4862725,
           1186.147994,
           1275.184575,
           1569.331442,
           575.5729961000002,
           620.9699901,
           634.1951625,
           713.6036482999998,
           803.0054535,
           640.3224382999998,
           572.1995694,
           506.1138573,
           636.6229191000001,
           609.1739508,
           531.4823679,
           414.5073415,
           2387.54806,
           3448.284395,
           6757.030816,
           18772.75169,
           21011.49721,
           21951.21176,
           17364.275380000006,
           11770.5898,
           9640.138501,
           9467.446056,
           9534.677467,
           12057.49928,
           1443.011715,
           1589.20275,
           1643.38711,
           1634.047282,
           1748.562982,
           1544.228586,
           1302.878658,
           1155.441948,
           1040.67619,
           986.2958956,
           894.6370822,
           1044.770126,
           369.1650802,
           416.3698064,
           427.9010856,
           495.5147806,
           584.6219709,
           663.2236766,
           632.8039209,
           635.5173633999998,
           563.2000145,
           692.2758102999999,
           665.4231186000002,
           759.3499101,
           1831.132894,
           1810.0669920000007,
           2036.884944,
           2277.742396,
           2849.09478,
           3827.921571,
           4920.355951,
           5249.802653,
           7277.912802,
           10132.90964,
           10206.97794,
           12451.6558,
           452.3369807,
           490.3821867,
           496.1743428,
           545.0098873,
           581.3688761,
           686.3952693,
           618.0140640999998,
           684.1715576,
           739.014375,
           790.2579846,
           951.4097518,
           1042.581557,
           743.1159097,
           846.1202613,
           1055.896036,
           1421.145193,
           1586.851781,
           1497.492223,
           1481.150189,
           1421.603576,
           1361.369784,
           1483.136136,
           1579.019543,
           1803.151496,
           1967.955707,
           2034.037981,
           2529.0674870000007,
           2475.387562,
           2575.484158,
           3710.982963,
           3688.037739,
           4783.586903,
           6058.253846000001,
           7425.705295000002,
           9021.815894,
           10956.99112,
           3478.125529,
           4131.546641,
           4581.609385,
           5754.733883,
           6809.406690000002,
           7674.929108,
           9611.147541,
           8688.156003,
           9472.384295,
           9767.29753,
           10742.44053,
           11977.57496,
           786.5668575,
           912.6626085,
           1056.353958,
           1226.04113,
           1421.741975,
           1647.511665,
           2000.603139,
           2338.008304,
           1785.402016,
           1902.2521,
           2140.739323,
           3095.7722710000007,
           2647.585601,
           3682.259903,
           4649.593785,
           5907.850937,
           7778.414017,
           9595.929905,
           11222.58762,
           11732.51017,
           7003.339037000002,
           6465.613349,
           6557.194282,
           9253.896111,
           1688.20357,
           1642.002314,
           1566.353493,
           1711.04477,
           1930.194975,
           2370.619976,
           2702.620356,
           2755.046991,
           2948.047252,
           2982.101858,
           3258.495584,
           3820.17523,
           468.5260381,
           495.58683330000014,
           556.6863539,
           566.6691539,
           724.9178037,
           502.3197334,
           462.2114149,
           389.8761846,
           410.8968239,
           472.34607710000006,
           633.6179466,
           823.6856205,
           331,
           350,
           388,
           349,
           357,
           371,
           424,
           385,
           347,
           415,
           611,
           944,
           2423.780443,
           2621.448058,
           3173.215595,
           3793.694753,
           3746.080948,
           3876.485958,
           4191.100511,
           3693.731337,
           3804.537999,
           3899.52426,
           4072.324751,
           4811.060429,
           545.8657228999998,
           597.9363557999999,
           652.3968593,
           676.4422254,
           674.7881296,
           694.1124398,
           718.3730947,
           775.6324501,
           897.7403604,
           1010.892138,
           1057.206311,
           1091.359778,
           8941.571858,
           11276.19344,
           12790.84956,
           15363.25136,
           18794.74567,
           21209.0592,
           21399.46046,
           23651.32361,
           26790.94961,
           30246.13063,
           33724.75778,
           36797.93332,
           10556.57566,
           12247.39532,
           13175.678,
           14463.918930000002,
           16046.03728,
           16233.7177,
           17632.4104,
           19007.19129,
           18363.32494,
           21050.41377,
           23189.80135,
           25185.00911,
           3112.363948,
           3457.415947,
           3634.364406,
           4643.393534000002,
           4688.593267,
           5486.371089,
           3470.3381560000007,
           2955.984375,
           2170.151724,
           2253.023004,
           2474.548819,
           2749.320965,
           761.879376,
           835.5234025000002,
           997.7661127,
           1054.384891,
           954.2092363,
           808.8970727999998,
           909.7221354,
           668.3000228,
           581.182725,
           580.3052092,
           601.0745012,
           619.6768923999998,
           1077.281856,
           1100.5925630000004,
           1150.9274779999996,
           1014.514104,
           1698.388838,
           1981.951806,
           1576.97375,
           1385.029563,
           1619.848217,
           1624.941275,
           1615.286395,
           2013.977305,
           10095.42172,
           11653.97304,
           13450.40151,
           16361.87647,
           18965.05551,
           23311.34939,
           26298.63531,
           31540.9748,
           33965.66115,
           41283.16433,
           44683.97525,
           49357.19017,
           1828.230307,
           2242.746551,
           2924.638113,
           4720.942687,
           10618.03855,
           11848.34392,
           12954.79101,
           18115.22313,
           18616.70691,
           19702.05581,
           19774.83687,
           22316.19287,
           684.5971437999998,
           747.0835292,
           803.3427418,
           942.4082588,
           1049.938981,
           1175.921193,
           1443.429832,
           1704.686583,
           1971.829464,
           2049.3505210000008,
           2092.712441,
           2605.94758,
           2480.380334,
           2961.800905,
           3536.540301,
           4421.009084,
           5364.249663000001,
           5351.912144,
           7009.601598,
           7034.779161,
           6618.74305,
           7113.692252,
           7356.0319340000015,
           9809.185636,
           1952.308701,
           2046.154706,
           2148.027146,
           2299.376311,
           2523.337977,
           3248.373311,
           4258.503604,
           3998.875695,
           4196.411078,
           4247.400261,
           3783.674243,
           4172.838464,
           3758.523437,
           4245.256697999999,
           4957.037982,
           5788.09333,
           5937.827283,
           6281.290854999998,
           6434.501797,
           6360.943444,
           4446.380924,
           5838.347657,
           5909.020073,
           7408.905561,
           1272.880995,
           1547.944844,
           1649.552153,
           1814.12743,
           1989.37407,
           2373.204287,
           2603.273765,
           2189.634995,
           2279.324017000001,
           2536.534925,
           2650.921068,
           3190.481016,
           4029.329699,
           4734.253019,
           5338.752143,
           6557.152776,
           8006.506993000001,
           9508.141454,
           8451.531004,
           9082.351172,
           7738.881247,
           10159.58368,
           12002.23908,
           15389.924680000002,
           3068.319867,
           3774.571743,
           4727.954889,
           6361.517993,
           9022.247417,
           10172.48572,
           11753.84291,
           13039.30876,
           16207.266630000002,
           17641.03156,
           19970.90787,
           20509.64777,
           3081.959785,
           3907.156189,
           5108.34463,
           6929.277714,
           9123.041742,
           9770.524921,
           10330.98915,
           12281.34191,
           14641.58711,
           16999.4333,
           18855.60618,
           19328.70901,
           2718.885295,
           2769.451844,
           3173.72334,
           4021.175739,
           5047.658563,
           4319.804067,
           5267.219353,
           5303.377488,
           6101.255823,
           6071.941411,
           6316.1652,
           7670.122558,
           3144.613186,
           3943.370225,
           4734.997586,
           6470.866545,
           8011.4144019999985,
           9356.39724,
           9605.314053,
           9696.273295,
           6598.409903,
           7346.547556999999,
           7885.360081,
           10808.47561,
           493.3238752,
           540.2893982999999,
           597.4730727000001,
           510.9637142,
           590.5806637999998,
           670.0806011,
           881.5706467,
           847.991217,
           737.0685949,
           589.9445051,
           785.6537647999999,
           863.0884639000002,
           879.5835855,
           860.7369026,
           1071.551119,
           1384.840593,
           1532.985254,
           1737.561657,
           1890.218117,
           1516.525457,
           1428.777814,
           1339.076036,
           1353.09239,
           1598.435089,
           6459.554823,
           8157.5912480000015,
           11626.41975,
           16903.04886,
           24837.42865,
           34167.7626,
           33693.17525,
           21198.26136,
           24841.61777,
           20586.69019,
           19014.54118,
           21654.83194,
           1450.356983,
           1567.653006,
           1654.988723,
           1612.404632,
           1597.712056,
           1561.769116,
           1518.479984,
           1441.72072,
           1367.899369,
           1392.368347,
           1519.635262,
           1712.472136,
           3581.459448,
           4981.090891,
           6289.629157,
           7991.707066,
           10522.06749,
           12980.66956,
           15181.0927,
           15870.87851,
           9325.068238,
           7914.320304000002,
           7236.075251,
           9786.534714,
           879.7877358,
           1004.484437,
           1116.6398769999996,
           1206.043465,
           1353.759762,
           1348.285159,
           1465.010784,
           1294.4477880000004,
           1068.696278,
           574.6481576,
           699.4897129999998,
           862.5407561000002,
           2315.138227,
           2843.104409,
           3674.735572,
           4977.41854,
           8597.756202,
           11210.08948,
           15169.16112,
           18861.53081,
           24769.8912,
           33519.4766,
           36023.1054,
           47143.17964,
           5074.659104,
           6093.26298,
           7481.107598,
           8412.902397,
           9674.167626,
           10922.66404,
           11348.54585,
           12037.26758,
           9498.467723,
           12126.23065,
           13638.778369999998,
           18678.31435,
           4215.041741,
           5862.276629,
           7402.303395,
           9405.489397,
           12383.4862,
           15277.030169999998,
           17866.72175,
           18678.53492,
           14214.71681,
           17161.10735,
           20660.01936,
           25768.25759,
           1135.749842,
           1258.147413,
           1369.488336,
           1284.7331800000004,
           1254.576127,
           1450.992513,
           1176.807031,
           1093.244963,
           926.9602964,
           930.5964284,
           882.0818218000002,
           926.1410683,
           4725.295531000002,
           5487.104219,
           5768.729717,
           7114.477970999998,
           7765.962636,
           8028.651439,
           8568.266228,
           7825.823398,
           7225.069257999998,
           7479.188244,
           7710.946444,
           9269.657808,
           3834.034742,
           4564.80241,
           5693.843879,
           7993.512294,
           10638.75131,
           13236.92117,
           13926.16997,
           15764.98313,
           18603.06452,
           20445.29896,
           24835.47166,
           28821.0637,
           1083.53203,
           1072.546602,
           1074.47196,
           1135.514326,
           1213.39553,
           1348.775651,
           1648.079789,
           1876.766827,
           2153.739222,
           2664.477257,
           3015.378833,
           3970.095407,
           1615.991129,
           1770.3370739999998,
           1959.593767,
           1687.997641,
           1659.652775,
           2202.988423,
           1895.544073,
           1507.819159,
           1492.197043,
           1632.2107640000004,
           1993.398314,
           2602.394995,
           1148.376626,
           1244.708364,
           1856.182125,
           2613.101665,
           3364.836625,
           3781.410618,
           3895.384018,
           3984.839812,
           3553.0224,
           3876.76846,
           4128.116943,
           4513.480643,
           8527.844662000001,
           9911.878226,
           12329.44192,
           15258.29697,
           17832.02464,
           18855.72521,
           20667.38125,
           23586.92927,
           23880.01683,
           25266.59499,
           29341.630930000007,
           33859.74835,
           14734.23275,
           17909.48973,
           20431.0927,
           22966.14432,
           27195.11304,
           26982.29052,
           28397.71512,
           30281.70459,
           31871.5303,
           32135.323010000004,
           34480.95771,
           37506.41907,
           1643.485354,
           2117.234893,
           2193.037133,
           1881.923632,
           2571.423014,
           3195.484582,
           3761.837715,
           3116.774285,
           3340.542768,
           4014.238972,
           4090.925331,
           4184.548089,
           1206.947913,
           1507.86129,
           1822.879028,
           2643.858681,
           4062.523897,
           5596.519826,
           7426.3547739999985,
           11054.56175,
           15215.6579,
           20206.82098,
           23235.42329,
           28718.27684,
           716.6500721,
           698.5356073,
           722.0038073,
           848.2186575,
           915.9850592,
           962.4922932,
           874.2426069,
           831.8220794,
           825.682454,
           789.1862231,
           899.0742111,
           1107.482182,
           757.7974177,
           793.5774147999998,
           1002.199172,
           1295.46066,
           1524.358936,
           1961.2246350000007,
           2393.219781,
           2982.653773,
           4616.896545000001,
           5852.625497,
           5913.187529,
           7458.396326999998,
           859.8086567,
           925.9083202,
           1067.53481,
           1477.59676,
           1649.660188,
           1532.776998,
           1344.577953,
           1202.201361,
           1034.298904,
           982.2869243,
           886.2205765000001,
           882.9699437999999,
           3023.271928,
           4100.3934,
           4997.523971000001,
           5621.368472,
           6619.551418999999,
           7899.554209000001,
           9119.528607,
           7388.597823,
           7370.990932,
           8792.573126000001,
           11460.60023,
           18008.50924,
           1468.475631,
           1395.232468,
           1660.30321,
           1932.3601670000005,
           2753.2859940000008,
           3120.876811,
           3560.2331740000004,
           3810.419296,
           4332.720164,
           4876.798614,
           5722.895654999998,
           7092.923025,
           1969.10098,
           2218.754257,
           2322.869908,
           2826.3563870000007,
           3450.69638,
           4269.122326,
           4241.356344,
           5089.043686,
           5678.348271,
           6601.429915,
           6508.085718,
           8458.276384,
           734.753484,
           774.3710692000002,
           767.2717397999999,
           908.9185217,
           950.735869,
           843.7331372000001,
           682.2662267999998,
           617.7244065,
           644.1707968999998,
           816.559081,
           927.7210018,
           1056.380121,
           9979.508487,
           11283.17795,
           12477.17707,
           14142.85089,
           15895.11641,
           17428.74846,
           18232.42452,
           21664.78767,
           22705.09254,
           26074.53136,
           29478.99919,
           33203.26128,
           13990.482080000002,
           14847.12712,
           16173.14586,
           19530.36557,
           21806.03594,
           24072.63213,
           25009.55914,
           29884.350410000006,
           32003.93224,
           35767.43303,
           39097.09955,
           42951.65309,
           5716.766744,
           6150.772969,
           5603.357717,
           5444.61962,
           5703.408898,
           6504.339663000002,
           6920.223051000001,
           7452.398969,
           8137.004775,
           9230.240708,
           7727.002004000001,
           10611.46299,
           7689.799761,
           9802.466526,
           8422.974165000001,
           9541.474188,
           10505.25966,
           13143.95095,
           11152.41011,
           9883.584648,
           10733.92631,
           10165.49518,
           8605.047831,
           11415.80569,
           605.0664917,
           676.2854477999998,
           772.0491602000002,
           637.1232887,
           699.5016441,
           713.5371196000001,
           707.2357863,
           820.7994449,
           989.0231487,
           1385.896769,
           1764.456677,
           2441.576404,
           1515.5923289999996,
           1827.067742,
           2198.9563120000007,
           2649.715007,
           3133.409277,
           3682.831494,
           4336.032082,
           5107.197384,
           6017.654756,
           7110.667619,
           4515.487575,
           3025.349798,
           781.7175761,
           804.8304547,
           825.6232006,
           862.4421463,
           1265.047031,
           1829.765177,
           1977.55701,
           1971.741538,
           1879.496673,
           2117.484526,
           2234.820827,
           2280.769906,
           1147.388831,
           1311.956766,
           1452.725766,
           1777.077318,
           1773.498265,
           1588.688299,
           1408.678565,
           1213.315116,
           1210.884633,
           1071.353818,
           1071.6139380000004,
           1271.211593,
           406.8841148,
           518.7642681,
           527.2721818,
           569.7950712,
           799.3621757999998,
           685.5876821,
           788.8550411,
           706.1573059,
           693.4207856,
           792.4499602999998,
           672.0386227000001,
           469.70929810000007
          ],
          "sizemode": "area",
          "sizeref": 283.80783225,
          "symbol": "circle"
         },
         "mode": "markers",
         "name": "",
         "scene": "scene",
         "showlegend": false,
         "type": "scatter3d",
         "x": [
          1952,
          1957,
          1962,
          1967,
          1972,
          1977,
          1982,
          1987,
          1992,
          1997,
          2002,
          2007,
          1952,
          1957,
          1962,
          1967,
          1972,
          1977,
          1982,
          1987,
          1992,
          1997,
          2002,
          2007,
          1952,
          1957,
          1962,
          1967,
          1972,
          1977,
          1982,
          1987,
          1992,
          1997,
          2002,
          2007,
          1952,
          1957,
          1962,
          1967,
          1972,
          1977,
          1982,
          1987,
          1992,
          1997,
          2002,
          2007,
          1952,
          1957,
          1962,
          1967,
          1972,
          1977,
          1982,
          1987,
          1992,
          1997,
          2002,
          2007,
          1952,
          1957,
          1962,
          1967,
          1972,
          1977,
          1982,
          1987,
          1992,
          1997,
          2002,
          2007,
          1952,
          1957,
          1962,
          1967,
          1972,
          1977,
          1982,
          1987,
          1992,
          1997,
          2002,
          2007,
          1952,
          1957,
          1962,
          1967,
          1972,
          1977,
          1982,
          1987,
          1992,
          1997,
          2002,
          2007,
          1952,
          1957,
          1962,
          1967,
          1972,
          1977,
          1982,
          1987,
          1992,
          1997,
          2002,
          2007,
          1952,
          1957,
          1962,
          1967,
          1972,
          1977,
          1982,
          1987,
          1992,
          1997,
          2002,
          2007,
          1952,
          1957,
          1962,
          1967,
          1972,
          1977,
          1982,
          1987,
          1992,
          1997,
          2002,
          2007,
          1952,
          1957,
          1962,
          1967,
          1972,
          1977,
          1982,
          1987,
          1992,
          1997,
          2002,
          2007,
          1952,
          1957,
          1962,
          1967,
          1972,
          1977,
          1982,
          1987,
          1992,
          1997,
          2002,
          2007,
          1952,
          1957,
          1962,
          1967,
          1972,
          1977,
          1982,
          1987,
          1992,
          1997,
          2002,
          2007,
          1952,
          1957,
          1962,
          1967,
          1972,
          1977,
          1982,
          1987,
          1992,
          1997,
          2002,
          2007,
          1952,
          1957,
          1962,
          1967,
          1972,
          1977,
          1982,
          1987,
          1992,
          1997,
          2002,
          2007,
          1952,
          1957,
          1962,
          1967,
          1972,
          1977,
          1982,
          1987,
          1992,
          1997,
          2002,
          2007,
          1952,
          1957,
          1962,
          1967,
          1972,
          1977,
          1982,
          1987,
          1992,
          1997,
          2002,
          2007,
          1952,
          1957,
          1962,
          1967,
          1972,
          1977,
          1982,
          1987,
          1992,
          1997,
          2002,
          2007,
          1952,
          1957,
          1962,
          1967,
          1972,
          1977,
          1982,
          1987,
          1992,
          1997,
          2002,
          2007,
          1952,
          1957,
          1962,
          1967,
          1972,
          1977,
          1982,
          1987,
          1992,
          1997,
          2002,
          2007,
          1952,
          1957,
          1962,
          1967,
          1972,
          1977,
          1982,
          1987,
          1992,
          1997,
          2002,
          2007,
          1952,
          1957,
          1962,
          1967,
          1972,
          1977,
          1982,
          1987,
          1992,
          1997,
          2002,
          2007,
          1952,
          1957,
          1962,
          1967,
          1972,
          1977,
          1982,
          1987,
          1992,
          1997,
          2002,
          2007,
          1952,
          1957,
          1962,
          1967,
          1972,
          1977,
          1982,
          1987,
          1992,
          1997,
          2002,
          2007,
          1952,
          1957,
          1962,
          1967,
          1972,
          1977,
          1982,
          1987,
          1992,
          1997,
          2002,
          2007,
          1952,
          1957,
          1962,
          1967,
          1972,
          1977,
          1982,
          1987,
          1992,
          1997,
          2002,
          2007,
          1952,
          1957,
          1962,
          1967,
          1972,
          1977,
          1982,
          1987,
          1992,
          1997,
          2002,
          2007,
          1952,
          1957,
          1962,
          1967,
          1972,
          1977,
          1982,
          1987,
          1992,
          1997,
          2002,
          2007,
          1952,
          1957,
          1962,
          1967,
          1972,
          1977,
          1982,
          1987,
          1992,
          1997,
          2002,
          2007,
          1952,
          1957,
          1962,
          1967,
          1972,
          1977,
          1982,
          1987,
          1992,
          1997,
          2002,
          2007,
          1952,
          1957,
          1962,
          1967,
          1972,
          1977,
          1982,
          1987,
          1992,
          1997,
          2002,
          2007,
          1952,
          1957,
          1962,
          1967,
          1972,
          1977,
          1982,
          1987,
          1992,
          1997,
          2002,
          2007,
          1952,
          1957,
          1962,
          1967,
          1972,
          1977,
          1982,
          1987,
          1992,
          1997,
          2002,
          2007,
          1952,
          1957,
          1962,
          1967,
          1972,
          1977,
          1982,
          1987,
          1992,
          1997,
          2002,
          2007,
          1952,
          1957,
          1962,
          1967,
          1972,
          1977,
          1982,
          1987,
          1992,
          1997,
          2002,
          2007,
          1952,
          1957,
          1962,
          1967,
          1972,
          1977,
          1982,
          1987,
          1992,
          1997,
          2002,
          2007,
          1952,
          1957,
          1962,
          1967,
          1972,
          1977,
          1982,
          1987,
          1992,
          1997,
          2002,
          2007,
          1952,
          1957,
          1962,
          1967,
          1972,
          1977,
          1982,
          1987,
          1992,
          1997,
          2002,
          2007,
          1952,
          1957,
          1962,
          1967,
          1972,
          1977,
          1982,
          1987,
          1992,
          1997,
          2002,
          2007,
          1952,
          1957,
          1962,
          1967,
          1972,
          1977,
          1982,
          1987,
          1992,
          1997,
          2002,
          2007,
          1952,
          1957,
          1962,
          1967,
          1972,
          1977,
          1982,
          1987,
          1992,
          1997,
          2002,
          2007,
          1952,
          1957,
          1962,
          1967,
          1972,
          1977,
          1982,
          1987,
          1992,
          1997,
          2002,
          2007,
          1952,
          1957,
          1962,
          1967,
          1972,
          1977,
          1982,
          1987,
          1992,
          1997,
          2002,
          2007,
          1952,
          1957,
          1962,
          1967,
          1972,
          1977,
          1982,
          1987,
          1992,
          1997,
          2002,
          2007,
          1952,
          1957,
          1962,
          1967,
          1972,
          1977,
          1982,
          1987,
          1992,
          1997,
          2002,
          2007,
          1952,
          1957,
          1962,
          1967,
          1972,
          1977,
          1982,
          1987,
          1992,
          1997,
          2002,
          2007,
          1952,
          1957,
          1962,
          1967,
          1972,
          1977,
          1982,
          1987,
          1992,
          1997,
          2002,
          2007,
          1952,
          1957,
          1962,
          1967,
          1972,
          1977,
          1982,
          1987,
          1992,
          1997,
          2002,
          2007,
          1952,
          1957,
          1962,
          1967,
          1972,
          1977,
          1982,
          1987,
          1992,
          1997,
          2002,
          2007,
          1952,
          1957,
          1962,
          1967,
          1972,
          1977,
          1982,
          1987,
          1992,
          1997,
          2002,
          2007,
          1952,
          1957,
          1962,
          1967,
          1972,
          1977,
          1982,
          1987,
          1992,
          1997,
          2002,
          2007,
          1952,
          1957,
          1962,
          1967,
          1972,
          1977,
          1982,
          1987,
          1992,
          1997,
          2002,
          2007,
          1952,
          1957,
          1962,
          1967,
          1972,
          1977,
          1982,
          1987,
          1992,
          1997,
          2002,
          2007,
          1952,
          1957,
          1962,
          1967,
          1972,
          1977,
          1982,
          1987,
          1992,
          1997,
          2002,
          2007,
          1952,
          1957,
          1962,
          1967,
          1972,
          1977,
          1982,
          1987,
          1992,
          1997,
          2002,
          2007,
          1952,
          1957,
          1962,
          1967,
          1972,
          1977,
          1982,
          1987,
          1992,
          1997,
          2002,
          2007,
          1952,
          1957,
          1962,
          1967,
          1972,
          1977,
          1982,
          1987,
          1992,
          1997,
          2002,
          2007,
          1952,
          1957,
          1962,
          1967,
          1972,
          1977,
          1982,
          1987,
          1992,
          1997,
          2002,
          2007,
          1952,
          1957,
          1962,
          1967,
          1972,
          1977,
          1982,
          1987,
          1992,
          1997,
          2002,
          2007,
          1952,
          1957,
          1962,
          1967,
          1972,
          1977,
          1982,
          1987,
          1992,
          1997,
          2002,
          2007,
          1952,
          1957,
          1962,
          1967,
          1972,
          1977,
          1982,
          1987,
          1992,
          1997,
          2002,
          2007,
          1952,
          1957,
          1962,
          1967,
          1972,
          1977,
          1982,
          1987,
          1992,
          1997,
          2002,
          2007,
          1952,
          1957,
          1962,
          1967,
          1972,
          1977,
          1982,
          1987,
          1992,
          1997,
          2002,
          2007,
          1952,
          1957,
          1962,
          1967,
          1972,
          1977,
          1982,
          1987,
          1992,
          1997,
          2002,
          2007,
          1952,
          1957,
          1962,
          1967,
          1972,
          1977,
          1982,
          1987,
          1992,
          1997,
          2002,
          2007,
          1952,
          1957,
          1962,
          1967,
          1972,
          1977,
          1982,
          1987,
          1992,
          1997,
          2002,
          2007,
          1952,
          1957,
          1962,
          1967,
          1972,
          1977,
          1982,
          1987,
          1992,
          1997,
          2002,
          2007,
          1952,
          1957,
          1962,
          1967,
          1972,
          1977,
          1982,
          1987,
          1992,
          1997,
          2002,
          2007,
          1952,
          1957,
          1962,
          1967,
          1972,
          1977,
          1982,
          1987,
          1992,
          1997,
          2002,
          2007,
          1952,
          1957,
          1962,
          1967,
          1972,
          1977,
          1982,
          1987,
          1992,
          1997,
          2002,
          2007,
          1952,
          1957,
          1962,
          1967,
          1972,
          1977,
          1982,
          1987,
          1992,
          1997,
          2002,
          2007,
          1952,
          1957,
          1962,
          1967,
          1972,
          1977,
          1982,
          1987,
          1992,
          1997,
          2002,
          2007,
          1952,
          1957,
          1962,
          1967,
          1972,
          1977,
          1982,
          1987,
          1992,
          1997,
          2002,
          2007,
          1952,
          1957,
          1962,
          1967,
          1972,
          1977,
          1982,
          1987,
          1992,
          1997,
          2002,
          2007,
          1952,
          1957,
          1962,
          1967,
          1972,
          1977,
          1982,
          1987,
          1992,
          1997,
          2002,
          2007,
          1952,
          1957,
          1962,
          1967,
          1972,
          1977,
          1982,
          1987,
          1992,
          1997,
          2002,
          2007,
          1952,
          1957,
          1962,
          1967,
          1972,
          1977,
          1982,
          1987,
          1992,
          1997,
          2002,
          2007,
          1952,
          1957,
          1962,
          1967,
          1972,
          1977,
          1982,
          1987,
          1992,
          1997,
          2002,
          2007,
          1952,
          1957,
          1962,
          1967,
          1972,
          1977,
          1982,
          1987,
          1992,
          1997,
          2002,
          2007,
          1952,
          1957,
          1962,
          1967,
          1972,
          1977,
          1982,
          1987,
          1992,
          1997,
          2002,
          2007,
          1952,
          1957,
          1962,
          1967,
          1972,
          1977,
          1982,
          1987,
          1992,
          1997,
          2002,
          2007,
          1952,
          1957,
          1962,
          1967,
          1972,
          1977,
          1982,
          1987,
          1992,
          1997,
          2002,
          2007,
          1952,
          1957,
          1962,
          1967,
          1972,
          1977,
          1982,
          1987,
          1992,
          1997,
          2002,
          2007,
          1952,
          1957,
          1962,
          1967,
          1972,
          1977,
          1982,
          1987,
          1992,
          1997,
          2002,
          2007,
          1952,
          1957,
          1962,
          1967,
          1972,
          1977,
          1982,
          1987,
          1992,
          1997,
          2002,
          2007,
          1952,
          1957,
          1962,
          1967,
          1972,
          1977,
          1982,
          1987,
          1992,
          1997,
          2002,
          2007,
          1952,
          1957,
          1962,
          1967,
          1972,
          1977,
          1982,
          1987,
          1992,
          1997,
          2002,
          2007,
          1952,
          1957,
          1962,
          1967,
          1972,
          1977,
          1982,
          1987,
          1992,
          1997,
          2002,
          2007,
          1952,
          1957,
          1962,
          1967,
          1972,
          1977,
          1982,
          1987,
          1992,
          1997,
          2002,
          2007,
          1952,
          1957,
          1962,
          1967,
          1972,
          1977,
          1982,
          1987,
          1992,
          1997,
          2002,
          2007,
          1952,
          1957,
          1962,
          1967,
          1972,
          1977,
          1982,
          1987,
          1992,
          1997,
          2002,
          2007,
          1952,
          1957,
          1962,
          1967,
          1972,
          1977,
          1982,
          1987,
          1992,
          1997,
          2002,
          2007,
          1952,
          1957,
          1962,
          1967,
          1972,
          1977,
          1982,
          1987,
          1992,
          1997,
          2002,
          2007,
          1952,
          1957,
          1962,
          1967,
          1972,
          1977,
          1982,
          1987,
          1992,
          1997,
          2002,
          2007,
          1952,
          1957,
          1962,
          1967,
          1972,
          1977,
          1982,
          1987,
          1992,
          1997,
          2002,
          2007,
          1952,
          1957,
          1962,
          1967,
          1972,
          1977,
          1982,
          1987,
          1992,
          1997,
          2002,
          2007,
          1952,
          1957,
          1962,
          1967,
          1972,
          1977,
          1982,
          1987,
          1992,
          1997,
          2002,
          2007,
          1952,
          1957,
          1962,
          1967,
          1972,
          1977,
          1982,
          1987,
          1992,
          1997,
          2002,
          2007,
          1952,
          1957,
          1962,
          1967,
          1972,
          1977,
          1982,
          1987,
          1992,
          1997,
          2002,
          2007,
          1952,
          1957,
          1962,
          1967,
          1972,
          1977,
          1982,
          1987,
          1992,
          1997,
          2002,
          2007,
          1952,
          1957,
          1962,
          1967,
          1972,
          1977,
          1982,
          1987,
          1992,
          1997,
          2002,
          2007,
          1952,
          1957,
          1962,
          1967,
          1972,
          1977,
          1982,
          1987,
          1992,
          1997,
          2002,
          2007,
          1952,
          1957,
          1962,
          1967,
          1972,
          1977,
          1982,
          1987,
          1992,
          1997,
          2002,
          2007,
          1952,
          1957,
          1962,
          1967,
          1972,
          1977,
          1982,
          1987,
          1992,
          1997,
          2002,
          2007,
          1952,
          1957,
          1962,
          1967,
          1972,
          1977,
          1982,
          1987,
          1992,
          1997,
          2002,
          2007,
          1952,
          1957,
          1962,
          1967,
          1972,
          1977,
          1982,
          1987,
          1992,
          1997,
          2002,
          2007,
          1952,
          1957,
          1962,
          1967,
          1972,
          1977,
          1982,
          1987,
          1992,
          1997,
          2002,
          2007,
          1952,
          1957,
          1962,
          1967,
          1972,
          1977,
          1982,
          1987,
          1992,
          1997,
          2002,
          2007,
          1952,
          1957,
          1962,
          1967,
          1972,
          1977,
          1982,
          1987,
          1992,
          1997,
          2002,
          2007,
          1952,
          1957,
          1962,
          1967,
          1972,
          1977,
          1982,
          1987,
          1992,
          1997,
          2002,
          2007,
          1952,
          1957,
          1962,
          1967,
          1972,
          1977,
          1982,
          1987,
          1992,
          1997,
          2002,
          2007,
          1952,
          1957,
          1962,
          1967,
          1972,
          1977,
          1982,
          1987,
          1992,
          1997,
          2002,
          2007,
          1952,
          1957,
          1962,
          1967,
          1972,
          1977,
          1982,
          1987,
          1992,
          1997,
          2002,
          2007,
          1952,
          1957,
          1962,
          1967,
          1972,
          1977,
          1982,
          1987,
          1992,
          1997,
          2002,
          2007,
          1952,
          1957,
          1962,
          1967,
          1972,
          1977,
          1982,
          1987,
          1992,
          1997,
          2002,
          2007,
          1952,
          1957,
          1962,
          1967,
          1972,
          1977,
          1982,
          1987,
          1992,
          1997,
          2002,
          2007,
          1952,
          1957,
          1962,
          1967,
          1972,
          1977,
          1982,
          1987,
          1992,
          1997,
          2002,
          2007,
          1952,
          1957,
          1962,
          1967,
          1972,
          1977,
          1982,
          1987,
          1992,
          1997,
          2002,
          2007,
          1952,
          1957,
          1962,
          1967,
          1972,
          1977,
          1982,
          1987,
          1992,
          1997,
          2002,
          2007,
          1952,
          1957,
          1962,
          1967,
          1972,
          1977,
          1982,
          1987,
          1992,
          1997,
          2002,
          2007,
          1952,
          1957,
          1962,
          1967,
          1972,
          1977,
          1982,
          1987,
          1992,
          1997,
          2002,
          2007,
          1952,
          1957,
          1962,
          1967,
          1972,
          1977,
          1982,
          1987,
          1992,
          1997,
          2002,
          2007,
          1952,
          1957,
          1962,
          1967,
          1972,
          1977,
          1982,
          1987,
          1992,
          1997,
          2002,
          2007,
          1952,
          1957,
          1962,
          1967,
          1972,
          1977,
          1982,
          1987,
          1992,
          1997,
          2002,
          2007,
          1952,
          1957,
          1962,
          1967,
          1972,
          1977,
          1982,
          1987,
          1992,
          1997,
          2002,
          2007,
          1952,
          1957,
          1962,
          1967,
          1972,
          1977,
          1982,
          1987,
          1992,
          1997,
          2002,
          2007,
          1952,
          1957,
          1962,
          1967,
          1972,
          1977,
          1982,
          1987,
          1992,
          1997,
          2002,
          2007,
          1952,
          1957,
          1962,
          1967,
          1972,
          1977,
          1982,
          1987,
          1992,
          1997,
          2002,
          2007,
          1952,
          1957,
          1962,
          1967,
          1972,
          1977,
          1982,
          1987,
          1992,
          1997,
          2002,
          2007,
          1952,
          1957,
          1962,
          1967,
          1972,
          1977,
          1982,
          1987,
          1992,
          1997,
          2002,
          2007,
          1952,
          1957,
          1962,
          1967,
          1972,
          1977,
          1982,
          1987,
          1992,
          1997,
          2002,
          2007,
          1952,
          1957,
          1962,
          1967,
          1972,
          1977,
          1982,
          1987,
          1992,
          1997,
          2002,
          2007,
          1952,
          1957,
          1962,
          1967,
          1972,
          1977,
          1982,
          1987,
          1992,
          1997,
          2002,
          2007,
          1952,
          1957,
          1962,
          1967,
          1972,
          1977,
          1982,
          1987,
          1992,
          1997,
          2002,
          2007,
          1952,
          1957,
          1962,
          1967,
          1972,
          1977,
          1982,
          1987,
          1992,
          1997,
          2002,
          2007,
          1952,
          1957,
          1962,
          1967,
          1972,
          1977,
          1982,
          1987,
          1992,
          1997,
          2002,
          2007,
          1952,
          1957,
          1962,
          1967,
          1972,
          1977,
          1982,
          1987,
          1992,
          1997,
          2002,
          2007,
          1952,
          1957,
          1962,
          1967,
          1972,
          1977,
          1982,
          1987,
          1992,
          1997,
          2002,
          2007,
          1952,
          1957,
          1962,
          1967,
          1972,
          1977,
          1982,
          1987,
          1992,
          1997,
          2002,
          2007,
          1952,
          1957,
          1962,
          1967,
          1972,
          1977,
          1982,
          1987,
          1992,
          1997,
          2002,
          2007,
          1952,
          1957,
          1962,
          1967,
          1972,
          1977,
          1982,
          1987,
          1992,
          1997,
          2002,
          2007
         ],
         "y": [
          "Asia",
          "Asia",
          "Asia",
          "Asia",
          "Asia",
          "Asia",
          "Asia",
          "Asia",
          "Asia",
          "Asia",
          "Asia",
          "Asia",
          "Europe",
          "Europe",
          "Europe",
          "Europe",
          "Europe",
          "Europe",
          "Europe",
          "Europe",
          "Europe",
          "Europe",
          "Europe",
          "Europe",
          "Africa",
          "Africa",
          "Africa",
          "Africa",
          "Africa",
          "Africa",
          "Africa",
          "Africa",
          "Africa",
          "Africa",
          "Africa",
          "Africa",
          "Africa",
          "Africa",
          "Africa",
          "Africa",
          "Africa",
          "Africa",
          "Africa",
          "Africa",
          "Africa",
          "Africa",
          "Africa",
          "Africa",
          "Americas",
          "Americas",
          "Americas",
          "Americas",
          "Americas",
          "Americas",
          "Americas",
          "Americas",
          "Americas",
          "Americas",
          "Americas",
          "Americas",
          "Oceania",
          "Oceania",
          "Oceania",
          "Oceania",
          "Oceania",
          "Oceania",
          "Oceania",
          "Oceania",
          "Oceania",
          "Oceania",
          "Oceania",
          "Oceania",
          "Europe",
          "Europe",
          "Europe",
          "Europe",
          "Europe",
          "Europe",
          "Europe",
          "Europe",
          "Europe",
          "Europe",
          "Europe",
          "Europe",
          "Asia",
          "Asia",
          "Asia",
          "Asia",
          "Asia",
          "Asia",
          "Asia",
          "Asia",
          "Asia",
          "Asia",
          "Asia",
          "Asia",
          "Asia",
          "Asia",
          "Asia",
          "Asia",
          "Asia",
          "Asia",
          "Asia",
          "Asia",
          "Asia",
          "Asia",
          "Asia",
          "Asia",
          "Europe",
          "Europe",
          "Europe",
          "Europe",
          "Europe",
          "Europe",
          "Europe",
          "Europe",
          "Europe",
          "Europe",
          "Europe",
          "Europe",
          "Africa",
          "Africa",
          "Africa",
          "Africa",
          "Africa",
          "Africa",
          "Africa",
          "Africa",
          "Africa",
          "Africa",
          "Africa",
          "Africa",
          "Americas",
          "Americas",
          "Americas",
          "Americas",
          "Americas",
          "Americas",
          "Americas",
          "Americas",
          "Americas",
          "Americas",
          "Americas",
          "Americas",
          "Europe",
          "Europe",
          "Europe",
          "Europe",
          "Europe",
          "Europe",
          "Europe",
          "Europe",
          "Europe",
          "Europe",
          "Europe",
          "Europe",
          "Africa",
          "Africa",
          "Africa",
          "Africa",
          "Africa",
          "Africa",
          "Africa",
          "Africa",
          "Africa",
          "Africa",
          "Africa",
          "Africa",
          "Americas",
          "Americas",
          "Americas",
          "Americas",
          "Americas",
          "Americas",
          "Americas",
          "Americas",
          "Americas",
          "Americas",
          "Americas",
          "Americas",
          "Europe",
          "Europe",
          "Europe",
          "Europe",
          "Europe",
          "Europe",
          "Europe",
          "Europe",
          "Europe",
          "Europe",
          "Europe",
          "Europe",
          "Africa",
          "Africa",
          "Africa",
          "Africa",
          "Africa",
          "Africa",
          "Africa",
          "Africa",
          "Africa",
          "Africa",
          "Africa",
          "Africa",
          "Africa",
          "Africa",
          "Africa",
          "Africa",
          "Africa",
          "Africa",
          "Africa",
          "Africa",
          "Africa",
          "Africa",
          "Africa",
          "Africa",
          "Asia",
          "Asia",
          "Asia",
          "Asia",
          "Asia",
          "Asia",
          "Asia",
          "Asia",
          "Asia",
          "Asia",
          "Asia",
          "Asia",
          "Africa",
          "Africa",
          "Africa",
          "Africa",
          "Africa",
          "Africa",
          "Africa",
          "Africa",
          "Africa",
          "Africa",
          "Africa",
          "Africa",
          "Americas",
          "Americas",
          "Americas",
          "Americas",
          "Americas",
          "Americas",
          "Americas",
          "Americas",
          "Americas",
          "Americas",
          "Americas",
          "Americas",
          "Africa",
          "Africa",
          "Africa",
          "Africa",
          "Africa",
          "Africa",
          "Africa",
          "Africa",
          "Africa",
          "Africa",
          "Africa",
          "Africa",
          "Africa",
          "Africa",
          "Africa",
          "Africa",
          "Africa",
          "Africa",
          "Africa",
          "Africa",
          "Africa",
          "Africa",
          "Africa",
          "Africa",
          "Americas",
          "Americas",
          "Americas",
          "Americas",
          "Americas",
          "Americas",
          "Americas",
          "Americas",
          "Americas",
          "Americas",
          "Americas",
          "Americas",
          "Asia",
          "Asia",
          "Asia",
          "Asia",
          "Asia",
          "Asia",
          "Asia",
          "Asia",
          "Asia",
          "Asia",
          "Asia",
          "Asia",
          "Americas",
          "Americas",
          "Americas",
          "Americas",
          "Americas",
          "Americas",
          "Americas",
          "Americas",
          "Americas",
          "Americas",
          "Americas",
          "Americas",
          "Africa",
          "Africa",
          "Africa",
          "Africa",
          "Africa",
          "Africa",
          "Africa",
          "Africa",
          "Africa",
          "Africa",
          "Africa",
          "Africa",
          "Africa",
          "Africa",
          "Africa",
          "Africa",
          "Africa",
          "Africa",
          "Africa",
          "Africa",
          "Africa",
          "Africa",
          "Africa",
          "Africa",
          "Africa",
          "Africa",
          "Africa",
          "Africa",
          "Africa",
          "Africa",
          "Africa",
          "Africa",
          "Africa",
          "Africa",
          "Africa",
          "Africa",
          "Americas",
          "Americas",
          "Americas",
          "Americas",
          "Americas",
          "Americas",
          "Americas",
          "Americas",
          "Americas",
          "Americas",
          "Americas",
          "Americas",
          "Africa",
          "Africa",
          "Africa",
          "Africa",
          "Africa",
          "Africa",
          "Africa",
          "Africa",
          "Africa",
          "Africa",
          "Africa",
          "Africa",
          "Europe",
          "Europe",
          "Europe",
          "Europe",
          "Europe",
          "Europe",
          "Europe",
          "Europe",
          "Europe",
          "Europe",
          "Europe",
          "Europe",
          "Americas",
          "Americas",
          "Americas",
          "Americas",
          "Americas",
          "Americas",
          "Americas",
          "Americas",
          "Americas",
          "Americas",
          "Americas",
          "Americas",
          "Europe",
          "Europe",
          "Europe",
          "Europe",
          "Europe",
          "Europe",
          "Europe",
          "Europe",
          "Europe",
          "Europe",
          "Europe",
          "Europe",
          "Europe",
          "Europe",
          "Europe",
          "Europe",
          "Europe",
          "Europe",
          "Europe",
          "Europe",
          "Europe",
          "Europe",
          "Europe",
          "Europe",
          "Africa",
          "Africa",
          "Africa",
          "Africa",
          "Africa",
          "Africa",
          "Africa",
          "Africa",
          "Africa",
          "Africa",
          "Africa",
          "Africa",
          "Americas",
          "Americas",
          "Americas",
          "Americas",
          "Americas",
          "Americas",
          "Americas",
          "Americas",
          "Americas",
          "Americas",
          "Americas",
          "Americas",
          "Americas",
          "Americas",
          "Americas",
          "Americas",
          "Americas",
          "Americas",
          "Americas",
          "Americas",
          "Americas",
          "Americas",
          "Americas",
          "Americas",
          "Africa",
          "Africa",
          "Africa",
          "Africa",
          "Africa",
          "Africa",
          "Africa",
          "Africa",
          "Africa",
          "Africa",
          "Africa",
          "Africa",
          "Americas",
          "Americas",
          "Americas",
          "Americas",
          "Americas",
          "Americas",
          "Americas",
          "Americas",
          "Americas",
          "Americas",
          "Americas",
          "Americas",
          "Africa",
          "Africa",
          "Africa",
          "Africa",
          "Africa",
          "Africa",
          "Africa",
          "Africa",
          "Africa",
          "Africa",
          "Africa",
          "Africa",
          "Africa",
          "Africa",
          "Africa",
          "Africa",
          "Africa",
          "Africa",
          "Africa",
          "Africa",
          "Africa",
          "Africa",
          "Africa",
          "Africa",
          "Africa",
          "Africa",
          "Africa",
          "Africa",
          "Africa",
          "Africa",
          "Africa",
          "Africa",
          "Africa",
          "Africa",
          "Africa",
          "Africa",
          "Europe",
          "Europe",
          "Europe",
          "Europe",
          "Europe",
          "Europe",
          "Europe",
          "Europe",
          "Europe",
          "Europe",
          "Europe",
          "Europe",
          "Europe",
          "Europe",
          "Europe",
          "Europe",
          "Europe",
          "Europe",
          "Europe",
          "Europe",
          "Europe",
          "Europe",
          "Europe",
          "Europe",
          "Africa",
          "Africa",
          "Africa",
          "Africa",
          "Africa",
          "Africa",
          "Africa",
          "Africa",
          "Africa",
          "Africa",
          "Africa",
          "Africa",
          "Africa",
          "Africa",
          "Africa",
          "Africa",
          "Africa",
          "Africa",
          "Africa",
          "Africa",
          "Africa",
          "Africa",
          "Africa",
          "Africa",
          "Europe",
          "Europe",
          "Europe",
          "Europe",
          "Europe",
          "Europe",
          "Europe",
          "Europe",
          "Europe",
          "Europe",
          "Europe",
          "Europe",
          "Africa",
          "Africa",
          "Africa",
          "Africa",
          "Africa",
          "Africa",
          "Africa",
          "Africa",
          "Africa",
          "Africa",
          "Africa",
          "Africa",
          "Europe",
          "Europe",
          "Europe",
          "Europe",
          "Europe",
          "Europe",
          "Europe",
          "Europe",
          "Europe",
          "Europe",
          "Europe",
          "Europe",
          "Americas",
          "Americas",
          "Americas",
          "Americas",
          "Americas",
          "Americas",
          "Americas",
          "Americas",
          "Americas",
          "Americas",
          "Americas",
          "Americas",
          "Africa",
          "Africa",
          "Africa",
          "Africa",
          "Africa",
          "Africa",
          "Africa",
          "Africa",
          "Africa",
          "Africa",
          "Africa",
          "Africa",
          "Africa",
          "Africa",
          "Africa",
          "Africa",
          "Africa",
          "Africa",
          "Africa",
          "Africa",
          "Africa",
          "Africa",
          "Africa",
          "Africa",
          "Americas",
          "Americas",
          "Americas",
          "Americas",
          "Americas",
          "Americas",
          "Americas",
          "Americas",
          "Americas",
          "Americas",
          "Americas",
          "Americas",
          "Americas",
          "Americas",
          "Americas",
          "Americas",
          "Americas",
          "Americas",
          "Americas",
          "Americas",
          "Americas",
          "Americas",
          "Americas",
          "Americas",
          "Asia",
          "Asia",
          "Asia",
          "Asia",
          "Asia",
          "Asia",
          "Asia",
          "Asia",
          "Asia",
          "Asia",
          "Asia",
          "Asia",
          "Europe",
          "Europe",
          "Europe",
          "Europe",
          "Europe",
          "Europe",
          "Europe",
          "Europe",
          "Europe",
          "Europe",
          "Europe",
          "Europe",
          "Europe",
          "Europe",
          "Europe",
          "Europe",
          "Europe",
          "Europe",
          "Europe",
          "Europe",
          "Europe",
          "Europe",
          "Europe",
          "Europe",
          "Asia",
          "Asia",
          "Asia",
          "Asia",
          "Asia",
          "Asia",
          "Asia",
          "Asia",
          "Asia",
          "Asia",
          "Asia",
          "Asia",
          "Asia",
          "Asia",
          "Asia",
          "Asia",
          "Asia",
          "Asia",
          "Asia",
          "Asia",
          "Asia",
          "Asia",
          "Asia",
          "Asia",
          "Asia",
          "Asia",
          "Asia",
          "Asia",
          "Asia",
          "Asia",
          "Asia",
          "Asia",
          "Asia",
          "Asia",
          "Asia",
          "Asia",
          "Asia",
          "Asia",
          "Asia",
          "Asia",
          "Asia",
          "Asia",
          "Asia",
          "Asia",
          "Asia",
          "Asia",
          "Asia",
          "Asia",
          "Europe",
          "Europe",
          "Europe",
          "Europe",
          "Europe",
          "Europe",
          "Europe",
          "Europe",
          "Europe",
          "Europe",
          "Europe",
          "Europe",
          "Asia",
          "Asia",
          "Asia",
          "Asia",
          "Asia",
          "Asia",
          "Asia",
          "Asia",
          "Asia",
          "Asia",
          "Asia",
          "Asia",
          "Europe",
          "Europe",
          "Europe",
          "Europe",
          "Europe",
          "Europe",
          "Europe",
          "Europe",
          "Europe",
          "Europe",
          "Europe",
          "Europe",
          "Americas",
          "Americas",
          "Americas",
          "Americas",
          "Americas",
          "Americas",
          "Americas",
          "Americas",
          "Americas",
          "Americas",
          "Americas",
          "Americas",
          "Asia",
          "Asia",
          "Asia",
          "Asia",
          "Asia",
          "Asia",
          "Asia",
          "Asia",
          "Asia",
          "Asia",
          "Asia",
          "Asia",
          "Asia",
          "Asia",
          "Asia",
          "Asia",
          "Asia",
          "Asia",
          "Asia",
          "Asia",
          "Asia",
          "Asia",
          "Asia",
          "Asia",
          "Africa",
          "Africa",
          "Africa",
          "Africa",
          "Africa",
          "Africa",
          "Africa",
          "Africa",
          "Africa",
          "Africa",
          "Africa",
          "Africa",
          "Asia",
          "Asia",
          "Asia",
          "Asia",
          "Asia",
          "Asia",
          "Asia",
          "Asia",
          "Asia",
          "Asia",
          "Asia",
          "Asia",
          "Asia",
          "Asia",
          "Asia",
          "Asia",
          "Asia",
          "Asia",
          "Asia",
          "Asia",
          "Asia",
          "Asia",
          "Asia",
          "Asia",
          "Asia",
          "Asia",
          "Asia",
          "Asia",
          "Asia",
          "Asia",
          "Asia",
          "Asia",
          "Asia",
          "Asia",
          "Asia",
          "Asia",
          "Asia",
          "Asia",
          "Asia",
          "Asia",
          "Asia",
          "Asia",
          "Asia",
          "Asia",
          "Asia",
          "Asia",
          "Asia",
          "Asia",
          "Africa",
          "Africa",
          "Africa",
          "Africa",
          "Africa",
          "Africa",
          "Africa",
          "Africa",
          "Africa",
          "Africa",
          "Africa",
          "Africa",
          "Africa",
          "Africa",
          "Africa",
          "Africa",
          "Africa",
          "Africa",
          "Africa",
          "Africa",
          "Africa",
          "Africa",
          "Africa",
          "Africa",
          "Africa",
          "Africa",
          "Africa",
          "Africa",
          "Africa",
          "Africa",
          "Africa",
          "Africa",
          "Africa",
          "Africa",
          "Africa",
          "Africa",
          "Africa",
          "Africa",
          "Africa",
          "Africa",
          "Africa",
          "Africa",
          "Africa",
          "Africa",
          "Africa",
          "Africa",
          "Africa",
          "Africa",
          "Africa",
          "Africa",
          "Africa",
          "Africa",
          "Africa",
          "Africa",
          "Africa",
          "Africa",
          "Africa",
          "Africa",
          "Africa",
          "Africa",
          "Asia",
          "Asia",
          "Asia",
          "Asia",
          "Asia",
          "Asia",
          "Asia",
          "Asia",
          "Asia",
          "Asia",
          "Asia",
          "Asia",
          "Africa",
          "Africa",
          "Africa",
          "Africa",
          "Africa",
          "Africa",
          "Africa",
          "Africa",
          "Africa",
          "Africa",
          "Africa",
          "Africa",
          "Africa",
          "Africa",
          "Africa",
          "Africa",
          "Africa",
          "Africa",
          "Africa",
          "Africa",
          "Africa",
          "Africa",
          "Africa",
          "Africa",
          "Africa",
          "Africa",
          "Africa",
          "Africa",
          "Africa",
          "Africa",
          "Africa",
          "Africa",
          "Africa",
          "Africa",
          "Africa",
          "Africa",
          "Americas",
          "Americas",
          "Americas",
          "Americas",
          "Americas",
          "Americas",
          "Americas",
          "Americas",
          "Americas",
          "Americas",
          "Americas",
          "Americas",
          "Asia",
          "Asia",
          "Asia",
          "Asia",
          "Asia",
          "Asia",
          "Asia",
          "Asia",
          "Asia",
          "Asia",
          "Asia",
          "Asia",
          "Europe",
          "Europe",
          "Europe",
          "Europe",
          "Europe",
          "Europe",
          "Europe",
          "Europe",
          "Europe",
          "Europe",
          "Europe",
          "Europe",
          "Africa",
          "Africa",
          "Africa",
          "Africa",
          "Africa",
          "Africa",
          "Africa",
          "Africa",
          "Africa",
          "Africa",
          "Africa",
          "Africa",
          "Africa",
          "Africa",
          "Africa",
          "Africa",
          "Africa",
          "Africa",
          "Africa",
          "Africa",
          "Africa",
          "Africa",
          "Africa",
          "Africa",
          "Asia",
          "Asia",
          "Asia",
          "Asia",
          "Asia",
          "Asia",
          "Asia",
          "Asia",
          "Asia",
          "Asia",
          "Asia",
          "Asia",
          "Africa",
          "Africa",
          "Africa",
          "Africa",
          "Africa",
          "Africa",
          "Africa",
          "Africa",
          "Africa",
          "Africa",
          "Africa",
          "Africa",
          "Asia",
          "Asia",
          "Asia",
          "Asia",
          "Asia",
          "Asia",
          "Asia",
          "Asia",
          "Asia",
          "Asia",
          "Asia",
          "Asia",
          "Europe",
          "Europe",
          "Europe",
          "Europe",
          "Europe",
          "Europe",
          "Europe",
          "Europe",
          "Europe",
          "Europe",
          "Europe",
          "Europe",
          "Oceania",
          "Oceania",
          "Oceania",
          "Oceania",
          "Oceania",
          "Oceania",
          "Oceania",
          "Oceania",
          "Oceania",
          "Oceania",
          "Oceania",
          "Oceania",
          "Americas",
          "Americas",
          "Americas",
          "Americas",
          "Americas",
          "Americas",
          "Americas",
          "Americas",
          "Americas",
          "Americas",
          "Americas",
          "Americas",
          "Africa",
          "Africa",
          "Africa",
          "Africa",
          "Africa",
          "Africa",
          "Africa",
          "Africa",
          "Africa",
          "Africa",
          "Africa",
          "Africa",
          "Africa",
          "Africa",
          "Africa",
          "Africa",
          "Africa",
          "Africa",
          "Africa",
          "Africa",
          "Africa",
          "Africa",
          "Africa",
          "Africa",
          "Europe",
          "Europe",
          "Europe",
          "Europe",
          "Europe",
          "Europe",
          "Europe",
          "Europe",
          "Europe",
          "Europe",
          "Europe",
          "Europe",
          "Asia",
          "Asia",
          "Asia",
          "Asia",
          "Asia",
          "Asia",
          "Asia",
          "Asia",
          "Asia",
          "Asia",
          "Asia",
          "Asia",
          "Asia",
          "Asia",
          "Asia",
          "Asia",
          "Asia",
          "Asia",
          "Asia",
          "Asia",
          "Asia",
          "Asia",
          "Asia",
          "Asia",
          "Americas",
          "Americas",
          "Americas",
          "Americas",
          "Americas",
          "Americas",
          "Americas",
          "Americas",
          "Americas",
          "Americas",
          "Americas",
          "Americas",
          "Americas",
          "Americas",
          "Americas",
          "Americas",
          "Americas",
          "Americas",
          "Americas",
          "Americas",
          "Americas",
          "Americas",
          "Americas",
          "Americas",
          "Americas",
          "Americas",
          "Americas",
          "Americas",
          "Americas",
          "Americas",
          "Americas",
          "Americas",
          "Americas",
          "Americas",
          "Americas",
          "Americas",
          "Asia",
          "Asia",
          "Asia",
          "Asia",
          "Asia",
          "Asia",
          "Asia",
          "Asia",
          "Asia",
          "Asia",
          "Asia",
          "Asia",
          "Europe",
          "Europe",
          "Europe",
          "Europe",
          "Europe",
          "Europe",
          "Europe",
          "Europe",
          "Europe",
          "Europe",
          "Europe",
          "Europe",
          "Europe",
          "Europe",
          "Europe",
          "Europe",
          "Europe",
          "Europe",
          "Europe",
          "Europe",
          "Europe",
          "Europe",
          "Europe",
          "Europe",
          "Americas",
          "Americas",
          "Americas",
          "Americas",
          "Americas",
          "Americas",
          "Americas",
          "Americas",
          "Americas",
          "Americas",
          "Americas",
          "Americas",
          "Africa",
          "Africa",
          "Africa",
          "Africa",
          "Africa",
          "Africa",
          "Africa",
          "Africa",
          "Africa",
          "Africa",
          "Africa",
          "Africa",
          "Europe",
          "Europe",
          "Europe",
          "Europe",
          "Europe",
          "Europe",
          "Europe",
          "Europe",
          "Europe",
          "Europe",
          "Europe",
          "Europe",
          "Africa",
          "Africa",
          "Africa",
          "Africa",
          "Africa",
          "Africa",
          "Africa",
          "Africa",
          "Africa",
          "Africa",
          "Africa",
          "Africa",
          "Africa",
          "Africa",
          "Africa",
          "Africa",
          "Africa",
          "Africa",
          "Africa",
          "Africa",
          "Africa",
          "Africa",
          "Africa",
          "Africa",
          "Asia",
          "Asia",
          "Asia",
          "Asia",
          "Asia",
          "Asia",
          "Asia",
          "Asia",
          "Asia",
          "Asia",
          "Asia",
          "Asia",
          "Africa",
          "Africa",
          "Africa",
          "Africa",
          "Africa",
          "Africa",
          "Africa",
          "Africa",
          "Africa",
          "Africa",
          "Africa",
          "Africa",
          "Europe",
          "Europe",
          "Europe",
          "Europe",
          "Europe",
          "Europe",
          "Europe",
          "Europe",
          "Europe",
          "Europe",
          "Europe",
          "Europe",
          "Africa",
          "Africa",
          "Africa",
          "Africa",
          "Africa",
          "Africa",
          "Africa",
          "Africa",
          "Africa",
          "Africa",
          "Africa",
          "Africa",
          "Asia",
          "Asia",
          "Asia",
          "Asia",
          "Asia",
          "Asia",
          "Asia",
          "Asia",
          "Asia",
          "Asia",
          "Asia",
          "Asia",
          "Europe",
          "Europe",
          "Europe",
          "Europe",
          "Europe",
          "Europe",
          "Europe",
          "Europe",
          "Europe",
          "Europe",
          "Europe",
          "Europe",
          "Europe",
          "Europe",
          "Europe",
          "Europe",
          "Europe",
          "Europe",
          "Europe",
          "Europe",
          "Europe",
          "Europe",
          "Europe",
          "Europe",
          "Africa",
          "Africa",
          "Africa",
          "Africa",
          "Africa",
          "Africa",
          "Africa",
          "Africa",
          "Africa",
          "Africa",
          "Africa",
          "Africa",
          "Africa",
          "Africa",
          "Africa",
          "Africa",
          "Africa",
          "Africa",
          "Africa",
          "Africa",
          "Africa",
          "Africa",
          "Africa",
          "Africa",
          "Europe",
          "Europe",
          "Europe",
          "Europe",
          "Europe",
          "Europe",
          "Europe",
          "Europe",
          "Europe",
          "Europe",
          "Europe",
          "Europe",
          "Asia",
          "Asia",
          "Asia",
          "Asia",
          "Asia",
          "Asia",
          "Asia",
          "Asia",
          "Asia",
          "Asia",
          "Asia",
          "Asia",
          "Africa",
          "Africa",
          "Africa",
          "Africa",
          "Africa",
          "Africa",
          "Africa",
          "Africa",
          "Africa",
          "Africa",
          "Africa",
          "Africa",
          "Africa",
          "Africa",
          "Africa",
          "Africa",
          "Africa",
          "Africa",
          "Africa",
          "Africa",
          "Africa",
          "Africa",
          "Africa",
          "Africa",
          "Europe",
          "Europe",
          "Europe",
          "Europe",
          "Europe",
          "Europe",
          "Europe",
          "Europe",
          "Europe",
          "Europe",
          "Europe",
          "Europe",
          "Europe",
          "Europe",
          "Europe",
          "Europe",
          "Europe",
          "Europe",
          "Europe",
          "Europe",
          "Europe",
          "Europe",
          "Europe",
          "Europe",
          "Asia",
          "Asia",
          "Asia",
          "Asia",
          "Asia",
          "Asia",
          "Asia",
          "Asia",
          "Asia",
          "Asia",
          "Asia",
          "Asia",
          "Asia",
          "Asia",
          "Asia",
          "Asia",
          "Asia",
          "Asia",
          "Asia",
          "Asia",
          "Asia",
          "Asia",
          "Asia",
          "Asia",
          "Africa",
          "Africa",
          "Africa",
          "Africa",
          "Africa",
          "Africa",
          "Africa",
          "Africa",
          "Africa",
          "Africa",
          "Africa",
          "Africa",
          "Asia",
          "Asia",
          "Asia",
          "Asia",
          "Asia",
          "Asia",
          "Asia",
          "Asia",
          "Asia",
          "Asia",
          "Asia",
          "Asia",
          "Africa",
          "Africa",
          "Africa",
          "Africa",
          "Africa",
          "Africa",
          "Africa",
          "Africa",
          "Africa",
          "Africa",
          "Africa",
          "Africa",
          "Americas",
          "Americas",
          "Americas",
          "Americas",
          "Americas",
          "Americas",
          "Americas",
          "Americas",
          "Americas",
          "Americas",
          "Americas",
          "Americas",
          "Africa",
          "Africa",
          "Africa",
          "Africa",
          "Africa",
          "Africa",
          "Africa",
          "Africa",
          "Africa",
          "Africa",
          "Africa",
          "Africa",
          "Europe",
          "Europe",
          "Europe",
          "Europe",
          "Europe",
          "Europe",
          "Europe",
          "Europe",
          "Europe",
          "Europe",
          "Europe",
          "Europe",
          "Africa",
          "Africa",
          "Africa",
          "Africa",
          "Africa",
          "Africa",
          "Africa",
          "Africa",
          "Africa",
          "Africa",
          "Africa",
          "Africa",
          "Europe",
          "Europe",
          "Europe",
          "Europe",
          "Europe",
          "Europe",
          "Europe",
          "Europe",
          "Europe",
          "Europe",
          "Europe",
          "Europe",
          "Americas",
          "Americas",
          "Americas",
          "Americas",
          "Americas",
          "Americas",
          "Americas",
          "Americas",
          "Americas",
          "Americas",
          "Americas",
          "Americas",
          "Americas",
          "Americas",
          "Americas",
          "Americas",
          "Americas",
          "Americas",
          "Americas",
          "Americas",
          "Americas",
          "Americas",
          "Americas",
          "Americas",
          "Americas",
          "Americas",
          "Americas",
          "Americas",
          "Americas",
          "Americas",
          "Americas",
          "Americas",
          "Americas",
          "Americas",
          "Americas",
          "Americas",
          "Asia",
          "Asia",
          "Asia",
          "Asia",
          "Asia",
          "Asia",
          "Asia",
          "Asia",
          "Asia",
          "Asia",
          "Asia",
          "Asia",
          "Asia",
          "Asia",
          "Asia",
          "Asia",
          "Asia",
          "Asia",
          "Asia",
          "Asia",
          "Asia",
          "Asia",
          "Asia",
          "Asia",
          "Asia",
          "Asia",
          "Asia",
          "Asia",
          "Asia",
          "Asia",
          "Asia",
          "Asia",
          "Asia",
          "Asia",
          "Asia",
          "Asia",
          "Africa",
          "Africa",
          "Africa",
          "Africa",
          "Africa",
          "Africa",
          "Africa",
          "Africa",
          "Africa",
          "Africa",
          "Africa",
          "Africa",
          "Africa",
          "Africa",
          "Africa",
          "Africa",
          "Africa",
          "Africa",
          "Africa",
          "Africa",
          "Africa",
          "Africa",
          "Africa",
          "Africa"
         ],
         "z": [
          8425333,
          9240934,
          10267083,
          11537966,
          13079460,
          14880372,
          12881816,
          13867957,
          16317921,
          22227415,
          25268405,
          31889923,
          1282697,
          1476505,
          1728137,
          1984060,
          2263554,
          2509048,
          2780097,
          3075321,
          3326498,
          3428038,
          3508512,
          3600523,
          9279525,
          10270856,
          11000948,
          12760499,
          14760787,
          17152804,
          20033753,
          23254956,
          26298373,
          29072015,
          31287142,
          33333216,
          4232095,
          4561361,
          4826015,
          5247469,
          5894858,
          6162675,
          7016384,
          7874230,
          8735988,
          9875024,
          10866106,
          12420476,
          17876956,
          19610538,
          21283783,
          22934225,
          24779799,
          26983828,
          29341374,
          31620918,
          33958947,
          36203463,
          38331121,
          40301927,
          8691212,
          9712569,
          10794968,
          11872264,
          13177000,
          14074100,
          15184200,
          16257249,
          17481977,
          18565243,
          19546792,
          20434176,
          6927772,
          6965860,
          7129864,
          7376998,
          7544201,
          7568430,
          7574613,
          7578903,
          7914969,
          8069876,
          8148312,
          8199783,
          120447,
          138655,
          171863,
          202182,
          230800,
          297410,
          377967,
          454612,
          529491,
          598561,
          656397,
          708573,
          46886859,
          51365468,
          56839289,
          62821884,
          70759295,
          80428306,
          93074406,
          103764241,
          113704579,
          123315288,
          135656790,
          150448339,
          8730405,
          8989111,
          9218400,
          9556500,
          9709100,
          9821800,
          9856303,
          9870200,
          10045622,
          10199787,
          10311970,
          10392226,
          1738315,
          1925173,
          2151895,
          2427334,
          2761407,
          3168267,
          3641603,
          4243788,
          4981671,
          6066080,
          7026113,
          8078314,
          2883315,
          3211738,
          3593918,
          4040665,
          4565872,
          5079716,
          5642224,
          6156369,
          6893451,
          7693188,
          8445134,
          9119152,
          2791000,
          3076000,
          3349000,
          3585000,
          3819000,
          4086000,
          4172693,
          4338977,
          4256013,
          3607000,
          4165416,
          4552198,
          442308,
          474639,
          512764,
          553541,
          619351,
          781472,
          970347,
          1151184,
          1342614,
          1536536,
          1630347,
          1639131,
          56602560,
          65551171,
          76039390,
          88049823,
          100840058,
          114313951,
          128962939,
          142938076,
          155975974,
          168546719,
          179914212,
          190010647,
          7274900,
          7651254,
          8012946,
          8310226,
          8576200,
          8797022,
          8892098,
          8971958,
          8658506,
          8066057,
          7661799,
          7322858,
          4469979,
          4713416,
          4919632,
          5127935,
          5433886,
          5889574,
          6634596,
          7586551,
          8878303,
          10352843,
          12251209,
          14326203,
          2445618,
          2667518,
          2961915,
          3330989,
          3529983,
          3834415,
          4580410,
          5126023,
          5809236,
          6121610,
          7021078,
          8390505,
          4693836,
          5322536,
          6083619,
          6960067,
          7450606,
          6978607,
          7272485,
          8371791,
          10150094,
          11782962,
          12926707,
          14131858,
          5009067,
          5359923,
          5793633,
          6335506,
          7021028,
          7959865,
          9250831,
          10780667,
          12467171,
          14195809,
          15929988,
          17696293,
          14785584,
          17010154,
          18985849,
          20819767,
          22284500,
          23796400,
          25201900,
          26549700,
          28523502,
          30305843,
          31902268,
          33390141,
          1291695,
          1392284,
          1523478,
          1733638,
          1927260,
          2167533,
          2476971,
          2840009,
          3265124,
          3696513,
          4048013,
          4369038,
          2682462,
          2894855,
          3150417,
          3495967,
          3899068,
          4388260,
          4875118,
          5498955,
          6429417,
          7562011,
          8835739,
          10238807,
          6377619,
          7048426,
          7961258,
          8858908,
          9717524,
          10599793,
          11487112,
          12463354,
          13572994,
          14599929,
          15497046,
          16284741,
          556263527,
          637408000,
          665770000,
          754550000,
          862030000,
          943455000,
          1000281000,
          1084035000,
          1164970000,
          1230075000,
          1280400000,
          1318683096,
          12350771,
          14485993,
          17009885,
          19764027,
          22542890,
          25094412,
          27764644,
          30964245,
          34202721,
          37657830,
          41008227,
          44227550,
          153936,
          170928,
          191689,
          217378,
          250027,
          304739,
          348643,
          395114,
          454429,
          527982,
          614382,
          710960,
          14100005,
          15577932,
          17486434,
          19941073,
          23007669,
          26480870,
          30646495,
          35481645,
          41672143,
          47798986,
          55379852,
          64606759,
          854885,
          940458,
          1047924,
          1179760,
          1340458,
          1536769,
          1774735,
          2064095,
          2409073,
          2800947,
          3328795,
          3800610,
          926317,
          1112300,
          1345187,
          1588717,
          1834796,
          2108457,
          2424367,
          2799811,
          3173216,
          3518107,
          3834934,
          4133884,
          2977019,
          3300000,
          3832408,
          4744870,
          6071696,
          7459574,
          9025951,
          10761098,
          12772596,
          14625967,
          16252726,
          18013409,
          3882229,
          3991242,
          4076557,
          4174366,
          4225310,
          4318673,
          4413368,
          4484310,
          4494013,
          4444595,
          4481020,
          4493312,
          6007797,
          6640752,
          7254373,
          8139332,
          8831348,
          9537988,
          9789224,
          10239839,
          10723260,
          10983007,
          11226999,
          11416987,
          9125183,
          9513758,
          9620282,
          9835109,
          9862158,
          10161915,
          10303704,
          10311597,
          10315702,
          10300707,
          10256295,
          10228744,
          4334000,
          4487831,
          4646899,
          4838800,
          4991596,
          5088419,
          5117810,
          5127024,
          5171393,
          5283663,
          5374693,
          5468120,
          63149,
          71851,
          89898,
          127617,
          178848,
          228694,
          305991,
          311025,
          384156,
          417908,
          447416,
          496374,
          2491346,
          2923186,
          3453434,
          4049146,
          4671329,
          5302800,
          5968349,
          6655297,
          7351181,
          7992357,
          8650322,
          9319622,
          3548753,
          4058385,
          4681707,
          5432424,
          6298651,
          7278866,
          8365850,
          9545158,
          10748394,
          11911819,
          12921234,
          13755680,
          22223309,
          25009741,
          28173309,
          31681188,
          34807417,
          38783863,
          45681811,
          52799062,
          59402198,
          66134291,
          73312559,
          80264543,
          2042865,
          2355805,
          2747687,
          3232927,
          3790903,
          4282586,
          4474873,
          4842194,
          5274649,
          5783439,
          6353681,
          6939688,
          216964,
          232922,
          249220,
          259864,
          277603,
          192675,
          285483,
          341244,
          387838,
          439971,
          495627,
          551201,
          1438760,
          1542611,
          1666618,
          1820319,
          2260187,
          2512642,
          2637297,
          2915959,
          3668440,
          4058319,
          4414865,
          4906585,
          20860941,
          22815614,
          25145372,
          27860297,
          30770372,
          34617799,
          38111756,
          42999530,
          52088559,
          59861301,
          67946797,
          76511887,
          4090500,
          4324000,
          4491443,
          4605744,
          4639657,
          4738902,
          4826933,
          4931729,
          5041039,
          5134406,
          5193039,
          5238460,
          42459667,
          44310863,
          47124000,
          49569000,
          51732000,
          53165019,
          54433565,
          55630100,
          57374179,
          58623428,
          59925035,
          61083916,
          420702,
          434904,
          455661,
          489004,
          537977,
          706367,
          753874,
          880397,
          985739,
          1126189,
          1299304,
          1454867,
          284320,
          323150,
          374020,
          439593,
          517101,
          608274,
          715523,
          848406,
          1025384,
          1235767,
          1457766,
          1688359,
          69145952,
          71019069,
          73739117,
          76368453,
          78717088,
          78160773,
          78335266,
          77718298,
          80597764,
          82011073,
          82350671,
          82400996,
          5581001,
          6391288,
          7355248,
          8490213,
          9354120,
          10538093,
          11400338,
          14168101,
          16278738,
          18418288,
          20550751,
          22873338,
          7733250,
          8096218,
          8448233,
          8716441,
          8888628,
          9308479,
          9786480,
          9974490,
          10325429,
          10502372,
          10603863,
          10706290,
          3146381,
          3640876,
          4208858,
          4690773,
          5149581,
          5703430,
          6395630,
          7326406,
          8486949,
          9803875,
          11178650,
          12572928,
          2664249,
          2876726,
          3140003,
          3451418,
          3811387,
          4227026,
          4710497,
          5650262,
          6990574,
          8048834,
          8807818,
          9947814,
          580653,
          601095,
          627820,
          601287,
          625361,
          745228,
          825987,
          927524,
          1050938,
          1193708,
          1332459,
          1472041,
          3201488,
          3507701,
          3880130,
          4318137,
          4698301,
          4908554,
          5198399,
          5756203,
          6326682,
          6913545,
          7607651,
          8502814,
          1517453,
          1770390,
          2090162,
          2500689,
          2965146,
          3055235,
          3669448,
          4372203,
          5077347,
          5867957,
          6677328,
          7483763,
          2125900,
          2736300,
          3305200,
          3722800,
          4115700,
          4583700,
          5264500,
          5584510,
          5829696,
          6495918,
          6762476,
          6980412,
          9504000,
          9839000,
          10063000,
          10223422,
          10394091,
          10637171,
          10705535,
          10612740,
          10348684,
          10244684,
          10083313,
          9956108,
          147962,
          165110,
          182053,
          198676,
          209275,
          221823,
          233997,
          244676,
          259012,
          271192,
          288030,
          301931,
          372000000,
          409000000,
          454000000,
          506000000,
          567000000,
          634000000,
          708000000,
          788000000,
          872000000,
          959000000,
          1034172547,
          1110396331,
          82052000,
          90124000,
          99028000,
          109343000,
          121282000,
          136725000,
          153343000,
          169276000,
          184816000,
          199278000,
          211060000,
          223547000,
          17272000,
          19792000,
          22874000,
          26538000,
          30614000,
          35480679,
          43072751,
          51889696,
          60397973,
          63327987,
          66907826,
          69453570,
          5441766,
          6248643,
          7240260,
          8519282,
          10061506,
          11882916,
          14173318,
          16543189,
          17861905,
          20775703,
          24001816,
          27499638,
          2952156,
          2878220,
          2830000,
          2900100,
          3024400,
          3271900,
          3480000,
          3539900,
          3557761,
          3667233,
          3879155,
          4109086,
          1620914,
          1944401,
          2310904,
          2693585,
          3095893,
          3495918,
          3858421,
          4203148,
          4936550,
          5531387,
          6029529,
          6426679,
          47666000,
          49182000,
          50843200,
          52667100,
          54365564,
          56059245,
          56535636,
          56729703,
          56840847,
          57479469,
          57926999,
          58147733,
          1426095,
          1535090,
          1665128,
          1861096,
          1997616,
          2156814,
          2298309,
          2326606,
          2378618,
          2531311,
          2664659,
          2780132,
          86459025,
          91563009,
          95831757,
          100825279,
          107188273,
          113872473,
          118454974,
          122091325,
          124329269,
          125956499,
          127065841,
          127467972,
          607914,
          746559,
          933559,
          1255058,
          1613551,
          1937652,
          2347031,
          2820042,
          3867409,
          4526235,
          5307470,
          6053193,
          6464046,
          7454779,
          8678557,
          10191512,
          12044785,
          14500404,
          17661452,
          21198082,
          25020539,
          28263827,
          31386842,
          35610177,
          8865488,
          9411381,
          10917494,
          12617009,
          14781241,
          16325320,
          17647518,
          19067554,
          20711375,
          21585105,
          22215365,
          23301725,
          20947571,
          22611552,
          26420307,
          30131000,
          33505000,
          36436000,
          39326000,
          41622000,
          43805450,
          46173816,
          47969150,
          49044790,
          160000,
          212846,
          358266,
          575003,
          841934,
          1140357,
          1497494,
          1891487,
          1418095,
          1765345,
          2111561,
          2505559,
          1439529,
          1647412,
          1886848,
          2186894,
          2680018,
          3115787,
          3086876,
          3089353,
          3219994,
          3430388,
          3677780,
          3921278,
          748747,
          813338,
          893143,
          996380,
          1116779,
          1251524,
          1411807,
          1599200,
          1803195,
          1982823,
          2046772,
          2012649,
          863308,
          975950,
          1112796,
          1279406,
          1482628,
          1703617,
          1956875,
          2269414,
          1912974,
          2200725,
          2814651,
          3193942,
          1019729,
          1201578,
          1441863,
          1759224,
          2183877,
          2721783,
          3344074,
          3799845,
          4364501,
          4759670,
          5368585,
          6036914,
          4762912,
          5181679,
          5703324,
          6334556,
          7082430,
          8007166,
          9171477,
          10568642,
          12210395,
          14165114,
          16473477,
          19167654,
          2917802,
          3221238,
          3628608,
          4147252,
          4730997,
          5637246,
          6502825,
          7824747,
          10014249,
          10419991,
          11824495,
          13327079,
          6748378,
          7739235,
          8906385,
          10154878,
          11441462,
          12845381,
          14441916,
          16331785,
          18319502,
          20476091,
          22662365,
          24821286,
          3838168,
          4241884,
          4690372,
          5212416,
          5828158,
          6491649,
          6998256,
          7634008,
          8416215,
          9384984,
          10580176,
          12031795,
          1022556,
          1076852,
          1146757,
          1230542,
          1332786,
          1456688,
          1622136,
          1841240,
          2119465,
          2444741,
          2828858,
          3270065,
          516556,
          609816,
          701016,
          789309,
          851334,
          913025,
          992040,
          1042663,
          1096202,
          1149818,
          1200206,
          1250882,
          30144317,
          35015548,
          41121485,
          47995559,
          55984294,
          63759976,
          71640904,
          80122492,
          88111030,
          95895146,
          102479927,
          108700891,
          800663,
          882134,
          1010280,
          1149500,
          1320500,
          1528000,
          1756032,
          2015133,
          2312802,
          2494803,
          2674234,
          2874127,
          413834,
          442829,
          474528,
          501035,
          527678,
          560073,
          562548,
          569473,
          621621,
          692651,
          720230,
          684736,
          9939217,
          11406350,
          13056604,
          14770296,
          16660670,
          18396941,
          20198730,
          22987397,
          25798239,
          28529501,
          31167783,
          33757175,
          6446316,
          7038035,
          7788944,
          8680909,
          9809596,
          11127868,
          12587223,
          12891952,
          13160731,
          16603334,
          18473780,
          19951656,
          20092996,
          21731844,
          23634436,
          25870271,
          28466390,
          31528087,
          34680442,
          38028578,
          40546538,
          43247867,
          45598081,
          47761980,
          485831,
          548080,
          621392,
          706640,
          821782,
          977026,
          1099010,
          1278184,
          1554253,
          1774766,
          1972153,
          2055080,
          9182536,
          9682338,
          10332057,
          11261690,
          12412593,
          13933198,
          15796314,
          17917180,
          20326209,
          23001113,
          25873917,
          28901790,
          10381988,
          11026383,
          11805689,
          12596822,
          13329874,
          13852989,
          14310401,
          14665278,
          15174244,
          15604464,
          16122830,
          16570613,
          1994794,
          2229407,
          2488550,
          2728150,
          2929100,
          3164900,
          3210650,
          3317166,
          3437674,
          3676187,
          3908037,
          4115771,
          1165790,
          1358828,
          1590597,
          1865490,
          2182908,
          2554598,
          2979423,
          3344353,
          4017939,
          4609572,
          5146848,
          5675356,
          3379468,
          3692184,
          4076008,
          4534062,
          5060262,
          5682086,
          6437188,
          7332638,
          8392818,
          9666252,
          11140655,
          12894865,
          33119096,
          37173340,
          41871351,
          47287752,
          53740085,
          62209173,
          73039376,
          81551520,
          93364244,
          106207839,
          119901274,
          135031164,
          3327728,
          3491938,
          3638919,
          3786019,
          3933004,
          4043205,
          4114787,
          4186147,
          4286357,
          4405672,
          4535591,
          4627926,
          507833,
          561977,
          628164,
          714775,
          829050,
          1004533,
          1301048,
          1593882,
          1915208,
          2283635,
          2713462,
          3204897,
          41346560,
          46679944,
          53100671,
          60641899,
          69325921,
          78152686,
          91462088,
          105186881,
          120065004,
          135564834,
          153403524,
          169270617,
          940080,
          1063506,
          1215725,
          1405486,
          1616384,
          1839782,
          2036305,
          2253639,
          2484997,
          2734531,
          2990875,
          3242173,
          1555876,
          1770902,
          2009813,
          2287985,
          2614104,
          2984494,
          3366439,
          3886512,
          4483945,
          5154123,
          5884491,
          6667147,
          8025700,
          9146100,
          10516500,
          12132200,
          13954700,
          15990099,
          18125129,
          20195924,
          22430449,
          24748122,
          26769436,
          28674757,
          22438691,
          26072194,
          30325264,
          35356600,
          40850141,
          46850962,
          53456774,
          60017788,
          67185766,
          75012988,
          82995088,
          91077287,
          25730551,
          28235346,
          30329617,
          31785378,
          33039545,
          34621254,
          36227381,
          37740710,
          38370697,
          38654957,
          38625976,
          38518241,
          8526050,
          8817650,
          9019800,
          9103000,
          8970450,
          9662600,
          9859650,
          9915289,
          9927680,
          10156415,
          10433867,
          10642836,
          2227000,
          2260000,
          2448046,
          2648961,
          2847132,
          3080828,
          3279001,
          3444468,
          3585176,
          3759430,
          3859606,
          3942491,
          257700,
          308700,
          358900,
          414024,
          461633,
          492095,
          517810,
          562035,
          622191,
          684810,
          743981,
          798094,
          16630000,
          17829327,
          18680721,
          19284814,
          20662648,
          21658597,
          22356726,
          22686371,
          22797027,
          22562458,
          22404337,
          22276056,
          2534927,
          2822082,
          3051242,
          3451079,
          3992121,
          4657072,
          5507565,
          6349365,
          7290203,
          7212583,
          7852401,
          8860588,
          60011,
          61325,
          65345,
          70787,
          76595,
          86796,
          98593,
          110812,
          125911,
          145608,
          170372,
          199579,
          4005677,
          4419650,
          4943029,
          5618198,
          6472756,
          8128505,
          11254672,
          14619745,
          16945857,
          21229759,
          24501530,
          27601038,
          2755589,
          3054547,
          3430243,
          3965841,
          4588696,
          5260855,
          6147783,
          7171347,
          8307920,
          9535314,
          10870037,
          12267493,
          6860147,
          7271135,
          7616060,
          7971222,
          8313288,
          8686367,
          9032824,
          9230783,
          9826397,
          10336594,
          10111559,
          10150265,
          2143249,
          2295678,
          2467895,
          2662190,
          2879013,
          3140897,
          3464522,
          3868905,
          4260884,
          4578212,
          5359092,
          6144562,
          1127000,
          1445929,
          1750200,
          1977600,
          2152400,
          2325300,
          2651869,
          2794552,
          3235865,
          3802309,
          4197776,
          4553009,
          3558137,
          3844277,
          4237384,
          4442238,
          4593433,
          4827803,
          5048043,
          5199318,
          5302888,
          5383010,
          5410052,
          5447502,
          1489518,
          1533070,
          1582962,
          1646912,
          1694510,
          1746919,
          1861252,
          1945870,
          1999210,
          2011612,
          2011497,
          2009245,
          2526994,
          2780415,
          3080153,
          3428839,
          3840161,
          4353666,
          5828892,
          6921858,
          6099799,
          6633514,
          7753310,
          9118773,
          14264935,
          16151549,
          18356657,
          20997321,
          23935810,
          27129932,
          31140029,
          35933379,
          39964159,
          42835005,
          44433622,
          43997828,
          28549870,
          29841614,
          31158061,
          32850275,
          34513161,
          36439000,
          37983310,
          38880702,
          39549438,
          39855442,
          40152517,
          40448191,
          7982342,
          9128546,
          10421936,
          11737396,
          13016733,
          14116836,
          15410151,
          16495304,
          17587060,
          18698655,
          19576783,
          20378239,
          8504667,
          9753392,
          11183227,
          12716129,
          14597019,
          17104986,
          20367053,
          24725960,
          28227588,
          32160729,
          37090298,
          42292929,
          290243,
          326741,
          370006,
          420690,
          480105,
          551425,
          649901,
          779348,
          962344,
          1054486,
          1130269,
          1133066,
          7124673,
          7363802,
          7561588,
          7867931,
          8122293,
          8251648,
          8325260,
          8421403,
          8718867,
          8897619,
          8954175,
          9031088,
          4815000,
          5126000,
          5666000,
          6063000,
          6401400,
          6316424,
          6468126,
          6649942,
          6995447,
          7193761,
          7361757,
          7554661,
          3661549,
          4149908,
          4834621,
          5680812,
          6701172,
          7932503,
          9410494,
          11242847,
          13219062,
          15081016,
          17155814,
          19314747,
          8550362,
          10164215,
          11918938,
          13648692,
          15226039,
          16785196,
          18501390,
          19757799,
          20686918,
          21628605,
          22454239,
          23174294,
          8322925,
          9452826,
          10863958,
          12607312,
          14706593,
          17129565,
          19844382,
          23040630,
          26605473,
          30686889,
          34593779,
          38139640,
          21289402,
          25041917,
          29263397,
          34024249,
          39276153,
          44148285,
          48827160,
          52910342,
          56667095,
          60216677,
          62806748,
          65068149,
          1219113,
          1357445,
          1528098,
          1735550,
          2056351,
          2308582,
          2644765,
          3154264,
          3747553,
          4320890,
          4977378,
          5701579,
          662850,
          764900,
          887498,
          960155,
          975199,
          1039009,
          1116479,
          1191336,
          1183669,
          1138101,
          1101832,
          1056608,
          3647735,
          3950849,
          4286552,
          4786986,
          5303507,
          6005061,
          6734098,
          7724976,
          8523077,
          9231669,
          9770575,
          10276158,
          22235677,
          25670939,
          29788695,
          33411317,
          37492953,
          42404033,
          47328791,
          52881328,
          58179144,
          63047647,
          67308928,
          71158647,
          5824797,
          6675501,
          7688797,
          8900294,
          10190285,
          11457758,
          12939400,
          15283050,
          18252190,
          21210254,
          24739869,
          29170398,
          50430000,
          51430000,
          53292000,
          54959000,
          56079000,
          56179000,
          56339704,
          56981620,
          57866349,
          58808266,
          59912431,
          60776238,
          157553000,
          171984000,
          186538000,
          198712000,
          209896000,
          220239000,
          232187835,
          242803533,
          256894189,
          272911760,
          287675526,
          301139947,
          2252965,
          2424959,
          2598466,
          2748579,
          2829526,
          2873520,
          2953997,
          3045153,
          3149262,
          3262838,
          3363085,
          3447496,
          5439568,
          6702668,
          8143375,
          9709552,
          11515649,
          13503563,
          15620766,
          17910182,
          20265563,
          22374398,
          24287670,
          26084662,
          26246839,
          28998543,
          33796140,
          39463910,
          44655014,
          50533506,
          56142181,
          62826491,
          69940728,
          76048996,
          80908147,
          85262356,
          1030585,
          1070439,
          1133134,
          1142636,
          1089572,
          1261091,
          1425876,
          1691210,
          2104779,
          2826046,
          3389578,
          4018332,
          4963829,
          5498090,
          6120081,
          6740785,
          7407075,
          8403990,
          9657618,
          11219340,
          13367997,
          15826497,
          18701257,
          22211743,
          2672000,
          3016000,
          3421000,
          3900000,
          4506497,
          5216550,
          6100407,
          7272406,
          8381163,
          9417789,
          10595811,
          11746035,
          3080907,
          3646340,
          4277736,
          4995432,
          5861135,
          6642107,
          7636524,
          9216418,
          10704340,
          11404948,
          11926563,
          12311143
         ]
        }
       ],
       "layout": {
        "coloraxis": {
         "colorbar": {
          "title": {
           "text": "lifeExp"
          }
         },
         "colorscale": [
          [
           0,
           "#0d0887"
          ],
          [
           0.1111111111111111,
           "#46039f"
          ],
          [
           0.2222222222222222,
           "#7201a8"
          ],
          [
           0.3333333333333333,
           "#9c179e"
          ],
          [
           0.4444444444444444,
           "#bd3786"
          ],
          [
           0.5555555555555556,
           "#d8576b"
          ],
          [
           0.6666666666666666,
           "#ed7953"
          ],
          [
           0.7777777777777778,
           "#fb9f3a"
          ],
          [
           0.8888888888888888,
           "#fdca26"
          ],
          [
           1,
           "#f0f921"
          ]
         ]
        },
        "legend": {
         "itemsizing": "constant",
         "tracegroupgap": 0
        },
        "margin": {
         "t": 60
        },
        "scene": {
         "domain": {
          "x": [
           0,
           1
          ],
          "y": [
           0,
           1
          ]
         },
         "xaxis": {
          "title": {
           "text": "year"
          }
         },
         "yaxis": {
          "title": {
           "text": "continent"
          }
         },
         "zaxis": {
          "title": {
           "text": "pop"
          },
          "type": "log"
         }
        },
        "template": {
         "data": {
          "bar": [
           {
            "error_x": {
             "color": "#2a3f5f"
            },
            "error_y": {
             "color": "#2a3f5f"
            },
            "marker": {
             "line": {
              "color": "#E5ECF6",
              "width": 0.5
             },
             "pattern": {
              "fillmode": "overlay",
              "size": 10,
              "solidity": 0.2
             }
            },
            "type": "bar"
           }
          ],
          "barpolar": [
           {
            "marker": {
             "line": {
              "color": "#E5ECF6",
              "width": 0.5
             },
             "pattern": {
              "fillmode": "overlay",
              "size": 10,
              "solidity": 0.2
             }
            },
            "type": "barpolar"
           }
          ],
          "carpet": [
           {
            "aaxis": {
             "endlinecolor": "#2a3f5f",
             "gridcolor": "white",
             "linecolor": "white",
             "minorgridcolor": "white",
             "startlinecolor": "#2a3f5f"
            },
            "baxis": {
             "endlinecolor": "#2a3f5f",
             "gridcolor": "white",
             "linecolor": "white",
             "minorgridcolor": "white",
             "startlinecolor": "#2a3f5f"
            },
            "type": "carpet"
           }
          ],
          "choropleth": [
           {
            "colorbar": {
             "outlinewidth": 0,
             "ticks": ""
            },
            "type": "choropleth"
           }
          ],
          "contour": [
           {
            "colorbar": {
             "outlinewidth": 0,
             "ticks": ""
            },
            "colorscale": [
             [
              0,
              "#0d0887"
             ],
             [
              0.1111111111111111,
              "#46039f"
             ],
             [
              0.2222222222222222,
              "#7201a8"
             ],
             [
              0.3333333333333333,
              "#9c179e"
             ],
             [
              0.4444444444444444,
              "#bd3786"
             ],
             [
              0.5555555555555556,
              "#d8576b"
             ],
             [
              0.6666666666666666,
              "#ed7953"
             ],
             [
              0.7777777777777778,
              "#fb9f3a"
             ],
             [
              0.8888888888888888,
              "#fdca26"
             ],
             [
              1,
              "#f0f921"
             ]
            ],
            "type": "contour"
           }
          ],
          "contourcarpet": [
           {
            "colorbar": {
             "outlinewidth": 0,
             "ticks": ""
            },
            "type": "contourcarpet"
           }
          ],
          "heatmap": [
           {
            "colorbar": {
             "outlinewidth": 0,
             "ticks": ""
            },
            "colorscale": [
             [
              0,
              "#0d0887"
             ],
             [
              0.1111111111111111,
              "#46039f"
             ],
             [
              0.2222222222222222,
              "#7201a8"
             ],
             [
              0.3333333333333333,
              "#9c179e"
             ],
             [
              0.4444444444444444,
              "#bd3786"
             ],
             [
              0.5555555555555556,
              "#d8576b"
             ],
             [
              0.6666666666666666,
              "#ed7953"
             ],
             [
              0.7777777777777778,
              "#fb9f3a"
             ],
             [
              0.8888888888888888,
              "#fdca26"
             ],
             [
              1,
              "#f0f921"
             ]
            ],
            "type": "heatmap"
           }
          ],
          "heatmapgl": [
           {
            "colorbar": {
             "outlinewidth": 0,
             "ticks": ""
            },
            "colorscale": [
             [
              0,
              "#0d0887"
             ],
             [
              0.1111111111111111,
              "#46039f"
             ],
             [
              0.2222222222222222,
              "#7201a8"
             ],
             [
              0.3333333333333333,
              "#9c179e"
             ],
             [
              0.4444444444444444,
              "#bd3786"
             ],
             [
              0.5555555555555556,
              "#d8576b"
             ],
             [
              0.6666666666666666,
              "#ed7953"
             ],
             [
              0.7777777777777778,
              "#fb9f3a"
             ],
             [
              0.8888888888888888,
              "#fdca26"
             ],
             [
              1,
              "#f0f921"
             ]
            ],
            "type": "heatmapgl"
           }
          ],
          "histogram": [
           {
            "marker": {
             "pattern": {
              "fillmode": "overlay",
              "size": 10,
              "solidity": 0.2
             }
            },
            "type": "histogram"
           }
          ],
          "histogram2d": [
           {
            "colorbar": {
             "outlinewidth": 0,
             "ticks": ""
            },
            "colorscale": [
             [
              0,
              "#0d0887"
             ],
             [
              0.1111111111111111,
              "#46039f"
             ],
             [
              0.2222222222222222,
              "#7201a8"
             ],
             [
              0.3333333333333333,
              "#9c179e"
             ],
             [
              0.4444444444444444,
              "#bd3786"
             ],
             [
              0.5555555555555556,
              "#d8576b"
             ],
             [
              0.6666666666666666,
              "#ed7953"
             ],
             [
              0.7777777777777778,
              "#fb9f3a"
             ],
             [
              0.8888888888888888,
              "#fdca26"
             ],
             [
              1,
              "#f0f921"
             ]
            ],
            "type": "histogram2d"
           }
          ],
          "histogram2dcontour": [
           {
            "colorbar": {
             "outlinewidth": 0,
             "ticks": ""
            },
            "colorscale": [
             [
              0,
              "#0d0887"
             ],
             [
              0.1111111111111111,
              "#46039f"
             ],
             [
              0.2222222222222222,
              "#7201a8"
             ],
             [
              0.3333333333333333,
              "#9c179e"
             ],
             [
              0.4444444444444444,
              "#bd3786"
             ],
             [
              0.5555555555555556,
              "#d8576b"
             ],
             [
              0.6666666666666666,
              "#ed7953"
             ],
             [
              0.7777777777777778,
              "#fb9f3a"
             ],
             [
              0.8888888888888888,
              "#fdca26"
             ],
             [
              1,
              "#f0f921"
             ]
            ],
            "type": "histogram2dcontour"
           }
          ],
          "mesh3d": [
           {
            "colorbar": {
             "outlinewidth": 0,
             "ticks": ""
            },
            "type": "mesh3d"
           }
          ],
          "parcoords": [
           {
            "line": {
             "colorbar": {
              "outlinewidth": 0,
              "ticks": ""
             }
            },
            "type": "parcoords"
           }
          ],
          "pie": [
           {
            "automargin": true,
            "type": "pie"
           }
          ],
          "scatter": [
           {
            "fillpattern": {
             "fillmode": "overlay",
             "size": 10,
             "solidity": 0.2
            },
            "type": "scatter"
           }
          ],
          "scatter3d": [
           {
            "line": {
             "colorbar": {
              "outlinewidth": 0,
              "ticks": ""
             }
            },
            "marker": {
             "colorbar": {
              "outlinewidth": 0,
              "ticks": ""
             }
            },
            "type": "scatter3d"
           }
          ],
          "scattercarpet": [
           {
            "marker": {
             "colorbar": {
              "outlinewidth": 0,
              "ticks": ""
             }
            },
            "type": "scattercarpet"
           }
          ],
          "scattergeo": [
           {
            "marker": {
             "colorbar": {
              "outlinewidth": 0,
              "ticks": ""
             }
            },
            "type": "scattergeo"
           }
          ],
          "scattergl": [
           {
            "marker": {
             "colorbar": {
              "outlinewidth": 0,
              "ticks": ""
             }
            },
            "type": "scattergl"
           }
          ],
          "scattermapbox": [
           {
            "marker": {
             "colorbar": {
              "outlinewidth": 0,
              "ticks": ""
             }
            },
            "type": "scattermapbox"
           }
          ],
          "scatterpolar": [
           {
            "marker": {
             "colorbar": {
              "outlinewidth": 0,
              "ticks": ""
             }
            },
            "type": "scatterpolar"
           }
          ],
          "scatterpolargl": [
           {
            "marker": {
             "colorbar": {
              "outlinewidth": 0,
              "ticks": ""
             }
            },
            "type": "scatterpolargl"
           }
          ],
          "scatterternary": [
           {
            "marker": {
             "colorbar": {
              "outlinewidth": 0,
              "ticks": ""
             }
            },
            "type": "scatterternary"
           }
          ],
          "surface": [
           {
            "colorbar": {
             "outlinewidth": 0,
             "ticks": ""
            },
            "colorscale": [
             [
              0,
              "#0d0887"
             ],
             [
              0.1111111111111111,
              "#46039f"
             ],
             [
              0.2222222222222222,
              "#7201a8"
             ],
             [
              0.3333333333333333,
              "#9c179e"
             ],
             [
              0.4444444444444444,
              "#bd3786"
             ],
             [
              0.5555555555555556,
              "#d8576b"
             ],
             [
              0.6666666666666666,
              "#ed7953"
             ],
             [
              0.7777777777777778,
              "#fb9f3a"
             ],
             [
              0.8888888888888888,
              "#fdca26"
             ],
             [
              1,
              "#f0f921"
             ]
            ],
            "type": "surface"
           }
          ],
          "table": [
           {
            "cells": {
             "fill": {
              "color": "#EBF0F8"
             },
             "line": {
              "color": "white"
             }
            },
            "header": {
             "fill": {
              "color": "#C8D4E3"
             },
             "line": {
              "color": "white"
             }
            },
            "type": "table"
           }
          ]
         },
         "layout": {
          "annotationdefaults": {
           "arrowcolor": "#2a3f5f",
           "arrowhead": 0,
           "arrowwidth": 1
          },
          "autotypenumbers": "strict",
          "coloraxis": {
           "colorbar": {
            "outlinewidth": 0,
            "ticks": ""
           }
          },
          "colorscale": {
           "diverging": [
            [
             0,
             "#8e0152"
            ],
            [
             0.1,
             "#c51b7d"
            ],
            [
             0.2,
             "#de77ae"
            ],
            [
             0.3,
             "#f1b6da"
            ],
            [
             0.4,
             "#fde0ef"
            ],
            [
             0.5,
             "#f7f7f7"
            ],
            [
             0.6,
             "#e6f5d0"
            ],
            [
             0.7,
             "#b8e186"
            ],
            [
             0.8,
             "#7fbc41"
            ],
            [
             0.9,
             "#4d9221"
            ],
            [
             1,
             "#276419"
            ]
           ],
           "sequential": [
            [
             0,
             "#0d0887"
            ],
            [
             0.1111111111111111,
             "#46039f"
            ],
            [
             0.2222222222222222,
             "#7201a8"
            ],
            [
             0.3333333333333333,
             "#9c179e"
            ],
            [
             0.4444444444444444,
             "#bd3786"
            ],
            [
             0.5555555555555556,
             "#d8576b"
            ],
            [
             0.6666666666666666,
             "#ed7953"
            ],
            [
             0.7777777777777778,
             "#fb9f3a"
            ],
            [
             0.8888888888888888,
             "#fdca26"
            ],
            [
             1,
             "#f0f921"
            ]
           ],
           "sequentialminus": [
            [
             0,
             "#0d0887"
            ],
            [
             0.1111111111111111,
             "#46039f"
            ],
            [
             0.2222222222222222,
             "#7201a8"
            ],
            [
             0.3333333333333333,
             "#9c179e"
            ],
            [
             0.4444444444444444,
             "#bd3786"
            ],
            [
             0.5555555555555556,
             "#d8576b"
            ],
            [
             0.6666666666666666,
             "#ed7953"
            ],
            [
             0.7777777777777778,
             "#fb9f3a"
            ],
            [
             0.8888888888888888,
             "#fdca26"
            ],
            [
             1,
             "#f0f921"
            ]
           ]
          },
          "colorway": [
           "#636efa",
           "#EF553B",
           "#00cc96",
           "#ab63fa",
           "#FFA15A",
           "#19d3f3",
           "#FF6692",
           "#B6E880",
           "#FF97FF",
           "#FECB52"
          ],
          "font": {
           "color": "#2a3f5f"
          },
          "geo": {
           "bgcolor": "white",
           "lakecolor": "white",
           "landcolor": "#E5ECF6",
           "showlakes": true,
           "showland": true,
           "subunitcolor": "white"
          },
          "hoverlabel": {
           "align": "left"
          },
          "hovermode": "closest",
          "mapbox": {
           "style": "light"
          },
          "paper_bgcolor": "white",
          "plot_bgcolor": "#E5ECF6",
          "polar": {
           "angularaxis": {
            "gridcolor": "white",
            "linecolor": "white",
            "ticks": ""
           },
           "bgcolor": "#E5ECF6",
           "radialaxis": {
            "gridcolor": "white",
            "linecolor": "white",
            "ticks": ""
           }
          },
          "scene": {
           "xaxis": {
            "backgroundcolor": "#E5ECF6",
            "gridcolor": "white",
            "gridwidth": 2,
            "linecolor": "white",
            "showbackground": true,
            "ticks": "",
            "zerolinecolor": "white"
           },
           "yaxis": {
            "backgroundcolor": "#E5ECF6",
            "gridcolor": "white",
            "gridwidth": 2,
            "linecolor": "white",
            "showbackground": true,
            "ticks": "",
            "zerolinecolor": "white"
           },
           "zaxis": {
            "backgroundcolor": "#E5ECF6",
            "gridcolor": "white",
            "gridwidth": 2,
            "linecolor": "white",
            "showbackground": true,
            "ticks": "",
            "zerolinecolor": "white"
           }
          },
          "shapedefaults": {
           "line": {
            "color": "#2a3f5f"
           }
          },
          "ternary": {
           "aaxis": {
            "gridcolor": "white",
            "linecolor": "white",
            "ticks": ""
           },
           "baxis": {
            "gridcolor": "white",
            "linecolor": "white",
            "ticks": ""
           },
           "bgcolor": "#E5ECF6",
           "caxis": {
            "gridcolor": "white",
            "linecolor": "white",
            "ticks": ""
           }
          },
          "title": {
           "x": 0.05
          },
          "xaxis": {
           "automargin": true,
           "gridcolor": "white",
           "linecolor": "white",
           "ticks": "",
           "title": {
            "standoff": 15
           },
           "zerolinecolor": "white",
           "zerolinewidth": 2
          },
          "yaxis": {
           "automargin": true,
           "gridcolor": "white",
           "linecolor": "white",
           "ticks": "",
           "title": {
            "standoff": 15
           },
           "zerolinecolor": "white",
           "zerolinewidth": 2
          }
         }
        }
       }
      }
     },
     "metadata": {},
     "output_type": "display_data"
    }
   ],
   "source": [
    "fig = px.scatter_3d(gapminder,\n",
    "                    x='year',y='continent',z='pop',\n",
    "                    size='gdpPercap',color='lifeExp',hover_data=['country'],\n",
    "                    )\n",
    "fig.update_layout(scene_zaxis_type='log')\n",
    "fig.show()"
   ]
  },
  {
   "cell_type": "markdown",
   "metadata": {},
   "source": [
    "### 기타 차트\n",
    "\n",
    "* 간트 차트(Gantt Charts): https://plotly.com/python/gantt/\n",
    "* 테이블(Tables): https://plotly.com/python/table/\n",
    "* 생키 다이어그램(Sankey Diagram): https://plotly.com/python/sankey-diagram/\n",
    "* 트리맵(Treemap): https://plotly.com/python/treemaps/\n",
    "* 트리플롯(Tree-plots): https://plotly.com/python/tree-plots/\n",
    "* 3차 플롯(Ternary Plots): https://plotly.com/python/ternary-plots/\n",
    "* 3차 오버레이(Ternary Overlay): https://plotly.com/python/ternary-scatter-contour/\n",
    "* 3차 등고선(Ternary Contours): https://plotly.com/python/ternary-contour/\n",
    "* 이미지쇼(Image Show): https://plotly.com/python/imshow/\n",
    "* Quiver Plots: https://plotly.com/python/quiver-plots/\n",
    "* 스트림라인 플롯(Streamline Plots): https://plotly.com/python/streamline-plots/\n",
    "* 카펫 플롯(Carpet Plots): https://plotly.com/python/carpet-plot/\n",
    "* 카펫 등고선(Carpet Contour Plot): https://plotly.com/python/carpet-contour/\n",
    "* 카펫 산점도(Carpet Scatter Plot): https://plotly.com/python/carpet-scatter/\n",
    "* 네트워크 그래프(Network Graphs): https://plotly.com/python/network-graphs/\n",
    "* 깔대기 차트(Funnel Chart): https://plotly.com/python/funnel-charts/\n",
    "* 등고선 플롯(Contour Plot): https://plotly.com/python/contour-plots/\n",
    "* 2D 히스토그램 등고선(2D Histogram Contour): https://plotly.com/python/2d-histogram-contour/\n",
    "* Trisurf Plots: https://plotly.com/python/trisurf/\n",
    "* 3D Mesh Plots: https://plotly.com/python/3d-mesh/\n",
    "* 3D Isosurface Plots: https://plotly.com/python/3d-isosurface-plots/\n",
    "* 3D Volume Plots: https://plotly.com/python/3d-volume-plots/\n",
    "* 3D Cone Plots: https://plotly.com/python/cone-plot/\n",
    "* 3D Streamtube Plots: https://plotly.com/python/streamtube-plot/\n",
    "* 3D Camera Controls: https://plotly.com/python/3d-camera-controls/"
   ]
  }
 ],
 "metadata": {
  "kernelspec": {
   "display_name": "pytorch_cuda_11_8",
   "language": "python",
   "name": "python3"
  },
  "language_info": {
   "codemirror_mode": {
    "name": "ipython",
    "version": 3
   },
   "file_extension": ".py",
   "mimetype": "text/x-python",
   "name": "python",
   "nbconvert_exporter": "python",
   "pygments_lexer": "ipython3",
   "version": "3.9.18"
  }
 },
 "nbformat": 4,
 "nbformat_minor": 2
}
